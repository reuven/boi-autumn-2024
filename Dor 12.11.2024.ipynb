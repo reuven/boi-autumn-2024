{
 "cells": [
  {
   "cell_type": "code",
   "execution_count": 4,
   "id": "28ebb11f",
   "metadata": {},
   "outputs": [
    {
     "ename": "TypeError",
     "evalue": "unsupported operand type(s) for &: 'int' and 'str'",
     "output_type": "error",
     "traceback": [
      "\u001b[0;31m---------------------------------------------------------------------------\u001b[0m",
      "\u001b[0;31mTypeError\u001b[0m                                 Traceback (most recent call last)",
      "Cell \u001b[0;32mIn[4], line 1\u001b[0m\n\u001b[0;32m----> 1\u001b[0m \u001b[38;5;28mprint\u001b[39m(\u001b[38;5;241;43m5\u001b[39;49m\u001b[38;5;241;43m&\u001b[39;49m\u001b[38;5;124;43m'\u001b[39;49m\u001b[38;5;124;43mhello\u001b[39;49m\u001b[38;5;124;43m'\u001b[39;49m)\n",
      "\u001b[0;31mTypeError\u001b[0m: unsupported operand type(s) for &: 'int' and 'str'"
     ]
    }
   ],
   "source": [
    "print(5&'hello')"
   ]
  },
  {
   "cell_type": "code",
   "execution_count": 5,
   "id": "67db169d",
   "metadata": {
    "scrolled": true
   },
   "outputs": [
    {
     "ename": "TypeError",
     "evalue": "unsupported operand type(s) for +: 'int' and 'str'",
     "output_type": "error",
     "traceback": [
      "\u001b[0;31m---------------------------------------------------------------------------\u001b[0m",
      "\u001b[0;31mTypeError\u001b[0m                                 Traceback (most recent call last)",
      "Cell \u001b[0;32mIn[5], line 1\u001b[0m\n\u001b[0;32m----> 1\u001b[0m \u001b[38;5;28mprint\u001b[39m (\u001b[38;5;241;43m5\u001b[39;49m\u001b[38;5;241;43m+\u001b[39;49m\u001b[38;5;241;43m10\u001b[39;49m\u001b[43m \u001b[49m\u001b[38;5;241;43m+\u001b[39;49m\u001b[43m \u001b[49m\u001b[38;5;124;43m'\u001b[39;49m\u001b[38;5;124;43m hello\u001b[39;49m\u001b[38;5;124;43m'\u001b[39;49m)\n",
      "\u001b[0;31mTypeError\u001b[0m: unsupported operand type(s) for +: 'int' and 'str'"
     ]
    }
   ],
   "source": [
    "print (5+10 + ' hello')"
   ]
  },
  {
   "cell_type": "code",
   "execution_count": 6,
   "id": "62c7761b",
   "metadata": {
    "scrolled": true
   },
   "outputs": [
    {
     "name": "stdout",
     "output_type": "stream",
     "text": [
      "Hello Python\n"
     ]
    }
   ],
   "source": [
    "print('Hello Python')"
   ]
  },
  {
   "cell_type": "raw",
   "id": "c40936b9",
   "metadata": {},
   "source": [
    "print('please assign your name to variable x and a city to variable y')\n",
    "x='Dor'\n",
    "y='Jerusalem'\n",
    "print('Hello ' + x + ', Welcome to ' + y)"
   ]
  },
  {
   "cell_type": "code",
   "execution_count": 8,
   "id": "4ce4d742",
   "metadata": {},
   "outputs": [
    {
     "name": "stdout",
     "output_type": "stream",
     "text": [
      "Enter your Name: Dor\n",
      "Enter your Name: Jerusalem\n",
      "Hello Dor, Welcome to Jerusalem\n"
     ]
    }
   ],
   "source": [
    "x=input('Enter your Name: ')\n",
    "y=input('Enter your Name: ')\n",
    "print('Hello ' + x + ', Welcome to ' + y)"
   ]
  },
  {
   "cell_type": "code",
   "execution_count": 9,
   "id": "e0b318f4",
   "metadata": {},
   "outputs": [
    {
     "name": "stdout",
     "output_type": "stream",
     "text": [
      "Hello Dor, Welcome to Jerusalem\n"
     ]
    }
   ],
   "source": [
    "print(f'Hello {x}, Welcome to {y}')"
   ]
  },
  {
   "cell_type": "code",
   "execution_count": 10,
   "id": "a0588e79",
   "metadata": {},
   "outputs": [
    {
     "name": "stdout",
     "output_type": "stream",
     "text": [
      "Hi, what is your name?Dor\n"
     ]
    }
   ],
   "source": [
    "name=input('Hi, what is your name?')"
   ]
  },
  {
   "cell_type": "code",
   "execution_count": 11,
   "id": "49053097",
   "metadata": {},
   "outputs": [
    {
     "ename": "SyntaxError",
     "evalue": "invalid syntax (3920517076.py, line 4)",
     "output_type": "error",
     "traceback": [
      "\u001b[0;36m  Cell \u001b[0;32mIn[11], line 4\u001b[0;36m\u001b[0m\n\u001b[0;31m    Else:\u001b[0m\n\u001b[0m         ^\u001b[0m\n\u001b[0;31mSyntaxError\u001b[0m\u001b[0;31m:\u001b[0m invalid syntax\n"
     ]
    }
   ],
   "source": [
    "name=input('Hi, what is your name?')\n",
    "if name=='Dor':\n",
    "    print ('You are the best!')\n",
    "Else:\n",
    "    print(f'Nice to meet you {name}')"
   ]
  },
  {
   "cell_type": "code",
   "execution_count": null,
   "id": "8d083c5b",
   "metadata": {},
   "outputs": [],
   "source": [
    "name=input('Hi, what is your name?')\n",
    "if name=='Dor':\n",
    "    print ('You are the best!')\n",
    "Else:\n",
    "    print(f'Nice to meet you {name}')\n",
    "end if"
   ]
  },
  {
   "cell_type": "code",
   "execution_count": 12,
   "id": "e628e11d",
   "metadata": {},
   "outputs": [
    {
     "ename": "SyntaxError",
     "evalue": "invalid syntax (3920517076.py, line 4)",
     "output_type": "error",
     "traceback": [
      "\u001b[0;36m  Cell \u001b[0;32mIn[12], line 4\u001b[0;36m\u001b[0m\n\u001b[0;31m    Else:\u001b[0m\n\u001b[0m         ^\u001b[0m\n\u001b[0;31mSyntaxError\u001b[0m\u001b[0;31m:\u001b[0m invalid syntax\n"
     ]
    }
   ],
   "source": [
    "name=input('Hi, what is your name?')\n",
    "if name=='Dor':\n",
    "    print ('You are the best!')\n",
    "Else:\n",
    "    print(f'Nice to meet you {name}')"
   ]
  },
  {
   "cell_type": "code",
   "execution_count": 13,
   "id": "a498b244",
   "metadata": {},
   "outputs": [
    {
     "name": "stdout",
     "output_type": "stream",
     "text": [
      "Hi, what is your name?Dor\n",
      "You are the best!\n"
     ]
    }
   ],
   "source": [
    "name=input('Hi, what is your name?')\n",
    "if name=='Dor':\n",
    "    print ('You are the best!')\n",
    "else:\n",
    "    print(f'Nice to meet you {name}')"
   ]
  },
  {
   "cell_type": "code",
   "execution_count": 14,
   "id": "4999e65b",
   "metadata": {},
   "outputs": [
    {
     "name": "stdout",
     "output_type": "stream",
     "text": [
      "Hi, what is your name?Kevin\n",
      "Nice to meet you Kevin\n"
     ]
    }
   ],
   "source": [
    "name=input('Hi, what is your name?')\n",
    "if name=='Dor':\n",
    "    print ('You are the best!')\n",
    "else:\n",
    "    print(f'Nice to meet you {name}')"
   ]
  },
  {
   "cell_type": "code",
   "execution_count": 17,
   "id": "4bc8621f",
   "metadata": {},
   "outputs": [
    {
     "name": "stdout",
     "output_type": "stream",
     "text": [
      "please enter a word:\n",
      "please enter another word:\n",
      "you chose the same word, you sneaky bastard\n"
     ]
    }
   ],
   "source": [
    "word1=input('please enter a word:')\n",
    "word2=input('please enter another word:')\n",
    "if word1>word2:\n",
    "    print(f'{word1} comes before {word2}')\n",
    "elif word2>word1:\n",
    "    print(f'{word2} comes before {word1}')\n",
    "else:\n",
    "    print('you chose the same word, you sneaky bastard')"
   ]
  },
  {
   "cell_type": "code",
   "execution_count": 21,
   "id": "093f6266",
   "metadata": {},
   "outputs": [
    {
     "name": "stdout",
     "output_type": "stream",
     "text": [
      "please enter your name:Eli\n",
      "Hello Eli, where do you live?Jerusalem\n",
      "Okay, nice to meet you\n"
     ]
    }
   ],
   "source": [
    "name=input('please enter your name:')\n",
    "city=input(f'Hello {name}, where do you live?')\n",
    "if name=='Dor' and city=='Modiin':\n",
    "    print(\"Hi, I'm Also Dor and I also Live in Modiin\")\n",
    "elif name=='Dor':\n",
    "    print(\"Hi, I'm Also Dor\")\n",
    "elif city==\"Modiin\":\n",
    "    print ('Wow, I also live in Modiin')\n",
    "else:\n",
    "    print ('Okay, nice to meet you')"
   ]
  },
  {
   "cell_type": "code",
   "execution_count": 22,
   "id": "20ba5b49",
   "metadata": {},
   "outputs": [
    {
     "name": "stdout",
     "output_type": "stream",
     "text": [
      "guess the number44\n"
     ]
    },
    {
     "ename": "TypeError",
     "evalue": "'>' not supported between instances of 'str' and 'int'",
     "output_type": "error",
     "traceback": [
      "\u001b[0;31m---------------------------------------------------------------------------\u001b[0m",
      "\u001b[0;31mTypeError\u001b[0m                                 Traceback (most recent call last)",
      "Cell \u001b[0;32mIn[22], line 3\u001b[0m\n\u001b[1;32m      1\u001b[0m secret\u001b[38;5;241m=\u001b[39m\u001b[38;5;241m52\u001b[39m\n\u001b[1;32m      2\u001b[0m guess\u001b[38;5;241m=\u001b[39m\u001b[38;5;28minput\u001b[39m(\u001b[38;5;124m'\u001b[39m\u001b[38;5;124mguess the number\u001b[39m\u001b[38;5;124m'\u001b[39m)\n\u001b[0;32m----> 3\u001b[0m \u001b[38;5;28;01mif\u001b[39;00m \u001b[43mguess\u001b[49m\u001b[38;5;241;43m>\u001b[39;49m\u001b[43msecret\u001b[49m:\n\u001b[1;32m      4\u001b[0m     \u001b[38;5;28mprint\u001b[39m(\u001b[38;5;124mf\u001b[39m\u001b[38;5;124m'\u001b[39m\u001b[38;5;124mthe number is lower\u001b[39m\u001b[38;5;124m'\u001b[39m)\n\u001b[1;32m      5\u001b[0m \u001b[38;5;28;01melif\u001b[39;00m guess\u001b[38;5;241m<\u001b[39msecret:\n",
      "\u001b[0;31mTypeError\u001b[0m: '>' not supported between instances of 'str' and 'int'"
     ]
    }
   ],
   "source": [
    "secret=52\n",
    "guess=input('guess the number')\n",
    "if guess>secret:\n",
    "    print(f'the number is lower')\n",
    "elif guess<secret:\n",
    "    print(f'the number is higher')\n",
    "else:\n",
    "    print(\"you Guessed it!\")\n",
    "    "
   ]
  },
  {
   "cell_type": "code",
   "execution_count": 23,
   "id": "01c0f924",
   "metadata": {},
   "outputs": [
    {
     "name": "stdout",
     "output_type": "stream",
     "text": [
      "guess the number44\n",
      "the number is higher\n"
     ]
    }
   ],
   "source": [
    "secret=52\n",
    "guess=input('guess the number')\n",
    "if int(guess)>secret:\n",
    "    print(f'the number is lower')\n",
    "elif int(guess)<secret:\n",
    "    print(f'the number is higher')\n",
    "else:\n",
    "    print(\"you Guessed it!\")"
   ]
  },
  {
   "cell_type": "code",
   "execution_count": 24,
   "id": "01410305",
   "metadata": {},
   "outputs": [
    {
     "name": "stdout",
     "output_type": "stream",
     "text": [
      "guess the number55\n",
      "the number is lower\n"
     ]
    }
   ],
   "source": [
    "secret=52\n",
    "guess=input('guess the number')\n",
    "if int(guess)>secret:\n",
    "    print(f'the number is lower')\n",
    "elif int(guess)<secret:\n",
    "    print(f'the number is higher')\n",
    "else:\n",
    "    print(\"you Guessed it!\")"
   ]
  },
  {
   "cell_type": "code",
   "execution_count": 25,
   "id": "4eab862a",
   "metadata": {},
   "outputs": [
    {
     "name": "stdout",
     "output_type": "stream",
     "text": [
      "guess the number52\n",
      "you Guessed it!\n"
     ]
    }
   ],
   "source": [
    "secret=52\n",
    "guess=input('guess the number')\n",
    "if int(guess)>secret:\n",
    "    print(f'the number is lower')\n",
    "elif int(guess)<secret:\n",
    "    print(f'the number is higher')\n",
    "else:\n",
    "    print(\"you Guessed it!\")"
   ]
  },
  {
   "cell_type": "code",
   "execution_count": 27,
   "id": "cb1c6fe7",
   "metadata": {
    "scrolled": true
   },
   "outputs": [
    {
     "data": {
      "text/plain": [
       "True"
      ]
     },
     "execution_count": 27,
     "metadata": {},
     "output_type": "execute_result"
    }
   ],
   "source": [
    "'dor'==\"dor\""
   ]
  },
  {
   "cell_type": "code",
   "execution_count": 54,
   "id": "69d7c1f5",
   "metadata": {},
   "outputs": [
    {
     "name": "stdout",
     "output_type": "stream",
     "text": [
      "input a word: apple\n",
      "wayapple\n"
     ]
    }
   ],
   "source": [
    "word1=input('input a word: ')\n",
    "if word1[0]=='a' or 'e' or 'i' or 'o' or 'u':\n",
    "    print (f'way{word1}')\n",
    "else:\n",
    "    print(f'{word1[1:]}{word1[0]}ay')"
   ]
  },
  {
   "cell_type": "code",
   "execution_count": 55,
   "id": "3ed5a1a6",
   "metadata": {},
   "outputs": [
    {
     "name": "stdout",
     "output_type": "stream",
     "text": [
      "input a word: table\n",
      "abletay\n"
     ]
    }
   ],
   "source": [
    "word1=input('input a word: ')\n",
    "if word1[0]=='a' or word1[0]=='e' or word1[0]=='i' or word1[0]=='o' or word1[0]=='u':\n",
    "    print (f'way{word1}')\n",
    "else:\n",
    "    print(f'{word1[1:]}{word1[0]}ay')"
   ]
  },
  {
   "cell_type": "code",
   "execution_count": 57,
   "id": "147a7a4b",
   "metadata": {},
   "outputs": [
    {
     "name": "stdout",
     "output_type": "stream",
     "text": [
      "input a word: table\n",
      "abletay\n"
     ]
    }
   ],
   "source": [
    "word1=input('input a word: ')\n",
    "if word1[0] in 'aeiou':\n",
    "    print (f'way{word1}')\n",
    "else:\n",
    "    print(f'{word1[1:]}{word1[0]}ay')"
   ]
  },
  {
   "cell_type": "code",
   "execution_count": null,
   "id": "18274a1d",
   "metadata": {},
   "outputs": [],
   "source": [
    "secret=52\n",
    "guess=input('guess the number')\n",
    "if guess.isdigit():\n",
    "    guess=int(guess)\n",
    "    if guess>secret:\n",
    "        print(f'the number is lower')\n",
    "    elif guess<secret:\n",
    "        print(f'the number is higher')\n",
    "    else:\n",
    "        print(\"you Guessed it!\")\n",
    "else:\n",
    "    print(f'{guess} is not numeric')"
   ]
  },
  {
   "cell_type": "markdown",
   "id": "9877e351",
   "metadata": {},
   "source": [
    "word=input('choose a word: ')\n",
    "i=input('choose an index: ')\n",
    "if i.isdigit():\n",
    "    i=int(i)\n",
    "    if i<=0 or i>len(word):\n",
    "        print('the number is too high or too low')\n",
    "    else: print({word[i-1]})\n",
    "else:\n",
    "    print(f'your index {i} is not numeric')"
   ]
  },
  {
   "cell_type": "code",
   "execution_count": 3,
   "id": "c8e5ebb9",
   "metadata": {},
   "outputs": [
    {
     "name": "stdout",
     "output_type": "stream",
     "text": [
      "a\n",
      "b\n",
      "c\n",
      "d\n"
     ]
    }
   ],
   "source": [
    "s='abcd'\n",
    "for one_character in s:\n",
    "    print (one_character)\n",
    "    "
   ]
  },
  {
   "cell_type": "code",
   "execution_count": null,
   "id": "9ec83b32",
   "metadata": {},
   "outputs": [],
   "source": []
  },
  {
   "cell_type": "code",
   "execution_count": 2,
   "id": "edc83a9b",
   "metadata": {},
   "outputs": [
    {
     "data": {
      "text/plain": [
       "'b'"
      ]
     },
     "execution_count": 2,
     "metadata": {},
     "output_type": "execute_result"
    }
   ],
   "source": [
    "s[1]"
   ]
  },
  {
   "cell_type": "code",
   "execution_count": 4,
   "id": "467df812",
   "metadata": {},
   "outputs": [
    {
     "name": "stdout",
     "output_type": "stream",
     "text": [
      "a\n",
      "b\n",
      "c\n",
      "d\n"
     ]
    }
   ],
   "source": [
    "s='abcd'\n",
    "for each_character in s:\n",
    "    print (each_character)"
   ]
  },
  {
   "cell_type": "code",
   "execution_count": 5,
   "id": "2b7442a0",
   "metadata": {},
   "outputs": [
    {
     "name": "stdout",
     "output_type": "stream",
     "text": [
      "Hooray\n",
      "Hooray\n",
      "Hooray\n"
     ]
    }
   ],
   "source": [
    "for counter in range(3):\n",
    "    print('Hooray')"
   ]
  },
  {
   "cell_type": "code",
   "execution_count": 6,
   "id": "d755cd14",
   "metadata": {},
   "outputs": [
    {
     "ename": "SyntaxError",
     "evalue": "invalid syntax (1297266206.py, line 1)",
     "output_type": "error",
     "traceback": [
      "\u001b[0;36m  Cell \u001b[0;32mIn[6], line 1\u001b[0;36m\u001b[0m\n\u001b[0;31m    for counter=1:3:\u001b[0m\n\u001b[0m               ^\u001b[0m\n\u001b[0;31mSyntaxError\u001b[0m\u001b[0;31m:\u001b[0m invalid syntax\n"
     ]
    }
   ],
   "source": [
    "for counter=1:3:\n",
    "    print('Hooray')"
   ]
  },
  {
   "cell_type": "code",
   "execution_count": 18,
   "id": "2f382d77",
   "metadata": {},
   "outputs": [
    {
     "name": "stdout",
     "output_type": "stream",
     "text": [
      "enter a text: this text has 23 characters\n",
      "6 vowels in your text\n",
      "2 digits in your text\n",
      "19 other characters in your text\n"
     ]
    }
   ],
   "source": [
    "vowel ='aoiue'\n",
    "vowels=0\n",
    "digits=0\n",
    "other=0\n",
    "text1=input('enter a text: ')\n",
    "for one_character in text1:\n",
    "    if one_character.isdigit():\n",
    "        digits+=1                #similar to digits=digits+1\n",
    "    elif one_character in vowel:\n",
    "        vowels+=+1\n",
    "    else: other+=1\n",
    "print(f'{vowels} vowels in your text')\n",
    "print(f'{digits} digits in your text')\n",
    "print(f'{other} other characters in your text')"
   ]
  },
  {
   "cell_type": "code",
   "execution_count": 22,
   "id": "646b8c54",
   "metadata": {},
   "outputs": [
    {
     "name": "stdout",
     "output_type": "stream",
     "text": [
      "enter a text: example text 44\n",
      "['e', 'a', 'e', 'e']\n",
      "['4', '4']\n",
      "['x', 'm', 'p', 'l', ' ', 't', 'x', 't', ' ']\n"
     ]
    }
   ],
   "source": [
    "vowel='aoiue'\n",
    "vowels=[]\n",
    "digits=[]\n",
    "others=[]\n",
    "text1=input('enter a text: ')\n",
    "for one_character in text1:\n",
    "    if one_character.isdigit():\n",
    "        digits.append (one_character)\n",
    "    elif one_character in vowel:\n",
    "        vowels.append(one_character)\n",
    "    else: others.append(one_character)\n",
    "print(vowels)\n",
    "print(digits)\n",
    "print(others)\n"
   ]
  },
  {
   "cell_type": "code",
   "execution_count": 36,
   "id": "e633ada7",
   "metadata": {},
   "outputs": [
    {
     "name": "stdout",
     "output_type": "stream",
     "text": [
      "What city you would like to log?tlv\n",
      "how much rain did fall?2\n",
      "What city you would like to log?tlv\n",
      "how much rain did fall?4\n",
      "What city you would like to log?\n",
      "{'tlv': 6}\n"
     ]
    }
   ],
   "source": [
    "rainfall={}\n",
    "\n",
    "while True:\n",
    "    city=input('What city you would like to log?').strip()\n",
    "    if city==\"\":\n",
    "        break\n",
    "    rain=int(input('how much rain did fall?').strip())\n",
    "    if city in rainfall:\n",
    "        rainfall[city]+=rain\n",
    "    else:\n",
    "        rainfall[city]=rain\n",
    "\n",
    "print(rainfall)"
   ]
  },
  {
   "cell_type": "code",
   "execution_count": 62,
   "id": "b85a36ea",
   "metadata": {},
   "outputs": [
    {
     "name": "stdout",
     "output_type": "stream",
     "text": [
      "please input file name:wcfile.txt\n",
      "number of lines in the file is 11\n",
      "number of words in this file is 28\n",
      "number of characters in this file is 165\n"
     ]
    }
   ],
   "source": [
    "lines=0\n",
    "chars=0\n",
    "words=0\n",
    "filename=open(input('please input file name:').strip())\n",
    "for one_line in filename:\n",
    "    lines+=1\n",
    "    chars+=len(one_line)\n",
    "    words+=len(one_line.split())\n",
    "\n",
    "print(f'number of lines in the file is {lines}')\n",
    "print(f'number of words in this file is {words}')\n",
    "print(f'number of characters in this file is {chars}')"
   ]
  },
  {
   "cell_type": "code",
   "execution_count": 77,
   "id": "fcb7ff71",
   "metadata": {
    "scrolled": false
   },
   "outputs": [
    {
     "name": "stdout",
     "output_type": "stream",
     "text": [
      "Guess a number from 1-100: 33\n",
      "your guess is too low. try again\n"
     ]
    },
    {
     "ename": "KeyboardInterrupt",
     "evalue": "Interrupted by user",
     "output_type": "error",
     "traceback": [
      "\u001b[0;31m---------------------------------------------------------------------------\u001b[0m",
      "\u001b[0;31mKeyboardInterrupt\u001b[0m                         Traceback (most recent call last)",
      "Cell \u001b[0;32mIn[77], line 4\u001b[0m\n\u001b[1;32m      2\u001b[0m number\u001b[38;5;241m=\u001b[39mrandom\u001b[38;5;241m.\u001b[39mrandint(\u001b[38;5;241m1\u001b[39m,\u001b[38;5;241m100\u001b[39m)\n\u001b[1;32m      3\u001b[0m \u001b[38;5;28;01mwhile\u001b[39;00m \u001b[38;5;28;01mTrue\u001b[39;00m:\n\u001b[0;32m----> 4\u001b[0m     guess\u001b[38;5;241m=\u001b[39m\u001b[38;5;28;43minput\u001b[39;49m\u001b[43m(\u001b[49m\u001b[38;5;124;43m'\u001b[39;49m\u001b[38;5;124;43mGuess a number from 1-100: \u001b[39;49m\u001b[38;5;124;43m'\u001b[39;49m\u001b[43m)\u001b[49m\u001b[38;5;241m.\u001b[39mstrip()\n\u001b[1;32m      5\u001b[0m     guess\u001b[38;5;241m=\u001b[39m\u001b[38;5;28mint\u001b[39m(guess)\n\u001b[1;32m      6\u001b[0m     \u001b[38;5;28;01mif\u001b[39;00m guess\u001b[38;5;241m==\u001b[39mnumber:\n",
      "File \u001b[0;32m/usr/lib/python3/dist-packages/ipykernel/kernelbase.py:1282\u001b[0m, in \u001b[0;36mKernel.raw_input\u001b[0;34m(self, prompt)\u001b[0m\n\u001b[1;32m   1280\u001b[0m     msg \u001b[38;5;241m=\u001b[39m \u001b[38;5;124m\"\u001b[39m\u001b[38;5;124mraw_input was called, but this frontend does not support input requests.\u001b[39m\u001b[38;5;124m\"\u001b[39m\n\u001b[1;32m   1281\u001b[0m     \u001b[38;5;28;01mraise\u001b[39;00m StdinNotImplementedError(msg)\n\u001b[0;32m-> 1282\u001b[0m \u001b[38;5;28;01mreturn\u001b[39;00m \u001b[38;5;28;43mself\u001b[39;49m\u001b[38;5;241;43m.\u001b[39;49m\u001b[43m_input_request\u001b[49m\u001b[43m(\u001b[49m\n\u001b[1;32m   1283\u001b[0m \u001b[43m    \u001b[49m\u001b[38;5;28;43mstr\u001b[39;49m\u001b[43m(\u001b[49m\u001b[43mprompt\u001b[49m\u001b[43m)\u001b[49m\u001b[43m,\u001b[49m\n\u001b[1;32m   1284\u001b[0m \u001b[43m    \u001b[49m\u001b[38;5;28;43mself\u001b[39;49m\u001b[38;5;241;43m.\u001b[39;49m\u001b[43m_parent_ident\u001b[49m\u001b[43m[\u001b[49m\u001b[38;5;124;43m\"\u001b[39;49m\u001b[38;5;124;43mshell\u001b[39;49m\u001b[38;5;124;43m\"\u001b[39;49m\u001b[43m]\u001b[49m\u001b[43m,\u001b[49m\n\u001b[1;32m   1285\u001b[0m \u001b[43m    \u001b[49m\u001b[38;5;28;43mself\u001b[39;49m\u001b[38;5;241;43m.\u001b[39;49m\u001b[43mget_parent\u001b[49m\u001b[43m(\u001b[49m\u001b[38;5;124;43m\"\u001b[39;49m\u001b[38;5;124;43mshell\u001b[39;49m\u001b[38;5;124;43m\"\u001b[39;49m\u001b[43m)\u001b[49m\u001b[43m,\u001b[49m\n\u001b[1;32m   1286\u001b[0m \u001b[43m    \u001b[49m\u001b[43mpassword\u001b[49m\u001b[38;5;241;43m=\u001b[39;49m\u001b[38;5;28;43;01mFalse\u001b[39;49;00m\u001b[43m,\u001b[49m\n\u001b[1;32m   1287\u001b[0m \u001b[43m\u001b[49m\u001b[43m)\u001b[49m\n",
      "File \u001b[0;32m/usr/lib/python3/dist-packages/ipykernel/kernelbase.py:1325\u001b[0m, in \u001b[0;36mKernel._input_request\u001b[0;34m(self, prompt, ident, parent, password)\u001b[0m\n\u001b[1;32m   1322\u001b[0m \u001b[38;5;28;01mexcept\u001b[39;00m \u001b[38;5;167;01mKeyboardInterrupt\u001b[39;00m:\n\u001b[1;32m   1323\u001b[0m     \u001b[38;5;66;03m# re-raise KeyboardInterrupt, to truncate traceback\u001b[39;00m\n\u001b[1;32m   1324\u001b[0m     msg \u001b[38;5;241m=\u001b[39m \u001b[38;5;124m\"\u001b[39m\u001b[38;5;124mInterrupted by user\u001b[39m\u001b[38;5;124m\"\u001b[39m\n\u001b[0;32m-> 1325\u001b[0m     \u001b[38;5;28;01mraise\u001b[39;00m \u001b[38;5;167;01mKeyboardInterrupt\u001b[39;00m(msg) \u001b[38;5;28;01mfrom\u001b[39;00m \u001b[38;5;28;01mNone\u001b[39;00m\n\u001b[1;32m   1326\u001b[0m \u001b[38;5;28;01mexcept\u001b[39;00m \u001b[38;5;167;01mException\u001b[39;00m:\n\u001b[1;32m   1327\u001b[0m     \u001b[38;5;28mself\u001b[39m\u001b[38;5;241m.\u001b[39mlog\u001b[38;5;241m.\u001b[39mwarning(\u001b[38;5;124m\"\u001b[39m\u001b[38;5;124mInvalid Message:\u001b[39m\u001b[38;5;124m\"\u001b[39m, exc_info\u001b[38;5;241m=\u001b[39m\u001b[38;5;28;01mTrue\u001b[39;00m)\n",
      "\u001b[0;31mKeyboardInterrupt\u001b[0m: Interrupted by user"
     ]
    }
   ],
   "source": [
    "import random\n",
    "number=random.randint(1,100)\n",
    "while True:\n",
    "    guess=input('Guess a number from 1-100: ').strip()\n",
    "    if not guess.isdigit():\n",
    "        \n",
    "    guess=int(guess)\n",
    "    if guess==number:\n",
    "        print(f'You guessed it! that is the number')\n",
    "        break\n",
    "    elif guess>number:\n",
    "        print(f'your guess is too high. try again')\n",
    "    else: print(f'your guess is too low. try again')\n",
    "\n",
    "    "
   ]
  },
  {
   "cell_type": "code",
   "execution_count": 74,
   "id": "b8664b6f",
   "metadata": {},
   "outputs": [
    {
     "data": {
      "text/plain": [
       "'banana'"
      ]
     },
     "execution_count": 74,
     "metadata": {},
     "output_type": "execute_result"
    }
   ],
   "source": [
    "guess"
   ]
  },
  {
   "cell_type": "code",
   "execution_count": 81,
   "id": "e62c1cce",
   "metadata": {},
   "outputs": [
    {
     "name": "stdout",
     "output_type": "stream",
     "text": [
      "Guess a number from 1-100: b\n"
     ]
    },
    {
     "ename": "ValueError",
     "evalue": "invalid literal for int() with base 10: 'b'",
     "output_type": "error",
     "traceback": [
      "\u001b[0;31m---------------------------------------------------------------------------\u001b[0m",
      "\u001b[0;31mValueError\u001b[0m                                Traceback (most recent call last)",
      "Cell \u001b[0;32mIn[81], line 3\u001b[0m\n\u001b[1;32m      1\u001b[0m guess\u001b[38;5;241m=\u001b[39m\u001b[38;5;28minput\u001b[39m(\u001b[38;5;124m'\u001b[39m\u001b[38;5;124mGuess a number from 1-100: \u001b[39m\u001b[38;5;124m'\u001b[39m)\u001b[38;5;241m.\u001b[39mstrip()\n\u001b[1;32m      2\u001b[0m \u001b[38;5;28mtype\u001b[39m(guess)\n\u001b[0;32m----> 3\u001b[0m \u001b[38;5;28;43mint\u001b[39;49m\u001b[43m(\u001b[49m\u001b[43mguess\u001b[49m\u001b[43m)\u001b[49m\n",
      "\u001b[0;31mValueError\u001b[0m: invalid literal for int() with base 10: 'b'"
     ]
    }
   ],
   "source": [
    "guess=input('Guess a number from 1-100: ').strip()\n",
    "type(guess)\n",
    "int(guess)"
   ]
  },
  {
   "cell_type": "code",
   "execution_count": 79,
   "id": "12d81809",
   "metadata": {},
   "outputs": [
    {
     "data": {
      "text/plain": [
       "7"
      ]
     },
     "execution_count": 79,
     "metadata": {},
     "output_type": "execute_result"
    }
   ],
   "source": [
    "int(guess)\n"
   ]
  },
  {
   "cell_type": "code",
   "execution_count": null,
   "id": "c38cddc8",
   "metadata": {},
   "outputs": [],
   "source": []
  }
 ],
 "metadata": {
  "kernelspec": {
   "display_name": "Python 3 (ipykernel)",
   "language": "python",
   "name": "python3"
  },
  "language_info": {
   "codemirror_mode": {
    "name": "ipython",
    "version": 3
   },
   "file_extension": ".py",
   "mimetype": "text/x-python",
   "name": "python",
   "nbconvert_exporter": "python",
   "pygments_lexer": "ipython3",
   "version": "3.12.7"
  }
 },
 "nbformat": 4,
 "nbformat_minor": 5
}
