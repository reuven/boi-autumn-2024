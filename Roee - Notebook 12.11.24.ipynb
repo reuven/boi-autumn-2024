{
 "cells": [
  {
   "cell_type": "code",
   "execution_count": 3,
   "id": "b22f7241",
   "metadata": {},
   "outputs": [
    {
     "name": "stdout",
     "output_type": "stream",
     "text": [
      "Enter you name: Roee\n",
      "Enter your city: Jerusalem\n",
      "hello Roee from Jerusalem!\n"
     ]
    }
   ],
   "source": [
    "name = input('Enter you name: ')\n",
    "city = input('Enter your city: ')\n",
    "\n",
    "print ('Hello ' + name + ' from ' + city +'!')"
   ]
  },
  {
   "cell_type": "code",
   "execution_count": 6,
   "id": "728ada0a",
   "metadata": {},
   "outputs": [
    {
     "name": "stdout",
     "output_type": "stream",
     "text": [
      "Hello Roee from Jerusalem !\n"
     ]
    }
   ],
   "source": [
    "print (f'Hello {name} from {city} !')"
   ]
  },
  {
   "cell_type": "code",
   "execution_count": 8,
   "id": "a5bd0228",
   "metadata": {},
   "outputs": [
    {
     "name": "stdout",
     "output_type": "stream",
     "text": [
      "Enter you name: Eyal\n",
      "Hello Eyal, nice to have you here\n"
     ]
    }
   ],
   "source": [
    "name = input('Enter you name: ')\n",
    "\n",
    "if name == 'Roee':\n",
    "    print (f'Hello {name} the champ')\n",
    "else:\n",
    "    print (f'Hello {name}, nice to have you here')\n",
    "    "
   ]
  },
  {
   "cell_type": "code",
   "execution_count": 11,
   "id": "6aa6303b",
   "metadata": {},
   "outputs": [
    {
     "name": "stdout",
     "output_type": "stream",
     "text": [
      "Enter the first word: donky\n",
      "Enter the second word: donky\n",
      "donky equals donky\n"
     ]
    }
   ],
   "source": [
    "word1 = input('Enter the first word: ')\n",
    "word2 = input('Enter the second word: ')\n",
    "\n",
    "if word1 < word2:\n",
    "    print(f'{word1} comes before {word2}')\n",
    "elif word1 > word2:\n",
    "    print(f'{word2} comes before {word1}')\n",
    "else:\n",
    "    print(f'{word1} equals {word2}')"
   ]
  },
  {
   "cell_type": "code",
   "execution_count": 13,
   "id": "c5dc7ca2",
   "metadata": {},
   "outputs": [
    {
     "name": "stdout",
     "output_type": "stream",
     "text": [
      "Enter you name: jhon\n",
      "Enter your city: Jerusalem\n",
      "We live in the same city\n"
     ]
    }
   ],
   "source": [
    "name = input('Enter you name: ')\n",
    "city = input('Enter your city: ')\n",
    "\n",
    "myname='Roee'\n",
    "mycity='Jerusalem'\n",
    "\n",
    "if name == myname and city == mycity:\n",
    "    print('you must be me')\n",
    "elif name == myname and city != mycity:\n",
    "    print(\"Nice name, bad city\")\n",
    "elif name != myname and city == mycity:\n",
    "    print(\"We live in the same city\")\n",
    "else:\n",
    "    print(\"bad name bad city\")"
   ]
  },
  {
   "cell_type": "code",
   "execution_count": 16,
   "id": "26044654",
   "metadata": {},
   "outputs": [
    {
     "name": "stdout",
     "output_type": "stream",
     "text": [
      "Enter your guess7\n",
      "just right\n"
     ]
    }
   ],
   "source": [
    "secret=7\n",
    "\n",
    "guess= int(input('Enter your guess'))\n",
    "\n",
    "if guess<secret:\n",
    "    print ('too low')\n",
    "elif guess==secret:\n",
    "    print ('just right')\n",
    "else:\n",
    "    print ('too high')"
   ]
  },
  {
   "cell_type": "code",
   "execution_count": 17,
   "id": "b62c97ff",
   "metadata": {},
   "outputs": [
    {
     "data": {
      "text/plain": [
       "'blallll'"
      ]
     },
     "execution_count": 17,
     "metadata": {},
     "output_type": "execute_result"
    }
   ],
   "source": [
    "s='blallll'\n",
    "s\n"
   ]
  },
  {
   "cell_type": "code",
   "execution_count": 22,
   "id": "5b3e8a00",
   "metadata": {},
   "outputs": [
    {
     "name": "stdout",
     "output_type": "stream",
     "text": [
      "Enter a word: elephant\n"
     ]
    },
    {
     "data": {
      "text/plain": [
       "'elephantway'"
      ]
     },
     "execution_count": 22,
     "metadata": {},
     "output_type": "execute_result"
    }
   ],
   "source": [
    "word=input('Enter a word: ')\n",
    "piglatin=word\n",
    "\n",
    "if word[0] in ('aeiou'):\n",
    "    piglatin= word+'way'\n",
    "else:\n",
    "    piglatin= word[1:] + word[0] + 'ay'\n",
    "    \n",
    "piglatin"
   ]
  },
  {
   "cell_type": "code",
   "execution_count": 24,
   "id": "76de84fc",
   "metadata": {},
   "outputs": [
    {
     "name": "stdout",
     "output_type": "stream",
     "text": [
      "True\n"
     ]
    }
   ],
   "source": [
    "name='44'\n",
    "print (name.isdigit())\n",
    "\n"
   ]
  }
 ],
 "metadata": {
  "kernelspec": {
   "display_name": "Python 3 (ipykernel)",
   "language": "python",
   "name": "python3"
  },
  "language_info": {
   "codemirror_mode": {
    "name": "ipython",
    "version": 3
   },
   "file_extension": ".py",
   "mimetype": "text/x-python",
   "name": "python",
   "nbconvert_exporter": "python",
   "pygments_lexer": "ipython3",
   "version": "3.12.7"
  }
 },
 "nbformat": 4,
 "nbformat_minor": 5
}
