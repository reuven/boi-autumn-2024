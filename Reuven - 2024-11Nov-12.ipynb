{
 "cells": [
  {
   "cell_type": "markdown",
   "id": "a53d3bd3",
   "metadata": {},
   "source": [
    "# Agenda\n",
    "\n",
    "1. Day 1 -- fundamentals\n",
    "    - What is a programming language? WHat is Python?\n",
    "    - Values and variables\n",
    "    - Comparisons\n",
    "    - `if`/`else`\n",
    "    - input + output\n",
    "    - Numbers (int, float)\n",
    "    - Strings (text)\n",
    "    \n",
    "2. More complexity in data and programs\n",
    "    - List, tuple\n",
    "    - Dictionary\n",
    "    - From strings to lists, and back\n",
    "    - Files (reading from)\n",
    "    - Modules (and packages)\n",
    "    - Functions (maybe)\n",
    "    \n",
    "3. Pandas \n",
    "    - Series (1D)\n",
    "    - Data frame (2D)\n",
    "    - dtypes and `NaN`\n",
    "    - Methods (functionality) \n",
    "    \n",
    "4. More advanced Pandas\n",
    "    - Reading from CSV, Excel\n",
    "    - Grouping, sorting, pivot tables\n",
    "    - Visualization"
   ]
  },
  {
   "cell_type": "code",
   "execution_count": 2,
   "id": "d17201b3",
   "metadata": {},
   "outputs": [
    {
     "name": "stdout",
     "output_type": "stream",
     "text": [
      "Hello out there!\n"
     ]
    }
   ],
   "source": [
    "print('Hello out there!')"
   ]
  },
  {
   "cell_type": "code",
   "execution_count": 3,
   "id": "09602677",
   "metadata": {},
   "outputs": [],
   "source": [
    "# python.lerner.co.il\n",
    "# boipw!!\n"
   ]
  },
  {
   "cell_type": "markdown",
   "id": "1eae840b",
   "metadata": {},
   "source": [
    "This is a cell. \n",
    "\n",
    "- Edit mode. When I type, Jupyter puts it into the cell. Click in the cell or press ENTER to get into edit mode.\n",
    "- Command mode. When I type, Jupyter gets a command from me. Click on the left or press ESC.\n",
    "\n",
    "Commands that I can give to Jupyter:\n",
    "- `x` -- cut the cell \n",
    "- `c` -- copy the cell\n",
    "- `v` -- paste the cell\n",
    "- `m` -- Markdown mode, for documentation\n",
    "- `y` -- code  mode, for Python\n",
    "- `a` -- new cell *above* the current one\n",
    "- `b` -- new cell *below* the current one\n",
    "\n",
    "shift + ENTER: Execute the cell"
   ]
  },
  {
   "cell_type": "code",
   "execution_count": 5,
   "id": "28f8c67c",
   "metadata": {
    "scrolled": true
   },
   "outputs": [
    {
     "name": "stdout",
     "output_type": "stream",
     "text": [
      "hello again!\n",
      "hello again again!\n"
     ]
    }
   ],
   "source": [
    "print('hello again!')\n",
    "print('hello again again!')"
   ]
  },
  {
   "cell_type": "markdown",
   "id": "2367739c",
   "metadata": {},
   "source": [
    "# `print`\n",
    "\n",
    "`print` is a function. You must use `()` to make `print` do something!\n",
    "\n",
    "We can put, inside of the `()`, any value we want:\n",
    "\n",
    "- Numbers\n",
    "- Text (inside of `''`, `\"\"`)\n",
    "- Expression"
   ]
  },
  {
   "cell_type": "code",
   "execution_count": 6,
   "id": "f9269ea8",
   "metadata": {},
   "outputs": [
    {
     "name": "stdout",
     "output_type": "stream",
     "text": [
      "5\n"
     ]
    }
   ],
   "source": [
    "print(5)"
   ]
  },
  {
   "cell_type": "code",
   "execution_count": 7,
   "id": "f1b194df",
   "metadata": {},
   "outputs": [
    {
     "name": "stdout",
     "output_type": "stream",
     "text": [
      "5\n",
      "hello\n",
      "6\n"
     ]
    }
   ],
   "source": [
    "print(5)\n",
    "print('hello')\n",
    "print(6)"
   ]
  },
  {
   "cell_type": "code",
   "execution_count": 8,
   "id": "16e1ce53",
   "metadata": {},
   "outputs": [
    {
     "name": "stdout",
     "output_type": "stream",
     "text": [
      "15\n"
     ]
    }
   ],
   "source": [
    "print(10 + 5)"
   ]
  },
  {
   "cell_type": "code",
   "execution_count": 9,
   "id": "f20d7192",
   "metadata": {},
   "outputs": [
    {
     "name": "stdout",
     "output_type": "stream",
     "text": [
      "hellothere\n"
     ]
    }
   ],
   "source": [
    "print('hello' + 'there')"
   ]
  },
  {
   "cell_type": "code",
   "execution_count": 10,
   "id": "9914e2ce",
   "metadata": {},
   "outputs": [
    {
     "name": "stdout",
     "output_type": "stream",
     "text": [
      "hello there\n"
     ]
    }
   ],
   "source": [
    "print('hello ' + 'there')"
   ]
  },
  {
   "cell_type": "code",
   "execution_count": 11,
   "id": "59be0721",
   "metadata": {},
   "outputs": [
    {
     "ename": "TypeError",
     "evalue": "can only concatenate str (not \"int\") to str",
     "output_type": "error",
     "traceback": [
      "\u001b[0;31m---------------------------------------------------------------------------\u001b[0m",
      "\u001b[0;31mTypeError\u001b[0m                                 Traceback (most recent call last)",
      "Cell \u001b[0;32mIn[11], line 1\u001b[0m\n\u001b[0;32m----> 1\u001b[0m \u001b[38;5;28mprint\u001b[39m(\u001b[38;5;124;43m'\u001b[39;49m\u001b[38;5;124;43mMy favorite number is \u001b[39;49m\u001b[38;5;124;43m'\u001b[39;49m\u001b[43m \u001b[49m\u001b[38;5;241;43m+\u001b[39;49m\u001b[43m \u001b[49m\u001b[38;5;241;43m10\u001b[39;49m)\n",
      "\u001b[0;31mTypeError\u001b[0m: can only concatenate str (not \"int\") to str"
     ]
    }
   ],
   "source": [
    "print('My favorite number is ' + 10)"
   ]
  },
  {
   "cell_type": "code",
   "execution_count": 12,
   "id": "28449293",
   "metadata": {},
   "outputs": [
    {
     "name": "stdout",
     "output_type": "stream",
     "text": [
      "1020\n"
     ]
    }
   ],
   "source": [
    "print('10' + '20')"
   ]
  },
  {
   "cell_type": "markdown",
   "id": "923ebbbf",
   "metadata": {},
   "source": [
    "# Exercise: Start with Jupyter\n",
    "\n",
    "1. On the server, create a new notebook ( new -> Python 3)\n",
    "2. Change the notebook's name to reflect your name and the date.\n",
    "3. Print a greeting to yourself in Python, using `print`."
   ]
  },
  {
   "cell_type": "code",
   "execution_count": 14,
   "id": "5e95f619",
   "metadata": {},
   "outputs": [
    {
     "name": "stdout",
     "output_type": "stream",
     "text": [
      "Hello, Reuven\n"
     ]
    }
   ],
   "source": [
    "print('Hello, Reuven')"
   ]
  },
  {
   "cell_type": "code",
   "execution_count": 15,
   "id": "00a60015",
   "metadata": {
    "scrolled": true
   },
   "outputs": [
    {
     "name": "stdout",
     "output_type": "stream",
     "text": [
      "Hello Reuven\n"
     ]
    }
   ],
   "source": [
    "# This is a comment\n",
    "\n",
    "print('Hello' + ' Reuven')   # this is also a comment"
   ]
  },
  {
   "cell_type": "code",
   "execution_count": 17,
   "id": "65d83b34",
   "metadata": {},
   "outputs": [
    {
     "name": "stdout",
     "output_type": "stream",
     "text": [
      "a\n",
      "b\n",
      "c\n",
      "d\n"
     ]
    }
   ],
   "source": [
    "print('a')\n",
    "print('b')\n",
    "print('c')\n",
    "print('d')"
   ]
  },
  {
   "cell_type": "markdown",
   "id": "f3360f43",
   "metadata": {},
   "source": [
    "# Variables and assignment\n",
    "\n",
    "We can assign to a variable with `=`.  We assign the value on the right into the variable on the left.\n",
    "\n",
    "What can we name a variable?\n",
    "\n",
    "- Any combination of letters, digits, and `_`\n",
    "- We normally only use lowercase letters \n",
    "- You cannot put a digit at the start of a variable name\n",
    "- Don't use `_` on the ends (left or right) of your variable name\n",
    "\n",
    "Use good names for your variables!"
   ]
  },
  {
   "cell_type": "code",
   "execution_count": 20,
   "id": "374369d7",
   "metadata": {},
   "outputs": [
    {
     "name": "stdout",
     "output_type": "stream",
     "text": [
      "100\n"
     ]
    }
   ],
   "source": [
    "x = 100\n",
    "\n",
    "print(x)"
   ]
  },
  {
   "cell_type": "code",
   "execution_count": 21,
   "id": "c8047538",
   "metadata": {},
   "outputs": [
    {
     "name": "stdout",
     "output_type": "stream",
     "text": [
      "Hello, Reuven\n"
     ]
    }
   ],
   "source": [
    "name = 'Reuven'\n",
    "\n",
    "print('Hello, ' + name)"
   ]
  },
  {
   "cell_type": "code",
   "execution_count": 22,
   "id": "c6dd167e",
   "metadata": {},
   "outputs": [
    {
     "name": "stdout",
     "output_type": "stream",
     "text": [
      "Hello, name\n"
     ]
    }
   ],
   "source": [
    "print('Hello, ' + 'name')"
   ]
  },
  {
   "cell_type": "code",
   "execution_count": 23,
   "id": "9b3ada86",
   "metadata": {},
   "outputs": [
    {
     "name": "stdout",
     "output_type": "stream",
     "text": [
      "100\n"
     ]
    }
   ],
   "source": [
    "x = 100\n",
    "print(x)"
   ]
  },
  {
   "cell_type": "code",
   "execution_count": 24,
   "id": "55aa894a",
   "metadata": {},
   "outputs": [
    {
     "data": {
      "text/plain": [
       "100"
      ]
     },
     "execution_count": 24,
     "metadata": {},
     "output_type": "execute_result"
    }
   ],
   "source": [
    "# Only in Jupyter\n",
    "# if the final line is an expression or  a value, we see it right away\n",
    "\n",
    "x"
   ]
  },
  {
   "cell_type": "code",
   "execution_count": 25,
   "id": "33aeaf0d",
   "metadata": {},
   "outputs": [
    {
     "data": {
      "text/plain": [
       "105"
      ]
     },
     "execution_count": 25,
     "metadata": {},
     "output_type": "execute_result"
    }
   ],
   "source": [
    "x + 5"
   ]
  },
  {
   "cell_type": "code",
   "execution_count": 26,
   "id": "3d0295a7",
   "metadata": {},
   "outputs": [
    {
     "data": {
      "text/plain": [
       "60"
      ]
     },
     "execution_count": 26,
     "metadata": {},
     "output_type": "execute_result"
    }
   ],
   "source": [
    "10 + 10\n",
    "20 + 20\n",
    "30 + 30"
   ]
  },
  {
   "cell_type": "code",
   "execution_count": 27,
   "id": "c6bddf92",
   "metadata": {},
   "outputs": [
    {
     "data": {
      "text/plain": [
       "100"
      ]
     },
     "execution_count": 27,
     "metadata": {},
     "output_type": "execute_result"
    }
   ],
   "source": [
    "x"
   ]
  },
  {
   "cell_type": "code",
   "execution_count": 28,
   "id": "7e1d7dfb",
   "metadata": {},
   "outputs": [
    {
     "data": {
      "text/plain": [
       "int"
      ]
     },
     "execution_count": 28,
     "metadata": {},
     "output_type": "execute_result"
    }
   ],
   "source": [
    "# what kind of value is in x?\n",
    "\n",
    "type(x)"
   ]
  },
  {
   "cell_type": "code",
   "execution_count": null,
   "id": "c8af17e1",
   "metadata": {},
   "outputs": [],
   "source": []
  },
  {
   "cell_type": "code",
   "execution_count": 31,
   "id": "29d7e014",
   "metadata": {
    "scrolled": true
   },
   "outputs": [
    {
     "data": {
      "text/plain": [
       "str"
      ]
     },
     "execution_count": 31,
     "metadata": {},
     "output_type": "execute_result"
    }
   ],
   "source": [
    "x = 'abcd'\n",
    "type(x)"
   ]
  },
  {
   "cell_type": "code",
   "execution_count": 31,
   "id": "d0d609a8",
   "metadata": {
    "scrolled": true
   },
   "outputs": [
    {
     "data": {
      "text/plain": [
       "str"
      ]
     },
     "execution_count": 31,
     "metadata": {},
     "output_type": "execute_result"
    }
   ],
   "source": [
    "x = 'abcd'\n",
    "type(x)"
   ]
  },
  {
   "cell_type": "code",
   "execution_count": 32,
   "id": "77ec29b4",
   "metadata": {},
   "outputs": [
    {
     "data": {
      "text/plain": [
       "True"
      ]
     },
     "execution_count": 32,
     "metadata": {},
     "output_type": "execute_result"
    }
   ],
   "source": [
    "x = 10\n",
    "y = 10\n",
    "\n",
    "\n",
    "# are x and y the same?\n",
    "x == y"
   ]
  },
  {
   "cell_type": "markdown",
   "id": "5af08ee6",
   "metadata": {},
   "source": [
    "# Comparison operators\n",
    "\n",
    "- `=` -- assignment, a command to assign\n",
    "- `==` -- comparisons, asks a question\n",
    "\n",
    "Every comparison operator returns `True` or `False`. They are:\n",
    "\n",
    "- `==` -- are the two things equal?\n",
    "- `!=` -- are the two things *NOT* equal?\n",
    "- `>` -- is the left bigger than the right?\n",
    "- `>=` -- is the left bigger than or equal to the right?\n",
    "- `<` -- is the left smaller than the right?\n",
    "- `<=` -- is the left smaller than or equal to the right?"
   ]
  },
  {
   "cell_type": "code",
   "execution_count": 33,
   "id": "6a474ca7",
   "metadata": {},
   "outputs": [
    {
     "data": {
      "text/plain": [
       "True"
      ]
     },
     "execution_count": 33,
     "metadata": {},
     "output_type": "execute_result"
    }
   ],
   "source": [
    "100 < 200"
   ]
  },
  {
   "cell_type": "code",
   "execution_count": 34,
   "id": "39baddcc",
   "metadata": {},
   "outputs": [
    {
     "data": {
      "text/plain": [
       "False"
      ]
     },
     "execution_count": 34,
     "metadata": {},
     "output_type": "execute_result"
    }
   ],
   "source": [
    "100 < 10"
   ]
  },
  {
   "cell_type": "code",
   "execution_count": 35,
   "id": "5a26302b",
   "metadata": {},
   "outputs": [
    {
     "data": {
      "text/plain": [
       "False"
      ]
     },
     "execution_count": 35,
     "metadata": {},
     "output_type": "execute_result"
    }
   ],
   "source": [
    "100 < 20"
   ]
  },
  {
   "cell_type": "code",
   "execution_count": 36,
   "id": "872ed716",
   "metadata": {},
   "outputs": [
    {
     "data": {
      "text/plain": [
       "True"
      ]
     },
     "execution_count": 36,
     "metadata": {},
     "output_type": "execute_result"
    }
   ],
   "source": [
    "'apple' < 'banana'"
   ]
  },
  {
   "cell_type": "code",
   "execution_count": 37,
   "id": "f4c458ee",
   "metadata": {},
   "outputs": [
    {
     "data": {
      "text/plain": [
       "False"
      ]
     },
     "execution_count": 37,
     "metadata": {},
     "output_type": "execute_result"
    }
   ],
   "source": [
    "'apple' < 'Banana'"
   ]
  },
  {
   "cell_type": "code",
   "execution_count": 38,
   "id": "0d4eda18",
   "metadata": {},
   "outputs": [
    {
     "data": {
      "text/plain": [
       "True"
      ]
     },
     "execution_count": 38,
     "metadata": {},
     "output_type": "execute_result"
    }
   ],
   "source": [
    "'100' < '20'"
   ]
  },
  {
   "cell_type": "code",
   "execution_count": 39,
   "id": "491bc6ce",
   "metadata": {},
   "outputs": [
    {
     "data": {
      "text/plain": [
       "True"
      ]
     },
     "execution_count": 39,
     "metadata": {},
     "output_type": "execute_result"
    }
   ],
   "source": [
    "'100' < 'apple'"
   ]
  },
  {
   "cell_type": "code",
   "execution_count": 40,
   "id": "a8b24b0d",
   "metadata": {},
   "outputs": [
    {
     "ename": "SyntaxError",
     "evalue": "cannot assign to literal here. Maybe you meant '==' instead of '='? (4129678310.py, line 3)",
     "output_type": "error",
     "traceback": [
      "\u001b[0;36m  Cell \u001b[0;32mIn[40], line 3\u001b[0;36m\u001b[0m\n\u001b[0;31m    'apple' = 'banana'\u001b[0m\n\u001b[0m    ^\u001b[0m\n\u001b[0;31mSyntaxError\u001b[0m\u001b[0;31m:\u001b[0m cannot assign to literal here. Maybe you meant '==' instead of '='?\n"
     ]
    }
   ],
   "source": [
    "# assignment! \n",
    "\n",
    "'apple' = 'banana'"
   ]
  },
  {
   "cell_type": "code",
   "execution_count": 41,
   "id": "b04cfff7",
   "metadata": {},
   "outputs": [],
   "source": [
    "apple = 'banana'"
   ]
  },
  {
   "cell_type": "code",
   "execution_count": 42,
   "id": "925f477f",
   "metadata": {},
   "outputs": [
    {
     "data": {
      "text/plain": [
       "False"
      ]
     },
     "execution_count": 42,
     "metadata": {},
     "output_type": "execute_result"
    }
   ],
   "source": [
    "apple == 'apple'"
   ]
  },
  {
   "cell_type": "markdown",
   "id": "90659b5a",
   "metadata": {},
   "source": [
    "# Getting input from the user\n",
    "\n",
    "Use the `input` function to get input from the user.  Whatever the user types is returned by `input` as a string. \n",
    "\n",
    "Usually, we'll put `input` on the right side of assignment."
   ]
  },
  {
   "cell_type": "code",
   "execution_count": 48,
   "id": "c617b2f2",
   "metadata": {},
   "outputs": [
    {
     "name": "stdout",
     "output_type": "stream",
     "text": [
      "Enter your name: Reuven\n"
     ]
    }
   ],
   "source": [
    "name = input('Enter your name: ')"
   ]
  },
  {
   "cell_type": "code",
   "execution_count": 49,
   "id": "5e7e1d64",
   "metadata": {},
   "outputs": [
    {
     "name": "stdout",
     "output_type": "stream",
     "text": [
      "Hello, Reuven!\n"
     ]
    }
   ],
   "source": [
    "print('Hello, ' + name + \"!\")"
   ]
  },
  {
   "cell_type": "markdown",
   "id": "1d6f8cab",
   "metadata": {},
   "source": [
    "# Exercise:\n",
    "\n",
    "1. Ask the user for their name and city, assigning to *two* variables.\n",
    "2. Print a greeting to the user, using both."
   ]
  },
  {
   "cell_type": "code",
   "execution_count": 50,
   "id": "59e9296f",
   "metadata": {},
   "outputs": [
    {
     "name": "stdout",
     "output_type": "stream",
     "text": [
      "Enter your name: Reuven\n",
      "Enter your city: Modi'in\n",
      "Hello, Reuven, from Modi'in!\n"
     ]
    }
   ],
   "source": [
    "name = input('Enter your name: ')\n",
    "city = input('Enter your city: ')\n",
    "\n",
    "print('Hello, ' + name + ', from ' + city + '!')"
   ]
  },
  {
   "cell_type": "code",
   "execution_count": 51,
   "id": "0654daa4",
   "metadata": {},
   "outputs": [
    {
     "name": "stdout",
     "output_type": "stream",
     "text": [
      "Hello, Reuven, from Modi'in!\n"
     ]
    }
   ],
   "source": [
    "# f-string (format string)\n",
    "# - before the opening quote, put an f\n",
    "# - {} in the string with a value/expression is replaced\n",
    "# - the {} are turned into strings\n",
    "\n",
    "print(f'Hello, {name}, from {city}!')"
   ]
  },
  {
   "cell_type": "code",
   "execution_count": 52,
   "id": "d9322445",
   "metadata": {},
   "outputs": [
    {
     "name": "stdout",
     "output_type": "stream",
     "text": [
      "10 + 20 = 30\n"
     ]
    }
   ],
   "source": [
    "x = 10\n",
    "y = 20\n",
    "\n",
    "print(f'{x} + {y} = {x+y}')"
   ]
  },
  {
   "cell_type": "markdown",
   "id": "6804690d",
   "metadata": {},
   "source": [
    "# `if` and `else`\n",
    "\n",
    "1. To the right of `if`, we need an expression that returns `True` or `False`\n",
    "2. At the end of the line, we have `:`\n",
    "3. Indented block of at least one line\n",
    "4. Optional `else:` (without a comparison) and a block"
   ]
  },
  {
   "cell_type": "code",
   "execution_count": 56,
   "id": "815bf3ed",
   "metadata": {},
   "outputs": [
    {
     "name": "stdout",
     "output_type": "stream",
     "text": [
      "Enter your name: Reuven\n",
      "Hello, boss!\n",
      "Great to see you again!\n",
      "Continuing...\n"
     ]
    }
   ],
   "source": [
    "name = input('Enter your name: ')\n",
    "\n",
    "if name == 'Reuven':\n",
    "    print(\"Hello, boss!\")\n",
    "    print('Great to see you again!')\n",
    "else:\n",
    "    print(f'Hello, {name}, whoever you are')    \n",
    "    \n",
    "print('Continuing...')"
   ]
  },
  {
   "cell_type": "markdown",
   "id": "33d49e69",
   "metadata": {},
   "source": [
    "# Exercise: Greeting based on name\n",
    "\n",
    "1. Ask the user for their name\n",
    "2. If it's your name, print one thing\n",
    "3. If it's another name, print another thing"
   ]
  },
  {
   "cell_type": "code",
   "execution_count": null,
   "id": "dabfd436",
   "metadata": {},
   "outputs": [],
   "source": [
    "# github.com/reuven/\n",
    "# repositories\n",
    "\n",
    "# github.com/reuven/boi-autumn-2024"
   ]
  },
  {
   "cell_type": "code",
   "execution_count": 57,
   "id": "9518c0ab",
   "metadata": {},
   "outputs": [
    {
     "name": "stdout",
     "output_type": "stream",
     "text": [
      "Enter your name: Reuven\n",
      "Hello, you amazing person!\n"
     ]
    }
   ],
   "source": [
    "name = input('Enter your name: ')\n",
    "\n",
    "if name == 'Reuven':\n",
    "    print('Hello, you amazing person!')\n",
    "else:\n",
    "    print(f'Hello, {name}')"
   ]
  },
  {
   "cell_type": "code",
   "execution_count": 61,
   "id": "57618b6f",
   "metadata": {},
   "outputs": [
    {
     "name": "stdout",
     "output_type": "stream",
     "text": [
      "Enter first word: gold\n",
      "Enter second word: gold\n",
      "gold comes before gold\n"
     ]
    }
   ],
   "source": [
    "word1 = input('Enter first word: ')\n",
    "word2 = input('Enter second word: ')\n",
    "\n",
    "if word1 < word2:\n",
    "    print(f'{word1} comes before {word2}')\n",
    "else:\n",
    "    print(f'{word2} comes before {word1}')"
   ]
  },
  {
   "cell_type": "markdown",
   "id": "4183bc33",
   "metadata": {},
   "source": [
    "# More complex conditions\n",
    "\n",
    "We can use not just `if` and `else`, but also `elif` -- which has its own condition. I can have as many `elif` clauses as I want. The first that returns `True` runs. If none is `True`, then `else` runs."
   ]
  },
  {
   "cell_type": "code",
   "execution_count": 62,
   "id": "bd639e7d",
   "metadata": {},
   "outputs": [
    {
     "name": "stdout",
     "output_type": "stream",
     "text": [
      "Bigger than 10\n"
     ]
    }
   ],
   "source": [
    "x = 50\n",
    "\n",
    "if x > 10:\n",
    "    print('Bigger than 10')\n",
    "elif x > 30:\n",
    "    print('Bigger than 30')\n",
    "elif x > 50:\n",
    "    print('Bigger than 50')\n",
    "elif x > 70:\n",
    "    print('Bigger than 70')\n",
    "elif x > 90:\n",
    "    print('Bigger than 90')\n",
    "else:\n",
    "    print('Who knows?')"
   ]
  },
  {
   "cell_type": "code",
   "execution_count": 66,
   "id": "b1c2a667",
   "metadata": {},
   "outputs": [
    {
     "name": "stdout",
     "output_type": "stream",
     "text": [
      "Who knows?\n"
     ]
    }
   ],
   "source": [
    "x = 5\n",
    "\n",
    "if x > 90:\n",
    "    print('Bigger than 90')\n",
    "elif x > 70:\n",
    "    print('Bigger than 70')\n",
    "elif x > 50:\n",
    "    print('Bigger than 50')\n",
    "elif x > 30:\n",
    "    print('Bigger than 30')\n",
    "elif x > 10:\n",
    "    print('Bigger than 10')\n",
    "else:\n",
    "    print('Who knows?')"
   ]
  },
  {
   "cell_type": "markdown",
   "id": "01c1a499",
   "metadata": {},
   "source": [
    "# Exercise: Which comes first?\n",
    "\n",
    "1. Ask the user to enter two words.\n",
    "2. Print which word comes first alphabetically.\n",
    "3. If the user entered the same word twice, say so."
   ]
  },
  {
   "cell_type": "code",
   "execution_count": 68,
   "id": "b91d9813",
   "metadata": {},
   "outputs": [
    {
     "name": "stdout",
     "output_type": "stream",
     "text": [
      "Enter first word: taxi\n",
      "Enter second word: cab\n",
      "cab comes before taxi\n"
     ]
    }
   ],
   "source": [
    "word1 = input('Enter first word: ')\n",
    "word2 = input('Enter second word: ')\n",
    "\n",
    "if word1 < word2:\n",
    "    print(f'{word1} comes before {word2}')\n",
    "elif word1 > word2:\n",
    "    print(f'{word2} comes before {word1}')\n",
    "else:\n",
    "    print(f'{word1} and {word2} are the same')"
   ]
  },
  {
   "cell_type": "code",
   "execution_count": 69,
   "id": "a63edb05",
   "metadata": {},
   "outputs": [
    {
     "data": {
      "text/plain": [
       "True"
      ]
     },
     "execution_count": 69,
     "metadata": {},
     "output_type": "execute_result"
    }
   ],
   "source": [
    "# \"and\" returns True if both sides (left and right) are True -- otherwise, False\n",
    "\n",
    "x = 10\n",
    "y = 20\n",
    "\n",
    "#  True   and      True\n",
    "x == 10   and     y == 20"
   ]
  },
  {
   "cell_type": "code",
   "execution_count": 70,
   "id": "d340f6bf",
   "metadata": {},
   "outputs": [
    {
     "name": "stdout",
     "output_type": "stream",
     "text": [
      "yes, both are what we want!\n"
     ]
    }
   ],
   "source": [
    "if x == 10 and y == 20:\n",
    "    print('yes, both are what we want!')"
   ]
  },
  {
   "cell_type": "code",
   "execution_count": 71,
   "id": "cc257eee",
   "metadata": {},
   "outputs": [
    {
     "data": {
      "text/plain": [
       "False"
      ]
     },
     "execution_count": 71,
     "metadata": {},
     "output_type": "execute_result"
    }
   ],
   "source": [
    "#  True   and      False\n",
    "x == 10   and     y == 50"
   ]
  },
  {
   "cell_type": "code",
   "execution_count": 72,
   "id": "049fdc9a",
   "metadata": {},
   "outputs": [],
   "source": [
    "if x == 10 and y == 50:\n",
    "    print('yes, both are what we want!')"
   ]
  },
  {
   "cell_type": "code",
   "execution_count": 73,
   "id": "8763eae4",
   "metadata": {},
   "outputs": [
    {
     "name": "stdout",
     "output_type": "stream",
     "text": [
      "At least one is what you want\n"
     ]
    }
   ],
   "source": [
    "# \"or\" returns True if the left *OR* the right is True, False otherwise\n",
    "\n",
    "if x == 10 or y == 50:\n",
    "    print('At least one is what you want')"
   ]
  },
  {
   "cell_type": "code",
   "execution_count": 74,
   "id": "03a64461",
   "metadata": {},
   "outputs": [],
   "source": [
    "# \"not\" looks right, and flips the logic from True->False or False->True"
   ]
  },
  {
   "cell_type": "markdown",
   "id": "bb0ad49b",
   "metadata": {},
   "source": [
    "# Exercise: Name and city\n",
    "\n",
    "1. Ask the user to enter (in two questions) their name and city, and assign to two variables.\n",
    "2. If the name + city are the same as you, print \"You must be me\"\n",
    "3. If the name is the same but the city isn't, print \"Nice name, bad city\"\n",
    "3. If the city is the same but the name isn't, print \"We live in the same city\"\n",
    "4. If neither is the same, then say \"Bad name and bad city\""
   ]
  },
  {
   "cell_type": "code",
   "execution_count": 75,
   "id": "e26b81ba",
   "metadata": {},
   "outputs": [],
   "source": [
    "# not equal is the != operator"
   ]
  },
  {
   "cell_type": "code",
   "execution_count": 80,
   "id": "5b8dab26",
   "metadata": {},
   "outputs": [
    {
     "name": "stdout",
     "output_type": "stream",
     "text": [
      "Enter your name: Reuven\n",
      "Enter your city: b\n"
     ]
    },
    {
     "ename": "NameError",
     "evalue": "name 'Reuven' is not defined",
     "output_type": "error",
     "traceback": [
      "\u001b[0;31m---------------------------------------------------------------------------\u001b[0m",
      "\u001b[0;31mNameError\u001b[0m                                 Traceback (most recent call last)",
      "Cell \u001b[0;32mIn[80], line 7\u001b[0m\n\u001b[1;32m      4\u001b[0m name \u001b[38;5;241m=\u001b[39m \u001b[38;5;28minput\u001b[39m(\u001b[38;5;124m'\u001b[39m\u001b[38;5;124mEnter your name: \u001b[39m\u001b[38;5;124m'\u001b[39m)\n\u001b[1;32m      5\u001b[0m city \u001b[38;5;241m=\u001b[39m \u001b[38;5;28minput\u001b[39m(\u001b[38;5;124m'\u001b[39m\u001b[38;5;124mEnter your city: \u001b[39m\u001b[38;5;124m'\u001b[39m)\n\u001b[0;32m----> 7\u001b[0m \u001b[38;5;28;01mif\u001b[39;00m name \u001b[38;5;241m==\u001b[39m my_name \u001b[38;5;129;01mand\u001b[39;00m city \u001b[38;5;241m==\u001b[39m \u001b[43mReuven\u001b[49m:\n\u001b[1;32m      8\u001b[0m     \u001b[38;5;28mprint\u001b[39m(\u001b[38;5;124mf\u001b[39m\u001b[38;5;124m'\u001b[39m\u001b[38;5;124mYou must be me!\u001b[39m\u001b[38;5;124m'\u001b[39m)\n\u001b[1;32m      9\u001b[0m \u001b[38;5;28;01melif\u001b[39;00m name \u001b[38;5;241m==\u001b[39m my_name:\n",
      "\u001b[0;31mNameError\u001b[0m: name 'Reuven' is not defined"
     ]
    }
   ],
   "source": [
    "my_name = 'Reuven'\n",
    "my_city = 'Modiin'\n",
    "\n",
    "name = input('Enter your name: ')\n",
    "city = input('Enter your city: ')\n",
    "\n",
    "if name == my_name and city == my_city:\n",
    "    print(f'You must be me!')\n",
    "elif name == my_name:\n",
    "    print(f'Great name, bad city')\n",
    "elif city == my_city:\n",
    "    print(f'Great city, bad name')\n",
    "else:\n",
    "    print(f'Bad everything!')"
   ]
  },
  {
   "cell_type": "markdown",
   "id": "3ccf3112",
   "metadata": {},
   "source": [
    "# Next up\n",
    "\n",
    "- Numbers\n",
    "- Strings"
   ]
  },
  {
   "cell_type": "code",
   "execution_count": null,
   "id": "22b60bb9",
   "metadata": {},
   "outputs": [],
   "source": [
    "github.com/reuven   "
   ]
  },
  {
   "cell_type": "markdown",
   "id": "c31629b2",
   "metadata": {},
   "source": [
    "# Numbers\n",
    "\n",
    "There are two types of numbers in Python:\n",
    "\n",
    "- `int` -- integer, whole numbers\n",
    "- `float` -- numbers with a decimal point\n",
    "\n"
   ]
  },
  {
   "cell_type": "code",
   "execution_count": 81,
   "id": "00b79abd",
   "metadata": {},
   "outputs": [
    {
     "data": {
      "text/plain": [
       "int"
      ]
     },
     "execution_count": 81,
     "metadata": {},
     "output_type": "execute_result"
    }
   ],
   "source": [
    "x = 123456\n",
    "\n",
    "type(x)"
   ]
  },
  {
   "cell_type": "code",
   "execution_count": 82,
   "id": "b7f96670",
   "metadata": {},
   "outputs": [
    {
     "name": "stdout",
     "output_type": "stream",
     "text": [
      "1234567890\n"
     ]
    }
   ],
   "source": [
    "x = 1_234_567_890\n",
    "\n",
    "print(x)"
   ]
  },
  {
   "cell_type": "code",
   "execution_count": 83,
   "id": "289fe5ef",
   "metadata": {},
   "outputs": [
    {
     "name": "stdout",
     "output_type": "stream",
     "text": [
      "1234567893\n"
     ]
    }
   ],
   "source": [
    "print(x+3)"
   ]
  },
  {
   "cell_type": "code",
   "execution_count": 84,
   "id": "09641bcf",
   "metadata": {},
   "outputs": [
    {
     "name": "stdout",
     "output_type": "stream",
     "text": [
      "1234567890\n"
     ]
    }
   ],
   "source": [
    "print(x)"
   ]
  },
  {
   "cell_type": "code",
   "execution_count": 85,
   "id": "f30af06a",
   "metadata": {},
   "outputs": [
    {
     "name": "stdout",
     "output_type": "stream",
     "text": [
      "1234567890\n"
     ]
    }
   ],
   "source": [
    "print(f'{x}')"
   ]
  },
  {
   "cell_type": "code",
   "execution_count": 91,
   "id": "25343cb2",
   "metadata": {},
   "outputs": [
    {
     "name": "stdout",
     "output_type": "stream",
     "text": [
      "Number is _____1234567890\n"
     ]
    }
   ],
   "source": [
    "print(f'Number is {x:_>15}')"
   ]
  },
  {
   "cell_type": "code",
   "execution_count": 92,
   "id": "3b5d857d",
   "metadata": {},
   "outputs": [
    {
     "name": "stdout",
     "output_type": "stream",
     "text": [
      "Number is 1,234,567,890\n"
     ]
    }
   ],
   "source": [
    "print(f'Number is {x:,}')"
   ]
  },
  {
   "cell_type": "markdown",
   "id": "45fca1f5",
   "metadata": {},
   "source": [
    "Go to https://fstring.help/ for full info about f-strings and \"format specs\" after the `:`"
   ]
  },
  {
   "cell_type": "code",
   "execution_count": 93,
   "id": "a428459d",
   "metadata": {},
   "outputs": [],
   "source": [
    "x = 10\n",
    "y = 3"
   ]
  },
  {
   "cell_type": "code",
   "execution_count": 94,
   "id": "f73220e8",
   "metadata": {},
   "outputs": [
    {
     "data": {
      "text/plain": [
       "13"
      ]
     },
     "execution_count": 94,
     "metadata": {},
     "output_type": "execute_result"
    }
   ],
   "source": [
    "# operators\n",
    "\n",
    "x + y"
   ]
  },
  {
   "cell_type": "code",
   "execution_count": 95,
   "id": "6dd44d0e",
   "metadata": {},
   "outputs": [
    {
     "data": {
      "text/plain": [
       "7"
      ]
     },
     "execution_count": 95,
     "metadata": {},
     "output_type": "execute_result"
    }
   ],
   "source": [
    "x - y"
   ]
  },
  {
   "cell_type": "code",
   "execution_count": 96,
   "id": "e29e0314",
   "metadata": {},
   "outputs": [
    {
     "data": {
      "text/plain": [
       "30"
      ]
     },
     "execution_count": 96,
     "metadata": {},
     "output_type": "execute_result"
    }
   ],
   "source": [
    "x * y   # multiplication"
   ]
  },
  {
   "cell_type": "code",
   "execution_count": 97,
   "id": "ebbddbf6",
   "metadata": {},
   "outputs": [
    {
     "data": {
      "text/plain": [
       "3.3333333333333335"
      ]
     },
     "execution_count": 97,
     "metadata": {},
     "output_type": "execute_result"
    }
   ],
   "source": [
    "x / y     # truediv -- always returns a float"
   ]
  },
  {
   "cell_type": "code",
   "execution_count": 98,
   "id": "59bd914d",
   "metadata": {},
   "outputs": [
    {
     "data": {
      "text/plain": [
       "3"
      ]
     },
     "execution_count": 98,
     "metadata": {},
     "output_type": "execute_result"
    }
   ],
   "source": [
    "x // y     # floordiv -- always returns an int"
   ]
  },
  {
   "cell_type": "code",
   "execution_count": 101,
   "id": "b653dc5b",
   "metadata": {},
   "outputs": [
    {
     "data": {
      "text/plain": [
       "1"
      ]
     },
     "execution_count": 101,
     "metadata": {},
     "output_type": "execute_result"
    }
   ],
   "source": [
    "x = 10\n",
    "y = 3\n",
    "\n",
    "x % y    # modulus -- remainder"
   ]
  },
  {
   "cell_type": "code",
   "execution_count": 100,
   "id": "9aa6003c",
   "metadata": {},
   "outputs": [
    {
     "data": {
      "text/plain": [
       "1000"
      ]
     },
     "execution_count": 100,
     "metadata": {},
     "output_type": "execute_result"
    }
   ],
   "source": [
    "x ** y   # exponentiation"
   ]
  },
  {
   "cell_type": "code",
   "execution_count": 102,
   "id": "955db1ae",
   "metadata": {},
   "outputs": [
    {
     "ename": "ZeroDivisionError",
     "evalue": "division by zero",
     "output_type": "error",
     "traceback": [
      "\u001b[0;31m---------------------------------------------------------------------------\u001b[0m",
      "\u001b[0;31mZeroDivisionError\u001b[0m                         Traceback (most recent call last)",
      "Cell \u001b[0;32mIn[102], line 1\u001b[0m\n\u001b[0;32m----> 1\u001b[0m \u001b[43mx\u001b[49m\u001b[43m \u001b[49m\u001b[38;5;241;43m/\u001b[39;49m\u001b[43m \u001b[49m\u001b[38;5;241;43m0\u001b[39;49m\n",
      "\u001b[0;31mZeroDivisionError\u001b[0m: division by zero"
     ]
    }
   ],
   "source": [
    "x / 0"
   ]
  },
  {
   "cell_type": "code",
   "execution_count": null,
   "id": "7ba9f9cb",
   "metadata": {},
   "outputs": [],
   "source": [
    "# CalRel  -- calendar releases\n",
    "\n"
   ]
  },
  {
   "cell_type": "code",
   "execution_count": 103,
   "id": "0fbe2555",
   "metadata": {},
   "outputs": [
    {
     "data": {
      "text/plain": [
       "11"
      ]
     },
     "execution_count": 103,
     "metadata": {},
     "output_type": "execute_result"
    }
   ],
   "source": [
    "x = 10\n",
    "\n",
    "# add 1 to x\n",
    "\n",
    "x = x + 1\n",
    "x"
   ]
  },
  {
   "cell_type": "code",
   "execution_count": 104,
   "id": "b47c0b6c",
   "metadata": {},
   "outputs": [],
   "source": [
    "# short form of this\n",
    "\n",
    "x += 1    # same as x = x + 1"
   ]
  },
  {
   "cell_type": "code",
   "execution_count": 105,
   "id": "41060023",
   "metadata": {},
   "outputs": [
    {
     "ename": "TypeError",
     "evalue": "can only concatenate str (not \"int\") to str",
     "output_type": "error",
     "traceback": [
      "\u001b[0;31m---------------------------------------------------------------------------\u001b[0m",
      "\u001b[0;31mTypeError\u001b[0m                                 Traceback (most recent call last)",
      "Cell \u001b[0;32mIn[105], line 4\u001b[0m\n\u001b[1;32m      1\u001b[0m x \u001b[38;5;241m=\u001b[39m \u001b[38;5;124m'\u001b[39m\u001b[38;5;124m10\u001b[39m\u001b[38;5;124m'\u001b[39m\n\u001b[1;32m      2\u001b[0m y \u001b[38;5;241m=\u001b[39m \u001b[38;5;241m20\u001b[39m\n\u001b[0;32m----> 4\u001b[0m \u001b[43mx\u001b[49m\u001b[43m \u001b[49m\u001b[38;5;241;43m+\u001b[39;49m\u001b[43m \u001b[49m\u001b[43my\u001b[49m\n",
      "\u001b[0;31mTypeError\u001b[0m: can only concatenate str (not \"int\") to str"
     ]
    }
   ],
   "source": [
    "x = '10'\n",
    "y = 20\n",
    "\n",
    "x + y"
   ]
  },
  {
   "cell_type": "code",
   "execution_count": 107,
   "id": "07597fc3",
   "metadata": {},
   "outputs": [
    {
     "data": {
      "text/plain": [
       "30"
      ]
     },
     "execution_count": 107,
     "metadata": {},
     "output_type": "execute_result"
    }
   ],
   "source": [
    "# I want to get an int based on x\n",
    "\n",
    "int(x) + y"
   ]
  },
  {
   "cell_type": "code",
   "execution_count": 108,
   "id": "f5f7922d",
   "metadata": {},
   "outputs": [
    {
     "data": {
      "text/plain": [
       "'1020'"
      ]
     },
     "execution_count": 108,
     "metadata": {},
     "output_type": "execute_result"
    }
   ],
   "source": [
    "x + str(y)"
   ]
  },
  {
   "cell_type": "code",
   "execution_count": 109,
   "id": "3b5ebd87",
   "metadata": {},
   "outputs": [
    {
     "data": {
      "text/plain": [
       "10"
      ]
     },
     "execution_count": 109,
     "metadata": {},
     "output_type": "execute_result"
    }
   ],
   "source": [
    "x = int(x)\n",
    "x"
   ]
  },
  {
   "cell_type": "code",
   "execution_count": 110,
   "id": "f658d5b9",
   "metadata": {},
   "outputs": [
    {
     "data": {
      "text/plain": [
       "int"
      ]
     },
     "execution_count": 110,
     "metadata": {},
     "output_type": "execute_result"
    }
   ],
   "source": [
    "type(x)"
   ]
  },
  {
   "cell_type": "code",
   "execution_count": 111,
   "id": "e470ebb4",
   "metadata": {},
   "outputs": [
    {
     "data": {
      "text/plain": [
       "30"
      ]
     },
     "execution_count": 111,
     "metadata": {},
     "output_type": "execute_result"
    }
   ],
   "source": [
    "x + y"
   ]
  },
  {
   "cell_type": "markdown",
   "id": "bdbd0707",
   "metadata": {},
   "source": [
    "# Exercise: Guessing game\n",
    "\n",
    "1. Choose a secret integer, and assign to `secret`.\n",
    "2. Ask the user to enter a guess, and assign to `guess`.\n",
    "3. Depending on the user's input, tell them that they are too low, too high, or just right."
   ]
  },
  {
   "cell_type": "code",
   "execution_count": 112,
   "id": "0b587e26",
   "metadata": {},
   "outputs": [
    {
     "name": "stdout",
     "output_type": "stream",
     "text": [
      "Enter your guess: 72\n"
     ]
    },
    {
     "ename": "TypeError",
     "evalue": "'>' not supported between instances of 'str' and 'int'",
     "output_type": "error",
     "traceback": [
      "\u001b[0;31m---------------------------------------------------------------------------\u001b[0m",
      "\u001b[0;31mTypeError\u001b[0m                                 Traceback (most recent call last)",
      "Cell \u001b[0;32mIn[112], line 7\u001b[0m\n\u001b[1;32m      5\u001b[0m \u001b[38;5;28;01mif\u001b[39;00m guess \u001b[38;5;241m==\u001b[39m secret:\n\u001b[1;32m      6\u001b[0m     \u001b[38;5;28mprint\u001b[39m(\u001b[38;5;124m'\u001b[39m\u001b[38;5;124mYou got it!\u001b[39m\u001b[38;5;124m'\u001b[39m)\n\u001b[0;32m----> 7\u001b[0m \u001b[38;5;28;01melif\u001b[39;00m \u001b[43mguess\u001b[49m\u001b[43m \u001b[49m\u001b[38;5;241;43m>\u001b[39;49m\u001b[43m \u001b[49m\u001b[43msecret\u001b[49m:\n\u001b[1;32m      8\u001b[0m     \u001b[38;5;28mprint\u001b[39m(\u001b[38;5;124m'\u001b[39m\u001b[38;5;124mToo high!\u001b[39m\u001b[38;5;124m'\u001b[39m)\n\u001b[1;32m      9\u001b[0m \u001b[38;5;28;01melse\u001b[39;00m:\n",
      "\u001b[0;31mTypeError\u001b[0m: '>' not supported between instances of 'str' and 'int'"
     ]
    }
   ],
   "source": [
    "secret = 72\n",
    "\n",
    "guess = input('Enter your guess: ')\n",
    "\n",
    "if guess == secret:\n",
    "    print('You got it!')\n",
    "elif guess > secret:\n",
    "    print('Too high!')\n",
    "else:\n",
    "    print('Too low!')"
   ]
  },
  {
   "cell_type": "code",
   "execution_count": null,
   "id": "a7fabda4",
   "metadata": {},
   "outputs": [],
   "source": []
  }
 ],
 "metadata": {
  "kernelspec": {
   "display_name": "Python 3 (ipykernel)",
   "language": "python",
   "name": "python3"
  },
  "language_info": {
   "codemirror_mode": {
    "name": "ipython",
    "version": 3
   },
   "file_extension": ".py",
   "mimetype": "text/x-python",
   "name": "python",
   "nbconvert_exporter": "python",
   "pygments_lexer": "ipython3",
   "version": "3.12.7"
  }
 },
 "nbformat": 4,
 "nbformat_minor": 5
}
