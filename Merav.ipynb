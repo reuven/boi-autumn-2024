{
 "cells": [
  {
   "cell_type": "code",
   "execution_count": 1,
   "id": "978a58c0",
   "metadata": {},
   "outputs": [
    {
     "name": "stdout",
     "output_type": "stream",
     "text": [
      "Hello Merav\n"
     ]
    }
   ],
   "source": [
    "print('Hello Merav')"
   ]
  },
  {
   "cell_type": "code",
   "execution_count": 2,
   "id": "153404bc",
   "metadata": {},
   "outputs": [
    {
     "name": "stdout",
     "output_type": "stream",
     "text": [
      "100\n"
     ]
    }
   ],
   "source": [
    "x=100\n",
    "print (x)"
   ]
  },
  {
   "cell_type": "code",
   "execution_count": 3,
   "id": "e5aeb09b",
   "metadata": {},
   "outputs": [
    {
     "name": "stdout",
     "output_type": "stream",
     "text": [
      "x\n"
     ]
    }
   ],
   "source": [
    "print ('x')"
   ]
  },
  {
   "cell_type": "code",
   "execution_count": 4,
   "id": "bb195160",
   "metadata": {
    "scrolled": true
   },
   "outputs": [
    {
     "data": {
      "text/plain": [
       "105"
      ]
     },
     "execution_count": 4,
     "metadata": {},
     "output_type": "execute_result"
    }
   ],
   "source": [
    "x+5"
   ]
  },
  {
   "cell_type": "code",
   "execution_count": 6,
   "id": "62ce570f",
   "metadata": {},
   "outputs": [
    {
     "name": "stdout",
     "output_type": "stream",
     "text": [
      "Enter your name: Merav\n"
     ]
    }
   ],
   "source": [
    "name= input('Enter your name: ')"
   ]
  },
  {
   "cell_type": "code",
   "execution_count": 7,
   "id": "719793c5",
   "metadata": {},
   "outputs": [
    {
     "name": "stdout",
     "output_type": "stream",
     "text": [
      "Enter your city: Jerusalem\n"
     ]
    }
   ],
   "source": [
    "city = input ('Enter your city: ')"
   ]
  },
  {
   "cell_type": "code",
   "execution_count": 13,
   "id": "739fa2ae",
   "metadata": {},
   "outputs": [
    {
     "name": "stdout",
     "output_type": "stream",
     "text": [
      "Hello, Merav, from Jerusalem!\n"
     ]
    }
   ],
   "source": [
    "print ('Hello, ' + name + ', from ' + city+ '!')"
   ]
  },
  {
   "cell_type": "code",
   "execution_count": 14,
   "id": "b2a695a5",
   "metadata": {},
   "outputs": [
    {
     "name": "stdout",
     "output_type": "stream",
     "text": [
      "Hello, Merav, from Jerusalem!\n"
     ]
    }
   ],
   "source": [
    "print(f'Hello, {name}, from {city}!')"
   ]
  },
  {
   "cell_type": "code",
   "execution_count": null,
   "id": "8feb668c",
   "metadata": {},
   "outputs": [],
   "source": []
  }
 ],
 "metadata": {
  "kernelspec": {
   "display_name": "Python 3 (ipykernel)",
   "language": "python",
   "name": "python3"
  },
  "language_info": {
   "codemirror_mode": {
    "name": "ipython",
    "version": 3
   },
   "file_extension": ".py",
   "mimetype": "text/x-python",
   "name": "python",
   "nbconvert_exporter": "python",
   "pygments_lexer": "ipython3",
   "version": "3.12.7"
  }
 },
 "nbformat": 4,
 "nbformat_minor": 5
}
