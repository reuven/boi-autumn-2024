{
 "cells": [
  {
   "cell_type": "code",
   "execution_count": 7,
   "id": "7c8d5117",
   "metadata": {},
   "outputs": [
    {
     "name": "stdout",
     "output_type": "stream",
     "text": [
      "Shalom lior\n"
     ]
    }
   ],
   "source": [
    "print('Shalom'+ ' '+ 'lior')"
   ]
  },
  {
   "cell_type": "markdown",
   "id": "bdd6e498",
   "metadata": {},
   "source": [
    "\n",
    "#Lior\n",
    "10+10"
   ]
  },
  {
   "cell_type": "code",
   "execution_count": 13,
   "id": "9fa701a7",
   "metadata": {},
   "outputs": [
    {
     "data": {
      "text/plain": [
       "20"
      ]
     },
     "execution_count": 13,
     "metadata": {},
     "output_type": "execute_result"
    }
   ],
   "source": [
    "10+10"
   ]
  },
  {
   "cell_type": "code",
   "execution_count": 18,
   "id": "f42d04f1",
   "metadata": {},
   "outputs": [
    {
     "name": "stdout",
     "output_type": "stream",
     "text": [
      "name pls Lior\n"
     ]
    }
   ],
   "source": [
    "name= input('name pls')\n",
    "\n"
   ]
  },
  {
   "cell_type": "code",
   "execution_count": 19,
   "id": "38d9af59",
   "metadata": {},
   "outputs": [
    {
     "name": "stdout",
     "output_type": "stream",
     "text": [
      "city pls Yavne\n"
     ]
    }
   ],
   "source": [
    "city= input('city pls')"
   ]
  },
  {
   "cell_type": "code",
   "execution_count": 25,
   "id": "d776459d",
   "metadata": {},
   "outputs": [
    {
     "name": "stdout",
     "output_type": "stream",
     "text": [
      " Lior Yavne\n"
     ]
    }
   ],
   "source": [
    "print ( name+ city)"
   ]
  },
  {
   "cell_type": "code",
   "execution_count": 34,
   "id": "c4c38b4c",
   "metadata": {},
   "outputs": [
    {
     "name": "stdout",
     "output_type": "stream",
     "text": [
      "Hello   LiorFrom Yavne\n"
     ]
    }
   ],
   "source": [
    "print (\"Hello\"\" \" + \" \" + name + \" \" \"From\" + \" \" + \"Yavne\")"
   ]
  }
 ],
 "metadata": {
  "kernelspec": {
   "display_name": "Python 3 (ipykernel)",
   "language": "python",
   "name": "python3"
  },
  "language_info": {
   "codemirror_mode": {
    "name": "ipython",
    "version": 3
   },
   "file_extension": ".py",
   "mimetype": "text/x-python",
   "name": "python",
   "nbconvert_exporter": "python",
   "pygments_lexer": "ipython3",
   "version": "3.12.7"
  }
 },
 "nbformat": 4,
 "nbformat_minor": 5
}
