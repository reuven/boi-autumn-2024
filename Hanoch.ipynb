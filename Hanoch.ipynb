{
 "cells": [
  {
   "cell_type": "code",
   "execution_count": 1,
   "id": "ebc1e5e6",
   "metadata": {},
   "outputs": [
    {
     "name": "stdout",
     "output_type": "stream",
     "text": [
      "shalomtohanoch\n"
     ]
    }
   ],
   "source": [
    "print ('shalom' + 'to'+ \"hanoch\")"
   ]
  },
  {
   "cell_type": "code",
   "execution_count": 2,
   "id": "e65d4441",
   "metadata": {},
   "outputs": [
    {
     "name": "stdout",
     "output_type": "stream",
     "text": [
      "shalom to hanoch\n"
     ]
    }
   ],
   "source": [
    "print ('shalom to hanoch')"
   ]
  },
  {
   "cell_type": "code",
   "execution_count": 6,
   "id": "1315612f",
   "metadata": {},
   "outputs": [
    {
     "name": "stdout",
     "output_type": "stream",
     "text": [
      "100\n"
     ]
    }
   ],
   "source": [
    "x = 100\n",
    "print(x)"
   ]
  },
  {
   "cell_type": "markdown",
   "id": "e13dc29a",
   "metadata": {},
   "source": [
    "name = 'hanoch'"
   ]
  },
  {
   "cell_type": "code",
   "execution_count": 7,
   "id": "0b063914",
   "metadata": {},
   "outputs": [
    {
     "ename": "NameError",
     "evalue": "name 'name' is not defined",
     "output_type": "error",
     "traceback": [
      "\u001b[0;31m---------------------------------------------------------------------------\u001b[0m",
      "\u001b[0;31mNameError\u001b[0m                                 Traceback (most recent call last)",
      "Cell \u001b[0;32mIn[7], line 1\u001b[0m\n\u001b[0;32m----> 1\u001b[0m \u001b[38;5;28mprint\u001b[39m (\u001b[38;5;124m'\u001b[39m\u001b[38;5;124mhello,\u001b[39m\u001b[38;5;124m'\u001b[39m \u001b[38;5;241m+\u001b[39m \u001b[43mname\u001b[49m)\n",
      "\u001b[0;31mNameError\u001b[0m: name 'name' is not defined"
     ]
    }
   ],
   "source": [
    "print ('hello,' + name)"
   ]
  },
  {
   "cell_type": "code",
   "execution_count": 11,
   "id": "6bee704d",
   "metadata": {},
   "outputs": [
    {
     "name": "stdout",
     "output_type": "stream",
     "text": [
      "hello, Hanoch\n"
     ]
    }
   ],
   "source": [
    "name = 'Hanoch'\n",
    "print ('hello, ' + name)"
   ]
  },
  {
   "cell_type": "code",
   "execution_count": 12,
   "id": "52bb5e69",
   "metadata": {},
   "outputs": [
    {
     "data": {
      "text/plain": [
       "100"
      ]
     },
     "execution_count": 12,
     "metadata": {},
     "output_type": "execute_result"
    }
   ],
   "source": [
    "x"
   ]
  },
  {
   "cell_type": "code",
   "execution_count": null,
   "id": "25fb144c",
   "metadata": {},
   "outputs": [],
   "source": []
  },
  {
   "cell_type": "code",
   "execution_count": 13,
   "id": "95aedb21",
   "metadata": {},
   "outputs": [
    {
     "data": {
      "text/plain": [
       "105"
      ]
     },
     "execution_count": 13,
     "metadata": {},
     "output_type": "execute_result"
    }
   ],
   "source": [
    "x + 5"
   ]
  },
  {
   "cell_type": "code",
   "execution_count": 16,
   "id": "2e27b05f",
   "metadata": {},
   "outputs": [
    {
     "data": {
      "text/plain": [
       "int"
      ]
     },
     "execution_count": 16,
     "metadata": {},
     "output_type": "execute_result"
    }
   ],
   "source": [
    "# 'what kind of value is in x?'\n",
    "type (x)"
   ]
  },
  {
   "cell_type": "code",
   "execution_count": 17,
   "id": "eb0dffe9",
   "metadata": {},
   "outputs": [
    {
     "data": {
      "text/plain": [
       "str"
      ]
     },
     "execution_count": 17,
     "metadata": {},
     "output_type": "execute_result"
    }
   ],
   "source": [
    "x= 'abcd'\n",
    "type (x)"
   ]
  },
  {
   "cell_type": "code",
   "execution_count": 19,
   "id": "fe598dba",
   "metadata": {},
   "outputs": [
    {
     "data": {
      "text/plain": [
       "True"
      ]
     },
     "execution_count": 19,
     "metadata": {},
     "output_type": "execute_result"
    }
   ],
   "source": [
    "x=10\n",
    "y=10# are x and y the same?\n",
    "\n",
    "x==y"
   ]
  },
  {
   "cell_type": "code",
   "execution_count": 20,
   "id": "28e1edec",
   "metadata": {},
   "outputs": [
    {
     "data": {
      "text/plain": [
       "False"
      ]
     },
     "execution_count": 20,
     "metadata": {},
     "output_type": "execute_result"
    }
   ],
   "source": [
    "100<10"
   ]
  },
  {
   "cell_type": "code",
   "execution_count": 21,
   "id": "3c6dc30a",
   "metadata": {},
   "outputs": [
    {
     "name": "stdout",
     "output_type": "stream",
     "text": [
      "Enter your name:Hanoch\n"
     ]
    }
   ],
   "source": [
    "name = input('Enter your name:')"
   ]
  },
  {
   "cell_type": "code",
   "execution_count": 25,
   "id": "3de7deb4",
   "metadata": {},
   "outputs": [
    {
     "name": "stdout",
     "output_type": "stream",
     "text": [
      "Hello,Givatyiam!\n"
     ]
    }
   ],
   "source": [
    "print ('Hello,' +name+ \"!\")"
   ]
  },
  {
   "cell_type": "code",
   "execution_count": 26,
   "id": "2170f9bf",
   "metadata": {},
   "outputs": [
    {
     "name": "stdout",
     "output_type": "stream",
     "text": [
      "Enter your name:Hanoch\n"
     ]
    }
   ],
   "source": [
    "name = input('Enter your name:')"
   ]
  },
  {
   "cell_type": "code",
   "execution_count": 27,
   "id": "f0ab13a3",
   "metadata": {},
   "outputs": [
    {
     "name": "stdout",
     "output_type": "stream",
     "text": [
      "Enter your city:Givataym\n"
     ]
    }
   ],
   "source": [
    "city = input('Enter your city:')"
   ]
  },
  {
   "cell_type": "code",
   "execution_count": 29,
   "id": "93550eb2",
   "metadata": {},
   "outputs": [
    {
     "name": "stdout",
     "output_type": "stream",
     "text": [
      "namecity\n"
     ]
    }
   ],
   "source": [
    "print (name + city)"
   ]
  },
  {
   "cell_type": "code",
   "execution_count": 39,
   "id": "6f78834e",
   "metadata": {},
   "outputs": [
    {
     "ename": "SyntaxError",
     "evalue": "unterminated string literal (detected at line 1) (1736058751.py, line 1)",
     "output_type": "error",
     "traceback": [
      "\u001b[0;36m  Cell \u001b[0;32mIn[39], line 1\u001b[0;36m\u001b[0m\n\u001b[0;31m    print (f\"hello\" + (name) + \"from = city + '!')\u001b[0m\n\u001b[0m                               ^\u001b[0m\n\u001b[0;31mSyntaxError\u001b[0m\u001b[0;31m:\u001b[0m unterminated string literal (detected at line 1)\n"
     ]
    }
   ],
   "source": [
    "print (f\"hello\" + (name) + \"from = city + '!')"
   ]
  },
  {
   "cell_type": "code",
   "execution_count": 40,
   "id": "7835972c",
   "metadata": {
    "scrolled": true
   },
   "outputs": [
    {
     "name": "stdout",
     "output_type": "stream",
     "text": [
      "(x) +(y) = (x+y)\n"
     ]
    }
   ],
   "source": [
    "x = 10\n",
    "y = 20\n",
    "print (f'(x) +(y) = (x+y)')"
   ]
  },
  {
   "cell_type": "code",
   "execution_count": 43,
   "id": "550eef36",
   "metadata": {},
   "outputs": [
    {
     "name": "stdout",
     "output_type": "stream",
     "text": [
      "Enter your name: Hanoch\n",
      "hello, boss!\n",
      "greatto see you again!\n"
     ]
    }
   ],
   "source": [
    "name = input ('Enter your name: ')\n",
    "\n",
    "if name == 'Hanoch':\n",
    "    print (\"hello, boss!\")\n",
    "    print('greatto see you again!')\n",
    "else:\n",
    "    print(f'hello, (name), whoever you are')\n"
   ]
  },
  {
   "cell_type": "code",
   "execution_count": 46,
   "id": "aac0995e",
   "metadata": {},
   "outputs": [
    {
     "name": "stdout",
     "output_type": "stream",
     "text": [
      "Enter your city: tel aviv\n",
      "hello, (name), whoever you are\n"
     ]
    }
   ],
   "source": [
    "name = input ('Enter your city: ')\n",
    "\n",
    "if name == 'haifa':\n",
    "    print (\"I, love, haifa!\")\n",
    "    print('great placeto be in!')\n",
    "else:\n",
    "    print(f'hello, (name), whoever you are')"
   ]
  },
  {
   "cell_type": "code",
   "execution_count": 47,
   "id": "86af55e6",
   "metadata": {},
   "outputs": [],
   "source": [
    "x=100"
   ]
  },
  {
   "cell_type": "code",
   "execution_count": 48,
   "id": "8824a79b",
   "metadata": {},
   "outputs": [],
   "source": [
    "y=200\n"
   ]
  },
  {
   "cell_type": "code",
   "execution_count": 49,
   "id": "6021d009",
   "metadata": {},
   "outputs": [
    {
     "name": "stdout",
     "output_type": "stream",
     "text": [
      "300\n"
     ]
    }
   ],
   "source": [
    "print (x+y)"
   ]
  },
  {
   "cell_type": "code",
   "execution_count": 56,
   "id": "f154b6f7",
   "metadata": {},
   "outputs": [
    {
     "ename": "SyntaxError",
     "evalue": "unterminated string literal (detected at line 5) (354161529.py, line 5)",
     "output_type": "error",
     "traceback": [
      "\u001b[0;36m  Cell \u001b[0;32mIn[56], line 5\u001b[0;36m\u001b[0m\n\u001b[0;31m    print(\"f'(word1) comes before (word2))\u001b[0m\n\u001b[0m          ^\u001b[0m\n\u001b[0;31mSyntaxError\u001b[0m\u001b[0;31m:\u001b[0m unterminated string literal (detected at line 5)\n"
     ]
    }
   ],
   "source": [
    "word1 = input('Enter first word: ')\n",
    "word2 = input('Enter second word: ')\n",
    "\n",
    "if word1 > word2:\n",
    "              print(\"f'(word1) comes before (word2))\n",
    "if word1 < word2:\n",
    "              print(\"f'(word1) comes after (word2))"
   ]
  },
  {
   "cell_type": "code",
   "execution_count": 57,
   "id": "95a5e7c2",
   "metadata": {},
   "outputs": [
    {
     "name": "stdout",
     "output_type": "stream",
     "text": [
      "Bigger than 24\n"
     ]
    }
   ],
   "source": [
    "x = 25\n",
    "\n",
    "if x > 90:\n",
    "    print('Bigger than 90')\n",
    "elif x > 70:\n",
    "    print('Bigger than 70')\n",
    "elif x > 50:\n",
    "    print('Bigger than 50')\n",
    "elif x > 24:\n",
    "    print('Bigger than 24')\n",
    "elif x > -1:\n",
    "     print('Bigger than -1')\n",
    "else:\n",
    "    print('who cares?')"
   ]
  },
  {
   "cell_type": "code",
   "execution_count": null,
   "id": "3dbf7683",
   "metadata": {},
   "outputs": [],
   "source": []
  }
 ],
 "metadata": {
  "kernelspec": {
   "display_name": "Python 3 (ipykernel)",
   "language": "python",
   "name": "python3"
  },
  "language_info": {
   "codemirror_mode": {
    "name": "ipython",
    "version": 3
   },
   "file_extension": ".py",
   "mimetype": "text/x-python",
   "name": "python",
   "nbconvert_exporter": "python",
   "pygments_lexer": "ipython3",
   "version": "3.12.7"
  }
 },
 "nbformat": 4,
 "nbformat_minor": 5
}
