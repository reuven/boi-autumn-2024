{
 "cells": [
  {
   "cell_type": "markdown",
   "id": "9634766a",
   "metadata": {},
   "source": [
    "# https://python.lerner.co.il\n",
    "\n",
    "Password: boipw!!"
   ]
  },
  {
   "cell_type": "markdown",
   "id": "34d20161",
   "metadata": {},
   "source": [
    "# Agenda\n",
    "\n",
    "1. Loops\n",
    "2. List\n",
    "3. Dictionary\n",
    "4. Files\n",
    "5. Modules"
   ]
  },
  {
   "cell_type": "code",
   "execution_count": 1,
   "id": "ef712b2a",
   "metadata": {},
   "outputs": [
    {
     "name": "stdout",
     "output_type": "stream",
     "text": [
      "a\n",
      "b\n",
      "c\n",
      "d\n"
     ]
    }
   ],
   "source": [
    "s = 'abcd'\n",
    "\n",
    "print(s[0])\n",
    "print(s[1])\n",
    "print(s[2])\n",
    "print(s[3])"
   ]
  },
  {
   "cell_type": "markdown",
   "id": "73b1ac5d",
   "metadata": {},
   "source": [
    "# Loops\n",
    "\n",
    "1. `for` loops\n",
    "2. `while` loops"
   ]
  },
  {
   "cell_type": "code",
   "execution_count": 2,
   "id": "c6b47b02",
   "metadata": {},
   "outputs": [
    {
     "name": "stdout",
     "output_type": "stream",
     "text": [
      "a\n",
      "b\n",
      "c\n",
      "d\n"
     ]
    }
   ],
   "source": [
    "s = 'abcd'\n",
    "\n",
    "for one_character in s:\n",
    "    print(one_character)"
   ]
  },
  {
   "cell_type": "code",
   "execution_count": 3,
   "id": "982dacc0",
   "metadata": {},
   "outputs": [
    {
     "name": "stdout",
     "output_type": "stream",
     "text": [
      "c\n",
      "d\n"
     ]
    }
   ],
   "source": [
    "s = 'abcd'\n",
    "\n",
    "for one_character in s[2:]:\n",
    "    print(one_character)"
   ]
  },
  {
   "cell_type": "code",
   "execution_count": 4,
   "id": "78786286",
   "metadata": {},
   "outputs": [
    {
     "ename": "TypeError",
     "evalue": "'int' object is not iterable",
     "output_type": "error",
     "traceback": [
      "\u001b[0;31m---------------------------------------------------------------------------\u001b[0m",
      "\u001b[0;31mTypeError\u001b[0m                                 Traceback (most recent call last)",
      "Cell \u001b[0;32mIn[4], line 1\u001b[0m\n\u001b[0;32m----> 1\u001b[0m \u001b[38;5;28;01mfor\u001b[39;00m counter \u001b[38;5;129;01min\u001b[39;00m \u001b[38;5;241m3\u001b[39m:\n\u001b[1;32m      2\u001b[0m     \u001b[38;5;28mprint\u001b[39m(\u001b[38;5;124m'\u001b[39m\u001b[38;5;124mHooray\u001b[39m\u001b[38;5;124m'\u001b[39m)\n",
      "\u001b[0;31mTypeError\u001b[0m: 'int' object is not iterable"
     ]
    }
   ],
   "source": [
    "for counter in 3:\n",
    "    print('Hooray')"
   ]
  },
  {
   "cell_type": "code",
   "execution_count": 5,
   "id": "21ec1567",
   "metadata": {},
   "outputs": [
    {
     "name": "stdout",
     "output_type": "stream",
     "text": [
      "Hooray\n",
      "Hooray\n",
      "Hooray\n"
     ]
    }
   ],
   "source": [
    "for counter in range(3):    # use range(n) for n iterations\n",
    "    print('Hooray')"
   ]
  },
  {
   "cell_type": "code",
   "execution_count": 6,
   "id": "854f2298",
   "metadata": {},
   "outputs": [
    {
     "name": "stdout",
     "output_type": "stream",
     "text": [
      "0 Hooray\n",
      "1 Hooray\n",
      "2 Hooray\n"
     ]
    }
   ],
   "source": [
    "for counter in range(3):    # range(3) gives me 0, 1, 2\n",
    "    print(f'{counter} Hooray')"
   ]
  },
  {
   "cell_type": "code",
   "execution_count": 7,
   "id": "82dda08f",
   "metadata": {},
   "outputs": [
    {
     "name": "stdout",
     "output_type": "stream",
     "text": [
      "0\n",
      "1\n",
      "2\n",
      "3\n",
      "4\n"
     ]
    }
   ],
   "source": [
    "# to end a loop early, use break\n",
    "# if we've achieved our goal early\n",
    "\n",
    "for counter in range(10):\n",
    "    if counter == 5:\n",
    "        break\n",
    "    print(counter)"
   ]
  },
  {
   "cell_type": "code",
   "execution_count": 10,
   "id": "63892717",
   "metadata": {},
   "outputs": [
    {
     "name": "stdout",
     "output_type": "stream",
     "text": [
      "0\n",
      "1\n",
      "2\n",
      "3\n",
      "4\n",
      "6\n",
      "7\n",
      "8\n",
      "9\n"
     ]
    }
   ],
   "source": [
    "# to end the current iteration early, use continue\n",
    "# if there's no reason to continue with the current one\n",
    "\n",
    "for counter in range(10):\n",
    "    if counter == 5:\n",
    "        continue    # go onto the next iteration\n",
    "    print(counter)"
   ]
  },
  {
   "cell_type": "code",
   "execution_count": 11,
   "id": "3ad27cc8",
   "metadata": {},
   "outputs": [
    {
     "name": "stdout",
     "output_type": "stream",
     "text": [
      "Looking for j.... found a\n",
      "Looking for j.... found b\n",
      "Looking for j.... found c\n",
      "Looking for j.... found d\n",
      "Looking for j.... found e\n",
      "Looking for j.... found f\n",
      "Looking for j.... found g\n",
      "Looking for j.... found h\n",
      "Looking for j.... found i\n",
      "Found j! Exiting\n"
     ]
    }
   ],
   "source": [
    "s = 'abcdefghijklmnopqrstuvwxyz'\n",
    "\n",
    "to_find = 'j'\n",
    "\n",
    "for one_character in s:\n",
    "    if one_character == to_find:\n",
    "        print(f'Found {to_find}! Exiting')\n",
    "        break\n",
    "    print(f'Looking for {to_find}.... found {one_character}')"
   ]
  },
  {
   "cell_type": "code",
   "execution_count": 12,
   "id": "1f87cc15",
   "metadata": {},
   "outputs": [
    {
     "name": "stdout",
     "output_type": "stream",
     "text": [
      "Found j! Exiting\n"
     ]
    }
   ],
   "source": [
    "s = 'abcdefghijklmnopqrstuvwxyz'\n",
    "\n",
    "to_find = 'j'\n",
    "\n",
    "for one_character in s:\n",
    "    if one_character != to_find:\n",
    "        continue\n",
    "    print(f'Found {to_find}! Exiting')\n"
   ]
  },
  {
   "cell_type": "code",
   "execution_count": 17,
   "id": "7e31108b",
   "metadata": {},
   "outputs": [],
   "source": [
    "# s = 'abcdefghijklmnopqrstuvwxyz'\n",
    "s = 'abcde'\n",
    "\n",
    "to_find = 'jklmn'\n",
    "\n",
    "for one_character in s:\n",
    "    if one_character in to_find: \n",
    "        print(f'{one_character} is in {to_find}! Exiting')\n",
    "        break\n"
   ]
  },
  {
   "cell_type": "code",
   "execution_count": 21,
   "id": "0ccebda5",
   "metadata": {},
   "outputs": [
    {
     "name": "stdout",
     "output_type": "stream",
     "text": [
      "\tLooking at a\n",
      "\tLooking at 1\n",
      "\t\tFound a digit, adding to total\n",
      "\tLooking at b\n",
      "\tLooking at 2\n",
      "\t\tFound a digit, adding to total\n",
      "\tLooking at c\n",
      "\tLooking at 3\n",
      "\t\tFound a digit, adding to total\n",
      "\tLooking at 4\n",
      "\t\tFound a digit, adding to total\n",
      "10\n"
     ]
    }
   ],
   "source": [
    "# add the digits in s\n",
    "\n",
    "s = 'a1b2c34'\n",
    "total = 0\n",
    "\n",
    "for one_character in s:\n",
    "    print(f'\\tLooking at {one_character}')\n",
    "    if one_character.isdigit():\n",
    "        print(f'\\t\\tFound a digit, adding to total')\n",
    "        total += int(one_character)\n",
    "    \n",
    "print(total)    "
   ]
  },
  {
   "cell_type": "code",
   "execution_count": 22,
   "id": "1e1fce0b",
   "metadata": {},
   "outputs": [
    {
     "name": "stdout",
     "output_type": "stream",
     "text": [
      "0\n",
      "1\n",
      "2\n",
      "3\n",
      "4\n"
     ]
    }
   ],
   "source": [
    "for one_item in range(5):   \n",
    "    print(one_item)"
   ]
  },
  {
   "cell_type": "markdown",
   "id": "77ac362b",
   "metadata": {},
   "source": [
    "DRY -- don't repeat yourself"
   ]
  },
  {
   "cell_type": "code",
   "execution_count": 23,
   "id": "589e89a6",
   "metadata": {},
   "outputs": [
    {
     "data": {
      "text/plain": [
       "'a1b2c34'"
      ]
     },
     "execution_count": 23,
     "metadata": {},
     "output_type": "execute_result"
    }
   ],
   "source": [
    "s = 'abcdefghijklmnopqrstuvwxyz'\n",
    "\n",
    "for one_letter in s[10:20]"
   ]
  },
  {
   "cell_type": "code",
   "execution_count": null,
   "id": "71506ea6",
   "metadata": {},
   "outputs": [],
   "source": []
  }
 ],
 "metadata": {
  "kernelspec": {
   "display_name": "Python 3 (ipykernel)",
   "language": "python",
   "name": "python3"
  },
  "language_info": {
   "codemirror_mode": {
    "name": "ipython",
    "version": 3
   },
   "file_extension": ".py",
   "mimetype": "text/x-python",
   "name": "python",
   "nbconvert_exporter": "python",
   "pygments_lexer": "ipython3",
   "version": "3.12.7"
  }
 },
 "nbformat": 4,
 "nbformat_minor": 5
}
