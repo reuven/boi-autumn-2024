{
 "cells": [
  {
   "cell_type": "code",
   "execution_count": 1,
   "id": "8cd4f5c2",
   "metadata": {},
   "outputs": [
    {
     "name": "stdout",
     "output_type": "stream",
     "text": [
      "hello Mark\n"
     ]
    }
   ],
   "source": [
    "print('hello Mark')"
   ]
  },
  {
   "cell_type": "code",
   "execution_count": 3,
   "id": "0b31f8f4",
   "metadata": {},
   "outputs": [
    {
     "name": "stdout",
     "output_type": "stream",
     "text": [
      "Enter your mame: Mark\n"
     ]
    }
   ],
   "source": [
    "name = input ('Enter your mame: ')"
   ]
  },
  {
   "cell_type": "code",
   "execution_count": 4,
   "id": "1c19eb36",
   "metadata": {},
   "outputs": [
    {
     "name": "stdout",
     "output_type": "stream",
     "text": [
      "Enter your city: Jerusalem\n"
     ]
    }
   ],
   "source": [
    "city = input ('Enter your city: ')"
   ]
  },
  {
   "cell_type": "code",
   "execution_count": 8,
   "id": "42b7267f",
   "metadata": {},
   "outputs": [
    {
     "name": "stdout",
     "output_type": "stream",
     "text": [
      "Mark from Jerusalem\n"
     ]
    }
   ],
   "source": [
    "print (name + ' from ' +city)"
   ]
  },
  {
   "cell_type": "code",
   "execution_count": 12,
   "id": "a5c7fa2e",
   "metadata": {},
   "outputs": [
    {
     "name": "stdout",
     "output_type": "stream",
     "text": [
      "Enter word 1: Dor\n",
      "Enter word 2: Mark\n",
      "Mark comes first\n"
     ]
    }
   ],
   "source": [
    "word1 = input('Enter word 1: ')\n",
    "word2 = input('Enter word 2: ')\n",
    "if word1 > word2:\n",
    "    print(f'{word1} comes first')\n",
    "elif word1==word2:\n",
    "    print('the words are identical')\n",
    "else:\n",
    "    print(f'{word2} comes first')"
   ]
  },
  {
   "cell_type": "code",
   "execution_count": null,
   "id": "1515639a",
   "metadata": {},
   "outputs": [],
   "source": []
  }
 ],
 "metadata": {
  "kernelspec": {
   "display_name": "Python 3 (ipykernel)",
   "language": "python",
   "name": "python3"
  },
  "language_info": {
   "codemirror_mode": {
    "name": "ipython",
    "version": 3
   },
   "file_extension": ".py",
   "mimetype": "text/x-python",
   "name": "python",
   "nbconvert_exporter": "python",
   "pygments_lexer": "ipython3",
   "version": "3.12.7"
  }
 },
 "nbformat": 4,
 "nbformat_minor": 5
}
