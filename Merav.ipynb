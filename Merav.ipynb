{
 "cells": [
  {
   "cell_type": "code",
   "execution_count": 1,
   "id": "6838ccb3",
   "metadata": {},
   "outputs": [
    {
     "name": "stdout",
     "output_type": "stream",
     "text": [
      "Hello Merav\n"
     ]
    }
   ],
   "source": [
    "print('Hello Merav')"
   ]
  },
  {
   "cell_type": "code",
   "execution_count": 2,
   "id": "a661a86c",
   "metadata": {},
   "outputs": [
    {
     "name": "stdout",
     "output_type": "stream",
     "text": [
      "100\n"
     ]
    }
   ],
   "source": [
    "x=100\n",
    "print (x)"
   ]
  },
  {
   "cell_type": "code",
   "execution_count": 3,
   "id": "a209a86b",
   "metadata": {},
   "outputs": [
    {
     "name": "stdout",
     "output_type": "stream",
     "text": [
      "x\n"
     ]
    }
   ],
   "source": [
    "print ('x')"
   ]
  },
  {
   "cell_type": "code",
   "execution_count": 4,
   "id": "e1d20300",
   "metadata": {
    "scrolled": true
   },
   "outputs": [
    {
     "data": {
      "text/plain": [
       "105"
      ]
     },
     "execution_count": 4,
     "metadata": {},
     "output_type": "execute_result"
    }
   ],
   "source": [
    "x+5"
   ]
  },
  {
   "cell_type": "code",
   "execution_count": 6,
   "id": "7b23fd17",
   "metadata": {},
   "outputs": [
    {
     "name": "stdout",
     "output_type": "stream",
     "text": [
      "Enter your name: Merav\n"
     ]
    }
   ],
   "source": [
    "name= input('Enter your name: ')"
   ]
  },
  {
   "cell_type": "code",
   "execution_count": 7,
   "id": "24e7e93a",
   "metadata": {},
   "outputs": [
    {
     "name": "stdout",
     "output_type": "stream",
     "text": [
      "Enter your city: Jerusalem\n"
     ]
    }
   ],
   "source": [
    "city = input ('Enter your city: ')"
   ]
  },
  {
   "cell_type": "code",
   "execution_count": 13,
   "id": "d8e20a62",
   "metadata": {},
   "outputs": [
    {
     "name": "stdout",
     "output_type": "stream",
     "text": [
      "Hello, Merav, from Jerusalem!\n"
     ]
    }
   ],
   "source": [
    "print ('Hello, ' + name + ', from ' + city+ '!')"
   ]
  },
  {
   "cell_type": "code",
   "execution_count": 14,
   "id": "4d2db195",
   "metadata": {},
   "outputs": [
    {
     "name": "stdout",
     "output_type": "stream",
     "text": [
      "Hello, Merav, from Jerusalem!\n"
     ]
    }
   ],
   "source": [
    "print(f'Hello, {name}, from {city}!')"
   ]
  },
  {
   "cell_type": "code",
   "execution_count": null,
   "id": "c0d08f83",
   "metadata": {},
   "outputs": [],
   "source": [
    "name = input('Enter your name')"
   ]
  },
  {
   "cell_type": "code",
   "execution_count": 17,
   "id": "4e66ee1d",
   "metadata": {},
   "outputs": [
    {
     "name": "stdout",
     "output_type": "stream",
     "text": [
      "Enter your name: Merav\n",
      "Hello you, good morning\n"
     ]
    }
   ],
   "source": [
    "name = input ('Enter your name: ')\n",
    "\n",
    "if name == 'Merav':\n",
    "    print('Hello you, good morning')\n",
    "else:\n",
    "    print(f'Hello {name}, good morning')"
   ]
  },
  {
   "cell_type": "code",
   "execution_count": 29,
   "id": "6c66b9fb",
   "metadata": {},
   "outputs": [
    {
     "name": "stdout",
     "output_type": "stream",
     "text": [
      "Enter your name: Merav\n",
      "Enter your city: Jerusalem\n",
      "You must be me\n"
     ]
    }
   ],
   "source": [
    "name = input('Enter your name: ')\n",
    "city = input('Enter your city: ')\n",
    "\n",
    "if name == \"Merav\" and city == \"Jerusalem\":\n",
    "    print ('You must be me')\n",
    "elif name == \"Merav\" and city != \"jerusalem\":\n",
    "    print ('Nice name, bad city')\n",
    "elif name != \"Merav\" and city == \"Jerusalem\":\n",
    "    print ('We live in the same city')\n",
    "else:\n",
    "    print ('Bad name and bad city')\n",
    "    "
   ]
  },
  {
   "cell_type": "code",
   "execution_count": 39,
   "id": "81c34b02",
   "metadata": {},
   "outputs": [
    {
     "name": "stdout",
     "output_type": "stream",
     "text": [
      "enter a guess: 100\n",
      "just right\n"
     ]
    }
   ],
   "source": [
    "x=100\n",
    "secret=100\n",
    "guess = input ('enter a guess: ')\n",
    "guess = int (guess)\n",
    "\n",
    "if guess < secret:\n",
    "    print ('too low')\n",
    "elif guess > secret:\n",
    "    print ('too high')\n",
    "else:\n",
    "    print ('just right')"
   ]
  },
  {
   "cell_type": "code",
   "execution_count": 50,
   "id": "552ccc1c",
   "metadata": {},
   "outputs": [
    {
     "ename": "SyntaxError",
     "evalue": "invalid syntax (1404992935.py, line 3)",
     "output_type": "error",
     "traceback": [
      "\u001b[0;36m  Cell \u001b[0;32mIn[50], line 3\u001b[0;36m\u001b[0m\n\u001b[0;31m    if 1 is in(aeiou):\u001b[0m\n\u001b[0m            ^\u001b[0m\n\u001b[0;31mSyntaxError\u001b[0m\u001b[0;31m:\u001b[0m invalid syntax\n"
     ]
    }
   ],
   "source": [
    "word = input('Enter a word:')\n",
    "\n",
    "\n",
    "if 1 is in(aeiou):\n",
    "    print (word+'way')\n",
    "else:\n",
    "    print (s[start 1]+'ay')"
   ]
  },
  {
   "cell_type": "code",
   "execution_count": null,
   "id": "3cc1ce7f",
   "metadata": {},
   "outputs": [],
   "source": []
  }
 ],
 "metadata": {
  "kernelspec": {
   "display_name": "Python 3 (ipykernel)",
   "language": "python",
   "name": "python3"
  },
  "language_info": {
   "codemirror_mode": {
    "name": "ipython",
    "version": 3
   },
   "file_extension": ".py",
   "mimetype": "text/x-python",
   "name": "python",
   "nbconvert_exporter": "python",
   "pygments_lexer": "ipython3",
   "version": "3.12.7"
  }
 },
 "nbformat": 4,
 "nbformat_minor": 5
}
