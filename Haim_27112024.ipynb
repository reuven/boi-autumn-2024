{
 "cells": [
  {
   "cell_type": "code",
   "execution_count": 1,
   "id": "43fe24da",
   "metadata": {},
   "outputs": [
    {
     "name": "stdout",
     "output_type": "stream",
     "text": [
      "write your text:hello\n"
     ]
    }
   ],
   "source": [
    "digits = 0\n",
    "vowels = 0\n",
    "others = 0\n",
    "put_text = input ('write your text:')\n",
    "for one_character in put_text:\n",
    "    if one_character.isdigit():\n",
    "        total += int(one_character)\n",
    "        print(f'\\t\\tFound a digit, adding to total')\n",
    "        "
   ]
  },
  {
   "cell_type": "code",
   "execution_count": null,
   "id": "50573bf2",
   "metadata": {},
   "outputs": [],
   "source": []
  }
 ],
 "metadata": {
  "kernelspec": {
   "display_name": "Python 3 (ipykernel)",
   "language": "python",
   "name": "python3"
  },
  "language_info": {
   "codemirror_mode": {
    "name": "ipython",
    "version": 3
   },
   "file_extension": ".py",
   "mimetype": "text/x-python",
   "name": "python",
   "nbconvert_exporter": "python",
   "pygments_lexer": "ipython3",
   "version": "3.12.7"
  }
 },
 "nbformat": 4,
 "nbformat_minor": 5
}
