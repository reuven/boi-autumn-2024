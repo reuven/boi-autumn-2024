{
 "cells": [
  {
   "cell_type": "code",
   "execution_count": 2,
   "id": "d56b88ec",
   "metadata": {},
   "outputs": [],
   "source": [
    "import random"
   ]
  },
  {
   "cell_type": "code",
   "execution_count": 5,
   "id": "6d6c0186",
   "metadata": {},
   "outputs": [
    {
     "data": {
      "text/plain": [
       "93"
      ]
     },
     "execution_count": 5,
     "metadata": {},
     "output_type": "execute_result"
    }
   ],
   "source": [
    "random.randint (0,100)"
   ]
  },
  {
   "cell_type": "code",
   "execution_count": 7,
   "id": "c5d9ca40",
   "metadata": {},
   "outputs": [],
   "source": [
    "import pandas as pd"
   ]
  },
  {
   "cell_type": "code",
   "execution_count": 10,
   "id": "ff4fcf04",
   "metadata": {},
   "outputs": [],
   "source": [
    "from pandas import Series, DataFrame\n",
    "# datafranme זה כמו גליונות אקסל.\n",
    "#\n",
    "#זה כמו אקסל בתוך פייתון\n"
   ]
  },
  {
   "cell_type": "code",
   "execution_count": 15,
   "id": "a8923840",
   "metadata": {},
   "outputs": [],
   "source": [
    "s = Series([10, 20, 30, 40, 50, 60, 70])"
   ]
  },
  {
   "cell_type": "code",
   "execution_count": 16,
   "id": "9f3eda07",
   "metadata": {},
   "outputs": [
    {
     "data": {
      "text/plain": [
       "0    10\n",
       "1    20\n",
       "2    30\n",
       "3    40\n",
       "4    50\n",
       "5    60\n",
       "6    70\n",
       "dtype: int64"
      ]
     },
     "execution_count": 16,
     "metadata": {},
     "output_type": "execute_result"
    }
   ],
   "source": [
    "s"
   ]
  },
  {
   "cell_type": "code",
   "execution_count": 17,
   "id": "2d075deb",
   "metadata": {},
   "outputs": [
    {
     "data": {
      "text/plain": [
       "10"
      ]
     },
     "execution_count": 17,
     "metadata": {},
     "output_type": "execute_result"
    }
   ],
   "source": [
    "s[0]"
   ]
  },
  {
   "cell_type": "code",
   "execution_count": 19,
   "id": "03c9c15a",
   "metadata": {},
   "outputs": [
    {
     "data": {
      "text/plain": [
       "2    30\n",
       "3    40\n",
       "4    50\n",
       "dtype: int64"
      ]
     },
     "execution_count": 19,
     "metadata": {},
     "output_type": "execute_result"
    }
   ],
   "source": [
    "s [2:5]"
   ]
  },
  {
   "cell_type": "code",
   "execution_count": 20,
   "id": "32705c5f",
   "metadata": {},
   "outputs": [
    {
     "data": {
      "text/plain": [
       "70"
      ]
     },
     "execution_count": 20,
     "metadata": {},
     "output_type": "execute_result"
    }
   ],
   "source": [
    "#int64 - כל הערכים \n",
    "s.max()"
   ]
  },
  {
   "cell_type": "code",
   "execution_count": 23,
   "id": "54837494",
   "metadata": {},
   "outputs": [
    {
     "data": {
      "text/plain": [
       "40.0"
      ]
     },
     "execution_count": 23,
     "metadata": {},
     "output_type": "execute_result"
    }
   ],
   "source": [
    "s.mean ()"
   ]
  },
  {
   "cell_type": "code",
   "execution_count": 24,
   "id": "fa2f9c01",
   "metadata": {},
   "outputs": [
    {
     "data": {
      "text/plain": [
       "count     7.000000\n",
       "mean     40.000000\n",
       "std      21.602469\n",
       "min      10.000000\n",
       "25%      25.000000\n",
       "50%      40.000000\n",
       "75%      55.000000\n",
       "max      70.000000\n",
       "dtype: float64"
      ]
     },
     "execution_count": 24,
     "metadata": {},
     "output_type": "execute_result"
    }
   ],
   "source": [
    "s.describe()"
   ]
  },
  {
   "cell_type": "code",
   "execution_count": 29,
   "id": "6923111f",
   "metadata": {},
   "outputs": [],
   "source": [
    "w = Series ([42.3, 25, 34, 45, 19, 28.5, 39, 40, 10, 15])"
   ]
  },
  {
   "cell_type": "code",
   "execution_count": 33,
   "id": "1f330a79",
   "metadata": {},
   "outputs": [
    {
     "data": {
      "text/plain": [
       "0    42.3\n",
       "1    25.0\n",
       "2    34.0\n",
       "dtype: float64"
      ]
     },
     "execution_count": 33,
     "metadata": {},
     "output_type": "execute_result"
    }
   ],
   "source": [
    "w[0:3]"
   ]
  },
  {
   "cell_type": "code",
   "execution_count": 36,
   "id": "d51e2683",
   "metadata": {},
   "outputs": [
    {
     "data": {
      "text/plain": [
       "0    42.3\n",
       "dtype: float64"
      ]
     },
     "execution_count": 36,
     "metadata": {},
     "output_type": "execute_result"
    }
   ],
   "source": [
    "w[0:1]"
   ]
  },
  {
   "cell_type": "code",
   "execution_count": 38,
   "id": "0673bdab",
   "metadata": {},
   "outputs": [
    {
     "data": {
      "text/plain": [
       "count    10.000000\n",
       "mean     29.780000\n",
       "std      12.229545\n",
       "min      10.000000\n",
       "25%      20.500000\n",
       "50%      31.250000\n",
       "75%      39.750000\n",
       "max      45.000000\n",
       "dtype: float64"
      ]
     },
     "execution_count": 38,
     "metadata": {},
     "output_type": "execute_result"
    }
   ],
   "source": [
    "w.describe()"
   ]
  },
  {
   "cell_type": "code",
   "execution_count": 41,
   "id": "f83534a0",
   "metadata": {},
   "outputs": [
    {
     "data": {
      "text/plain": [
       "0    42.3\n",
       "1    25.0\n",
       "2    34.0\n",
       "3    45.0\n",
       "4    19.0\n",
       "dtype: float64"
      ]
     },
     "execution_count": 41,
     "metadata": {},
     "output_type": "execute_result"
    }
   ],
   "source": [
    "w[:5]"
   ]
  },
  {
   "cell_type": "code",
   "execution_count": 42,
   "id": "ba7c9042",
   "metadata": {},
   "outputs": [
    {
     "data": {
      "text/plain": [
       "45.0"
      ]
     },
     "execution_count": 42,
     "metadata": {},
     "output_type": "execute_result"
    }
   ],
   "source": [
    "w[:5].max()"
   ]
  },
  {
   "cell_type": "code",
   "execution_count": 43,
   "id": "ef7d5e1f",
   "metadata": {},
   "outputs": [],
   "source": [
    "s = Series ([12,20,30,40,50])"
   ]
  },
  {
   "cell_type": "code",
   "execution_count": 44,
   "id": "0453ff66",
   "metadata": {},
   "outputs": [
    {
     "data": {
      "text/plain": [
       "0    12\n",
       "1    20\n",
       "2    30\n",
       "3    40\n",
       "4    50\n",
       "dtype: int64"
      ]
     },
     "execution_count": 44,
     "metadata": {},
     "output_type": "execute_result"
    }
   ],
   "source": [
    "s"
   ]
  },
  {
   "cell_type": "code",
   "execution_count": 45,
   "id": "6b20bfb6",
   "metadata": {},
   "outputs": [],
   "source": [
    "highs = ([13,15,17,20,24,26,20,24,15,17])\n",
    "index=list('02',))"
   ]
  },
  {
   "cell_type": "code",
   "execution_count": 46,
   "id": "0362e45c",
   "metadata": {},
   "outputs": [
    {
     "data": {
      "text/plain": [
       "[13, 15, 17, 20, 24, 26, 20, 24, 15, 17]"
      ]
     },
     "execution_count": 46,
     "metadata": {},
     "output_type": "execute_result"
    }
   ],
   "source": [
    "highs"
   ]
  },
  {
   "cell_type": "code",
   "execution_count": null,
   "id": "d8d4392e",
   "metadata": {},
   "outputs": [],
   "source": [
    "index=list('bcdba'))"
   ]
  }
 ],
 "metadata": {
  "kernelspec": {
   "display_name": "Python 3 (ipykernel)",
   "language": "python",
   "name": "python3"
  },
  "language_info": {
   "codemirror_mode": {
    "name": "ipython",
    "version": 3
   },
   "file_extension": ".py",
   "mimetype": "text/x-python",
   "name": "python",
   "nbconvert_exporter": "python",
   "pygments_lexer": "ipython3",
   "version": "3.12.7"
  }
 },
 "nbformat": 4,
 "nbformat_minor": 5
}
