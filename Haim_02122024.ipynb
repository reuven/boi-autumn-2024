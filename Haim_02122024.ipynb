{
 "cells": [
  {
   "cell_type": "code",
   "execution_count": 2,
   "id": "874ce1e5",
   "metadata": {},
   "outputs": [],
   "source": [
    "import random"
   ]
  },
  {
   "cell_type": "code",
   "execution_count": 5,
   "id": "b9731fc4",
   "metadata": {},
   "outputs": [
    {
     "data": {
      "text/plain": [
       "93"
      ]
     },
     "execution_count": 5,
     "metadata": {},
     "output_type": "execute_result"
    }
   ],
   "source": [
    "random.randint (0,100)"
   ]
  },
  {
   "cell_type": "code",
   "execution_count": 7,
   "id": "503add50",
   "metadata": {},
   "outputs": [],
   "source": [
    "import pandas as pd"
   ]
  },
  {
   "cell_type": "code",
   "execution_count": 10,
   "id": "a0675df0",
   "metadata": {},
   "outputs": [],
   "source": [
    "from pandas import Series, DataFrame\n",
    "# datafranme זה כמו גליונות אקסל.\n",
    "#\n",
    "#זה כמו אקסל בתוך פייתון\n"
   ]
  },
  {
   "cell_type": "code",
   "execution_count": 15,
   "id": "7902d5c7",
   "metadata": {},
   "outputs": [],
   "source": [
    "s = Series([10, 20, 30, 40, 50, 60, 70])"
   ]
  },
  {
   "cell_type": "code",
   "execution_count": 16,
   "id": "6dff7647",
   "metadata": {},
   "outputs": [
    {
     "data": {
      "text/plain": [
       "0    10\n",
       "1    20\n",
       "2    30\n",
       "3    40\n",
       "4    50\n",
       "5    60\n",
       "6    70\n",
       "dtype: int64"
      ]
     },
     "execution_count": 16,
     "metadata": {},
     "output_type": "execute_result"
    }
   ],
   "source": [
    "s"
   ]
  },
  {
   "cell_type": "code",
   "execution_count": 17,
   "id": "39142730",
   "metadata": {},
   "outputs": [
    {
     "data": {
      "text/plain": [
       "10"
      ]
     },
     "execution_count": 17,
     "metadata": {},
     "output_type": "execute_result"
    }
   ],
   "source": [
    "s[0]"
   ]
  },
  {
   "cell_type": "code",
   "execution_count": 19,
   "id": "85030581",
   "metadata": {},
   "outputs": [
    {
     "data": {
      "text/plain": [
       "2    30\n",
       "3    40\n",
       "4    50\n",
       "dtype: int64"
      ]
     },
     "execution_count": 19,
     "metadata": {},
     "output_type": "execute_result"
    }
   ],
   "source": [
    "s [2:5]"
   ]
  },
  {
   "cell_type": "code",
   "execution_count": 20,
   "id": "77dcfe60",
   "metadata": {},
   "outputs": [
    {
     "data": {
      "text/plain": [
       "70"
      ]
     },
     "execution_count": 20,
     "metadata": {},
     "output_type": "execute_result"
    }
   ],
   "source": [
    "#int64 - כל הערכים \n",
    "s.max()"
   ]
  },
  {
   "cell_type": "code",
   "execution_count": 23,
   "id": "d6aa7ddc",
   "metadata": {},
   "outputs": [
    {
     "data": {
      "text/plain": [
       "40.0"
      ]
     },
     "execution_count": 23,
     "metadata": {},
     "output_type": "execute_result"
    }
   ],
   "source": [
    "s.mean ()"
   ]
  },
  {
   "cell_type": "code",
   "execution_count": 24,
   "id": "09545f18",
   "metadata": {},
   "outputs": [
    {
     "data": {
      "text/plain": [
       "count     7.000000\n",
       "mean     40.000000\n",
       "std      21.602469\n",
       "min      10.000000\n",
       "25%      25.000000\n",
       "50%      40.000000\n",
       "75%      55.000000\n",
       "max      70.000000\n",
       "dtype: float64"
      ]
     },
     "execution_count": 24,
     "metadata": {},
     "output_type": "execute_result"
    }
   ],
   "source": [
    "s.describe()"
   ]
  },
  {
   "cell_type": "code",
   "execution_count": 29,
   "id": "e9889967",
   "metadata": {},
   "outputs": [],
   "source": [
    "w = Series ([42.3, 25, 34, 45, 19, 28.5, 39, 40, 10, 15])"
   ]
  },
  {
   "cell_type": "code",
   "execution_count": 33,
   "id": "16c00c2b",
   "metadata": {},
   "outputs": [
    {
     "data": {
      "text/plain": [
       "0    42.3\n",
       "1    25.0\n",
       "2    34.0\n",
       "dtype: float64"
      ]
     },
     "execution_count": 33,
     "metadata": {},
     "output_type": "execute_result"
    }
   ],
   "source": [
    "w[0:3]"
   ]
  },
  {
   "cell_type": "code",
   "execution_count": 36,
   "id": "f04ef846",
   "metadata": {},
   "outputs": [
    {
     "data": {
      "text/plain": [
       "0    42.3\n",
       "dtype: float64"
      ]
     },
     "execution_count": 36,
     "metadata": {},
     "output_type": "execute_result"
    }
   ],
   "source": [
    "w[0:1]"
   ]
  },
  {
   "cell_type": "code",
   "execution_count": 38,
   "id": "c07c360d",
   "metadata": {},
   "outputs": [
    {
     "data": {
      "text/plain": [
       "count    10.000000\n",
       "mean     29.780000\n",
       "std      12.229545\n",
       "min      10.000000\n",
       "25%      20.500000\n",
       "50%      31.250000\n",
       "75%      39.750000\n",
       "max      45.000000\n",
       "dtype: float64"
      ]
     },
     "execution_count": 38,
     "metadata": {},
     "output_type": "execute_result"
    }
   ],
   "source": [
    "w.describe()"
   ]
  },
  {
   "cell_type": "code",
   "execution_count": 41,
   "id": "1089f4ff",
   "metadata": {},
   "outputs": [
    {
     "data": {
      "text/plain": [
       "0    42.3\n",
       "1    25.0\n",
       "2    34.0\n",
       "3    45.0\n",
       "4    19.0\n",
       "dtype: float64"
      ]
     },
     "execution_count": 41,
     "metadata": {},
     "output_type": "execute_result"
    }
   ],
   "source": [
    "w[:5]"
   ]
  },
  {
   "cell_type": "code",
   "execution_count": 42,
   "id": "01c738eb",
   "metadata": {},
   "outputs": [
    {
     "data": {
      "text/plain": [
       "45.0"
      ]
     },
     "execution_count": 42,
     "metadata": {},
     "output_type": "execute_result"
    }
   ],
   "source": [
    "w[:5].max()"
   ]
  },
  {
   "cell_type": "code",
   "execution_count": 43,
   "id": "17657bef",
   "metadata": {},
   "outputs": [],
   "source": [
    "s = Series ([12,20,30,40,50])"
   ]
  },
  {
   "cell_type": "code",
   "execution_count": 44,
   "id": "ed18401f",
   "metadata": {},
   "outputs": [
    {
     "data": {
      "text/plain": [
       "0    12\n",
       "1    20\n",
       "2    30\n",
       "3    40\n",
       "4    50\n",
       "dtype: int64"
      ]
     },
     "execution_count": 44,
     "metadata": {},
     "output_type": "execute_result"
    }
   ],
   "source": [
    "s"
   ]
  },
  {
   "cell_type": "code",
   "execution_count": 56,
   "id": "d4a89aee",
   "metadata": {},
   "outputs": [
    {
     "data": {
      "text/plain": [
       "[13, 15, 17, 20, 24, 26, 20, 24, 15, 17]"
      ]
     },
     "execution_count": 56,
     "metadata": {},
     "output_type": "execute_result"
    }
   ],
   "source": [
    "highs = ([13,15,17,20,24,26,20,24,15,17])\n",
    "highs"
   ]
  },
  {
   "cell_type": "code",
   "execution_count": 60,
   "id": "43655591",
   "metadata": {},
   "outputs": [
    {
     "ename": "NameError",
     "evalue": "name 'Index' is not defined",
     "output_type": "error",
     "traceback": [
      "\u001b[0;31m---------------------------------------------------------------------------\u001b[0m",
      "\u001b[0;31mNameError\u001b[0m                                 Traceback (most recent call last)",
      "Cell \u001b[0;32mIn[60], line 1\u001b[0m\n\u001b[0;32m----> 1\u001b[0m \u001b[38;5;28mlist\u001b[39m \u001b[38;5;241m=\u001b[39m \u001b[43mIndex\u001b[49m([\u001b[38;5;124m'\u001b[39m\u001b[38;5;124mabcsdefgh\u001b[39m\u001b[38;5;124m'\u001b[39m])\n\u001b[1;32m      2\u001b[0m highs\n",
      "\u001b[0;31mNameError\u001b[0m: name 'Index' is not defined"
     ]
    }
   ],
   "source": [
    "list = Index(['abcsdefgh'])\n",
    "highs"
   ]
  },
  {
   "cell_type": "code",
   "execution_count": 61,
   "id": "37060727",
   "metadata": {},
   "outputs": [],
   "source": [
    "highs = Series([18, 18, 19, 20, 19, 20, 19, 20, 21, 19],\n",
    "              index='02 03 04 05 06 07 08 09 10 11'.split())\n"
   ]
  },
  {
   "cell_type": "code",
   "execution_count": 69,
   "id": "d37aa731",
   "metadata": {},
   "outputs": [],
   "source": [
    "lows = Series([6, 8, 8, 9, 8, 9, 8, 9, 8, 7],\n",
    "              index='02 03 04 05 06 07 08 09 10 11'.split())"
   ]
  },
  {
   "cell_type": "code",
   "execution_count": 70,
   "id": "9c5f1bef",
   "metadata": {},
   "outputs": [
    {
     "data": {
      "text/plain": [
       "02    6\n",
       "03    8\n",
       "04    8\n",
       "05    9\n",
       "06    8\n",
       "07    9\n",
       "08    8\n",
       "09    9\n",
       "10    8\n",
       "11    7\n",
       "dtype: int64"
      ]
     },
     "execution_count": 70,
     "metadata": {},
     "output_type": "execute_result"
    }
   ],
   "source": [
    "lows\n"
   ]
  },
  {
   "cell_type": "code",
   "execution_count": 68,
   "id": "5157b63a",
   "metadata": {},
   "outputs": [
    {
     "ename": "NameError",
     "evalue": "name 'lows' is not defined",
     "output_type": "error",
     "traceback": [
      "\u001b[0;31m---------------------------------------------------------------------------\u001b[0m",
      "\u001b[0;31mNameError\u001b[0m                                 Traceback (most recent call last)",
      "Cell \u001b[0;32mIn[68], line 1\u001b[0m\n\u001b[0;32m----> 1\u001b[0m \u001b[43mlows\u001b[49m\n",
      "\u001b[0;31mNameError\u001b[0m: name 'lows' is not defined"
     ]
    }
   ],
   "source": [
    "lows\n"
   ]
  },
  {
   "cell_type": "code",
   "execution_count": 71,
   "id": "c78f62d4",
   "metadata": {},
   "outputs": [
    {
     "data": {
      "text/plain": [
       "02    12\n",
       "03    10\n",
       "04    11\n",
       "05    11\n",
       "06    11\n",
       "07    11\n",
       "08    11\n",
       "09    11\n",
       "10    13\n",
       "11    12\n",
       "dtype: int64"
      ]
     },
     "execution_count": 71,
     "metadata": {},
     "output_type": "execute_result"
    }
   ],
   "source": [
    "highs - lows"
   ]
  },
  {
   "cell_type": "code",
   "execution_count": 89,
   "id": "53f157dd",
   "metadata": {},
   "outputs": [
    {
     "data": {
      "text/plain": [
       "Yosi      17\n",
       "Moshe     20\n",
       "Haim      30\n",
       "Shalom    40\n",
       "Shay      50\n",
       "dtype: int64"
      ]
     },
     "execution_count": 89,
     "metadata": {},
     "output_type": "execute_result"
    }
   ],
   "source": [
    "age = Series( [17, 20, 30, 40, 50],\n",
    "          index=list('Yosi Moshe Haim Shalom Shay'.split()))\n",
    "age"
   ]
  },
  {
   "cell_type": "code",
   "execution_count": 90,
   "id": "823c9c86",
   "metadata": {},
   "outputs": [
    {
     "data": {
      "text/plain": [
       "31.4"
      ]
     },
     "execution_count": 90,
     "metadata": {},
     "output_type": "execute_result"
    }
   ],
   "source": [
    "age.mean()\n",
    "#age.loc[ age > age.mean()]"
   ]
  },
  {
   "cell_type": "code",
   "execution_count": 86,
   "id": "06e93e59",
   "metadata": {},
   "outputs": [
    {
     "data": {
      "text/plain": [
       "Shalom    40\n",
       "Shay      50\n",
       "dtype: int64"
      ]
     },
     "execution_count": 86,
     "metadata": {},
     "output_type": "execute_result"
    }
   ],
   "source": [
    "age.loc[ age > age.mean()]"
   ]
  },
  {
   "cell_type": "code",
   "execution_count": 87,
   "id": "c60c51f8",
   "metadata": {},
   "outputs": [
    {
     "data": {
      "text/plain": [
       "15.811388300841896"
      ]
     },
     "execution_count": 87,
     "metadata": {},
     "output_type": "execute_result"
    }
   ],
   "source": [
    "age.std()"
   ]
  },
  {
   "cell_type": "code",
   "execution_count": 97,
   "id": "134fda67",
   "metadata": {},
   "outputs": [
    {
     "data": {
      "text/plain": [
       "02    64.4\n",
       "03    64.4\n",
       "04    66.2\n",
       "05    68.0\n",
       "06    66.2\n",
       "07    68.0\n",
       "08    66.2\n",
       "09    68.0\n",
       "10    69.8\n",
       "11    66.2\n",
       "dtype: float64"
      ]
     },
     "execution_count": 97,
     "metadata": {},
     "output_type": "execute_result"
    }
   ],
   "source": [
    "highs = Series([18, 18, 19, 20, 19, 20, 19, 20, 21, 19],index='02 03 04 05 06 07 08 09 10 11'.split(), dtype='int8')\n",
    "F = highs*1.8+32\n",
    "F"
   ]
  },
  {
   "cell_type": "code",
   "execution_count": 94,
   "id": "78a1874b",
   "metadata": {},
   "outputs": [
    {
     "data": {
      "text/plain": [
       "0    64\n",
       "1    64\n",
       "2    66\n",
       "3    68\n",
       "4    66\n",
       "5    68\n",
       "6    66\n",
       "7    68\n",
       "8    69\n",
       "9    66\n",
       "dtype: int64"
      ]
     },
     "execution_count": 94,
     "metadata": {},
     "output_type": "execute_result"
    }
   ],
   "source": [
    "F.astype('int64')"
   ]
  },
  {
   "cell_type": "code",
   "execution_count": 98,
   "id": "1ab8beeb",
   "metadata": {},
   "outputs": [
    {
     "name": "stdout",
     "output_type": "stream",
     "text": [
      "[1 2 3 4 5]\n"
     ]
    }
   ],
   "source": [
    "import numpy\n",
    "\n",
    "arr = numpy.array([1, 2, 3, 4, 5])\n",
    "\n",
    "print(arr)"
   ]
  },
  {
   "cell_type": "code",
   "execution_count": 110,
   "id": "863fce8d",
   "metadata": {},
   "outputs": [],
   "source": [
    "import numpy as np\n",
    "highs = Series([18, 18, 19, np.nan, 19, np.nan, 19, 20, np.nan, 19])\n"
   ]
  },
  {
   "cell_type": "code",
   "execution_count": 100,
   "id": "b389f82a",
   "metadata": {},
   "outputs": [
    {
     "data": {
      "text/plain": [
       "02    18\n",
       "03    18\n",
       "04    19\n",
       "05    20\n",
       "06    19\n",
       "07    20\n",
       "08    19\n",
       "09    20\n",
       "10    21\n",
       "11    19\n",
       "dtype: int64"
      ]
     },
     "execution_count": 100,
     "metadata": {},
     "output_type": "execute_result"
    }
   ],
   "source": [
    "highs"
   ]
  },
  {
   "cell_type": "code",
   "execution_count": 105,
   "id": "e4a441d4",
   "metadata": {},
   "outputs": [
    {
     "data": {
      "text/plain": [
       "0    10.0\n",
       "1    20.0\n",
       "2    30.0\n",
       "3     NaN\n",
       "4    50.0\n",
       "dtype: float64"
      ]
     },
     "execution_count": 105,
     "metadata": {},
     "output_type": "execute_result"
    }
   ],
   "source": [
    "import numpy as np\n",
    "s = Series([10, 20, 30, np.nan, 50])\n",
    "s"
   ]
  },
  {
   "cell_type": "code",
   "execution_count": 111,
   "id": "19af505a",
   "metadata": {},
   "outputs": [
    {
     "data": {
      "text/plain": [
       "27.5"
      ]
     },
     "execution_count": 111,
     "metadata": {},
     "output_type": "execute_result"
    }
   ],
   "source": [
    "s.mean()"
   ]
  },
  {
   "cell_type": "code",
   "execution_count": 122,
   "id": "4af30730",
   "metadata": {},
   "outputs": [],
   "source": [
    "\n",
    "highs = Series([16, 18, 19, 20, 19, 26, 19, 29, 22, 19],index='02 03 04 05 06 07 08 09 10 11'.split())\n"
   ]
  },
  {
   "cell_type": "code",
   "execution_count": 113,
   "id": "b00fd758",
   "metadata": {},
   "outputs": [
    {
     "data": {
      "text/plain": [
       "02    18\n",
       "03    18\n",
       "04    19\n",
       "05    20\n",
       "06    19\n",
       "07    20\n",
       "08    19\n",
       "09    20\n",
       "10    21\n",
       "11    19\n",
       "dtype: int64"
      ]
     },
     "execution_count": 113,
     "metadata": {},
     "output_type": "execute_result"
    }
   ],
   "source": [
    "highs"
   ]
  },
  {
   "cell_type": "code",
   "execution_count": 124,
   "id": "78b7d924",
   "metadata": {},
   "outputs": [
    {
     "data": {
      "text/plain": [
       "02    16\n",
       "03    18\n",
       "04    19\n",
       "05    20\n",
       "06    19\n",
       "07    26\n",
       "08    19\n",
       "09    29\n",
       "10    22\n",
       "11    19\n",
       "dtype: int64"
      ]
     },
     "execution_count": 124,
     "metadata": {},
     "output_type": "execute_result"
    }
   ],
   "source": [
    "highs.sort_index()"
   ]
  },
  {
   "cell_type": "code",
   "execution_count": 125,
   "id": "3d8e9c1a",
   "metadata": {},
   "outputs": [
    {
     "data": {
      "text/plain": [
       "09    29\n",
       "07    26\n",
       "10    22\n",
       "dtype: int64"
      ]
     },
     "execution_count": 125,
     "metadata": {},
     "output_type": "execute_result"
    }
   ],
   "source": [
    "highs.sort_values(ascending=False).head(3)\n"
   ]
  },
  {
   "cell_type": "code",
   "execution_count": 133,
   "id": "89fdad4f",
   "metadata": {},
   "outputs": [
    {
     "data": {
      "text/html": [
       "<div>\n",
       "<style scoped>\n",
       "    .dataframe tbody tr th:only-of-type {\n",
       "        vertical-align: middle;\n",
       "    }\n",
       "\n",
       "    .dataframe tbody tr th {\n",
       "        vertical-align: top;\n",
       "    }\n",
       "\n",
       "    .dataframe thead th {\n",
       "        text-align: right;\n",
       "    }\n",
       "</style>\n",
       "<table border=\"1\" class=\"dataframe\">\n",
       "  <thead>\n",
       "    <tr style=\"text-align: right;\">\n",
       "      <th></th>\n",
       "      <th>VendorID</th>\n",
       "      <th>tpep_pickup_datetime</th>\n",
       "      <th>tpep_dropoff_datetime</th>\n",
       "      <th>passenger_count</th>\n",
       "      <th>trip_distance</th>\n",
       "      <th>pickup_longitude</th>\n",
       "      <th>pickup_latitude</th>\n",
       "      <th>RateCodeID</th>\n",
       "      <th>store_and_fwd_flag</th>\n",
       "      <th>dropoff_longitude</th>\n",
       "      <th>dropoff_latitude</th>\n",
       "      <th>payment_type</th>\n",
       "      <th>fare_amount</th>\n",
       "      <th>extra</th>\n",
       "      <th>mta_tax</th>\n",
       "      <th>tip_amount</th>\n",
       "      <th>tolls_amount</th>\n",
       "      <th>improvement_surcharge</th>\n",
       "      <th>total_amount</th>\n",
       "    </tr>\n",
       "  </thead>\n",
       "  <tbody>\n",
       "    <tr>\n",
       "      <th>0</th>\n",
       "      <td>2</td>\n",
       "      <td>2015-06-02 11:19:29</td>\n",
       "      <td>2015-06-02 11:47:52</td>\n",
       "      <td>1</td>\n",
       "      <td>1.63</td>\n",
       "      <td>-73.954430</td>\n",
       "      <td>40.764141</td>\n",
       "      <td>1</td>\n",
       "      <td>N</td>\n",
       "      <td>-73.974754</td>\n",
       "      <td>40.754093</td>\n",
       "      <td>2</td>\n",
       "      <td>17.0</td>\n",
       "      <td>0.0</td>\n",
       "      <td>0.5</td>\n",
       "      <td>0.00</td>\n",
       "      <td>0.0</td>\n",
       "      <td>0.3</td>\n",
       "      <td>17.80</td>\n",
       "    </tr>\n",
       "    <tr>\n",
       "      <th>1</th>\n",
       "      <td>2</td>\n",
       "      <td>2015-06-02 11:19:30</td>\n",
       "      <td>2015-06-02 11:27:56</td>\n",
       "      <td>1</td>\n",
       "      <td>0.46</td>\n",
       "      <td>-73.971443</td>\n",
       "      <td>40.758942</td>\n",
       "      <td>1</td>\n",
       "      <td>N</td>\n",
       "      <td>-73.978539</td>\n",
       "      <td>40.761909</td>\n",
       "      <td>1</td>\n",
       "      <td>6.5</td>\n",
       "      <td>0.0</td>\n",
       "      <td>0.5</td>\n",
       "      <td>1.00</td>\n",
       "      <td>0.0</td>\n",
       "      <td>0.3</td>\n",
       "      <td>8.30</td>\n",
       "    </tr>\n",
       "    <tr>\n",
       "      <th>2</th>\n",
       "      <td>2</td>\n",
       "      <td>2015-06-02 11:19:31</td>\n",
       "      <td>2015-06-02 11:30:30</td>\n",
       "      <td>1</td>\n",
       "      <td>0.87</td>\n",
       "      <td>-73.978111</td>\n",
       "      <td>40.738434</td>\n",
       "      <td>1</td>\n",
       "      <td>N</td>\n",
       "      <td>-73.990273</td>\n",
       "      <td>40.745438</td>\n",
       "      <td>1</td>\n",
       "      <td>8.0</td>\n",
       "      <td>0.0</td>\n",
       "      <td>0.5</td>\n",
       "      <td>2.20</td>\n",
       "      <td>0.0</td>\n",
       "      <td>0.3</td>\n",
       "      <td>11.00</td>\n",
       "    </tr>\n",
       "    <tr>\n",
       "      <th>3</th>\n",
       "      <td>2</td>\n",
       "      <td>2015-06-02 11:19:31</td>\n",
       "      <td>2015-06-02 11:39:02</td>\n",
       "      <td>1</td>\n",
       "      <td>2.13</td>\n",
       "      <td>-73.945892</td>\n",
       "      <td>40.773529</td>\n",
       "      <td>1</td>\n",
       "      <td>N</td>\n",
       "      <td>-73.971527</td>\n",
       "      <td>40.760330</td>\n",
       "      <td>1</td>\n",
       "      <td>13.5</td>\n",
       "      <td>0.0</td>\n",
       "      <td>0.5</td>\n",
       "      <td>2.86</td>\n",
       "      <td>0.0</td>\n",
       "      <td>0.3</td>\n",
       "      <td>17.16</td>\n",
       "    </tr>\n",
       "    <tr>\n",
       "      <th>4</th>\n",
       "      <td>1</td>\n",
       "      <td>2015-06-02 11:19:32</td>\n",
       "      <td>2015-06-02 11:32:49</td>\n",
       "      <td>1</td>\n",
       "      <td>1.40</td>\n",
       "      <td>-73.979088</td>\n",
       "      <td>40.776772</td>\n",
       "      <td>1</td>\n",
       "      <td>N</td>\n",
       "      <td>-73.982162</td>\n",
       "      <td>40.758999</td>\n",
       "      <td>2</td>\n",
       "      <td>9.5</td>\n",
       "      <td>0.0</td>\n",
       "      <td>0.5</td>\n",
       "      <td>0.00</td>\n",
       "      <td>0.0</td>\n",
       "      <td>0.3</td>\n",
       "      <td>10.30</td>\n",
       "    </tr>\n",
       "    <tr>\n",
       "      <th>...</th>\n",
       "      <td>...</td>\n",
       "      <td>...</td>\n",
       "      <td>...</td>\n",
       "      <td>...</td>\n",
       "      <td>...</td>\n",
       "      <td>...</td>\n",
       "      <td>...</td>\n",
       "      <td>...</td>\n",
       "      <td>...</td>\n",
       "      <td>...</td>\n",
       "      <td>...</td>\n",
       "      <td>...</td>\n",
       "      <td>...</td>\n",
       "      <td>...</td>\n",
       "      <td>...</td>\n",
       "      <td>...</td>\n",
       "      <td>...</td>\n",
       "      <td>...</td>\n",
       "      <td>...</td>\n",
       "    </tr>\n",
       "    <tr>\n",
       "      <th>9994</th>\n",
       "      <td>1</td>\n",
       "      <td>2015-06-01 00:12:59</td>\n",
       "      <td>2015-06-01 00:24:18</td>\n",
       "      <td>1</td>\n",
       "      <td>2.70</td>\n",
       "      <td>-73.947792</td>\n",
       "      <td>40.814972</td>\n",
       "      <td>1</td>\n",
       "      <td>N</td>\n",
       "      <td>-73.973358</td>\n",
       "      <td>40.783638</td>\n",
       "      <td>2</td>\n",
       "      <td>11.0</td>\n",
       "      <td>0.5</td>\n",
       "      <td>0.5</td>\n",
       "      <td>0.00</td>\n",
       "      <td>0.0</td>\n",
       "      <td>0.3</td>\n",
       "      <td>12.30</td>\n",
       "    </tr>\n",
       "    <tr>\n",
       "      <th>9995</th>\n",
       "      <td>1</td>\n",
       "      <td>2015-06-01 00:12:59</td>\n",
       "      <td>2015-06-01 00:28:16</td>\n",
       "      <td>1</td>\n",
       "      <td>4.50</td>\n",
       "      <td>-74.004066</td>\n",
       "      <td>40.747818</td>\n",
       "      <td>1</td>\n",
       "      <td>N</td>\n",
       "      <td>-73.953758</td>\n",
       "      <td>40.779285</td>\n",
       "      <td>1</td>\n",
       "      <td>16.0</td>\n",
       "      <td>0.5</td>\n",
       "      <td>0.5</td>\n",
       "      <td>3.00</td>\n",
       "      <td>0.0</td>\n",
       "      <td>0.3</td>\n",
       "      <td>20.30</td>\n",
       "    </tr>\n",
       "    <tr>\n",
       "      <th>9996</th>\n",
       "      <td>2</td>\n",
       "      <td>2015-06-01 00:13:00</td>\n",
       "      <td>2015-06-01 00:37:25</td>\n",
       "      <td>1</td>\n",
       "      <td>5.59</td>\n",
       "      <td>-73.994377</td>\n",
       "      <td>40.766102</td>\n",
       "      <td>1</td>\n",
       "      <td>N</td>\n",
       "      <td>-73.903206</td>\n",
       "      <td>40.750546</td>\n",
       "      <td>2</td>\n",
       "      <td>21.0</td>\n",
       "      <td>0.5</td>\n",
       "      <td>0.5</td>\n",
       "      <td>0.00</td>\n",
       "      <td>0.0</td>\n",
       "      <td>0.3</td>\n",
       "      <td>22.30</td>\n",
       "    </tr>\n",
       "    <tr>\n",
       "      <th>9997</th>\n",
       "      <td>2</td>\n",
       "      <td>2015-06-01 00:13:02</td>\n",
       "      <td>2015-06-01 00:19:10</td>\n",
       "      <td>6</td>\n",
       "      <td>1.54</td>\n",
       "      <td>-73.978302</td>\n",
       "      <td>40.748531</td>\n",
       "      <td>1</td>\n",
       "      <td>N</td>\n",
       "      <td>-73.989166</td>\n",
       "      <td>40.762852</td>\n",
       "      <td>2</td>\n",
       "      <td>6.5</td>\n",
       "      <td>0.5</td>\n",
       "      <td>0.5</td>\n",
       "      <td>0.00</td>\n",
       "      <td>0.0</td>\n",
       "      <td>0.3</td>\n",
       "      <td>7.80</td>\n",
       "    </tr>\n",
       "    <tr>\n",
       "      <th>9998</th>\n",
       "      <td>1</td>\n",
       "      <td>2015-06-01 00:13:04</td>\n",
       "      <td>2015-06-01 00:36:33</td>\n",
       "      <td>1</td>\n",
       "      <td>5.80</td>\n",
       "      <td>-73.983215</td>\n",
       "      <td>40.726414</td>\n",
       "      <td>1</td>\n",
       "      <td>N</td>\n",
       "      <td>-73.924133</td>\n",
       "      <td>40.701645</td>\n",
       "      <td>1</td>\n",
       "      <td>21.0</td>\n",
       "      <td>0.5</td>\n",
       "      <td>0.5</td>\n",
       "      <td>4.45</td>\n",
       "      <td>0.0</td>\n",
       "      <td>0.3</td>\n",
       "      <td>26.75</td>\n",
       "    </tr>\n",
       "  </tbody>\n",
       "</table>\n",
       "<p>9999 rows × 19 columns</p>\n",
       "</div>"
      ],
      "text/plain": [
       "      VendorID tpep_pickup_datetime tpep_dropoff_datetime  passenger_count  \\\n",
       "0            2  2015-06-02 11:19:29   2015-06-02 11:47:52                1   \n",
       "1            2  2015-06-02 11:19:30   2015-06-02 11:27:56                1   \n",
       "2            2  2015-06-02 11:19:31   2015-06-02 11:30:30                1   \n",
       "3            2  2015-06-02 11:19:31   2015-06-02 11:39:02                1   \n",
       "4            1  2015-06-02 11:19:32   2015-06-02 11:32:49                1   \n",
       "...        ...                  ...                   ...              ...   \n",
       "9994         1  2015-06-01 00:12:59   2015-06-01 00:24:18                1   \n",
       "9995         1  2015-06-01 00:12:59   2015-06-01 00:28:16                1   \n",
       "9996         2  2015-06-01 00:13:00   2015-06-01 00:37:25                1   \n",
       "9997         2  2015-06-01 00:13:02   2015-06-01 00:19:10                6   \n",
       "9998         1  2015-06-01 00:13:04   2015-06-01 00:36:33                1   \n",
       "\n",
       "      trip_distance  pickup_longitude  pickup_latitude  RateCodeID  \\\n",
       "0              1.63        -73.954430        40.764141           1   \n",
       "1              0.46        -73.971443        40.758942           1   \n",
       "2              0.87        -73.978111        40.738434           1   \n",
       "3              2.13        -73.945892        40.773529           1   \n",
       "4              1.40        -73.979088        40.776772           1   \n",
       "...             ...               ...              ...         ...   \n",
       "9994           2.70        -73.947792        40.814972           1   \n",
       "9995           4.50        -74.004066        40.747818           1   \n",
       "9996           5.59        -73.994377        40.766102           1   \n",
       "9997           1.54        -73.978302        40.748531           1   \n",
       "9998           5.80        -73.983215        40.726414           1   \n",
       "\n",
       "     store_and_fwd_flag  dropoff_longitude  dropoff_latitude  payment_type  \\\n",
       "0                     N         -73.974754         40.754093             2   \n",
       "1                     N         -73.978539         40.761909             1   \n",
       "2                     N         -73.990273         40.745438             1   \n",
       "3                     N         -73.971527         40.760330             1   \n",
       "4                     N         -73.982162         40.758999             2   \n",
       "...                 ...                ...               ...           ...   \n",
       "9994                  N         -73.973358         40.783638             2   \n",
       "9995                  N         -73.953758         40.779285             1   \n",
       "9996                  N         -73.903206         40.750546             2   \n",
       "9997                  N         -73.989166         40.762852             2   \n",
       "9998                  N         -73.924133         40.701645             1   \n",
       "\n",
       "      fare_amount  extra  mta_tax  tip_amount  tolls_amount  \\\n",
       "0            17.0    0.0      0.5        0.00           0.0   \n",
       "1             6.5    0.0      0.5        1.00           0.0   \n",
       "2             8.0    0.0      0.5        2.20           0.0   \n",
       "3            13.5    0.0      0.5        2.86           0.0   \n",
       "4             9.5    0.0      0.5        0.00           0.0   \n",
       "...           ...    ...      ...         ...           ...   \n",
       "9994         11.0    0.5      0.5        0.00           0.0   \n",
       "9995         16.0    0.5      0.5        3.00           0.0   \n",
       "9996         21.0    0.5      0.5        0.00           0.0   \n",
       "9997          6.5    0.5      0.5        0.00           0.0   \n",
       "9998         21.0    0.5      0.5        4.45           0.0   \n",
       "\n",
       "      improvement_surcharge  total_amount  \n",
       "0                       0.3         17.80  \n",
       "1                       0.3          8.30  \n",
       "2                       0.3         11.00  \n",
       "3                       0.3         17.16  \n",
       "4                       0.3         10.30  \n",
       "...                     ...           ...  \n",
       "9994                    0.3         12.30  \n",
       "9995                    0.3         20.30  \n",
       "9996                    0.3         22.30  \n",
       "9997                    0.3          7.80  \n",
       "9998                    0.3         26.75  \n",
       "\n",
       "[9999 rows x 19 columns]"
      ]
     },
     "execution_count": 133,
     "metadata": {},
     "output_type": "execute_result"
    }
   ],
   "source": [
    "df = pd.read_csv('taxi.csv')\n",
    "pd.read_csv('taxi.csv')"
   ]
  },
  {
   "cell_type": "code",
   "execution_count": 136,
   "id": "8c588cdb",
   "metadata": {},
   "outputs": [],
   "source": [
    "df = pd.read_csv('taxi.csv')"
   ]
  },
  {
   "cell_type": "code",
   "execution_count": 137,
   "id": "f5f73d4c",
   "metadata": {},
   "outputs": [
    {
     "data": {
      "text/html": [
       "<div>\n",
       "<style scoped>\n",
       "    .dataframe tbody tr th:only-of-type {\n",
       "        vertical-align: middle;\n",
       "    }\n",
       "\n",
       "    .dataframe tbody tr th {\n",
       "        vertical-align: top;\n",
       "    }\n",
       "\n",
       "    .dataframe thead th {\n",
       "        text-align: right;\n",
       "    }\n",
       "</style>\n",
       "<table border=\"1\" class=\"dataframe\">\n",
       "  <thead>\n",
       "    <tr style=\"text-align: right;\">\n",
       "      <th></th>\n",
       "      <th>VendorID</th>\n",
       "      <th>passenger_count</th>\n",
       "      <th>trip_distance</th>\n",
       "      <th>pickup_longitude</th>\n",
       "      <th>pickup_latitude</th>\n",
       "      <th>RateCodeID</th>\n",
       "      <th>dropoff_longitude</th>\n",
       "      <th>dropoff_latitude</th>\n",
       "      <th>payment_type</th>\n",
       "      <th>fare_amount</th>\n",
       "      <th>extra</th>\n",
       "      <th>mta_tax</th>\n",
       "      <th>tip_amount</th>\n",
       "      <th>tolls_amount</th>\n",
       "      <th>improvement_surcharge</th>\n",
       "      <th>total_amount</th>\n",
       "    </tr>\n",
       "  </thead>\n",
       "  <tbody>\n",
       "    <tr>\n",
       "      <th>count</th>\n",
       "      <td>9999.000000</td>\n",
       "      <td>9999.000000</td>\n",
       "      <td>9999.000000</td>\n",
       "      <td>9999.000000</td>\n",
       "      <td>9999.000000</td>\n",
       "      <td>9999.000000</td>\n",
       "      <td>9999.000000</td>\n",
       "      <td>9999.000000</td>\n",
       "      <td>9999.000000</td>\n",
       "      <td>9999.000000</td>\n",
       "      <td>9999.000000</td>\n",
       "      <td>9999.000000</td>\n",
       "      <td>9999.000000</td>\n",
       "      <td>9999.000000</td>\n",
       "      <td>9999.000000</td>\n",
       "      <td>9999.000000</td>\n",
       "    </tr>\n",
       "    <tr>\n",
       "      <th>mean</th>\n",
       "      <td>1.516652</td>\n",
       "      <td>1.659466</td>\n",
       "      <td>3.158511</td>\n",
       "      <td>-73.014956</td>\n",
       "      <td>40.226521</td>\n",
       "      <td>1.045105</td>\n",
       "      <td>-73.054699</td>\n",
       "      <td>40.248644</td>\n",
       "      <td>1.407741</td>\n",
       "      <td>14.415892</td>\n",
       "      <td>0.118212</td>\n",
       "      <td>0.497450</td>\n",
       "      <td>1.818059</td>\n",
       "      <td>0.400433</td>\n",
       "      <td>0.299790</td>\n",
       "      <td>17.552472</td>\n",
       "    </tr>\n",
       "    <tr>\n",
       "      <th>std</th>\n",
       "      <td>0.499748</td>\n",
       "      <td>1.333306</td>\n",
       "      <td>4.037516</td>\n",
       "      <td>8.347871</td>\n",
       "      <td>4.599169</td>\n",
       "      <td>0.302132</td>\n",
       "      <td>8.186847</td>\n",
       "      <td>4.510520</td>\n",
       "      <td>0.501911</td>\n",
       "      <td>12.442624</td>\n",
       "      <td>0.214794</td>\n",
       "      <td>0.037667</td>\n",
       "      <td>2.634469</td>\n",
       "      <td>1.665170</td>\n",
       "      <td>0.010816</td>\n",
       "      <td>15.137990</td>\n",
       "    </tr>\n",
       "    <tr>\n",
       "      <th>min</th>\n",
       "      <td>1.000000</td>\n",
       "      <td>0.000000</td>\n",
       "      <td>0.000000</td>\n",
       "      <td>-74.186302</td>\n",
       "      <td>0.000000</td>\n",
       "      <td>1.000000</td>\n",
       "      <td>-74.277367</td>\n",
       "      <td>0.000000</td>\n",
       "      <td>1.000000</td>\n",
       "      <td>-7.000000</td>\n",
       "      <td>-0.500000</td>\n",
       "      <td>-0.500000</td>\n",
       "      <td>0.000000</td>\n",
       "      <td>0.000000</td>\n",
       "      <td>-0.300000</td>\n",
       "      <td>-7.800000</td>\n",
       "    </tr>\n",
       "    <tr>\n",
       "      <th>25%</th>\n",
       "      <td>1.000000</td>\n",
       "      <td>1.000000</td>\n",
       "      <td>1.000000</td>\n",
       "      <td>-73.990997</td>\n",
       "      <td>40.738556</td>\n",
       "      <td>1.000000</td>\n",
       "      <td>-73.990261</td>\n",
       "      <td>40.738478</td>\n",
       "      <td>1.000000</td>\n",
       "      <td>7.000000</td>\n",
       "      <td>0.000000</td>\n",
       "      <td>0.500000</td>\n",
       "      <td>0.000000</td>\n",
       "      <td>0.000000</td>\n",
       "      <td>0.300000</td>\n",
       "      <td>8.800000</td>\n",
       "    </tr>\n",
       "    <tr>\n",
       "      <th>50%</th>\n",
       "      <td>2.000000</td>\n",
       "      <td>1.000000</td>\n",
       "      <td>1.700000</td>\n",
       "      <td>-73.979774</td>\n",
       "      <td>40.755909</td>\n",
       "      <td>1.000000</td>\n",
       "      <td>-73.978256</td>\n",
       "      <td>40.756340</td>\n",
       "      <td>1.000000</td>\n",
       "      <td>10.500000</td>\n",
       "      <td>0.000000</td>\n",
       "      <td>0.500000</td>\n",
       "      <td>1.000000</td>\n",
       "      <td>0.000000</td>\n",
       "      <td>0.300000</td>\n",
       "      <td>12.800000</td>\n",
       "    </tr>\n",
       "    <tr>\n",
       "      <th>75%</th>\n",
       "      <td>2.000000</td>\n",
       "      <td>2.000000</td>\n",
       "      <td>3.300000</td>\n",
       "      <td>-73.963001</td>\n",
       "      <td>40.770012</td>\n",
       "      <td>1.000000</td>\n",
       "      <td>-73.961311</td>\n",
       "      <td>40.771044</td>\n",
       "      <td>2.000000</td>\n",
       "      <td>17.000000</td>\n",
       "      <td>0.000000</td>\n",
       "      <td>0.500000</td>\n",
       "      <td>2.460000</td>\n",
       "      <td>0.000000</td>\n",
       "      <td>0.300000</td>\n",
       "      <td>19.800000</td>\n",
       "    </tr>\n",
       "    <tr>\n",
       "      <th>max</th>\n",
       "      <td>2.000000</td>\n",
       "      <td>6.000000</td>\n",
       "      <td>64.600000</td>\n",
       "      <td>0.000000</td>\n",
       "      <td>41.064606</td>\n",
       "      <td>5.000000</td>\n",
       "      <td>0.000000</td>\n",
       "      <td>41.137344</td>\n",
       "      <td>4.000000</td>\n",
       "      <td>250.000000</td>\n",
       "      <td>1.000000</td>\n",
       "      <td>0.500000</td>\n",
       "      <td>42.050000</td>\n",
       "      <td>70.000000</td>\n",
       "      <td>0.300000</td>\n",
       "      <td>252.350000</td>\n",
       "    </tr>\n",
       "  </tbody>\n",
       "</table>\n",
       "</div>"
      ],
      "text/plain": [
       "          VendorID  passenger_count  trip_distance  pickup_longitude  \\\n",
       "count  9999.000000      9999.000000    9999.000000       9999.000000   \n",
       "mean      1.516652         1.659466       3.158511        -73.014956   \n",
       "std       0.499748         1.333306       4.037516          8.347871   \n",
       "min       1.000000         0.000000       0.000000        -74.186302   \n",
       "25%       1.000000         1.000000       1.000000        -73.990997   \n",
       "50%       2.000000         1.000000       1.700000        -73.979774   \n",
       "75%       2.000000         2.000000       3.300000        -73.963001   \n",
       "max       2.000000         6.000000      64.600000          0.000000   \n",
       "\n",
       "       pickup_latitude   RateCodeID  dropoff_longitude  dropoff_latitude  \\\n",
       "count      9999.000000  9999.000000        9999.000000       9999.000000   \n",
       "mean         40.226521     1.045105         -73.054699         40.248644   \n",
       "std           4.599169     0.302132           8.186847          4.510520   \n",
       "min           0.000000     1.000000         -74.277367          0.000000   \n",
       "25%          40.738556     1.000000         -73.990261         40.738478   \n",
       "50%          40.755909     1.000000         -73.978256         40.756340   \n",
       "75%          40.770012     1.000000         -73.961311         40.771044   \n",
       "max          41.064606     5.000000           0.000000         41.137344   \n",
       "\n",
       "       payment_type  fare_amount        extra      mta_tax   tip_amount  \\\n",
       "count   9999.000000  9999.000000  9999.000000  9999.000000  9999.000000   \n",
       "mean       1.407741    14.415892     0.118212     0.497450     1.818059   \n",
       "std        0.501911    12.442624     0.214794     0.037667     2.634469   \n",
       "min        1.000000    -7.000000    -0.500000    -0.500000     0.000000   \n",
       "25%        1.000000     7.000000     0.000000     0.500000     0.000000   \n",
       "50%        1.000000    10.500000     0.000000     0.500000     1.000000   \n",
       "75%        2.000000    17.000000     0.000000     0.500000     2.460000   \n",
       "max        4.000000   250.000000     1.000000     0.500000    42.050000   \n",
       "\n",
       "       tolls_amount  improvement_surcharge  total_amount  \n",
       "count   9999.000000            9999.000000   9999.000000  \n",
       "mean       0.400433               0.299790     17.552472  \n",
       "std        1.665170               0.010816     15.137990  \n",
       "min        0.000000              -0.300000     -7.800000  \n",
       "25%        0.000000               0.300000      8.800000  \n",
       "50%        0.000000               0.300000     12.800000  \n",
       "75%        0.000000               0.300000     19.800000  \n",
       "max       70.000000               0.300000    252.350000  "
      ]
     },
     "execution_count": 137,
     "metadata": {},
     "output_type": "execute_result"
    }
   ],
   "source": [
    "df.describe()"
   ]
  },
  {
   "cell_type": "code",
   "execution_count": 164,
   "id": "6c224e8a",
   "metadata": {},
   "outputs": [
    {
     "data": {
      "text/plain": [
       "<bound method NDFrame.head of       VendorID tpep_pickup_datetime tpep_dropoff_datetime  passenger_count  \\\n",
       "0            2  2015-06-02 11:19:29   2015-06-02 11:47:52                1   \n",
       "1            2  2015-06-02 11:19:30   2015-06-02 11:27:56                1   \n",
       "2            2  2015-06-02 11:19:31   2015-06-02 11:30:30                1   \n",
       "3            2  2015-06-02 11:19:31   2015-06-02 11:39:02                1   \n",
       "4            1  2015-06-02 11:19:32   2015-06-02 11:32:49                1   \n",
       "...        ...                  ...                   ...              ...   \n",
       "9994         1  2015-06-01 00:12:59   2015-06-01 00:24:18                1   \n",
       "9995         1  2015-06-01 00:12:59   2015-06-01 00:28:16                1   \n",
       "9996         2  2015-06-01 00:13:00   2015-06-01 00:37:25                1   \n",
       "9997         2  2015-06-01 00:13:02   2015-06-01 00:19:10                6   \n",
       "9998         1  2015-06-01 00:13:04   2015-06-01 00:36:33                1   \n",
       "\n",
       "      trip_distance  pickup_longitude  pickup_latitude  RateCodeID  \\\n",
       "0              1.63        -73.954430        40.764141           1   \n",
       "1              0.46        -73.971443        40.758942           1   \n",
       "2              0.87        -73.978111        40.738434           1   \n",
       "3              2.13        -73.945892        40.773529           1   \n",
       "4              1.40        -73.979088        40.776772           1   \n",
       "...             ...               ...              ...         ...   \n",
       "9994           2.70        -73.947792        40.814972           1   \n",
       "9995           4.50        -74.004066        40.747818           1   \n",
       "9996           5.59        -73.994377        40.766102           1   \n",
       "9997           1.54        -73.978302        40.748531           1   \n",
       "9998           5.80        -73.983215        40.726414           1   \n",
       "\n",
       "     store_and_fwd_flag  dropoff_longitude  dropoff_latitude  payment_type  \\\n",
       "0                     N         -73.974754         40.754093             2   \n",
       "1                     N         -73.978539         40.761909             1   \n",
       "2                     N         -73.990273         40.745438             1   \n",
       "3                     N         -73.971527         40.760330             1   \n",
       "4                     N         -73.982162         40.758999             2   \n",
       "...                 ...                ...               ...           ...   \n",
       "9994                  N         -73.973358         40.783638             2   \n",
       "9995                  N         -73.953758         40.779285             1   \n",
       "9996                  N         -73.903206         40.750546             2   \n",
       "9997                  N         -73.989166         40.762852             2   \n",
       "9998                  N         -73.924133         40.701645             1   \n",
       "\n",
       "      fare_amount  extra  mta_tax  tip_amount  tolls_amount  \\\n",
       "0            17.0    0.0      0.5        0.00           0.0   \n",
       "1             6.5    0.0      0.5        1.00           0.0   \n",
       "2             8.0    0.0      0.5        2.20           0.0   \n",
       "3            13.5    0.0      0.5        2.86           0.0   \n",
       "4             9.5    0.0      0.5        0.00           0.0   \n",
       "...           ...    ...      ...         ...           ...   \n",
       "9994         11.0    0.5      0.5        0.00           0.0   \n",
       "9995         16.0    0.5      0.5        3.00           0.0   \n",
       "9996         21.0    0.5      0.5        0.00           0.0   \n",
       "9997          6.5    0.5      0.5        0.00           0.0   \n",
       "9998         21.0    0.5      0.5        4.45           0.0   \n",
       "\n",
       "      improvement_surcharge  total_amount  \n",
       "0                       0.3         17.80  \n",
       "1                       0.3          8.30  \n",
       "2                       0.3         11.00  \n",
       "3                       0.3         17.16  \n",
       "4                       0.3         10.30  \n",
       "...                     ...           ...  \n",
       "9994                    0.3         12.30  \n",
       "9995                    0.3         20.30  \n",
       "9996                    0.3         22.30  \n",
       "9997                    0.3          7.80  \n",
       "9998                    0.3         26.75  \n",
       "\n",
       "[9999 rows x 19 columns]>"
      ]
     },
     "execution_count": 164,
     "metadata": {},
     "output_type": "execute_result"
    }
   ],
   "source": [
    "df = pd.read_csv('taxi.csv') # טוען את הקובץ\n",
    "df.head"
   ]
  },
  {
   "cell_type": "code",
   "execution_count": 165,
   "id": "64673ed4",
   "metadata": {},
   "outputs": [
    {
     "data": {
      "text/plain": [
       "VendorID                   int64\n",
       "tpep_pickup_datetime      object\n",
       "tpep_dropoff_datetime     object\n",
       "passenger_count            int64\n",
       "trip_distance            float64\n",
       "pickup_longitude         float64\n",
       "pickup_latitude          float64\n",
       "RateCodeID                 int64\n",
       "store_and_fwd_flag        object\n",
       "dropoff_longitude        float64\n",
       "dropoff_latitude         float64\n",
       "payment_type               int64\n",
       "fare_amount              float64\n",
       "extra                    float64\n",
       "mta_tax                  float64\n",
       "tip_amount               float64\n",
       "tolls_amount             float64\n",
       "improvement_surcharge    float64\n",
       "total_amount             float64\n",
       "dtype: object"
      ]
     },
     "execution_count": 165,
     "metadata": {},
     "output_type": "execute_result"
    }
   ],
   "source": [
    "df.dtypes"
   ]
  },
  {
   "cell_type": "code",
   "execution_count": 163,
   "id": "bdddc8c1",
   "metadata": {},
   "outputs": [
    {
     "ename": "TypeError",
     "evalue": "'<=' not supported between instances of 'int' and 'numpy.str_'",
     "output_type": "error",
     "traceback": [
      "\u001b[0;31m---------------------------------------------------------------------------\u001b[0m",
      "\u001b[0;31mTypeError\u001b[0m                                 Traceback (most recent call last)",
      "Cell \u001b[0;32mIn[163], line 1\u001b[0m\n\u001b[0;32m----> 1\u001b[0m \u001b[43mdf\u001b[49m\u001b[38;5;241;43m.\u001b[39;49m\u001b[43mdescribe\u001b[49m\u001b[43m(\u001b[49m\u001b[38;5;124;43m'\u001b[39;49m\u001b[38;5;124;43mtrip_distance\u001b[39;49m\u001b[38;5;124;43m'\u001b[39;49m\u001b[43m)\u001b[49m\n",
      "File \u001b[0;32m/usr/lib/python3/dist-packages/pandas/core/generic.py:11976\u001b[0m, in \u001b[0;36mNDFrame.describe\u001b[0;34m(self, percentiles, include, exclude)\u001b[0m\n\u001b[1;32m  11734\u001b[0m \u001b[38;5;129m@final\u001b[39m\n\u001b[1;32m  11735\u001b[0m \u001b[38;5;28;01mdef\u001b[39;00m \u001b[38;5;21mdescribe\u001b[39m(\n\u001b[1;32m  11736\u001b[0m     \u001b[38;5;28mself\u001b[39m,\n\u001b[0;32m   (...)\u001b[0m\n\u001b[1;32m  11739\u001b[0m     exclude\u001b[38;5;241m=\u001b[39m\u001b[38;5;28;01mNone\u001b[39;00m,\n\u001b[1;32m  11740\u001b[0m ) \u001b[38;5;241m-\u001b[39m\u001b[38;5;241m>\u001b[39m Self:\n\u001b[1;32m  11741\u001b[0m \u001b[38;5;250m    \u001b[39m\u001b[38;5;124;03m\"\"\"\u001b[39;00m\n\u001b[1;32m  11742\u001b[0m \u001b[38;5;124;03m    Generate descriptive statistics.\u001b[39;00m\n\u001b[1;32m  11743\u001b[0m \n\u001b[0;32m   (...)\u001b[0m\n\u001b[1;32m  11974\u001b[0m \u001b[38;5;124;03m    max            NaN      3.0\u001b[39;00m\n\u001b[1;32m  11975\u001b[0m \u001b[38;5;124;03m    \"\"\"\u001b[39;00m\n\u001b[0;32m> 11976\u001b[0m     \u001b[38;5;28;01mreturn\u001b[39;00m \u001b[43mdescribe_ndframe\u001b[49m\u001b[43m(\u001b[49m\n\u001b[1;32m  11977\u001b[0m \u001b[43m        \u001b[49m\u001b[43mobj\u001b[49m\u001b[38;5;241;43m=\u001b[39;49m\u001b[38;5;28;43mself\u001b[39;49m\u001b[43m,\u001b[49m\n\u001b[1;32m  11978\u001b[0m \u001b[43m        \u001b[49m\u001b[43minclude\u001b[49m\u001b[38;5;241;43m=\u001b[39;49m\u001b[43minclude\u001b[49m\u001b[43m,\u001b[49m\n\u001b[1;32m  11979\u001b[0m \u001b[43m        \u001b[49m\u001b[43mexclude\u001b[49m\u001b[38;5;241;43m=\u001b[39;49m\u001b[43mexclude\u001b[49m\u001b[43m,\u001b[49m\n\u001b[1;32m  11980\u001b[0m \u001b[43m        \u001b[49m\u001b[43mpercentiles\u001b[49m\u001b[38;5;241;43m=\u001b[39;49m\u001b[43mpercentiles\u001b[49m\u001b[43m,\u001b[49m\n\u001b[1;32m  11981\u001b[0m \u001b[43m    \u001b[49m\u001b[43m)\u001b[49m\u001b[38;5;241m.\u001b[39m__finalize__(\u001b[38;5;28mself\u001b[39m, method\u001b[38;5;241m=\u001b[39m\u001b[38;5;124m\"\u001b[39m\u001b[38;5;124mdescribe\u001b[39m\u001b[38;5;124m\"\u001b[39m)\n",
      "File \u001b[0;32m/usr/lib/python3/dist-packages/pandas/core/methods/describe.py:83\u001b[0m, in \u001b[0;36mdescribe_ndframe\u001b[0;34m(obj, include, exclude, percentiles)\u001b[0m\n\u001b[1;32m     55\u001b[0m \u001b[38;5;28;01mdef\u001b[39;00m \u001b[38;5;21mdescribe_ndframe\u001b[39m(\n\u001b[1;32m     56\u001b[0m     \u001b[38;5;241m*\u001b[39m,\n\u001b[1;32m     57\u001b[0m     obj: NDFrameT,\n\u001b[0;32m   (...)\u001b[0m\n\u001b[1;32m     60\u001b[0m     percentiles: Sequence[\u001b[38;5;28mfloat\u001b[39m] \u001b[38;5;241m|\u001b[39m np\u001b[38;5;241m.\u001b[39mndarray \u001b[38;5;241m|\u001b[39m \u001b[38;5;28;01mNone\u001b[39;00m,\n\u001b[1;32m     61\u001b[0m ) \u001b[38;5;241m-\u001b[39m\u001b[38;5;241m>\u001b[39m NDFrameT:\n\u001b[1;32m     62\u001b[0m \u001b[38;5;250m    \u001b[39m\u001b[38;5;124;03m\"\"\"Describe series or dataframe.\u001b[39;00m\n\u001b[1;32m     63\u001b[0m \n\u001b[1;32m     64\u001b[0m \u001b[38;5;124;03m    Called from pandas.core.generic.NDFrame.describe()\u001b[39;00m\n\u001b[0;32m   (...)\u001b[0m\n\u001b[1;32m     81\u001b[0m \u001b[38;5;124;03m    Dataframe or series description.\u001b[39;00m\n\u001b[1;32m     82\u001b[0m \u001b[38;5;124;03m    \"\"\"\u001b[39;00m\n\u001b[0;32m---> 83\u001b[0m     percentiles \u001b[38;5;241m=\u001b[39m \u001b[43m_refine_percentiles\u001b[49m\u001b[43m(\u001b[49m\u001b[43mpercentiles\u001b[49m\u001b[43m)\u001b[49m\n\u001b[1;32m     85\u001b[0m     describer: NDFrameDescriberAbstract\n\u001b[1;32m     86\u001b[0m     \u001b[38;5;28;01mif\u001b[39;00m obj\u001b[38;5;241m.\u001b[39mndim \u001b[38;5;241m==\u001b[39m \u001b[38;5;241m1\u001b[39m:\n",
      "File \u001b[0;32m/usr/lib/python3/dist-packages/pandas/core/methods/describe.py:402\u001b[0m, in \u001b[0;36m_refine_percentiles\u001b[0;34m(percentiles)\u001b[0m\n\u001b[1;32m    399\u001b[0m percentiles \u001b[38;5;241m=\u001b[39m \u001b[38;5;28mlist\u001b[39m(percentiles)\n\u001b[1;32m    401\u001b[0m \u001b[38;5;66;03m# get them all to be in [0, 1]\u001b[39;00m\n\u001b[0;32m--> 402\u001b[0m \u001b[43mvalidate_percentile\u001b[49m\u001b[43m(\u001b[49m\u001b[43mpercentiles\u001b[49m\u001b[43m)\u001b[49m\n\u001b[1;32m    404\u001b[0m \u001b[38;5;66;03m# median should always be included\u001b[39;00m\n\u001b[1;32m    405\u001b[0m \u001b[38;5;28;01mif\u001b[39;00m \u001b[38;5;241m0.5\u001b[39m \u001b[38;5;129;01mnot\u001b[39;00m \u001b[38;5;129;01min\u001b[39;00m percentiles:\n",
      "File \u001b[0;32m/usr/lib/python3/dist-packages/pandas/util/_validators.py:339\u001b[0m, in \u001b[0;36mvalidate_percentile\u001b[0;34m(q)\u001b[0m\n\u001b[1;32m    337\u001b[0m         \u001b[38;5;28;01mraise\u001b[39;00m \u001b[38;5;167;01mValueError\u001b[39;00m(msg)\n\u001b[1;32m    338\u001b[0m \u001b[38;5;28;01melse\u001b[39;00m:\n\u001b[0;32m--> 339\u001b[0m     \u001b[38;5;28;01mif\u001b[39;00m \u001b[38;5;129;01mnot\u001b[39;00m \u001b[38;5;28;43mall\u001b[39;49m\u001b[43m(\u001b[49m\u001b[38;5;241;43m0\u001b[39;49m\u001b[43m \u001b[49m\u001b[38;5;241;43m<\u001b[39;49m\u001b[38;5;241;43m=\u001b[39;49m\u001b[43m \u001b[49m\u001b[43mqs\u001b[49m\u001b[43m \u001b[49m\u001b[38;5;241;43m<\u001b[39;49m\u001b[38;5;241;43m=\u001b[39;49m\u001b[43m \u001b[49m\u001b[38;5;241;43m1\u001b[39;49m\u001b[43m \u001b[49m\u001b[38;5;28;43;01mfor\u001b[39;49;00m\u001b[43m \u001b[49m\u001b[43mqs\u001b[49m\u001b[43m \u001b[49m\u001b[38;5;129;43;01min\u001b[39;49;00m\u001b[43m \u001b[49m\u001b[43mq_arr\u001b[49m\u001b[43m)\u001b[49m:\n\u001b[1;32m    340\u001b[0m         \u001b[38;5;28;01mraise\u001b[39;00m \u001b[38;5;167;01mValueError\u001b[39;00m(msg)\n\u001b[1;32m    341\u001b[0m \u001b[38;5;28;01mreturn\u001b[39;00m q_arr\n",
      "File \u001b[0;32m/usr/lib/python3/dist-packages/pandas/util/_validators.py:339\u001b[0m, in \u001b[0;36m<genexpr>\u001b[0;34m(.0)\u001b[0m\n\u001b[1;32m    337\u001b[0m         \u001b[38;5;28;01mraise\u001b[39;00m \u001b[38;5;167;01mValueError\u001b[39;00m(msg)\n\u001b[1;32m    338\u001b[0m \u001b[38;5;28;01melse\u001b[39;00m:\n\u001b[0;32m--> 339\u001b[0m     \u001b[38;5;28;01mif\u001b[39;00m \u001b[38;5;129;01mnot\u001b[39;00m \u001b[38;5;28mall\u001b[39m(\u001b[38;5;241;43m0\u001b[39;49m\u001b[43m \u001b[49m\u001b[38;5;241;43m<\u001b[39;49m\u001b[38;5;241;43m=\u001b[39;49m\u001b[43m \u001b[49m\u001b[43mqs\u001b[49m\u001b[43m \u001b[49m\u001b[38;5;241;43m<\u001b[39;49m\u001b[38;5;241;43m=\u001b[39;49m\u001b[43m \u001b[49m\u001b[38;5;241;43m1\u001b[39;49m \u001b[38;5;28;01mfor\u001b[39;00m qs \u001b[38;5;129;01min\u001b[39;00m q_arr):\n\u001b[1;32m    340\u001b[0m         \u001b[38;5;28;01mraise\u001b[39;00m \u001b[38;5;167;01mValueError\u001b[39;00m(msg)\n\u001b[1;32m    341\u001b[0m \u001b[38;5;28;01mreturn\u001b[39;00m q_arr\n",
      "\u001b[0;31mTypeError\u001b[0m: '<=' not supported between instances of 'int' and 'numpy.str_'"
     ]
    }
   ],
   "source": [
    "df.describe('trip_distance')"
   ]
  },
  {
   "cell_type": "code",
   "execution_count": 166,
   "id": "caf3ef6d",
   "metadata": {},
   "outputs": [
    {
     "data": {
      "text/plain": [
       "VendorID                   int64\n",
       "tpep_pickup_datetime      object\n",
       "tpep_dropoff_datetime     object\n",
       "passenger_count            int64\n",
       "trip_distance            float64\n",
       "pickup_longitude         float64\n",
       "pickup_latitude          float64\n",
       "RateCodeID                 int64\n",
       "store_and_fwd_flag        object\n",
       "dropoff_longitude        float64\n",
       "dropoff_latitude         float64\n",
       "payment_type               int64\n",
       "fare_amount              float64\n",
       "extra                    float64\n",
       "mta_tax                  float64\n",
       "tip_amount               float64\n",
       "tolls_amount             float64\n",
       "improvement_surcharge    float64\n",
       "total_amount             float64\n",
       "dtype: object"
      ]
     },
     "execution_count": 166,
     "metadata": {},
     "output_type": "execute_result"
    }
   ],
   "source": [
    "df.dtypes"
   ]
  },
  {
   "cell_type": "code",
   "execution_count": 168,
   "id": "04d155aa",
   "metadata": {},
   "outputs": [
    {
     "data": {
      "text/plain": [
       "count    9999.000000\n",
       "mean        1.659466\n",
       "std         1.333306\n",
       "min         0.000000\n",
       "25%         1.000000\n",
       "50%         1.000000\n",
       "75%         2.000000\n",
       "max         6.000000\n",
       "Name: passenger_count, dtype: float64"
      ]
     },
     "execution_count": 168,
     "metadata": {},
     "output_type": "execute_result"
    }
   ],
   "source": [
    "df[('passenger_count')].describe()"
   ]
  },
  {
   "cell_type": "code",
   "execution_count": 169,
   "id": "a144dc68",
   "metadata": {},
   "outputs": [
    {
     "data": {
      "text/html": [
       "<div>\n",
       "<style scoped>\n",
       "    .dataframe tbody tr th:only-of-type {\n",
       "        vertical-align: middle;\n",
       "    }\n",
       "\n",
       "    .dataframe tbody tr th {\n",
       "        vertical-align: top;\n",
       "    }\n",
       "\n",
       "    .dataframe thead th {\n",
       "        text-align: right;\n",
       "    }\n",
       "</style>\n",
       "<table border=\"1\" class=\"dataframe\">\n",
       "  <thead>\n",
       "    <tr style=\"text-align: right;\">\n",
       "      <th></th>\n",
       "      <th>passenger_count</th>\n",
       "      <th>trip_distance</th>\n",
       "      <th>total_amount</th>\n",
       "    </tr>\n",
       "  </thead>\n",
       "  <tbody>\n",
       "    <tr>\n",
       "      <th>count</th>\n",
       "      <td>9999.000000</td>\n",
       "      <td>9999.000000</td>\n",
       "      <td>9999.000000</td>\n",
       "    </tr>\n",
       "    <tr>\n",
       "      <th>mean</th>\n",
       "      <td>1.659466</td>\n",
       "      <td>3.158511</td>\n",
       "      <td>17.552472</td>\n",
       "    </tr>\n",
       "    <tr>\n",
       "      <th>std</th>\n",
       "      <td>1.333306</td>\n",
       "      <td>4.037516</td>\n",
       "      <td>15.137990</td>\n",
       "    </tr>\n",
       "    <tr>\n",
       "      <th>min</th>\n",
       "      <td>0.000000</td>\n",
       "      <td>0.000000</td>\n",
       "      <td>-7.800000</td>\n",
       "    </tr>\n",
       "    <tr>\n",
       "      <th>25%</th>\n",
       "      <td>1.000000</td>\n",
       "      <td>1.000000</td>\n",
       "      <td>8.800000</td>\n",
       "    </tr>\n",
       "    <tr>\n",
       "      <th>50%</th>\n",
       "      <td>1.000000</td>\n",
       "      <td>1.700000</td>\n",
       "      <td>12.800000</td>\n",
       "    </tr>\n",
       "    <tr>\n",
       "      <th>75%</th>\n",
       "      <td>2.000000</td>\n",
       "      <td>3.300000</td>\n",
       "      <td>19.800000</td>\n",
       "    </tr>\n",
       "    <tr>\n",
       "      <th>max</th>\n",
       "      <td>6.000000</td>\n",
       "      <td>64.600000</td>\n",
       "      <td>252.350000</td>\n",
       "    </tr>\n",
       "  </tbody>\n",
       "</table>\n",
       "</div>"
      ],
      "text/plain": [
       "       passenger_count  trip_distance  total_amount\n",
       "count      9999.000000    9999.000000   9999.000000\n",
       "mean          1.659466       3.158511     17.552472\n",
       "std           1.333306       4.037516     15.137990\n",
       "min           0.000000       0.000000     -7.800000\n",
       "25%           1.000000       1.000000      8.800000\n",
       "50%           1.000000       1.700000     12.800000\n",
       "75%           2.000000       3.300000     19.800000\n",
       "max           6.000000      64.600000    252.350000"
      ]
     },
     "execution_count": 169,
     "metadata": {},
     "output_type": "execute_result"
    }
   ],
   "source": [
    "df[   ['passenger_count', 'trip_distance', 'total_amount']   ].describe()"
   ]
  },
  {
   "cell_type": "code",
   "execution_count": 174,
   "id": "8336552e",
   "metadata": {},
   "outputs": [
    {
     "data": {
      "text/plain": [
       "31.581940298507465"
      ]
     },
     "execution_count": 174,
     "metadata": {},
     "output_type": "execute_result"
    }
   ],
   "source": [
    "df.loc[ df['trip_distance'] == 0  ,     # row selector\n",
    "         'total_amount'].mean()         # column selector\n"
   ]
  },
  {
   "cell_type": "code",
   "execution_count": null,
   "id": "7d7d0ea3",
   "metadata": {},
   "outputs": [],
   "source": []
  }
 ],
 "metadata": {
  "kernelspec": {
   "display_name": "Python 3 (ipykernel)",
   "language": "python",
   "name": "python3"
  },
  "language_info": {
   "codemirror_mode": {
    "name": "ipython",
    "version": 3
   },
   "file_extension": ".py",
   "mimetype": "text/x-python",
   "name": "python",
   "nbconvert_exporter": "python",
   "pygments_lexer": "ipython3",
   "version": "3.12.7"
  }
 },
 "nbformat": 4,
 "nbformat_minor": 5
}
