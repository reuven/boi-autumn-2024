{
 "cells": [
  {
   "cell_type": "code",
   "execution_count": 1,
   "id": "662faae0",
   "metadata": {},
   "outputs": [],
   "source": [
    "import random"
   ]
  },
  {
   "cell_type": "code",
   "execution_count": 2,
   "id": "5b217937",
   "metadata": {},
   "outputs": [
    {
     "data": {
      "text/plain": [
       "12"
      ]
     },
     "execution_count": 2,
     "metadata": {},
     "output_type": "execute_result"
    }
   ],
   "source": [
    "random.randint(0,50)"
   ]
  },
  {
   "cell_type": "code",
   "execution_count": 3,
   "id": "f9df5064",
   "metadata": {},
   "outputs": [],
   "source": [
    "import pandas as pd"
   ]
  },
  {
   "cell_type": "code",
   "execution_count": 4,
   "id": "a9b4750f",
   "metadata": {},
   "outputs": [],
   "source": [
    "from pandas import Series, DataFrame"
   ]
  },
  {
   "cell_type": "code",
   "execution_count": 5,
   "id": "b6aaac81",
   "metadata": {},
   "outputs": [],
   "source": [
    "s = Series([1,2,3,4,5,6,7])"
   ]
  },
  {
   "cell_type": "code",
   "execution_count": 6,
   "id": "5aab25b3",
   "metadata": {},
   "outputs": [
    {
     "data": {
      "text/plain": [
       "0    1\n",
       "1    2\n",
       "2    3\n",
       "3    4\n",
       "4    5\n",
       "5    6\n",
       "6    7\n",
       "dtype: int64"
      ]
     },
     "execution_count": 6,
     "metadata": {},
     "output_type": "execute_result"
    }
   ],
   "source": [
    "s"
   ]
  },
  {
   "cell_type": "code",
   "execution_count": 7,
   "id": "c445291e",
   "metadata": {},
   "outputs": [
    {
     "data": {
      "text/plain": [
       "2"
      ]
     },
     "execution_count": 7,
     "metadata": {},
     "output_type": "execute_result"
    }
   ],
   "source": [
    "s[1]"
   ]
  },
  {
   "cell_type": "code",
   "execution_count": 8,
   "id": "a059c1f9",
   "metadata": {},
   "outputs": [
    {
     "ename": "AttributeError",
     "evalue": "'Series' object has no attribute 'len'",
     "output_type": "error",
     "traceback": [
      "\u001b[0;31m---------------------------------------------------------------------------\u001b[0m",
      "\u001b[0;31mAttributeError\u001b[0m                            Traceback (most recent call last)",
      "\u001b[0;32m/tmp/ipykernel_1648/2847171261.py\u001b[0m in \u001b[0;36m?\u001b[0;34m()\u001b[0m\n\u001b[0;32m----> 1\u001b[0;31m \u001b[0ms\u001b[0m\u001b[0;34m.\u001b[0m\u001b[0mlen\u001b[0m\u001b[0;34m(\u001b[0m\u001b[0;34m)\u001b[0m\u001b[0;34m\u001b[0m\u001b[0;34m\u001b[0m\u001b[0m\n\u001b[0m",
      "\u001b[0;32m/usr/lib/python3/dist-packages/pandas/core/generic.py\u001b[0m in \u001b[0;36m?\u001b[0;34m(self, name)\u001b[0m\n\u001b[1;32m   6295\u001b[0m             \u001b[0;32mand\u001b[0m \u001b[0mname\u001b[0m \u001b[0;32mnot\u001b[0m \u001b[0;32min\u001b[0m \u001b[0mself\u001b[0m\u001b[0;34m.\u001b[0m\u001b[0m_accessors\u001b[0m\u001b[0;34m\u001b[0m\u001b[0;34m\u001b[0m\u001b[0m\n\u001b[1;32m   6296\u001b[0m             \u001b[0;32mand\u001b[0m \u001b[0mself\u001b[0m\u001b[0;34m.\u001b[0m\u001b[0m_info_axis\u001b[0m\u001b[0;34m.\u001b[0m\u001b[0m_can_hold_identifiers_and_holds_name\u001b[0m\u001b[0;34m(\u001b[0m\u001b[0mname\u001b[0m\u001b[0;34m)\u001b[0m\u001b[0;34m\u001b[0m\u001b[0;34m\u001b[0m\u001b[0m\n\u001b[1;32m   6297\u001b[0m         \u001b[0;34m)\u001b[0m\u001b[0;34m:\u001b[0m\u001b[0;34m\u001b[0m\u001b[0;34m\u001b[0m\u001b[0m\n\u001b[1;32m   6298\u001b[0m             \u001b[0;32mreturn\u001b[0m \u001b[0mself\u001b[0m\u001b[0;34m[\u001b[0m\u001b[0mname\u001b[0m\u001b[0;34m]\u001b[0m\u001b[0;34m\u001b[0m\u001b[0;34m\u001b[0m\u001b[0m\n\u001b[0;32m-> 6299\u001b[0;31m         \u001b[0;32mreturn\u001b[0m \u001b[0mobject\u001b[0m\u001b[0;34m.\u001b[0m\u001b[0m__getattribute__\u001b[0m\u001b[0;34m(\u001b[0m\u001b[0mself\u001b[0m\u001b[0;34m,\u001b[0m \u001b[0mname\u001b[0m\u001b[0;34m)\u001b[0m\u001b[0;34m\u001b[0m\u001b[0;34m\u001b[0m\u001b[0m\n\u001b[0m",
      "\u001b[0;31mAttributeError\u001b[0m: 'Series' object has no attribute 'len'"
     ]
    }
   ],
   "source": [
    "s.len()"
   ]
  },
  {
   "cell_type": "code",
   "execution_count": 9,
   "id": "90abfada",
   "metadata": {},
   "outputs": [
    {
     "data": {
      "text/plain": [
       "28"
      ]
     },
     "execution_count": 9,
     "metadata": {},
     "output_type": "execute_result"
    }
   ],
   "source": [
    "s.sum()"
   ]
  },
  {
   "cell_type": "code",
   "execution_count": 10,
   "id": "7e91d265",
   "metadata": {},
   "outputs": [],
   "source": [
    "maxTemp = Series([20,30,24,34,18,23,24,28,31,25])"
   ]
  },
  {
   "cell_type": "code",
   "execution_count": 11,
   "id": "56863054",
   "metadata": {},
   "outputs": [
    {
     "data": {
      "text/plain": [
       "count    10.000000\n",
       "mean     25.700000\n",
       "std       5.012207\n",
       "min      18.000000\n",
       "25%      23.250000\n",
       "50%      24.500000\n",
       "75%      29.500000\n",
       "max      34.000000\n",
       "dtype: float64"
      ]
     },
     "execution_count": 11,
     "metadata": {},
     "output_type": "execute_result"
    }
   ],
   "source": [
    "maxTemp.describe()"
   ]
  },
  {
   "cell_type": "code",
   "execution_count": 12,
   "id": "ab18f24f",
   "metadata": {},
   "outputs": [],
   "source": [
    "maxTemp5 = maxTemp[0:4]"
   ]
  },
  {
   "cell_type": "code",
   "execution_count": 13,
   "id": "2bf42caa",
   "metadata": {},
   "outputs": [
    {
     "data": {
      "text/plain": [
       "0    20\n",
       "1    30\n",
       "2    24\n",
       "3    34\n",
       "dtype: int64"
      ]
     },
     "execution_count": 13,
     "metadata": {},
     "output_type": "execute_result"
    }
   ],
   "source": [
    "maxTemp5"
   ]
  },
  {
   "cell_type": "code",
   "execution_count": 14,
   "id": "528cd788",
   "metadata": {},
   "outputs": [],
   "source": [
    "maxTemp5 = maxTemp[0:5]"
   ]
  },
  {
   "cell_type": "code",
   "execution_count": 15,
   "id": "11b2b63d",
   "metadata": {},
   "outputs": [
    {
     "data": {
      "text/plain": [
       "0    20\n",
       "1    30\n",
       "2    24\n",
       "3    34\n",
       "4    18\n",
       "dtype: int64"
      ]
     },
     "execution_count": 15,
     "metadata": {},
     "output_type": "execute_result"
    }
   ],
   "source": [
    "maxTemp5"
   ]
  },
  {
   "cell_type": "code",
   "execution_count": 16,
   "id": "a52e3c46",
   "metadata": {},
   "outputs": [
    {
     "data": {
      "text/plain": [
       "34"
      ]
     },
     "execution_count": 16,
     "metadata": {},
     "output_type": "execute_result"
    }
   ],
   "source": [
    "maxTemp5.max()"
   ]
  },
  {
   "cell_type": "code",
   "execution_count": 17,
   "id": "bf799d2a",
   "metadata": {},
   "outputs": [
    {
     "data": {
      "text/plain": [
       "34"
      ]
     },
     "execution_count": 17,
     "metadata": {},
     "output_type": "execute_result"
    }
   ],
   "source": [
    "maxTemp[0:5].max()"
   ]
  },
  {
   "cell_type": "code",
   "execution_count": 18,
   "id": "3caf64b5",
   "metadata": {},
   "outputs": [],
   "source": [
    "maxTemp = Series([20,30,24,34,18,23,24,28,31,25], index=['01','02','03','04','05','06','07','08','09','10'])"
   ]
  },
  {
   "cell_type": "code",
   "execution_count": 19,
   "id": "c01853f4",
   "metadata": {},
   "outputs": [],
   "source": [
    "minTemp = Series([16,20,14,23,12,17,15,20,22,14], index=['01','02','03','04','05','06','07','08','09','10'])"
   ]
  },
  {
   "cell_type": "code",
   "execution_count": 20,
   "id": "c830825e",
   "metadata": {},
   "outputs": [
    {
     "data": {
      "text/plain": [
       "01     4\n",
       "02    10\n",
       "03    10\n",
       "04    11\n",
       "05     6\n",
       "06     6\n",
       "07     9\n",
       "08     8\n",
       "09     9\n",
       "10    11\n",
       "dtype: int64"
      ]
     },
     "execution_count": 20,
     "metadata": {},
     "output_type": "execute_result"
    }
   ],
   "source": [
    "diffs=maxTemp-minTemp\n",
    "diffs"
   ]
  },
  {
   "cell_type": "code",
   "execution_count": 21,
   "id": "afd1c35c",
   "metadata": {},
   "outputs": [
    {
     "data": {
      "text/plain": [
       "count     5.00000\n",
       "mean      8.20000\n",
       "std       3.03315\n",
       "min       4.00000\n",
       "25%       6.00000\n",
       "50%      10.00000\n",
       "75%      10.00000\n",
       "max      11.00000\n",
       "dtype: float64"
      ]
     },
     "execution_count": 21,
     "metadata": {},
     "output_type": "execute_result"
    }
   ],
   "source": [
    "diffs[:5].describe()"
   ]
  },
  {
   "cell_type": "code",
   "execution_count": 22,
   "id": "e6c994dd",
   "metadata": {},
   "outputs": [
    {
     "data": {
      "text/plain": [
       "05     6\n",
       "06     6\n",
       "07     9\n",
       "08     8\n",
       "09     9\n",
       "10    11\n",
       "dtype: int64"
      ]
     },
     "execution_count": 22,
     "metadata": {},
     "output_type": "execute_result"
    }
   ],
   "source": [
    "diffs.loc['05':'10']"
   ]
  },
  {
   "cell_type": "code",
   "execution_count": 23,
   "id": "2dad0a2e",
   "metadata": {},
   "outputs": [
    {
     "data": {
      "text/plain": [
       "count     5.00000\n",
       "mean      8.20000\n",
       "std       3.03315\n",
       "min       4.00000\n",
       "25%       6.00000\n",
       "50%      10.00000\n",
       "75%      10.00000\n",
       "max      11.00000\n",
       "dtype: float64"
      ]
     },
     "execution_count": 23,
     "metadata": {},
     "output_type": "execute_result"
    }
   ],
   "source": [
    "diffs.iloc[:5].describe()"
   ]
  },
  {
   "cell_type": "code",
   "execution_count": 24,
   "id": "08fa5b16",
   "metadata": {},
   "outputs": [
    {
     "data": {
      "text/plain": [
       "10"
      ]
     },
     "execution_count": 24,
     "metadata": {},
     "output_type": "execute_result"
    }
   ],
   "source": [
    "len(diffs)"
   ]
  },
  {
   "cell_type": "code",
   "execution_count": 25,
   "id": "60a7ca07",
   "metadata": {},
   "outputs": [
    {
     "data": {
      "text/plain": [
       "Eyal    10\n",
       "Ora     20\n",
       "Moti    14\n",
       "Erez    70\n",
       "Alon    40\n",
       "Lior    59\n",
       "dtype: int64"
      ]
     },
     "execution_count": 25,
     "metadata": {},
     "output_type": "execute_result"
    }
   ],
   "source": [
    "s2 = Series([10,20,14,70,40,59], index=['Eyal','Ora','Moti','Erez','Alon','Lior'])\n",
    "s2"
   ]
  },
  {
   "cell_type": "code",
   "execution_count": 28,
   "id": "54a1c3a8",
   "metadata": {},
   "outputs": [
    {
     "data": {
      "text/plain": [
       "Eyal    10\n",
       "Ora     20\n",
       "Moti    14\n",
       "dtype: int64"
      ]
     },
     "execution_count": 28,
     "metadata": {},
     "output_type": "execute_result"
    }
   ],
   "source": [
    "s2.loc[s2<s2.mean()]"
   ]
  },
  {
   "cell_type": "code",
   "execution_count": 29,
   "id": "f34e886a",
   "metadata": {},
   "outputs": [
    {
     "data": {
      "text/plain": [
       "count     6.000000\n",
       "mean     35.500000\n",
       "std      24.961971\n",
       "min      10.000000\n",
       "25%      15.500000\n",
       "50%      30.000000\n",
       "75%      54.250000\n",
       "max      70.000000\n",
       "dtype: float64"
      ]
     },
     "execution_count": 29,
     "metadata": {},
     "output_type": "execute_result"
    }
   ],
   "source": [
    "s2.describe()"
   ]
  },
  {
   "cell_type": "code",
   "execution_count": 32,
   "id": "31851873",
   "metadata": {
    "scrolled": true
   },
   "outputs": [
    {
     "data": {
      "text/plain": [
       "Eyal    10\n",
       "dtype: int64"
      ]
     },
     "execution_count": 32,
     "metadata": {},
     "output_type": "execute_result"
    }
   ],
   "source": [
    "s2.loc[s2<s2.mean()-s2.std()]"
   ]
  },
  {
   "cell_type": "code",
   "execution_count": 33,
   "id": "48a62c6d",
   "metadata": {},
   "outputs": [],
   "source": [
    "maxTempC = Series([20,30,24,34,18,23,24,28,31,25])"
   ]
  },
  {
   "cell_type": "code",
   "execution_count": 34,
   "id": "14444a53",
   "metadata": {},
   "outputs": [
    {
     "data": {
      "text/plain": [
       "0    68.0\n",
       "1    86.0\n",
       "2    75.2\n",
       "3    93.2\n",
       "4    64.4\n",
       "5    73.4\n",
       "6    75.2\n",
       "7    82.4\n",
       "8    87.8\n",
       "9    77.0\n",
       "dtype: float64"
      ]
     },
     "execution_count": 34,
     "metadata": {},
     "output_type": "execute_result"
    }
   ],
   "source": [
    "maxTempF = (maxTempC * 1.8) +32\n",
    "maxTempF"
   ]
  },
  {
   "cell_type": "code",
   "execution_count": 35,
   "id": "a1deab10",
   "metadata": {},
   "outputs": [
    {
     "data": {
      "text/plain": [
       "0    68\n",
       "1    86\n",
       "2    75\n",
       "3    93\n",
       "4    64\n",
       "5    73\n",
       "6    75\n",
       "7    82\n",
       "8    87\n",
       "9    77\n",
       "dtype: int8"
      ]
     },
     "execution_count": 35,
     "metadata": {},
     "output_type": "execute_result"
    }
   ],
   "source": [
    "maxTempF.astype('int8')"
   ]
  },
  {
   "cell_type": "code",
   "execution_count": 36,
   "id": "6d889ec4",
   "metadata": {},
   "outputs": [],
   "source": [
    "import numpy as np"
   ]
  },
  {
   "cell_type": "code",
   "execution_count": 37,
   "id": "abc44c4f",
   "metadata": {},
   "outputs": [
    {
     "data": {
      "text/plain": [
       "0    20\n",
       "1    30\n",
       "2    24\n",
       "3    34\n",
       "4    18\n",
       "5    23\n",
       "6    24\n",
       "7    28\n",
       "8    31\n",
       "9    25\n",
       "dtype: int64"
      ]
     },
     "execution_count": 37,
     "metadata": {},
     "output_type": "execute_result"
    }
   ],
   "source": [
    "maxTempC"
   ]
  },
  {
   "cell_type": "code",
   "execution_count": 38,
   "id": "c43b8c6c",
   "metadata": {},
   "outputs": [],
   "source": [
    "maxTempC.loc[:4]=np.nan"
   ]
  },
  {
   "cell_type": "code",
   "execution_count": 39,
   "id": "b56c21e7",
   "metadata": {},
   "outputs": [
    {
     "data": {
      "text/plain": [
       "0     NaN\n",
       "1     NaN\n",
       "2     NaN\n",
       "3     NaN\n",
       "4     NaN\n",
       "5    23.0\n",
       "6    24.0\n",
       "7    28.0\n",
       "8    31.0\n",
       "9    25.0\n",
       "dtype: float64"
      ]
     },
     "execution_count": 39,
     "metadata": {},
     "output_type": "execute_result"
    }
   ],
   "source": [
    "maxTempC"
   ]
  },
  {
   "cell_type": "code",
   "execution_count": 42,
   "id": "bcdc8d47",
   "metadata": {},
   "outputs": [
    {
     "data": {
      "text/plain": [
       "0     NaN\n",
       "1     NaN\n",
       "2     NaN\n",
       "3    34.0\n",
       "4    18.0\n",
       "5    23.0\n",
       "6    24.0\n",
       "7    28.0\n",
       "8    31.0\n",
       "9    25.0\n",
       "dtype: float64"
      ]
     },
     "execution_count": 42,
     "metadata": {},
     "output_type": "execute_result"
    }
   ],
   "source": [
    "maxTempC = Series([20,30,24,34,18,23,24,28,31,25])\n",
    "maxTempC.loc[:2]=np.nan\n",
    "maxTempC"
   ]
  },
  {
   "cell_type": "code",
   "execution_count": 43,
   "id": "58e93a9d",
   "metadata": {},
   "outputs": [
    {
     "data": {
      "text/plain": [
       "0     NaN\n",
       "1     NaN\n",
       "2     NaN\n",
       "3    34.0\n",
       "4    18.0\n",
       "5    23.0\n",
       "6    24.0\n",
       "7    28.0\n",
       "8    31.0\n",
       "9    25.0\n",
       "dtype: float64"
      ]
     },
     "execution_count": 43,
     "metadata": {},
     "output_type": "execute_result"
    }
   ],
   "source": [
    "maxTempC"
   ]
  },
  {
   "cell_type": "code",
   "execution_count": 44,
   "id": "835a6e5c",
   "metadata": {},
   "outputs": [
    {
     "data": {
      "text/plain": [
       "0    26.142857\n",
       "1    26.142857\n",
       "2    26.142857\n",
       "3    34.000000\n",
       "4    18.000000\n",
       "5    23.000000\n",
       "6    24.000000\n",
       "7    28.000000\n",
       "8    31.000000\n",
       "9    25.000000\n",
       "dtype: float64"
      ]
     },
     "execution_count": 44,
     "metadata": {},
     "output_type": "execute_result"
    }
   ],
   "source": [
    "maxTempC.fillna(maxTempC.mean())"
   ]
  },
  {
   "cell_type": "code",
   "execution_count": 45,
   "id": "61d99df9",
   "metadata": {},
   "outputs": [
    {
     "data": {
      "text/plain": [
       "0     NaN\n",
       "1     NaN\n",
       "2     NaN\n",
       "3    34.0\n",
       "4    18.0\n",
       "5    23.0\n",
       "6    24.0\n",
       "7    28.0\n",
       "8    31.0\n",
       "9    25.0\n",
       "dtype: float64"
      ]
     },
     "execution_count": 45,
     "metadata": {},
     "output_type": "execute_result"
    }
   ],
   "source": [
    "maxTempC.loc[:2]=np.nan\n",
    "maxTempC"
   ]
  },
  {
   "cell_type": "code",
   "execution_count": 46,
   "id": "8963ee57",
   "metadata": {},
   "outputs": [
    {
     "data": {
      "text/plain": [
       "count     7.000000\n",
       "mean     26.142857\n",
       "std       5.336309\n",
       "min      18.000000\n",
       "25%      23.500000\n",
       "50%      25.000000\n",
       "75%      29.500000\n",
       "max      34.000000\n",
       "dtype: float64"
      ]
     },
     "execution_count": 46,
     "metadata": {},
     "output_type": "execute_result"
    }
   ],
   "source": [
    "maxTempC.fillna(maxTempC.mean())\n",
    "maxTempC.describe()"
   ]
  },
  {
   "cell_type": "code",
   "execution_count": 47,
   "id": "28011338",
   "metadata": {},
   "outputs": [
    {
     "data": {
      "text/plain": [
       "0     NaN\n",
       "1     NaN\n",
       "2     NaN\n",
       "3    34.0\n",
       "4    18.0\n",
       "5    23.0\n",
       "6    24.0\n",
       "7    28.0\n",
       "8    31.0\n",
       "9    25.0\n",
       "dtype: float64"
      ]
     },
     "execution_count": 47,
     "metadata": {},
     "output_type": "execute_result"
    }
   ],
   "source": [
    "maxTempC.loc[:2]=np.nan\n",
    "maxTempC"
   ]
  },
  {
   "cell_type": "code",
   "execution_count": null,
   "id": "ba24fd8d",
   "metadata": {},
   "outputs": [],
   "source": [
    "maxTempC.fillna(maxTempC.mean())\n",
    "maxTempC.describe()"
   ]
  },
  {
   "cell_type": "code",
   "execution_count": null,
   "id": "9f5540b4",
   "metadata": {},
   "outputs": [],
   "source": []
  },
  {
   "cell_type": "code",
   "execution_count": null,
   "id": "12e48472",
   "metadata": {},
   "outputs": [],
   "source": []
  },
  {
   "cell_type": "code",
   "execution_count": null,
   "id": "d41211c3",
   "metadata": {},
   "outputs": [],
   "source": []
  },
  {
   "cell_type": "code",
   "execution_count": null,
   "id": "a495e20b",
   "metadata": {},
   "outputs": [],
   "source": []
  }
 ],
 "metadata": {
  "kernelspec": {
   "display_name": "Python 3 (ipykernel)",
   "language": "python",
   "name": "python3"
  },
  "language_info": {
   "codemirror_mode": {
    "name": "ipython",
    "version": 3
   },
   "file_extension": ".py",
   "mimetype": "text/x-python",
   "name": "python",
   "nbconvert_exporter": "python",
   "pygments_lexer": "ipython3",
   "version": "3.12.7"
  }
 },
 "nbformat": 4,
 "nbformat_minor": 5
}
