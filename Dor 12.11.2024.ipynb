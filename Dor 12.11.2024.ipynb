{
 "cells": [
  {
   "cell_type": "code",
   "execution_count": 4,
   "id": "e75ba443",
   "metadata": {},
   "outputs": [
    {
     "ename": "TypeError",
     "evalue": "unsupported operand type(s) for &: 'int' and 'str'",
     "output_type": "error",
     "traceback": [
      "\u001b[0;31m---------------------------------------------------------------------------\u001b[0m",
      "\u001b[0;31mTypeError\u001b[0m                                 Traceback (most recent call last)",
      "Cell \u001b[0;32mIn[4], line 1\u001b[0m\n\u001b[0;32m----> 1\u001b[0m \u001b[38;5;28mprint\u001b[39m(\u001b[38;5;241;43m5\u001b[39;49m\u001b[38;5;241;43m&\u001b[39;49m\u001b[38;5;124;43m'\u001b[39;49m\u001b[38;5;124;43mhello\u001b[39;49m\u001b[38;5;124;43m'\u001b[39;49m)\n",
      "\u001b[0;31mTypeError\u001b[0m: unsupported operand type(s) for &: 'int' and 'str'"
     ]
    }
   ],
   "source": [
    "print(5&'hello')"
   ]
  },
  {
   "cell_type": "code",
   "execution_count": 5,
   "id": "25b203dd",
   "metadata": {
    "scrolled": true
   },
   "outputs": [
    {
     "ename": "TypeError",
     "evalue": "unsupported operand type(s) for +: 'int' and 'str'",
     "output_type": "error",
     "traceback": [
      "\u001b[0;31m---------------------------------------------------------------------------\u001b[0m",
      "\u001b[0;31mTypeError\u001b[0m                                 Traceback (most recent call last)",
      "Cell \u001b[0;32mIn[5], line 1\u001b[0m\n\u001b[0;32m----> 1\u001b[0m \u001b[38;5;28mprint\u001b[39m (\u001b[38;5;241;43m5\u001b[39;49m\u001b[38;5;241;43m+\u001b[39;49m\u001b[38;5;241;43m10\u001b[39;49m\u001b[43m \u001b[49m\u001b[38;5;241;43m+\u001b[39;49m\u001b[43m \u001b[49m\u001b[38;5;124;43m'\u001b[39;49m\u001b[38;5;124;43m hello\u001b[39;49m\u001b[38;5;124;43m'\u001b[39;49m)\n",
      "\u001b[0;31mTypeError\u001b[0m: unsupported operand type(s) for +: 'int' and 'str'"
     ]
    }
   ],
   "source": [
    "print (5+10 + ' hello')"
   ]
  },
  {
   "cell_type": "code",
   "execution_count": 6,
   "id": "0b49452c",
   "metadata": {
    "scrolled": true
   },
   "outputs": [
    {
     "name": "stdout",
     "output_type": "stream",
     "text": [
      "Hello Python\n"
     ]
    }
   ],
   "source": [
    "print('Hello Python')"
   ]
  },
  {
   "cell_type": "raw",
   "id": "7360dc88",
   "metadata": {},
   "source": [
    "print('please assign your name to variable x and a city to variable y')\n",
    "x='Dor'\n",
    "y='Jerusalem'\n",
    "print('Hello ' + x + ', Welcome to ' + y)"
   ]
  },
  {
   "cell_type": "code",
   "execution_count": 8,
   "id": "56c98787",
   "metadata": {},
   "outputs": [
    {
     "name": "stdout",
     "output_type": "stream",
     "text": [
      "Enter your Name: Dor\n",
      "Enter your Name: Jerusalem\n",
      "Hello Dor, Welcome to Jerusalem\n"
     ]
    }
   ],
   "source": [
    "x=input('Enter your Name: ')\n",
    "y=input('Enter your Name: ')\n",
    "print('Hello ' + x + ', Welcome to ' + y)"
   ]
  },
  {
   "cell_type": "code",
   "execution_count": 9,
   "id": "ef4cfa15",
   "metadata": {},
   "outputs": [
    {
     "name": "stdout",
     "output_type": "stream",
     "text": [
      "Hello Dor, Welcome to Jerusalem\n"
     ]
    }
   ],
   "source": [
    "print(f'Hello {x}, Welcome to {y}')"
   ]
  },
  {
   "cell_type": "code",
   "execution_count": 10,
   "id": "56fd7cac",
   "metadata": {},
   "outputs": [
    {
     "name": "stdout",
     "output_type": "stream",
     "text": [
      "Hi, what is your name?Dor\n"
     ]
    }
   ],
   "source": [
    "name=input('Hi, what is your name?')"
   ]
  },
  {
   "cell_type": "code",
   "execution_count": 11,
   "id": "3c601aa8",
   "metadata": {},
   "outputs": [
    {
     "ename": "SyntaxError",
     "evalue": "invalid syntax (3920517076.py, line 4)",
     "output_type": "error",
     "traceback": [
      "\u001b[0;36m  Cell \u001b[0;32mIn[11], line 4\u001b[0;36m\u001b[0m\n\u001b[0;31m    Else:\u001b[0m\n\u001b[0m         ^\u001b[0m\n\u001b[0;31mSyntaxError\u001b[0m\u001b[0;31m:\u001b[0m invalid syntax\n"
     ]
    }
   ],
   "source": [
    "name=input('Hi, what is your name?')\n",
    "if name=='Dor':\n",
    "    print ('You are the best!')\n",
    "Else:\n",
    "    print(f'Nice to meet you {name}')"
   ]
  },
  {
   "cell_type": "code",
   "execution_count": null,
   "id": "4def4989",
   "metadata": {},
   "outputs": [],
   "source": [
    "name=input('Hi, what is your name?')\n",
    "if name=='Dor':\n",
    "    print ('You are the best!')\n",
    "Else:\n",
    "    print(f'Nice to meet you {name}')\n",
    "end if"
   ]
  },
  {
   "cell_type": "code",
   "execution_count": 12,
   "id": "96c6b578",
   "metadata": {},
   "outputs": [
    {
     "ename": "SyntaxError",
     "evalue": "invalid syntax (3920517076.py, line 4)",
     "output_type": "error",
     "traceback": [
      "\u001b[0;36m  Cell \u001b[0;32mIn[12], line 4\u001b[0;36m\u001b[0m\n\u001b[0;31m    Else:\u001b[0m\n\u001b[0m         ^\u001b[0m\n\u001b[0;31mSyntaxError\u001b[0m\u001b[0;31m:\u001b[0m invalid syntax\n"
     ]
    }
   ],
   "source": [
    "name=input('Hi, what is your name?')\n",
    "if name=='Dor':\n",
    "    print ('You are the best!')\n",
    "Else:\n",
    "    print(f'Nice to meet you {name}')"
   ]
  },
  {
   "cell_type": "code",
   "execution_count": 13,
   "id": "86e61ab8",
   "metadata": {},
   "outputs": [
    {
     "name": "stdout",
     "output_type": "stream",
     "text": [
      "Hi, what is your name?Dor\n",
      "You are the best!\n"
     ]
    }
   ],
   "source": [
    "name=input('Hi, what is your name?')\n",
    "if name=='Dor':\n",
    "    print ('You are the best!')\n",
    "else:\n",
    "    print(f'Nice to meet you {name}')"
   ]
  },
  {
   "cell_type": "code",
   "execution_count": 14,
   "id": "549dbac7",
   "metadata": {},
   "outputs": [
    {
     "name": "stdout",
     "output_type": "stream",
     "text": [
      "Hi, what is your name?Kevin\n",
      "Nice to meet you Kevin\n"
     ]
    }
   ],
   "source": [
    "name=input('Hi, what is your name?')\n",
    "if name=='Dor':\n",
    "    print ('You are the best!')\n",
    "else:\n",
    "    print(f'Nice to meet you {name}')"
   ]
  },
  {
   "cell_type": "code",
   "execution_count": null,
   "id": "b6e39d7c",
   "metadata": {},
   "outputs": [],
   "source": []
  }
 ],
 "metadata": {
  "kernelspec": {
   "display_name": "Python 3 (ipykernel)",
   "language": "python",
   "name": "python3"
  },
  "language_info": {
   "codemirror_mode": {
    "name": "ipython",
    "version": 3
   },
   "file_extension": ".py",
   "mimetype": "text/x-python",
   "name": "python",
   "nbconvert_exporter": "python",
   "pygments_lexer": "ipython3",
   "version": "3.12.7"
  }
 },
 "nbformat": 4,
 "nbformat_minor": 5
}
