{
 "cells": [
  {
   "cell_type": "code",
   "execution_count": 1,
   "id": "e00932bc",
   "metadata": {},
   "outputs": [
    {
     "name": "stdout",
     "output_type": "stream",
     "text": [
      "a\n",
      "b\n",
      "c\n",
      "d\n"
     ]
    }
   ],
   "source": [
    "s= 'abcd'\n",
    "for x in s:\n",
    "    print (x)\n",
    "    "
   ]
  },
  {
   "cell_type": "code",
   "execution_count": 3,
   "id": "b5491744",
   "metadata": {},
   "outputs": [
    {
     "name": "stdout",
     "output_type": "stream",
     "text": [
      "0 yea\n",
      "1 yea\n",
      "2 yea\n"
     ]
    }
   ],
   "source": [
    "for a in range(3):\n",
    "    print(f'{a} yea')"
   ]
  },
  {
   "cell_type": "code",
   "execution_count": 4,
   "id": "800a690f",
   "metadata": {},
   "outputs": [
    {
     "name": "stdout",
     "output_type": "stream",
     "text": [
      "3\n",
      "6\n",
      "9\n",
      "12\n",
      "15\n",
      "18\n",
      "21\n",
      "24\n"
     ]
    }
   ],
   "source": [
    "for i in range (3,27,3):\n",
    "    print(i)"
   ]
  },
  {
   "cell_type": "code",
   "execution_count": 6,
   "id": "d602ccc3",
   "metadata": {},
   "outputs": [
    {
     "name": "stdout",
     "output_type": "stream",
     "text": [
      "Enter youe text: tthhdsksklkdjflkcvaa\n",
      "number of digits is 0,\tThe number of vowels is 2\n"
     ]
    }
   ],
   "source": [
    "digits=0\n",
    "vowels=0\n",
    "others=0\n",
    "text = input('Enter youe text: ')\n",
    "\n",
    "for charecter in text:\n",
    "    if charecter.isdigit():\n",
    "        digits +=1\n",
    "    elif charecter in 'aeiou':\n",
    "        vowels+=1\n",
    "    else:\n",
    "        others+=1\n",
    "\n",
    "print (f'number of digits is {digits},\\tThe number of vowels is {vowels}')\n",
    "       \n",
    "    "
   ]
  }
 ],
 "metadata": {
  "kernelspec": {
   "display_name": "Python 3 (ipykernel)",
   "language": "python",
   "name": "python3"
  },
  "language_info": {
   "codemirror_mode": {
    "name": "ipython",
    "version": 3
   },
   "file_extension": ".py",
   "mimetype": "text/x-python",
   "name": "python",
   "nbconvert_exporter": "python",
   "pygments_lexer": "ipython3",
   "version": "3.12.7"
  }
 },
 "nbformat": 4,
 "nbformat_minor": 5
}
