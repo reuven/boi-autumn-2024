{
 "cells": [
  {
   "cell_type": "code",
   "execution_count": 1,
   "id": "a11e96d0",
   "metadata": {},
   "outputs": [
    {
     "name": "stdout",
     "output_type": "stream",
     "text": [
      "Hello Merav\n"
     ]
    }
   ],
   "source": [
    "print('Hello Merav')"
   ]
  },
  {
   "cell_type": "code",
   "execution_count": 2,
   "id": "723d43bd",
   "metadata": {},
   "outputs": [
    {
     "name": "stdout",
     "output_type": "stream",
     "text": [
      "100\n"
     ]
    }
   ],
   "source": [
    "x=100\n",
    "print (x)"
   ]
  },
  {
   "cell_type": "code",
   "execution_count": 3,
   "id": "4c1d5bf8",
   "metadata": {},
   "outputs": [
    {
     "name": "stdout",
     "output_type": "stream",
     "text": [
      "x\n"
     ]
    }
   ],
   "source": [
    "print ('x')"
   ]
  },
  {
   "cell_type": "code",
   "execution_count": 4,
   "id": "46939e2b",
   "metadata": {},
   "outputs": [
    {
     "data": {
      "text/plain": [
       "105"
      ]
     },
     "execution_count": 4,
     "metadata": {},
     "output_type": "execute_result"
    }
   ],
   "source": [
    "x+5"
   ]
  },
  {
   "cell_type": "code",
   "execution_count": null,
   "id": "dcfe31e0",
   "metadata": {},
   "outputs": [],
   "source": []
  }
 ],
 "metadata": {
  "kernelspec": {
   "display_name": "Python 3 (ipykernel)",
   "language": "python",
   "name": "python3"
  },
  "language_info": {
   "codemirror_mode": {
    "name": "ipython",
    "version": 3
   },
   "file_extension": ".py",
   "mimetype": "text/x-python",
   "name": "python",
   "nbconvert_exporter": "python",
   "pygments_lexer": "ipython3",
   "version": "3.12.7"
  }
 },
 "nbformat": 4,
 "nbformat_minor": 5
}
