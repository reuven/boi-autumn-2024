{
 "cells": [
  {
   "cell_type": "code",
   "execution_count": 1,
   "id": "4ea6f2c7",
   "metadata": {},
   "outputs": [
    {
     "name": "stdout",
     "output_type": "stream",
     "text": [
      "a\n",
      "b\n",
      "c\n",
      "d\n"
     ]
    }
   ],
   "source": [
    "s= 'abcd'\n",
    "for x in s:\n",
    "    print (x)\n",
    "    "
   ]
  },
  {
   "cell_type": "code",
   "execution_count": 3,
   "id": "6e8e79d2",
   "metadata": {},
   "outputs": [
    {
     "name": "stdout",
     "output_type": "stream",
     "text": [
      "0 yea\n",
      "1 yea\n",
      "2 yea\n"
     ]
    }
   ],
   "source": [
    "for a in range(3):\n",
    "    print(f'{a} yea')"
   ]
  },
  {
   "cell_type": "code",
   "execution_count": 4,
   "id": "39c25f3d",
   "metadata": {},
   "outputs": [
    {
     "name": "stdout",
     "output_type": "stream",
     "text": [
      "3\n",
      "6\n",
      "9\n",
      "12\n",
      "15\n",
      "18\n",
      "21\n",
      "24\n"
     ]
    }
   ],
   "source": [
    "for i in range (3,27,3):\n",
    "    print(i)"
   ]
  },
  {
   "cell_type": "code",
   "execution_count": 9,
   "id": "757db715",
   "metadata": {},
   "outputs": [
    {
     "name": "stdout",
     "output_type": "stream",
     "text": [
      "Enter youe text: hello roee 87654\n",
      "The number of digits is 5,\n",
      "The number of vowels is 5\n",
      "The number of others is 6\n"
     ]
    }
   ],
   "source": [
    "digits=0\n",
    "vowels=0\n",
    "others=0\n",
    "text = input('Enter youe text: ')\n",
    "\n",
    "for charecter in text:\n",
    "    if charecter.isdigit():\n",
    "        digits +=1\n",
    "    elif charecter in 'aeiou':\n",
    "        vowels+=1\n",
    "    else:\n",
    "        others+=1\n",
    "\n",
    "print (f'The number of digits is {digits}\\nThe number of vowels is {vowels}\\nThe number of others is {others}')\n",
    "       \n",
    "    "
   ]
  },
  {
   "cell_type": "code",
   "execution_count": 13,
   "id": "981cd8da",
   "metadata": {},
   "outputs": [
    {
     "name": "stdout",
     "output_type": "stream",
     "text": [
      "Enter text: hello!\n",
      "Enter text: 145\n",
      "Enter text: \n",
      "vowels: ['e', 'o']\n",
      "digits: ['1', '4', '5']\n",
      "others: ['h', 'l', 'l', '!']\n"
     ]
    }
   ],
   "source": [
    "digits=[]\n",
    "vowels=[]\n",
    "others=[]\n",
    "\n",
    "while True:\n",
    "    text = input('Enter text: ').strip()    \n",
    "    if text=='':\n",
    "        break    \n",
    "    for charecter in text:\n",
    "        if charecter.isdigit():\n",
    "            digits.append(charecter)\n",
    "        elif charecter in 'aeiou':\n",
    "            vowels.append(charecter)\n",
    "        else:\n",
    "            others.append(charecter)\n",
    "    \n",
    "\n",
    "print (f'vowels: {vowels}')\n",
    "print (f'digits: {digits}')\n",
    "print (f'others: {others}')"
   ]
  },
  {
   "cell_type": "code",
   "execution_count": 1,
   "id": "2a3d0d24",
   "metadata": {},
   "outputs": [
    {
     "name": "stdout",
     "output_type": "stream",
     "text": [
      "Enter text: sdfsdfsdfsdf sdf\n",
      "dfsdfsdfsdfsay dfsay\n"
     ]
    }
   ],
   "source": [
    "text = input('Enter text: ').strip() \n",
    "piglatin=[]\n",
    "\n",
    "words=text.split()\n",
    "\n",
    "for word in words:\n",
    "    if word[0] in 'aeiou':    # if the word starts with a vowel, add 'way'\n",
    "        piglatin.append(word + 'way')\n",
    "    else:\n",
    "        piglatin.append(word[1:] + word[0] + 'ay')   # otherwise, first letter to end, add 'ay'\n",
    "        \n",
    "print (' '.join(piglatin))"
   ]
  },
  {
   "cell_type": "code",
   "execution_count": 6,
   "id": "bb4c6244",
   "metadata": {},
   "outputs": [
    {
     "name": "stdout",
     "output_type": "stream",
     "text": [
      "Enter your order: egg\n",
      "egg is 7, total is 7\n",
      "Enter your order: sandwich\n",
      "sandwich is 10, total is 17\n",
      "Enter your order: salad\n",
      "salad is 12, total is 29\n",
      "Enter your order: y\n",
      "Sorry, we re out of y today!\n",
      "Enter your order: \n",
      "total is 29\n"
     ]
    }
   ],
   "source": [
    "menu = {'sandwich':10, 'tea':5, 'egg':7, 'icecream':8, 'steak':20, 'salad':12}\n",
    "total=0\n",
    "\n",
    "while True:\n",
    "    order = input('Enter your order: ').strip()\n",
    "    if order=='':\n",
    "        break\n",
    "    if order in menu:\n",
    "        total+=menu[order]\n",
    "        print (f'{order} is {menu[order]}, total is {total}')\n",
    "    else:\n",
    "        print (f'Sorry, we re out of {order} today!')\n",
    "    \n",
    "print(f'total is {total}')"
   ]
  },
  {
   "cell_type": "code",
   "execution_count": 11,
   "id": "fb4cc422",
   "metadata": {},
   "outputs": [
    {
     "name": "stdout",
     "output_type": "stream",
     "text": [
      "Enter city name: א\n",
      "Enter rainfall: 6\n",
      "Enter city name: ר\n",
      "Enter rainfall: 4\n",
      "Enter city name: א\n",
      "Enter rainfall: 6\n",
      "Enter city name: \n",
      "{'א': 12, 'ר': 4}\n"
     ]
    }
   ],
   "source": [
    "rainfall={}\n",
    "\n",
    "while True:\n",
    "    city = input('Enter city name: ').strip()\n",
    "    \n",
    "    if city=='':\n",
    "        break\n",
    "    \n",
    "    rain = int(input('Enter rainfall: '))\n",
    "    \n",
    "    if city in rainfall:\n",
    "        rainfall[city] += rain\n",
    "    else:\n",
    "        rainfall[city] = rain\n",
    "\n",
    "print(rainfall)\n",
    "    "
   ]
  },
  {
   "cell_type": "code",
   "execution_count": 17,
   "id": "57045f3c",
   "metadata": {},
   "outputs": [
    {
     "name": "stdout",
     "output_type": "stream",
     "text": [
      "11\n",
      "28\n",
      "165\n"
     ]
    }
   ],
   "source": [
    "filename='wcfile.txt'\n",
    "f = open(filename)\n",
    "\n",
    "counts = {'lines'}\n",
    "\n",
    "lines=0\n",
    "words=0\n",
    "charecters=0\n",
    "\n",
    "for one_line in f:\n",
    "    lines+=1\n",
    "    charecters+=len(one_line)\n",
    "    this_line=one_line.split()\n",
    "    for word in this_line:\n",
    "        words+=1\n",
    "        \n",
    "print(lines)\n",
    "print(words)\n",
    "print(charecters)\n",
    "    "
   ]
  }
 ],
 "metadata": {
  "kernelspec": {
   "display_name": "Python 3 (ipykernel)",
   "language": "python",
   "name": "python3"
  },
  "language_info": {
   "codemirror_mode": {
    "name": "ipython",
    "version": 3
   },
   "file_extension": ".py",
   "mimetype": "text/x-python",
   "name": "python",
   "nbconvert_exporter": "python",
   "pygments_lexer": "ipython3",
   "version": "3.12.7"
  }
 },
 "nbformat": 4,
 "nbformat_minor": 5
}
