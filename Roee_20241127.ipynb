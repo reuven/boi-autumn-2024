{
 "cells": [
  {
   "cell_type": "code",
   "execution_count": 1,
   "id": "5be1609d",
   "metadata": {},
   "outputs": [
    {
     "name": "stdout",
     "output_type": "stream",
     "text": [
      "a\n",
      "b\n",
      "c\n",
      "d\n"
     ]
    }
   ],
   "source": [
    "s= 'abcd'\n",
    "for x in s:\n",
    "    print (x)\n",
    "    "
   ]
  },
  {
   "cell_type": "code",
   "execution_count": 3,
   "id": "f4d59b71",
   "metadata": {},
   "outputs": [
    {
     "name": "stdout",
     "output_type": "stream",
     "text": [
      "0 yea\n",
      "1 yea\n",
      "2 yea\n"
     ]
    }
   ],
   "source": [
    "for a in range(3):\n",
    "    print(f'{a} yea')"
   ]
  },
  {
   "cell_type": "code",
   "execution_count": 4,
   "id": "c68ec7aa",
   "metadata": {},
   "outputs": [
    {
     "name": "stdout",
     "output_type": "stream",
     "text": [
      "3\n",
      "6\n",
      "9\n",
      "12\n",
      "15\n",
      "18\n",
      "21\n",
      "24\n"
     ]
    }
   ],
   "source": [
    "for i in range (3,27,3):\n",
    "    print(i)"
   ]
  },
  {
   "cell_type": "code",
   "execution_count": 9,
   "id": "2a3fd6e4",
   "metadata": {},
   "outputs": [
    {
     "name": "stdout",
     "output_type": "stream",
     "text": [
      "Enter youe text: hello roee 87654\n",
      "The number of digits is 5,\n",
      "The number of vowels is 5\n",
      "The number of others is 6\n"
     ]
    }
   ],
   "source": [
    "digits=0\n",
    "vowels=0\n",
    "others=0\n",
    "text = input('Enter youe text: ')\n",
    "\n",
    "for charecter in text:\n",
    "    if charecter.isdigit():\n",
    "        digits +=1\n",
    "    elif charecter in 'aeiou':\n",
    "        vowels+=1\n",
    "    else:\n",
    "        others+=1\n",
    "\n",
    "print (f'The number of digits is {digits}\\nThe number of vowels is {vowels}\\nThe number of others is {others}')\n",
    "       \n",
    "    "
   ]
  },
  {
   "cell_type": "code",
   "execution_count": 13,
   "id": "25f91a9c",
   "metadata": {},
   "outputs": [
    {
     "name": "stdout",
     "output_type": "stream",
     "text": [
      "Enter text: hello!\n",
      "Enter text: 145\n",
      "Enter text: \n",
      "vowels: ['e', 'o']\n",
      "digits: ['1', '4', '5']\n",
      "others: ['h', 'l', 'l', '!']\n"
     ]
    }
   ],
   "source": [
    "digits=[]\n",
    "vowels=[]\n",
    "others=[]\n",
    "\n",
    "while True:\n",
    "    text = input('Enter text: ').strip()    \n",
    "    if text=='':\n",
    "        break    \n",
    "    for charecter in text:\n",
    "        if charecter.isdigit():\n",
    "            digits.append(charecter)\n",
    "        elif charecter in 'aeiou':\n",
    "            vowels.append(charecter)\n",
    "        else:\n",
    "            others.append(charecter)\n",
    "    \n",
    "\n",
    "print (f'vowels: {vowels}')\n",
    "print (f'digits: {digits}')\n",
    "print (f'others: {others}')"
   ]
  },
  {
   "cell_type": "code",
   "execution_count": null,
   "id": "2f9c7362",
   "metadata": {},
   "outputs": [],
   "source": [
    "text = input('Enter text: ').strip() \n",
    "piglatin=[]\n",
    "\n",
    "words=text.split()\n",
    "\n",
    "for word in words:\n",
    "    if word[0] in 'aeiou':    # if the word starts with a vowel, add 'way'\n",
    "        piglatin.append(word + 'way')\n",
    "    else:\n",
    "        piglatin.append(word[1:] + word[0] + 'ay')   # otherwise, first letter to end, add 'ay'"
   ]
  }
 ],
 "metadata": {
  "kernelspec": {
   "display_name": "Python 3 (ipykernel)",
   "language": "python",
   "name": "python3"
  },
  "language_info": {
   "codemirror_mode": {
    "name": "ipython",
    "version": 3
   },
   "file_extension": ".py",
   "mimetype": "text/x-python",
   "name": "python",
   "nbconvert_exporter": "python",
   "pygments_lexer": "ipython3",
   "version": "3.12.7"
  }
 },
 "nbformat": 4,
 "nbformat_minor": 5
}
