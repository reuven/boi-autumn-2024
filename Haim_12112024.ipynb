{
 "cells": [
  {
   "cell_type": "code",
   "execution_count": 2,
   "id": "cb0a0b53",
   "metadata": {},
   "outputs": [
    {
     "name": "stdout",
     "output_type": "stream",
     "text": [
      "hello Haim\n"
     ]
    }
   ],
   "source": [
    "print('hello Haim')"
   ]
  },
  {
   "cell_type": "code",
   "execution_count": 3,
   "id": "c768ec84",
   "metadata": {},
   "outputs": [
    {
     "ename": "SyntaxError",
     "evalue": "invalid syntax (2078450314.py, line 3)",
     "output_type": "error",
     "traceback": [
      "\u001b[0;36m  Cell \u001b[0;32mIn[3], line 3\u001b[0;36m\u001b[0m\n\u001b[0;31m    we can assign to a variable with = we assign the value on the right into the variable on the left.\u001b[0m\n\u001b[0m       ^\u001b[0m\n\u001b[0;31mSyntaxError\u001b[0m\u001b[0;31m:\u001b[0m invalid syntax\n"
     ]
    }
   ],
   "source": [
    "#This is to create a comment\n",
    "#variables and assignment\n",
    "#we can assign to a variable with = we assign the value on the right into the variable on the left.\n"
   ]
  },
  {
   "cell_type": "code",
   "execution_count": 7,
   "id": "b1d9ea3b",
   "metadata": {},
   "outputs": [
    {
     "name": "stdout",
     "output_type": "stream",
     "text": [
      "100\n"
     ]
    }
   ],
   "source": [
    "x = 100\n",
    "print(x) "
   ]
  },
  {
   "cell_type": "code",
   "execution_count": 8,
   "id": "656750f5",
   "metadata": {},
   "outputs": [
    {
     "data": {
      "text/plain": [
       "105"
      ]
     },
     "execution_count": 8,
     "metadata": {},
     "output_type": "execute_result"
    }
   ],
   "source": [
    "x+5"
   ]
  },
  {
   "cell_type": "code",
   "execution_count": null,
   "id": "7af742aa",
   "metadata": {},
   "outputs": [],
   "source": [
    "x = 100\n",
    "print(X)"
   ]
  },
  {
   "cell_type": "code",
   "execution_count": 9,
   "id": "0d28ce08",
   "metadata": {},
   "outputs": [
    {
     "ename": "NameError",
     "evalue": "name 'X' is not defined",
     "output_type": "error",
     "traceback": [
      "\u001b[0;31m---------------------------------------------------------------------------\u001b[0m",
      "\u001b[0;31mNameError\u001b[0m                                 Traceback (most recent call last)",
      "Cell \u001b[0;32mIn[9], line 2\u001b[0m\n\u001b[1;32m      1\u001b[0m x \u001b[38;5;241m=\u001b[39m \u001b[38;5;241m100\u001b[39m\n\u001b[0;32m----> 2\u001b[0m \u001b[38;5;28mprint\u001b[39m(\u001b[43mX\u001b[49m)\n",
      "\u001b[0;31mNameError\u001b[0m: name 'X' is not defined"
     ]
    }
   ],
   "source": [
    "x = 100\n",
    "print(X)"
   ]
  },
  {
   "cell_type": "code",
   "execution_count": 10,
   "id": "8cf40a30",
   "metadata": {},
   "outputs": [
    {
     "name": "stdout",
     "output_type": "stream",
     "text": [
      "what is your name:Haim\n"
     ]
    },
    {
     "data": {
      "text/plain": [
       "'Haim'"
      ]
     },
     "execution_count": 10,
     "metadata": {},
     "output_type": "execute_result"
    }
   ],
   "source": [
    "input ('what is your name:')\n"
   ]
  },
  {
   "cell_type": "code",
   "execution_count": 11,
   "id": "5ec7d441",
   "metadata": {},
   "outputs": [
    {
     "name": "stdout",
     "output_type": "stream",
     "text": [
      "what is your name:Haim\n",
      "what is your city:JR\n"
     ]
    },
    {
     "data": {
      "text/plain": [
       "'JR'"
      ]
     },
     "execution_count": 11,
     "metadata": {},
     "output_type": "execute_result"
    }
   ],
   "source": [
    "input ('what is your name:')\n",
    "input ('what is your city:')"
   ]
  },
  {
   "cell_type": "code",
   "execution_count": 17,
   "id": "8aa54f98",
   "metadata": {},
   "outputs": [
    {
     "ename": "NameError",
     "evalue": "name 'name' is not defined",
     "output_type": "error",
     "traceback": [
      "\u001b[0;31m---------------------------------------------------------------------------\u001b[0m",
      "\u001b[0;31mNameError\u001b[0m                                 Traceback (most recent call last)",
      "Cell \u001b[0;32mIn[17], line 1\u001b[0m\n\u001b[0;32m----> 1\u001b[0m \u001b[38;5;28mprint\u001b[39m(\u001b[43mname\u001b[49m)\n",
      "\u001b[0;31mNameError\u001b[0m: name 'name' is not defined"
     ]
    }
   ],
   "source": [
    "print(name)"
   ]
  },
  {
   "cell_type": "code",
   "execution_count": 16,
   "id": "905852e5",
   "metadata": {},
   "outputs": [
    {
     "ename": "NameError",
     "evalue": "name 'city' is not defined",
     "output_type": "error",
     "traceback": [
      "\u001b[0;31m---------------------------------------------------------------------------\u001b[0m",
      "\u001b[0;31mNameError\u001b[0m                                 Traceback (most recent call last)",
      "Cell \u001b[0;32mIn[16], line 1\u001b[0m\n\u001b[0;32m----> 1\u001b[0m \u001b[43mcity\u001b[49m\n",
      "\u001b[0;31mNameError\u001b[0m: name 'city' is not defined"
     ]
    }
   ],
   "source": []
  },
  {
   "cell_type": "code",
   "execution_count": 18,
   "id": "afa36e54",
   "metadata": {},
   "outputs": [
    {
     "name": "stdout",
     "output_type": "stream",
     "text": [
      "enter your name: haim\n",
      "enter your city: JR\n"
     ]
    }
   ],
   "source": [
    "name  = input ('enter your name: ')\n",
    "city = input ('enter your city: ')"
   ]
  },
  {
   "cell_type": "code",
   "execution_count": 24,
   "id": "23c8694c",
   "metadata": {},
   "outputs": [
    {
     "name": "stdout",
     "output_type": "stream",
     "text": [
      "haim fromJR\n"
     ]
    }
   ],
   "source": [
    "print(name,'from ' + city)"
   ]
  },
  {
   "cell_type": "code",
   "execution_count": 38,
   "id": "357f688a",
   "metadata": {},
   "outputs": [
    {
     "name": "stdout",
     "output_type": "stream",
     "text": [
      "enter your name: hj\n",
      "hello,hj, stranger\n"
     ]
    }
   ],
   "source": [
    "name = input ('enter your name: ')\n",
    "if name == 'haim':\n",
    "    print(f'hello, {name} ,great to see you!')\n",
    "else:\n",
    "    print(f'hello,{name}, stranger')\n",
    "    "
   ]
  },
  {
   "cell_type": "code",
   "execution_count": 53,
   "id": "ad7c5509",
   "metadata": {},
   "outputs": [
    {
     "name": "stdout",
     "output_type": "stream",
     "text": [
      "write first word:apple\n",
      "write second word:apple\n",
      "apple and apple are equal\n"
     ]
    }
   ],
   "source": [
    "word1 = input('write first word:')\n",
    "word2 = input('write second word:')\n",
    "if word1 > word2:\n",
    "    print (word1, 'Bigger than' ,word2)\n",
    "elif word2 > word1:\n",
    "    print (word2, 'Bigger than' ,word1)\n",
    "else:\n",
    "    print (f'{word1} and {word2} are equal')"
   ]
  },
  {
   "cell_type": "code",
   "execution_count": 70,
   "id": "7002dd6f",
   "metadata": {},
   "outputs": [
    {
     "name": "stdout",
     "output_type": "stream",
     "text": [
      "what is your city: jerusalem\n",
      "what is your name: weee\n",
      "we live in the same city\n"
     ]
    }
   ],
   "source": [
    "mycity = 'jerusalem'\n",
    "myname = 'haim'\n",
    "usercity = input ('what is your city: ')\n",
    "username = input ('what is your name: ')\n",
    "if mycity == usercity and username == myname:\n",
    "    print (f'You must be me')\n",
    "elif mycity == usercity and username != myname:\n",
    "    print(f'we live in the same city')\n",
    "elif myname == username and mycity != usercity:\n",
    "    print(f'great name')\n",
    "else:\n",
    "    print('bad everything')"
   ]
  },
  {
   "cell_type": "code",
   "execution_count": 73,
   "id": "c9b3f417",
   "metadata": {},
   "outputs": [
    {
     "name": "stdout",
     "output_type": "stream",
     "text": [
      "what is your guess:100\n",
      "you are too high\n"
     ]
    }
   ],
   "source": [
    "secret =72\n",
    "guess = input ('what is your guess:')\n",
    "guess = int(guess)\n",
    "if guess == secret:\n",
    "    print (f'you are correct')\n",
    "elif guess > secret:\n",
    "    print(f'you are too high')\n",
    "else:\n",
    "    print(f'you are too low')\n",
    "    "
   ]
  },
  {
   "cell_type": "code",
   "execution_count": 75,
   "id": "32738cc5",
   "metadata": {},
   "outputs": [
    {
     "name": "stdout",
     "output_type": "stream",
     "text": [
      "chose a word: hello\n"
     ]
    },
    {
     "data": {
      "text/plain": [
       "'h'"
      ]
     },
     "execution_count": 75,
     "metadata": {},
     "output_type": "execute_result"
    }
   ],
   "source": [
    "word = input('chose a word: ')\n",
    "if word[0] = 'a'"
   ]
  },
  {
   "cell_type": "code",
   "execution_count": null,
   "id": "9866c6cd",
   "metadata": {},
   "outputs": [],
   "source": []
  }
 ],
 "metadata": {
  "kernelspec": {
   "display_name": "Python 3 (ipykernel)",
   "language": "python",
   "name": "python3"
  },
  "language_info": {
   "codemirror_mode": {
    "name": "ipython",
    "version": 3
   },
   "file_extension": ".py",
   "mimetype": "text/x-python",
   "name": "python",
   "nbconvert_exporter": "python",
   "pygments_lexer": "ipython3",
   "version": "3.12.7"
  }
 },
 "nbformat": 4,
 "nbformat_minor": 5
}
