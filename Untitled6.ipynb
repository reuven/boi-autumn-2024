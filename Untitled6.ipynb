{
 "cells": [
  {
   "cell_type": "markdown",
   "id": "abda5fd4",
   "metadata": {},
   "source": [
    "# Agenda\n",
    "\n",
    "- Strings\n",
    "- Cleaning data\n",
    "- Datetimes\n",
    "- Grouping + pivot tables\n",
    "- Join + merge\n",
    "- Plotting"
   ]
  },
  {
   "cell_type": "code",
   "execution_count": null,
   "id": "eab538d9",
   "metadata": {},
   "outputs": [],
   "source": []
  }
 ],
 "metadata": {
  "kernelspec": {
   "display_name": "Python 3 (ipykernel)",
   "language": "python",
   "name": "python3"
  },
  "language_info": {
   "codemirror_mode": {
    "name": "ipython",
    "version": 3
   },
   "file_extension": ".py",
   "mimetype": "text/x-python",
   "name": "python",
   "nbconvert_exporter": "python",
   "pygments_lexer": "ipython3",
   "version": "3.12.7"
  }
 },
 "nbformat": 4,
 "nbformat_minor": 5
}
