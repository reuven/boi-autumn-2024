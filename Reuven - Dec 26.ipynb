{
 "cells": [
  {
   "cell_type": "markdown",
   "id": "8cb00111",
   "metadata": {},
   "source": [
    "# Agenda\n",
    "\n",
    "- Strings\n",
    "- Cleaning data\n",
    "- Datetimes\n",
    "- Grouping + pivot tables\n",
    "- Join + merge\n",
    "- Plotting"
   ]
  },
  {
   "cell_type": "markdown",
   "id": "8d4dc4ff",
   "metadata": {},
   "source": [
    "URL: https://python.lerner.co.il"
   ]
  },
  {
   "cell_type": "code",
   "execution_count": 1,
   "id": "7cf582b5",
   "metadata": {},
   "outputs": [
    {
     "name": "stdout",
     "output_type": "stream",
     "text": [
      "burrito_current.csv\t   languages.csv  titanic3.csv\r\n",
      "celebrity_deaths_2016.csv  taxi.csv\r\n"
     ]
    }
   ],
   "source": [
    "!ls *.csv"
   ]
  },
  {
   "cell_type": "code",
   "execution_count": 2,
   "id": "a1a03126",
   "metadata": {},
   "outputs": [],
   "source": [
    "import pandas as pd"
   ]
  },
  {
   "cell_type": "code",
   "execution_count": 3,
   "id": "a8bcb4f3",
   "metadata": {},
   "outputs": [],
   "source": [
    "df = pd.read_csv('taxi.csv')"
   ]
  },
  {
   "cell_type": "code",
   "execution_count": 4,
   "id": "a9189aea",
   "metadata": {},
   "outputs": [
    {
     "data": {
      "text/plain": [
       "VendorID                   int64\n",
       "tpep_pickup_datetime      object\n",
       "tpep_dropoff_datetime     object\n",
       "passenger_count            int64\n",
       "trip_distance            float64\n",
       "pickup_longitude         float64\n",
       "pickup_latitude          float64\n",
       "RateCodeID                 int64\n",
       "store_and_fwd_flag        object\n",
       "dropoff_longitude        float64\n",
       "dropoff_latitude         float64\n",
       "payment_type               int64\n",
       "fare_amount              float64\n",
       "extra                    float64\n",
       "mta_tax                  float64\n",
       "tip_amount               float64\n",
       "tolls_amount             float64\n",
       "improvement_surcharge    float64\n",
       "total_amount             float64\n",
       "dtype: object"
      ]
     },
     "execution_count": 4,
     "metadata": {},
     "output_type": "execute_result"
    }
   ],
   "source": [
    "df.dtypes"
   ]
  },
  {
   "cell_type": "code",
   "execution_count": 5,
   "id": "0006a0b1",
   "metadata": {},
   "outputs": [
    {
     "data": {
      "text/html": [
       "<div>\n",
       "<style scoped>\n",
       "    .dataframe tbody tr th:only-of-type {\n",
       "        vertical-align: middle;\n",
       "    }\n",
       "\n",
       "    .dataframe tbody tr th {\n",
       "        vertical-align: top;\n",
       "    }\n",
       "\n",
       "    .dataframe thead th {\n",
       "        text-align: right;\n",
       "    }\n",
       "</style>\n",
       "<table border=\"1\" class=\"dataframe\">\n",
       "  <thead>\n",
       "    <tr style=\"text-align: right;\">\n",
       "      <th></th>\n",
       "      <th>VendorID</th>\n",
       "      <th>tpep_pickup_datetime</th>\n",
       "      <th>tpep_dropoff_datetime</th>\n",
       "      <th>passenger_count</th>\n",
       "      <th>trip_distance</th>\n",
       "      <th>pickup_longitude</th>\n",
       "      <th>pickup_latitude</th>\n",
       "      <th>RateCodeID</th>\n",
       "      <th>store_and_fwd_flag</th>\n",
       "      <th>dropoff_longitude</th>\n",
       "      <th>dropoff_latitude</th>\n",
       "      <th>payment_type</th>\n",
       "      <th>fare_amount</th>\n",
       "      <th>extra</th>\n",
       "      <th>mta_tax</th>\n",
       "      <th>tip_amount</th>\n",
       "      <th>tolls_amount</th>\n",
       "      <th>improvement_surcharge</th>\n",
       "      <th>total_amount</th>\n",
       "    </tr>\n",
       "  </thead>\n",
       "  <tbody>\n",
       "    <tr>\n",
       "      <th>0</th>\n",
       "      <td>2</td>\n",
       "      <td>2015-06-02 11:19:29</td>\n",
       "      <td>2015-06-02 11:47:52</td>\n",
       "      <td>1</td>\n",
       "      <td>1.63</td>\n",
       "      <td>-73.954430</td>\n",
       "      <td>40.764141</td>\n",
       "      <td>1</td>\n",
       "      <td>N</td>\n",
       "      <td>-73.974754</td>\n",
       "      <td>40.754093</td>\n",
       "      <td>2</td>\n",
       "      <td>17.0</td>\n",
       "      <td>0.0</td>\n",
       "      <td>0.5</td>\n",
       "      <td>0.00</td>\n",
       "      <td>0.00</td>\n",
       "      <td>0.3</td>\n",
       "      <td>17.80</td>\n",
       "    </tr>\n",
       "    <tr>\n",
       "      <th>1</th>\n",
       "      <td>2</td>\n",
       "      <td>2015-06-02 11:19:30</td>\n",
       "      <td>2015-06-02 11:27:56</td>\n",
       "      <td>1</td>\n",
       "      <td>0.46</td>\n",
       "      <td>-73.971443</td>\n",
       "      <td>40.758942</td>\n",
       "      <td>1</td>\n",
       "      <td>N</td>\n",
       "      <td>-73.978539</td>\n",
       "      <td>40.761909</td>\n",
       "      <td>1</td>\n",
       "      <td>6.5</td>\n",
       "      <td>0.0</td>\n",
       "      <td>0.5</td>\n",
       "      <td>1.00</td>\n",
       "      <td>0.00</td>\n",
       "      <td>0.3</td>\n",
       "      <td>8.30</td>\n",
       "    </tr>\n",
       "    <tr>\n",
       "      <th>2</th>\n",
       "      <td>2</td>\n",
       "      <td>2015-06-02 11:19:31</td>\n",
       "      <td>2015-06-02 11:30:30</td>\n",
       "      <td>1</td>\n",
       "      <td>0.87</td>\n",
       "      <td>-73.978111</td>\n",
       "      <td>40.738434</td>\n",
       "      <td>1</td>\n",
       "      <td>N</td>\n",
       "      <td>-73.990273</td>\n",
       "      <td>40.745438</td>\n",
       "      <td>1</td>\n",
       "      <td>8.0</td>\n",
       "      <td>0.0</td>\n",
       "      <td>0.5</td>\n",
       "      <td>2.20</td>\n",
       "      <td>0.00</td>\n",
       "      <td>0.3</td>\n",
       "      <td>11.00</td>\n",
       "    </tr>\n",
       "    <tr>\n",
       "      <th>3</th>\n",
       "      <td>2</td>\n",
       "      <td>2015-06-02 11:19:31</td>\n",
       "      <td>2015-06-02 11:39:02</td>\n",
       "      <td>1</td>\n",
       "      <td>2.13</td>\n",
       "      <td>-73.945892</td>\n",
       "      <td>40.773529</td>\n",
       "      <td>1</td>\n",
       "      <td>N</td>\n",
       "      <td>-73.971527</td>\n",
       "      <td>40.760330</td>\n",
       "      <td>1</td>\n",
       "      <td>13.5</td>\n",
       "      <td>0.0</td>\n",
       "      <td>0.5</td>\n",
       "      <td>2.86</td>\n",
       "      <td>0.00</td>\n",
       "      <td>0.3</td>\n",
       "      <td>17.16</td>\n",
       "    </tr>\n",
       "    <tr>\n",
       "      <th>4</th>\n",
       "      <td>1</td>\n",
       "      <td>2015-06-02 11:19:32</td>\n",
       "      <td>2015-06-02 11:32:49</td>\n",
       "      <td>1</td>\n",
       "      <td>1.40</td>\n",
       "      <td>-73.979088</td>\n",
       "      <td>40.776772</td>\n",
       "      <td>1</td>\n",
       "      <td>N</td>\n",
       "      <td>-73.982162</td>\n",
       "      <td>40.758999</td>\n",
       "      <td>2</td>\n",
       "      <td>9.5</td>\n",
       "      <td>0.0</td>\n",
       "      <td>0.5</td>\n",
       "      <td>0.00</td>\n",
       "      <td>0.00</td>\n",
       "      <td>0.3</td>\n",
       "      <td>10.30</td>\n",
       "    </tr>\n",
       "    <tr>\n",
       "      <th>5</th>\n",
       "      <td>1</td>\n",
       "      <td>2015-06-02 11:19:33</td>\n",
       "      <td>2015-06-02 11:28:48</td>\n",
       "      <td>1</td>\n",
       "      <td>1.40</td>\n",
       "      <td>-73.944641</td>\n",
       "      <td>40.779465</td>\n",
       "      <td>1</td>\n",
       "      <td>N</td>\n",
       "      <td>-73.961365</td>\n",
       "      <td>40.771561</td>\n",
       "      <td>1</td>\n",
       "      <td>8.0</td>\n",
       "      <td>0.0</td>\n",
       "      <td>0.5</td>\n",
       "      <td>1.75</td>\n",
       "      <td>0.00</td>\n",
       "      <td>0.3</td>\n",
       "      <td>10.55</td>\n",
       "    </tr>\n",
       "    <tr>\n",
       "      <th>6</th>\n",
       "      <td>1</td>\n",
       "      <td>2015-06-02 11:19:34</td>\n",
       "      <td>2015-06-02 11:38:46</td>\n",
       "      <td>1</td>\n",
       "      <td>1.80</td>\n",
       "      <td>-73.992867</td>\n",
       "      <td>40.748211</td>\n",
       "      <td>1</td>\n",
       "      <td>N</td>\n",
       "      <td>-73.969772</td>\n",
       "      <td>40.748459</td>\n",
       "      <td>1</td>\n",
       "      <td>12.5</td>\n",
       "      <td>0.0</td>\n",
       "      <td>0.5</td>\n",
       "      <td>3.00</td>\n",
       "      <td>0.00</td>\n",
       "      <td>0.3</td>\n",
       "      <td>16.30</td>\n",
       "    </tr>\n",
       "    <tr>\n",
       "      <th>7</th>\n",
       "      <td>1</td>\n",
       "      <td>2015-06-02 11:19:35</td>\n",
       "      <td>2015-06-02 12:36:46</td>\n",
       "      <td>4</td>\n",
       "      <td>11.90</td>\n",
       "      <td>-73.863075</td>\n",
       "      <td>40.769253</td>\n",
       "      <td>1</td>\n",
       "      <td>N</td>\n",
       "      <td>-73.986710</td>\n",
       "      <td>40.761307</td>\n",
       "      <td>1</td>\n",
       "      <td>52.5</td>\n",
       "      <td>0.0</td>\n",
       "      <td>0.5</td>\n",
       "      <td>15.00</td>\n",
       "      <td>5.54</td>\n",
       "      <td>0.3</td>\n",
       "      <td>73.84</td>\n",
       "    </tr>\n",
       "    <tr>\n",
       "      <th>8</th>\n",
       "      <td>2</td>\n",
       "      <td>2015-06-02 11:19:36</td>\n",
       "      <td>2015-06-02 11:45:19</td>\n",
       "      <td>1</td>\n",
       "      <td>1.27</td>\n",
       "      <td>-73.991432</td>\n",
       "      <td>40.749306</td>\n",
       "      <td>1</td>\n",
       "      <td>N</td>\n",
       "      <td>-73.985062</td>\n",
       "      <td>40.759525</td>\n",
       "      <td>2</td>\n",
       "      <td>15.0</td>\n",
       "      <td>0.0</td>\n",
       "      <td>0.5</td>\n",
       "      <td>0.00</td>\n",
       "      <td>0.00</td>\n",
       "      <td>0.3</td>\n",
       "      <td>15.80</td>\n",
       "    </tr>\n",
       "    <tr>\n",
       "      <th>9</th>\n",
       "      <td>1</td>\n",
       "      <td>2015-06-02 11:19:38</td>\n",
       "      <td>2015-06-02 11:23:50</td>\n",
       "      <td>1</td>\n",
       "      <td>0.60</td>\n",
       "      <td>-73.970734</td>\n",
       "      <td>40.796207</td>\n",
       "      <td>1</td>\n",
       "      <td>N</td>\n",
       "      <td>-73.977470</td>\n",
       "      <td>40.789509</td>\n",
       "      <td>1</td>\n",
       "      <td>5.0</td>\n",
       "      <td>0.0</td>\n",
       "      <td>0.5</td>\n",
       "      <td>0.50</td>\n",
       "      <td>0.00</td>\n",
       "      <td>0.3</td>\n",
       "      <td>6.30</td>\n",
       "    </tr>\n",
       "  </tbody>\n",
       "</table>\n",
       "</div>"
      ],
      "text/plain": [
       "   VendorID tpep_pickup_datetime tpep_dropoff_datetime  passenger_count  \\\n",
       "0         2  2015-06-02 11:19:29   2015-06-02 11:47:52                1   \n",
       "1         2  2015-06-02 11:19:30   2015-06-02 11:27:56                1   \n",
       "2         2  2015-06-02 11:19:31   2015-06-02 11:30:30                1   \n",
       "3         2  2015-06-02 11:19:31   2015-06-02 11:39:02                1   \n",
       "4         1  2015-06-02 11:19:32   2015-06-02 11:32:49                1   \n",
       "5         1  2015-06-02 11:19:33   2015-06-02 11:28:48                1   \n",
       "6         1  2015-06-02 11:19:34   2015-06-02 11:38:46                1   \n",
       "7         1  2015-06-02 11:19:35   2015-06-02 12:36:46                4   \n",
       "8         2  2015-06-02 11:19:36   2015-06-02 11:45:19                1   \n",
       "9         1  2015-06-02 11:19:38   2015-06-02 11:23:50                1   \n",
       "\n",
       "   trip_distance  pickup_longitude  pickup_latitude  RateCodeID  \\\n",
       "0           1.63        -73.954430        40.764141           1   \n",
       "1           0.46        -73.971443        40.758942           1   \n",
       "2           0.87        -73.978111        40.738434           1   \n",
       "3           2.13        -73.945892        40.773529           1   \n",
       "4           1.40        -73.979088        40.776772           1   \n",
       "5           1.40        -73.944641        40.779465           1   \n",
       "6           1.80        -73.992867        40.748211           1   \n",
       "7          11.90        -73.863075        40.769253           1   \n",
       "8           1.27        -73.991432        40.749306           1   \n",
       "9           0.60        -73.970734        40.796207           1   \n",
       "\n",
       "  store_and_fwd_flag  dropoff_longitude  dropoff_latitude  payment_type  \\\n",
       "0                  N         -73.974754         40.754093             2   \n",
       "1                  N         -73.978539         40.761909             1   \n",
       "2                  N         -73.990273         40.745438             1   \n",
       "3                  N         -73.971527         40.760330             1   \n",
       "4                  N         -73.982162         40.758999             2   \n",
       "5                  N         -73.961365         40.771561             1   \n",
       "6                  N         -73.969772         40.748459             1   \n",
       "7                  N         -73.986710         40.761307             1   \n",
       "8                  N         -73.985062         40.759525             2   \n",
       "9                  N         -73.977470         40.789509             1   \n",
       "\n",
       "   fare_amount  extra  mta_tax  tip_amount  tolls_amount  \\\n",
       "0         17.0    0.0      0.5        0.00          0.00   \n",
       "1          6.5    0.0      0.5        1.00          0.00   \n",
       "2          8.0    0.0      0.5        2.20          0.00   \n",
       "3         13.5    0.0      0.5        2.86          0.00   \n",
       "4          9.5    0.0      0.5        0.00          0.00   \n",
       "5          8.0    0.0      0.5        1.75          0.00   \n",
       "6         12.5    0.0      0.5        3.00          0.00   \n",
       "7         52.5    0.0      0.5       15.00          5.54   \n",
       "8         15.0    0.0      0.5        0.00          0.00   \n",
       "9          5.0    0.0      0.5        0.50          0.00   \n",
       "\n",
       "   improvement_surcharge  total_amount  \n",
       "0                    0.3         17.80  \n",
       "1                    0.3          8.30  \n",
       "2                    0.3         11.00  \n",
       "3                    0.3         17.16  \n",
       "4                    0.3         10.30  \n",
       "5                    0.3         10.55  \n",
       "6                    0.3         16.30  \n",
       "7                    0.3         73.84  \n",
       "8                    0.3         15.80  \n",
       "9                    0.3          6.30  "
      ]
     },
     "execution_count": 5,
     "metadata": {},
     "output_type": "execute_result"
    }
   ],
   "source": [
    "df.head(10)"
   ]
  },
  {
   "cell_type": "code",
   "execution_count": 6,
   "id": "5b4cd16f",
   "metadata": {},
   "outputs": [
    {
     "data": {
      "text/plain": [
       "VendorID                                   2\n",
       "tpep_pickup_datetime     2015-06-02 11:19:31\n",
       "tpep_dropoff_datetime    2015-06-02 11:30:30\n",
       "passenger_count                            1\n",
       "trip_distance                           0.87\n",
       "pickup_longitude                  -73.978111\n",
       "pickup_latitude                    40.738434\n",
       "RateCodeID                                 1\n",
       "store_and_fwd_flag                         N\n",
       "dropoff_longitude                 -73.990273\n",
       "dropoff_latitude                   40.745438\n",
       "payment_type                               1\n",
       "fare_amount                              8.0\n",
       "extra                                    0.0\n",
       "mta_tax                                  0.5\n",
       "tip_amount                               2.2\n",
       "tolls_amount                             0.0\n",
       "improvement_surcharge                    0.3\n",
       "total_amount                            11.0\n",
       "Name: 2, dtype: object"
      ]
     },
     "execution_count": 6,
     "metadata": {},
     "output_type": "execute_result"
    }
   ],
   "source": [
    "# .loc -- with the index\n",
    "\n",
    "df.loc[2]"
   ]
  },
  {
   "cell_type": "code",
   "execution_count": 7,
   "id": "a04ca008",
   "metadata": {},
   "outputs": [
    {
     "data": {
      "text/html": [
       "<div>\n",
       "<style scoped>\n",
       "    .dataframe tbody tr th:only-of-type {\n",
       "        vertical-align: middle;\n",
       "    }\n",
       "\n",
       "    .dataframe tbody tr th {\n",
       "        vertical-align: top;\n",
       "    }\n",
       "\n",
       "    .dataframe thead th {\n",
       "        text-align: right;\n",
       "    }\n",
       "</style>\n",
       "<table border=\"1\" class=\"dataframe\">\n",
       "  <thead>\n",
       "    <tr style=\"text-align: right;\">\n",
       "      <th></th>\n",
       "      <th>VendorID</th>\n",
       "      <th>tpep_pickup_datetime</th>\n",
       "      <th>tpep_dropoff_datetime</th>\n",
       "      <th>passenger_count</th>\n",
       "      <th>trip_distance</th>\n",
       "      <th>pickup_longitude</th>\n",
       "      <th>pickup_latitude</th>\n",
       "      <th>RateCodeID</th>\n",
       "      <th>store_and_fwd_flag</th>\n",
       "      <th>dropoff_longitude</th>\n",
       "      <th>dropoff_latitude</th>\n",
       "      <th>payment_type</th>\n",
       "      <th>fare_amount</th>\n",
       "      <th>extra</th>\n",
       "      <th>mta_tax</th>\n",
       "      <th>tip_amount</th>\n",
       "      <th>tolls_amount</th>\n",
       "      <th>improvement_surcharge</th>\n",
       "      <th>total_amount</th>\n",
       "    </tr>\n",
       "  </thead>\n",
       "  <tbody>\n",
       "    <tr>\n",
       "      <th>2</th>\n",
       "      <td>2</td>\n",
       "      <td>2015-06-02 11:19:31</td>\n",
       "      <td>2015-06-02 11:30:30</td>\n",
       "      <td>1</td>\n",
       "      <td>0.87</td>\n",
       "      <td>-73.978111</td>\n",
       "      <td>40.738434</td>\n",
       "      <td>1</td>\n",
       "      <td>N</td>\n",
       "      <td>-73.990273</td>\n",
       "      <td>40.745438</td>\n",
       "      <td>1</td>\n",
       "      <td>8.0</td>\n",
       "      <td>0.0</td>\n",
       "      <td>0.5</td>\n",
       "      <td>2.2</td>\n",
       "      <td>0.0</td>\n",
       "      <td>0.3</td>\n",
       "      <td>11.0</td>\n",
       "    </tr>\n",
       "    <tr>\n",
       "      <th>4</th>\n",
       "      <td>1</td>\n",
       "      <td>2015-06-02 11:19:32</td>\n",
       "      <td>2015-06-02 11:32:49</td>\n",
       "      <td>1</td>\n",
       "      <td>1.40</td>\n",
       "      <td>-73.979088</td>\n",
       "      <td>40.776772</td>\n",
       "      <td>1</td>\n",
       "      <td>N</td>\n",
       "      <td>-73.982162</td>\n",
       "      <td>40.758999</td>\n",
       "      <td>2</td>\n",
       "      <td>9.5</td>\n",
       "      <td>0.0</td>\n",
       "      <td>0.5</td>\n",
       "      <td>0.0</td>\n",
       "      <td>0.0</td>\n",
       "      <td>0.3</td>\n",
       "      <td>10.3</td>\n",
       "    </tr>\n",
       "  </tbody>\n",
       "</table>\n",
       "</div>"
      ],
      "text/plain": [
       "   VendorID tpep_pickup_datetime tpep_dropoff_datetime  passenger_count  \\\n",
       "2         2  2015-06-02 11:19:31   2015-06-02 11:30:30                1   \n",
       "4         1  2015-06-02 11:19:32   2015-06-02 11:32:49                1   \n",
       "\n",
       "   trip_distance  pickup_longitude  pickup_latitude  RateCodeID  \\\n",
       "2           0.87        -73.978111        40.738434           1   \n",
       "4           1.40        -73.979088        40.776772           1   \n",
       "\n",
       "  store_and_fwd_flag  dropoff_longitude  dropoff_latitude  payment_type  \\\n",
       "2                  N         -73.990273         40.745438             1   \n",
       "4                  N         -73.982162         40.758999             2   \n",
       "\n",
       "   fare_amount  extra  mta_tax  tip_amount  tolls_amount  \\\n",
       "2          8.0    0.0      0.5         2.2           0.0   \n",
       "4          9.5    0.0      0.5         0.0           0.0   \n",
       "\n",
       "   improvement_surcharge  total_amount  \n",
       "2                    0.3          11.0  \n",
       "4                    0.3          10.3  "
      ]
     },
     "execution_count": 7,
     "metadata": {},
     "output_type": "execute_result"
    }
   ],
   "source": [
    "# .loc -- with fancy indexing\n",
    "\n",
    "df.loc[ [2, 4]] "
   ]
  },
  {
   "cell_type": "code",
   "execution_count": 8,
   "id": "6f1a6280",
   "metadata": {},
   "outputs": [
    {
     "data": {
      "text/html": [
       "<div>\n",
       "<style scoped>\n",
       "    .dataframe tbody tr th:only-of-type {\n",
       "        vertical-align: middle;\n",
       "    }\n",
       "\n",
       "    .dataframe tbody tr th {\n",
       "        vertical-align: top;\n",
       "    }\n",
       "\n",
       "    .dataframe thead th {\n",
       "        text-align: right;\n",
       "    }\n",
       "</style>\n",
       "<table border=\"1\" class=\"dataframe\">\n",
       "  <thead>\n",
       "    <tr style=\"text-align: right;\">\n",
       "      <th></th>\n",
       "      <th>passenger_count</th>\n",
       "      <th>trip_distance</th>\n",
       "      <th>total_amount</th>\n",
       "    </tr>\n",
       "  </thead>\n",
       "  <tbody>\n",
       "    <tr>\n",
       "      <th>2</th>\n",
       "      <td>1</td>\n",
       "      <td>0.87</td>\n",
       "      <td>11.0</td>\n",
       "    </tr>\n",
       "    <tr>\n",
       "      <th>4</th>\n",
       "      <td>1</td>\n",
       "      <td>1.40</td>\n",
       "      <td>10.3</td>\n",
       "    </tr>\n",
       "  </tbody>\n",
       "</table>\n",
       "</div>"
      ],
      "text/plain": [
       "   passenger_count  trip_distance  total_amount\n",
       "2                1           0.87          11.0\n",
       "4                1           1.40          10.3"
      ]
     },
     "execution_count": 8,
     "metadata": {},
     "output_type": "execute_result"
    }
   ],
   "source": [
    "# .loc -- (a) row selector, (b) column selector\n",
    "\n",
    "df.loc[  \n",
    "        [2, 4] ,   # these rows\n",
    "        ['passenger_count', 'trip_distance', 'total_amount']   # these columns\n",
    "]\n"
   ]
  },
  {
   "cell_type": "code",
   "execution_count": 9,
   "id": "bc9ce55b",
   "metadata": {},
   "outputs": [
    {
     "data": {
      "text/html": [
       "<div>\n",
       "<style scoped>\n",
       "    .dataframe tbody tr th:only-of-type {\n",
       "        vertical-align: middle;\n",
       "    }\n",
       "\n",
       "    .dataframe tbody tr th {\n",
       "        vertical-align: top;\n",
       "    }\n",
       "\n",
       "    .dataframe thead th {\n",
       "        text-align: right;\n",
       "    }\n",
       "</style>\n",
       "<table border=\"1\" class=\"dataframe\">\n",
       "  <thead>\n",
       "    <tr style=\"text-align: right;\">\n",
       "      <th></th>\n",
       "      <th>VendorID</th>\n",
       "      <th>tpep_pickup_datetime</th>\n",
       "      <th>tpep_dropoff_datetime</th>\n",
       "      <th>passenger_count</th>\n",
       "      <th>trip_distance</th>\n",
       "      <th>pickup_longitude</th>\n",
       "      <th>pickup_latitude</th>\n",
       "      <th>RateCodeID</th>\n",
       "      <th>store_and_fwd_flag</th>\n",
       "      <th>dropoff_longitude</th>\n",
       "      <th>dropoff_latitude</th>\n",
       "      <th>payment_type</th>\n",
       "      <th>fare_amount</th>\n",
       "      <th>extra</th>\n",
       "      <th>mta_tax</th>\n",
       "      <th>tip_amount</th>\n",
       "      <th>tolls_amount</th>\n",
       "      <th>improvement_surcharge</th>\n",
       "      <th>total_amount</th>\n",
       "    </tr>\n",
       "  </thead>\n",
       "  <tbody>\n",
       "    <tr>\n",
       "      <th>7</th>\n",
       "      <td>1</td>\n",
       "      <td>2015-06-02 11:19:35</td>\n",
       "      <td>2015-06-02 12:36:46</td>\n",
       "      <td>4</td>\n",
       "      <td>11.90</td>\n",
       "      <td>-73.863075</td>\n",
       "      <td>40.769253</td>\n",
       "      <td>1</td>\n",
       "      <td>N</td>\n",
       "      <td>-73.986710</td>\n",
       "      <td>40.761307</td>\n",
       "      <td>1</td>\n",
       "      <td>52.5</td>\n",
       "      <td>0.0</td>\n",
       "      <td>0.5</td>\n",
       "      <td>15.00</td>\n",
       "      <td>5.54</td>\n",
       "      <td>0.3</td>\n",
       "      <td>73.84</td>\n",
       "    </tr>\n",
       "    <tr>\n",
       "      <th>107</th>\n",
       "      <td>2</td>\n",
       "      <td>2015-06-02 11:20:50</td>\n",
       "      <td>2015-06-02 11:33:48</td>\n",
       "      <td>4</td>\n",
       "      <td>1.48</td>\n",
       "      <td>-73.965858</td>\n",
       "      <td>40.758888</td>\n",
       "      <td>1</td>\n",
       "      <td>N</td>\n",
       "      <td>-73.965858</td>\n",
       "      <td>40.758888</td>\n",
       "      <td>1</td>\n",
       "      <td>10.0</td>\n",
       "      <td>0.0</td>\n",
       "      <td>0.5</td>\n",
       "      <td>2.16</td>\n",
       "      <td>0.00</td>\n",
       "      <td>0.3</td>\n",
       "      <td>12.96</td>\n",
       "    </tr>\n",
       "    <tr>\n",
       "      <th>128</th>\n",
       "      <td>2</td>\n",
       "      <td>2015-06-02 11:21:07</td>\n",
       "      <td>2015-06-02 11:44:10</td>\n",
       "      <td>4</td>\n",
       "      <td>3.46</td>\n",
       "      <td>-73.981262</td>\n",
       "      <td>40.749622</td>\n",
       "      <td>1</td>\n",
       "      <td>N</td>\n",
       "      <td>-74.010216</td>\n",
       "      <td>40.720074</td>\n",
       "      <td>1</td>\n",
       "      <td>16.0</td>\n",
       "      <td>0.0</td>\n",
       "      <td>0.5</td>\n",
       "      <td>3.36</td>\n",
       "      <td>0.00</td>\n",
       "      <td>0.3</td>\n",
       "      <td>20.16</td>\n",
       "    </tr>\n",
       "    <tr>\n",
       "      <th>130</th>\n",
       "      <td>2</td>\n",
       "      <td>2015-06-02 11:21:09</td>\n",
       "      <td>2015-06-02 11:24:48</td>\n",
       "      <td>4</td>\n",
       "      <td>0.63</td>\n",
       "      <td>-73.962616</td>\n",
       "      <td>40.772381</td>\n",
       "      <td>1</td>\n",
       "      <td>N</td>\n",
       "      <td>-73.957092</td>\n",
       "      <td>40.780083</td>\n",
       "      <td>2</td>\n",
       "      <td>4.5</td>\n",
       "      <td>0.0</td>\n",
       "      <td>0.5</td>\n",
       "      <td>0.00</td>\n",
       "      <td>0.00</td>\n",
       "      <td>0.3</td>\n",
       "      <td>5.30</td>\n",
       "    </tr>\n",
       "    <tr>\n",
       "      <th>135</th>\n",
       "      <td>1</td>\n",
       "      <td>2015-06-02 11:21:13</td>\n",
       "      <td>2015-06-02 11:42:13</td>\n",
       "      <td>4</td>\n",
       "      <td>6.20</td>\n",
       "      <td>-73.989975</td>\n",
       "      <td>40.750702</td>\n",
       "      <td>1</td>\n",
       "      <td>N</td>\n",
       "      <td>-74.014153</td>\n",
       "      <td>40.712116</td>\n",
       "      <td>2</td>\n",
       "      <td>22.5</td>\n",
       "      <td>0.0</td>\n",
       "      <td>0.5</td>\n",
       "      <td>0.00</td>\n",
       "      <td>0.00</td>\n",
       "      <td>0.3</td>\n",
       "      <td>23.30</td>\n",
       "    </tr>\n",
       "    <tr>\n",
       "      <th>...</th>\n",
       "      <td>...</td>\n",
       "      <td>...</td>\n",
       "      <td>...</td>\n",
       "      <td>...</td>\n",
       "      <td>...</td>\n",
       "      <td>...</td>\n",
       "      <td>...</td>\n",
       "      <td>...</td>\n",
       "      <td>...</td>\n",
       "      <td>...</td>\n",
       "      <td>...</td>\n",
       "      <td>...</td>\n",
       "      <td>...</td>\n",
       "      <td>...</td>\n",
       "      <td>...</td>\n",
       "      <td>...</td>\n",
       "      <td>...</td>\n",
       "      <td>...</td>\n",
       "      <td>...</td>\n",
       "    </tr>\n",
       "    <tr>\n",
       "      <th>9565</th>\n",
       "      <td>2</td>\n",
       "      <td>2015-06-01 00:10:46</td>\n",
       "      <td>2015-06-01 00:17:33</td>\n",
       "      <td>4</td>\n",
       "      <td>1.38</td>\n",
       "      <td>-73.986282</td>\n",
       "      <td>40.755833</td>\n",
       "      <td>1</td>\n",
       "      <td>N</td>\n",
       "      <td>-73.985001</td>\n",
       "      <td>40.768688</td>\n",
       "      <td>2</td>\n",
       "      <td>7.0</td>\n",
       "      <td>0.5</td>\n",
       "      <td>0.5</td>\n",
       "      <td>0.00</td>\n",
       "      <td>0.00</td>\n",
       "      <td>0.3</td>\n",
       "      <td>8.30</td>\n",
       "    </tr>\n",
       "    <tr>\n",
       "      <th>9642</th>\n",
       "      <td>1</td>\n",
       "      <td>2015-06-01 00:11:41</td>\n",
       "      <td>2015-06-01 00:36:27</td>\n",
       "      <td>4</td>\n",
       "      <td>6.70</td>\n",
       "      <td>-73.984970</td>\n",
       "      <td>40.736481</td>\n",
       "      <td>1</td>\n",
       "      <td>N</td>\n",
       "      <td>-73.947731</td>\n",
       "      <td>40.657990</td>\n",
       "      <td>1</td>\n",
       "      <td>23.5</td>\n",
       "      <td>0.5</td>\n",
       "      <td>0.5</td>\n",
       "      <td>4.95</td>\n",
       "      <td>0.00</td>\n",
       "      <td>0.3</td>\n",
       "      <td>29.75</td>\n",
       "    </tr>\n",
       "    <tr>\n",
       "      <th>9661</th>\n",
       "      <td>1</td>\n",
       "      <td>2015-06-01 00:11:17</td>\n",
       "      <td>2015-06-01 00:28:52</td>\n",
       "      <td>4</td>\n",
       "      <td>4.50</td>\n",
       "      <td>-73.955803</td>\n",
       "      <td>40.714054</td>\n",
       "      <td>1</td>\n",
       "      <td>N</td>\n",
       "      <td>-73.953705</td>\n",
       "      <td>40.670975</td>\n",
       "      <td>1</td>\n",
       "      <td>16.5</td>\n",
       "      <td>0.5</td>\n",
       "      <td>0.5</td>\n",
       "      <td>3.56</td>\n",
       "      <td>0.00</td>\n",
       "      <td>0.3</td>\n",
       "      <td>21.36</td>\n",
       "    </tr>\n",
       "    <tr>\n",
       "      <th>9744</th>\n",
       "      <td>1</td>\n",
       "      <td>2015-06-01 00:12:19</td>\n",
       "      <td>2015-06-01 00:19:43</td>\n",
       "      <td>4</td>\n",
       "      <td>1.50</td>\n",
       "      <td>-73.986771</td>\n",
       "      <td>40.721313</td>\n",
       "      <td>1</td>\n",
       "      <td>N</td>\n",
       "      <td>-73.983368</td>\n",
       "      <td>40.738445</td>\n",
       "      <td>2</td>\n",
       "      <td>7.5</td>\n",
       "      <td>0.5</td>\n",
       "      <td>0.5</td>\n",
       "      <td>0.00</td>\n",
       "      <td>0.00</td>\n",
       "      <td>0.3</td>\n",
       "      <td>8.80</td>\n",
       "    </tr>\n",
       "    <tr>\n",
       "      <th>9794</th>\n",
       "      <td>2</td>\n",
       "      <td>2015-06-01 00:12:39</td>\n",
       "      <td>2015-06-01 00:39:03</td>\n",
       "      <td>4</td>\n",
       "      <td>17.34</td>\n",
       "      <td>-73.788551</td>\n",
       "      <td>40.642056</td>\n",
       "      <td>2</td>\n",
       "      <td>N</td>\n",
       "      <td>-73.982697</td>\n",
       "      <td>40.745148</td>\n",
       "      <td>1</td>\n",
       "      <td>52.0</td>\n",
       "      <td>0.0</td>\n",
       "      <td>0.5</td>\n",
       "      <td>11.67</td>\n",
       "      <td>5.54</td>\n",
       "      <td>0.3</td>\n",
       "      <td>70.01</td>\n",
       "    </tr>\n",
       "  </tbody>\n",
       "</table>\n",
       "<p>182 rows × 19 columns</p>\n",
       "</div>"
      ],
      "text/plain": [
       "      VendorID tpep_pickup_datetime tpep_dropoff_datetime  passenger_count  \\\n",
       "7            1  2015-06-02 11:19:35   2015-06-02 12:36:46                4   \n",
       "107          2  2015-06-02 11:20:50   2015-06-02 11:33:48                4   \n",
       "128          2  2015-06-02 11:21:07   2015-06-02 11:44:10                4   \n",
       "130          2  2015-06-02 11:21:09   2015-06-02 11:24:48                4   \n",
       "135          1  2015-06-02 11:21:13   2015-06-02 11:42:13                4   \n",
       "...        ...                  ...                   ...              ...   \n",
       "9565         2  2015-06-01 00:10:46   2015-06-01 00:17:33                4   \n",
       "9642         1  2015-06-01 00:11:41   2015-06-01 00:36:27                4   \n",
       "9661         1  2015-06-01 00:11:17   2015-06-01 00:28:52                4   \n",
       "9744         1  2015-06-01 00:12:19   2015-06-01 00:19:43                4   \n",
       "9794         2  2015-06-01 00:12:39   2015-06-01 00:39:03                4   \n",
       "\n",
       "      trip_distance  pickup_longitude  pickup_latitude  RateCodeID  \\\n",
       "7             11.90        -73.863075        40.769253           1   \n",
       "107            1.48        -73.965858        40.758888           1   \n",
       "128            3.46        -73.981262        40.749622           1   \n",
       "130            0.63        -73.962616        40.772381           1   \n",
       "135            6.20        -73.989975        40.750702           1   \n",
       "...             ...               ...              ...         ...   \n",
       "9565           1.38        -73.986282        40.755833           1   \n",
       "9642           6.70        -73.984970        40.736481           1   \n",
       "9661           4.50        -73.955803        40.714054           1   \n",
       "9744           1.50        -73.986771        40.721313           1   \n",
       "9794          17.34        -73.788551        40.642056           2   \n",
       "\n",
       "     store_and_fwd_flag  dropoff_longitude  dropoff_latitude  payment_type  \\\n",
       "7                     N         -73.986710         40.761307             1   \n",
       "107                   N         -73.965858         40.758888             1   \n",
       "128                   N         -74.010216         40.720074             1   \n",
       "130                   N         -73.957092         40.780083             2   \n",
       "135                   N         -74.014153         40.712116             2   \n",
       "...                 ...                ...               ...           ...   \n",
       "9565                  N         -73.985001         40.768688             2   \n",
       "9642                  N         -73.947731         40.657990             1   \n",
       "9661                  N         -73.953705         40.670975             1   \n",
       "9744                  N         -73.983368         40.738445             2   \n",
       "9794                  N         -73.982697         40.745148             1   \n",
       "\n",
       "      fare_amount  extra  mta_tax  tip_amount  tolls_amount  \\\n",
       "7            52.5    0.0      0.5       15.00          5.54   \n",
       "107          10.0    0.0      0.5        2.16          0.00   \n",
       "128          16.0    0.0      0.5        3.36          0.00   \n",
       "130           4.5    0.0      0.5        0.00          0.00   \n",
       "135          22.5    0.0      0.5        0.00          0.00   \n",
       "...           ...    ...      ...         ...           ...   \n",
       "9565          7.0    0.5      0.5        0.00          0.00   \n",
       "9642         23.5    0.5      0.5        4.95          0.00   \n",
       "9661         16.5    0.5      0.5        3.56          0.00   \n",
       "9744          7.5    0.5      0.5        0.00          0.00   \n",
       "9794         52.0    0.0      0.5       11.67          5.54   \n",
       "\n",
       "      improvement_surcharge  total_amount  \n",
       "7                       0.3         73.84  \n",
       "107                     0.3         12.96  \n",
       "128                     0.3         20.16  \n",
       "130                     0.3          5.30  \n",
       "135                     0.3         23.30  \n",
       "...                     ...           ...  \n",
       "9565                    0.3          8.30  \n",
       "9642                    0.3         29.75  \n",
       "9661                    0.3         21.36  \n",
       "9744                    0.3          8.80  \n",
       "9794                    0.3         70.01  \n",
       "\n",
       "[182 rows x 19 columns]"
      ]
     },
     "execution_count": 9,
     "metadata": {},
     "output_type": "execute_result"
    }
   ],
   "source": [
    "# .loc witih a boolean index for rows\n",
    "\n",
    "df.loc[\n",
    "    df['passenger_count'] == 4     # use as a boolean index\n",
    "]"
   ]
  },
  {
   "cell_type": "code",
   "execution_count": 10,
   "id": "fa9835ee",
   "metadata": {},
   "outputs": [
    {
     "data": {
      "text/html": [
       "<div>\n",
       "<style scoped>\n",
       "    .dataframe tbody tr th:only-of-type {\n",
       "        vertical-align: middle;\n",
       "    }\n",
       "\n",
       "    .dataframe tbody tr th {\n",
       "        vertical-align: top;\n",
       "    }\n",
       "\n",
       "    .dataframe thead th {\n",
       "        text-align: right;\n",
       "    }\n",
       "</style>\n",
       "<table border=\"1\" class=\"dataframe\">\n",
       "  <thead>\n",
       "    <tr style=\"text-align: right;\">\n",
       "      <th></th>\n",
       "      <th>trip_distance</th>\n",
       "      <th>total_amount</th>\n",
       "    </tr>\n",
       "  </thead>\n",
       "  <tbody>\n",
       "    <tr>\n",
       "      <th>7</th>\n",
       "      <td>11.90</td>\n",
       "      <td>73.84</td>\n",
       "    </tr>\n",
       "    <tr>\n",
       "      <th>107</th>\n",
       "      <td>1.48</td>\n",
       "      <td>12.96</td>\n",
       "    </tr>\n",
       "    <tr>\n",
       "      <th>128</th>\n",
       "      <td>3.46</td>\n",
       "      <td>20.16</td>\n",
       "    </tr>\n",
       "    <tr>\n",
       "      <th>130</th>\n",
       "      <td>0.63</td>\n",
       "      <td>5.30</td>\n",
       "    </tr>\n",
       "    <tr>\n",
       "      <th>135</th>\n",
       "      <td>6.20</td>\n",
       "      <td>23.30</td>\n",
       "    </tr>\n",
       "    <tr>\n",
       "      <th>...</th>\n",
       "      <td>...</td>\n",
       "      <td>...</td>\n",
       "    </tr>\n",
       "    <tr>\n",
       "      <th>9565</th>\n",
       "      <td>1.38</td>\n",
       "      <td>8.30</td>\n",
       "    </tr>\n",
       "    <tr>\n",
       "      <th>9642</th>\n",
       "      <td>6.70</td>\n",
       "      <td>29.75</td>\n",
       "    </tr>\n",
       "    <tr>\n",
       "      <th>9661</th>\n",
       "      <td>4.50</td>\n",
       "      <td>21.36</td>\n",
       "    </tr>\n",
       "    <tr>\n",
       "      <th>9744</th>\n",
       "      <td>1.50</td>\n",
       "      <td>8.80</td>\n",
       "    </tr>\n",
       "    <tr>\n",
       "      <th>9794</th>\n",
       "      <td>17.34</td>\n",
       "      <td>70.01</td>\n",
       "    </tr>\n",
       "  </tbody>\n",
       "</table>\n",
       "<p>182 rows × 2 columns</p>\n",
       "</div>"
      ],
      "text/plain": [
       "      trip_distance  total_amount\n",
       "7             11.90         73.84\n",
       "107            1.48         12.96\n",
       "128            3.46         20.16\n",
       "130            0.63          5.30\n",
       "135            6.20         23.30\n",
       "...             ...           ...\n",
       "9565           1.38          8.30\n",
       "9642           6.70         29.75\n",
       "9661           4.50         21.36\n",
       "9744           1.50          8.80\n",
       "9794          17.34         70.01\n",
       "\n",
       "[182 rows x 2 columns]"
      ]
     },
     "execution_count": 10,
     "metadata": {},
     "output_type": "execute_result"
    }
   ],
   "source": [
    "df.loc[\n",
    "    df['passenger_count'] == 4     # use as a boolean index \n",
    "    ,\n",
    "    ['trip_distance', 'total_amount']\n",
    "]"
   ]
  },
  {
   "cell_type": "code",
   "execution_count": 11,
   "id": "d7f81105",
   "metadata": {},
   "outputs": [],
   "source": [
    "# fillna, dropna -- deal with NaN values"
   ]
  },
  {
   "cell_type": "code",
   "execution_count": 12,
   "id": "8082b3f3",
   "metadata": {},
   "outputs": [],
   "source": [
    "from pandas import Series, DataFrame"
   ]
  },
  {
   "cell_type": "code",
   "execution_count": 13,
   "id": "20e2f25b",
   "metadata": {},
   "outputs": [],
   "source": [
    "s = Series('this is a bunch of words for my course'.split())"
   ]
  },
  {
   "cell_type": "code",
   "execution_count": 14,
   "id": "1cd8cb08",
   "metadata": {},
   "outputs": [
    {
     "data": {
      "text/plain": [
       "0      this\n",
       "1        is\n",
       "2         a\n",
       "3     bunch\n",
       "4        of\n",
       "5     words\n",
       "6       for\n",
       "7        my\n",
       "8    course\n",
       "dtype: object"
      ]
     },
     "execution_count": 14,
     "metadata": {},
     "output_type": "execute_result"
    }
   ],
   "source": [
    "s"
   ]
  },
  {
   "cell_type": "code",
   "execution_count": 15,
   "id": "aa28a177",
   "metadata": {},
   "outputs": [
    {
     "ename": "AttributeError",
     "evalue": "'Series' object has no attribute 'len'",
     "output_type": "error",
     "traceback": [
      "\u001b[0;31m---------------------------------------------------------------------------\u001b[0m",
      "\u001b[0;31mAttributeError\u001b[0m                            Traceback (most recent call last)",
      "\u001b[0;32m/tmp/ipykernel_684037/4179030248.py\u001b[0m in \u001b[0;36m?\u001b[0;34m()\u001b[0m\n\u001b[1;32m      1\u001b[0m \u001b[0;31m# what is the length of each word?\u001b[0m\u001b[0;34m\u001b[0m\u001b[0;34m\u001b[0m\u001b[0m\n\u001b[1;32m      2\u001b[0m \u001b[0;34m\u001b[0m\u001b[0m\n\u001b[1;32m      3\u001b[0m \u001b[0;31m# .str accessor\u001b[0m\u001b[0;34m\u001b[0m\u001b[0;34m\u001b[0m\u001b[0m\n\u001b[1;32m      4\u001b[0m \u001b[0;34m\u001b[0m\u001b[0m\n\u001b[0;32m----> 5\u001b[0;31m \u001b[0ms\u001b[0m\u001b[0;34m.\u001b[0m\u001b[0mlen\u001b[0m\u001b[0;34m(\u001b[0m\u001b[0;34m)\u001b[0m\u001b[0;34m\u001b[0m\u001b[0;34m\u001b[0m\u001b[0m\n\u001b[0m",
      "\u001b[0;32m/usr/lib/python3/dist-packages/pandas/core/generic.py\u001b[0m in \u001b[0;36m?\u001b[0;34m(self, name)\u001b[0m\n\u001b[1;32m   6295\u001b[0m             \u001b[0;32mand\u001b[0m \u001b[0mname\u001b[0m \u001b[0;32mnot\u001b[0m \u001b[0;32min\u001b[0m \u001b[0mself\u001b[0m\u001b[0;34m.\u001b[0m\u001b[0m_accessors\u001b[0m\u001b[0;34m\u001b[0m\u001b[0;34m\u001b[0m\u001b[0m\n\u001b[1;32m   6296\u001b[0m             \u001b[0;32mand\u001b[0m \u001b[0mself\u001b[0m\u001b[0;34m.\u001b[0m\u001b[0m_info_axis\u001b[0m\u001b[0;34m.\u001b[0m\u001b[0m_can_hold_identifiers_and_holds_name\u001b[0m\u001b[0;34m(\u001b[0m\u001b[0mname\u001b[0m\u001b[0;34m)\u001b[0m\u001b[0;34m\u001b[0m\u001b[0;34m\u001b[0m\u001b[0m\n\u001b[1;32m   6297\u001b[0m         \u001b[0;34m)\u001b[0m\u001b[0;34m:\u001b[0m\u001b[0;34m\u001b[0m\u001b[0;34m\u001b[0m\u001b[0m\n\u001b[1;32m   6298\u001b[0m             \u001b[0;32mreturn\u001b[0m \u001b[0mself\u001b[0m\u001b[0;34m[\u001b[0m\u001b[0mname\u001b[0m\u001b[0;34m]\u001b[0m\u001b[0;34m\u001b[0m\u001b[0;34m\u001b[0m\u001b[0m\n\u001b[0;32m-> 6299\u001b[0;31m         \u001b[0;32mreturn\u001b[0m \u001b[0mobject\u001b[0m\u001b[0;34m.\u001b[0m\u001b[0m__getattribute__\u001b[0m\u001b[0;34m(\u001b[0m\u001b[0mself\u001b[0m\u001b[0;34m,\u001b[0m \u001b[0mname\u001b[0m\u001b[0;34m)\u001b[0m\u001b[0;34m\u001b[0m\u001b[0;34m\u001b[0m\u001b[0m\n\u001b[0m",
      "\u001b[0;31mAttributeError\u001b[0m: 'Series' object has no attribute 'len'"
     ]
    }
   ],
   "source": [
    "# what is the length of each word?\n",
    "\n",
    "# .str accessor\n",
    "\n",
    "s.len()"
   ]
  },
  {
   "cell_type": "code",
   "execution_count": 16,
   "id": "2ce9ffe8",
   "metadata": {},
   "outputs": [
    {
     "data": {
      "text/plain": [
       "0    4\n",
       "1    2\n",
       "2    1\n",
       "3    5\n",
       "4    2\n",
       "5    5\n",
       "6    3\n",
       "7    2\n",
       "8    6\n",
       "dtype: int64"
      ]
     },
     "execution_count": 16,
     "metadata": {},
     "output_type": "execute_result"
    }
   ],
   "source": [
    "s.str.len()   # run len() on every value"
   ]
  },
  {
   "cell_type": "markdown",
   "id": "a39a0008",
   "metadata": {},
   "source": [
    "# What methods do we have?\n",
    "\n",
    "- All Python string methods\n",
    "- Operators such as `[]` are implemented as methods\n",
    "- Other methods from other languages"
   ]
  },
  {
   "cell_type": "code",
   "execution_count": 19,
   "id": "ada4dcc6",
   "metadata": {},
   "outputs": [
    {
     "data": {
      "text/plain": [
       "0     True\n",
       "1    False\n",
       "2    False\n",
       "3     True\n",
       "4    False\n",
       "5     True\n",
       "6    False\n",
       "7    False\n",
       "8     True\n",
       "dtype: bool"
      ]
     },
     "execution_count": 19,
     "metadata": {},
     "output_type": "execute_result"
    }
   ],
   "source": [
    "# I want all of the words in s whose length is greater than the mean\n",
    "\n",
    "s.str.len() > s.str.len().mean()"
   ]
  },
  {
   "cell_type": "code",
   "execution_count": 20,
   "id": "94fe89a7",
   "metadata": {},
   "outputs": [
    {
     "data": {
      "text/plain": [
       "0      this\n",
       "3     bunch\n",
       "5     words\n",
       "8    course\n",
       "dtype: object"
      ]
     },
     "execution_count": 20,
     "metadata": {},
     "output_type": "execute_result"
    }
   ],
   "source": [
    "s.loc[   s.str.len() > s.str.len().mean()     ]"
   ]
  },
  {
   "cell_type": "code",
   "execution_count": 27,
   "id": "56262002",
   "metadata": {},
   "outputs": [
    {
     "data": {
      "text/plain": [
       "0    False\n",
       "1    False\n",
       "2     True\n",
       "3    False\n",
       "4    False\n",
       "5    False\n",
       "6    False\n",
       "7    False\n",
       "8    False\n",
       "dtype: bool"
      ]
     },
     "execution_count": 27,
     "metadata": {},
     "output_type": "execute_result"
    }
   ],
   "source": [
    "# .str.get -- instead of []\n",
    "# .str.contains -- instead of in\n",
    "\n",
    "s.str.get(0).str.contains('a')"
   ]
  },
  {
   "cell_type": "code",
   "execution_count": 28,
   "id": "43c767ec",
   "metadata": {},
   "outputs": [
    {
     "data": {
      "text/plain": [
       "0    False\n",
       "1     True\n",
       "2     True\n",
       "3    False\n",
       "4     True\n",
       "5    False\n",
       "6    False\n",
       "7    False\n",
       "8    False\n",
       "dtype: bool"
      ]
     },
     "execution_count": 28,
     "metadata": {},
     "output_type": "execute_result"
    }
   ],
   "source": [
    "# \n",
    "s.str.get(0).str.contains('[aeiou]', regex=True)"
   ]
  },
  {
   "cell_type": "code",
   "execution_count": 29,
   "id": "e2430cee",
   "metadata": {},
   "outputs": [
    {
     "data": {
      "text/plain": [
       "0         10\n",
       "1         20\n",
       "2         30\n",
       "3      hello\n",
       "4         40\n",
       "5         50\n",
       "6    goodbye\n",
       "dtype: object"
      ]
     },
     "execution_count": 29,
     "metadata": {},
     "output_type": "execute_result"
    }
   ],
   "source": [
    "s = Series('10 20 30 hello 40 50 goodbye'.split())\n",
    "s"
   ]
  },
  {
   "cell_type": "code",
   "execution_count": 30,
   "id": "6d9685b6",
   "metadata": {},
   "outputs": [
    {
     "ename": "ValueError",
     "evalue": "invalid literal for int() with base 10: 'hello'",
     "output_type": "error",
     "traceback": [
      "\u001b[0;31m---------------------------------------------------------------------------\u001b[0m",
      "\u001b[0;31mValueError\u001b[0m                                Traceback (most recent call last)",
      "Cell \u001b[0;32mIn[30], line 1\u001b[0m\n\u001b[0;32m----> 1\u001b[0m \u001b[43ms\u001b[49m\u001b[38;5;241;43m.\u001b[39;49m\u001b[43mastype\u001b[49m\u001b[43m(\u001b[49m\u001b[38;5;28;43mint\u001b[39;49m\u001b[43m)\u001b[49m\n",
      "File \u001b[0;32m/usr/lib/python3/dist-packages/pandas/core/generic.py:6643\u001b[0m, in \u001b[0;36mNDFrame.astype\u001b[0;34m(self, dtype, copy, errors)\u001b[0m\n\u001b[1;32m   6637\u001b[0m     results \u001b[38;5;241m=\u001b[39m [\n\u001b[1;32m   6638\u001b[0m         ser\u001b[38;5;241m.\u001b[39mastype(dtype, copy\u001b[38;5;241m=\u001b[39mcopy, errors\u001b[38;5;241m=\u001b[39merrors) \u001b[38;5;28;01mfor\u001b[39;00m _, ser \u001b[38;5;129;01min\u001b[39;00m \u001b[38;5;28mself\u001b[39m\u001b[38;5;241m.\u001b[39mitems()\n\u001b[1;32m   6639\u001b[0m     ]\n\u001b[1;32m   6641\u001b[0m \u001b[38;5;28;01melse\u001b[39;00m:\n\u001b[1;32m   6642\u001b[0m     \u001b[38;5;66;03m# else, only a single dtype is given\u001b[39;00m\n\u001b[0;32m-> 6643\u001b[0m     new_data \u001b[38;5;241m=\u001b[39m \u001b[38;5;28;43mself\u001b[39;49m\u001b[38;5;241;43m.\u001b[39;49m\u001b[43m_mgr\u001b[49m\u001b[38;5;241;43m.\u001b[39;49m\u001b[43mastype\u001b[49m\u001b[43m(\u001b[49m\u001b[43mdtype\u001b[49m\u001b[38;5;241;43m=\u001b[39;49m\u001b[43mdtype\u001b[49m\u001b[43m,\u001b[49m\u001b[43m \u001b[49m\u001b[43mcopy\u001b[49m\u001b[38;5;241;43m=\u001b[39;49m\u001b[43mcopy\u001b[49m\u001b[43m,\u001b[49m\u001b[43m \u001b[49m\u001b[43merrors\u001b[49m\u001b[38;5;241;43m=\u001b[39;49m\u001b[43merrors\u001b[49m\u001b[43m)\u001b[49m\n\u001b[1;32m   6644\u001b[0m     res \u001b[38;5;241m=\u001b[39m \u001b[38;5;28mself\u001b[39m\u001b[38;5;241m.\u001b[39m_constructor_from_mgr(new_data, axes\u001b[38;5;241m=\u001b[39mnew_data\u001b[38;5;241m.\u001b[39maxes)\n\u001b[1;32m   6645\u001b[0m     \u001b[38;5;28;01mreturn\u001b[39;00m res\u001b[38;5;241m.\u001b[39m__finalize__(\u001b[38;5;28mself\u001b[39m, method\u001b[38;5;241m=\u001b[39m\u001b[38;5;124m\"\u001b[39m\u001b[38;5;124mastype\u001b[39m\u001b[38;5;124m\"\u001b[39m)\n",
      "File \u001b[0;32m/usr/lib/python3/dist-packages/pandas/core/internals/managers.py:430\u001b[0m, in \u001b[0;36mBaseBlockManager.astype\u001b[0;34m(self, dtype, copy, errors)\u001b[0m\n\u001b[1;32m    427\u001b[0m \u001b[38;5;28;01melif\u001b[39;00m using_copy_on_write():\n\u001b[1;32m    428\u001b[0m     copy \u001b[38;5;241m=\u001b[39m \u001b[38;5;28;01mFalse\u001b[39;00m\n\u001b[0;32m--> 430\u001b[0m \u001b[38;5;28;01mreturn\u001b[39;00m \u001b[38;5;28;43mself\u001b[39;49m\u001b[38;5;241;43m.\u001b[39;49m\u001b[43mapply\u001b[49m\u001b[43m(\u001b[49m\n\u001b[1;32m    431\u001b[0m \u001b[43m    \u001b[49m\u001b[38;5;124;43m\"\u001b[39;49m\u001b[38;5;124;43mastype\u001b[39;49m\u001b[38;5;124;43m\"\u001b[39;49m\u001b[43m,\u001b[49m\n\u001b[1;32m    432\u001b[0m \u001b[43m    \u001b[49m\u001b[43mdtype\u001b[49m\u001b[38;5;241;43m=\u001b[39;49m\u001b[43mdtype\u001b[49m\u001b[43m,\u001b[49m\n\u001b[1;32m    433\u001b[0m \u001b[43m    \u001b[49m\u001b[43mcopy\u001b[49m\u001b[38;5;241;43m=\u001b[39;49m\u001b[43mcopy\u001b[49m\u001b[43m,\u001b[49m\n\u001b[1;32m    434\u001b[0m \u001b[43m    \u001b[49m\u001b[43merrors\u001b[49m\u001b[38;5;241;43m=\u001b[39;49m\u001b[43merrors\u001b[49m\u001b[43m,\u001b[49m\n\u001b[1;32m    435\u001b[0m \u001b[43m    \u001b[49m\u001b[43musing_cow\u001b[49m\u001b[38;5;241;43m=\u001b[39;49m\u001b[43musing_copy_on_write\u001b[49m\u001b[43m(\u001b[49m\u001b[43m)\u001b[49m\u001b[43m,\u001b[49m\n\u001b[1;32m    436\u001b[0m \u001b[43m\u001b[49m\u001b[43m)\u001b[49m\n",
      "File \u001b[0;32m/usr/lib/python3/dist-packages/pandas/core/internals/managers.py:363\u001b[0m, in \u001b[0;36mBaseBlockManager.apply\u001b[0;34m(self, f, align_keys, **kwargs)\u001b[0m\n\u001b[1;32m    361\u001b[0m         applied \u001b[38;5;241m=\u001b[39m b\u001b[38;5;241m.\u001b[39mapply(f, \u001b[38;5;241m*\u001b[39m\u001b[38;5;241m*\u001b[39mkwargs)\n\u001b[1;32m    362\u001b[0m     \u001b[38;5;28;01melse\u001b[39;00m:\n\u001b[0;32m--> 363\u001b[0m         applied \u001b[38;5;241m=\u001b[39m \u001b[38;5;28;43mgetattr\u001b[39;49m\u001b[43m(\u001b[49m\u001b[43mb\u001b[49m\u001b[43m,\u001b[49m\u001b[43m \u001b[49m\u001b[43mf\u001b[49m\u001b[43m)\u001b[49m\u001b[43m(\u001b[49m\u001b[38;5;241;43m*\u001b[39;49m\u001b[38;5;241;43m*\u001b[39;49m\u001b[43mkwargs\u001b[49m\u001b[43m)\u001b[49m\n\u001b[1;32m    364\u001b[0m     result_blocks \u001b[38;5;241m=\u001b[39m extend_blocks(applied, result_blocks)\n\u001b[1;32m    366\u001b[0m out \u001b[38;5;241m=\u001b[39m \u001b[38;5;28mtype\u001b[39m(\u001b[38;5;28mself\u001b[39m)\u001b[38;5;241m.\u001b[39mfrom_blocks(result_blocks, \u001b[38;5;28mself\u001b[39m\u001b[38;5;241m.\u001b[39maxes)\n",
      "File \u001b[0;32m/usr/lib/python3/dist-packages/pandas/core/internals/blocks.py:758\u001b[0m, in \u001b[0;36mBlock.astype\u001b[0;34m(self, dtype, copy, errors, using_cow, squeeze)\u001b[0m\n\u001b[1;32m    755\u001b[0m         \u001b[38;5;28;01mraise\u001b[39;00m \u001b[38;5;167;01mValueError\u001b[39;00m(\u001b[38;5;124m\"\u001b[39m\u001b[38;5;124mCan not squeeze with more than one column.\u001b[39m\u001b[38;5;124m\"\u001b[39m)\n\u001b[1;32m    756\u001b[0m     values \u001b[38;5;241m=\u001b[39m values[\u001b[38;5;241m0\u001b[39m, :]  \u001b[38;5;66;03m# type: ignore[call-overload]\u001b[39;00m\n\u001b[0;32m--> 758\u001b[0m new_values \u001b[38;5;241m=\u001b[39m \u001b[43mastype_array_safe\u001b[49m\u001b[43m(\u001b[49m\u001b[43mvalues\u001b[49m\u001b[43m,\u001b[49m\u001b[43m \u001b[49m\u001b[43mdtype\u001b[49m\u001b[43m,\u001b[49m\u001b[43m \u001b[49m\u001b[43mcopy\u001b[49m\u001b[38;5;241;43m=\u001b[39;49m\u001b[43mcopy\u001b[49m\u001b[43m,\u001b[49m\u001b[43m \u001b[49m\u001b[43merrors\u001b[49m\u001b[38;5;241;43m=\u001b[39;49m\u001b[43merrors\u001b[49m\u001b[43m)\u001b[49m\n\u001b[1;32m    760\u001b[0m new_values \u001b[38;5;241m=\u001b[39m maybe_coerce_values(new_values)\n\u001b[1;32m    762\u001b[0m refs \u001b[38;5;241m=\u001b[39m \u001b[38;5;28;01mNone\u001b[39;00m\n",
      "File \u001b[0;32m/usr/lib/python3/dist-packages/pandas/core/dtypes/astype.py:237\u001b[0m, in \u001b[0;36mastype_array_safe\u001b[0;34m(values, dtype, copy, errors)\u001b[0m\n\u001b[1;32m    234\u001b[0m     dtype \u001b[38;5;241m=\u001b[39m dtype\u001b[38;5;241m.\u001b[39mnumpy_dtype\n\u001b[1;32m    236\u001b[0m \u001b[38;5;28;01mtry\u001b[39;00m:\n\u001b[0;32m--> 237\u001b[0m     new_values \u001b[38;5;241m=\u001b[39m \u001b[43mastype_array\u001b[49m\u001b[43m(\u001b[49m\u001b[43mvalues\u001b[49m\u001b[43m,\u001b[49m\u001b[43m \u001b[49m\u001b[43mdtype\u001b[49m\u001b[43m,\u001b[49m\u001b[43m \u001b[49m\u001b[43mcopy\u001b[49m\u001b[38;5;241;43m=\u001b[39;49m\u001b[43mcopy\u001b[49m\u001b[43m)\u001b[49m\n\u001b[1;32m    238\u001b[0m \u001b[38;5;28;01mexcept\u001b[39;00m (\u001b[38;5;167;01mValueError\u001b[39;00m, \u001b[38;5;167;01mTypeError\u001b[39;00m):\n\u001b[1;32m    239\u001b[0m     \u001b[38;5;66;03m# e.g. _astype_nansafe can fail on object-dtype of strings\u001b[39;00m\n\u001b[1;32m    240\u001b[0m     \u001b[38;5;66;03m#  trying to convert to float\u001b[39;00m\n\u001b[1;32m    241\u001b[0m     \u001b[38;5;28;01mif\u001b[39;00m errors \u001b[38;5;241m==\u001b[39m \u001b[38;5;124m\"\u001b[39m\u001b[38;5;124mignore\u001b[39m\u001b[38;5;124m\"\u001b[39m:\n",
      "File \u001b[0;32m/usr/lib/python3/dist-packages/pandas/core/dtypes/astype.py:182\u001b[0m, in \u001b[0;36mastype_array\u001b[0;34m(values, dtype, copy)\u001b[0m\n\u001b[1;32m    179\u001b[0m     values \u001b[38;5;241m=\u001b[39m values\u001b[38;5;241m.\u001b[39mastype(dtype, copy\u001b[38;5;241m=\u001b[39mcopy)\n\u001b[1;32m    181\u001b[0m \u001b[38;5;28;01melse\u001b[39;00m:\n\u001b[0;32m--> 182\u001b[0m     values \u001b[38;5;241m=\u001b[39m \u001b[43m_astype_nansafe\u001b[49m\u001b[43m(\u001b[49m\u001b[43mvalues\u001b[49m\u001b[43m,\u001b[49m\u001b[43m \u001b[49m\u001b[43mdtype\u001b[49m\u001b[43m,\u001b[49m\u001b[43m \u001b[49m\u001b[43mcopy\u001b[49m\u001b[38;5;241;43m=\u001b[39;49m\u001b[43mcopy\u001b[49m\u001b[43m)\u001b[49m\n\u001b[1;32m    184\u001b[0m \u001b[38;5;66;03m# in pandas we don't store numpy str dtypes, so convert to object\u001b[39;00m\n\u001b[1;32m    185\u001b[0m \u001b[38;5;28;01mif\u001b[39;00m \u001b[38;5;28misinstance\u001b[39m(dtype, np\u001b[38;5;241m.\u001b[39mdtype) \u001b[38;5;129;01mand\u001b[39;00m \u001b[38;5;28missubclass\u001b[39m(values\u001b[38;5;241m.\u001b[39mdtype\u001b[38;5;241m.\u001b[39mtype, \u001b[38;5;28mstr\u001b[39m):\n",
      "File \u001b[0;32m/usr/lib/python3/dist-packages/pandas/core/dtypes/astype.py:133\u001b[0m, in \u001b[0;36m_astype_nansafe\u001b[0;34m(arr, dtype, copy, skipna)\u001b[0m\n\u001b[1;32m    129\u001b[0m     \u001b[38;5;28;01mraise\u001b[39;00m \u001b[38;5;167;01mValueError\u001b[39;00m(msg)\n\u001b[1;32m    131\u001b[0m \u001b[38;5;28;01mif\u001b[39;00m copy \u001b[38;5;129;01mor\u001b[39;00m arr\u001b[38;5;241m.\u001b[39mdtype \u001b[38;5;241m==\u001b[39m \u001b[38;5;28mobject\u001b[39m \u001b[38;5;129;01mor\u001b[39;00m dtype \u001b[38;5;241m==\u001b[39m \u001b[38;5;28mobject\u001b[39m:\n\u001b[1;32m    132\u001b[0m     \u001b[38;5;66;03m# Explicit copy, or required since NumPy can't view from / to object.\u001b[39;00m\n\u001b[0;32m--> 133\u001b[0m     \u001b[38;5;28;01mreturn\u001b[39;00m \u001b[43marr\u001b[49m\u001b[38;5;241;43m.\u001b[39;49m\u001b[43mastype\u001b[49m\u001b[43m(\u001b[49m\u001b[43mdtype\u001b[49m\u001b[43m,\u001b[49m\u001b[43m \u001b[49m\u001b[43mcopy\u001b[49m\u001b[38;5;241;43m=\u001b[39;49m\u001b[38;5;28;43;01mTrue\u001b[39;49;00m\u001b[43m)\u001b[49m\n\u001b[1;32m    135\u001b[0m \u001b[38;5;28;01mreturn\u001b[39;00m arr\u001b[38;5;241m.\u001b[39mastype(dtype, copy\u001b[38;5;241m=\u001b[39mcopy)\n",
      "\u001b[0;31mValueError\u001b[0m: invalid literal for int() with base 10: 'hello'"
     ]
    }
   ],
   "source": [
    "s.astype(int)"
   ]
  },
  {
   "cell_type": "code",
   "execution_count": 31,
   "id": "80f47fa8",
   "metadata": {},
   "outputs": [
    {
     "data": {
      "text/plain": [
       "0     True\n",
       "1     True\n",
       "2     True\n",
       "3    False\n",
       "4     True\n",
       "5     True\n",
       "6    False\n",
       "dtype: bool"
      ]
     },
     "execution_count": 31,
     "metadata": {},
     "output_type": "execute_result"
    }
   ],
   "source": [
    "# find all int'able strings\n",
    "# keep just them\n",
    "# convert to ints\n",
    "\n",
    "s.str.isdigit()"
   ]
  },
  {
   "cell_type": "code",
   "execution_count": 33,
   "id": "eede7fbd",
   "metadata": {},
   "outputs": [
    {
     "data": {
      "text/plain": [
       "0    10\n",
       "1    20\n",
       "2    30\n",
       "4    40\n",
       "5    50\n",
       "dtype: int64"
      ]
     },
     "execution_count": 33,
     "metadata": {},
     "output_type": "execute_result"
    }
   ],
   "source": [
    "s.loc[s.str.isdigit()].astype(int)"
   ]
  },
  {
   "cell_type": "code",
   "execution_count": 36,
   "id": "2e503bda",
   "metadata": {},
   "outputs": [
    {
     "data": {
      "text/plain": [
       "0    10\n",
       "1    20\n",
       "2    30\n",
       "4    40\n",
       "5    50\n",
       "dtype: int64"
      ]
     },
     "execution_count": 36,
     "metadata": {},
     "output_type": "execute_result"
    }
   ],
   "source": [
    "s.loc[s.str.isdigit()].astype(int)"
   ]
  },
  {
   "cell_type": "code",
   "execution_count": 38,
   "id": "be52c370",
   "metadata": {},
   "outputs": [
    {
     "data": {
      "text/plain": [
       "7"
      ]
     },
     "execution_count": 38,
     "metadata": {},
     "output_type": "execute_result"
    }
   ],
   "source": [
    "# how long is our series?\n",
    "len(s) #  -- how many are there?"
   ]
  },
  {
   "cell_type": "code",
   "execution_count": 40,
   "id": "a51779c0",
   "metadata": {},
   "outputs": [
    {
     "data": {
      "text/plain": [
       "7"
      ]
     },
     "execution_count": 40,
     "metadata": {},
     "output_type": "execute_result"
    }
   ],
   "source": [
    "s.count()   # how many non-NaN values are there?"
   ]
  },
  {
   "cell_type": "code",
   "execution_count": 41,
   "id": "b4f7bcf0",
   "metadata": {},
   "outputs": [
    {
     "data": {
      "text/plain": [
       "7"
      ]
     },
     "execution_count": 41,
     "metadata": {},
     "output_type": "execute_result"
    }
   ],
   "source": [
    "# fastest answer comes from\n",
    "\n",
    "len(s.index)"
   ]
  },
  {
   "cell_type": "code",
   "execution_count": 42,
   "id": "919ef1d6",
   "metadata": {},
   "outputs": [
    {
     "data": {
      "text/plain": [
       "0         10\n",
       "1         20\n",
       "2         30\n",
       "3      hello\n",
       "4         40\n",
       "5         50\n",
       "6    goodbye\n",
       "dtype: object"
      ]
     },
     "execution_count": 42,
     "metadata": {},
     "output_type": "execute_result"
    }
   ],
   "source": [
    "s"
   ]
  },
  {
   "cell_type": "code",
   "execution_count": 43,
   "id": "a04366a8",
   "metadata": {},
   "outputs": [
    {
     "data": {
      "text/plain": [
       "0    False\n",
       "1    False\n",
       "2    False\n",
       "3     True\n",
       "4    False\n",
       "5    False\n",
       "6     True\n",
       "dtype: bool"
      ]
     },
     "execution_count": 43,
     "metadata": {},
     "output_type": "execute_result"
    }
   ],
   "source": [
    "s.str.contains('e')"
   ]
  },
  {
   "cell_type": "markdown",
   "id": "0e10fb2c",
   "metadata": {},
   "source": [
    "# Exercise: Working with strings\n",
    "\n",
    "1. Ask the user to enter a string containing both integers and non-integers, with words between them.\n",
    "2. What is the mean length of the words that are not digits/numbers?\n",
    "3. What is the longest word from those that are not digits/numbers?\n",
    "4. What is the mean of the digits/numbers we entered?"
   ]
  },
  {
   "cell_type": "code",
   "execution_count": 44,
   "id": "512a86ce",
   "metadata": {},
   "outputs": [
    {
     "name": "stdout",
     "output_type": "stream",
     "text": [
      "Enter some numbers and words: this is a bunch of numbers 10 15 500 30 so there\n"
     ]
    }
   ],
   "source": [
    "text = input('Enter some numbers and words: ').strip()\n",
    "\n",
    "s = Series(text.split())\n"
   ]
  },
  {
   "cell_type": "code",
   "execution_count": 45,
   "id": "29003242",
   "metadata": {},
   "outputs": [
    {
     "data": {
      "text/plain": [
       "0        this\n",
       "1          is\n",
       "2           a\n",
       "3       bunch\n",
       "4          of\n",
       "5     numbers\n",
       "6          10\n",
       "7          15\n",
       "8         500\n",
       "9          30\n",
       "10         so\n",
       "11      there\n",
       "dtype: object"
      ]
     },
     "execution_count": 45,
     "metadata": {},
     "output_type": "execute_result"
    }
   ],
   "source": [
    "s"
   ]
  },
  {
   "cell_type": "code",
   "execution_count": 54,
   "id": "510e314a",
   "metadata": {},
   "outputs": [
    {
     "data": {
      "text/plain": [
       "3.5"
      ]
     },
     "execution_count": 54,
     "metadata": {},
     "output_type": "execute_result"
    }
   ],
   "source": [
    "# What is the mean length of the words that are not digits/numbers?\n",
    "\n",
    "(\n",
    "    s                        # start with series of words\n",
    "    .loc[~s.str.isdigit()]   # keep only non-digit words\n",
    "    .str.len()               # get length of each word\n",
    "    .mean()                  # calculate mean on the series of lengths\n",
    ")"
   ]
  },
  {
   "cell_type": "code",
   "execution_count": 57,
   "id": "c03f9757",
   "metadata": {},
   "outputs": [
    {
     "data": {
      "text/plain": [
       "5    numbers\n",
       "dtype: object"
      ]
     },
     "execution_count": 57,
     "metadata": {},
     "output_type": "execute_result"
    }
   ],
   "source": [
    "# What is the longest word from those that are not digits/numbers?\n",
    "\n",
    "max_word_length = (\n",
    "    s                        # start with series of words\n",
    "    .loc[~s.str.isdigit()]   # keep only non-digit words\n",
    "    .str.len()               # get length of each word\n",
    "    .max()                  # calculate mean on the series of lengths\n",
    ")\n",
    "\n",
    "s.loc[s.str.len() == max_word_length]"
   ]
  },
  {
   "cell_type": "code",
   "execution_count": 60,
   "id": "b9f6db46",
   "metadata": {},
   "outputs": [
    {
     "data": {
      "text/plain": [
       "count      4.000000\n",
       "mean     138.750000\n",
       "std      240.983229\n",
       "min       10.000000\n",
       "25%       13.750000\n",
       "50%       22.500000\n",
       "75%      147.500000\n",
       "max      500.000000\n",
       "dtype: float64"
      ]
     },
     "execution_count": 60,
     "metadata": {},
     "output_type": "execute_result"
    }
   ],
   "source": [
    "# What is the mean of the digits/numbers we entered?\n",
    "\n",
    "(\n",
    "    s                        # start with series of words\n",
    "    .loc[s.str.isdigit()]    # keep only digit words\n",
    "    .astype(int)             # get a series of ints\n",
    "    .describe()\n",
    ")"
   ]
  },
  {
   "cell_type": "code",
   "execution_count": 61,
   "id": "256cd575",
   "metadata": {},
   "outputs": [
    {
     "data": {
      "text/plain": [
       "0    10.0\n",
       "1    20.0\n",
       "2    30.0\n",
       "3     NaN\n",
       "4    50.0\n",
       "5    60.0\n",
       "dtype: float64"
      ]
     },
     "execution_count": 61,
     "metadata": {},
     "output_type": "execute_result"
    }
   ],
   "source": [
    "import numpy as np\n",
    "\n",
    "s = Series([10, 20, 30, np.nan, 50, 60])\n",
    "s"
   ]
  },
  {
   "cell_type": "code",
   "execution_count": 62,
   "id": "bd2df8f7",
   "metadata": {},
   "outputs": [
    {
     "data": {
      "text/plain": [
       "34.0"
      ]
     },
     "execution_count": 62,
     "metadata": {},
     "output_type": "execute_result"
    }
   ],
   "source": [
    "s.mean()"
   ]
  },
  {
   "cell_type": "code",
   "execution_count": 64,
   "id": "d632c97b",
   "metadata": {},
   "outputs": [
    {
     "data": {
      "text/plain": [
       "34.0"
      ]
     },
     "execution_count": 64,
     "metadata": {},
     "output_type": "execute_result"
    }
   ],
   "source": [
    "# s.count -- doesn't include NaN\n",
    "\n",
    "s.sum() / s.count()"
   ]
  },
  {
   "cell_type": "code",
   "execution_count": 65,
   "id": "3e9b6b7b",
   "metadata": {},
   "outputs": [
    {
     "data": {
      "text/plain": [
       "0      10.0\n",
       "1      20.0\n",
       "2      30.0\n",
       "3    9999.0\n",
       "4      50.0\n",
       "5      60.0\n",
       "dtype: float64"
      ]
     },
     "execution_count": 65,
     "metadata": {},
     "output_type": "execute_result"
    }
   ],
   "source": [
    "# get the mean, and use instead of NaN\n",
    "# fillna \n",
    "\n",
    "s.fillna(9999)"
   ]
  },
  {
   "cell_type": "code",
   "execution_count": 66,
   "id": "8d01dd37",
   "metadata": {},
   "outputs": [
    {
     "data": {
      "text/plain": [
       "0    10.0\n",
       "1    20.0\n",
       "2    30.0\n",
       "3    34.0\n",
       "4    50.0\n",
       "5    60.0\n",
       "dtype: float64"
      ]
     },
     "execution_count": 66,
     "metadata": {},
     "output_type": "execute_result"
    }
   ],
   "source": [
    "s.fillna(s.mean())    # replace the NaN values with the mean"
   ]
  },
  {
   "cell_type": "code",
   "execution_count": 67,
   "id": "6ba764e5",
   "metadata": {},
   "outputs": [
    {
     "data": {
      "text/plain": [
       "0     10.00\n",
       "1     20.00\n",
       "2     53.75\n",
       "3     40.00\n",
       "4     50.00\n",
       "5     60.00\n",
       "6     70.00\n",
       "7     80.00\n",
       "8     53.75\n",
       "9    100.00\n",
       "dtype: float64"
      ]
     },
     "execution_count": 67,
     "metadata": {},
     "output_type": "execute_result"
    }
   ],
   "source": [
    "s = Series([10, 20, np.nan, 40, 50, 60, 70, 80, np.nan, 100])\n",
    "s.fillna(s.mean())"
   ]
  },
  {
   "cell_type": "code",
   "execution_count": 68,
   "id": "2ae52692",
   "metadata": {},
   "outputs": [
    {
     "data": {
      "text/plain": [
       "0     10.0\n",
       "1     20.0\n",
       "2     30.0\n",
       "3     40.0\n",
       "4     50.0\n",
       "5     60.0\n",
       "6     70.0\n",
       "7     80.0\n",
       "8     90.0\n",
       "9    100.0\n",
       "dtype: float64"
      ]
     },
     "execution_count": 68,
     "metadata": {},
     "output_type": "execute_result"
    }
   ],
   "source": [
    "# interpolation\n",
    "# s.interpolate\n",
    "\n",
    "s.interpolate()"
   ]
  },
  {
   "cell_type": "code",
   "execution_count": 69,
   "id": "af802041",
   "metadata": {},
   "outputs": [
    {
     "data": {
      "text/plain": [
       "0     10.0\n",
       "1     20.0\n",
       "2      NaN\n",
       "3      NaN\n",
       "4     50.0\n",
       "5     60.0\n",
       "6     70.0\n",
       "7     80.0\n",
       "8      NaN\n",
       "9    100.0\n",
       "dtype: float64"
      ]
     },
     "execution_count": 69,
     "metadata": {},
     "output_type": "execute_result"
    }
   ],
   "source": [
    "s = Series([10, 20, np.nan, np.nan, 50, 60, 70, 80, np.nan, 100])\n",
    "s"
   ]
  },
  {
   "cell_type": "code",
   "execution_count": 70,
   "id": "377f0a00",
   "metadata": {},
   "outputs": [
    {
     "data": {
      "text/plain": [
       "0     10.0\n",
       "1     20.0\n",
       "2     30.0\n",
       "3     40.0\n",
       "4     50.0\n",
       "5     60.0\n",
       "6     70.0\n",
       "7     80.0\n",
       "8     90.0\n",
       "9    100.0\n",
       "dtype: float64"
      ]
     },
     "execution_count": 70,
     "metadata": {},
     "output_type": "execute_result"
    }
   ],
   "source": [
    "s.interpolate()"
   ]
  },
  {
   "cell_type": "code",
   "execution_count": 73,
   "id": "7821c25d",
   "metadata": {},
   "outputs": [
    {
     "data": {
      "text/html": [
       "<div>\n",
       "<style scoped>\n",
       "    .dataframe tbody tr th:only-of-type {\n",
       "        vertical-align: middle;\n",
       "    }\n",
       "\n",
       "    .dataframe tbody tr th {\n",
       "        vertical-align: top;\n",
       "    }\n",
       "\n",
       "    .dataframe thead th {\n",
       "        text-align: right;\n",
       "    }\n",
       "</style>\n",
       "<table border=\"1\" class=\"dataframe\">\n",
       "  <thead>\n",
       "    <tr style=\"text-align: right;\">\n",
       "      <th></th>\n",
       "      <th>v</th>\n",
       "      <th>w</th>\n",
       "      <th>x</th>\n",
       "      <th>y</th>\n",
       "      <th>z</th>\n",
       "    </tr>\n",
       "  </thead>\n",
       "  <tbody>\n",
       "    <tr>\n",
       "      <th>a</th>\n",
       "      <td>20</td>\n",
       "      <td>96</td>\n",
       "      <td>NaN</td>\n",
       "      <td>9.0</td>\n",
       "      <td>NaN</td>\n",
       "    </tr>\n",
       "    <tr>\n",
       "      <th>b</th>\n",
       "      <td>92</td>\n",
       "      <td>33</td>\n",
       "      <td>26.0</td>\n",
       "      <td>NaN</td>\n",
       "      <td>71.0</td>\n",
       "    </tr>\n",
       "    <tr>\n",
       "      <th>c</th>\n",
       "      <td>53</td>\n",
       "      <td>66</td>\n",
       "      <td>16.0</td>\n",
       "      <td>82.0</td>\n",
       "      <td>NaN</td>\n",
       "    </tr>\n",
       "    <tr>\n",
       "      <th>d</th>\n",
       "      <td>75</td>\n",
       "      <td>28</td>\n",
       "      <td>59.0</td>\n",
       "      <td>78.0</td>\n",
       "      <td>14.0</td>\n",
       "    </tr>\n",
       "  </tbody>\n",
       "</table>\n",
       "</div>"
      ],
      "text/plain": [
       "    v   w     x     y     z\n",
       "a  20  96   NaN   9.0   NaN\n",
       "b  92  33  26.0   NaN  71.0\n",
       "c  53  66  16.0  82.0   NaN\n",
       "d  75  28  59.0  78.0  14.0"
      ]
     },
     "execution_count": 73,
     "metadata": {},
     "output_type": "execute_result"
    }
   ],
   "source": [
    "df = DataFrame(np.random.randint(0, 100, [4, 5]),\n",
    "              index=list('abcd'),\n",
    "              columns=list('vwxyz'))\n",
    "df.loc['a', 'x'] = np.nan\n",
    "df.loc['a', 'z'] = np.nan\n",
    "df.loc['b', 'y'] = np.nan\n",
    "df.loc['c', 'z'] = np.nan\n",
    "df"
   ]
  },
  {
   "cell_type": "code",
   "execution_count": 74,
   "id": "9d5ce39a",
   "metadata": {},
   "outputs": [
    {
     "data": {
      "text/html": [
       "<div>\n",
       "<style scoped>\n",
       "    .dataframe tbody tr th:only-of-type {\n",
       "        vertical-align: middle;\n",
       "    }\n",
       "\n",
       "    .dataframe tbody tr th {\n",
       "        vertical-align: top;\n",
       "    }\n",
       "\n",
       "    .dataframe thead th {\n",
       "        text-align: right;\n",
       "    }\n",
       "</style>\n",
       "<table border=\"1\" class=\"dataframe\">\n",
       "  <thead>\n",
       "    <tr style=\"text-align: right;\">\n",
       "      <th></th>\n",
       "      <th>v</th>\n",
       "      <th>w</th>\n",
       "      <th>x</th>\n",
       "      <th>y</th>\n",
       "      <th>z</th>\n",
       "    </tr>\n",
       "  </thead>\n",
       "  <tbody>\n",
       "    <tr>\n",
       "      <th>d</th>\n",
       "      <td>75</td>\n",
       "      <td>28</td>\n",
       "      <td>59.0</td>\n",
       "      <td>78.0</td>\n",
       "      <td>14.0</td>\n",
       "    </tr>\n",
       "  </tbody>\n",
       "</table>\n",
       "</div>"
      ],
      "text/plain": [
       "    v   w     x     y     z\n",
       "d  75  28  59.0  78.0  14.0"
      ]
     },
     "execution_count": 74,
     "metadata": {},
     "output_type": "execute_result"
    }
   ],
   "source": [
    "# dropna removes any row with *ANY* nan\n",
    "df.dropna()"
   ]
  },
  {
   "cell_type": "code",
   "execution_count": 75,
   "id": "b2c0d2e6",
   "metadata": {},
   "outputs": [
    {
     "data": {
      "text/html": [
       "<div>\n",
       "<style scoped>\n",
       "    .dataframe tbody tr th:only-of-type {\n",
       "        vertical-align: middle;\n",
       "    }\n",
       "\n",
       "    .dataframe tbody tr th {\n",
       "        vertical-align: top;\n",
       "    }\n",
       "\n",
       "    .dataframe thead th {\n",
       "        text-align: right;\n",
       "    }\n",
       "</style>\n",
       "<table border=\"1\" class=\"dataframe\">\n",
       "  <thead>\n",
       "    <tr style=\"text-align: right;\">\n",
       "      <th></th>\n",
       "      <th>v</th>\n",
       "      <th>w</th>\n",
       "      <th>x</th>\n",
       "      <th>y</th>\n",
       "      <th>z</th>\n",
       "    </tr>\n",
       "  </thead>\n",
       "  <tbody>\n",
       "    <tr>\n",
       "      <th>a</th>\n",
       "      <td>20</td>\n",
       "      <td>96</td>\n",
       "      <td>NaN</td>\n",
       "      <td>9.0</td>\n",
       "      <td>NaN</td>\n",
       "    </tr>\n",
       "    <tr>\n",
       "      <th>b</th>\n",
       "      <td>92</td>\n",
       "      <td>33</td>\n",
       "      <td>26.0</td>\n",
       "      <td>NaN</td>\n",
       "      <td>71.0</td>\n",
       "    </tr>\n",
       "    <tr>\n",
       "      <th>c</th>\n",
       "      <td>53</td>\n",
       "      <td>66</td>\n",
       "      <td>16.0</td>\n",
       "      <td>82.0</td>\n",
       "      <td>NaN</td>\n",
       "    </tr>\n",
       "    <tr>\n",
       "      <th>d</th>\n",
       "      <td>75</td>\n",
       "      <td>28</td>\n",
       "      <td>59.0</td>\n",
       "      <td>78.0</td>\n",
       "      <td>14.0</td>\n",
       "    </tr>\n",
       "  </tbody>\n",
       "</table>\n",
       "</div>"
      ],
      "text/plain": [
       "    v   w     x     y     z\n",
       "a  20  96   NaN   9.0   NaN\n",
       "b  92  33  26.0   NaN  71.0\n",
       "c  53  66  16.0  82.0   NaN\n",
       "d  75  28  59.0  78.0  14.0"
      ]
     },
     "execution_count": 75,
     "metadata": {},
     "output_type": "execute_result"
    }
   ],
   "source": [
    "# thresh says: how many non-NaN values do we need?\n",
    "df.dropna(thresh=3)"
   ]
  },
  {
   "cell_type": "code",
   "execution_count": 76,
   "id": "d4c28aca",
   "metadata": {},
   "outputs": [
    {
     "data": {
      "text/html": [
       "<div>\n",
       "<style scoped>\n",
       "    .dataframe tbody tr th:only-of-type {\n",
       "        vertical-align: middle;\n",
       "    }\n",
       "\n",
       "    .dataframe tbody tr th {\n",
       "        vertical-align: top;\n",
       "    }\n",
       "\n",
       "    .dataframe thead th {\n",
       "        text-align: right;\n",
       "    }\n",
       "</style>\n",
       "<table border=\"1\" class=\"dataframe\">\n",
       "  <thead>\n",
       "    <tr style=\"text-align: right;\">\n",
       "      <th></th>\n",
       "      <th>v</th>\n",
       "      <th>w</th>\n",
       "      <th>x</th>\n",
       "      <th>y</th>\n",
       "      <th>z</th>\n",
       "    </tr>\n",
       "  </thead>\n",
       "  <tbody>\n",
       "    <tr>\n",
       "      <th>b</th>\n",
       "      <td>92</td>\n",
       "      <td>33</td>\n",
       "      <td>26.0</td>\n",
       "      <td>NaN</td>\n",
       "      <td>71.0</td>\n",
       "    </tr>\n",
       "    <tr>\n",
       "      <th>c</th>\n",
       "      <td>53</td>\n",
       "      <td>66</td>\n",
       "      <td>16.0</td>\n",
       "      <td>82.0</td>\n",
       "      <td>NaN</td>\n",
       "    </tr>\n",
       "    <tr>\n",
       "      <th>d</th>\n",
       "      <td>75</td>\n",
       "      <td>28</td>\n",
       "      <td>59.0</td>\n",
       "      <td>78.0</td>\n",
       "      <td>14.0</td>\n",
       "    </tr>\n",
       "  </tbody>\n",
       "</table>\n",
       "</div>"
      ],
      "text/plain": [
       "    v   w     x     y     z\n",
       "b  92  33  26.0   NaN  71.0\n",
       "c  53  66  16.0  82.0   NaN\n",
       "d  75  28  59.0  78.0  14.0"
      ]
     },
     "execution_count": 76,
     "metadata": {},
     "output_type": "execute_result"
    }
   ],
   "source": [
    "df.dropna(thresh=4)"
   ]
  },
  {
   "cell_type": "code",
   "execution_count": 77,
   "id": "29a15b42",
   "metadata": {},
   "outputs": [
    {
     "data": {
      "text/html": [
       "<div>\n",
       "<style scoped>\n",
       "    .dataframe tbody tr th:only-of-type {\n",
       "        vertical-align: middle;\n",
       "    }\n",
       "\n",
       "    .dataframe tbody tr th {\n",
       "        vertical-align: top;\n",
       "    }\n",
       "\n",
       "    .dataframe thead th {\n",
       "        text-align: right;\n",
       "    }\n",
       "</style>\n",
       "<table border=\"1\" class=\"dataframe\">\n",
       "  <thead>\n",
       "    <tr style=\"text-align: right;\">\n",
       "      <th></th>\n",
       "      <th>v</th>\n",
       "      <th>w</th>\n",
       "      <th>x</th>\n",
       "      <th>y</th>\n",
       "      <th>z</th>\n",
       "    </tr>\n",
       "  </thead>\n",
       "  <tbody>\n",
       "    <tr>\n",
       "      <th>b</th>\n",
       "      <td>92</td>\n",
       "      <td>33</td>\n",
       "      <td>26.0</td>\n",
       "      <td>NaN</td>\n",
       "      <td>71.0</td>\n",
       "    </tr>\n",
       "    <tr>\n",
       "      <th>d</th>\n",
       "      <td>75</td>\n",
       "      <td>28</td>\n",
       "      <td>59.0</td>\n",
       "      <td>78.0</td>\n",
       "      <td>14.0</td>\n",
       "    </tr>\n",
       "  </tbody>\n",
       "</table>\n",
       "</div>"
      ],
      "text/plain": [
       "    v   w     x     y     z\n",
       "b  92  33  26.0   NaN  71.0\n",
       "d  75  28  59.0  78.0  14.0"
      ]
     },
     "execution_count": 77,
     "metadata": {},
     "output_type": "execute_result"
    }
   ],
   "source": [
    "# we only care about NaN in column z\n",
    "\n",
    "df.dropna(subset=['z'])"
   ]
  },
  {
   "cell_type": "code",
   "execution_count": 79,
   "id": "bdc5cee0",
   "metadata": {},
   "outputs": [
    {
     "data": {
      "text/plain": [
       "0     10a\n",
       "1     20b\n",
       "2     30c\n",
       "3     40d\n",
       "4    100e\n",
       "dtype: object"
      ]
     },
     "execution_count": 79,
     "metadata": {},
     "output_type": "execute_result"
    }
   ],
   "source": [
    "s = Series('10a 20b 30c 40d 100e'.split())\n",
    "s"
   ]
  },
  {
   "cell_type": "code",
   "execution_count": 82,
   "id": "fa2a9735",
   "metadata": {},
   "outputs": [
    {
     "data": {
      "text/plain": [
       "0     10\n",
       "1     20\n",
       "2     30\n",
       "3     40\n",
       "4    100\n",
       "dtype: object"
      ]
     },
     "execution_count": 82,
     "metadata": {},
     "output_type": "execute_result"
    }
   ],
   "source": [
    "# text[start:end] is a slice in classic Python\n",
    "# .str.slice does the same thing as a .str method\n",
    "\n",
    "s.str.slice(0, -1)  # return from the start until (not including) the final character"
   ]
  },
  {
   "cell_type": "code",
   "execution_count": 83,
   "id": "8b9d88be",
   "metadata": {},
   "outputs": [
    {
     "data": {
      "text/plain": [
       "0     10\n",
       "1     20\n",
       "2     30\n",
       "3     40\n",
       "4    100\n",
       "dtype: int64"
      ]
     },
     "execution_count": 83,
     "metadata": {},
     "output_type": "execute_result"
    }
   ],
   "source": [
    "(\n",
    "    s\n",
    "    .str.slice(0, -1)\n",
    "    .astype(int)\n",
    ")"
   ]
  },
  {
   "cell_type": "code",
   "execution_count": 84,
   "id": "84c16add",
   "metadata": {},
   "outputs": [
    {
     "data": {
      "text/plain": [
       "0         ab10\n",
       "1          c20\n",
       "2           30\n",
       "3    defg40hij\n",
       "dtype: object"
      ]
     },
     "execution_count": 84,
     "metadata": {},
     "output_type": "execute_result"
    }
   ],
   "source": [
    "# what if we don't know how many letters there are, or where they are?\n",
    "\n",
    "s = Series('ab10 c20 30 defg40hij'.split())\n",
    "s"
   ]
  },
  {
   "cell_type": "code",
   "execution_count": 87,
   "id": "98950d8e",
   "metadata": {},
   "outputs": [
    {
     "data": {
      "text/plain": [
       "0    10\n",
       "1    20\n",
       "2    30\n",
       "3    40\n",
       "dtype: object"
      ]
     },
     "execution_count": 87,
     "metadata": {},
     "output_type": "execute_result"
    }
   ],
   "source": [
    "s.str.replace(r'\\D*(\\d+)\\D*', r'\\1', regex=True)"
   ]
  },
  {
   "cell_type": "code",
   "execution_count": 89,
   "id": "8351e98f",
   "metadata": {},
   "outputs": [
    {
     "data": {
      "text/plain": [
       "0    10\n",
       "1    20\n",
       "2    30\n",
       "3    40\n",
       "dtype: object"
      ]
     },
     "execution_count": 89,
     "metadata": {},
     "output_type": "execute_result"
    }
   ],
   "source": [
    "import string\n",
    "\n",
    "# remove any leading/trailing characters from ascii_lowercase\n",
    "s.str.strip(string.ascii_lowercase)"
   ]
  },
  {
   "cell_type": "code",
   "execution_count": 90,
   "id": "6cff9f57",
   "metadata": {},
   "outputs": [
    {
     "data": {
      "text/plain": [
       "0          b10\n",
       "1          c20\n",
       "2           30\n",
       "3    defg40hij\n",
       "dtype: object"
      ]
     },
     "execution_count": 90,
     "metadata": {},
     "output_type": "execute_result"
    }
   ],
   "source": [
    "s.str.strip('a')"
   ]
  },
  {
   "cell_type": "code",
   "execution_count": 91,
   "id": "171dea6f",
   "metadata": {},
   "outputs": [
    {
     "data": {
      "text/plain": [
       "'abcdefghijklmnopqrstuvwxyz'"
      ]
     },
     "execution_count": 91,
     "metadata": {},
     "output_type": "execute_result"
    }
   ],
   "source": [
    "string.ascii_lowercase"
   ]
  },
  {
   "cell_type": "code",
   "execution_count": 92,
   "id": "f1c05e78",
   "metadata": {},
   "outputs": [
    {
     "data": {
      "text/plain": [
       "'abcdefghijklmnopqrstuvwxyzABCDEFGHIJKLMNOPQRSTUVWXYZ'"
      ]
     },
     "execution_count": 92,
     "metadata": {},
     "output_type": "execute_result"
    }
   ],
   "source": [
    "string.ascii_letters"
   ]
  },
  {
   "cell_type": "code",
   "execution_count": 93,
   "id": "8d1fb3f9",
   "metadata": {},
   "outputs": [
    {
     "name": "stdout",
     "output_type": "stream",
     "text": [
      "Help on method extract in module pandas.core.strings.accessor:\n",
      "\n",
      "extract(pat: 'str', flags: 'int' = 0, expand: 'bool' = True) -> 'DataFrame | Series | Index' method of pandas.core.strings.accessor.StringMethods instance\n",
      "    Extract capture groups in the regex `pat` as columns in a DataFrame.\n",
      "\n",
      "    For each subject string in the Series, extract groups from the\n",
      "    first match of regular expression `pat`.\n",
      "\n",
      "    Parameters\n",
      "    ----------\n",
      "    pat : str\n",
      "        Regular expression pattern with capturing groups.\n",
      "    flags : int, default 0 (no flags)\n",
      "        Flags from the ``re`` module, e.g. ``re.IGNORECASE``, that\n",
      "        modify regular expression matching for things like case,\n",
      "        spaces, etc. For more details, see :mod:`re`.\n",
      "    expand : bool, default True\n",
      "        If True, return DataFrame with one column per capture group.\n",
      "        If False, return a Series/Index if there is one capture group\n",
      "        or DataFrame if there are multiple capture groups.\n",
      "\n",
      "    Returns\n",
      "    -------\n",
      "    DataFrame or Series or Index\n",
      "        A DataFrame with one row for each subject string, and one\n",
      "        column for each group. Any capture group names in regular\n",
      "        expression pat will be used for column names; otherwise\n",
      "        capture group numbers will be used. The dtype of each result\n",
      "        column is always object, even when no match is found. If\n",
      "        ``expand=False`` and pat has only one capture group, then\n",
      "        return a Series (if subject is a Series) or Index (if subject\n",
      "        is an Index).\n",
      "\n",
      "    See Also\n",
      "    --------\n",
      "    extractall : Returns all matches (not just the first match).\n",
      "\n",
      "    Examples\n",
      "    --------\n",
      "    A pattern with two groups will return a DataFrame with two columns.\n",
      "    Non-matches will be NaN.\n",
      "\n",
      "    >>> s = pd.Series(['a1', 'b2', 'c3'])\n",
      "    >>> s.str.extract(r'([ab])(\\d)')\n",
      "        0    1\n",
      "    0    a    1\n",
      "    1    b    2\n",
      "    2  NaN  NaN\n",
      "\n",
      "    A pattern may contain optional groups.\n",
      "\n",
      "    >>> s.str.extract(r'([ab])?(\\d)')\n",
      "        0  1\n",
      "    0    a  1\n",
      "    1    b  2\n",
      "    2  NaN  3\n",
      "\n",
      "    Named groups will become column names in the result.\n",
      "\n",
      "    >>> s.str.extract(r'(?P<letter>[ab])(?P<digit>\\d)')\n",
      "    letter digit\n",
      "    0      a     1\n",
      "    1      b     2\n",
      "    2    NaN   NaN\n",
      "\n",
      "    A pattern with one group will return a DataFrame with one column\n",
      "    if expand=True.\n",
      "\n",
      "    >>> s.str.extract(r'[ab](\\d)', expand=True)\n",
      "        0\n",
      "    0    1\n",
      "    1    2\n",
      "    2  NaN\n",
      "\n",
      "    A pattern with one group will return a Series if expand=False.\n",
      "\n",
      "    >>> s.str.extract(r'[ab](\\d)', expand=False)\n",
      "    0      1\n",
      "    1      2\n",
      "    2    NaN\n",
      "    dtype: object\n",
      "\n"
     ]
    }
   ],
   "source": [
    "help(s.str.extract)"
   ]
  },
  {
   "cell_type": "markdown",
   "id": "6ab4a38e",
   "metadata": {},
   "source": [
    "# Date and times\n",
    "\n",
    "- Point in time -- `timestamp` or `datetime`\n",
    "- Span of time -- `timedelta` or `interval`\n",
    "\n",
    "### Date math\n",
    "\n",
    "- `datetime` + `timedelta` = `datetime`\n",
    "- `datetime` - `timedelta` = `datetime`\n",
    "- `datetime` - `datetime` = `timedelta`"
   ]
  },
  {
   "cell_type": "code",
   "execution_count": 94,
   "id": "1ab2e077",
   "metadata": {},
   "outputs": [
    {
     "data": {
      "text/html": [
       "<div>\n",
       "<style scoped>\n",
       "    .dataframe tbody tr th:only-of-type {\n",
       "        vertical-align: middle;\n",
       "    }\n",
       "\n",
       "    .dataframe tbody tr th {\n",
       "        vertical-align: top;\n",
       "    }\n",
       "\n",
       "    .dataframe thead th {\n",
       "        text-align: right;\n",
       "    }\n",
       "</style>\n",
       "<table border=\"1\" class=\"dataframe\">\n",
       "  <thead>\n",
       "    <tr style=\"text-align: right;\">\n",
       "      <th></th>\n",
       "      <th>VendorID</th>\n",
       "      <th>tpep_pickup_datetime</th>\n",
       "      <th>tpep_dropoff_datetime</th>\n",
       "      <th>passenger_count</th>\n",
       "      <th>trip_distance</th>\n",
       "      <th>pickup_longitude</th>\n",
       "      <th>pickup_latitude</th>\n",
       "      <th>RateCodeID</th>\n",
       "      <th>store_and_fwd_flag</th>\n",
       "      <th>dropoff_longitude</th>\n",
       "      <th>dropoff_latitude</th>\n",
       "      <th>payment_type</th>\n",
       "      <th>fare_amount</th>\n",
       "      <th>extra</th>\n",
       "      <th>mta_tax</th>\n",
       "      <th>tip_amount</th>\n",
       "      <th>tolls_amount</th>\n",
       "      <th>improvement_surcharge</th>\n",
       "      <th>total_amount</th>\n",
       "    </tr>\n",
       "  </thead>\n",
       "  <tbody>\n",
       "    <tr>\n",
       "      <th>0</th>\n",
       "      <td>2</td>\n",
       "      <td>2015-06-02 11:19:29</td>\n",
       "      <td>2015-06-02 11:47:52</td>\n",
       "      <td>1</td>\n",
       "      <td>1.63</td>\n",
       "      <td>-73.954430</td>\n",
       "      <td>40.764141</td>\n",
       "      <td>1</td>\n",
       "      <td>N</td>\n",
       "      <td>-73.974754</td>\n",
       "      <td>40.754093</td>\n",
       "      <td>2</td>\n",
       "      <td>17.0</td>\n",
       "      <td>0.0</td>\n",
       "      <td>0.5</td>\n",
       "      <td>0.00</td>\n",
       "      <td>0.0</td>\n",
       "      <td>0.3</td>\n",
       "      <td>17.80</td>\n",
       "    </tr>\n",
       "    <tr>\n",
       "      <th>1</th>\n",
       "      <td>2</td>\n",
       "      <td>2015-06-02 11:19:30</td>\n",
       "      <td>2015-06-02 11:27:56</td>\n",
       "      <td>1</td>\n",
       "      <td>0.46</td>\n",
       "      <td>-73.971443</td>\n",
       "      <td>40.758942</td>\n",
       "      <td>1</td>\n",
       "      <td>N</td>\n",
       "      <td>-73.978539</td>\n",
       "      <td>40.761909</td>\n",
       "      <td>1</td>\n",
       "      <td>6.5</td>\n",
       "      <td>0.0</td>\n",
       "      <td>0.5</td>\n",
       "      <td>1.00</td>\n",
       "      <td>0.0</td>\n",
       "      <td>0.3</td>\n",
       "      <td>8.30</td>\n",
       "    </tr>\n",
       "    <tr>\n",
       "      <th>2</th>\n",
       "      <td>2</td>\n",
       "      <td>2015-06-02 11:19:31</td>\n",
       "      <td>2015-06-02 11:30:30</td>\n",
       "      <td>1</td>\n",
       "      <td>0.87</td>\n",
       "      <td>-73.978111</td>\n",
       "      <td>40.738434</td>\n",
       "      <td>1</td>\n",
       "      <td>N</td>\n",
       "      <td>-73.990273</td>\n",
       "      <td>40.745438</td>\n",
       "      <td>1</td>\n",
       "      <td>8.0</td>\n",
       "      <td>0.0</td>\n",
       "      <td>0.5</td>\n",
       "      <td>2.20</td>\n",
       "      <td>0.0</td>\n",
       "      <td>0.3</td>\n",
       "      <td>11.00</td>\n",
       "    </tr>\n",
       "    <tr>\n",
       "      <th>3</th>\n",
       "      <td>2</td>\n",
       "      <td>2015-06-02 11:19:31</td>\n",
       "      <td>2015-06-02 11:39:02</td>\n",
       "      <td>1</td>\n",
       "      <td>2.13</td>\n",
       "      <td>-73.945892</td>\n",
       "      <td>40.773529</td>\n",
       "      <td>1</td>\n",
       "      <td>N</td>\n",
       "      <td>-73.971527</td>\n",
       "      <td>40.760330</td>\n",
       "      <td>1</td>\n",
       "      <td>13.5</td>\n",
       "      <td>0.0</td>\n",
       "      <td>0.5</td>\n",
       "      <td>2.86</td>\n",
       "      <td>0.0</td>\n",
       "      <td>0.3</td>\n",
       "      <td>17.16</td>\n",
       "    </tr>\n",
       "    <tr>\n",
       "      <th>4</th>\n",
       "      <td>1</td>\n",
       "      <td>2015-06-02 11:19:32</td>\n",
       "      <td>2015-06-02 11:32:49</td>\n",
       "      <td>1</td>\n",
       "      <td>1.40</td>\n",
       "      <td>-73.979088</td>\n",
       "      <td>40.776772</td>\n",
       "      <td>1</td>\n",
       "      <td>N</td>\n",
       "      <td>-73.982162</td>\n",
       "      <td>40.758999</td>\n",
       "      <td>2</td>\n",
       "      <td>9.5</td>\n",
       "      <td>0.0</td>\n",
       "      <td>0.5</td>\n",
       "      <td>0.00</td>\n",
       "      <td>0.0</td>\n",
       "      <td>0.3</td>\n",
       "      <td>10.30</td>\n",
       "    </tr>\n",
       "  </tbody>\n",
       "</table>\n",
       "</div>"
      ],
      "text/plain": [
       "   VendorID tpep_pickup_datetime tpep_dropoff_datetime  passenger_count  \\\n",
       "0         2  2015-06-02 11:19:29   2015-06-02 11:47:52                1   \n",
       "1         2  2015-06-02 11:19:30   2015-06-02 11:27:56                1   \n",
       "2         2  2015-06-02 11:19:31   2015-06-02 11:30:30                1   \n",
       "3         2  2015-06-02 11:19:31   2015-06-02 11:39:02                1   \n",
       "4         1  2015-06-02 11:19:32   2015-06-02 11:32:49                1   \n",
       "\n",
       "   trip_distance  pickup_longitude  pickup_latitude  RateCodeID  \\\n",
       "0           1.63        -73.954430        40.764141           1   \n",
       "1           0.46        -73.971443        40.758942           1   \n",
       "2           0.87        -73.978111        40.738434           1   \n",
       "3           2.13        -73.945892        40.773529           1   \n",
       "4           1.40        -73.979088        40.776772           1   \n",
       "\n",
       "  store_and_fwd_flag  dropoff_longitude  dropoff_latitude  payment_type  \\\n",
       "0                  N         -73.974754         40.754093             2   \n",
       "1                  N         -73.978539         40.761909             1   \n",
       "2                  N         -73.990273         40.745438             1   \n",
       "3                  N         -73.971527         40.760330             1   \n",
       "4                  N         -73.982162         40.758999             2   \n",
       "\n",
       "   fare_amount  extra  mta_tax  tip_amount  tolls_amount  \\\n",
       "0         17.0    0.0      0.5        0.00           0.0   \n",
       "1          6.5    0.0      0.5        1.00           0.0   \n",
       "2          8.0    0.0      0.5        2.20           0.0   \n",
       "3         13.5    0.0      0.5        2.86           0.0   \n",
       "4          9.5    0.0      0.5        0.00           0.0   \n",
       "\n",
       "   improvement_surcharge  total_amount  \n",
       "0                    0.3         17.80  \n",
       "1                    0.3          8.30  \n",
       "2                    0.3         11.00  \n",
       "3                    0.3         17.16  \n",
       "4                    0.3         10.30  "
      ]
     },
     "execution_count": 94,
     "metadata": {},
     "output_type": "execute_result"
    }
   ],
   "source": [
    "# how can we get datetime\n",
    "\n",
    "df = pd.read_csv('taxi.csv')\n",
    "df.head()"
   ]
  },
  {
   "cell_type": "code",
   "execution_count": 95,
   "id": "dcbf1798",
   "metadata": {},
   "outputs": [
    {
     "data": {
      "text/plain": [
       "VendorID                   int64\n",
       "tpep_pickup_datetime      object\n",
       "tpep_dropoff_datetime     object\n",
       "passenger_count            int64\n",
       "trip_distance            float64\n",
       "pickup_longitude         float64\n",
       "pickup_latitude          float64\n",
       "RateCodeID                 int64\n",
       "store_and_fwd_flag        object\n",
       "dropoff_longitude        float64\n",
       "dropoff_latitude         float64\n",
       "payment_type               int64\n",
       "fare_amount              float64\n",
       "extra                    float64\n",
       "mta_tax                  float64\n",
       "tip_amount               float64\n",
       "tolls_amount             float64\n",
       "improvement_surcharge    float64\n",
       "total_amount             float64\n",
       "dtype: object"
      ]
     },
     "execution_count": 95,
     "metadata": {},
     "output_type": "execute_result"
    }
   ],
   "source": [
    "df.dtypes "
   ]
  },
  {
   "cell_type": "code",
   "execution_count": 96,
   "id": "b33669f1",
   "metadata": {},
   "outputs": [
    {
     "data": {
      "text/plain": [
       "0      2015-06-02 11:19:29\n",
       "1      2015-06-02 11:19:30\n",
       "2      2015-06-02 11:19:31\n",
       "3      2015-06-02 11:19:31\n",
       "4      2015-06-02 11:19:32\n",
       "               ...        \n",
       "9994   2015-06-01 00:12:59\n",
       "9995   2015-06-01 00:12:59\n",
       "9996   2015-06-01 00:13:00\n",
       "9997   2015-06-01 00:13:02\n",
       "9998   2015-06-01 00:13:04\n",
       "Name: tpep_pickup_datetime, Length: 9999, dtype: datetime64[ns]"
      ]
     },
     "execution_count": 96,
     "metadata": {},
     "output_type": "execute_result"
    }
   ],
   "source": [
    "# pd.to_datetime takes a series of strings as input\n",
    "# and returns a series of datetime\n",
    "\n",
    "pd.to_datetime(df['tpep_pickup_datetime'])"
   ]
  },
  {
   "cell_type": "code",
   "execution_count": 97,
   "id": "7d8e6a4c",
   "metadata": {},
   "outputs": [],
   "source": [
    "df['tpep_pickup_datetime'] = pd.to_datetime(df['tpep_pickup_datetime'])"
   ]
  },
  {
   "cell_type": "code",
   "execution_count": 98,
   "id": "b8fc3643",
   "metadata": {},
   "outputs": [
    {
     "data": {
      "text/plain": [
       "VendorID                          int64\n",
       "tpep_pickup_datetime     datetime64[ns]\n",
       "tpep_dropoff_datetime            object\n",
       "passenger_count                   int64\n",
       "trip_distance                   float64\n",
       "pickup_longitude                float64\n",
       "pickup_latitude                 float64\n",
       "RateCodeID                        int64\n",
       "store_and_fwd_flag               object\n",
       "dropoff_longitude               float64\n",
       "dropoff_latitude                float64\n",
       "payment_type                      int64\n",
       "fare_amount                     float64\n",
       "extra                           float64\n",
       "mta_tax                         float64\n",
       "tip_amount                      float64\n",
       "tolls_amount                    float64\n",
       "improvement_surcharge           float64\n",
       "total_amount                    float64\n",
       "dtype: object"
      ]
     },
     "execution_count": 98,
     "metadata": {},
     "output_type": "execute_result"
    }
   ],
   "source": [
    "df.dtypes"
   ]
  },
  {
   "cell_type": "code",
   "execution_count": 99,
   "id": "48fbdc3c",
   "metadata": {},
   "outputs": [],
   "source": [
    "df['tpep_dropoff_datetime'] = pd.to_datetime(df['tpep_dropoff_datetime'])"
   ]
  },
  {
   "cell_type": "code",
   "execution_count": 100,
   "id": "769c4a5b",
   "metadata": {},
   "outputs": [
    {
     "data": {
      "text/plain": [
       "VendorID                          int64\n",
       "tpep_pickup_datetime     datetime64[ns]\n",
       "tpep_dropoff_datetime    datetime64[ns]\n",
       "passenger_count                   int64\n",
       "trip_distance                   float64\n",
       "pickup_longitude                float64\n",
       "pickup_latitude                 float64\n",
       "RateCodeID                        int64\n",
       "store_and_fwd_flag               object\n",
       "dropoff_longitude               float64\n",
       "dropoff_latitude                float64\n",
       "payment_type                      int64\n",
       "fare_amount                     float64\n",
       "extra                           float64\n",
       "mta_tax                         float64\n",
       "tip_amount                      float64\n",
       "tolls_amount                    float64\n",
       "improvement_surcharge           float64\n",
       "total_amount                    float64\n",
       "dtype: object"
      ]
     },
     "execution_count": 100,
     "metadata": {},
     "output_type": "execute_result"
    }
   ],
   "source": [
    "df.dtypes"
   ]
  },
  {
   "cell_type": "code",
   "execution_count": 101,
   "id": "f22a1b61",
   "metadata": {},
   "outputs": [
    {
     "data": {
      "text/plain": [
       "VendorID                          int64\n",
       "tpep_pickup_datetime     datetime64[ns]\n",
       "tpep_dropoff_datetime    datetime64[ns]\n",
       "passenger_count                   int64\n",
       "trip_distance                   float64\n",
       "pickup_longitude                float64\n",
       "pickup_latitude                 float64\n",
       "RateCodeID                        int64\n",
       "store_and_fwd_flag               object\n",
       "dropoff_longitude               float64\n",
       "dropoff_latitude                float64\n",
       "payment_type                      int64\n",
       "fare_amount                     float64\n",
       "extra                           float64\n",
       "mta_tax                         float64\n",
       "tip_amount                      float64\n",
       "tolls_amount                    float64\n",
       "improvement_surcharge           float64\n",
       "total_amount                    float64\n",
       "dtype: object"
      ]
     },
     "execution_count": 101,
     "metadata": {},
     "output_type": "execute_result"
    }
   ],
   "source": [
    "df = pd.read_csv('taxi.csv',\n",
    "                 parse_dates=['tpep_pickup_datetime',\n",
    "                             'tpep_dropoff_datetime'])\n",
    "df.dtypes"
   ]
  },
  {
   "cell_type": "code",
   "execution_count": 104,
   "id": "90b99557",
   "metadata": {},
   "outputs": [
    {
     "data": {
      "text/plain": [
       "0       29\n",
       "1       30\n",
       "2       31\n",
       "3       31\n",
       "4       32\n",
       "        ..\n",
       "9994    59\n",
       "9995    59\n",
       "9996     0\n",
       "9997     2\n",
       "9998     4\n",
       "Name: tpep_pickup_datetime, Length: 9999, dtype: int32"
      ]
     },
     "execution_count": 104,
     "metadata": {},
     "output_type": "execute_result"
    }
   ],
   "source": [
    "# .dt is the accessor for datetime values\n",
    "\n",
    "df['tpep_pickup_datetime'].dt.second"
   ]
  },
  {
   "cell_type": "code",
   "execution_count": 109,
   "id": "a746f851",
   "metadata": {},
   "outputs": [
    {
     "data": {
      "text/plain": [
       "0       False\n",
       "1       False\n",
       "2       False\n",
       "3       False\n",
       "4       False\n",
       "        ...  \n",
       "9994     True\n",
       "9995     True\n",
       "9996     True\n",
       "9997     True\n",
       "9998     True\n",
       "Name: tpep_pickup_datetime, Length: 9999, dtype: bool"
      ]
     },
     "execution_count": 109,
     "metadata": {},
     "output_type": "execute_result"
    }
   ],
   "source": [
    "df['tpep_pickup_datetime'].dt.is_month_start"
   ]
  },
  {
   "cell_type": "code",
   "execution_count": 110,
   "id": "52edf100",
   "metadata": {},
   "outputs": [
    {
     "data": {
      "text/plain": [
       "0       1\n",
       "1       1\n",
       "2       1\n",
       "3       1\n",
       "4       1\n",
       "       ..\n",
       "9994    0\n",
       "9995    0\n",
       "9996    0\n",
       "9997    0\n",
       "9998    0\n",
       "Name: tpep_pickup_datetime, Length: 9999, dtype: int32"
      ]
     },
     "execution_count": 110,
     "metadata": {},
     "output_type": "execute_result"
    }
   ],
   "source": [
    "df['tpep_pickup_datetime'].dt.day_of_week"
   ]
  },
  {
   "cell_type": "code",
   "execution_count": 111,
   "id": "33add10d",
   "metadata": {},
   "outputs": [
    {
     "data": {
      "text/plain": [
       "0       Tuesday\n",
       "1       Tuesday\n",
       "2       Tuesday\n",
       "3       Tuesday\n",
       "4       Tuesday\n",
       "         ...   \n",
       "9994     Monday\n",
       "9995     Monday\n",
       "9996     Monday\n",
       "9997     Monday\n",
       "9998     Monday\n",
       "Name: tpep_pickup_datetime, Length: 9999, dtype: object"
      ]
     },
     "execution_count": 111,
     "metadata": {},
     "output_type": "execute_result"
    }
   ],
   "source": [
    "df['tpep_pickup_datetime'].dt.day_name()"
   ]
  },
  {
   "cell_type": "markdown",
   "id": "3673a96a",
   "metadata": {},
   "source": [
    "# Exercise: Dates and taxis\n",
    "\n",
    "1. Load `taxi.csv` into a data frame, setting `tpep_pickup_datetime` and `tpep_dropoff_datetime` as `datetime` values.\n",
    "2. What was the mean `total_amount` for trips that took place before 12:00? (From 0 - 12)\n",
    "3. What was the mean `trip_distance` for trips that took place on Tuesday?"
   ]
  },
  {
   "cell_type": "code",
   "execution_count": 112,
   "id": "ad465e2e",
   "metadata": {},
   "outputs": [
    {
     "data": {
      "text/html": [
       "<div>\n",
       "<style scoped>\n",
       "    .dataframe tbody tr th:only-of-type {\n",
       "        vertical-align: middle;\n",
       "    }\n",
       "\n",
       "    .dataframe tbody tr th {\n",
       "        vertical-align: top;\n",
       "    }\n",
       "\n",
       "    .dataframe thead th {\n",
       "        text-align: right;\n",
       "    }\n",
       "</style>\n",
       "<table border=\"1\" class=\"dataframe\">\n",
       "  <thead>\n",
       "    <tr style=\"text-align: right;\">\n",
       "      <th></th>\n",
       "      <th>tpep_pickup_datetime</th>\n",
       "      <th>tpep_dropoff_datetime</th>\n",
       "      <th>passenger_count</th>\n",
       "      <th>trip_distance</th>\n",
       "      <th>total_amount</th>\n",
       "    </tr>\n",
       "  </thead>\n",
       "  <tbody>\n",
       "    <tr>\n",
       "      <th>0</th>\n",
       "      <td>2015-06-02 11:19:29</td>\n",
       "      <td>2015-06-02 11:47:52</td>\n",
       "      <td>1</td>\n",
       "      <td>1.63</td>\n",
       "      <td>17.80</td>\n",
       "    </tr>\n",
       "    <tr>\n",
       "      <th>1</th>\n",
       "      <td>2015-06-02 11:19:30</td>\n",
       "      <td>2015-06-02 11:27:56</td>\n",
       "      <td>1</td>\n",
       "      <td>0.46</td>\n",
       "      <td>8.30</td>\n",
       "    </tr>\n",
       "    <tr>\n",
       "      <th>2</th>\n",
       "      <td>2015-06-02 11:19:31</td>\n",
       "      <td>2015-06-02 11:30:30</td>\n",
       "      <td>1</td>\n",
       "      <td>0.87</td>\n",
       "      <td>11.00</td>\n",
       "    </tr>\n",
       "    <tr>\n",
       "      <th>3</th>\n",
       "      <td>2015-06-02 11:19:31</td>\n",
       "      <td>2015-06-02 11:39:02</td>\n",
       "      <td>1</td>\n",
       "      <td>2.13</td>\n",
       "      <td>17.16</td>\n",
       "    </tr>\n",
       "    <tr>\n",
       "      <th>4</th>\n",
       "      <td>2015-06-02 11:19:32</td>\n",
       "      <td>2015-06-02 11:32:49</td>\n",
       "      <td>1</td>\n",
       "      <td>1.40</td>\n",
       "      <td>10.30</td>\n",
       "    </tr>\n",
       "    <tr>\n",
       "      <th>...</th>\n",
       "      <td>...</td>\n",
       "      <td>...</td>\n",
       "      <td>...</td>\n",
       "      <td>...</td>\n",
       "      <td>...</td>\n",
       "    </tr>\n",
       "    <tr>\n",
       "      <th>9994</th>\n",
       "      <td>2015-06-01 00:12:59</td>\n",
       "      <td>2015-06-01 00:24:18</td>\n",
       "      <td>1</td>\n",
       "      <td>2.70</td>\n",
       "      <td>12.30</td>\n",
       "    </tr>\n",
       "    <tr>\n",
       "      <th>9995</th>\n",
       "      <td>2015-06-01 00:12:59</td>\n",
       "      <td>2015-06-01 00:28:16</td>\n",
       "      <td>1</td>\n",
       "      <td>4.50</td>\n",
       "      <td>20.30</td>\n",
       "    </tr>\n",
       "    <tr>\n",
       "      <th>9996</th>\n",
       "      <td>2015-06-01 00:13:00</td>\n",
       "      <td>2015-06-01 00:37:25</td>\n",
       "      <td>1</td>\n",
       "      <td>5.59</td>\n",
       "      <td>22.30</td>\n",
       "    </tr>\n",
       "    <tr>\n",
       "      <th>9997</th>\n",
       "      <td>2015-06-01 00:13:02</td>\n",
       "      <td>2015-06-01 00:19:10</td>\n",
       "      <td>6</td>\n",
       "      <td>1.54</td>\n",
       "      <td>7.80</td>\n",
       "    </tr>\n",
       "    <tr>\n",
       "      <th>9998</th>\n",
       "      <td>2015-06-01 00:13:04</td>\n",
       "      <td>2015-06-01 00:36:33</td>\n",
       "      <td>1</td>\n",
       "      <td>5.80</td>\n",
       "      <td>26.75</td>\n",
       "    </tr>\n",
       "  </tbody>\n",
       "</table>\n",
       "<p>9999 rows × 5 columns</p>\n",
       "</div>"
      ],
      "text/plain": [
       "     tpep_pickup_datetime tpep_dropoff_datetime  passenger_count  \\\n",
       "0     2015-06-02 11:19:29   2015-06-02 11:47:52                1   \n",
       "1     2015-06-02 11:19:30   2015-06-02 11:27:56                1   \n",
       "2     2015-06-02 11:19:31   2015-06-02 11:30:30                1   \n",
       "3     2015-06-02 11:19:31   2015-06-02 11:39:02                1   \n",
       "4     2015-06-02 11:19:32   2015-06-02 11:32:49                1   \n",
       "...                   ...                   ...              ...   \n",
       "9994  2015-06-01 00:12:59   2015-06-01 00:24:18                1   \n",
       "9995  2015-06-01 00:12:59   2015-06-01 00:28:16                1   \n",
       "9996  2015-06-01 00:13:00   2015-06-01 00:37:25                1   \n",
       "9997  2015-06-01 00:13:02   2015-06-01 00:19:10                6   \n",
       "9998  2015-06-01 00:13:04   2015-06-01 00:36:33                1   \n",
       "\n",
       "      trip_distance  total_amount  \n",
       "0              1.63         17.80  \n",
       "1              0.46          8.30  \n",
       "2              0.87         11.00  \n",
       "3              2.13         17.16  \n",
       "4              1.40         10.30  \n",
       "...             ...           ...  \n",
       "9994           2.70         12.30  \n",
       "9995           4.50         20.30  \n",
       "9996           5.59         22.30  \n",
       "9997           1.54          7.80  \n",
       "9998           5.80         26.75  \n",
       "\n",
       "[9999 rows x 5 columns]"
      ]
     },
     "execution_count": 112,
     "metadata": {},
     "output_type": "execute_result"
    }
   ],
   "source": [
    "df = pd.read_csv('taxi.csv',\n",
    "                parse_dates=['tpep_pickup_datetime',\n",
    "                            'tpep_dropoff_datetime'],\n",
    "                usecols=['tpep_pickup_datetime',\n",
    "                        'tpep_dropoff_datetime',\n",
    "                        'trip_distance', 'total_amount', 'passenger_count'])\n",
    "df"
   ]
  },
  {
   "cell_type": "code",
   "execution_count": 113,
   "id": "aec362e4",
   "metadata": {},
   "outputs": [
    {
     "data": {
      "text/plain": [
       "tpep_pickup_datetime     datetime64[ns]\n",
       "tpep_dropoff_datetime    datetime64[ns]\n",
       "passenger_count                   int64\n",
       "trip_distance                   float64\n",
       "total_amount                    float64\n",
       "dtype: object"
      ]
     },
     "execution_count": 113,
     "metadata": {},
     "output_type": "execute_result"
    }
   ],
   "source": [
    "df.dtypes"
   ]
  },
  {
   "cell_type": "code",
   "execution_count": 119,
   "id": "b369a5ce",
   "metadata": {},
   "outputs": [
    {
     "data": {
      "text/plain": [
       "17.420879297732263"
      ]
     },
     "execution_count": 119,
     "metadata": {},
     "output_type": "execute_result"
    }
   ],
   "source": [
    "# 2. What was the mean `total_amount` for trips that took place before 12:00? (From 0 - 12)\n",
    "\n",
    "(\n",
    "    df\n",
    "    .loc[\n",
    "        df['tpep_pickup_datetime'].dt.hour < 12,     # row selector\n",
    "        'total_amount']       # column selector\n",
    "    .mean()\n",
    ")"
   ]
  },
  {
   "cell_type": "code",
   "execution_count": 120,
   "id": "a8450be3",
   "metadata": {},
   "outputs": [
    {
     "data": {
      "text/plain": [
       "17.836744627054365"
      ]
     },
     "execution_count": 120,
     "metadata": {},
     "output_type": "execute_result"
    }
   ],
   "source": [
    "\n",
    "\n",
    "(\n",
    "    df\n",
    "    .loc[\n",
    "        df['tpep_pickup_datetime'].dt.hour >= 12,     # row selector\n",
    "        'total_amount']       # column selector\n",
    "    .mean()\n",
    ")"
   ]
  },
  {
   "cell_type": "code",
   "execution_count": 125,
   "id": "d8539322",
   "metadata": {},
   "outputs": [
    {
     "data": {
      "text/plain": [
       "2.6611988171064604"
      ]
     },
     "execution_count": 125,
     "metadata": {},
     "output_type": "execute_result"
    }
   ],
   "source": [
    "# 3. What was the mean `trip_distance` for trips that took place on Tuesday?\n",
    "\n",
    "(\n",
    "    df\n",
    "    .loc[\n",
    "        df['tpep_pickup_datetime'].dt.day_name() == 'Tuesday' ,   # row selector\n",
    "        'trip_distance'  # column selector\n",
    "          ]\n",
    "    .mean()\n",
    ")"
   ]
  },
  {
   "cell_type": "code",
   "execution_count": 127,
   "id": "997b2ea8",
   "metadata": {},
   "outputs": [
    {
     "data": {
      "text/plain": [
       "17.420879297732263"
      ]
     },
     "execution_count": 127,
     "metadata": {},
     "output_type": "execute_result"
    }
   ],
   "source": [
    "df['total_amount'][df['tpep_pickup_datetime'].dt.hour < 12].mean()\n"
   ]
  },
  {
   "cell_type": "code",
   "execution_count": 128,
   "id": "24ca1d97",
   "metadata": {},
   "outputs": [
    {
     "data": {
      "text/html": [
       "<div>\n",
       "<style scoped>\n",
       "    .dataframe tbody tr th:only-of-type {\n",
       "        vertical-align: middle;\n",
       "    }\n",
       "\n",
       "    .dataframe tbody tr th {\n",
       "        vertical-align: top;\n",
       "    }\n",
       "\n",
       "    .dataframe thead th {\n",
       "        text-align: right;\n",
       "    }\n",
       "</style>\n",
       "<table border=\"1\" class=\"dataframe\">\n",
       "  <thead>\n",
       "    <tr style=\"text-align: right;\">\n",
       "      <th></th>\n",
       "      <th>tpep_pickup_datetime</th>\n",
       "      <th>tpep_dropoff_datetime</th>\n",
       "      <th>passenger_count</th>\n",
       "      <th>trip_distance</th>\n",
       "      <th>total_amount</th>\n",
       "    </tr>\n",
       "  </thead>\n",
       "  <tbody>\n",
       "    <tr>\n",
       "      <th>0</th>\n",
       "      <td>2015-06-02 11:19:29</td>\n",
       "      <td>2015-06-02 11:47:52</td>\n",
       "      <td>1</td>\n",
       "      <td>1.63</td>\n",
       "      <td>17.80</td>\n",
       "    </tr>\n",
       "    <tr>\n",
       "      <th>1</th>\n",
       "      <td>2015-06-02 11:19:30</td>\n",
       "      <td>2015-06-02 11:27:56</td>\n",
       "      <td>1</td>\n",
       "      <td>0.46</td>\n",
       "      <td>8.30</td>\n",
       "    </tr>\n",
       "    <tr>\n",
       "      <th>2</th>\n",
       "      <td>2015-06-02 11:19:31</td>\n",
       "      <td>2015-06-02 11:30:30</td>\n",
       "      <td>1</td>\n",
       "      <td>0.87</td>\n",
       "      <td>11.00</td>\n",
       "    </tr>\n",
       "    <tr>\n",
       "      <th>3</th>\n",
       "      <td>2015-06-02 11:19:31</td>\n",
       "      <td>2015-06-02 11:39:02</td>\n",
       "      <td>1</td>\n",
       "      <td>2.13</td>\n",
       "      <td>17.16</td>\n",
       "    </tr>\n",
       "    <tr>\n",
       "      <th>4</th>\n",
       "      <td>2015-06-02 11:19:32</td>\n",
       "      <td>2015-06-02 11:32:49</td>\n",
       "      <td>1</td>\n",
       "      <td>1.40</td>\n",
       "      <td>10.30</td>\n",
       "    </tr>\n",
       "  </tbody>\n",
       "</table>\n",
       "</div>"
      ],
      "text/plain": [
       "  tpep_pickup_datetime tpep_dropoff_datetime  passenger_count  trip_distance  \\\n",
       "0  2015-06-02 11:19:29   2015-06-02 11:47:52                1           1.63   \n",
       "1  2015-06-02 11:19:30   2015-06-02 11:27:56                1           0.46   \n",
       "2  2015-06-02 11:19:31   2015-06-02 11:30:30                1           0.87   \n",
       "3  2015-06-02 11:19:31   2015-06-02 11:39:02                1           2.13   \n",
       "4  2015-06-02 11:19:32   2015-06-02 11:32:49                1           1.40   \n",
       "\n",
       "   total_amount  \n",
       "0         17.80  \n",
       "1          8.30  \n",
       "2         11.00  \n",
       "3         17.16  \n",
       "4         10.30  "
      ]
     },
     "execution_count": 128,
     "metadata": {},
     "output_type": "execute_result"
    }
   ],
   "source": [
    "df.head()"
   ]
  },
  {
   "cell_type": "code",
   "execution_count": 129,
   "id": "f6507de6",
   "metadata": {},
   "outputs": [
    {
     "name": "stderr",
     "output_type": "stream",
     "text": [
      "/tmp/ipykernel_684037/2829727395.py:2: SettingWithCopyWarning: \n",
      "A value is trying to be set on a copy of a slice from a DataFrame\n",
      "\n",
      "See the caveats in the documentation: https://pandas.pydata.org/pandas-docs/stable/user_guide/indexing.html#returning-a-view-versus-a-copy\n",
      "  df.loc[2]['passenger_count'] = 2\n"
     ]
    }
   ],
   "source": [
    "# how not to update things!\n",
    "df.loc[2]['passenger_count'] = 2"
   ]
  },
  {
   "cell_type": "code",
   "execution_count": 130,
   "id": "dce2a9fc",
   "metadata": {},
   "outputs": [],
   "source": [
    "df.loc[2, 'passenger_count'] = 2"
   ]
  },
  {
   "cell_type": "code",
   "execution_count": 132,
   "id": "318ad8c6",
   "metadata": {},
   "outputs": [],
   "source": [
    "df['trip_time'] = df['tpep_dropoff_datetime'] - df['tpep_pickup_datetime']"
   ]
  },
  {
   "cell_type": "code",
   "execution_count": 133,
   "id": "4adb7551",
   "metadata": {},
   "outputs": [
    {
     "data": {
      "text/html": [
       "<div>\n",
       "<style scoped>\n",
       "    .dataframe tbody tr th:only-of-type {\n",
       "        vertical-align: middle;\n",
       "    }\n",
       "\n",
       "    .dataframe tbody tr th {\n",
       "        vertical-align: top;\n",
       "    }\n",
       "\n",
       "    .dataframe thead th {\n",
       "        text-align: right;\n",
       "    }\n",
       "</style>\n",
       "<table border=\"1\" class=\"dataframe\">\n",
       "  <thead>\n",
       "    <tr style=\"text-align: right;\">\n",
       "      <th></th>\n",
       "      <th>tpep_pickup_datetime</th>\n",
       "      <th>tpep_dropoff_datetime</th>\n",
       "      <th>passenger_count</th>\n",
       "      <th>trip_distance</th>\n",
       "      <th>total_amount</th>\n",
       "      <th>trip_time</th>\n",
       "    </tr>\n",
       "  </thead>\n",
       "  <tbody>\n",
       "    <tr>\n",
       "      <th>0</th>\n",
       "      <td>2015-06-02 11:19:29</td>\n",
       "      <td>2015-06-02 11:47:52</td>\n",
       "      <td>1</td>\n",
       "      <td>1.63</td>\n",
       "      <td>17.80</td>\n",
       "      <td>0 days 00:28:23</td>\n",
       "    </tr>\n",
       "    <tr>\n",
       "      <th>1</th>\n",
       "      <td>2015-06-02 11:19:30</td>\n",
       "      <td>2015-06-02 11:27:56</td>\n",
       "      <td>1</td>\n",
       "      <td>0.46</td>\n",
       "      <td>8.30</td>\n",
       "      <td>0 days 00:08:26</td>\n",
       "    </tr>\n",
       "    <tr>\n",
       "      <th>2</th>\n",
       "      <td>2015-06-02 11:19:31</td>\n",
       "      <td>2015-06-02 11:30:30</td>\n",
       "      <td>2</td>\n",
       "      <td>0.87</td>\n",
       "      <td>11.00</td>\n",
       "      <td>0 days 00:10:59</td>\n",
       "    </tr>\n",
       "    <tr>\n",
       "      <th>3</th>\n",
       "      <td>2015-06-02 11:19:31</td>\n",
       "      <td>2015-06-02 11:39:02</td>\n",
       "      <td>1</td>\n",
       "      <td>2.13</td>\n",
       "      <td>17.16</td>\n",
       "      <td>0 days 00:19:31</td>\n",
       "    </tr>\n",
       "    <tr>\n",
       "      <th>4</th>\n",
       "      <td>2015-06-02 11:19:32</td>\n",
       "      <td>2015-06-02 11:32:49</td>\n",
       "      <td>1</td>\n",
       "      <td>1.40</td>\n",
       "      <td>10.30</td>\n",
       "      <td>0 days 00:13:17</td>\n",
       "    </tr>\n",
       "  </tbody>\n",
       "</table>\n",
       "</div>"
      ],
      "text/plain": [
       "  tpep_pickup_datetime tpep_dropoff_datetime  passenger_count  trip_distance  \\\n",
       "0  2015-06-02 11:19:29   2015-06-02 11:47:52                1           1.63   \n",
       "1  2015-06-02 11:19:30   2015-06-02 11:27:56                1           0.46   \n",
       "2  2015-06-02 11:19:31   2015-06-02 11:30:30                2           0.87   \n",
       "3  2015-06-02 11:19:31   2015-06-02 11:39:02                1           2.13   \n",
       "4  2015-06-02 11:19:32   2015-06-02 11:32:49                1           1.40   \n",
       "\n",
       "   total_amount       trip_time  \n",
       "0         17.80 0 days 00:28:23  \n",
       "1          8.30 0 days 00:08:26  \n",
       "2         11.00 0 days 00:10:59  \n",
       "3         17.16 0 days 00:19:31  \n",
       "4         10.30 0 days 00:13:17  "
      ]
     },
     "execution_count": 133,
     "metadata": {},
     "output_type": "execute_result"
    }
   ],
   "source": [
    "df.head()"
   ]
  },
  {
   "cell_type": "code",
   "execution_count": 135,
   "id": "871d1070",
   "metadata": {},
   "outputs": [
    {
     "data": {
      "text/html": [
       "<div>\n",
       "<style scoped>\n",
       "    .dataframe tbody tr th:only-of-type {\n",
       "        vertical-align: middle;\n",
       "    }\n",
       "\n",
       "    .dataframe tbody tr th {\n",
       "        vertical-align: top;\n",
       "    }\n",
       "\n",
       "    .dataframe thead th {\n",
       "        text-align: right;\n",
       "    }\n",
       "</style>\n",
       "<table border=\"1\" class=\"dataframe\">\n",
       "  <thead>\n",
       "    <tr style=\"text-align: right;\">\n",
       "      <th></th>\n",
       "      <th>tpep_pickup_datetime</th>\n",
       "      <th>tpep_dropoff_datetime</th>\n",
       "      <th>passenger_count</th>\n",
       "      <th>trip_distance</th>\n",
       "      <th>total_amount</th>\n",
       "      <th>trip_time</th>\n",
       "    </tr>\n",
       "  </thead>\n",
       "  <tbody>\n",
       "    <tr>\n",
       "      <th>7</th>\n",
       "      <td>2015-06-02 11:19:35</td>\n",
       "      <td>2015-06-02 12:36:46</td>\n",
       "      <td>4</td>\n",
       "      <td>11.90</td>\n",
       "      <td>73.84</td>\n",
       "      <td>0 days 01:17:11</td>\n",
       "    </tr>\n",
       "    <tr>\n",
       "      <th>88</th>\n",
       "      <td>2015-06-02 11:20:37</td>\n",
       "      <td>2015-06-02 12:35:21</td>\n",
       "      <td>2</td>\n",
       "      <td>23.76</td>\n",
       "      <td>94.00</td>\n",
       "      <td>0 days 01:14:44</td>\n",
       "    </tr>\n",
       "    <tr>\n",
       "      <th>126</th>\n",
       "      <td>2015-06-02 11:21:03</td>\n",
       "      <td>2015-06-03 00:00:00</td>\n",
       "      <td>3</td>\n",
       "      <td>1.06</td>\n",
       "      <td>11.16</td>\n",
       "      <td>0 days 12:38:57</td>\n",
       "    </tr>\n",
       "    <tr>\n",
       "      <th>174</th>\n",
       "      <td>2015-06-02 11:21:42</td>\n",
       "      <td>2015-06-02 12:22:51</td>\n",
       "      <td>1</td>\n",
       "      <td>6.65</td>\n",
       "      <td>45.96</td>\n",
       "      <td>0 days 01:01:09</td>\n",
       "    </tr>\n",
       "    <tr>\n",
       "      <th>246</th>\n",
       "      <td>2015-06-02 11:19:46</td>\n",
       "      <td>2015-06-02 12:26:33</td>\n",
       "      <td>1</td>\n",
       "      <td>0.00</td>\n",
       "      <td>3.30</td>\n",
       "      <td>0 days 01:06:47</td>\n",
       "    </tr>\n",
       "    <tr>\n",
       "      <th>...</th>\n",
       "      <td>...</td>\n",
       "      <td>...</td>\n",
       "      <td>...</td>\n",
       "      <td>...</td>\n",
       "      <td>...</td>\n",
       "      <td>...</td>\n",
       "    </tr>\n",
       "    <tr>\n",
       "      <th>7907</th>\n",
       "      <td>2015-06-04 15:23:01</td>\n",
       "      <td>2015-06-04 16:30:03</td>\n",
       "      <td>1</td>\n",
       "      <td>26.60</td>\n",
       "      <td>96.84</td>\n",
       "      <td>0 days 01:07:02</td>\n",
       "    </tr>\n",
       "    <tr>\n",
       "      <th>8042</th>\n",
       "      <td>2015-06-06 16:53:20</td>\n",
       "      <td>2015-06-06 17:54:20</td>\n",
       "      <td>1</td>\n",
       "      <td>17.98</td>\n",
       "      <td>58.34</td>\n",
       "      <td>0 days 01:01:00</td>\n",
       "    </tr>\n",
       "    <tr>\n",
       "      <th>8171</th>\n",
       "      <td>2015-06-06 16:53:33</td>\n",
       "      <td>2015-06-06 18:01:48</td>\n",
       "      <td>1</td>\n",
       "      <td>18.01</td>\n",
       "      <td>58.34</td>\n",
       "      <td>0 days 01:08:15</td>\n",
       "    </tr>\n",
       "    <tr>\n",
       "      <th>8201</th>\n",
       "      <td>2015-06-06 16:53:56</td>\n",
       "      <td>2015-06-06 17:54:22</td>\n",
       "      <td>1</td>\n",
       "      <td>17.36</td>\n",
       "      <td>69.00</td>\n",
       "      <td>0 days 01:00:26</td>\n",
       "    </tr>\n",
       "    <tr>\n",
       "      <th>8513</th>\n",
       "      <td>2015-06-01 00:04:50</td>\n",
       "      <td>2015-06-01 01:31:44</td>\n",
       "      <td>1</td>\n",
       "      <td>60.30</td>\n",
       "      <td>160.05</td>\n",
       "      <td>0 days 01:26:54</td>\n",
       "    </tr>\n",
       "  </tbody>\n",
       "</table>\n",
       "<p>170 rows × 6 columns</p>\n",
       "</div>"
      ],
      "text/plain": [
       "     tpep_pickup_datetime tpep_dropoff_datetime  passenger_count  \\\n",
       "7     2015-06-02 11:19:35   2015-06-02 12:36:46                4   \n",
       "88    2015-06-02 11:20:37   2015-06-02 12:35:21                2   \n",
       "126   2015-06-02 11:21:03   2015-06-03 00:00:00                3   \n",
       "174   2015-06-02 11:21:42   2015-06-02 12:22:51                1   \n",
       "246   2015-06-02 11:19:46   2015-06-02 12:26:33                1   \n",
       "...                   ...                   ...              ...   \n",
       "7907  2015-06-04 15:23:01   2015-06-04 16:30:03                1   \n",
       "8042  2015-06-06 16:53:20   2015-06-06 17:54:20                1   \n",
       "8171  2015-06-06 16:53:33   2015-06-06 18:01:48                1   \n",
       "8201  2015-06-06 16:53:56   2015-06-06 17:54:22                1   \n",
       "8513  2015-06-01 00:04:50   2015-06-01 01:31:44                1   \n",
       "\n",
       "      trip_distance  total_amount       trip_time  \n",
       "7             11.90         73.84 0 days 01:17:11  \n",
       "88            23.76         94.00 0 days 01:14:44  \n",
       "126            1.06         11.16 0 days 12:38:57  \n",
       "174            6.65         45.96 0 days 01:01:09  \n",
       "246            0.00          3.30 0 days 01:06:47  \n",
       "...             ...           ...             ...  \n",
       "7907          26.60         96.84 0 days 01:07:02  \n",
       "8042          17.98         58.34 0 days 01:01:00  \n",
       "8171          18.01         58.34 0 days 01:08:15  \n",
       "8201          17.36         69.00 0 days 01:00:26  \n",
       "8513          60.30        160.05 0 days 01:26:54  \n",
       "\n",
       "[170 rows x 6 columns]"
      ]
     },
     "execution_count": 135,
     "metadata": {},
     "output_type": "execute_result"
    }
   ],
   "source": [
    "# compare with a timedelta column \n",
    "\n",
    "df.loc[   df['trip_time'] > '0 days 01:00:00'   ]"
   ]
  },
  {
   "cell_type": "code",
   "execution_count": 136,
   "id": "786680ee",
   "metadata": {},
   "outputs": [
    {
     "data": {
      "text/html": [
       "<div>\n",
       "<style scoped>\n",
       "    .dataframe tbody tr th:only-of-type {\n",
       "        vertical-align: middle;\n",
       "    }\n",
       "\n",
       "    .dataframe tbody tr th {\n",
       "        vertical-align: top;\n",
       "    }\n",
       "\n",
       "    .dataframe thead th {\n",
       "        text-align: right;\n",
       "    }\n",
       "</style>\n",
       "<table border=\"1\" class=\"dataframe\">\n",
       "  <thead>\n",
       "    <tr style=\"text-align: right;\">\n",
       "      <th></th>\n",
       "      <th>tpep_pickup_datetime</th>\n",
       "      <th>tpep_dropoff_datetime</th>\n",
       "      <th>passenger_count</th>\n",
       "      <th>trip_distance</th>\n",
       "      <th>total_amount</th>\n",
       "      <th>trip_time</th>\n",
       "    </tr>\n",
       "  </thead>\n",
       "  <tbody>\n",
       "    <tr>\n",
       "      <th>7</th>\n",
       "      <td>2015-06-02 11:19:35</td>\n",
       "      <td>2015-06-02 12:36:46</td>\n",
       "      <td>4</td>\n",
       "      <td>11.90</td>\n",
       "      <td>73.84</td>\n",
       "      <td>0 days 01:17:11</td>\n",
       "    </tr>\n",
       "    <tr>\n",
       "      <th>88</th>\n",
       "      <td>2015-06-02 11:20:37</td>\n",
       "      <td>2015-06-02 12:35:21</td>\n",
       "      <td>2</td>\n",
       "      <td>23.76</td>\n",
       "      <td>94.00</td>\n",
       "      <td>0 days 01:14:44</td>\n",
       "    </tr>\n",
       "    <tr>\n",
       "      <th>126</th>\n",
       "      <td>2015-06-02 11:21:03</td>\n",
       "      <td>2015-06-03 00:00:00</td>\n",
       "      <td>3</td>\n",
       "      <td>1.06</td>\n",
       "      <td>11.16</td>\n",
       "      <td>0 days 12:38:57</td>\n",
       "    </tr>\n",
       "    <tr>\n",
       "      <th>174</th>\n",
       "      <td>2015-06-02 11:21:42</td>\n",
       "      <td>2015-06-02 12:22:51</td>\n",
       "      <td>1</td>\n",
       "      <td>6.65</td>\n",
       "      <td>45.96</td>\n",
       "      <td>0 days 01:01:09</td>\n",
       "    </tr>\n",
       "    <tr>\n",
       "      <th>246</th>\n",
       "      <td>2015-06-02 11:19:46</td>\n",
       "      <td>2015-06-02 12:26:33</td>\n",
       "      <td>1</td>\n",
       "      <td>0.00</td>\n",
       "      <td>3.30</td>\n",
       "      <td>0 days 01:06:47</td>\n",
       "    </tr>\n",
       "    <tr>\n",
       "      <th>...</th>\n",
       "      <td>...</td>\n",
       "      <td>...</td>\n",
       "      <td>...</td>\n",
       "      <td>...</td>\n",
       "      <td>...</td>\n",
       "      <td>...</td>\n",
       "    </tr>\n",
       "    <tr>\n",
       "      <th>7907</th>\n",
       "      <td>2015-06-04 15:23:01</td>\n",
       "      <td>2015-06-04 16:30:03</td>\n",
       "      <td>1</td>\n",
       "      <td>26.60</td>\n",
       "      <td>96.84</td>\n",
       "      <td>0 days 01:07:02</td>\n",
       "    </tr>\n",
       "    <tr>\n",
       "      <th>8042</th>\n",
       "      <td>2015-06-06 16:53:20</td>\n",
       "      <td>2015-06-06 17:54:20</td>\n",
       "      <td>1</td>\n",
       "      <td>17.98</td>\n",
       "      <td>58.34</td>\n",
       "      <td>0 days 01:01:00</td>\n",
       "    </tr>\n",
       "    <tr>\n",
       "      <th>8171</th>\n",
       "      <td>2015-06-06 16:53:33</td>\n",
       "      <td>2015-06-06 18:01:48</td>\n",
       "      <td>1</td>\n",
       "      <td>18.01</td>\n",
       "      <td>58.34</td>\n",
       "      <td>0 days 01:08:15</td>\n",
       "    </tr>\n",
       "    <tr>\n",
       "      <th>8201</th>\n",
       "      <td>2015-06-06 16:53:56</td>\n",
       "      <td>2015-06-06 17:54:22</td>\n",
       "      <td>1</td>\n",
       "      <td>17.36</td>\n",
       "      <td>69.00</td>\n",
       "      <td>0 days 01:00:26</td>\n",
       "    </tr>\n",
       "    <tr>\n",
       "      <th>8513</th>\n",
       "      <td>2015-06-01 00:04:50</td>\n",
       "      <td>2015-06-01 01:31:44</td>\n",
       "      <td>1</td>\n",
       "      <td>60.30</td>\n",
       "      <td>160.05</td>\n",
       "      <td>0 days 01:26:54</td>\n",
       "    </tr>\n",
       "  </tbody>\n",
       "</table>\n",
       "<p>170 rows × 6 columns</p>\n",
       "</div>"
      ],
      "text/plain": [
       "     tpep_pickup_datetime tpep_dropoff_datetime  passenger_count  \\\n",
       "7     2015-06-02 11:19:35   2015-06-02 12:36:46                4   \n",
       "88    2015-06-02 11:20:37   2015-06-02 12:35:21                2   \n",
       "126   2015-06-02 11:21:03   2015-06-03 00:00:00                3   \n",
       "174   2015-06-02 11:21:42   2015-06-02 12:22:51                1   \n",
       "246   2015-06-02 11:19:46   2015-06-02 12:26:33                1   \n",
       "...                   ...                   ...              ...   \n",
       "7907  2015-06-04 15:23:01   2015-06-04 16:30:03                1   \n",
       "8042  2015-06-06 16:53:20   2015-06-06 17:54:20                1   \n",
       "8171  2015-06-06 16:53:33   2015-06-06 18:01:48                1   \n",
       "8201  2015-06-06 16:53:56   2015-06-06 17:54:22                1   \n",
       "8513  2015-06-01 00:04:50   2015-06-01 01:31:44                1   \n",
       "\n",
       "      trip_distance  total_amount       trip_time  \n",
       "7             11.90         73.84 0 days 01:17:11  \n",
       "88            23.76         94.00 0 days 01:14:44  \n",
       "126            1.06         11.16 0 days 12:38:57  \n",
       "174            6.65         45.96 0 days 01:01:09  \n",
       "246            0.00          3.30 0 days 01:06:47  \n",
       "...             ...           ...             ...  \n",
       "7907          26.60         96.84 0 days 01:07:02  \n",
       "8042          17.98         58.34 0 days 01:01:00  \n",
       "8171          18.01         58.34 0 days 01:08:15  \n",
       "8201          17.36         69.00 0 days 01:00:26  \n",
       "8513          60.30        160.05 0 days 01:26:54  \n",
       "\n",
       "[170 rows x 6 columns]"
      ]
     },
     "execution_count": 136,
     "metadata": {},
     "output_type": "execute_result"
    }
   ],
   "source": [
    "# we can use human-readable strings for our comparison\n",
    "\n",
    "df.loc[   df['trip_time'] > '1 hour'   ]"
   ]
  },
  {
   "cell_type": "code",
   "execution_count": 138,
   "id": "06ed0dcc",
   "metadata": {},
   "outputs": [
    {
     "ename": "TypeError",
     "evalue": "Invalid comparison between dtype=timedelta64[ns] and str",
     "output_type": "error",
     "traceback": [
      "\u001b[0;31m---------------------------------------------------------------------------\u001b[0m",
      "\u001b[0;31mKeyError\u001b[0m                                  Traceback (most recent call last)",
      "File \u001b[0;32m/usr/lib/python3/dist-packages/pandas/_libs/tslibs/timedeltas.pyx:732\u001b[0m, in \u001b[0;36mpandas._libs.tslibs.timedeltas.parse_timedelta_unit\u001b[0;34m()\u001b[0m\n",
      "\u001b[0;31mKeyError\u001b[0m: 'fortnight'",
      "\nDuring handling of the above exception, another exception occurred:\n",
      "\u001b[0;31mValueError\u001b[0m                                Traceback (most recent call last)",
      "File \u001b[0;32m/usr/lib/python3/dist-packages/pandas/core/arrays/datetimelike.py:528\u001b[0m, in \u001b[0;36mDatetimeLikeArrayMixin._validate_comparison_value\u001b[0;34m(self, other)\u001b[0m\n\u001b[1;32m    526\u001b[0m \u001b[38;5;28;01mtry\u001b[39;00m:\n\u001b[1;32m    527\u001b[0m     \u001b[38;5;66;03m# GH#18435 strings get a pass from tzawareness compat\u001b[39;00m\n\u001b[0;32m--> 528\u001b[0m     other \u001b[38;5;241m=\u001b[39m \u001b[38;5;28;43mself\u001b[39;49m\u001b[38;5;241;43m.\u001b[39;49m\u001b[43m_scalar_from_string\u001b[49m\u001b[43m(\u001b[49m\u001b[43mother\u001b[49m\u001b[43m)\u001b[49m\n\u001b[1;32m    529\u001b[0m \u001b[38;5;28;01mexcept\u001b[39;00m (\u001b[38;5;167;01mValueError\u001b[39;00m, IncompatibleFrequency):\n\u001b[1;32m    530\u001b[0m     \u001b[38;5;66;03m# failed to parse as Timestamp/Timedelta/Period\u001b[39;00m\n",
      "File \u001b[0;32m/usr/lib/python3/dist-packages/pandas/core/arrays/timedeltas.py:329\u001b[0m, in \u001b[0;36mTimedeltaArray._scalar_from_string\u001b[0;34m(self, value)\u001b[0m\n\u001b[1;32m    328\u001b[0m \u001b[38;5;28;01mdef\u001b[39;00m \u001b[38;5;21m_scalar_from_string\u001b[39m(\u001b[38;5;28mself\u001b[39m, value) \u001b[38;5;241m-\u001b[39m\u001b[38;5;241m>\u001b[39m Timedelta \u001b[38;5;241m|\u001b[39m NaTType:\n\u001b[0;32m--> 329\u001b[0m     \u001b[38;5;28;01mreturn\u001b[39;00m \u001b[43mTimedelta\u001b[49m\u001b[43m(\u001b[49m\u001b[43mvalue\u001b[49m\u001b[43m)\u001b[49m\n",
      "File \u001b[0;32m/usr/lib/python3/dist-packages/pandas/_libs/tslibs/timedeltas.pyx:1844\u001b[0m, in \u001b[0;36mpandas._libs.tslibs.timedeltas.Timedelta.__new__\u001b[0;34m()\u001b[0m\n",
      "File \u001b[0;32m/usr/lib/python3/dist-packages/pandas/_libs/tslibs/timedeltas.pyx:644\u001b[0m, in \u001b[0;36mpandas._libs.tslibs.timedeltas.parse_timedelta_string\u001b[0;34m()\u001b[0m\n",
      "File \u001b[0;32m/usr/lib/python3/dist-packages/pandas/_libs/tslibs/timedeltas.pyx:697\u001b[0m, in \u001b[0;36mpandas._libs.tslibs.timedeltas.timedelta_from_spec\u001b[0;34m()\u001b[0m\n",
      "File \u001b[0;32m/usr/lib/python3/dist-packages/pandas/_libs/tslibs/timedeltas.pyx:734\u001b[0m, in \u001b[0;36mpandas._libs.tslibs.timedeltas.parse_timedelta_unit\u001b[0;34m()\u001b[0m\n",
      "\u001b[0;31mValueError\u001b[0m: invalid unit abbreviation: fortnight",
      "\nDuring handling of the above exception, another exception occurred:\n",
      "\u001b[0;31mInvalidComparison\u001b[0m                         Traceback (most recent call last)",
      "File \u001b[0;32m/usr/lib/python3/dist-packages/pandas/core/arrays/datetimelike.py:983\u001b[0m, in \u001b[0;36mDatetimeLikeArrayMixin._cmp_method\u001b[0;34m(self, other, op)\u001b[0m\n\u001b[1;32m    982\u001b[0m \u001b[38;5;28;01mtry\u001b[39;00m:\n\u001b[0;32m--> 983\u001b[0m     other \u001b[38;5;241m=\u001b[39m \u001b[38;5;28;43mself\u001b[39;49m\u001b[38;5;241;43m.\u001b[39;49m\u001b[43m_validate_comparison_value\u001b[49m\u001b[43m(\u001b[49m\u001b[43mother\u001b[49m\u001b[43m)\u001b[49m\n\u001b[1;32m    984\u001b[0m \u001b[38;5;28;01mexcept\u001b[39;00m InvalidComparison:\n",
      "File \u001b[0;32m/usr/lib/python3/dist-packages/pandas/core/arrays/datetimelike.py:531\u001b[0m, in \u001b[0;36mDatetimeLikeArrayMixin._validate_comparison_value\u001b[0;34m(self, other)\u001b[0m\n\u001b[1;32m    529\u001b[0m     \u001b[38;5;28;01mexcept\u001b[39;00m (\u001b[38;5;167;01mValueError\u001b[39;00m, IncompatibleFrequency):\n\u001b[1;32m    530\u001b[0m         \u001b[38;5;66;03m# failed to parse as Timestamp/Timedelta/Period\u001b[39;00m\n\u001b[0;32m--> 531\u001b[0m         \u001b[38;5;28;01mraise\u001b[39;00m InvalidComparison(other)\n\u001b[1;32m    533\u001b[0m \u001b[38;5;28;01mif\u001b[39;00m \u001b[38;5;28misinstance\u001b[39m(other, \u001b[38;5;28mself\u001b[39m\u001b[38;5;241m.\u001b[39m_recognized_scalars) \u001b[38;5;129;01mor\u001b[39;00m other \u001b[38;5;129;01mis\u001b[39;00m NaT:\n",
      "\u001b[0;31mInvalidComparison\u001b[0m: 1 fortnight",
      "\nDuring handling of the above exception, another exception occurred:\n",
      "\u001b[0;31mTypeError\u001b[0m                                 Traceback (most recent call last)",
      "Cell \u001b[0;32mIn[138], line 1\u001b[0m\n\u001b[0;32m----> 1\u001b[0m df\u001b[38;5;241m.\u001b[39mloc[   \u001b[43mdf\u001b[49m\u001b[43m[\u001b[49m\u001b[38;5;124;43m'\u001b[39;49m\u001b[38;5;124;43mtrip_time\u001b[39;49m\u001b[38;5;124;43m'\u001b[39;49m\u001b[43m]\u001b[49m\u001b[43m \u001b[49m\u001b[38;5;241;43m>\u001b[39;49m\u001b[43m \u001b[49m\u001b[38;5;124;43m'\u001b[39;49m\u001b[38;5;124;43m1 fortnight\u001b[39;49m\u001b[38;5;124;43m'\u001b[39;49m   ]\n",
      "File \u001b[0;32m/usr/lib/python3/dist-packages/pandas/core/ops/common.py:76\u001b[0m, in \u001b[0;36m_unpack_zerodim_and_defer.<locals>.new_method\u001b[0;34m(self, other)\u001b[0m\n\u001b[1;32m     72\u001b[0m             \u001b[38;5;28;01mreturn\u001b[39;00m \u001b[38;5;28mNotImplemented\u001b[39m\n\u001b[1;32m     74\u001b[0m other \u001b[38;5;241m=\u001b[39m item_from_zerodim(other)\n\u001b[0;32m---> 76\u001b[0m \u001b[38;5;28;01mreturn\u001b[39;00m \u001b[43mmethod\u001b[49m\u001b[43m(\u001b[49m\u001b[38;5;28;43mself\u001b[39;49m\u001b[43m,\u001b[49m\u001b[43m \u001b[49m\u001b[43mother\u001b[49m\u001b[43m)\u001b[49m\n",
      "File \u001b[0;32m/usr/lib/python3/dist-packages/pandas/core/arraylike.py:56\u001b[0m, in \u001b[0;36mOpsMixin.__gt__\u001b[0;34m(self, other)\u001b[0m\n\u001b[1;32m     54\u001b[0m \u001b[38;5;129m@unpack_zerodim_and_defer\u001b[39m(\u001b[38;5;124m\"\u001b[39m\u001b[38;5;124m__gt__\u001b[39m\u001b[38;5;124m\"\u001b[39m)\n\u001b[1;32m     55\u001b[0m \u001b[38;5;28;01mdef\u001b[39;00m \u001b[38;5;21m__gt__\u001b[39m(\u001b[38;5;28mself\u001b[39m, other):\n\u001b[0;32m---> 56\u001b[0m     \u001b[38;5;28;01mreturn\u001b[39;00m \u001b[38;5;28;43mself\u001b[39;49m\u001b[38;5;241;43m.\u001b[39;49m\u001b[43m_cmp_method\u001b[49m\u001b[43m(\u001b[49m\u001b[43mother\u001b[49m\u001b[43m,\u001b[49m\u001b[43m \u001b[49m\u001b[43moperator\u001b[49m\u001b[38;5;241;43m.\u001b[39;49m\u001b[43mgt\u001b[49m\u001b[43m)\u001b[49m\n",
      "File \u001b[0;32m/usr/lib/python3/dist-packages/pandas/core/series.py:6119\u001b[0m, in \u001b[0;36mSeries._cmp_method\u001b[0;34m(self, other, op)\u001b[0m\n\u001b[1;32m   6116\u001b[0m lvalues \u001b[38;5;241m=\u001b[39m \u001b[38;5;28mself\u001b[39m\u001b[38;5;241m.\u001b[39m_values\n\u001b[1;32m   6117\u001b[0m rvalues \u001b[38;5;241m=\u001b[39m extract_array(other, extract_numpy\u001b[38;5;241m=\u001b[39m\u001b[38;5;28;01mTrue\u001b[39;00m, extract_range\u001b[38;5;241m=\u001b[39m\u001b[38;5;28;01mTrue\u001b[39;00m)\n\u001b[0;32m-> 6119\u001b[0m res_values \u001b[38;5;241m=\u001b[39m \u001b[43mops\u001b[49m\u001b[38;5;241;43m.\u001b[39;49m\u001b[43mcomparison_op\u001b[49m\u001b[43m(\u001b[49m\u001b[43mlvalues\u001b[49m\u001b[43m,\u001b[49m\u001b[43m \u001b[49m\u001b[43mrvalues\u001b[49m\u001b[43m,\u001b[49m\u001b[43m \u001b[49m\u001b[43mop\u001b[49m\u001b[43m)\u001b[49m\n\u001b[1;32m   6121\u001b[0m \u001b[38;5;28;01mreturn\u001b[39;00m \u001b[38;5;28mself\u001b[39m\u001b[38;5;241m.\u001b[39m_construct_result(res_values, name\u001b[38;5;241m=\u001b[39mres_name)\n",
      "File \u001b[0;32m/usr/lib/python3/dist-packages/pandas/core/ops/array_ops.py:330\u001b[0m, in \u001b[0;36mcomparison_op\u001b[0;34m(left, right, op)\u001b[0m\n\u001b[1;32m    321\u001b[0m         \u001b[38;5;28;01mraise\u001b[39;00m \u001b[38;5;167;01mValueError\u001b[39;00m(\n\u001b[1;32m    322\u001b[0m             \u001b[38;5;124m\"\u001b[39m\u001b[38;5;124mLengths must match to compare\u001b[39m\u001b[38;5;124m\"\u001b[39m, lvalues\u001b[38;5;241m.\u001b[39mshape, rvalues\u001b[38;5;241m.\u001b[39mshape\n\u001b[1;32m    323\u001b[0m         )\n\u001b[1;32m    325\u001b[0m \u001b[38;5;28;01mif\u001b[39;00m should_extension_dispatch(lvalues, rvalues) \u001b[38;5;129;01mor\u001b[39;00m (\n\u001b[1;32m    326\u001b[0m     (\u001b[38;5;28misinstance\u001b[39m(rvalues, (Timedelta, BaseOffset, Timestamp)) \u001b[38;5;129;01mor\u001b[39;00m right \u001b[38;5;129;01mis\u001b[39;00m NaT)\n\u001b[1;32m    327\u001b[0m     \u001b[38;5;129;01mand\u001b[39;00m lvalues\u001b[38;5;241m.\u001b[39mdtype \u001b[38;5;241m!=\u001b[39m \u001b[38;5;28mobject\u001b[39m\n\u001b[1;32m    328\u001b[0m ):\n\u001b[1;32m    329\u001b[0m     \u001b[38;5;66;03m# Call the method on lvalues\u001b[39;00m\n\u001b[0;32m--> 330\u001b[0m     res_values \u001b[38;5;241m=\u001b[39m \u001b[43mop\u001b[49m\u001b[43m(\u001b[49m\u001b[43mlvalues\u001b[49m\u001b[43m,\u001b[49m\u001b[43m \u001b[49m\u001b[43mrvalues\u001b[49m\u001b[43m)\u001b[49m\n\u001b[1;32m    332\u001b[0m \u001b[38;5;28;01melif\u001b[39;00m is_scalar(rvalues) \u001b[38;5;129;01mand\u001b[39;00m isna(rvalues):  \u001b[38;5;66;03m# TODO: but not pd.NA?\u001b[39;00m\n\u001b[1;32m    333\u001b[0m     \u001b[38;5;66;03m# numpy does not like comparisons vs None\u001b[39;00m\n\u001b[1;32m    334\u001b[0m     \u001b[38;5;28;01mif\u001b[39;00m op \u001b[38;5;129;01mis\u001b[39;00m operator\u001b[38;5;241m.\u001b[39mne:\n",
      "File \u001b[0;32m/usr/lib/python3/dist-packages/pandas/core/ops/common.py:76\u001b[0m, in \u001b[0;36m_unpack_zerodim_and_defer.<locals>.new_method\u001b[0;34m(self, other)\u001b[0m\n\u001b[1;32m     72\u001b[0m             \u001b[38;5;28;01mreturn\u001b[39;00m \u001b[38;5;28mNotImplemented\u001b[39m\n\u001b[1;32m     74\u001b[0m other \u001b[38;5;241m=\u001b[39m item_from_zerodim(other)\n\u001b[0;32m---> 76\u001b[0m \u001b[38;5;28;01mreturn\u001b[39;00m \u001b[43mmethod\u001b[49m\u001b[43m(\u001b[49m\u001b[38;5;28;43mself\u001b[39;49m\u001b[43m,\u001b[49m\u001b[43m \u001b[49m\u001b[43mother\u001b[49m\u001b[43m)\u001b[49m\n",
      "File \u001b[0;32m/usr/lib/python3/dist-packages/pandas/core/arraylike.py:56\u001b[0m, in \u001b[0;36mOpsMixin.__gt__\u001b[0;34m(self, other)\u001b[0m\n\u001b[1;32m     54\u001b[0m \u001b[38;5;129m@unpack_zerodim_and_defer\u001b[39m(\u001b[38;5;124m\"\u001b[39m\u001b[38;5;124m__gt__\u001b[39m\u001b[38;5;124m\"\u001b[39m)\n\u001b[1;32m     55\u001b[0m \u001b[38;5;28;01mdef\u001b[39;00m \u001b[38;5;21m__gt__\u001b[39m(\u001b[38;5;28mself\u001b[39m, other):\n\u001b[0;32m---> 56\u001b[0m     \u001b[38;5;28;01mreturn\u001b[39;00m \u001b[38;5;28;43mself\u001b[39;49m\u001b[38;5;241;43m.\u001b[39;49m\u001b[43m_cmp_method\u001b[49m\u001b[43m(\u001b[49m\u001b[43mother\u001b[49m\u001b[43m,\u001b[49m\u001b[43m \u001b[49m\u001b[43moperator\u001b[49m\u001b[38;5;241;43m.\u001b[39;49m\u001b[43mgt\u001b[49m\u001b[43m)\u001b[49m\n",
      "File \u001b[0;32m/usr/lib/python3/dist-packages/pandas/core/arrays/datetimelike.py:985\u001b[0m, in \u001b[0;36mDatetimeLikeArrayMixin._cmp_method\u001b[0;34m(self, other, op)\u001b[0m\n\u001b[1;32m    983\u001b[0m     other \u001b[38;5;241m=\u001b[39m \u001b[38;5;28mself\u001b[39m\u001b[38;5;241m.\u001b[39m_validate_comparison_value(other)\n\u001b[1;32m    984\u001b[0m \u001b[38;5;28;01mexcept\u001b[39;00m InvalidComparison:\n\u001b[0;32m--> 985\u001b[0m     \u001b[38;5;28;01mreturn\u001b[39;00m \u001b[43minvalid_comparison\u001b[49m\u001b[43m(\u001b[49m\u001b[38;5;28;43mself\u001b[39;49m\u001b[43m,\u001b[49m\u001b[43m \u001b[49m\u001b[43mother\u001b[49m\u001b[43m,\u001b[49m\u001b[43m \u001b[49m\u001b[43mop\u001b[49m\u001b[43m)\u001b[49m\n\u001b[1;32m    987\u001b[0m dtype \u001b[38;5;241m=\u001b[39m \u001b[38;5;28mgetattr\u001b[39m(other, \u001b[38;5;124m\"\u001b[39m\u001b[38;5;124mdtype\u001b[39m\u001b[38;5;124m\"\u001b[39m, \u001b[38;5;28;01mNone\u001b[39;00m)\n\u001b[1;32m    988\u001b[0m \u001b[38;5;28;01mif\u001b[39;00m is_object_dtype(dtype):\n\u001b[1;32m    989\u001b[0m     \u001b[38;5;66;03m# We have to use comp_method_OBJECT_ARRAY instead of numpy\u001b[39;00m\n\u001b[1;32m    990\u001b[0m     \u001b[38;5;66;03m#  comparison otherwise it would raise when comparing to None\u001b[39;00m\n",
      "File \u001b[0;32m/usr/lib/python3/dist-packages/pandas/core/ops/invalid.py:40\u001b[0m, in \u001b[0;36minvalid_comparison\u001b[0;34m(left, right, op)\u001b[0m\n\u001b[1;32m     38\u001b[0m \u001b[38;5;28;01melse\u001b[39;00m:\n\u001b[1;32m     39\u001b[0m     typ \u001b[38;5;241m=\u001b[39m \u001b[38;5;28mtype\u001b[39m(right)\u001b[38;5;241m.\u001b[39m\u001b[38;5;18m__name__\u001b[39m\n\u001b[0;32m---> 40\u001b[0m     \u001b[38;5;28;01mraise\u001b[39;00m \u001b[38;5;167;01mTypeError\u001b[39;00m(\u001b[38;5;124mf\u001b[39m\u001b[38;5;124m\"\u001b[39m\u001b[38;5;124mInvalid comparison between dtype=\u001b[39m\u001b[38;5;132;01m{\u001b[39;00mleft\u001b[38;5;241m.\u001b[39mdtype\u001b[38;5;132;01m}\u001b[39;00m\u001b[38;5;124m and \u001b[39m\u001b[38;5;132;01m{\u001b[39;00mtyp\u001b[38;5;132;01m}\u001b[39;00m\u001b[38;5;124m\"\u001b[39m)\n\u001b[1;32m     41\u001b[0m \u001b[38;5;28;01mreturn\u001b[39;00m res_values\n",
      "\u001b[0;31mTypeError\u001b[0m: Invalid comparison between dtype=timedelta64[ns] and str"
     ]
    }
   ],
   "source": [
    "df.loc[   df['trip_time'] > '1 fortnight'   ]"
   ]
  },
  {
   "cell_type": "markdown",
   "id": "3cda4616",
   "metadata": {},
   "source": [
    "# Exercise: Trip times\n",
    "\n",
    "1. Define `trip_time` to be the difference between dropoff and pickup times.\n",
    "2. What were the shortest and longest trips? How much did people pay for them?\n",
    "3. How many trips were longer than 4 hours?  What was the average cost?\n",
    "4. How many trips were shorter than 1 minute? What was the average cost?"
   ]
  },
  {
   "cell_type": "code",
   "execution_count": 139,
   "id": "1840767c",
   "metadata": {},
   "outputs": [
    {
     "data": {
      "text/html": [
       "<div>\n",
       "<style scoped>\n",
       "    .dataframe tbody tr th:only-of-type {\n",
       "        vertical-align: middle;\n",
       "    }\n",
       "\n",
       "    .dataframe tbody tr th {\n",
       "        vertical-align: top;\n",
       "    }\n",
       "\n",
       "    .dataframe thead th {\n",
       "        text-align: right;\n",
       "    }\n",
       "</style>\n",
       "<table border=\"1\" class=\"dataframe\">\n",
       "  <thead>\n",
       "    <tr style=\"text-align: right;\">\n",
       "      <th></th>\n",
       "      <th>tpep_pickup_datetime</th>\n",
       "      <th>tpep_dropoff_datetime</th>\n",
       "      <th>passenger_count</th>\n",
       "      <th>trip_distance</th>\n",
       "      <th>total_amount</th>\n",
       "      <th>trip_time</th>\n",
       "    </tr>\n",
       "  </thead>\n",
       "  <tbody>\n",
       "    <tr>\n",
       "      <th>0</th>\n",
       "      <td>2015-06-02 11:19:29</td>\n",
       "      <td>2015-06-02 11:47:52</td>\n",
       "      <td>1</td>\n",
       "      <td>1.63</td>\n",
       "      <td>17.80</td>\n",
       "      <td>0 days 00:28:23</td>\n",
       "    </tr>\n",
       "    <tr>\n",
       "      <th>1</th>\n",
       "      <td>2015-06-02 11:19:30</td>\n",
       "      <td>2015-06-02 11:27:56</td>\n",
       "      <td>1</td>\n",
       "      <td>0.46</td>\n",
       "      <td>8.30</td>\n",
       "      <td>0 days 00:08:26</td>\n",
       "    </tr>\n",
       "    <tr>\n",
       "      <th>2</th>\n",
       "      <td>2015-06-02 11:19:31</td>\n",
       "      <td>2015-06-02 11:30:30</td>\n",
       "      <td>2</td>\n",
       "      <td>0.87</td>\n",
       "      <td>11.00</td>\n",
       "      <td>0 days 00:10:59</td>\n",
       "    </tr>\n",
       "    <tr>\n",
       "      <th>3</th>\n",
       "      <td>2015-06-02 11:19:31</td>\n",
       "      <td>2015-06-02 11:39:02</td>\n",
       "      <td>1</td>\n",
       "      <td>2.13</td>\n",
       "      <td>17.16</td>\n",
       "      <td>0 days 00:19:31</td>\n",
       "    </tr>\n",
       "    <tr>\n",
       "      <th>4</th>\n",
       "      <td>2015-06-02 11:19:32</td>\n",
       "      <td>2015-06-02 11:32:49</td>\n",
       "      <td>1</td>\n",
       "      <td>1.40</td>\n",
       "      <td>10.30</td>\n",
       "      <td>0 days 00:13:17</td>\n",
       "    </tr>\n",
       "  </tbody>\n",
       "</table>\n",
       "</div>"
      ],
      "text/plain": [
       "  tpep_pickup_datetime tpep_dropoff_datetime  passenger_count  trip_distance  \\\n",
       "0  2015-06-02 11:19:29   2015-06-02 11:47:52                1           1.63   \n",
       "1  2015-06-02 11:19:30   2015-06-02 11:27:56                1           0.46   \n",
       "2  2015-06-02 11:19:31   2015-06-02 11:30:30                2           0.87   \n",
       "3  2015-06-02 11:19:31   2015-06-02 11:39:02                1           2.13   \n",
       "4  2015-06-02 11:19:32   2015-06-02 11:32:49                1           1.40   \n",
       "\n",
       "   total_amount       trip_time  \n",
       "0         17.80 0 days 00:28:23  \n",
       "1          8.30 0 days 00:08:26  \n",
       "2         11.00 0 days 00:10:59  \n",
       "3         17.16 0 days 00:19:31  \n",
       "4         10.30 0 days 00:13:17  "
      ]
     },
     "execution_count": 139,
     "metadata": {},
     "output_type": "execute_result"
    }
   ],
   "source": [
    "df['trip_time'] = df['tpep_dropoff_datetime'] - df['tpep_pickup_datetime']\n",
    "df.head()"
   ]
  },
  {
   "cell_type": "code",
   "execution_count": 140,
   "id": "94da8ef9",
   "metadata": {
    "scrolled": true
   },
   "outputs": [
    {
     "data": {
      "text/plain": [
       "count                         9999\n",
       "mean     0 days 00:16:42.781778177\n",
       "std      0 days 00:15:35.893200210\n",
       "min                0 days 00:00:00\n",
       "25%                0 days 00:07:33\n",
       "50%                0 days 00:12:59\n",
       "75%                0 days 00:21:24\n",
       "max                0 days 12:38:57\n",
       "Name: trip_time, dtype: object"
      ]
     },
     "execution_count": 140,
     "metadata": {},
     "output_type": "execute_result"
    }
   ],
   "source": [
    "# 2. What were the shortest and longest trips? How much did people pay for them?\n",
    "\n",
    "df['trip_time'].describe()\n"
   ]
  },
  {
   "cell_type": "code",
   "execution_count": 146,
   "id": "a726dbe5",
   "metadata": {},
   "outputs": [
    {
     "data": {
      "text/plain": [
       "13.187692307692313"
      ]
     },
     "execution_count": 146,
     "metadata": {},
     "output_type": "execute_result"
    }
   ],
   "source": [
    "df.loc[ \n",
    "    df['trip_time'] == df['trip_time'].min(),\n",
    "    'total_amount'\n",
    "].mean()"
   ]
  },
  {
   "cell_type": "code",
   "execution_count": 147,
   "id": "6fbb95ec",
   "metadata": {},
   "outputs": [
    {
     "data": {
      "text/plain": [
       "126    11.16\n",
       "Name: total_amount, dtype: float64"
      ]
     },
     "execution_count": 147,
     "metadata": {},
     "output_type": "execute_result"
    }
   ],
   "source": [
    "df.loc[ \n",
    "    df['trip_time'] == df['trip_time'].max(),\n",
    "    'total_amount'\n",
    "]"
   ]
  },
  {
   "cell_type": "code",
   "execution_count": 150,
   "id": "b92deb56",
   "metadata": {},
   "outputs": [
    {
     "data": {
      "text/plain": [
       "126     11.16\n",
       "297      2.30\n",
       "3771     3.30\n",
       "3919     3.30\n",
       "4063    12.30\n",
       "4103    15.30\n",
       "5247    15.30\n",
       "5798     3.80\n",
       "7716    22.80\n",
       "8168    58.34\n",
       "8625     3.80\n",
       "9016     6.30\n",
       "9693    18.80\n",
       "9761     5.80\n",
       "Name: total_amount, dtype: float64"
      ]
     },
     "execution_count": 150,
     "metadata": {},
     "output_type": "execute_result"
    }
   ],
   "source": [
    "df.loc[ \n",
    "    df['trip_time'].isin([df['trip_time'].max(), df['trip_time'].min()]),\n",
    "    'total_amount'\n",
    "]"
   ]
  },
  {
   "cell_type": "code",
   "execution_count": 153,
   "id": "a4e8c734",
   "metadata": {},
   "outputs": [
    {
     "data": {
      "text/plain": [
       "126     11.16\n",
       "297      2.30\n",
       "3771     3.30\n",
       "3919     3.30\n",
       "4063    12.30\n",
       "4103    15.30\n",
       "5247    15.30\n",
       "5798     3.80\n",
       "7716    22.80\n",
       "8168    58.34\n",
       "8625     3.80\n",
       "9016     6.30\n",
       "9693    18.80\n",
       "9761     5.80\n",
       "Name: total_amount, dtype: float64"
      ]
     },
     "execution_count": 153,
     "metadata": {},
     "output_type": "execute_result"
    }
   ],
   "source": [
    "df.loc[ \n",
    "    ((df['trip_time'] == df['trip_time'].max()) |\n",
    "     (df['trip_time'] == df['trip_time'].min()) )  ,\n",
    "\n",
    "    'total_amount'\n",
    "]"
   ]
  },
  {
   "cell_type": "code",
   "execution_count": 156,
   "id": "22984ac8",
   "metadata": {},
   "outputs": [
    {
     "data": {
      "text/plain": [
       "47.14"
      ]
     },
     "execution_count": 156,
     "metadata": {},
     "output_type": "execute_result"
    }
   ],
   "source": [
    "# 3. How many trips were longer than 4 hours?  What was the average cost?\n",
    "\n",
    "df.loc[\n",
    "    df['trip_time'] > '4 hours',\n",
    "    'total_amount'\n",
    "].mean()"
   ]
  },
  {
   "cell_type": "code",
   "execution_count": 158,
   "id": "8d6d6973",
   "metadata": {},
   "outputs": [
    {
     "data": {
      "text/plain": [
       "31.93892857142858"
      ]
     },
     "execution_count": 158,
     "metadata": {},
     "output_type": "execute_result"
    }
   ],
   "source": [
    "# 4. How many trips were shorter than 1 minute? What was the average cost?\n",
    "\n",
    "df.loc[\n",
    "    df['trip_time'] < '1 minute',\n",
    "    'total_amount'\n",
    "].mean()"
   ]
  },
  {
   "cell_type": "markdown",
   "id": "07868a50",
   "metadata": {},
   "source": [
    "# Datetime index\n",
    "\n"
   ]
  },
  {
   "cell_type": "code",
   "execution_count": 160,
   "id": "62b76be8",
   "metadata": {},
   "outputs": [
    {
     "data": {
      "text/html": [
       "<div>\n",
       "<style scoped>\n",
       "    .dataframe tbody tr th:only-of-type {\n",
       "        vertical-align: middle;\n",
       "    }\n",
       "\n",
       "    .dataframe tbody tr th {\n",
       "        vertical-align: top;\n",
       "    }\n",
       "\n",
       "    .dataframe thead th {\n",
       "        text-align: right;\n",
       "    }\n",
       "</style>\n",
       "<table border=\"1\" class=\"dataframe\">\n",
       "  <thead>\n",
       "    <tr style=\"text-align: right;\">\n",
       "      <th></th>\n",
       "      <th>tpep_dropoff_datetime</th>\n",
       "      <th>passenger_count</th>\n",
       "      <th>trip_distance</th>\n",
       "      <th>total_amount</th>\n",
       "      <th>trip_time</th>\n",
       "    </tr>\n",
       "    <tr>\n",
       "      <th>tpep_pickup_datetime</th>\n",
       "      <th></th>\n",
       "      <th></th>\n",
       "      <th></th>\n",
       "      <th></th>\n",
       "      <th></th>\n",
       "    </tr>\n",
       "  </thead>\n",
       "  <tbody>\n",
       "    <tr>\n",
       "      <th>2015-06-02 11:19:29</th>\n",
       "      <td>2015-06-02 11:47:52</td>\n",
       "      <td>1</td>\n",
       "      <td>1.63</td>\n",
       "      <td>17.80</td>\n",
       "      <td>0 days 00:28:23</td>\n",
       "    </tr>\n",
       "    <tr>\n",
       "      <th>2015-06-02 11:19:30</th>\n",
       "      <td>2015-06-02 11:27:56</td>\n",
       "      <td>1</td>\n",
       "      <td>0.46</td>\n",
       "      <td>8.30</td>\n",
       "      <td>0 days 00:08:26</td>\n",
       "    </tr>\n",
       "    <tr>\n",
       "      <th>2015-06-02 11:19:31</th>\n",
       "      <td>2015-06-02 11:30:30</td>\n",
       "      <td>2</td>\n",
       "      <td>0.87</td>\n",
       "      <td>11.00</td>\n",
       "      <td>0 days 00:10:59</td>\n",
       "    </tr>\n",
       "    <tr>\n",
       "      <th>2015-06-02 11:19:31</th>\n",
       "      <td>2015-06-02 11:39:02</td>\n",
       "      <td>1</td>\n",
       "      <td>2.13</td>\n",
       "      <td>17.16</td>\n",
       "      <td>0 days 00:19:31</td>\n",
       "    </tr>\n",
       "    <tr>\n",
       "      <th>2015-06-02 11:19:32</th>\n",
       "      <td>2015-06-02 11:32:49</td>\n",
       "      <td>1</td>\n",
       "      <td>1.40</td>\n",
       "      <td>10.30</td>\n",
       "      <td>0 days 00:13:17</td>\n",
       "    </tr>\n",
       "    <tr>\n",
       "      <th>...</th>\n",
       "      <td>...</td>\n",
       "      <td>...</td>\n",
       "      <td>...</td>\n",
       "      <td>...</td>\n",
       "      <td>...</td>\n",
       "    </tr>\n",
       "    <tr>\n",
       "      <th>2015-06-01 00:12:59</th>\n",
       "      <td>2015-06-01 00:24:18</td>\n",
       "      <td>1</td>\n",
       "      <td>2.70</td>\n",
       "      <td>12.30</td>\n",
       "      <td>0 days 00:11:19</td>\n",
       "    </tr>\n",
       "    <tr>\n",
       "      <th>2015-06-01 00:12:59</th>\n",
       "      <td>2015-06-01 00:28:16</td>\n",
       "      <td>1</td>\n",
       "      <td>4.50</td>\n",
       "      <td>20.30</td>\n",
       "      <td>0 days 00:15:17</td>\n",
       "    </tr>\n",
       "    <tr>\n",
       "      <th>2015-06-01 00:13:00</th>\n",
       "      <td>2015-06-01 00:37:25</td>\n",
       "      <td>1</td>\n",
       "      <td>5.59</td>\n",
       "      <td>22.30</td>\n",
       "      <td>0 days 00:24:25</td>\n",
       "    </tr>\n",
       "    <tr>\n",
       "      <th>2015-06-01 00:13:02</th>\n",
       "      <td>2015-06-01 00:19:10</td>\n",
       "      <td>6</td>\n",
       "      <td>1.54</td>\n",
       "      <td>7.80</td>\n",
       "      <td>0 days 00:06:08</td>\n",
       "    </tr>\n",
       "    <tr>\n",
       "      <th>2015-06-01 00:13:04</th>\n",
       "      <td>2015-06-01 00:36:33</td>\n",
       "      <td>1</td>\n",
       "      <td>5.80</td>\n",
       "      <td>26.75</td>\n",
       "      <td>0 days 00:23:29</td>\n",
       "    </tr>\n",
       "  </tbody>\n",
       "</table>\n",
       "<p>9999 rows × 5 columns</p>\n",
       "</div>"
      ],
      "text/plain": [
       "                     tpep_dropoff_datetime  passenger_count  trip_distance  \\\n",
       "tpep_pickup_datetime                                                         \n",
       "2015-06-02 11:19:29    2015-06-02 11:47:52                1           1.63   \n",
       "2015-06-02 11:19:30    2015-06-02 11:27:56                1           0.46   \n",
       "2015-06-02 11:19:31    2015-06-02 11:30:30                2           0.87   \n",
       "2015-06-02 11:19:31    2015-06-02 11:39:02                1           2.13   \n",
       "2015-06-02 11:19:32    2015-06-02 11:32:49                1           1.40   \n",
       "...                                    ...              ...            ...   \n",
       "2015-06-01 00:12:59    2015-06-01 00:24:18                1           2.70   \n",
       "2015-06-01 00:12:59    2015-06-01 00:28:16                1           4.50   \n",
       "2015-06-01 00:13:00    2015-06-01 00:37:25                1           5.59   \n",
       "2015-06-01 00:13:02    2015-06-01 00:19:10                6           1.54   \n",
       "2015-06-01 00:13:04    2015-06-01 00:36:33                1           5.80   \n",
       "\n",
       "                      total_amount       trip_time  \n",
       "tpep_pickup_datetime                                \n",
       "2015-06-02 11:19:29          17.80 0 days 00:28:23  \n",
       "2015-06-02 11:19:30           8.30 0 days 00:08:26  \n",
       "2015-06-02 11:19:31          11.00 0 days 00:10:59  \n",
       "2015-06-02 11:19:31          17.16 0 days 00:19:31  \n",
       "2015-06-02 11:19:32          10.30 0 days 00:13:17  \n",
       "...                            ...             ...  \n",
       "2015-06-01 00:12:59          12.30 0 days 00:11:19  \n",
       "2015-06-01 00:12:59          20.30 0 days 00:15:17  \n",
       "2015-06-01 00:13:00          22.30 0 days 00:24:25  \n",
       "2015-06-01 00:13:02           7.80 0 days 00:06:08  \n",
       "2015-06-01 00:13:04          26.75 0 days 00:23:29  \n",
       "\n",
       "[9999 rows x 5 columns]"
      ]
     },
     "execution_count": 160,
     "metadata": {},
     "output_type": "execute_result"
    }
   ],
   "source": [
    "# we can use a datetime as an index \n",
    "# \"time series\"\n",
    "\n",
    "df = df.set_index('tpep_pickup_datetime')\n",
    "df"
   ]
  },
  {
   "cell_type": "code",
   "execution_count": 161,
   "id": "50a30f28",
   "metadata": {},
   "outputs": [
    {
     "data": {
      "text/html": [
       "<div>\n",
       "<style scoped>\n",
       "    .dataframe tbody tr th:only-of-type {\n",
       "        vertical-align: middle;\n",
       "    }\n",
       "\n",
       "    .dataframe tbody tr th {\n",
       "        vertical-align: top;\n",
       "    }\n",
       "\n",
       "    .dataframe thead th {\n",
       "        text-align: right;\n",
       "    }\n",
       "</style>\n",
       "<table border=\"1\" class=\"dataframe\">\n",
       "  <thead>\n",
       "    <tr style=\"text-align: right;\">\n",
       "      <th></th>\n",
       "      <th>tpep_dropoff_datetime</th>\n",
       "      <th>passenger_count</th>\n",
       "      <th>trip_distance</th>\n",
       "      <th>total_amount</th>\n",
       "      <th>trip_time</th>\n",
       "    </tr>\n",
       "    <tr>\n",
       "      <th>tpep_pickup_datetime</th>\n",
       "      <th></th>\n",
       "      <th></th>\n",
       "      <th></th>\n",
       "      <th></th>\n",
       "      <th></th>\n",
       "    </tr>\n",
       "  </thead>\n",
       "  <tbody>\n",
       "    <tr>\n",
       "      <th>2015-06-01 00:13:04</th>\n",
       "      <td>2015-06-01 00:30:41</td>\n",
       "      <td>1</td>\n",
       "      <td>6.1</td>\n",
       "      <td>21.30</td>\n",
       "      <td>0 days 00:17:37</td>\n",
       "    </tr>\n",
       "    <tr>\n",
       "      <th>2015-06-01 00:13:04</th>\n",
       "      <td>2015-06-01 00:36:33</td>\n",
       "      <td>1</td>\n",
       "      <td>5.8</td>\n",
       "      <td>26.75</td>\n",
       "      <td>0 days 00:23:29</td>\n",
       "    </tr>\n",
       "  </tbody>\n",
       "</table>\n",
       "</div>"
      ],
      "text/plain": [
       "                     tpep_dropoff_datetime  passenger_count  trip_distance  \\\n",
       "tpep_pickup_datetime                                                         \n",
       "2015-06-01 00:13:04    2015-06-01 00:30:41                1            6.1   \n",
       "2015-06-01 00:13:04    2015-06-01 00:36:33                1            5.8   \n",
       "\n",
       "                      total_amount       trip_time  \n",
       "tpep_pickup_datetime                                \n",
       "2015-06-01 00:13:04          21.30 0 days 00:17:37  \n",
       "2015-06-01 00:13:04          26.75 0 days 00:23:29  "
      ]
     },
     "execution_count": 161,
     "metadata": {},
     "output_type": "execute_result"
    }
   ],
   "source": [
    "df.loc['2015-06-01 00:13:04']"
   ]
  },
  {
   "cell_type": "code",
   "execution_count": 163,
   "id": "d8657975",
   "metadata": {},
   "outputs": [
    {
     "data": {
      "text/html": [
       "<div>\n",
       "<style scoped>\n",
       "    .dataframe tbody tr th:only-of-type {\n",
       "        vertical-align: middle;\n",
       "    }\n",
       "\n",
       "    .dataframe tbody tr th {\n",
       "        vertical-align: top;\n",
       "    }\n",
       "\n",
       "    .dataframe thead th {\n",
       "        text-align: right;\n",
       "    }\n",
       "</style>\n",
       "<table border=\"1\" class=\"dataframe\">\n",
       "  <thead>\n",
       "    <tr style=\"text-align: right;\">\n",
       "      <th></th>\n",
       "      <th>tpep_dropoff_datetime</th>\n",
       "      <th>passenger_count</th>\n",
       "      <th>trip_distance</th>\n",
       "      <th>total_amount</th>\n",
       "      <th>trip_time</th>\n",
       "    </tr>\n",
       "    <tr>\n",
       "      <th>tpep_pickup_datetime</th>\n",
       "      <th></th>\n",
       "      <th></th>\n",
       "      <th></th>\n",
       "      <th></th>\n",
       "      <th></th>\n",
       "    </tr>\n",
       "  </thead>\n",
       "  <tbody>\n",
       "    <tr>\n",
       "      <th>2015-06-01 00:13:00</th>\n",
       "      <td>2015-06-01 00:15:34</td>\n",
       "      <td>1</td>\n",
       "      <td>0.30</td>\n",
       "      <td>5.30</td>\n",
       "      <td>0 days 00:02:34</td>\n",
       "    </tr>\n",
       "    <tr>\n",
       "      <th>2015-06-01 00:13:00</th>\n",
       "      <td>2015-06-01 00:22:16</td>\n",
       "      <td>1</td>\n",
       "      <td>2.50</td>\n",
       "      <td>10.80</td>\n",
       "      <td>0 days 00:09:16</td>\n",
       "    </tr>\n",
       "    <tr>\n",
       "      <th>2015-06-01 00:13:03</th>\n",
       "      <td>2015-06-01 01:00:50</td>\n",
       "      <td>1</td>\n",
       "      <td>19.14</td>\n",
       "      <td>70.01</td>\n",
       "      <td>0 days 00:47:47</td>\n",
       "    </tr>\n",
       "    <tr>\n",
       "      <th>2015-06-01 00:13:05</th>\n",
       "      <td>2015-06-01 00:18:52</td>\n",
       "      <td>1</td>\n",
       "      <td>0.97</td>\n",
       "      <td>7.30</td>\n",
       "      <td>0 days 00:05:47</td>\n",
       "    </tr>\n",
       "    <tr>\n",
       "      <th>2015-06-01 00:13:06</th>\n",
       "      <td>2015-06-01 00:26:26</td>\n",
       "      <td>2</td>\n",
       "      <td>3.90</td>\n",
       "      <td>18.35</td>\n",
       "      <td>0 days 00:13:20</td>\n",
       "    </tr>\n",
       "    <tr>\n",
       "      <th>...</th>\n",
       "      <td>...</td>\n",
       "      <td>...</td>\n",
       "      <td>...</td>\n",
       "      <td>...</td>\n",
       "      <td>...</td>\n",
       "    </tr>\n",
       "    <tr>\n",
       "      <th>2015-06-01 00:13:45</th>\n",
       "      <td>2015-06-01 00:36:43</td>\n",
       "      <td>1</td>\n",
       "      <td>6.37</td>\n",
       "      <td>23.30</td>\n",
       "      <td>0 days 00:22:58</td>\n",
       "    </tr>\n",
       "    <tr>\n",
       "      <th>2015-06-01 00:13:47</th>\n",
       "      <td>2015-06-01 00:33:03</td>\n",
       "      <td>1</td>\n",
       "      <td>4.10</td>\n",
       "      <td>18.30</td>\n",
       "      <td>0 days 00:19:16</td>\n",
       "    </tr>\n",
       "    <tr>\n",
       "      <th>2015-06-01 00:13:00</th>\n",
       "      <td>2015-06-01 00:37:25</td>\n",
       "      <td>1</td>\n",
       "      <td>5.59</td>\n",
       "      <td>22.30</td>\n",
       "      <td>0 days 00:24:25</td>\n",
       "    </tr>\n",
       "    <tr>\n",
       "      <th>2015-06-01 00:13:02</th>\n",
       "      <td>2015-06-01 00:19:10</td>\n",
       "      <td>6</td>\n",
       "      <td>1.54</td>\n",
       "      <td>7.80</td>\n",
       "      <td>0 days 00:06:08</td>\n",
       "    </tr>\n",
       "    <tr>\n",
       "      <th>2015-06-01 00:13:04</th>\n",
       "      <td>2015-06-01 00:36:33</td>\n",
       "      <td>1</td>\n",
       "      <td>5.80</td>\n",
       "      <td>26.75</td>\n",
       "      <td>0 days 00:23:29</td>\n",
       "    </tr>\n",
       "  </tbody>\n",
       "</table>\n",
       "<p>109 rows × 5 columns</p>\n",
       "</div>"
      ],
      "text/plain": [
       "                     tpep_dropoff_datetime  passenger_count  trip_distance  \\\n",
       "tpep_pickup_datetime                                                         \n",
       "2015-06-01 00:13:00    2015-06-01 00:15:34                1           0.30   \n",
       "2015-06-01 00:13:00    2015-06-01 00:22:16                1           2.50   \n",
       "2015-06-01 00:13:03    2015-06-01 01:00:50                1          19.14   \n",
       "2015-06-01 00:13:05    2015-06-01 00:18:52                1           0.97   \n",
       "2015-06-01 00:13:06    2015-06-01 00:26:26                2           3.90   \n",
       "...                                    ...              ...            ...   \n",
       "2015-06-01 00:13:45    2015-06-01 00:36:43                1           6.37   \n",
       "2015-06-01 00:13:47    2015-06-01 00:33:03                1           4.10   \n",
       "2015-06-01 00:13:00    2015-06-01 00:37:25                1           5.59   \n",
       "2015-06-01 00:13:02    2015-06-01 00:19:10                6           1.54   \n",
       "2015-06-01 00:13:04    2015-06-01 00:36:33                1           5.80   \n",
       "\n",
       "                      total_amount       trip_time  \n",
       "tpep_pickup_datetime                                \n",
       "2015-06-01 00:13:00           5.30 0 days 00:02:34  \n",
       "2015-06-01 00:13:00          10.80 0 days 00:09:16  \n",
       "2015-06-01 00:13:03          70.01 0 days 00:47:47  \n",
       "2015-06-01 00:13:05           7.30 0 days 00:05:47  \n",
       "2015-06-01 00:13:06          18.35 0 days 00:13:20  \n",
       "...                            ...             ...  \n",
       "2015-06-01 00:13:45          23.30 0 days 00:22:58  \n",
       "2015-06-01 00:13:47          18.30 0 days 00:19:16  \n",
       "2015-06-01 00:13:00          22.30 0 days 00:24:25  \n",
       "2015-06-01 00:13:02           7.80 0 days 00:06:08  \n",
       "2015-06-01 00:13:04          26.75 0 days 00:23:29  \n",
       "\n",
       "[109 rows x 5 columns]"
      ]
     },
     "execution_count": 163,
     "metadata": {},
     "output_type": "execute_result"
    }
   ],
   "source": [
    "# remove a smaller measure, and it acts as a wildcard\n",
    "\n",
    "df.loc['2015-06-01 00:13']   # any seconds will match!"
   ]
  },
  {
   "cell_type": "code",
   "execution_count": 164,
   "id": "41889f84",
   "metadata": {},
   "outputs": [
    {
     "data": {
      "text/html": [
       "<div>\n",
       "<style scoped>\n",
       "    .dataframe tbody tr th:only-of-type {\n",
       "        vertical-align: middle;\n",
       "    }\n",
       "\n",
       "    .dataframe tbody tr th {\n",
       "        vertical-align: top;\n",
       "    }\n",
       "\n",
       "    .dataframe thead th {\n",
       "        text-align: right;\n",
       "    }\n",
       "</style>\n",
       "<table border=\"1\" class=\"dataframe\">\n",
       "  <thead>\n",
       "    <tr style=\"text-align: right;\">\n",
       "      <th></th>\n",
       "      <th>tpep_dropoff_datetime</th>\n",
       "      <th>passenger_count</th>\n",
       "      <th>trip_distance</th>\n",
       "      <th>total_amount</th>\n",
       "      <th>trip_time</th>\n",
       "    </tr>\n",
       "    <tr>\n",
       "      <th>tpep_pickup_datetime</th>\n",
       "      <th></th>\n",
       "      <th></th>\n",
       "      <th></th>\n",
       "      <th></th>\n",
       "      <th></th>\n",
       "    </tr>\n",
       "  </thead>\n",
       "  <tbody>\n",
       "    <tr>\n",
       "      <th>2015-06-01 00:00:00</th>\n",
       "      <td>2015-06-01 00:06:12</td>\n",
       "      <td>1</td>\n",
       "      <td>1.00</td>\n",
       "      <td>7.30</td>\n",
       "      <td>0 days 00:06:12</td>\n",
       "    </tr>\n",
       "    <tr>\n",
       "      <th>2015-06-01 00:00:02</th>\n",
       "      <td>2015-06-01 00:25:48</td>\n",
       "      <td>1</td>\n",
       "      <td>5.51</td>\n",
       "      <td>21.80</td>\n",
       "      <td>0 days 00:25:46</td>\n",
       "    </tr>\n",
       "    <tr>\n",
       "      <th>2015-06-01 00:00:03</th>\n",
       "      <td>2015-06-01 00:10:24</td>\n",
       "      <td>1</td>\n",
       "      <td>2.59</td>\n",
       "      <td>14.16</td>\n",
       "      <td>0 days 00:10:21</td>\n",
       "    </tr>\n",
       "    <tr>\n",
       "      <th>2015-06-01 00:00:01</th>\n",
       "      <td>2015-06-01 00:24:48</td>\n",
       "      <td>1</td>\n",
       "      <td>8.15</td>\n",
       "      <td>30.30</td>\n",
       "      <td>0 days 00:24:47</td>\n",
       "    </tr>\n",
       "    <tr>\n",
       "      <th>2015-06-01 00:00:02</th>\n",
       "      <td>2015-06-01 00:18:57</td>\n",
       "      <td>1</td>\n",
       "      <td>9.04</td>\n",
       "      <td>32.65</td>\n",
       "      <td>0 days 00:18:55</td>\n",
       "    </tr>\n",
       "    <tr>\n",
       "      <th>...</th>\n",
       "      <td>...</td>\n",
       "      <td>...</td>\n",
       "      <td>...</td>\n",
       "      <td>...</td>\n",
       "      <td>...</td>\n",
       "    </tr>\n",
       "    <tr>\n",
       "      <th>2015-06-01 00:12:59</th>\n",
       "      <td>2015-06-01 00:24:18</td>\n",
       "      <td>1</td>\n",
       "      <td>2.70</td>\n",
       "      <td>12.30</td>\n",
       "      <td>0 days 00:11:19</td>\n",
       "    </tr>\n",
       "    <tr>\n",
       "      <th>2015-06-01 00:12:59</th>\n",
       "      <td>2015-06-01 00:28:16</td>\n",
       "      <td>1</td>\n",
       "      <td>4.50</td>\n",
       "      <td>20.30</td>\n",
       "      <td>0 days 00:15:17</td>\n",
       "    </tr>\n",
       "    <tr>\n",
       "      <th>2015-06-01 00:13:00</th>\n",
       "      <td>2015-06-01 00:37:25</td>\n",
       "      <td>1</td>\n",
       "      <td>5.59</td>\n",
       "      <td>22.30</td>\n",
       "      <td>0 days 00:24:25</td>\n",
       "    </tr>\n",
       "    <tr>\n",
       "      <th>2015-06-01 00:13:02</th>\n",
       "      <td>2015-06-01 00:19:10</td>\n",
       "      <td>6</td>\n",
       "      <td>1.54</td>\n",
       "      <td>7.80</td>\n",
       "      <td>0 days 00:06:08</td>\n",
       "    </tr>\n",
       "    <tr>\n",
       "      <th>2015-06-01 00:13:04</th>\n",
       "      <td>2015-06-01 00:36:33</td>\n",
       "      <td>1</td>\n",
       "      <td>5.80</td>\n",
       "      <td>26.75</td>\n",
       "      <td>0 days 00:23:29</td>\n",
       "    </tr>\n",
       "  </tbody>\n",
       "</table>\n",
       "<p>2439 rows × 5 columns</p>\n",
       "</div>"
      ],
      "text/plain": [
       "                     tpep_dropoff_datetime  passenger_count  trip_distance  \\\n",
       "tpep_pickup_datetime                                                         \n",
       "2015-06-01 00:00:00    2015-06-01 00:06:12                1           1.00   \n",
       "2015-06-01 00:00:02    2015-06-01 00:25:48                1           5.51   \n",
       "2015-06-01 00:00:03    2015-06-01 00:10:24                1           2.59   \n",
       "2015-06-01 00:00:01    2015-06-01 00:24:48                1           8.15   \n",
       "2015-06-01 00:00:02    2015-06-01 00:18:57                1           9.04   \n",
       "...                                    ...              ...            ...   \n",
       "2015-06-01 00:12:59    2015-06-01 00:24:18                1           2.70   \n",
       "2015-06-01 00:12:59    2015-06-01 00:28:16                1           4.50   \n",
       "2015-06-01 00:13:00    2015-06-01 00:37:25                1           5.59   \n",
       "2015-06-01 00:13:02    2015-06-01 00:19:10                6           1.54   \n",
       "2015-06-01 00:13:04    2015-06-01 00:36:33                1           5.80   \n",
       "\n",
       "                      total_amount       trip_time  \n",
       "tpep_pickup_datetime                                \n",
       "2015-06-01 00:00:00           7.30 0 days 00:06:12  \n",
       "2015-06-01 00:00:02          21.80 0 days 00:25:46  \n",
       "2015-06-01 00:00:03          14.16 0 days 00:10:21  \n",
       "2015-06-01 00:00:01          30.30 0 days 00:24:47  \n",
       "2015-06-01 00:00:02          32.65 0 days 00:18:55  \n",
       "...                            ...             ...  \n",
       "2015-06-01 00:12:59          12.30 0 days 00:11:19  \n",
       "2015-06-01 00:12:59          20.30 0 days 00:15:17  \n",
       "2015-06-01 00:13:00          22.30 0 days 00:24:25  \n",
       "2015-06-01 00:13:02           7.80 0 days 00:06:08  \n",
       "2015-06-01 00:13:04          26.75 0 days 00:23:29  \n",
       "\n",
       "[2439 rows x 5 columns]"
      ]
     },
     "execution_count": 164,
     "metadata": {},
     "output_type": "execute_result"
    }
   ],
   "source": [
    "df.loc['2015-06-01 00']   # any minutes + seconds will match, hour must be 00"
   ]
  },
  {
   "cell_type": "code",
   "execution_count": 165,
   "id": "ff85c31a",
   "metadata": {},
   "outputs": [
    {
     "ename": "KeyError",
     "evalue": "'Value based partial slicing on non-monotonic DatetimeIndexes with non-existing keys is not allowed.'",
     "output_type": "error",
     "traceback": [
      "\u001b[0;31m---------------------------------------------------------------------------\u001b[0m",
      "\u001b[0;31mKeyError\u001b[0m                                  Traceback (most recent call last)",
      "Cell \u001b[0;32mIn[165], line 3\u001b[0m\n\u001b[1;32m      1\u001b[0m \u001b[38;5;66;03m# we can use a slice for date ranges\u001b[39;00m\n\u001b[0;32m----> 3\u001b[0m \u001b[43mdf\u001b[49m\u001b[38;5;241;43m.\u001b[39;49m\u001b[43mloc\u001b[49m\u001b[43m[\u001b[49m\u001b[38;5;124;43m'\u001b[39;49m\u001b[38;5;124;43m2015-06-01 00:13:04\u001b[39;49m\u001b[38;5;124;43m'\u001b[39;49m\u001b[43m:\u001b[49m\u001b[38;5;124;43m'\u001b[39;49m\u001b[38;5;124;43m2015-06-01 00:14:00\u001b[39;49m\u001b[38;5;124;43m'\u001b[39;49m\u001b[43m]\u001b[49m\n",
      "File \u001b[0;32m/usr/lib/python3/dist-packages/pandas/core/indexing.py:1191\u001b[0m, in \u001b[0;36m_LocationIndexer.__getitem__\u001b[0;34m(self, key)\u001b[0m\n\u001b[1;32m   1189\u001b[0m maybe_callable \u001b[38;5;241m=\u001b[39m com\u001b[38;5;241m.\u001b[39mapply_if_callable(key, \u001b[38;5;28mself\u001b[39m\u001b[38;5;241m.\u001b[39mobj)\n\u001b[1;32m   1190\u001b[0m maybe_callable \u001b[38;5;241m=\u001b[39m \u001b[38;5;28mself\u001b[39m\u001b[38;5;241m.\u001b[39m_check_deprecated_callable_usage(key, maybe_callable)\n\u001b[0;32m-> 1191\u001b[0m \u001b[38;5;28;01mreturn\u001b[39;00m \u001b[38;5;28;43mself\u001b[39;49m\u001b[38;5;241;43m.\u001b[39;49m\u001b[43m_getitem_axis\u001b[49m\u001b[43m(\u001b[49m\u001b[43mmaybe_callable\u001b[49m\u001b[43m,\u001b[49m\u001b[43m \u001b[49m\u001b[43maxis\u001b[49m\u001b[38;5;241;43m=\u001b[39;49m\u001b[43maxis\u001b[49m\u001b[43m)\u001b[49m\n",
      "File \u001b[0;32m/usr/lib/python3/dist-packages/pandas/core/indexing.py:1411\u001b[0m, in \u001b[0;36m_LocIndexer._getitem_axis\u001b[0;34m(self, key, axis)\u001b[0m\n\u001b[1;32m   1409\u001b[0m \u001b[38;5;28;01mif\u001b[39;00m \u001b[38;5;28misinstance\u001b[39m(key, \u001b[38;5;28mslice\u001b[39m):\n\u001b[1;32m   1410\u001b[0m     \u001b[38;5;28mself\u001b[39m\u001b[38;5;241m.\u001b[39m_validate_key(key, axis)\n\u001b[0;32m-> 1411\u001b[0m     \u001b[38;5;28;01mreturn\u001b[39;00m \u001b[38;5;28;43mself\u001b[39;49m\u001b[38;5;241;43m.\u001b[39;49m\u001b[43m_get_slice_axis\u001b[49m\u001b[43m(\u001b[49m\u001b[43mkey\u001b[49m\u001b[43m,\u001b[49m\u001b[43m \u001b[49m\u001b[43maxis\u001b[49m\u001b[38;5;241;43m=\u001b[39;49m\u001b[43maxis\u001b[49m\u001b[43m)\u001b[49m\n\u001b[1;32m   1412\u001b[0m \u001b[38;5;28;01melif\u001b[39;00m com\u001b[38;5;241m.\u001b[39mis_bool_indexer(key):\n\u001b[1;32m   1413\u001b[0m     \u001b[38;5;28;01mreturn\u001b[39;00m \u001b[38;5;28mself\u001b[39m\u001b[38;5;241m.\u001b[39m_getbool_axis(key, axis\u001b[38;5;241m=\u001b[39maxis)\n",
      "File \u001b[0;32m/usr/lib/python3/dist-packages/pandas/core/indexing.py:1443\u001b[0m, in \u001b[0;36m_LocIndexer._get_slice_axis\u001b[0;34m(self, slice_obj, axis)\u001b[0m\n\u001b[1;32m   1440\u001b[0m     \u001b[38;5;28;01mreturn\u001b[39;00m obj\u001b[38;5;241m.\u001b[39mcopy(deep\u001b[38;5;241m=\u001b[39m\u001b[38;5;28;01mFalse\u001b[39;00m)\n\u001b[1;32m   1442\u001b[0m labels \u001b[38;5;241m=\u001b[39m obj\u001b[38;5;241m.\u001b[39m_get_axis(axis)\n\u001b[0;32m-> 1443\u001b[0m indexer \u001b[38;5;241m=\u001b[39m \u001b[43mlabels\u001b[49m\u001b[38;5;241;43m.\u001b[39;49m\u001b[43mslice_indexer\u001b[49m\u001b[43m(\u001b[49m\u001b[43mslice_obj\u001b[49m\u001b[38;5;241;43m.\u001b[39;49m\u001b[43mstart\u001b[49m\u001b[43m,\u001b[49m\u001b[43m \u001b[49m\u001b[43mslice_obj\u001b[49m\u001b[38;5;241;43m.\u001b[39;49m\u001b[43mstop\u001b[49m\u001b[43m,\u001b[49m\u001b[43m \u001b[49m\u001b[43mslice_obj\u001b[49m\u001b[38;5;241;43m.\u001b[39;49m\u001b[43mstep\u001b[49m\u001b[43m)\u001b[49m\n\u001b[1;32m   1445\u001b[0m \u001b[38;5;28;01mif\u001b[39;00m \u001b[38;5;28misinstance\u001b[39m(indexer, \u001b[38;5;28mslice\u001b[39m):\n\u001b[1;32m   1446\u001b[0m     \u001b[38;5;28;01mreturn\u001b[39;00m \u001b[38;5;28mself\u001b[39m\u001b[38;5;241m.\u001b[39mobj\u001b[38;5;241m.\u001b[39m_slice(indexer, axis\u001b[38;5;241m=\u001b[39maxis)\n",
      "File \u001b[0;32m/usr/lib/python3/dist-packages/pandas/core/indexes/datetimes.py:697\u001b[0m, in \u001b[0;36mDatetimeIndex.slice_indexer\u001b[0;34m(self, start, end, step)\u001b[0m\n\u001b[1;32m    694\u001b[0m     in_index \u001b[38;5;241m&\u001b[39m\u001b[38;5;241m=\u001b[39m (end_casted \u001b[38;5;241m==\u001b[39m \u001b[38;5;28mself\u001b[39m)\u001b[38;5;241m.\u001b[39many()\n\u001b[1;32m    696\u001b[0m \u001b[38;5;28;01mif\u001b[39;00m \u001b[38;5;129;01mnot\u001b[39;00m in_index:\n\u001b[0;32m--> 697\u001b[0m     \u001b[38;5;28;01mraise\u001b[39;00m \u001b[38;5;167;01mKeyError\u001b[39;00m(\n\u001b[1;32m    698\u001b[0m         \u001b[38;5;124m\"\u001b[39m\u001b[38;5;124mValue based partial slicing on non-monotonic DatetimeIndexes \u001b[39m\u001b[38;5;124m\"\u001b[39m\n\u001b[1;32m    699\u001b[0m         \u001b[38;5;124m\"\u001b[39m\u001b[38;5;124mwith non-existing keys is not allowed.\u001b[39m\u001b[38;5;124m\"\u001b[39m,\n\u001b[1;32m    700\u001b[0m     )\n\u001b[1;32m    701\u001b[0m indexer \u001b[38;5;241m=\u001b[39m mask\u001b[38;5;241m.\u001b[39mnonzero()[\u001b[38;5;241m0\u001b[39m][::step]\n\u001b[1;32m    702\u001b[0m \u001b[38;5;28;01mif\u001b[39;00m \u001b[38;5;28mlen\u001b[39m(indexer) \u001b[38;5;241m==\u001b[39m \u001b[38;5;28mlen\u001b[39m(\u001b[38;5;28mself\u001b[39m):\n",
      "\u001b[0;31mKeyError\u001b[0m: 'Value based partial slicing on non-monotonic DatetimeIndexes with non-existing keys is not allowed.'"
     ]
    }
   ],
   "source": [
    "# we can use a slice for date ranges\n",
    "\n",
    "df.loc['2015-06-01 00:13:04':'2015-06-01 00:14:00']"
   ]
  },
  {
   "cell_type": "code",
   "execution_count": 166,
   "id": "607ff978",
   "metadata": {},
   "outputs": [
    {
     "data": {
      "text/html": [
       "<div>\n",
       "<style scoped>\n",
       "    .dataframe tbody tr th:only-of-type {\n",
       "        vertical-align: middle;\n",
       "    }\n",
       "\n",
       "    .dataframe tbody tr th {\n",
       "        vertical-align: top;\n",
       "    }\n",
       "\n",
       "    .dataframe thead th {\n",
       "        text-align: right;\n",
       "    }\n",
       "</style>\n",
       "<table border=\"1\" class=\"dataframe\">\n",
       "  <thead>\n",
       "    <tr style=\"text-align: right;\">\n",
       "      <th></th>\n",
       "      <th>tpep_dropoff_datetime</th>\n",
       "      <th>passenger_count</th>\n",
       "      <th>trip_distance</th>\n",
       "      <th>total_amount</th>\n",
       "      <th>trip_time</th>\n",
       "    </tr>\n",
       "    <tr>\n",
       "      <th>tpep_pickup_datetime</th>\n",
       "      <th></th>\n",
       "      <th></th>\n",
       "      <th></th>\n",
       "      <th></th>\n",
       "      <th></th>\n",
       "    </tr>\n",
       "  </thead>\n",
       "  <tbody>\n",
       "    <tr>\n",
       "      <th>2015-06-01 00:13:04</th>\n",
       "      <td>2015-06-01 00:30:41</td>\n",
       "      <td>1</td>\n",
       "      <td>6.10</td>\n",
       "      <td>21.30</td>\n",
       "      <td>0 days 00:17:37</td>\n",
       "    </tr>\n",
       "    <tr>\n",
       "      <th>2015-06-01 00:13:04</th>\n",
       "      <td>2015-06-01 00:36:33</td>\n",
       "      <td>1</td>\n",
       "      <td>5.80</td>\n",
       "      <td>26.75</td>\n",
       "      <td>0 days 00:23:29</td>\n",
       "    </tr>\n",
       "    <tr>\n",
       "      <th>2015-06-01 00:13:05</th>\n",
       "      <td>2015-06-01 00:34:32</td>\n",
       "      <td>1</td>\n",
       "      <td>6.50</td>\n",
       "      <td>23.30</td>\n",
       "      <td>0 days 00:21:27</td>\n",
       "    </tr>\n",
       "    <tr>\n",
       "      <th>2015-06-01 00:13:05</th>\n",
       "      <td>2015-06-01 00:22:38</td>\n",
       "      <td>6</td>\n",
       "      <td>2.72</td>\n",
       "      <td>14.16</td>\n",
       "      <td>0 days 00:09:33</td>\n",
       "    </tr>\n",
       "    <tr>\n",
       "      <th>2015-06-01 00:13:05</th>\n",
       "      <td>2015-06-01 00:14:56</td>\n",
       "      <td>1</td>\n",
       "      <td>0.47</td>\n",
       "      <td>5.76</td>\n",
       "      <td>0 days 00:01:51</td>\n",
       "    </tr>\n",
       "    <tr>\n",
       "      <th>...</th>\n",
       "      <td>...</td>\n",
       "      <td>...</td>\n",
       "      <td>...</td>\n",
       "      <td>...</td>\n",
       "      <td>...</td>\n",
       "    </tr>\n",
       "    <tr>\n",
       "      <th>2015-06-01 00:13:45</th>\n",
       "      <td>2015-06-01 00:38:34</td>\n",
       "      <td>1</td>\n",
       "      <td>15.49</td>\n",
       "      <td>51.96</td>\n",
       "      <td>0 days 00:24:49</td>\n",
       "    </tr>\n",
       "    <tr>\n",
       "      <th>2015-06-01 00:13:45</th>\n",
       "      <td>2015-06-01 00:36:43</td>\n",
       "      <td>1</td>\n",
       "      <td>6.37</td>\n",
       "      <td>23.30</td>\n",
       "      <td>0 days 00:22:58</td>\n",
       "    </tr>\n",
       "    <tr>\n",
       "      <th>2015-06-01 00:13:46</th>\n",
       "      <td>2015-06-01 00:21:46</td>\n",
       "      <td>1</td>\n",
       "      <td>1.39</td>\n",
       "      <td>8.80</td>\n",
       "      <td>0 days 00:08:00</td>\n",
       "    </tr>\n",
       "    <tr>\n",
       "      <th>2015-06-01 00:13:47</th>\n",
       "      <td>2015-06-01 00:16:41</td>\n",
       "      <td>1</td>\n",
       "      <td>0.54</td>\n",
       "      <td>5.30</td>\n",
       "      <td>0 days 00:02:54</td>\n",
       "    </tr>\n",
       "    <tr>\n",
       "      <th>2015-06-01 00:13:47</th>\n",
       "      <td>2015-06-01 00:33:03</td>\n",
       "      <td>1</td>\n",
       "      <td>4.10</td>\n",
       "      <td>18.30</td>\n",
       "      <td>0 days 00:19:16</td>\n",
       "    </tr>\n",
       "  </tbody>\n",
       "</table>\n",
       "<p>99 rows × 5 columns</p>\n",
       "</div>"
      ],
      "text/plain": [
       "                     tpep_dropoff_datetime  passenger_count  trip_distance  \\\n",
       "tpep_pickup_datetime                                                         \n",
       "2015-06-01 00:13:04    2015-06-01 00:30:41                1           6.10   \n",
       "2015-06-01 00:13:04    2015-06-01 00:36:33                1           5.80   \n",
       "2015-06-01 00:13:05    2015-06-01 00:34:32                1           6.50   \n",
       "2015-06-01 00:13:05    2015-06-01 00:22:38                6           2.72   \n",
       "2015-06-01 00:13:05    2015-06-01 00:14:56                1           0.47   \n",
       "...                                    ...              ...            ...   \n",
       "2015-06-01 00:13:45    2015-06-01 00:38:34                1          15.49   \n",
       "2015-06-01 00:13:45    2015-06-01 00:36:43                1           6.37   \n",
       "2015-06-01 00:13:46    2015-06-01 00:21:46                1           1.39   \n",
       "2015-06-01 00:13:47    2015-06-01 00:16:41                1           0.54   \n",
       "2015-06-01 00:13:47    2015-06-01 00:33:03                1           4.10   \n",
       "\n",
       "                      total_amount       trip_time  \n",
       "tpep_pickup_datetime                                \n",
       "2015-06-01 00:13:04          21.30 0 days 00:17:37  \n",
       "2015-06-01 00:13:04          26.75 0 days 00:23:29  \n",
       "2015-06-01 00:13:05          23.30 0 days 00:21:27  \n",
       "2015-06-01 00:13:05          14.16 0 days 00:09:33  \n",
       "2015-06-01 00:13:05           5.76 0 days 00:01:51  \n",
       "...                            ...             ...  \n",
       "2015-06-01 00:13:45          51.96 0 days 00:24:49  \n",
       "2015-06-01 00:13:45          23.30 0 days 00:22:58  \n",
       "2015-06-01 00:13:46           8.80 0 days 00:08:00  \n",
       "2015-06-01 00:13:47           5.30 0 days 00:02:54  \n",
       "2015-06-01 00:13:47          18.30 0 days 00:19:16  \n",
       "\n",
       "[99 rows x 5 columns]"
      ]
     },
     "execution_count": 166,
     "metadata": {},
     "output_type": "execute_result"
    }
   ],
   "source": [
    "df = df.sort_index()\n",
    "df.loc['2015-06-01 00:13:04':'2015-06-01 00:14:00']"
   ]
  },
  {
   "cell_type": "code",
   "execution_count": 169,
   "id": "6b6a9528",
   "metadata": {},
   "outputs": [
    {
     "data": {
      "text/plain": [
       "tpep_pickup_datetime\n",
       "2015-06-01 00:00:00    2439\n",
       "2015-06-01 01:00:00       0\n",
       "2015-06-01 02:00:00       0\n",
       "2015-06-01 03:00:00       0\n",
       "2015-06-01 04:00:00       0\n",
       "2015-06-01 05:00:00       0\n",
       "2015-06-01 06:00:00       0\n",
       "2015-06-01 07:00:00       0\n",
       "2015-06-01 08:00:00       0\n",
       "2015-06-01 09:00:00       0\n",
       "2015-06-01 10:00:00       0\n",
       "2015-06-01 11:00:00       0\n",
       "2015-06-01 12:00:00       0\n",
       "2015-06-01 13:00:00       0\n",
       "2015-06-01 14:00:00       0\n",
       "2015-06-01 15:00:00       0\n",
       "2015-06-01 16:00:00       0\n",
       "2015-06-01 17:00:00       0\n",
       "2015-06-01 18:00:00       0\n",
       "2015-06-01 19:00:00       0\n",
       "Freq: h, Name: passenger_count, dtype: int64"
      ]
     },
     "execution_count": 169,
     "metadata": {},
     "output_type": "execute_result"
    }
   ],
   "source": [
    "# resample\n",
    "\n",
    "## for each hour, how many rides were there?\n",
    "\n",
    "\n",
    "df.resample('1h')['passenger_count'].count().head(20)"
   ]
  },
  {
   "cell_type": "code",
   "execution_count": 170,
   "id": "a801c61f",
   "metadata": {},
   "outputs": [
    {
     "data": {
      "text/plain": [
       "tpep_pickup_datetime\n",
       "2015-06-01 00:00:00    2439\n",
       "2015-06-01 08:00:00       0\n",
       "2015-06-01 16:00:00       0\n",
       "2015-06-02 00:00:00       0\n",
       "2015-06-02 08:00:00    4396\n",
       "2015-06-02 16:00:00       0\n",
       "2015-06-03 00:00:00       0\n",
       "2015-06-03 08:00:00       0\n",
       "2015-06-03 16:00:00       0\n",
       "2015-06-04 00:00:00       0\n",
       "2015-06-04 08:00:00    2536\n",
       "2015-06-04 16:00:00       0\n",
       "2015-06-05 00:00:00       0\n",
       "2015-06-05 08:00:00       0\n",
       "2015-06-05 16:00:00       0\n",
       "2015-06-06 00:00:00       0\n",
       "2015-06-06 08:00:00       0\n",
       "2015-06-06 16:00:00     628\n",
       "Freq: 8h, Name: passenger_count, dtype: int64"
      ]
     },
     "execution_count": 170,
     "metadata": {},
     "output_type": "execute_result"
    }
   ],
   "source": [
    "df.resample('8h')['passenger_count'].count().head(20)"
   ]
  },
  {
   "cell_type": "code",
   "execution_count": 172,
   "id": "5f39b7c8",
   "metadata": {},
   "outputs": [
    {
     "data": {
      "text/plain": [
       "tpep_pickup_datetime\n",
       "2015-06-01    18.932686\n",
       "2015-06-02    16.582095\n",
       "2015-06-03          NaN\n",
       "2015-06-04    18.556569\n",
       "2015-06-05          NaN\n",
       "2015-06-06    14.929936\n",
       "Freq: D, Name: total_amount, dtype: float64"
      ]
     },
     "execution_count": 172,
     "metadata": {},
     "output_type": "execute_result"
    }
   ],
   "source": [
    "df.resample('1D')['total_amount'].mean()"
   ]
  },
  {
   "cell_type": "code",
   "execution_count": 173,
   "id": "031c5679",
   "metadata": {},
   "outputs": [
    {
     "data": {
      "text/html": [
       "<div>\n",
       "<style scoped>\n",
       "    .dataframe tbody tr th:only-of-type {\n",
       "        vertical-align: middle;\n",
       "    }\n",
       "\n",
       "    .dataframe tbody tr th {\n",
       "        vertical-align: top;\n",
       "    }\n",
       "\n",
       "    .dataframe thead th {\n",
       "        text-align: right;\n",
       "    }\n",
       "</style>\n",
       "<table border=\"1\" class=\"dataframe\">\n",
       "  <thead>\n",
       "    <tr style=\"text-align: right;\">\n",
       "      <th></th>\n",
       "      <th>0</th>\n",
       "      <th>1</th>\n",
       "      <th>2</th>\n",
       "    </tr>\n",
       "  </thead>\n",
       "  <tbody>\n",
       "    <tr>\n",
       "      <th>0</th>\n",
       "      <td>15</td>\n",
       "      <td>13</td>\n",
       "      <td>84</td>\n",
       "    </tr>\n",
       "    <tr>\n",
       "      <th>1</th>\n",
       "      <td>90</td>\n",
       "      <td>30</td>\n",
       "      <td>91</td>\n",
       "    </tr>\n",
       "    <tr>\n",
       "      <th>2</th>\n",
       "      <td>43</td>\n",
       "      <td>15</td>\n",
       "      <td>73</td>\n",
       "    </tr>\n",
       "  </tbody>\n",
       "</table>\n",
       "</div>"
      ],
      "text/plain": [
       "    0   1   2\n",
       "0  15  13  84\n",
       "1  90  30  91\n",
       "2  43  15  73"
      ]
     },
     "execution_count": 173,
     "metadata": {},
     "output_type": "execute_result"
    }
   ],
   "source": [
    "df = DataFrame(np.random.randint(0, 100, [3,3]))\n",
    "df"
   ]
  },
  {
   "cell_type": "code",
   "execution_count": 174,
   "id": "83421e65",
   "metadata": {},
   "outputs": [
    {
     "name": "stdout",
     "output_type": "stream",
     "text": [
      "<class 'pandas.core.frame.DataFrame'>\n",
      "RangeIndex: 3 entries, 0 to 2\n",
      "Data columns (total 3 columns):\n",
      " #   Column  Non-Null Count  Dtype\n",
      "---  ------  --------------  -----\n",
      " 0   0       3 non-null      int64\n",
      " 1   1       3 non-null      int64\n",
      " 2   2       3 non-null      int64\n",
      "dtypes: int64(3)\n",
      "memory usage: 204.0 bytes\n"
     ]
    }
   ],
   "source": [
    "# df.info -- what is in this data frame?\n",
    "\n",
    "df.info()"
   ]
  },
  {
   "cell_type": "code",
   "execution_count": 176,
   "id": "472d337d",
   "metadata": {},
   "outputs": [
    {
     "data": {
      "text/html": [
       "<div>\n",
       "<style scoped>\n",
       "    .dataframe tbody tr th:only-of-type {\n",
       "        vertical-align: middle;\n",
       "    }\n",
       "\n",
       "    .dataframe tbody tr th {\n",
       "        vertical-align: top;\n",
       "    }\n",
       "\n",
       "    .dataframe thead th {\n",
       "        text-align: right;\n",
       "    }\n",
       "</style>\n",
       "<table border=\"1\" class=\"dataframe\">\n",
       "  <thead>\n",
       "    <tr style=\"text-align: right;\">\n",
       "      <th></th>\n",
       "      <th>x</th>\n",
       "      <th>y</th>\n",
       "      <th>z</th>\n",
       "    </tr>\n",
       "  </thead>\n",
       "  <tbody>\n",
       "    <tr>\n",
       "      <th>a</th>\n",
       "      <td>92</td>\n",
       "      <td>27</td>\n",
       "      <td>29</td>\n",
       "    </tr>\n",
       "    <tr>\n",
       "      <th>b</th>\n",
       "      <td>26</td>\n",
       "      <td>25</td>\n",
       "      <td>90</td>\n",
       "    </tr>\n",
       "    <tr>\n",
       "      <th>c</th>\n",
       "      <td>8</td>\n",
       "      <td>33</td>\n",
       "      <td>6</td>\n",
       "    </tr>\n",
       "  </tbody>\n",
       "</table>\n",
       "</div>"
      ],
      "text/plain": [
       "    x   y   z\n",
       "a  92  27  29\n",
       "b  26  25  90\n",
       "c   8  33   6"
      ]
     },
     "execution_count": 176,
     "metadata": {},
     "output_type": "execute_result"
    }
   ],
   "source": [
    "df = DataFrame(np.random.randint(0, 100, [3,3]),\n",
    "               index=list('abc'),\n",
    "               columns=list('xyz'))\n",
    "df"
   ]
  },
  {
   "cell_type": "code",
   "execution_count": 177,
   "id": "d5bc1bf3",
   "metadata": {},
   "outputs": [
    {
     "name": "stdout",
     "output_type": "stream",
     "text": [
      "<class 'pandas.core.frame.DataFrame'>\n",
      "Index: 3 entries, a to c\n",
      "Data columns (total 3 columns):\n",
      " #   Column  Non-Null Count  Dtype\n",
      "---  ------  --------------  -----\n",
      " 0   x       3 non-null      int64\n",
      " 1   y       3 non-null      int64\n",
      " 2   z       3 non-null      int64\n",
      "dtypes: int64(3)\n",
      "memory usage: 96.0+ bytes\n"
     ]
    }
   ],
   "source": [
    "df.info()"
   ]
  },
  {
   "cell_type": "code",
   "execution_count": 178,
   "id": "a9c9ad5c",
   "metadata": {},
   "outputs": [
    {
     "name": "stdout",
     "output_type": "stream",
     "text": [
      "<class 'pandas.core.frame.DataFrame'>\n",
      "Index: 3 entries, a to c\n",
      "Data columns (total 4 columns):\n",
      " #   Column  Non-Null Count  Dtype \n",
      "---  ------  --------------  ----- \n",
      " 0   x       3 non-null      int64 \n",
      " 1   y       3 non-null      int64 \n",
      " 2   z       3 non-null      int64 \n",
      " 3   s       3 non-null      object\n",
      "dtypes: int64(3), object(1)\n",
      "memory usage: 120.0+ bytes\n"
     ]
    }
   ],
   "source": [
    "df['s'] = ['a', 'b', 'c']\n",
    "df.info()"
   ]
  },
  {
   "cell_type": "code",
   "execution_count": 179,
   "id": "629154be",
   "metadata": {},
   "outputs": [
    {
     "data": {
      "text/html": [
       "<div>\n",
       "<style scoped>\n",
       "    .dataframe tbody tr th:only-of-type {\n",
       "        vertical-align: middle;\n",
       "    }\n",
       "\n",
       "    .dataframe tbody tr th {\n",
       "        vertical-align: top;\n",
       "    }\n",
       "\n",
       "    .dataframe thead th {\n",
       "        text-align: right;\n",
       "    }\n",
       "</style>\n",
       "<table border=\"1\" class=\"dataframe\">\n",
       "  <thead>\n",
       "    <tr style=\"text-align: right;\">\n",
       "      <th></th>\n",
       "      <th>x</th>\n",
       "      <th>y</th>\n",
       "      <th>z</th>\n",
       "      <th>s</th>\n",
       "    </tr>\n",
       "  </thead>\n",
       "  <tbody>\n",
       "    <tr>\n",
       "      <th>a</th>\n",
       "      <td>92</td>\n",
       "      <td>27</td>\n",
       "      <td>29</td>\n",
       "      <td>a</td>\n",
       "    </tr>\n",
       "    <tr>\n",
       "      <th>b</th>\n",
       "      <td>26</td>\n",
       "      <td>25</td>\n",
       "      <td>90</td>\n",
       "      <td>b</td>\n",
       "    </tr>\n",
       "    <tr>\n",
       "      <th>c</th>\n",
       "      <td>8</td>\n",
       "      <td>33</td>\n",
       "      <td>6</td>\n",
       "      <td>c</td>\n",
       "    </tr>\n",
       "  </tbody>\n",
       "</table>\n",
       "</div>"
      ],
      "text/plain": [
       "    x   y   z  s\n",
       "a  92  27  29  a\n",
       "b  26  25  90  b\n",
       "c   8  33   6  c"
      ]
     },
     "execution_count": 179,
     "metadata": {},
     "output_type": "execute_result"
    }
   ],
   "source": [
    "df"
   ]
  },
  {
   "cell_type": "code",
   "execution_count": 180,
   "id": "c913b3d1",
   "metadata": {},
   "outputs": [],
   "source": [
    "df.loc['c', 's'] = 'abcdefghijklmnopqrstuvwxyz' * 10_000_000"
   ]
  },
  {
   "cell_type": "code",
   "execution_count": 181,
   "id": "eee632ee",
   "metadata": {},
   "outputs": [
    {
     "name": "stdout",
     "output_type": "stream",
     "text": [
      "<class 'pandas.core.frame.DataFrame'>\n",
      "Index: 3 entries, a to c\n",
      "Data columns (total 4 columns):\n",
      " #   Column  Non-Null Count  Dtype \n",
      "---  ------  --------------  ----- \n",
      " 0   x       3 non-null      int64 \n",
      " 1   y       3 non-null      int64 \n",
      " 2   z       3 non-null      int64 \n",
      " 3   s       3 non-null      object\n",
      "dtypes: int64(3), object(1)\n",
      "memory usage: 228.0+ bytes\n"
     ]
    }
   ],
   "source": [
    "df.info()"
   ]
  },
  {
   "cell_type": "code",
   "execution_count": 182,
   "id": "658d4873",
   "metadata": {},
   "outputs": [
    {
     "name": "stdout",
     "output_type": "stream",
     "text": [
      "<class 'pandas.core.frame.DataFrame'>\n",
      "Index: 3 entries, a to c\n",
      "Data columns (total 4 columns):\n",
      " #   Column  Non-Null Count  Dtype \n",
      "---  ------  --------------  ----- \n",
      " 0   x       3 non-null      int64 \n",
      " 1   y       3 non-null      int64 \n",
      " 2   z       3 non-null      int64 \n",
      " 3   s       3 non-null      object\n",
      "dtypes: int64(3), object(1)\n",
      "memory usage: 248.0 MB\n"
     ]
    }
   ],
   "source": [
    "df.info(memory_usage='deep')"
   ]
  },
  {
   "cell_type": "code",
   "execution_count": 183,
   "id": "5ee1caca",
   "metadata": {},
   "outputs": [
    {
     "data": {
      "text/plain": [
       "Index    132\n",
       "x         24\n",
       "y         24\n",
       "z         24\n",
       "s         24\n",
       "dtype: int64"
      ]
     },
     "execution_count": 183,
     "metadata": {},
     "output_type": "execute_result"
    }
   ],
   "source": [
    "df.memory_usage()"
   ]
  },
  {
   "cell_type": "code",
   "execution_count": 184,
   "id": "59b01f37",
   "metadata": {},
   "outputs": [
    {
     "data": {
      "text/plain": [
       "Index          258\n",
       "x               24\n",
       "y               24\n",
       "z               24\n",
       "s        260000149\n",
       "dtype: int64"
      ]
     },
     "execution_count": 184,
     "metadata": {},
     "output_type": "execute_result"
    }
   ],
   "source": [
    "df.memory_usage(deep=True)"
   ]
  },
  {
   "cell_type": "code",
   "execution_count": 185,
   "id": "2010cfd7",
   "metadata": {},
   "outputs": [
    {
     "data": {
      "text/plain": [
       "260000479"
      ]
     },
     "execution_count": 185,
     "metadata": {},
     "output_type": "execute_result"
    }
   ],
   "source": [
    "df.memory_usage(deep=True).sum()"
   ]
  },
  {
   "cell_type": "code",
   "execution_count": 186,
   "id": "24f8d630",
   "metadata": {},
   "outputs": [
    {
     "data": {
      "text/plain": [
       "Index(['a', 'b', 'c'], dtype='object')"
      ]
     },
     "execution_count": 186,
     "metadata": {},
     "output_type": "execute_result"
    }
   ],
   "source": [
    "df.index"
   ]
  },
  {
   "cell_type": "code",
   "execution_count": 187,
   "id": "29658d5c",
   "metadata": {},
   "outputs": [
    {
     "name": "stdout",
     "output_type": "stream",
     "text": [
      "2020_sharing_data_outside.csv\t nyc_taxi_2020-07.csv\r\n",
      "CPILFESL.csv\t\t\t oecd_locations.csv\r\n",
      "albany,ny.csv\t\t\t oecd_tourism.csv\r\n",
      "alice-in-wonderland.txt\t\t olympic_athlete_events.csv\r\n",
      "boston,ma.csv\t\t\t python-survey\r\n",
      "celebrity_deaths_2016.csv\t san+francisco,ca.csv\r\n",
      "chicago,il.csv\t\t\t sat-scores.csv\r\n",
      "cities.json\t\t\t skyscrapers.csv\r\n",
      "eu_cpi.csv\t\t\t so_2021_survey_results.csv\r\n",
      "eu_gdp.csv\t\t\t springfield,il.csv\r\n",
      "ice-cream.csv\t\t\t springfield,ma.csv\r\n",
      "linux-etc-passwd.txt\t\t taxi-distance.csv\r\n",
      "los+angeles,ca.csv\t\t taxi-passenger-count.csv\r\n",
      "miles-traveled.csv\t\t titanic3.xls\r\n",
      "new+york,ny.csv\t\t\t us-median-cpi.csv\r\n",
      "nyc-parking-violations-2020.csv  us-unemployment-rate.csv\r\n",
      "nyc-temps.txt\t\t\t us_gdp.csv\r\n",
      "nyc_taxi_2019-01.csv\t\t winemag-150k-reviews.csv\r\n",
      "nyc_taxi_2019-07.csv\t\t words.txt\r\n",
      "nyc_taxi_2020-01.csv\t\t wti-daily.csv\r\n"
     ]
    }
   ],
   "source": [
    "!ls ../data"
   ]
  },
  {
   "cell_type": "code",
   "execution_count": 188,
   "id": "e7ff6213",
   "metadata": {},
   "outputs": [],
   "source": [
    "filename = '../data/olympic_athlete_events.csv'\n",
    "\n",
    "df = pd.read_csv(filename)"
   ]
  },
  {
   "cell_type": "code",
   "execution_count": 189,
   "id": "004d5e15",
   "metadata": {},
   "outputs": [
    {
     "data": {
      "text/html": [
       "<div>\n",
       "<style scoped>\n",
       "    .dataframe tbody tr th:only-of-type {\n",
       "        vertical-align: middle;\n",
       "    }\n",
       "\n",
       "    .dataframe tbody tr th {\n",
       "        vertical-align: top;\n",
       "    }\n",
       "\n",
       "    .dataframe thead th {\n",
       "        text-align: right;\n",
       "    }\n",
       "</style>\n",
       "<table border=\"1\" class=\"dataframe\">\n",
       "  <thead>\n",
       "    <tr style=\"text-align: right;\">\n",
       "      <th></th>\n",
       "      <th>ID</th>\n",
       "      <th>Name</th>\n",
       "      <th>Sex</th>\n",
       "      <th>Age</th>\n",
       "      <th>Height</th>\n",
       "      <th>Weight</th>\n",
       "      <th>Team</th>\n",
       "      <th>NOC</th>\n",
       "      <th>Games</th>\n",
       "      <th>Year</th>\n",
       "      <th>Season</th>\n",
       "      <th>City</th>\n",
       "      <th>Sport</th>\n",
       "      <th>Event</th>\n",
       "      <th>Medal</th>\n",
       "    </tr>\n",
       "  </thead>\n",
       "  <tbody>\n",
       "    <tr>\n",
       "      <th>0</th>\n",
       "      <td>1</td>\n",
       "      <td>A Dijiang</td>\n",
       "      <td>M</td>\n",
       "      <td>24.0</td>\n",
       "      <td>180.0</td>\n",
       "      <td>80.0</td>\n",
       "      <td>China</td>\n",
       "      <td>CHN</td>\n",
       "      <td>1992 Summer</td>\n",
       "      <td>1992</td>\n",
       "      <td>Summer</td>\n",
       "      <td>Barcelona</td>\n",
       "      <td>Basketball</td>\n",
       "      <td>Basketball Men's Basketball</td>\n",
       "      <td>NaN</td>\n",
       "    </tr>\n",
       "    <tr>\n",
       "      <th>1</th>\n",
       "      <td>2</td>\n",
       "      <td>A Lamusi</td>\n",
       "      <td>M</td>\n",
       "      <td>23.0</td>\n",
       "      <td>170.0</td>\n",
       "      <td>60.0</td>\n",
       "      <td>China</td>\n",
       "      <td>CHN</td>\n",
       "      <td>2012 Summer</td>\n",
       "      <td>2012</td>\n",
       "      <td>Summer</td>\n",
       "      <td>London</td>\n",
       "      <td>Judo</td>\n",
       "      <td>Judo Men's Extra-Lightweight</td>\n",
       "      <td>NaN</td>\n",
       "    </tr>\n",
       "    <tr>\n",
       "      <th>2</th>\n",
       "      <td>3</td>\n",
       "      <td>Gunnar Nielsen Aaby</td>\n",
       "      <td>M</td>\n",
       "      <td>24.0</td>\n",
       "      <td>NaN</td>\n",
       "      <td>NaN</td>\n",
       "      <td>Denmark</td>\n",
       "      <td>DEN</td>\n",
       "      <td>1920 Summer</td>\n",
       "      <td>1920</td>\n",
       "      <td>Summer</td>\n",
       "      <td>Antwerpen</td>\n",
       "      <td>Football</td>\n",
       "      <td>Football Men's Football</td>\n",
       "      <td>NaN</td>\n",
       "    </tr>\n",
       "    <tr>\n",
       "      <th>3</th>\n",
       "      <td>4</td>\n",
       "      <td>Edgar Lindenau Aabye</td>\n",
       "      <td>M</td>\n",
       "      <td>34.0</td>\n",
       "      <td>NaN</td>\n",
       "      <td>NaN</td>\n",
       "      <td>Denmark/Sweden</td>\n",
       "      <td>DEN</td>\n",
       "      <td>1900 Summer</td>\n",
       "      <td>1900</td>\n",
       "      <td>Summer</td>\n",
       "      <td>Paris</td>\n",
       "      <td>Tug-Of-War</td>\n",
       "      <td>Tug-Of-War Men's Tug-Of-War</td>\n",
       "      <td>Gold</td>\n",
       "    </tr>\n",
       "    <tr>\n",
       "      <th>4</th>\n",
       "      <td>5</td>\n",
       "      <td>Christine Jacoba Aaftink</td>\n",
       "      <td>F</td>\n",
       "      <td>21.0</td>\n",
       "      <td>185.0</td>\n",
       "      <td>82.0</td>\n",
       "      <td>Netherlands</td>\n",
       "      <td>NED</td>\n",
       "      <td>1988 Winter</td>\n",
       "      <td>1988</td>\n",
       "      <td>Winter</td>\n",
       "      <td>Calgary</td>\n",
       "      <td>Speed Skating</td>\n",
       "      <td>Speed Skating Women's 500 metres</td>\n",
       "      <td>NaN</td>\n",
       "    </tr>\n",
       "  </tbody>\n",
       "</table>\n",
       "</div>"
      ],
      "text/plain": [
       "   ID                      Name Sex   Age  Height  Weight            Team  \\\n",
       "0   1                 A Dijiang   M  24.0   180.0    80.0           China   \n",
       "1   2                  A Lamusi   M  23.0   170.0    60.0           China   \n",
       "2   3       Gunnar Nielsen Aaby   M  24.0     NaN     NaN         Denmark   \n",
       "3   4      Edgar Lindenau Aabye   M  34.0     NaN     NaN  Denmark/Sweden   \n",
       "4   5  Christine Jacoba Aaftink   F  21.0   185.0    82.0     Netherlands   \n",
       "\n",
       "   NOC        Games  Year  Season       City          Sport  \\\n",
       "0  CHN  1992 Summer  1992  Summer  Barcelona     Basketball   \n",
       "1  CHN  2012 Summer  2012  Summer     London           Judo   \n",
       "2  DEN  1920 Summer  1920  Summer  Antwerpen       Football   \n",
       "3  DEN  1900 Summer  1900  Summer      Paris     Tug-Of-War   \n",
       "4  NED  1988 Winter  1988  Winter    Calgary  Speed Skating   \n",
       "\n",
       "                              Event Medal  \n",
       "0       Basketball Men's Basketball   NaN  \n",
       "1      Judo Men's Extra-Lightweight   NaN  \n",
       "2           Football Men's Football   NaN  \n",
       "3       Tug-Of-War Men's Tug-Of-War  Gold  \n",
       "4  Speed Skating Women's 500 metres   NaN  "
      ]
     },
     "execution_count": 189,
     "metadata": {},
     "output_type": "execute_result"
    }
   ],
   "source": [
    "df.head()"
   ]
  },
  {
   "cell_type": "code",
   "execution_count": 190,
   "id": "fe3a2ecd",
   "metadata": {},
   "outputs": [
    {
     "name": "stdout",
     "output_type": "stream",
     "text": [
      "<class 'pandas.core.frame.DataFrame'>\n",
      "RangeIndex: 271116 entries, 0 to 271115\n",
      "Data columns (total 15 columns):\n",
      " #   Column  Non-Null Count   Dtype  \n",
      "---  ------  --------------   -----  \n",
      " 0   ID      271116 non-null  int64  \n",
      " 1   Name    271116 non-null  object \n",
      " 2   Sex     271116 non-null  object \n",
      " 3   Age     261642 non-null  float64\n",
      " 4   Height  210945 non-null  float64\n",
      " 5   Weight  208241 non-null  float64\n",
      " 6   Team    271116 non-null  object \n",
      " 7   NOC     271116 non-null  object \n",
      " 8   Games   271116 non-null  object \n",
      " 9   Year    271116 non-null  int64  \n",
      " 10  Season  271116 non-null  object \n",
      " 11  City    271116 non-null  object \n",
      " 12  Sport   271116 non-null  object \n",
      " 13  Event   271116 non-null  object \n",
      " 14  Medal   39783 non-null   object \n",
      "dtypes: float64(3), int64(2), object(10)\n",
      "memory usage: 158.9 MB\n"
     ]
    }
   ],
   "source": [
    "df.info(memory_usage='deep')"
   ]
  },
  {
   "cell_type": "code",
   "execution_count": 191,
   "id": "ea10a733",
   "metadata": {},
   "outputs": [
    {
     "data": {
      "text/html": [
       "<div>\n",
       "<style scoped>\n",
       "    .dataframe tbody tr th:only-of-type {\n",
       "        vertical-align: middle;\n",
       "    }\n",
       "\n",
       "    .dataframe tbody tr th {\n",
       "        vertical-align: top;\n",
       "    }\n",
       "\n",
       "    .dataframe thead th {\n",
       "        text-align: right;\n",
       "    }\n",
       "</style>\n",
       "<table border=\"1\" class=\"dataframe\">\n",
       "  <thead>\n",
       "    <tr style=\"text-align: right;\">\n",
       "      <th></th>\n",
       "      <th>ID</th>\n",
       "      <th>Name</th>\n",
       "      <th>Sex</th>\n",
       "      <th>Age</th>\n",
       "      <th>Height</th>\n",
       "      <th>Weight</th>\n",
       "      <th>Team</th>\n",
       "      <th>NOC</th>\n",
       "      <th>Games</th>\n",
       "      <th>Year</th>\n",
       "      <th>Season</th>\n",
       "      <th>City</th>\n",
       "      <th>Sport</th>\n",
       "      <th>Event</th>\n",
       "      <th>Medal</th>\n",
       "    </tr>\n",
       "  </thead>\n",
       "  <tbody>\n",
       "    <tr>\n",
       "      <th>0</th>\n",
       "      <td>1</td>\n",
       "      <td>A Dijiang</td>\n",
       "      <td>M</td>\n",
       "      <td>24.0</td>\n",
       "      <td>180.0</td>\n",
       "      <td>80.0</td>\n",
       "      <td>China</td>\n",
       "      <td>CHN</td>\n",
       "      <td>1992 Summer</td>\n",
       "      <td>1992</td>\n",
       "      <td>Summer</td>\n",
       "      <td>Barcelona</td>\n",
       "      <td>Basketball</td>\n",
       "      <td>Basketball Men's Basketball</td>\n",
       "      <td>NaN</td>\n",
       "    </tr>\n",
       "    <tr>\n",
       "      <th>1</th>\n",
       "      <td>2</td>\n",
       "      <td>A Lamusi</td>\n",
       "      <td>M</td>\n",
       "      <td>23.0</td>\n",
       "      <td>170.0</td>\n",
       "      <td>60.0</td>\n",
       "      <td>China</td>\n",
       "      <td>CHN</td>\n",
       "      <td>2012 Summer</td>\n",
       "      <td>2012</td>\n",
       "      <td>Summer</td>\n",
       "      <td>London</td>\n",
       "      <td>Judo</td>\n",
       "      <td>Judo Men's Extra-Lightweight</td>\n",
       "      <td>NaN</td>\n",
       "    </tr>\n",
       "    <tr>\n",
       "      <th>2</th>\n",
       "      <td>3</td>\n",
       "      <td>Gunnar Nielsen Aaby</td>\n",
       "      <td>M</td>\n",
       "      <td>24.0</td>\n",
       "      <td>NaN</td>\n",
       "      <td>NaN</td>\n",
       "      <td>Denmark</td>\n",
       "      <td>DEN</td>\n",
       "      <td>1920 Summer</td>\n",
       "      <td>1920</td>\n",
       "      <td>Summer</td>\n",
       "      <td>Antwerpen</td>\n",
       "      <td>Football</td>\n",
       "      <td>Football Men's Football</td>\n",
       "      <td>NaN</td>\n",
       "    </tr>\n",
       "    <tr>\n",
       "      <th>3</th>\n",
       "      <td>4</td>\n",
       "      <td>Edgar Lindenau Aabye</td>\n",
       "      <td>M</td>\n",
       "      <td>34.0</td>\n",
       "      <td>NaN</td>\n",
       "      <td>NaN</td>\n",
       "      <td>Denmark/Sweden</td>\n",
       "      <td>DEN</td>\n",
       "      <td>1900 Summer</td>\n",
       "      <td>1900</td>\n",
       "      <td>Summer</td>\n",
       "      <td>Paris</td>\n",
       "      <td>Tug-Of-War</td>\n",
       "      <td>Tug-Of-War Men's Tug-Of-War</td>\n",
       "      <td>Gold</td>\n",
       "    </tr>\n",
       "    <tr>\n",
       "      <th>4</th>\n",
       "      <td>5</td>\n",
       "      <td>Christine Jacoba Aaftink</td>\n",
       "      <td>F</td>\n",
       "      <td>21.0</td>\n",
       "      <td>185.0</td>\n",
       "      <td>82.0</td>\n",
       "      <td>Netherlands</td>\n",
       "      <td>NED</td>\n",
       "      <td>1988 Winter</td>\n",
       "      <td>1988</td>\n",
       "      <td>Winter</td>\n",
       "      <td>Calgary</td>\n",
       "      <td>Speed Skating</td>\n",
       "      <td>Speed Skating Women's 500 metres</td>\n",
       "      <td>NaN</td>\n",
       "    </tr>\n",
       "    <tr>\n",
       "      <th>5</th>\n",
       "      <td>5</td>\n",
       "      <td>Christine Jacoba Aaftink</td>\n",
       "      <td>F</td>\n",
       "      <td>21.0</td>\n",
       "      <td>185.0</td>\n",
       "      <td>82.0</td>\n",
       "      <td>Netherlands</td>\n",
       "      <td>NED</td>\n",
       "      <td>1988 Winter</td>\n",
       "      <td>1988</td>\n",
       "      <td>Winter</td>\n",
       "      <td>Calgary</td>\n",
       "      <td>Speed Skating</td>\n",
       "      <td>Speed Skating Women's 1,000 metres</td>\n",
       "      <td>NaN</td>\n",
       "    </tr>\n",
       "    <tr>\n",
       "      <th>6</th>\n",
       "      <td>5</td>\n",
       "      <td>Christine Jacoba Aaftink</td>\n",
       "      <td>F</td>\n",
       "      <td>25.0</td>\n",
       "      <td>185.0</td>\n",
       "      <td>82.0</td>\n",
       "      <td>Netherlands</td>\n",
       "      <td>NED</td>\n",
       "      <td>1992 Winter</td>\n",
       "      <td>1992</td>\n",
       "      <td>Winter</td>\n",
       "      <td>Albertville</td>\n",
       "      <td>Speed Skating</td>\n",
       "      <td>Speed Skating Women's 500 metres</td>\n",
       "      <td>NaN</td>\n",
       "    </tr>\n",
       "    <tr>\n",
       "      <th>7</th>\n",
       "      <td>5</td>\n",
       "      <td>Christine Jacoba Aaftink</td>\n",
       "      <td>F</td>\n",
       "      <td>25.0</td>\n",
       "      <td>185.0</td>\n",
       "      <td>82.0</td>\n",
       "      <td>Netherlands</td>\n",
       "      <td>NED</td>\n",
       "      <td>1992 Winter</td>\n",
       "      <td>1992</td>\n",
       "      <td>Winter</td>\n",
       "      <td>Albertville</td>\n",
       "      <td>Speed Skating</td>\n",
       "      <td>Speed Skating Women's 1,000 metres</td>\n",
       "      <td>NaN</td>\n",
       "    </tr>\n",
       "    <tr>\n",
       "      <th>8</th>\n",
       "      <td>5</td>\n",
       "      <td>Christine Jacoba Aaftink</td>\n",
       "      <td>F</td>\n",
       "      <td>27.0</td>\n",
       "      <td>185.0</td>\n",
       "      <td>82.0</td>\n",
       "      <td>Netherlands</td>\n",
       "      <td>NED</td>\n",
       "      <td>1994 Winter</td>\n",
       "      <td>1994</td>\n",
       "      <td>Winter</td>\n",
       "      <td>Lillehammer</td>\n",
       "      <td>Speed Skating</td>\n",
       "      <td>Speed Skating Women's 500 metres</td>\n",
       "      <td>NaN</td>\n",
       "    </tr>\n",
       "    <tr>\n",
       "      <th>9</th>\n",
       "      <td>5</td>\n",
       "      <td>Christine Jacoba Aaftink</td>\n",
       "      <td>F</td>\n",
       "      <td>27.0</td>\n",
       "      <td>185.0</td>\n",
       "      <td>82.0</td>\n",
       "      <td>Netherlands</td>\n",
       "      <td>NED</td>\n",
       "      <td>1994 Winter</td>\n",
       "      <td>1994</td>\n",
       "      <td>Winter</td>\n",
       "      <td>Lillehammer</td>\n",
       "      <td>Speed Skating</td>\n",
       "      <td>Speed Skating Women's 1,000 metres</td>\n",
       "      <td>NaN</td>\n",
       "    </tr>\n",
       "    <tr>\n",
       "      <th>10</th>\n",
       "      <td>6</td>\n",
       "      <td>Per Knut Aaland</td>\n",
       "      <td>M</td>\n",
       "      <td>31.0</td>\n",
       "      <td>188.0</td>\n",
       "      <td>75.0</td>\n",
       "      <td>United States</td>\n",
       "      <td>USA</td>\n",
       "      <td>1992 Winter</td>\n",
       "      <td>1992</td>\n",
       "      <td>Winter</td>\n",
       "      <td>Albertville</td>\n",
       "      <td>Cross Country Skiing</td>\n",
       "      <td>Cross Country Skiing Men's 10 kilometres</td>\n",
       "      <td>NaN</td>\n",
       "    </tr>\n",
       "    <tr>\n",
       "      <th>11</th>\n",
       "      <td>6</td>\n",
       "      <td>Per Knut Aaland</td>\n",
       "      <td>M</td>\n",
       "      <td>31.0</td>\n",
       "      <td>188.0</td>\n",
       "      <td>75.0</td>\n",
       "      <td>United States</td>\n",
       "      <td>USA</td>\n",
       "      <td>1992 Winter</td>\n",
       "      <td>1992</td>\n",
       "      <td>Winter</td>\n",
       "      <td>Albertville</td>\n",
       "      <td>Cross Country Skiing</td>\n",
       "      <td>Cross Country Skiing Men's 50 kilometres</td>\n",
       "      <td>NaN</td>\n",
       "    </tr>\n",
       "    <tr>\n",
       "      <th>12</th>\n",
       "      <td>6</td>\n",
       "      <td>Per Knut Aaland</td>\n",
       "      <td>M</td>\n",
       "      <td>31.0</td>\n",
       "      <td>188.0</td>\n",
       "      <td>75.0</td>\n",
       "      <td>United States</td>\n",
       "      <td>USA</td>\n",
       "      <td>1992 Winter</td>\n",
       "      <td>1992</td>\n",
       "      <td>Winter</td>\n",
       "      <td>Albertville</td>\n",
       "      <td>Cross Country Skiing</td>\n",
       "      <td>Cross Country Skiing Men's 10/15 kilometres Pu...</td>\n",
       "      <td>NaN</td>\n",
       "    </tr>\n",
       "    <tr>\n",
       "      <th>13</th>\n",
       "      <td>6</td>\n",
       "      <td>Per Knut Aaland</td>\n",
       "      <td>M</td>\n",
       "      <td>31.0</td>\n",
       "      <td>188.0</td>\n",
       "      <td>75.0</td>\n",
       "      <td>United States</td>\n",
       "      <td>USA</td>\n",
       "      <td>1992 Winter</td>\n",
       "      <td>1992</td>\n",
       "      <td>Winter</td>\n",
       "      <td>Albertville</td>\n",
       "      <td>Cross Country Skiing</td>\n",
       "      <td>Cross Country Skiing Men's 4 x 10 kilometres R...</td>\n",
       "      <td>NaN</td>\n",
       "    </tr>\n",
       "    <tr>\n",
       "      <th>14</th>\n",
       "      <td>6</td>\n",
       "      <td>Per Knut Aaland</td>\n",
       "      <td>M</td>\n",
       "      <td>33.0</td>\n",
       "      <td>188.0</td>\n",
       "      <td>75.0</td>\n",
       "      <td>United States</td>\n",
       "      <td>USA</td>\n",
       "      <td>1994 Winter</td>\n",
       "      <td>1994</td>\n",
       "      <td>Winter</td>\n",
       "      <td>Lillehammer</td>\n",
       "      <td>Cross Country Skiing</td>\n",
       "      <td>Cross Country Skiing Men's 10 kilometres</td>\n",
       "      <td>NaN</td>\n",
       "    </tr>\n",
       "    <tr>\n",
       "      <th>15</th>\n",
       "      <td>6</td>\n",
       "      <td>Per Knut Aaland</td>\n",
       "      <td>M</td>\n",
       "      <td>33.0</td>\n",
       "      <td>188.0</td>\n",
       "      <td>75.0</td>\n",
       "      <td>United States</td>\n",
       "      <td>USA</td>\n",
       "      <td>1994 Winter</td>\n",
       "      <td>1994</td>\n",
       "      <td>Winter</td>\n",
       "      <td>Lillehammer</td>\n",
       "      <td>Cross Country Skiing</td>\n",
       "      <td>Cross Country Skiing Men's 30 kilometres</td>\n",
       "      <td>NaN</td>\n",
       "    </tr>\n",
       "    <tr>\n",
       "      <th>16</th>\n",
       "      <td>6</td>\n",
       "      <td>Per Knut Aaland</td>\n",
       "      <td>M</td>\n",
       "      <td>33.0</td>\n",
       "      <td>188.0</td>\n",
       "      <td>75.0</td>\n",
       "      <td>United States</td>\n",
       "      <td>USA</td>\n",
       "      <td>1994 Winter</td>\n",
       "      <td>1994</td>\n",
       "      <td>Winter</td>\n",
       "      <td>Lillehammer</td>\n",
       "      <td>Cross Country Skiing</td>\n",
       "      <td>Cross Country Skiing Men's 10/15 kilometres Pu...</td>\n",
       "      <td>NaN</td>\n",
       "    </tr>\n",
       "    <tr>\n",
       "      <th>17</th>\n",
       "      <td>6</td>\n",
       "      <td>Per Knut Aaland</td>\n",
       "      <td>M</td>\n",
       "      <td>33.0</td>\n",
       "      <td>188.0</td>\n",
       "      <td>75.0</td>\n",
       "      <td>United States</td>\n",
       "      <td>USA</td>\n",
       "      <td>1994 Winter</td>\n",
       "      <td>1994</td>\n",
       "      <td>Winter</td>\n",
       "      <td>Lillehammer</td>\n",
       "      <td>Cross Country Skiing</td>\n",
       "      <td>Cross Country Skiing Men's 4 x 10 kilometres R...</td>\n",
       "      <td>NaN</td>\n",
       "    </tr>\n",
       "    <tr>\n",
       "      <th>18</th>\n",
       "      <td>7</td>\n",
       "      <td>John Aalberg</td>\n",
       "      <td>M</td>\n",
       "      <td>31.0</td>\n",
       "      <td>183.0</td>\n",
       "      <td>72.0</td>\n",
       "      <td>United States</td>\n",
       "      <td>USA</td>\n",
       "      <td>1992 Winter</td>\n",
       "      <td>1992</td>\n",
       "      <td>Winter</td>\n",
       "      <td>Albertville</td>\n",
       "      <td>Cross Country Skiing</td>\n",
       "      <td>Cross Country Skiing Men's 10 kilometres</td>\n",
       "      <td>NaN</td>\n",
       "    </tr>\n",
       "    <tr>\n",
       "      <th>19</th>\n",
       "      <td>7</td>\n",
       "      <td>John Aalberg</td>\n",
       "      <td>M</td>\n",
       "      <td>31.0</td>\n",
       "      <td>183.0</td>\n",
       "      <td>72.0</td>\n",
       "      <td>United States</td>\n",
       "      <td>USA</td>\n",
       "      <td>1992 Winter</td>\n",
       "      <td>1992</td>\n",
       "      <td>Winter</td>\n",
       "      <td>Albertville</td>\n",
       "      <td>Cross Country Skiing</td>\n",
       "      <td>Cross Country Skiing Men's 50 kilometres</td>\n",
       "      <td>NaN</td>\n",
       "    </tr>\n",
       "  </tbody>\n",
       "</table>\n",
       "</div>"
      ],
      "text/plain": [
       "    ID                      Name Sex   Age  Height  Weight            Team  \\\n",
       "0    1                 A Dijiang   M  24.0   180.0    80.0           China   \n",
       "1    2                  A Lamusi   M  23.0   170.0    60.0           China   \n",
       "2    3       Gunnar Nielsen Aaby   M  24.0     NaN     NaN         Denmark   \n",
       "3    4      Edgar Lindenau Aabye   M  34.0     NaN     NaN  Denmark/Sweden   \n",
       "4    5  Christine Jacoba Aaftink   F  21.0   185.0    82.0     Netherlands   \n",
       "5    5  Christine Jacoba Aaftink   F  21.0   185.0    82.0     Netherlands   \n",
       "6    5  Christine Jacoba Aaftink   F  25.0   185.0    82.0     Netherlands   \n",
       "7    5  Christine Jacoba Aaftink   F  25.0   185.0    82.0     Netherlands   \n",
       "8    5  Christine Jacoba Aaftink   F  27.0   185.0    82.0     Netherlands   \n",
       "9    5  Christine Jacoba Aaftink   F  27.0   185.0    82.0     Netherlands   \n",
       "10   6           Per Knut Aaland   M  31.0   188.0    75.0   United States   \n",
       "11   6           Per Knut Aaland   M  31.0   188.0    75.0   United States   \n",
       "12   6           Per Knut Aaland   M  31.0   188.0    75.0   United States   \n",
       "13   6           Per Knut Aaland   M  31.0   188.0    75.0   United States   \n",
       "14   6           Per Knut Aaland   M  33.0   188.0    75.0   United States   \n",
       "15   6           Per Knut Aaland   M  33.0   188.0    75.0   United States   \n",
       "16   6           Per Knut Aaland   M  33.0   188.0    75.0   United States   \n",
       "17   6           Per Knut Aaland   M  33.0   188.0    75.0   United States   \n",
       "18   7              John Aalberg   M  31.0   183.0    72.0   United States   \n",
       "19   7              John Aalberg   M  31.0   183.0    72.0   United States   \n",
       "\n",
       "    NOC        Games  Year  Season         City                 Sport  \\\n",
       "0   CHN  1992 Summer  1992  Summer    Barcelona            Basketball   \n",
       "1   CHN  2012 Summer  2012  Summer       London                  Judo   \n",
       "2   DEN  1920 Summer  1920  Summer    Antwerpen              Football   \n",
       "3   DEN  1900 Summer  1900  Summer        Paris            Tug-Of-War   \n",
       "4   NED  1988 Winter  1988  Winter      Calgary         Speed Skating   \n",
       "5   NED  1988 Winter  1988  Winter      Calgary         Speed Skating   \n",
       "6   NED  1992 Winter  1992  Winter  Albertville         Speed Skating   \n",
       "7   NED  1992 Winter  1992  Winter  Albertville         Speed Skating   \n",
       "8   NED  1994 Winter  1994  Winter  Lillehammer         Speed Skating   \n",
       "9   NED  1994 Winter  1994  Winter  Lillehammer         Speed Skating   \n",
       "10  USA  1992 Winter  1992  Winter  Albertville  Cross Country Skiing   \n",
       "11  USA  1992 Winter  1992  Winter  Albertville  Cross Country Skiing   \n",
       "12  USA  1992 Winter  1992  Winter  Albertville  Cross Country Skiing   \n",
       "13  USA  1992 Winter  1992  Winter  Albertville  Cross Country Skiing   \n",
       "14  USA  1994 Winter  1994  Winter  Lillehammer  Cross Country Skiing   \n",
       "15  USA  1994 Winter  1994  Winter  Lillehammer  Cross Country Skiing   \n",
       "16  USA  1994 Winter  1994  Winter  Lillehammer  Cross Country Skiing   \n",
       "17  USA  1994 Winter  1994  Winter  Lillehammer  Cross Country Skiing   \n",
       "18  USA  1992 Winter  1992  Winter  Albertville  Cross Country Skiing   \n",
       "19  USA  1992 Winter  1992  Winter  Albertville  Cross Country Skiing   \n",
       "\n",
       "                                                Event Medal  \n",
       "0                         Basketball Men's Basketball   NaN  \n",
       "1                        Judo Men's Extra-Lightweight   NaN  \n",
       "2                             Football Men's Football   NaN  \n",
       "3                         Tug-Of-War Men's Tug-Of-War  Gold  \n",
       "4                    Speed Skating Women's 500 metres   NaN  \n",
       "5                  Speed Skating Women's 1,000 metres   NaN  \n",
       "6                    Speed Skating Women's 500 metres   NaN  \n",
       "7                  Speed Skating Women's 1,000 metres   NaN  \n",
       "8                    Speed Skating Women's 500 metres   NaN  \n",
       "9                  Speed Skating Women's 1,000 metres   NaN  \n",
       "10           Cross Country Skiing Men's 10 kilometres   NaN  \n",
       "11           Cross Country Skiing Men's 50 kilometres   NaN  \n",
       "12  Cross Country Skiing Men's 10/15 kilometres Pu...   NaN  \n",
       "13  Cross Country Skiing Men's 4 x 10 kilometres R...   NaN  \n",
       "14           Cross Country Skiing Men's 10 kilometres   NaN  \n",
       "15           Cross Country Skiing Men's 30 kilometres   NaN  \n",
       "16  Cross Country Skiing Men's 10/15 kilometres Pu...   NaN  \n",
       "17  Cross Country Skiing Men's 4 x 10 kilometres R...   NaN  \n",
       "18           Cross Country Skiing Men's 10 kilometres   NaN  \n",
       "19           Cross Country Skiing Men's 50 kilometres   NaN  "
      ]
     },
     "execution_count": 191,
     "metadata": {},
     "output_type": "execute_result"
    }
   ],
   "source": [
    "df.head(20)"
   ]
  },
  {
   "cell_type": "code",
   "execution_count": 192,
   "id": "3ddd249a",
   "metadata": {},
   "outputs": [
    {
     "name": "stdout",
     "output_type": "stream",
     "text": [
      "<class 'pandas.core.frame.DataFrame'>\n",
      "RangeIndex: 271116 entries, 0 to 271115\n",
      "Data columns (total 15 columns):\n",
      " #   Column  Non-Null Count   Dtype  \n",
      "---  ------  --------------   -----  \n",
      " 0   ID      271116 non-null  int64  \n",
      " 1   Name    271116 non-null  object \n",
      " 2   Sex     271116 non-null  object \n",
      " 3   Age     261642 non-null  float64\n",
      " 4   Height  210945 non-null  float64\n",
      " 5   Weight  208241 non-null  float64\n",
      " 6   Team    271116 non-null  object \n",
      " 7   NOC     271116 non-null  object \n",
      " 8   Games   271116 non-null  object \n",
      " 9   Year    271116 non-null  int64  \n",
      " 10  Season  271116 non-null  object \n",
      " 11  City    271116 non-null  object \n",
      " 12  Sport   271116 non-null  object \n",
      " 13  Event   271116 non-null  object \n",
      " 14  Medal   39783 non-null   object \n",
      "dtypes: float64(3), int64(2), object(10)\n",
      "memory usage: 158.9 MB\n"
     ]
    }
   ],
   "source": [
    "# category\n",
    "\n",
    "df.info(memory_usage='deep')"
   ]
  },
  {
   "cell_type": "code",
   "execution_count": 194,
   "id": "9fdd9c06",
   "metadata": {},
   "outputs": [],
   "source": [
    "df['Team'] = df['Team'].astype('category')"
   ]
  },
  {
   "cell_type": "code",
   "execution_count": 195,
   "id": "d85c67d9",
   "metadata": {},
   "outputs": [
    {
     "name": "stdout",
     "output_type": "stream",
     "text": [
      "<class 'pandas.core.frame.DataFrame'>\n",
      "RangeIndex: 271116 entries, 0 to 271115\n",
      "Data columns (total 15 columns):\n",
      " #   Column  Non-Null Count   Dtype   \n",
      "---  ------  --------------   -----   \n",
      " 0   ID      271116 non-null  int64   \n",
      " 1   Name    271116 non-null  object  \n",
      " 2   Sex     271116 non-null  object  \n",
      " 3   Age     261642 non-null  float64 \n",
      " 4   Height  210945 non-null  float64 \n",
      " 5   Weight  208241 non-null  float64 \n",
      " 6   Team    271116 non-null  category\n",
      " 7   NOC     271116 non-null  object  \n",
      " 8   Games   271116 non-null  object  \n",
      " 9   Year    271116 non-null  int64   \n",
      " 10  Season  271116 non-null  object  \n",
      " 11  City    271116 non-null  object  \n",
      " 12  Sport   271116 non-null  object  \n",
      " 13  Event   271116 non-null  object  \n",
      " 14  Medal   39783 non-null   object  \n",
      "dtypes: category(1), float64(3), int64(2), object(9)\n",
      "memory usage: 144.6 MB\n"
     ]
    }
   ],
   "source": [
    "df.info(memory_usage='deep')"
   ]
  },
  {
   "cell_type": "code",
   "execution_count": 196,
   "id": "305c8f51",
   "metadata": {},
   "outputs": [
    {
     "data": {
      "text/plain": [
       "0                  China\n",
       "1                  China\n",
       "2                Denmark\n",
       "3         Denmark/Sweden\n",
       "4            Netherlands\n",
       "               ...      \n",
       "271111          Poland-1\n",
       "271112            Poland\n",
       "271113            Poland\n",
       "271114            Poland\n",
       "271115            Poland\n",
       "Name: Team, Length: 271116, dtype: category\n",
       "Categories (1184, object): ['30. Februar', 'A North American Team', 'Acipactli', 'Acturus', ..., 'Zefyros', 'Zimbabwe', 'Zut', 'rn-2']"
      ]
     },
     "execution_count": 196,
     "metadata": {},
     "output_type": "execute_result"
    }
   ],
   "source": [
    "df['Team']"
   ]
  },
  {
   "cell_type": "code",
   "execution_count": 198,
   "id": "bd7feb7a",
   "metadata": {
    "scrolled": true
   },
   "outputs": [
    {
     "data": {
      "text/html": [
       "<div>\n",
       "<style scoped>\n",
       "    .dataframe tbody tr th:only-of-type {\n",
       "        vertical-align: middle;\n",
       "    }\n",
       "\n",
       "    .dataframe tbody tr th {\n",
       "        vertical-align: top;\n",
       "    }\n",
       "\n",
       "    .dataframe thead th {\n",
       "        text-align: right;\n",
       "    }\n",
       "</style>\n",
       "<table border=\"1\" class=\"dataframe\">\n",
       "  <thead>\n",
       "    <tr style=\"text-align: right;\">\n",
       "      <th></th>\n",
       "      <th>Name</th>\n",
       "      <th>Sex</th>\n",
       "      <th>NOC</th>\n",
       "      <th>Games</th>\n",
       "      <th>Season</th>\n",
       "      <th>City</th>\n",
       "      <th>Sport</th>\n",
       "      <th>Event</th>\n",
       "      <th>Medal</th>\n",
       "    </tr>\n",
       "  </thead>\n",
       "  <tbody>\n",
       "    <tr>\n",
       "      <th>count</th>\n",
       "      <td>271116</td>\n",
       "      <td>271116</td>\n",
       "      <td>271116</td>\n",
       "      <td>271116</td>\n",
       "      <td>271116</td>\n",
       "      <td>271116</td>\n",
       "      <td>271116</td>\n",
       "      <td>271116</td>\n",
       "      <td>39783</td>\n",
       "    </tr>\n",
       "    <tr>\n",
       "      <th>unique</th>\n",
       "      <td>134732</td>\n",
       "      <td>2</td>\n",
       "      <td>230</td>\n",
       "      <td>51</td>\n",
       "      <td>2</td>\n",
       "      <td>42</td>\n",
       "      <td>66</td>\n",
       "      <td>765</td>\n",
       "      <td>3</td>\n",
       "    </tr>\n",
       "    <tr>\n",
       "      <th>top</th>\n",
       "      <td>Robert Tait McKenzie</td>\n",
       "      <td>M</td>\n",
       "      <td>USA</td>\n",
       "      <td>2000 Summer</td>\n",
       "      <td>Summer</td>\n",
       "      <td>London</td>\n",
       "      <td>Athletics</td>\n",
       "      <td>Football Men's Football</td>\n",
       "      <td>Gold</td>\n",
       "    </tr>\n",
       "    <tr>\n",
       "      <th>freq</th>\n",
       "      <td>58</td>\n",
       "      <td>196594</td>\n",
       "      <td>18853</td>\n",
       "      <td>13821</td>\n",
       "      <td>222552</td>\n",
       "      <td>22426</td>\n",
       "      <td>38624</td>\n",
       "      <td>5733</td>\n",
       "      <td>13372</td>\n",
       "    </tr>\n",
       "  </tbody>\n",
       "</table>\n",
       "</div>"
      ],
      "text/plain": [
       "                        Name     Sex     NOC        Games  Season    City  \\\n",
       "count                 271116  271116  271116       271116  271116  271116   \n",
       "unique                134732       2     230           51       2      42   \n",
       "top     Robert Tait McKenzie       M     USA  2000 Summer  Summer  London   \n",
       "freq                      58  196594   18853        13821  222552   22426   \n",
       "\n",
       "            Sport                    Event  Medal  \n",
       "count      271116                   271116  39783  \n",
       "unique         66                      765      3  \n",
       "top     Athletics  Football Men's Football   Gold  \n",
       "freq        38624                     5733  13372  "
      ]
     },
     "execution_count": 198,
     "metadata": {},
     "output_type": "execute_result"
    }
   ],
   "source": [
    "df.describe(include='object')"
   ]
  },
  {
   "cell_type": "code",
   "execution_count": 199,
   "id": "4b82402a",
   "metadata": {},
   "outputs": [
    {
     "name": "stdout",
     "output_type": "stream",
     "text": [
      "<class 'pandas.core.frame.DataFrame'>\n",
      "RangeIndex: 271116 entries, 0 to 271115\n",
      "Data columns (total 15 columns):\n",
      " #   Column  Non-Null Count   Dtype   \n",
      "---  ------  --------------   -----   \n",
      " 0   ID      271116 non-null  int64   \n",
      " 1   Name    271116 non-null  category\n",
      " 2   Sex     271116 non-null  category\n",
      " 3   Age     261642 non-null  float64 \n",
      " 4   Height  210945 non-null  float64 \n",
      " 5   Weight  208241 non-null  float64 \n",
      " 6   Team    271116 non-null  category\n",
      " 7   NOC     271116 non-null  category\n",
      " 8   Games   271116 non-null  category\n",
      " 9   Year    271116 non-null  int64   \n",
      " 10  Season  271116 non-null  category\n",
      " 11  City    271116 non-null  category\n",
      " 12  Sport   271116 non-null  category\n",
      " 13  Event   271116 non-null  category\n",
      " 14  Medal   39783 non-null   category\n",
      "dtypes: category(10), float64(3), int64(2)\n",
      "memory usage: 27.5 MB\n"
     ]
    }
   ],
   "source": [
    "for one_column in ['Name', 'Sex', 'NOC', 'Games',\n",
    "                   'Season', 'City', 'Sport', 'Event', 'Medal']:\n",
    "    df[one_column] = df[one_column].astype('category')\n",
    "    \n",
    "df.info(memory_usage='deep')    "
   ]
  },
  {
   "cell_type": "code",
   "execution_count": 200,
   "id": "38900829",
   "metadata": {},
   "outputs": [
    {
     "name": "stdout",
     "output_type": "stream",
     "text": [
      "../data/2020_sharing_data_outside.csv\t ../data/oecd_locations.csv\r\n",
      "../data/CPILFESL.csv\t\t\t ../data/oecd_tourism.csv\r\n",
      "../data/albany,ny.csv\t\t\t ../data/olympic_athlete_events.csv\r\n",
      "../data/boston,ma.csv\t\t\t ../data/san+francisco,ca.csv\r\n",
      "../data/celebrity_deaths_2016.csv\t ../data/sat-scores.csv\r\n",
      "../data/chicago,il.csv\t\t\t ../data/skyscrapers.csv\r\n",
      "../data/eu_cpi.csv\t\t\t ../data/so_2021_survey_results.csv\r\n",
      "../data/eu_gdp.csv\t\t\t ../data/springfield,il.csv\r\n",
      "../data/ice-cream.csv\t\t\t ../data/springfield,ma.csv\r\n",
      "../data/los+angeles,ca.csv\t\t ../data/taxi-distance.csv\r\n",
      "../data/miles-traveled.csv\t\t ../data/taxi-passenger-count.csv\r\n",
      "../data/new+york,ny.csv\t\t\t ../data/us-median-cpi.csv\r\n",
      "../data/nyc-parking-violations-2020.csv  ../data/us-unemployment-rate.csv\r\n",
      "../data/nyc_taxi_2019-01.csv\t\t ../data/us_gdp.csv\r\n",
      "../data/nyc_taxi_2019-07.csv\t\t ../data/winemag-150k-reviews.csv\r\n",
      "../data/nyc_taxi_2020-01.csv\t\t ../data/wti-daily.csv\r\n",
      "../data/nyc_taxi_2020-07.csv\r\n"
     ]
    }
   ],
   "source": [
    "!ls ../data/*.csv"
   ]
  },
  {
   "cell_type": "markdown",
   "id": "25e45231",
   "metadata": {},
   "source": [
    "# Exercise: Text, memory, and wine\n",
    "\n",
    "1. Load into a data frame `../data/winemag-150k-reviews.csv`.\n",
    "2. How much memory does this use? How much does it tell you the data frame uses, if you don't do a \"deep\" check?\n",
    "3. What columns will/won't be useful with categories?\n",
    "4. Convert some/all to categories, and compare with what was earlier."
   ]
  },
  {
   "cell_type": "code",
   "execution_count": 201,
   "id": "8a5ecf20",
   "metadata": {},
   "outputs": [],
   "source": [
    "filename = '../data/winemag-150k-reviews.csv'\n",
    "\n",
    "df = pd.read_csv(filename)"
   ]
  },
  {
   "cell_type": "code",
   "execution_count": 203,
   "id": "452f130a",
   "metadata": {},
   "outputs": [
    {
     "data": {
      "text/plain": [
       "(150930, 11)"
      ]
     },
     "execution_count": 203,
     "metadata": {},
     "output_type": "execute_result"
    }
   ],
   "source": [
    "df.shape"
   ]
  },
  {
   "cell_type": "code",
   "execution_count": 204,
   "id": "81cb403e",
   "metadata": {},
   "outputs": [
    {
     "data": {
      "text/html": [
       "<div>\n",
       "<style scoped>\n",
       "    .dataframe tbody tr th:only-of-type {\n",
       "        vertical-align: middle;\n",
       "    }\n",
       "\n",
       "    .dataframe tbody tr th {\n",
       "        vertical-align: top;\n",
       "    }\n",
       "\n",
       "    .dataframe thead th {\n",
       "        text-align: right;\n",
       "    }\n",
       "</style>\n",
       "<table border=\"1\" class=\"dataframe\">\n",
       "  <thead>\n",
       "    <tr style=\"text-align: right;\">\n",
       "      <th></th>\n",
       "      <th>Unnamed: 0</th>\n",
       "      <th>country</th>\n",
       "      <th>description</th>\n",
       "      <th>designation</th>\n",
       "      <th>points</th>\n",
       "      <th>price</th>\n",
       "      <th>province</th>\n",
       "      <th>region_1</th>\n",
       "      <th>region_2</th>\n",
       "      <th>variety</th>\n",
       "      <th>winery</th>\n",
       "    </tr>\n",
       "  </thead>\n",
       "  <tbody>\n",
       "    <tr>\n",
       "      <th>0</th>\n",
       "      <td>0</td>\n",
       "      <td>US</td>\n",
       "      <td>This tremendous 100% varietal wine hails from ...</td>\n",
       "      <td>Martha's Vineyard</td>\n",
       "      <td>96</td>\n",
       "      <td>235.0</td>\n",
       "      <td>California</td>\n",
       "      <td>Napa Valley</td>\n",
       "      <td>Napa</td>\n",
       "      <td>Cabernet Sauvignon</td>\n",
       "      <td>Heitz</td>\n",
       "    </tr>\n",
       "    <tr>\n",
       "      <th>1</th>\n",
       "      <td>1</td>\n",
       "      <td>Spain</td>\n",
       "      <td>Ripe aromas of fig, blackberry and cassis are ...</td>\n",
       "      <td>Carodorum Selección Especial Reserva</td>\n",
       "      <td>96</td>\n",
       "      <td>110.0</td>\n",
       "      <td>Northern Spain</td>\n",
       "      <td>Toro</td>\n",
       "      <td>NaN</td>\n",
       "      <td>Tinta de Toro</td>\n",
       "      <td>Bodega Carmen Rodríguez</td>\n",
       "    </tr>\n",
       "    <tr>\n",
       "      <th>2</th>\n",
       "      <td>2</td>\n",
       "      <td>US</td>\n",
       "      <td>Mac Watson honors the memory of a wine once ma...</td>\n",
       "      <td>Special Selected Late Harvest</td>\n",
       "      <td>96</td>\n",
       "      <td>90.0</td>\n",
       "      <td>California</td>\n",
       "      <td>Knights Valley</td>\n",
       "      <td>Sonoma</td>\n",
       "      <td>Sauvignon Blanc</td>\n",
       "      <td>Macauley</td>\n",
       "    </tr>\n",
       "    <tr>\n",
       "      <th>3</th>\n",
       "      <td>3</td>\n",
       "      <td>US</td>\n",
       "      <td>This spent 20 months in 30% new French oak, an...</td>\n",
       "      <td>Reserve</td>\n",
       "      <td>96</td>\n",
       "      <td>65.0</td>\n",
       "      <td>Oregon</td>\n",
       "      <td>Willamette Valley</td>\n",
       "      <td>Willamette Valley</td>\n",
       "      <td>Pinot Noir</td>\n",
       "      <td>Ponzi</td>\n",
       "    </tr>\n",
       "    <tr>\n",
       "      <th>4</th>\n",
       "      <td>4</td>\n",
       "      <td>France</td>\n",
       "      <td>This is the top wine from La Bégude, named aft...</td>\n",
       "      <td>La Brûlade</td>\n",
       "      <td>95</td>\n",
       "      <td>66.0</td>\n",
       "      <td>Provence</td>\n",
       "      <td>Bandol</td>\n",
       "      <td>NaN</td>\n",
       "      <td>Provence red blend</td>\n",
       "      <td>Domaine de la Bégude</td>\n",
       "    </tr>\n",
       "  </tbody>\n",
       "</table>\n",
       "</div>"
      ],
      "text/plain": [
       "   Unnamed: 0 country                                        description  \\\n",
       "0           0      US  This tremendous 100% varietal wine hails from ...   \n",
       "1           1   Spain  Ripe aromas of fig, blackberry and cassis are ...   \n",
       "2           2      US  Mac Watson honors the memory of a wine once ma...   \n",
       "3           3      US  This spent 20 months in 30% new French oak, an...   \n",
       "4           4  France  This is the top wine from La Bégude, named aft...   \n",
       "\n",
       "                            designation  points  price        province  \\\n",
       "0                     Martha's Vineyard      96  235.0      California   \n",
       "1  Carodorum Selección Especial Reserva      96  110.0  Northern Spain   \n",
       "2         Special Selected Late Harvest      96   90.0      California   \n",
       "3                               Reserve      96   65.0          Oregon   \n",
       "4                            La Brûlade      95   66.0        Provence   \n",
       "\n",
       "            region_1           region_2             variety  \\\n",
       "0        Napa Valley               Napa  Cabernet Sauvignon   \n",
       "1               Toro                NaN       Tinta de Toro   \n",
       "2     Knights Valley             Sonoma     Sauvignon Blanc   \n",
       "3  Willamette Valley  Willamette Valley          Pinot Noir   \n",
       "4             Bandol                NaN  Provence red blend   \n",
       "\n",
       "                    winery  \n",
       "0                    Heitz  \n",
       "1  Bodega Carmen Rodríguez  \n",
       "2                 Macauley  \n",
       "3                    Ponzi  \n",
       "4     Domaine de la Bégude  "
      ]
     },
     "execution_count": 204,
     "metadata": {},
     "output_type": "execute_result"
    }
   ],
   "source": [
    "df.head()"
   ]
  },
  {
   "cell_type": "code",
   "execution_count": 205,
   "id": "faa441e7",
   "metadata": {},
   "outputs": [
    {
     "name": "stdout",
     "output_type": "stream",
     "text": [
      "<class 'pandas.core.frame.DataFrame'>\n",
      "RangeIndex: 150930 entries, 0 to 150929\n",
      "Data columns (total 11 columns):\n",
      " #   Column       Non-Null Count   Dtype  \n",
      "---  ------       --------------   -----  \n",
      " 0   Unnamed: 0   150930 non-null  int64  \n",
      " 1   country      150925 non-null  object \n",
      " 2   description  150930 non-null  object \n",
      " 3   designation  105195 non-null  object \n",
      " 4   points       150930 non-null  int64  \n",
      " 5   price        137235 non-null  float64\n",
      " 6   province     150925 non-null  object \n",
      " 7   region_1     125870 non-null  object \n",
      " 8   region_2     60953 non-null   object \n",
      " 9   variety      150930 non-null  object \n",
      " 10  winery       150930 non-null  object \n",
      "dtypes: float64(1), int64(2), object(8)\n",
      "memory usage: 105.8 MB\n"
     ]
    }
   ],
   "source": [
    "df.info(memory_usage='deep')"
   ]
  },
  {
   "cell_type": "code",
   "execution_count": 206,
   "id": "9e6be2b3",
   "metadata": {},
   "outputs": [
    {
     "name": "stdout",
     "output_type": "stream",
     "text": [
      "-rw-r--r-- 1 student student 48M Jul 29  2021 ../data/winemag-150k-reviews.csv\r\n"
     ]
    }
   ],
   "source": [
    "!ls -lh $filename"
   ]
  },
  {
   "cell_type": "code",
   "execution_count": 207,
   "id": "3eac5a61",
   "metadata": {},
   "outputs": [
    {
     "data": {
      "text/html": [
       "<div>\n",
       "<style scoped>\n",
       "    .dataframe tbody tr th:only-of-type {\n",
       "        vertical-align: middle;\n",
       "    }\n",
       "\n",
       "    .dataframe tbody tr th {\n",
       "        vertical-align: top;\n",
       "    }\n",
       "\n",
       "    .dataframe thead th {\n",
       "        text-align: right;\n",
       "    }\n",
       "</style>\n",
       "<table border=\"1\" class=\"dataframe\">\n",
       "  <thead>\n",
       "    <tr style=\"text-align: right;\">\n",
       "      <th></th>\n",
       "      <th>country</th>\n",
       "      <th>description</th>\n",
       "      <th>designation</th>\n",
       "      <th>province</th>\n",
       "      <th>region_1</th>\n",
       "      <th>region_2</th>\n",
       "      <th>variety</th>\n",
       "      <th>winery</th>\n",
       "    </tr>\n",
       "  </thead>\n",
       "  <tbody>\n",
       "    <tr>\n",
       "      <th>count</th>\n",
       "      <td>150925</td>\n",
       "      <td>150930</td>\n",
       "      <td>105195</td>\n",
       "      <td>150925</td>\n",
       "      <td>125870</td>\n",
       "      <td>60953</td>\n",
       "      <td>150930</td>\n",
       "      <td>150930</td>\n",
       "    </tr>\n",
       "    <tr>\n",
       "      <th>unique</th>\n",
       "      <td>48</td>\n",
       "      <td>97821</td>\n",
       "      <td>30621</td>\n",
       "      <td>455</td>\n",
       "      <td>1236</td>\n",
       "      <td>18</td>\n",
       "      <td>632</td>\n",
       "      <td>14810</td>\n",
       "    </tr>\n",
       "    <tr>\n",
       "      <th>top</th>\n",
       "      <td>US</td>\n",
       "      <td>A little bit funky and unsettled when you pop ...</td>\n",
       "      <td>Reserve</td>\n",
       "      <td>California</td>\n",
       "      <td>Napa Valley</td>\n",
       "      <td>Central Coast</td>\n",
       "      <td>Chardonnay</td>\n",
       "      <td>Williams Selyem</td>\n",
       "    </tr>\n",
       "    <tr>\n",
       "      <th>freq</th>\n",
       "      <td>62397</td>\n",
       "      <td>6</td>\n",
       "      <td>2752</td>\n",
       "      <td>44508</td>\n",
       "      <td>6209</td>\n",
       "      <td>13057</td>\n",
       "      <td>14482</td>\n",
       "      <td>374</td>\n",
       "    </tr>\n",
       "  </tbody>\n",
       "</table>\n",
       "</div>"
      ],
      "text/plain": [
       "       country                                        description designation  \\\n",
       "count   150925                                             150930      105195   \n",
       "unique      48                                              97821       30621   \n",
       "top         US  A little bit funky and unsettled when you pop ...     Reserve   \n",
       "freq     62397                                                  6        2752   \n",
       "\n",
       "          province     region_1       region_2     variety           winery  \n",
       "count       150925       125870          60953      150930           150930  \n",
       "unique         455         1236             18         632            14810  \n",
       "top     California  Napa Valley  Central Coast  Chardonnay  Williams Selyem  \n",
       "freq         44508         6209          13057       14482              374  "
      ]
     },
     "execution_count": 207,
     "metadata": {},
     "output_type": "execute_result"
    }
   ],
   "source": [
    "df.describe(include='object')"
   ]
  },
  {
   "cell_type": "code",
   "execution_count": 208,
   "id": "37503b94",
   "metadata": {},
   "outputs": [],
   "source": [
    "for one_column in ['country', 'description', 'designation', 'province',\n",
    "                  'region_1', 'region_2', 'variety', 'winery']:\n",
    "    df[one_column]= df[one_column].astype('category')"
   ]
  },
  {
   "cell_type": "code",
   "execution_count": 209,
   "id": "a9d4da83",
   "metadata": {},
   "outputs": [
    {
     "name": "stdout",
     "output_type": "stream",
     "text": [
      "<class 'pandas.core.frame.DataFrame'>\n",
      "RangeIndex: 150930 entries, 0 to 150929\n",
      "Data columns (total 11 columns):\n",
      " #   Column       Non-Null Count   Dtype   \n",
      "---  ------       --------------   -----   \n",
      " 0   Unnamed: 0   150930 non-null  int64   \n",
      " 1   country      150925 non-null  category\n",
      " 2   description  150930 non-null  category\n",
      " 3   designation  105195 non-null  category\n",
      " 4   points       150930 non-null  int64   \n",
      " 5   price        137235 non-null  float64 \n",
      " 6   province     150925 non-null  category\n",
      " 7   region_1     125870 non-null  category\n",
      " 8   region_2     60953 non-null   category\n",
      " 9   variety      150930 non-null  category\n",
      " 10  winery       150930 non-null  category\n",
      "dtypes: category(8), float64(1), int64(2)\n",
      "memory usage: 45.8 MB\n"
     ]
    }
   ],
   "source": [
    "df.info(memory_usage='deep')"
   ]
  },
  {
   "cell_type": "markdown",
   "id": "0976b86c",
   "metadata": {},
   "source": [
    "# Grouping"
   ]
  },
  {
   "cell_type": "code",
   "execution_count": 210,
   "id": "18df9090",
   "metadata": {},
   "outputs": [
    {
     "data": {
      "text/html": [
       "<div>\n",
       "<style scoped>\n",
       "    .dataframe tbody tr th:only-of-type {\n",
       "        vertical-align: middle;\n",
       "    }\n",
       "\n",
       "    .dataframe tbody tr th {\n",
       "        vertical-align: top;\n",
       "    }\n",
       "\n",
       "    .dataframe thead th {\n",
       "        text-align: right;\n",
       "    }\n",
       "</style>\n",
       "<table border=\"1\" class=\"dataframe\">\n",
       "  <thead>\n",
       "    <tr style=\"text-align: right;\">\n",
       "      <th></th>\n",
       "      <th>Unnamed: 0</th>\n",
       "      <th>country</th>\n",
       "      <th>description</th>\n",
       "      <th>designation</th>\n",
       "      <th>points</th>\n",
       "      <th>price</th>\n",
       "      <th>province</th>\n",
       "      <th>region_1</th>\n",
       "      <th>region_2</th>\n",
       "      <th>variety</th>\n",
       "      <th>winery</th>\n",
       "    </tr>\n",
       "  </thead>\n",
       "  <tbody>\n",
       "    <tr>\n",
       "      <th>0</th>\n",
       "      <td>0</td>\n",
       "      <td>US</td>\n",
       "      <td>This tremendous 100% varietal wine hails from ...</td>\n",
       "      <td>Martha's Vineyard</td>\n",
       "      <td>96</td>\n",
       "      <td>235.0</td>\n",
       "      <td>California</td>\n",
       "      <td>Napa Valley</td>\n",
       "      <td>Napa</td>\n",
       "      <td>Cabernet Sauvignon</td>\n",
       "      <td>Heitz</td>\n",
       "    </tr>\n",
       "    <tr>\n",
       "      <th>1</th>\n",
       "      <td>1</td>\n",
       "      <td>Spain</td>\n",
       "      <td>Ripe aromas of fig, blackberry and cassis are ...</td>\n",
       "      <td>Carodorum Selección Especial Reserva</td>\n",
       "      <td>96</td>\n",
       "      <td>110.0</td>\n",
       "      <td>Northern Spain</td>\n",
       "      <td>Toro</td>\n",
       "      <td>NaN</td>\n",
       "      <td>Tinta de Toro</td>\n",
       "      <td>Bodega Carmen Rodríguez</td>\n",
       "    </tr>\n",
       "    <tr>\n",
       "      <th>2</th>\n",
       "      <td>2</td>\n",
       "      <td>US</td>\n",
       "      <td>Mac Watson honors the memory of a wine once ma...</td>\n",
       "      <td>Special Selected Late Harvest</td>\n",
       "      <td>96</td>\n",
       "      <td>90.0</td>\n",
       "      <td>California</td>\n",
       "      <td>Knights Valley</td>\n",
       "      <td>Sonoma</td>\n",
       "      <td>Sauvignon Blanc</td>\n",
       "      <td>Macauley</td>\n",
       "    </tr>\n",
       "    <tr>\n",
       "      <th>3</th>\n",
       "      <td>3</td>\n",
       "      <td>US</td>\n",
       "      <td>This spent 20 months in 30% new French oak, an...</td>\n",
       "      <td>Reserve</td>\n",
       "      <td>96</td>\n",
       "      <td>65.0</td>\n",
       "      <td>Oregon</td>\n",
       "      <td>Willamette Valley</td>\n",
       "      <td>Willamette Valley</td>\n",
       "      <td>Pinot Noir</td>\n",
       "      <td>Ponzi</td>\n",
       "    </tr>\n",
       "    <tr>\n",
       "      <th>4</th>\n",
       "      <td>4</td>\n",
       "      <td>France</td>\n",
       "      <td>This is the top wine from La Bégude, named aft...</td>\n",
       "      <td>La Brûlade</td>\n",
       "      <td>95</td>\n",
       "      <td>66.0</td>\n",
       "      <td>Provence</td>\n",
       "      <td>Bandol</td>\n",
       "      <td>NaN</td>\n",
       "      <td>Provence red blend</td>\n",
       "      <td>Domaine de la Bégude</td>\n",
       "    </tr>\n",
       "  </tbody>\n",
       "</table>\n",
       "</div>"
      ],
      "text/plain": [
       "   Unnamed: 0 country                                        description  \\\n",
       "0           0      US  This tremendous 100% varietal wine hails from ...   \n",
       "1           1   Spain  Ripe aromas of fig, blackberry and cassis are ...   \n",
       "2           2      US  Mac Watson honors the memory of a wine once ma...   \n",
       "3           3      US  This spent 20 months in 30% new French oak, an...   \n",
       "4           4  France  This is the top wine from La Bégude, named aft...   \n",
       "\n",
       "                            designation  points  price        province  \\\n",
       "0                     Martha's Vineyard      96  235.0      California   \n",
       "1  Carodorum Selección Especial Reserva      96  110.0  Northern Spain   \n",
       "2         Special Selected Late Harvest      96   90.0      California   \n",
       "3                               Reserve      96   65.0          Oregon   \n",
       "4                            La Brûlade      95   66.0        Provence   \n",
       "\n",
       "            region_1           region_2             variety  \\\n",
       "0        Napa Valley               Napa  Cabernet Sauvignon   \n",
       "1               Toro                NaN       Tinta de Toro   \n",
       "2     Knights Valley             Sonoma     Sauvignon Blanc   \n",
       "3  Willamette Valley  Willamette Valley          Pinot Noir   \n",
       "4             Bandol                NaN  Provence red blend   \n",
       "\n",
       "                    winery  \n",
       "0                    Heitz  \n",
       "1  Bodega Carmen Rodríguez  \n",
       "2                 Macauley  \n",
       "3                    Ponzi  \n",
       "4     Domaine de la Bégude  "
      ]
     },
     "execution_count": 210,
     "metadata": {},
     "output_type": "execute_result"
    }
   ],
   "source": [
    "df.head()"
   ]
  },
  {
   "cell_type": "code",
   "execution_count": 214,
   "id": "b76a9358",
   "metadata": {},
   "outputs": [
    {
     "data": {
      "text/plain": [
       "87.68273119439202"
      ]
     },
     "execution_count": 214,
     "metadata": {},
     "output_type": "execute_result"
    }
   ],
   "source": [
    "# How many points did California wines get, on average?\n",
    "\n",
    "df.loc[df['province'] == 'California', 'points'].mean()"
   ]
  },
  {
   "cell_type": "code",
   "execution_count": 215,
   "id": "6531947d",
   "metadata": {},
   "outputs": [
    {
     "data": {
      "text/plain": [
       "88.25465230166503"
      ]
     },
     "execution_count": 215,
     "metadata": {},
     "output_type": "execute_result"
    }
   ],
   "source": [
    "df.loc[df['province'] == 'Provence', 'points'].mean()"
   ]
  },
  {
   "cell_type": "code",
   "execution_count": 216,
   "id": "1e47b906",
   "metadata": {},
   "outputs": [
    {
     "data": {
      "text/plain": [
       "86.78720359771054"
      ]
     },
     "execution_count": 216,
     "metadata": {},
     "output_type": "execute_result"
    }
   ],
   "source": [
    "df.loc[df['province'] == 'Northern Spain', 'points'].mean()"
   ]
  },
  {
   "cell_type": "code",
   "execution_count": 217,
   "id": "9892a1ce",
   "metadata": {},
   "outputs": [
    {
     "name": "stderr",
     "output_type": "stream",
     "text": [
      "/tmp/ipykernel_684037/1523081386.py:7: FutureWarning: The default of observed=False is deprecated and will be changed to True in a future version of pandas. Pass observed=False to retain current behavior or observed=True to adopt the future default and silence this warning.\n",
      "  df.groupby('province')['points'].mean()\n"
     ]
    },
    {
     "data": {
      "text/plain": [
       "province\n",
       "Achaia                   83.500000\n",
       "Aconcagua Costa          89.200000\n",
       "Aconcagua Valley         87.288660\n",
       "Aegean                   88.500000\n",
       "Ahr                      88.000000\n",
       "                           ...    \n",
       "Zenata                   88.500000\n",
       "Zitsa                    82.000000\n",
       "Österreichischer Sekt    86.450000\n",
       "Štajerska                86.600000\n",
       "Župa                     88.090909\n",
       "Name: points, Length: 455, dtype: float64"
      ]
     },
     "execution_count": 217,
     "metadata": {},
     "output_type": "execute_result"
    }
   ],
   "source": [
    "# groupby -- \n",
    "# - categorical column -- what do we want to separate our queries on?\n",
    "# - numerical column -- what numeric column do we want to calculate?\n",
    "# - aggregation method -- what do we want to run?\n",
    "\n",
    "#         categorical   numeric   agg method\n",
    "df.groupby('province')['points'].mean()"
   ]
  },
  {
   "cell_type": "code",
   "execution_count": 220,
   "id": "676f3573",
   "metadata": {},
   "outputs": [
    {
     "name": "stderr",
     "output_type": "stream",
     "text": [
      "/tmp/ipykernel_684037/1121479182.py:1: FutureWarning: The default of observed=False is deprecated and will be changed to True in a future version of pandas. Pass observed=False to retain current behavior or observed=True to adopt the future default and silence this warning.\n",
      "  df.groupby('country')['points'].mean()\n"
     ]
    },
    {
     "data": {
      "text/plain": [
       "country\n",
       "Albania                   88.000000\n",
       "Argentina                 85.996093\n",
       "Australia                 87.892475\n",
       "Austria                   89.276742\n",
       "Bosnia and Herzegovina    84.750000\n",
       "Brazil                    83.240000\n",
       "Bulgaria                  85.467532\n",
       "Canada                    88.239796\n",
       "Chile                     86.296768\n",
       "China                     82.000000\n",
       "Croatia                   86.280899\n",
       "Cyprus                    85.870968\n",
       "Czech Republic            85.833333\n",
       "Egypt                     83.666667\n",
       "England                   92.888889\n",
       "France                    88.925870\n",
       "Georgia                   85.511628\n",
       "Germany                   88.626427\n",
       "Greece                    86.117647\n",
       "Hungary                   87.329004\n",
       "India                     87.625000\n",
       "Israel                    87.176190\n",
       "Italy                     88.413664\n",
       "Japan                     85.000000\n",
       "Lebanon                   85.702703\n",
       "Lithuania                 84.250000\n",
       "Luxembourg                87.000000\n",
       "Macedonia                 84.812500\n",
       "Mexico                    84.761905\n",
       "Moldova                   84.718310\n",
       "Montenegro                82.000000\n",
       "Morocco                   88.166667\n",
       "New Zealand               87.554217\n",
       "Portugal                  88.057685\n",
       "Romania                   84.920863\n",
       "Serbia                    87.714286\n",
       "Slovakia                  83.666667\n",
       "Slovenia                  88.234043\n",
       "South Africa              87.225421\n",
       "South Korea               81.500000\n",
       "Spain                     86.646589\n",
       "Switzerland               87.250000\n",
       "Tunisia                   86.000000\n",
       "Turkey                    88.096154\n",
       "US                        87.818789\n",
       "US-France                 88.000000\n",
       "Ukraine                   84.600000\n",
       "Uruguay                   84.478261\n",
       "Name: points, dtype: float64"
      ]
     },
     "execution_count": 220,
     "metadata": {},
     "output_type": "execute_result"
    }
   ],
   "source": [
    "df.groupby('country')['points'].mean()"
   ]
  },
  {
   "cell_type": "code",
   "execution_count": 221,
   "id": "01f1d4d3",
   "metadata": {},
   "outputs": [
    {
     "name": "stderr",
     "output_type": "stream",
     "text": [
      "/tmp/ipykernel_684037/4260947682.py:1: FutureWarning: The default of observed=False is deprecated and will be changed to True in a future version of pandas. Pass observed=False to retain current behavior or observed=True to adopt the future default and silence this warning.\n",
      "  df.groupby('country')['points'].mean().sort_values()\n"
     ]
    },
    {
     "data": {
      "text/plain": [
       "country\n",
       "South Korea               81.500000\n",
       "Montenegro                82.000000\n",
       "China                     82.000000\n",
       "Brazil                    83.240000\n",
       "Slovakia                  83.666667\n",
       "Egypt                     83.666667\n",
       "Lithuania                 84.250000\n",
       "Uruguay                   84.478261\n",
       "Ukraine                   84.600000\n",
       "Moldova                   84.718310\n",
       "Bosnia and Herzegovina    84.750000\n",
       "Mexico                    84.761905\n",
       "Macedonia                 84.812500\n",
       "Romania                   84.920863\n",
       "Japan                     85.000000\n",
       "Bulgaria                  85.467532\n",
       "Georgia                   85.511628\n",
       "Lebanon                   85.702703\n",
       "Czech Republic            85.833333\n",
       "Cyprus                    85.870968\n",
       "Argentina                 85.996093\n",
       "Tunisia                   86.000000\n",
       "Greece                    86.117647\n",
       "Croatia                   86.280899\n",
       "Chile                     86.296768\n",
       "Spain                     86.646589\n",
       "Luxembourg                87.000000\n",
       "Israel                    87.176190\n",
       "South Africa              87.225421\n",
       "Switzerland               87.250000\n",
       "Hungary                   87.329004\n",
       "New Zealand               87.554217\n",
       "India                     87.625000\n",
       "Serbia                    87.714286\n",
       "US                        87.818789\n",
       "Australia                 87.892475\n",
       "US-France                 88.000000\n",
       "Albania                   88.000000\n",
       "Portugal                  88.057685\n",
       "Turkey                    88.096154\n",
       "Morocco                   88.166667\n",
       "Slovenia                  88.234043\n",
       "Canada                    88.239796\n",
       "Italy                     88.413664\n",
       "Germany                   88.626427\n",
       "France                    88.925870\n",
       "Austria                   89.276742\n",
       "England                   92.888889\n",
       "Name: points, dtype: float64"
      ]
     },
     "execution_count": 221,
     "metadata": {},
     "output_type": "execute_result"
    }
   ],
   "source": [
    "df.groupby('country')['points'].mean().sort_values()"
   ]
  },
  {
   "cell_type": "markdown",
   "id": "3681f226",
   "metadata": {},
   "source": [
    "# Exercise: Grouping and taxis\n",
    "\n",
    "1. Define a data frame from `taxi.csv`\n",
    "2. How much did people pay, on average, for every different `passenger_count`?\n",
    "3. Calculate the tip (`tip_amount`) as a percentage of `total_fare`, and assign to `tip_percentage`. Did larger groups pay a larger percentage tip?\n",
    "4. Check the mean `tip_percentage` for each value of `VendorID`"
   ]
  },
  {
   "cell_type": "code",
   "execution_count": 237,
   "id": "369f8427",
   "metadata": {},
   "outputs": [
    {
     "data": {
      "text/html": [
       "<div>\n",
       "<style scoped>\n",
       "    .dataframe tbody tr th:only-of-type {\n",
       "        vertical-align: middle;\n",
       "    }\n",
       "\n",
       "    .dataframe tbody tr th {\n",
       "        vertical-align: top;\n",
       "    }\n",
       "\n",
       "    .dataframe thead th {\n",
       "        text-align: right;\n",
       "    }\n",
       "</style>\n",
       "<table border=\"1\" class=\"dataframe\">\n",
       "  <thead>\n",
       "    <tr style=\"text-align: right;\">\n",
       "      <th></th>\n",
       "      <th>VendorID</th>\n",
       "      <th>passenger_count</th>\n",
       "      <th>tip_amount</th>\n",
       "      <th>total_amount</th>\n",
       "    </tr>\n",
       "  </thead>\n",
       "  <tbody>\n",
       "    <tr>\n",
       "      <th>0</th>\n",
       "      <td>2</td>\n",
       "      <td>1</td>\n",
       "      <td>0.00</td>\n",
       "      <td>17.80</td>\n",
       "    </tr>\n",
       "    <tr>\n",
       "      <th>1</th>\n",
       "      <td>2</td>\n",
       "      <td>1</td>\n",
       "      <td>1.00</td>\n",
       "      <td>8.30</td>\n",
       "    </tr>\n",
       "    <tr>\n",
       "      <th>2</th>\n",
       "      <td>2</td>\n",
       "      <td>1</td>\n",
       "      <td>2.20</td>\n",
       "      <td>11.00</td>\n",
       "    </tr>\n",
       "    <tr>\n",
       "      <th>3</th>\n",
       "      <td>2</td>\n",
       "      <td>1</td>\n",
       "      <td>2.86</td>\n",
       "      <td>17.16</td>\n",
       "    </tr>\n",
       "    <tr>\n",
       "      <th>4</th>\n",
       "      <td>1</td>\n",
       "      <td>1</td>\n",
       "      <td>0.00</td>\n",
       "      <td>10.30</td>\n",
       "    </tr>\n",
       "  </tbody>\n",
       "</table>\n",
       "</div>"
      ],
      "text/plain": [
       "   VendorID  passenger_count  tip_amount  total_amount\n",
       "0         2                1        0.00         17.80\n",
       "1         2                1        1.00          8.30\n",
       "2         2                1        2.20         11.00\n",
       "3         2                1        2.86         17.16\n",
       "4         1                1        0.00         10.30"
      ]
     },
     "execution_count": 237,
     "metadata": {},
     "output_type": "execute_result"
    }
   ],
   "source": [
    "filename = 'taxi.csv'\n",
    "\n",
    "df = pd.read_csv(filename, \n",
    "                 usecols=['VendorID', 'passenger_count', 'total_amount', 'tip_amount'])\n",
    "df.head()"
   ]
  },
  {
   "cell_type": "code",
   "execution_count": 238,
   "id": "c8ce2112",
   "metadata": {},
   "outputs": [
    {
     "data": {
      "text/plain": [
       "passenger_count\n",
       "0    25.570000\n",
       "1    17.368569\n",
       "2    18.406306\n",
       "3    17.994704\n",
       "4    18.881648\n",
       "5    17.211269\n",
       "6    17.401355\n",
       "Name: total_amount, dtype: float64"
      ]
     },
     "execution_count": 238,
     "metadata": {},
     "output_type": "execute_result"
    }
   ],
   "source": [
    "df.groupby('passenger_count')['total_amount'].mean()"
   ]
  },
  {
   "cell_type": "code",
   "execution_count": 255,
   "id": "4296b998",
   "metadata": {},
   "outputs": [],
   "source": [
    "# Calculate the tip (tip_amount) as a percentage of total_fare, \n",
    "# and assign to tip_percentage. Did larger groups pay a larger percentage tip?\n",
    "\n",
    "df['tip_percentage'] = df['tip_amount'] / df['total_amount']"
   ]
  },
  {
   "cell_type": "code",
   "execution_count": 256,
   "id": "283e1dda",
   "metadata": {
    "scrolled": true
   },
   "outputs": [
    {
     "data": {
      "text/html": [
       "<div>\n",
       "<style scoped>\n",
       "    .dataframe tbody tr th:only-of-type {\n",
       "        vertical-align: middle;\n",
       "    }\n",
       "\n",
       "    .dataframe tbody tr th {\n",
       "        vertical-align: top;\n",
       "    }\n",
       "\n",
       "    .dataframe thead th {\n",
       "        text-align: right;\n",
       "    }\n",
       "</style>\n",
       "<table border=\"1\" class=\"dataframe\">\n",
       "  <thead>\n",
       "    <tr style=\"text-align: right;\">\n",
       "      <th></th>\n",
       "      <th>VendorID</th>\n",
       "      <th>tpep_pickup_datetime</th>\n",
       "      <th>passenger_count</th>\n",
       "      <th>tip_amount</th>\n",
       "      <th>total_amount</th>\n",
       "      <th>tip_percentage</th>\n",
       "    </tr>\n",
       "  </thead>\n",
       "  <tbody>\n",
       "    <tr>\n",
       "      <th>0</th>\n",
       "      <td>2</td>\n",
       "      <td>2015-06-02 11:19:29</td>\n",
       "      <td>1</td>\n",
       "      <td>0.00</td>\n",
       "      <td>17.80</td>\n",
       "      <td>0.000000</td>\n",
       "    </tr>\n",
       "    <tr>\n",
       "      <th>1</th>\n",
       "      <td>2</td>\n",
       "      <td>2015-06-02 11:19:30</td>\n",
       "      <td>1</td>\n",
       "      <td>1.00</td>\n",
       "      <td>8.30</td>\n",
       "      <td>0.120482</td>\n",
       "    </tr>\n",
       "    <tr>\n",
       "      <th>2</th>\n",
       "      <td>2</td>\n",
       "      <td>2015-06-02 11:19:31</td>\n",
       "      <td>1</td>\n",
       "      <td>2.20</td>\n",
       "      <td>11.00</td>\n",
       "      <td>0.200000</td>\n",
       "    </tr>\n",
       "    <tr>\n",
       "      <th>3</th>\n",
       "      <td>2</td>\n",
       "      <td>2015-06-02 11:19:31</td>\n",
       "      <td>1</td>\n",
       "      <td>2.86</td>\n",
       "      <td>17.16</td>\n",
       "      <td>0.166667</td>\n",
       "    </tr>\n",
       "    <tr>\n",
       "      <th>4</th>\n",
       "      <td>1</td>\n",
       "      <td>2015-06-02 11:19:32</td>\n",
       "      <td>1</td>\n",
       "      <td>0.00</td>\n",
       "      <td>10.30</td>\n",
       "      <td>0.000000</td>\n",
       "    </tr>\n",
       "  </tbody>\n",
       "</table>\n",
       "</div>"
      ],
      "text/plain": [
       "   VendorID tpep_pickup_datetime  passenger_count  tip_amount  total_amount  \\\n",
       "0         2  2015-06-02 11:19:29                1        0.00         17.80   \n",
       "1         2  2015-06-02 11:19:30                1        1.00          8.30   \n",
       "2         2  2015-06-02 11:19:31                1        2.20         11.00   \n",
       "3         2  2015-06-02 11:19:31                1        2.86         17.16   \n",
       "4         1  2015-06-02 11:19:32                1        0.00         10.30   \n",
       "\n",
       "   tip_percentage  \n",
       "0        0.000000  \n",
       "1        0.120482  \n",
       "2        0.200000  \n",
       "3        0.166667  \n",
       "4        0.000000  "
      ]
     },
     "execution_count": 256,
     "metadata": {},
     "output_type": "execute_result"
    }
   ],
   "source": [
    "df.head()"
   ]
  },
  {
   "cell_type": "code",
   "execution_count": 257,
   "id": "52ab9946",
   "metadata": {
    "scrolled": true
   },
   "outputs": [
    {
     "data": {
      "text/plain": [
       "passenger_count\n",
       "0    0.183127\n",
       "1    0.092880\n",
       "2    0.088309\n",
       "3    0.087368\n",
       "4    0.077067\n",
       "5    0.094349\n",
       "6    0.086075\n",
       "Name: tip_percentage, dtype: float64"
      ]
     },
     "execution_count": 257,
     "metadata": {},
     "output_type": "execute_result"
    }
   ],
   "source": [
    "df.groupby('passenger_count')['tip_percentage'].mean()"
   ]
  },
  {
   "cell_type": "code",
   "execution_count": 258,
   "id": "52fdf735",
   "metadata": {},
   "outputs": [
    {
     "data": {
      "text/plain": [
       "tip_percentage\n",
       "False    0.572957\n",
       "True     0.427043\n",
       "Name: proportion, dtype: float64"
      ]
     },
     "execution_count": 258,
     "metadata": {},
     "output_type": "execute_result"
    }
   ],
   "source": [
    "(df['tip_percentage'] == 0).value_counts(normalize=True)"
   ]
  },
  {
   "cell_type": "code",
   "execution_count": 259,
   "id": "5fb639a2",
   "metadata": {},
   "outputs": [
    {
     "data": {
      "text/plain": [
       "VendorID\n",
       "1    0.091538\n",
       "2    0.091680\n",
       "Name: tip_percentage, dtype: float64"
      ]
     },
     "execution_count": 259,
     "metadata": {},
     "output_type": "execute_result"
    }
   ],
   "source": [
    "# Check the mean tip_percentage for each value of VendorID\n",
    "\n",
    "df.groupby('VendorID')['tip_percentage'].mean()"
   ]
  },
  {
   "cell_type": "code",
   "execution_count": 260,
   "id": "8a6368a4",
   "metadata": {},
   "outputs": [
    {
     "data": {
      "text/html": [
       "<div>\n",
       "<style scoped>\n",
       "    .dataframe tbody tr th:only-of-type {\n",
       "        vertical-align: middle;\n",
       "    }\n",
       "\n",
       "    .dataframe tbody tr th {\n",
       "        vertical-align: top;\n",
       "    }\n",
       "\n",
       "    .dataframe thead th {\n",
       "        text-align: right;\n",
       "    }\n",
       "</style>\n",
       "<table border=\"1\" class=\"dataframe\">\n",
       "  <thead>\n",
       "    <tr style=\"text-align: right;\">\n",
       "      <th>VendorID</th>\n",
       "      <th>1</th>\n",
       "      <th>2</th>\n",
       "    </tr>\n",
       "    <tr>\n",
       "      <th>passenger_count</th>\n",
       "      <th></th>\n",
       "      <th></th>\n",
       "    </tr>\n",
       "  </thead>\n",
       "  <tbody>\n",
       "    <tr>\n",
       "      <th>0</th>\n",
       "      <td>0.183127</td>\n",
       "      <td>NaN</td>\n",
       "    </tr>\n",
       "    <tr>\n",
       "      <th>1</th>\n",
       "      <td>0.093319</td>\n",
       "      <td>0.092330</td>\n",
       "    </tr>\n",
       "    <tr>\n",
       "      <th>2</th>\n",
       "      <td>0.086343</td>\n",
       "      <td>0.089924</td>\n",
       "    </tr>\n",
       "    <tr>\n",
       "      <th>3</th>\n",
       "      <td>0.072738</td>\n",
       "      <td>0.096592</td>\n",
       "    </tr>\n",
       "    <tr>\n",
       "      <th>4</th>\n",
       "      <td>0.076237</td>\n",
       "      <td>0.077550</td>\n",
       "    </tr>\n",
       "    <tr>\n",
       "      <th>5</th>\n",
       "      <td>0.000000</td>\n",
       "      <td>0.094896</td>\n",
       "    </tr>\n",
       "    <tr>\n",
       "      <th>6</th>\n",
       "      <td>NaN</td>\n",
       "      <td>0.086075</td>\n",
       "    </tr>\n",
       "  </tbody>\n",
       "</table>\n",
       "</div>"
      ],
      "text/plain": [
       "VendorID                1         2\n",
       "passenger_count                    \n",
       "0                0.183127       NaN\n",
       "1                0.093319  0.092330\n",
       "2                0.086343  0.089924\n",
       "3                0.072738  0.096592\n",
       "4                0.076237  0.077550\n",
       "5                0.000000  0.094896\n",
       "6                     NaN  0.086075"
      ]
     },
     "execution_count": 260,
     "metadata": {},
     "output_type": "execute_result"
    }
   ],
   "source": [
    "# Pivot table\n",
    "\n",
    "# - index == passenger_count (categorical #1)\n",
    "# - columns = VendorIDS (categorical #2)\n",
    "# - numeric = tip_percentage\n",
    "# - aggregation method = mean\n",
    "\n",
    "df.pivot_table(index='passenger_count',\n",
    "              columns='VendorID',\n",
    "              values='tip_percentage',\n",
    "              aggfunc='mean')"
   ]
  },
  {
   "cell_type": "code",
   "execution_count": 261,
   "id": "aa45330f",
   "metadata": {},
   "outputs": [
    {
     "data": {
      "text/plain": [
       "passenger_count  VendorID\n",
       "0                1           0.183127\n",
       "1                1           0.093319\n",
       "                 2           0.092330\n",
       "2                1           0.086343\n",
       "                 2           0.089924\n",
       "3                1           0.072738\n",
       "                 2           0.096592\n",
       "4                1           0.076237\n",
       "                 2           0.077550\n",
       "5                1           0.000000\n",
       "                 2           0.094896\n",
       "6                2           0.086075\n",
       "Name: tip_percentage, dtype: float64"
      ]
     },
     "execution_count": 261,
     "metadata": {},
     "output_type": "execute_result"
    }
   ],
   "source": [
    "# \n",
    "\n",
    "df.groupby(['passenger_count', 'VendorID'])['tip_percentage'].mean()"
   ]
  },
  {
   "cell_type": "code",
   "execution_count": 262,
   "id": "41261cef",
   "metadata": {},
   "outputs": [
    {
     "data": {
      "text/html": [
       "<div>\n",
       "<style scoped>\n",
       "    .dataframe tbody tr th:only-of-type {\n",
       "        vertical-align: middle;\n",
       "    }\n",
       "\n",
       "    .dataframe tbody tr th {\n",
       "        vertical-align: top;\n",
       "    }\n",
       "\n",
       "    .dataframe thead th {\n",
       "        text-align: right;\n",
       "    }\n",
       "</style>\n",
       "<table border=\"1\" class=\"dataframe\">\n",
       "  <thead>\n",
       "    <tr style=\"text-align: right;\">\n",
       "      <th></th>\n",
       "      <th>tip_percentage</th>\n",
       "      <th>total_amount</th>\n",
       "    </tr>\n",
       "    <tr>\n",
       "      <th>VendorID</th>\n",
       "      <th></th>\n",
       "      <th></th>\n",
       "    </tr>\n",
       "  </thead>\n",
       "  <tbody>\n",
       "    <tr>\n",
       "      <th>1</th>\n",
       "      <td>0.091538</td>\n",
       "      <td>17.325272</td>\n",
       "    </tr>\n",
       "    <tr>\n",
       "      <th>2</th>\n",
       "      <td>0.091680</td>\n",
       "      <td>17.765027</td>\n",
       "    </tr>\n",
       "  </tbody>\n",
       "</table>\n",
       "</div>"
      ],
      "text/plain": [
       "          tip_percentage  total_amount\n",
       "VendorID                              \n",
       "1               0.091538     17.325272\n",
       "2               0.091680     17.765027"
      ]
     },
     "execution_count": 262,
     "metadata": {},
     "output_type": "execute_result"
    }
   ],
   "source": [
    "df.groupby('VendorID')[['tip_percentage', 'total_amount']].mean()"
   ]
  },
  {
   "cell_type": "code",
   "execution_count": 263,
   "id": "c9d7ceb4",
   "metadata": {},
   "outputs": [
    {
     "data": {
      "text/html": [
       "<div>\n",
       "<style scoped>\n",
       "    .dataframe tbody tr th:only-of-type {\n",
       "        vertical-align: middle;\n",
       "    }\n",
       "\n",
       "    .dataframe tbody tr th {\n",
       "        vertical-align: top;\n",
       "    }\n",
       "\n",
       "    .dataframe thead th {\n",
       "        text-align: right;\n",
       "    }\n",
       "</style>\n",
       "<table border=\"1\" class=\"dataframe\">\n",
       "  <thead>\n",
       "    <tr style=\"text-align: right;\">\n",
       "      <th></th>\n",
       "      <th></th>\n",
       "      <th>tip_percentage</th>\n",
       "      <th>total_amount</th>\n",
       "    </tr>\n",
       "    <tr>\n",
       "      <th>passenger_count</th>\n",
       "      <th>VendorID</th>\n",
       "      <th></th>\n",
       "      <th></th>\n",
       "    </tr>\n",
       "  </thead>\n",
       "  <tbody>\n",
       "    <tr>\n",
       "      <th>0</th>\n",
       "      <th>1</th>\n",
       "      <td>0.183127</td>\n",
       "      <td>25.570000</td>\n",
       "    </tr>\n",
       "    <tr>\n",
       "      <th rowspan=\"2\" valign=\"top\">1</th>\n",
       "      <th>1</th>\n",
       "      <td>0.093319</td>\n",
       "      <td>16.941386</td>\n",
       "    </tr>\n",
       "    <tr>\n",
       "      <th>2</th>\n",
       "      <td>0.092330</td>\n",
       "      <td>17.904989</td>\n",
       "    </tr>\n",
       "    <tr>\n",
       "      <th rowspan=\"2\" valign=\"top\">2</th>\n",
       "      <th>1</th>\n",
       "      <td>0.086343</td>\n",
       "      <td>19.076807</td>\n",
       "    </tr>\n",
       "    <tr>\n",
       "      <th>2</th>\n",
       "      <td>0.089924</td>\n",
       "      <td>17.855770</td>\n",
       "    </tr>\n",
       "    <tr>\n",
       "      <th rowspan=\"2\" valign=\"top\">3</th>\n",
       "      <th>1</th>\n",
       "      <td>0.072738</td>\n",
       "      <td>19.002803</td>\n",
       "    </tr>\n",
       "    <tr>\n",
       "      <th>2</th>\n",
       "      <td>0.096592</td>\n",
       "      <td>17.359076</td>\n",
       "    </tr>\n",
       "    <tr>\n",
       "      <th rowspan=\"2\" valign=\"top\">4</th>\n",
       "      <th>1</th>\n",
       "      <td>0.076237</td>\n",
       "      <td>20.518657</td>\n",
       "    </tr>\n",
       "    <tr>\n",
       "      <th>2</th>\n",
       "      <td>0.077550</td>\n",
       "      <td>17.927913</td>\n",
       "    </tr>\n",
       "    <tr>\n",
       "      <th rowspan=\"2\" valign=\"top\">5</th>\n",
       "      <th>1</th>\n",
       "      <td>0.000000</td>\n",
       "      <td>20.466667</td>\n",
       "    </tr>\n",
       "    <tr>\n",
       "      <th>2</th>\n",
       "      <td>0.094896</td>\n",
       "      <td>17.192379</td>\n",
       "    </tr>\n",
       "    <tr>\n",
       "      <th>6</th>\n",
       "      <th>2</th>\n",
       "      <td>0.086075</td>\n",
       "      <td>17.401355</td>\n",
       "    </tr>\n",
       "  </tbody>\n",
       "</table>\n",
       "</div>"
      ],
      "text/plain": [
       "                          tip_percentage  total_amount\n",
       "passenger_count VendorID                              \n",
       "0               1               0.183127     25.570000\n",
       "1               1               0.093319     16.941386\n",
       "                2               0.092330     17.904989\n",
       "2               1               0.086343     19.076807\n",
       "                2               0.089924     17.855770\n",
       "3               1               0.072738     19.002803\n",
       "                2               0.096592     17.359076\n",
       "4               1               0.076237     20.518657\n",
       "                2               0.077550     17.927913\n",
       "5               1               0.000000     20.466667\n",
       "                2               0.094896     17.192379\n",
       "6               2               0.086075     17.401355"
      ]
     },
     "execution_count": 263,
     "metadata": {},
     "output_type": "execute_result"
    }
   ],
   "source": [
    "df.groupby(['passenger_count', 'VendorID'])[['tip_percentage', 'total_amount']].mean()"
   ]
  },
  {
   "cell_type": "code",
   "execution_count": 264,
   "id": "b62988a2",
   "metadata": {},
   "outputs": [
    {
     "data": {
      "text/html": [
       "<div>\n",
       "<style scoped>\n",
       "    .dataframe tbody tr th:only-of-type {\n",
       "        vertical-align: middle;\n",
       "    }\n",
       "\n",
       "    .dataframe tbody tr th {\n",
       "        vertical-align: top;\n",
       "    }\n",
       "\n",
       "    .dataframe thead tr th {\n",
       "        text-align: left;\n",
       "    }\n",
       "\n",
       "    .dataframe thead tr:last-of-type th {\n",
       "        text-align: right;\n",
       "    }\n",
       "</style>\n",
       "<table border=\"1\" class=\"dataframe\">\n",
       "  <thead>\n",
       "    <tr>\n",
       "      <th></th>\n",
       "      <th colspan=\"2\" halign=\"left\">tip_percentage</th>\n",
       "      <th colspan=\"2\" halign=\"left\">total_amount</th>\n",
       "    </tr>\n",
       "    <tr>\n",
       "      <th>VendorID</th>\n",
       "      <th>1</th>\n",
       "      <th>2</th>\n",
       "      <th>1</th>\n",
       "      <th>2</th>\n",
       "    </tr>\n",
       "    <tr>\n",
       "      <th>passenger_count</th>\n",
       "      <th></th>\n",
       "      <th></th>\n",
       "      <th></th>\n",
       "      <th></th>\n",
       "    </tr>\n",
       "  </thead>\n",
       "  <tbody>\n",
       "    <tr>\n",
       "      <th>0</th>\n",
       "      <td>0.183127</td>\n",
       "      <td>NaN</td>\n",
       "      <td>25.570000</td>\n",
       "      <td>NaN</td>\n",
       "    </tr>\n",
       "    <tr>\n",
       "      <th>1</th>\n",
       "      <td>0.093319</td>\n",
       "      <td>0.092330</td>\n",
       "      <td>16.941386</td>\n",
       "      <td>17.904989</td>\n",
       "    </tr>\n",
       "    <tr>\n",
       "      <th>2</th>\n",
       "      <td>0.086343</td>\n",
       "      <td>0.089924</td>\n",
       "      <td>19.076807</td>\n",
       "      <td>17.855770</td>\n",
       "    </tr>\n",
       "    <tr>\n",
       "      <th>3</th>\n",
       "      <td>0.072738</td>\n",
       "      <td>0.096592</td>\n",
       "      <td>19.002803</td>\n",
       "      <td>17.359076</td>\n",
       "    </tr>\n",
       "    <tr>\n",
       "      <th>4</th>\n",
       "      <td>0.076237</td>\n",
       "      <td>0.077550</td>\n",
       "      <td>20.518657</td>\n",
       "      <td>17.927913</td>\n",
       "    </tr>\n",
       "    <tr>\n",
       "      <th>5</th>\n",
       "      <td>0.000000</td>\n",
       "      <td>0.094896</td>\n",
       "      <td>20.466667</td>\n",
       "      <td>17.192379</td>\n",
       "    </tr>\n",
       "    <tr>\n",
       "      <th>6</th>\n",
       "      <td>NaN</td>\n",
       "      <td>0.086075</td>\n",
       "      <td>NaN</td>\n",
       "      <td>17.401355</td>\n",
       "    </tr>\n",
       "  </tbody>\n",
       "</table>\n",
       "</div>"
      ],
      "text/plain": [
       "                tip_percentage           total_amount           \n",
       "VendorID                     1         2            1          2\n",
       "passenger_count                                                 \n",
       "0                     0.183127       NaN    25.570000        NaN\n",
       "1                     0.093319  0.092330    16.941386  17.904989\n",
       "2                     0.086343  0.089924    19.076807  17.855770\n",
       "3                     0.072738  0.096592    19.002803  17.359076\n",
       "4                     0.076237  0.077550    20.518657  17.927913\n",
       "5                     0.000000  0.094896    20.466667  17.192379\n",
       "6                          NaN  0.086075          NaN  17.401355"
      ]
     },
     "execution_count": 264,
     "metadata": {},
     "output_type": "execute_result"
    }
   ],
   "source": [
    "df.pivot_table(index='passenger_count',\n",
    "              columns='VendorID',\n",
    "              values=['tip_percentage', 'total_amount'],\n",
    "              aggfunc='mean')"
   ]
  },
  {
   "cell_type": "code",
   "execution_count": 265,
   "id": "8b6ab7bb",
   "metadata": {},
   "outputs": [
    {
     "data": {
      "text/html": [
       "<div>\n",
       "<style scoped>\n",
       "    .dataframe tbody tr th:only-of-type {\n",
       "        vertical-align: middle;\n",
       "    }\n",
       "\n",
       "    .dataframe tbody tr th {\n",
       "        vertical-align: top;\n",
       "    }\n",
       "\n",
       "    .dataframe thead tr th {\n",
       "        text-align: left;\n",
       "    }\n",
       "\n",
       "    .dataframe thead tr:last-of-type th {\n",
       "        text-align: right;\n",
       "    }\n",
       "</style>\n",
       "<table border=\"1\" class=\"dataframe\">\n",
       "  <thead>\n",
       "    <tr>\n",
       "      <th></th>\n",
       "      <th colspan=\"4\" halign=\"left\">mean</th>\n",
       "      <th colspan=\"4\" halign=\"left\">std</th>\n",
       "    </tr>\n",
       "    <tr>\n",
       "      <th></th>\n",
       "      <th colspan=\"2\" halign=\"left\">tip_percentage</th>\n",
       "      <th colspan=\"2\" halign=\"left\">total_amount</th>\n",
       "      <th colspan=\"2\" halign=\"left\">tip_percentage</th>\n",
       "      <th colspan=\"2\" halign=\"left\">total_amount</th>\n",
       "    </tr>\n",
       "    <tr>\n",
       "      <th>VendorID</th>\n",
       "      <th>1</th>\n",
       "      <th>2</th>\n",
       "      <th>1</th>\n",
       "      <th>2</th>\n",
       "      <th>1</th>\n",
       "      <th>2</th>\n",
       "      <th>1</th>\n",
       "      <th>2</th>\n",
       "    </tr>\n",
       "    <tr>\n",
       "      <th>passenger_count</th>\n",
       "      <th></th>\n",
       "      <th></th>\n",
       "      <th></th>\n",
       "      <th></th>\n",
       "      <th></th>\n",
       "      <th></th>\n",
       "      <th></th>\n",
       "      <th></th>\n",
       "    </tr>\n",
       "  </thead>\n",
       "  <tbody>\n",
       "    <tr>\n",
       "      <th>0</th>\n",
       "      <td>0.183127</td>\n",
       "      <td>NaN</td>\n",
       "      <td>25.570000</td>\n",
       "      <td>NaN</td>\n",
       "      <td>0.023862</td>\n",
       "      <td>NaN</td>\n",
       "      <td>15.301791</td>\n",
       "      <td>NaN</td>\n",
       "    </tr>\n",
       "    <tr>\n",
       "      <th>1</th>\n",
       "      <td>0.093319</td>\n",
       "      <td>0.092330</td>\n",
       "      <td>16.941386</td>\n",
       "      <td>17.904989</td>\n",
       "      <td>0.086191</td>\n",
       "      <td>0.085638</td>\n",
       "      <td>15.369459</td>\n",
       "      <td>15.167490</td>\n",
       "    </tr>\n",
       "    <tr>\n",
       "      <th>2</th>\n",
       "      <td>0.086343</td>\n",
       "      <td>0.089924</td>\n",
       "      <td>19.076807</td>\n",
       "      <td>17.855770</td>\n",
       "      <td>0.084387</td>\n",
       "      <td>0.086208</td>\n",
       "      <td>16.049125</td>\n",
       "      <td>15.233530</td>\n",
       "    </tr>\n",
       "    <tr>\n",
       "      <th>3</th>\n",
       "      <td>0.072738</td>\n",
       "      <td>0.096592</td>\n",
       "      <td>19.002803</td>\n",
       "      <td>17.359076</td>\n",
       "      <td>0.082974</td>\n",
       "      <td>0.088289</td>\n",
       "      <td>15.389968</td>\n",
       "      <td>12.540837</td>\n",
       "    </tr>\n",
       "    <tr>\n",
       "      <th>4</th>\n",
       "      <td>0.076237</td>\n",
       "      <td>0.077550</td>\n",
       "      <td>20.518657</td>\n",
       "      <td>17.927913</td>\n",
       "      <td>0.124135</td>\n",
       "      <td>0.085855</td>\n",
       "      <td>15.845568</td>\n",
       "      <td>14.630713</td>\n",
       "    </tr>\n",
       "    <tr>\n",
       "      <th>5</th>\n",
       "      <td>0.000000</td>\n",
       "      <td>0.094896</td>\n",
       "      <td>20.466667</td>\n",
       "      <td>17.192379</td>\n",
       "      <td>0.000000</td>\n",
       "      <td>0.084446</td>\n",
       "      <td>6.751543</td>\n",
       "      <td>14.064202</td>\n",
       "    </tr>\n",
       "    <tr>\n",
       "      <th>6</th>\n",
       "      <td>NaN</td>\n",
       "      <td>0.086075</td>\n",
       "      <td>NaN</td>\n",
       "      <td>17.401355</td>\n",
       "      <td>NaN</td>\n",
       "      <td>0.086273</td>\n",
       "      <td>NaN</td>\n",
       "      <td>13.363827</td>\n",
       "    </tr>\n",
       "  </tbody>\n",
       "</table>\n",
       "</div>"
      ],
      "text/plain": [
       "                          mean                                    \\\n",
       "                tip_percentage           total_amount              \n",
       "VendorID                     1         2            1          2   \n",
       "passenger_count                                                    \n",
       "0                     0.183127       NaN    25.570000        NaN   \n",
       "1                     0.093319  0.092330    16.941386  17.904989   \n",
       "2                     0.086343  0.089924    19.076807  17.855770   \n",
       "3                     0.072738  0.096592    19.002803  17.359076   \n",
       "4                     0.076237  0.077550    20.518657  17.927913   \n",
       "5                     0.000000  0.094896    20.466667  17.192379   \n",
       "6                          NaN  0.086075          NaN  17.401355   \n",
       "\n",
       "                           std                                    \n",
       "                tip_percentage           total_amount             \n",
       "VendorID                     1         2            1          2  \n",
       "passenger_count                                                   \n",
       "0                     0.023862       NaN    15.301791        NaN  \n",
       "1                     0.086191  0.085638    15.369459  15.167490  \n",
       "2                     0.084387  0.086208    16.049125  15.233530  \n",
       "3                     0.082974  0.088289    15.389968  12.540837  \n",
       "4                     0.124135  0.085855    15.845568  14.630713  \n",
       "5                     0.000000  0.084446     6.751543  14.064202  \n",
       "6                          NaN  0.086273          NaN  13.363827  "
      ]
     },
     "execution_count": 265,
     "metadata": {},
     "output_type": "execute_result"
    }
   ],
   "source": [
    "df.pivot_table(index='passenger_count',\n",
    "              columns='VendorID',\n",
    "              values=['tip_percentage', 'total_amount'],\n",
    "              aggfunc=['mean', 'std'])"
   ]
  },
  {
   "cell_type": "code",
   "execution_count": 269,
   "id": "4612c646",
   "metadata": {},
   "outputs": [],
   "source": [
    "filename = 'taxi.csv'\n",
    "\n",
    "df = pd.read_csv(filename, \n",
    "                 usecols=['tpep_pickup_datetime', \n",
    "                          'VendorID', 'passenger_count', 'total_amount', 'tip_amount'],\n",
    "                 parse_dates=['tpep_pickup_datetime'])\n",
    "\n",
    "df['tip_percentage'] = df['tip_amount'] / df['total_amount']"
   ]
  },
  {
   "cell_type": "code",
   "execution_count": 270,
   "id": "3f1bfa32",
   "metadata": {},
   "outputs": [
    {
     "data": {
      "text/html": [
       "<div>\n",
       "<style scoped>\n",
       "    .dataframe tbody tr th:only-of-type {\n",
       "        vertical-align: middle;\n",
       "    }\n",
       "\n",
       "    .dataframe tbody tr th {\n",
       "        vertical-align: top;\n",
       "    }\n",
       "\n",
       "    .dataframe thead tr th {\n",
       "        text-align: left;\n",
       "    }\n",
       "\n",
       "    .dataframe thead tr:last-of-type th {\n",
       "        text-align: right;\n",
       "    }\n",
       "</style>\n",
       "<table border=\"1\" class=\"dataframe\">\n",
       "  <thead>\n",
       "    <tr>\n",
       "      <th></th>\n",
       "      <th></th>\n",
       "      <th colspan=\"4\" halign=\"left\">mean</th>\n",
       "      <th colspan=\"4\" halign=\"left\">std</th>\n",
       "    </tr>\n",
       "    <tr>\n",
       "      <th></th>\n",
       "      <th></th>\n",
       "      <th colspan=\"2\" halign=\"left\">tip_percentage</th>\n",
       "      <th colspan=\"2\" halign=\"left\">total_amount</th>\n",
       "      <th colspan=\"2\" halign=\"left\">tip_percentage</th>\n",
       "      <th colspan=\"2\" halign=\"left\">total_amount</th>\n",
       "    </tr>\n",
       "    <tr>\n",
       "      <th></th>\n",
       "      <th>VendorID</th>\n",
       "      <th>1</th>\n",
       "      <th>2</th>\n",
       "      <th>1</th>\n",
       "      <th>2</th>\n",
       "      <th>1</th>\n",
       "      <th>2</th>\n",
       "      <th>1</th>\n",
       "      <th>2</th>\n",
       "    </tr>\n",
       "    <tr>\n",
       "      <th>passenger_count</th>\n",
       "      <th>tpep_pickup_datetime</th>\n",
       "      <th></th>\n",
       "      <th></th>\n",
       "      <th></th>\n",
       "      <th></th>\n",
       "      <th></th>\n",
       "      <th></th>\n",
       "      <th></th>\n",
       "      <th></th>\n",
       "    </tr>\n",
       "  </thead>\n",
       "  <tbody>\n",
       "    <tr>\n",
       "      <th rowspan=\"2\" valign=\"top\">0</th>\n",
       "      <th>0</th>\n",
       "      <td>0.166254</td>\n",
       "      <td>NaN</td>\n",
       "      <td>36.390000</td>\n",
       "      <td>NaN</td>\n",
       "      <td>NaN</td>\n",
       "      <td>NaN</td>\n",
       "      <td>NaN</td>\n",
       "      <td>NaN</td>\n",
       "    </tr>\n",
       "    <tr>\n",
       "      <th>15</th>\n",
       "      <td>0.200000</td>\n",
       "      <td>NaN</td>\n",
       "      <td>14.750000</td>\n",
       "      <td>NaN</td>\n",
       "      <td>NaN</td>\n",
       "      <td>NaN</td>\n",
       "      <td>NaN</td>\n",
       "      <td>NaN</td>\n",
       "    </tr>\n",
       "    <tr>\n",
       "      <th rowspan=\"4\" valign=\"top\">1</th>\n",
       "      <th>0</th>\n",
       "      <td>0.089552</td>\n",
       "      <td>0.085090</td>\n",
       "      <td>18.603721</td>\n",
       "      <td>19.033278</td>\n",
       "      <td>0.085462</td>\n",
       "      <td>0.085185</td>\n",
       "      <td>18.705785</td>\n",
       "      <td>15.633851</td>\n",
       "    </tr>\n",
       "    <tr>\n",
       "      <th>11</th>\n",
       "      <td>0.098665</td>\n",
       "      <td>0.098608</td>\n",
       "      <td>15.950106</td>\n",
       "      <td>16.750798</td>\n",
       "      <td>0.084903</td>\n",
       "      <td>0.085297</td>\n",
       "      <td>12.846881</td>\n",
       "      <td>13.552501</td>\n",
       "    </tr>\n",
       "    <tr>\n",
       "      <th>15</th>\n",
       "      <td>0.088620</td>\n",
       "      <td>0.091257</td>\n",
       "      <td>17.596173</td>\n",
       "      <td>19.416051</td>\n",
       "      <td>0.086568</td>\n",
       "      <td>0.085741</td>\n",
       "      <td>16.256691</td>\n",
       "      <td>17.545435</td>\n",
       "    </tr>\n",
       "    <tr>\n",
       "      <th>16</th>\n",
       "      <td>0.088458</td>\n",
       "      <td>0.078121</td>\n",
       "      <td>14.334159</td>\n",
       "      <td>16.198229</td>\n",
       "      <td>0.096072</td>\n",
       "      <td>0.086143</td>\n",
       "      <td>11.745987</td>\n",
       "      <td>14.055027</td>\n",
       "    </tr>\n",
       "    <tr>\n",
       "      <th rowspan=\"4\" valign=\"top\">2</th>\n",
       "      <th>0</th>\n",
       "      <td>0.092190</td>\n",
       "      <td>0.087722</td>\n",
       "      <td>20.047152</td>\n",
       "      <td>18.479045</td>\n",
       "      <td>0.080745</td>\n",
       "      <td>0.083541</td>\n",
       "      <td>17.805078</td>\n",
       "      <td>17.846561</td>\n",
       "    </tr>\n",
       "    <tr>\n",
       "      <th>11</th>\n",
       "      <td>0.087756</td>\n",
       "      <td>0.090854</td>\n",
       "      <td>19.809118</td>\n",
       "      <td>16.926013</td>\n",
       "      <td>0.084534</td>\n",
       "      <td>0.088172</td>\n",
       "      <td>15.840017</td>\n",
       "      <td>12.954990</td>\n",
       "    </tr>\n",
       "    <tr>\n",
       "      <th>15</th>\n",
       "      <td>0.079539</td>\n",
       "      <td>0.088200</td>\n",
       "      <td>18.695754</td>\n",
       "      <td>19.427010</td>\n",
       "      <td>0.084862</td>\n",
       "      <td>0.085123</td>\n",
       "      <td>15.053145</td>\n",
       "      <td>16.934345</td>\n",
       "    </tr>\n",
       "    <tr>\n",
       "      <th>16</th>\n",
       "      <td>0.087149</td>\n",
       "      <td>0.097572</td>\n",
       "      <td>15.150862</td>\n",
       "      <td>15.376481</td>\n",
       "      <td>0.092175</td>\n",
       "      <td>0.088520</td>\n",
       "      <td>14.650063</td>\n",
       "      <td>11.354550</td>\n",
       "    </tr>\n",
       "    <tr>\n",
       "      <th rowspan=\"4\" valign=\"top\">3</th>\n",
       "      <th>0</th>\n",
       "      <td>0.092746</td>\n",
       "      <td>0.092288</td>\n",
       "      <td>15.671538</td>\n",
       "      <td>18.461940</td>\n",
       "      <td>0.087160</td>\n",
       "      <td>0.084636</td>\n",
       "      <td>12.299946</td>\n",
       "      <td>12.990492</td>\n",
       "    </tr>\n",
       "    <tr>\n",
       "      <th>11</th>\n",
       "      <td>0.064347</td>\n",
       "      <td>0.105309</td>\n",
       "      <td>22.202364</td>\n",
       "      <td>17.484535</td>\n",
       "      <td>0.077914</td>\n",
       "      <td>0.088722</td>\n",
       "      <td>17.589610</td>\n",
       "      <td>11.723830</td>\n",
       "    </tr>\n",
       "    <tr>\n",
       "      <th>15</th>\n",
       "      <td>0.073807</td>\n",
       "      <td>0.096051</td>\n",
       "      <td>20.541667</td>\n",
       "      <td>16.656622</td>\n",
       "      <td>0.085921</td>\n",
       "      <td>0.088463</td>\n",
       "      <td>17.181329</td>\n",
       "      <td>12.312792</td>\n",
       "    </tr>\n",
       "    <tr>\n",
       "      <th>16</th>\n",
       "      <td>0.055418</td>\n",
       "      <td>0.077444</td>\n",
       "      <td>13.731905</td>\n",
       "      <td>15.872727</td>\n",
       "      <td>0.080308</td>\n",
       "      <td>0.098597</td>\n",
       "      <td>5.960941</td>\n",
       "      <td>15.349425</td>\n",
       "    </tr>\n",
       "    <tr>\n",
       "      <th rowspan=\"4\" valign=\"top\">4</th>\n",
       "      <th>0</th>\n",
       "      <td>0.102519</td>\n",
       "      <td>0.074044</td>\n",
       "      <td>18.405000</td>\n",
       "      <td>22.537273</td>\n",
       "      <td>0.198620</td>\n",
       "      <td>0.087944</td>\n",
       "      <td>11.992455</td>\n",
       "      <td>19.498046</td>\n",
       "    </tr>\n",
       "    <tr>\n",
       "      <th>11</th>\n",
       "      <td>0.081385</td>\n",
       "      <td>0.090011</td>\n",
       "      <td>22.010000</td>\n",
       "      <td>15.592069</td>\n",
       "      <td>0.087984</td>\n",
       "      <td>0.087769</td>\n",
       "      <td>18.197673</td>\n",
       "      <td>11.921083</td>\n",
       "    </tr>\n",
       "    <tr>\n",
       "      <th>15</th>\n",
       "      <td>0.054272</td>\n",
       "      <td>0.061140</td>\n",
       "      <td>21.882222</td>\n",
       "      <td>20.688077</td>\n",
       "      <td>0.077204</td>\n",
       "      <td>0.080569</td>\n",
       "      <td>17.053286</td>\n",
       "      <td>16.800812</td>\n",
       "    </tr>\n",
       "    <tr>\n",
       "      <th>16</th>\n",
       "      <td>0.047486</td>\n",
       "      <td>0.053225</td>\n",
       "      <td>17.334286</td>\n",
       "      <td>13.740000</td>\n",
       "      <td>0.081097</td>\n",
       "      <td>0.082845</td>\n",
       "      <td>14.876314</td>\n",
       "      <td>3.906008</td>\n",
       "    </tr>\n",
       "    <tr>\n",
       "      <th rowspan=\"4\" valign=\"top\">5</th>\n",
       "      <th>0</th>\n",
       "      <td>0.000000</td>\n",
       "      <td>0.091509</td>\n",
       "      <td>27.300000</td>\n",
       "      <td>20.256016</td>\n",
       "      <td>NaN</td>\n",
       "      <td>0.084014</td>\n",
       "      <td>NaN</td>\n",
       "      <td>15.164344</td>\n",
       "    </tr>\n",
       "    <tr>\n",
       "      <th>11</th>\n",
       "      <td>NaN</td>\n",
       "      <td>0.097540</td>\n",
       "      <td>NaN</td>\n",
       "      <td>15.127303</td>\n",
       "      <td>NaN</td>\n",
       "      <td>0.083471</td>\n",
       "      <td>NaN</td>\n",
       "      <td>11.750890</td>\n",
       "    </tr>\n",
       "    <tr>\n",
       "      <th>15</th>\n",
       "      <td>0.000000</td>\n",
       "      <td>0.100231</td>\n",
       "      <td>20.300000</td>\n",
       "      <td>19.539268</td>\n",
       "      <td>NaN</td>\n",
       "      <td>0.087409</td>\n",
       "      <td>NaN</td>\n",
       "      <td>16.787291</td>\n",
       "    </tr>\n",
       "    <tr>\n",
       "      <th>16</th>\n",
       "      <td>0.000000</td>\n",
       "      <td>0.065671</td>\n",
       "      <td>13.800000</td>\n",
       "      <td>11.598667</td>\n",
       "      <td>NaN</td>\n",
       "      <td>0.079232</td>\n",
       "      <td>NaN</td>\n",
       "      <td>9.633512</td>\n",
       "    </tr>\n",
       "    <tr>\n",
       "      <th rowspan=\"4\" valign=\"top\">6</th>\n",
       "      <th>0</th>\n",
       "      <td>NaN</td>\n",
       "      <td>0.099570</td>\n",
       "      <td>NaN</td>\n",
       "      <td>19.707465</td>\n",
       "      <td>NaN</td>\n",
       "      <td>0.088299</td>\n",
       "      <td>NaN</td>\n",
       "      <td>14.085041</td>\n",
       "    </tr>\n",
       "    <tr>\n",
       "      <th>11</th>\n",
       "      <td>NaN</td>\n",
       "      <td>0.093097</td>\n",
       "      <td>NaN</td>\n",
       "      <td>16.637798</td>\n",
       "      <td>NaN</td>\n",
       "      <td>0.088176</td>\n",
       "      <td>NaN</td>\n",
       "      <td>13.012722</td>\n",
       "    </tr>\n",
       "    <tr>\n",
       "      <th>15</th>\n",
       "      <td>NaN</td>\n",
       "      <td>0.069144</td>\n",
       "      <td>NaN</td>\n",
       "      <td>18.015455</td>\n",
       "      <td>NaN</td>\n",
       "      <td>0.080588</td>\n",
       "      <td>NaN</td>\n",
       "      <td>13.559843</td>\n",
       "    </tr>\n",
       "    <tr>\n",
       "      <th>16</th>\n",
       "      <td>NaN</td>\n",
       "      <td>0.072306</td>\n",
       "      <td>NaN</td>\n",
       "      <td>12.251000</td>\n",
       "      <td>NaN</td>\n",
       "      <td>0.082838</td>\n",
       "      <td>NaN</td>\n",
       "      <td>11.394949</td>\n",
       "    </tr>\n",
       "  </tbody>\n",
       "</table>\n",
       "</div>"
      ],
      "text/plain": [
       "                                               mean                         \\\n",
       "                                     tip_percentage           total_amount   \n",
       "VendorID                                          1         2            1   \n",
       "passenger_count tpep_pickup_datetime                                         \n",
       "0               0                          0.166254       NaN    36.390000   \n",
       "                15                         0.200000       NaN    14.750000   \n",
       "1               0                          0.089552  0.085090    18.603721   \n",
       "                11                         0.098665  0.098608    15.950106   \n",
       "                15                         0.088620  0.091257    17.596173   \n",
       "                16                         0.088458  0.078121    14.334159   \n",
       "2               0                          0.092190  0.087722    20.047152   \n",
       "                11                         0.087756  0.090854    19.809118   \n",
       "                15                         0.079539  0.088200    18.695754   \n",
       "                16                         0.087149  0.097572    15.150862   \n",
       "3               0                          0.092746  0.092288    15.671538   \n",
       "                11                         0.064347  0.105309    22.202364   \n",
       "                15                         0.073807  0.096051    20.541667   \n",
       "                16                         0.055418  0.077444    13.731905   \n",
       "4               0                          0.102519  0.074044    18.405000   \n",
       "                11                         0.081385  0.090011    22.010000   \n",
       "                15                         0.054272  0.061140    21.882222   \n",
       "                16                         0.047486  0.053225    17.334286   \n",
       "5               0                          0.000000  0.091509    27.300000   \n",
       "                11                              NaN  0.097540          NaN   \n",
       "                15                         0.000000  0.100231    20.300000   \n",
       "                16                         0.000000  0.065671    13.800000   \n",
       "6               0                               NaN  0.099570          NaN   \n",
       "                11                              NaN  0.093097          NaN   \n",
       "                15                              NaN  0.069144          NaN   \n",
       "                16                              NaN  0.072306          NaN   \n",
       "\n",
       "                                                           std            \\\n",
       "                                                tip_percentage             \n",
       "VendorID                                      2              1         2   \n",
       "passenger_count tpep_pickup_datetime                                       \n",
       "0               0                           NaN            NaN       NaN   \n",
       "                15                          NaN            NaN       NaN   \n",
       "1               0                     19.033278       0.085462  0.085185   \n",
       "                11                    16.750798       0.084903  0.085297   \n",
       "                15                    19.416051       0.086568  0.085741   \n",
       "                16                    16.198229       0.096072  0.086143   \n",
       "2               0                     18.479045       0.080745  0.083541   \n",
       "                11                    16.926013       0.084534  0.088172   \n",
       "                15                    19.427010       0.084862  0.085123   \n",
       "                16                    15.376481       0.092175  0.088520   \n",
       "3               0                     18.461940       0.087160  0.084636   \n",
       "                11                    17.484535       0.077914  0.088722   \n",
       "                15                    16.656622       0.085921  0.088463   \n",
       "                16                    15.872727       0.080308  0.098597   \n",
       "4               0                     22.537273       0.198620  0.087944   \n",
       "                11                    15.592069       0.087984  0.087769   \n",
       "                15                    20.688077       0.077204  0.080569   \n",
       "                16                    13.740000       0.081097  0.082845   \n",
       "5               0                     20.256016            NaN  0.084014   \n",
       "                11                    15.127303            NaN  0.083471   \n",
       "                15                    19.539268            NaN  0.087409   \n",
       "                16                    11.598667            NaN  0.079232   \n",
       "6               0                     19.707465            NaN  0.088299   \n",
       "                11                    16.637798            NaN  0.088176   \n",
       "                15                    18.015455            NaN  0.080588   \n",
       "                16                    12.251000            NaN  0.082838   \n",
       "\n",
       "                                                              \n",
       "                                     total_amount             \n",
       "VendorID                                        1          2  \n",
       "passenger_count tpep_pickup_datetime                          \n",
       "0               0                             NaN        NaN  \n",
       "                15                            NaN        NaN  \n",
       "1               0                       18.705785  15.633851  \n",
       "                11                      12.846881  13.552501  \n",
       "                15                      16.256691  17.545435  \n",
       "                16                      11.745987  14.055027  \n",
       "2               0                       17.805078  17.846561  \n",
       "                11                      15.840017  12.954990  \n",
       "                15                      15.053145  16.934345  \n",
       "                16                      14.650063  11.354550  \n",
       "3               0                       12.299946  12.990492  \n",
       "                11                      17.589610  11.723830  \n",
       "                15                      17.181329  12.312792  \n",
       "                16                       5.960941  15.349425  \n",
       "4               0                       11.992455  19.498046  \n",
       "                11                      18.197673  11.921083  \n",
       "                15                      17.053286  16.800812  \n",
       "                16                      14.876314   3.906008  \n",
       "5               0                             NaN  15.164344  \n",
       "                11                            NaN  11.750890  \n",
       "                15                            NaN  16.787291  \n",
       "                16                            NaN   9.633512  \n",
       "6               0                             NaN  14.085041  \n",
       "                11                            NaN  13.012722  \n",
       "                15                            NaN  13.559843  \n",
       "                16                            NaN  11.394949  "
      ]
     },
     "execution_count": 270,
     "metadata": {},
     "output_type": "execute_result"
    }
   ],
   "source": [
    "df.pivot_table(index=['passenger_count', df['tpep_pickup_datetime'].dt.hour],\n",
    "              columns='VendorID',\n",
    "              values=['tip_percentage', 'total_amount'],\n",
    "              aggfunc=['mean', 'std'])"
   ]
  },
  {
   "cell_type": "markdown",
   "id": "caec383a",
   "metadata": {},
   "source": [
    "# Exercise: Pivot table\n",
    "\n",
    "1. Create a data frame from `../data/winemag-150k-reviews.csv`\n",
    "2. Create a pivot table with columns = countries, index  = variety, values = points, and get the mean. Which country/variety combination gives the highest score?\n"
   ]
  },
  {
   "cell_type": "code",
   "execution_count": 1,
   "id": "a04040a2",
   "metadata": {},
   "outputs": [],
   "source": [
    "filename = '../data/winemag-150k-reviews.csv'"
   ]
  },
  {
   "cell_type": "code",
   "execution_count": 2,
   "id": "60b0ce2d",
   "metadata": {},
   "outputs": [
    {
     "name": "stdout",
     "output_type": "stream",
     "text": [
      ",country,description,designation,points,price,province,region_1,region_2,variety,winery\r\n",
      "0,US,\"This tremendous 100% varietal wine hails from Oakville and was aged over three years in oak. Juicy red-cherry fruit and a compelling hint of caramel greet the palate, framed by elegant, fine tannins and a subtle minty tone in the background. Balanced and rewarding from start to finish, it has years ahead of it to develop further nuance. Enjoy 2022–2030.\",Martha's Vineyard,96,235.0,California,Napa Valley,Napa,Cabernet Sauvignon,Heitz\r\n",
      "1,Spain,\"Ripe aromas of fig, blackberry and cassis are softened and sweetened by a slathering of oaky chocolate and vanilla. This is full, layered, intense and cushioned on the palate, with rich flavors of chocolaty black fruits and baking spices. A toasty, everlasting finish is heady but ideally balanced. Drink through 2023.\",Carodorum Selección Especial Reserva,96,110.0,Northern Spain,Toro,,Tinta de Toro,Bodega Carmen Rodríguez\r\n",
      "2,US,\"Mac Watson honors the memory of a wine once made by his mother in this tremendously delicious, balanced and complex botrytised white. Dark gold in color, it layers toasted hazelnut, pear compote and orange peel flavors, reveling in the succulence of its 122 g/L of residual sugar.\",Special Selected Late Harvest,96,90.0,California,Knights Valley,Sonoma,Sauvignon Blanc,Macauley\r\n",
      "3,US,\"This spent 20 months in 30% new French oak, and incorporates fruit from Ponzi's Aurora, Abetina and Madrona vineyards, among others. Aromatic, dense and toasty, it deftly blends aromas and flavors of toast, cigar box, blackberry, black cherry, coffee and graphite. Tannins are polished to a fine sheen, and frame a finish loaded with dark chocolate and espresso. Drink now through 2032.\",Reserve,96,65.0,Oregon,Willamette Valley,Willamette Valley,Pinot Noir,Ponzi\r\n",
      "4,France,\"This is the top wine from La Bégude, named after the highest point in the vineyard at 1200 feet. It has structure, density and considerable acidity that is still calming down. With 18 months in wood, the wine has developing an extra richness and concentration. Produced by the Tari family, formerly of Château Giscours in Margaux, it is a wine made for aging. Drink from 2020.\",La Brûlade,95,66.0,Provence,Bandol,,Provence red blend,Domaine de la Bégude\r\n",
      "5,Spain,\"Deep, dense and pure from the opening bell, this Toro is a winner. Aromas of dark ripe black fruits are cool and moderately oaked. This feels massive on the palate but sensationally balanced. Flavors of blackberry, coffee, mocha and toasty oak finish spicy, smooth and heady. Drink this exemplary Toro through 2023.\",Numanthia,95,73.0,Northern Spain,Toro,,Tinta de Toro,Numanthia\r\n",
      "6,Spain,\"Slightly gritty black-fruit aromas include a sweet note of pastry along with a hint of prune. Wall-to-wall saturation ensures that all corners of one's mouth are covered. Flavors of blackberry, mocha and chocolate are highly impressive and expressive, while this settles nicely on a long finish. Drink now through 2024.\",San Román,95,65.0,Northern Spain,Toro,,Tinta de Toro,Maurodos\r\n",
      "7,Spain,\"Lush cedary black-fruit aromas are luxe and offer notes of marzipan and vanilla. This bruiser is massive and tannic on the palate, but still lush and friendly. Chocolate is a key flavor, while baked berry and cassis flavors are hardly wallflowers. On the finish, this is tannic and deep as a sea trench. Drink this saturated black-colored Toro through 2023.\",Carodorum Único Crianza,95,110.0,Northern Spain,Toro,,Tinta de Toro,Bodega Carmen Rodríguez\r\n",
      "8,US,\"This re-named vineyard was formerly bottled as deLancellotti. You'll find striking minerality underscoring chunky black fruits. Accents of citrus and graphite comingle, with exceptional midpalate concentration. This is a wine to cellar, though it is already quite enjoyable. Drink now through 2030.\",Silice,95,65.0,Oregon,Chehalem Mountains,Willamette Valley,Pinot Noir,Bergström\r\n"
     ]
    }
   ],
   "source": [
    "!head $filename"
   ]
  },
  {
   "cell_type": "code",
   "execution_count": 4,
   "id": "a810f3f7",
   "metadata": {},
   "outputs": [],
   "source": [
    "import pandas as pd\n",
    "\n",
    "df = pd.read_csv('../data/winemag-150k-reviews.csv')"
   ]
  },
  {
   "cell_type": "markdown",
   "id": "ed9ea48f",
   "metadata": {},
   "source": [
    "# Visualization / plotting\n",
    "\n",
    " - Matplotlib"
   ]
  },
  {
   "cell_type": "code",
   "execution_count": 8,
   "id": "cfb495df",
   "metadata": {},
   "outputs": [
    {
     "data": {
      "text/plain": [
       "country\n",
       "Portugal    88.057685\n",
       "Turkey      88.096154\n",
       "Morocco     88.166667\n",
       "Slovenia    88.234043\n",
       "Canada      88.239796\n",
       "Italy       88.413664\n",
       "Germany     88.626427\n",
       "France      88.925870\n",
       "Austria     89.276742\n",
       "England     92.888889\n",
       "Name: points, dtype: float64"
      ]
     },
     "execution_count": 8,
     "metadata": {},
     "output_type": "execute_result"
    }
   ],
   "source": [
    "# get the 10 highest-scoring wine countries\n",
    "\n",
    "df.groupby('country')['points'].mean().sort_values().tail(10)"
   ]
  },
  {
   "cell_type": "code",
   "execution_count": 9,
   "id": "ddbb4819",
   "metadata": {},
   "outputs": [
    {
     "data": {
      "text/plain": [
       "<Axes: xlabel='country'>"
      ]
     },
     "execution_count": 9,
     "metadata": {},
     "output_type": "execute_result"
    },
    {
     "data": {
      "image/png": "[encoded data removed]",
      "text/plain": [
       "<Figure size 640x480 with 1 Axes>"
      ]
     },
     "metadata": {},
     "output_type": "display_data"
    }
   ],
   "source": [
    "# plot.bar\n",
    "\n",
    "df.groupby('country')['points'].mean().sort_values().tail(10).plot.bar()"
   ]
  },
  {
   "cell_type": "code",
   "execution_count": 10,
   "id": "f9810db1",
   "metadata": {},
   "outputs": [
    {
     "data": {
      "text/plain": [
       "<Axes: ylabel='country'>"
      ]
     },
     "execution_count": 10,
     "metadata": {},
     "output_type": "execute_result"
    },
    {
     "data": {
      "image/png": "[encoded data removed]",
      "text/plain": [
       "<Figure size 640x480 with 1 Axes>"
      ]
     },
     "metadata": {},
     "output_type": "display_data"
    }
   ],
   "source": [
    "# horizontal bar plot \n",
    "\n",
    "df.groupby('country')['points'].mean().sort_values().tail(10).plot.barh()"
   ]
  },
  {
   "cell_type": "code",
   "execution_count": 11,
   "id": "c2ffc1c3",
   "metadata": {},
   "outputs": [
    {
     "data": {
      "text/plain": [
       "<Axes: xlabel='country'>"
      ]
     },
     "execution_count": 11,
     "metadata": {},
     "output_type": "execute_result"
    },
    {
     "data": {
      "image/png": "[encoded data removed]",
      "text/plain": [
       "<Figure size 640x480 with 1 Axes>"
      ]
     },
     "metadata": {},
     "output_type": "display_data"
    }
   ],
   "source": [
    "# plot.line \n",
    "\n",
    "df.groupby('country')['points'].mean().sort_values().tail(10).plot.line()"
   ]
  },
  {
   "cell_type": "code",
   "execution_count": 12,
   "id": "75d2b99d",
   "metadata": {},
   "outputs": [],
   "source": []
  },
  {
   "cell_type": "code",
   "execution_count": 13,
   "id": "d251853d",
   "metadata": {},
   "outputs": [
    {
     "name": "stdout",
     "output_type": "stream",
     "text": [
      "../data/2020_sharing_data_outside.csv\t ../data/oecd_locations.csv\r\n",
      "../data/CPILFESL.csv\t\t\t ../data/oecd_tourism.csv\r\n",
      "../data/albany,ny.csv\t\t\t ../data/olympic_athlete_events.csv\r\n",
      "../data/boston,ma.csv\t\t\t ../data/san+francisco,ca.csv\r\n",
      "../data/celebrity_deaths_2016.csv\t ../data/sat-scores.csv\r\n",
      "../data/chicago,il.csv\t\t\t ../data/skyscrapers.csv\r\n",
      "../data/eu_cpi.csv\t\t\t ../data/so_2021_survey_results.csv\r\n",
      "../data/eu_gdp.csv\t\t\t ../data/springfield,il.csv\r\n",
      "../data/ice-cream.csv\t\t\t ../data/springfield,ma.csv\r\n",
      "../data/los+angeles,ca.csv\t\t ../data/taxi-distance.csv\r\n",
      "../data/miles-traveled.csv\t\t ../data/taxi-passenger-count.csv\r\n",
      "../data/new+york,ny.csv\t\t\t ../data/us-median-cpi.csv\r\n",
      "../data/nyc-parking-violations-2020.csv  ../data/us-unemployment-rate.csv\r\n",
      "../data/nyc_taxi_2019-01.csv\t\t ../data/us_gdp.csv\r\n",
      "../data/nyc_taxi_2019-07.csv\t\t ../data/winemag-150k-reviews.csv\r\n",
      "../data/nyc_taxi_2020-01.csv\t\t ../data/wti-daily.csv\r\n",
      "../data/nyc_taxi_2020-07.csv\r\n"
     ]
    }
   ],
   "source": [
    "!ls ../data/*.csv"
   ]
  },
  {
   "cell_type": "code",
   "execution_count": 17,
   "id": "5f2174a6",
   "metadata": {},
   "outputs": [],
   "source": [
    "filename = '../data/new+york,ny.csv'\n",
    "\n",
    "df = pd.read_csv(filename, index_col='date_time',\n",
    "                parse_dates=['date_time'])"
   ]
  },
  {
   "cell_type": "code",
   "execution_count": 18,
   "id": "96414e41",
   "metadata": {},
   "outputs": [
    {
     "data": {
      "text/html": [
       "<div>\n",
       "<style scoped>\n",
       "    .dataframe tbody tr th:only-of-type {\n",
       "        vertical-align: middle;\n",
       "    }\n",
       "\n",
       "    .dataframe tbody tr th {\n",
       "        vertical-align: top;\n",
       "    }\n",
       "\n",
       "    .dataframe thead th {\n",
       "        text-align: right;\n",
       "    }\n",
       "</style>\n",
       "<table border=\"1\" class=\"dataframe\">\n",
       "  <thead>\n",
       "    <tr style=\"text-align: right;\">\n",
       "      <th></th>\n",
       "      <th>new+york,ny_maxtempC</th>\n",
       "      <th>new+york,ny_mintempC</th>\n",
       "      <th>new+york,ny_totalSnow_cm</th>\n",
       "      <th>new+york,ny_sunHour</th>\n",
       "      <th>new+york,ny_uvIndex</th>\n",
       "      <th>new+york,ny_uvIndex.1</th>\n",
       "      <th>new+york,ny_moon_illumination</th>\n",
       "      <th>new+york,ny_moonrise</th>\n",
       "      <th>new+york,ny_moonset</th>\n",
       "      <th>new+york,ny_sunrise</th>\n",
       "      <th>...</th>\n",
       "      <th>new+york,ny_WindChillC</th>\n",
       "      <th>new+york,ny_WindGustKmph</th>\n",
       "      <th>new+york,ny_cloudcover</th>\n",
       "      <th>new+york,ny_humidity</th>\n",
       "      <th>new+york,ny_precipMM</th>\n",
       "      <th>new+york,ny_pressure</th>\n",
       "      <th>new+york,ny_tempC</th>\n",
       "      <th>new+york,ny_visibility</th>\n",
       "      <th>new+york,ny_winddirDegree</th>\n",
       "      <th>new+york,ny_windspeedKmph</th>\n",
       "    </tr>\n",
       "    <tr>\n",
       "      <th>date_time</th>\n",
       "      <th></th>\n",
       "      <th></th>\n",
       "      <th></th>\n",
       "      <th></th>\n",
       "      <th></th>\n",
       "      <th></th>\n",
       "      <th></th>\n",
       "      <th></th>\n",
       "      <th></th>\n",
       "      <th></th>\n",
       "      <th></th>\n",
       "      <th></th>\n",
       "      <th></th>\n",
       "      <th></th>\n",
       "      <th></th>\n",
       "      <th></th>\n",
       "      <th></th>\n",
       "      <th></th>\n",
       "      <th></th>\n",
       "      <th></th>\n",
       "      <th></th>\n",
       "    </tr>\n",
       "  </thead>\n",
       "  <tbody>\n",
       "    <tr>\n",
       "      <th>2018-12-11 00:00:00</th>\n",
       "      <td>4</td>\n",
       "      <td>-1</td>\n",
       "      <td>0.0</td>\n",
       "      <td>8.7</td>\n",
       "      <td>2</td>\n",
       "      <td>0</td>\n",
       "      <td>21</td>\n",
       "      <td>10:27 AM</td>\n",
       "      <td>08:28 PM</td>\n",
       "      <td>07:10 AM</td>\n",
       "      <td>...</td>\n",
       "      <td>0</td>\n",
       "      <td>12</td>\n",
       "      <td>0</td>\n",
       "      <td>56</td>\n",
       "      <td>0.0</td>\n",
       "      <td>1023</td>\n",
       "      <td>0</td>\n",
       "      <td>10</td>\n",
       "      <td>20</td>\n",
       "      <td>10</td>\n",
       "    </tr>\n",
       "    <tr>\n",
       "      <th>2018-12-11 03:00:00</th>\n",
       "      <td>4</td>\n",
       "      <td>-1</td>\n",
       "      <td>0.0</td>\n",
       "      <td>8.7</td>\n",
       "      <td>2</td>\n",
       "      <td>0</td>\n",
       "      <td>21</td>\n",
       "      <td>10:27 AM</td>\n",
       "      <td>08:28 PM</td>\n",
       "      <td>07:10 AM</td>\n",
       "      <td>...</td>\n",
       "      <td>1</td>\n",
       "      <td>9</td>\n",
       "      <td>0</td>\n",
       "      <td>56</td>\n",
       "      <td>0.0</td>\n",
       "      <td>1022</td>\n",
       "      <td>0</td>\n",
       "      <td>10</td>\n",
       "      <td>17</td>\n",
       "      <td>8</td>\n",
       "    </tr>\n",
       "    <tr>\n",
       "      <th>2018-12-11 06:00:00</th>\n",
       "      <td>4</td>\n",
       "      <td>-1</td>\n",
       "      <td>0.0</td>\n",
       "      <td>8.7</td>\n",
       "      <td>2</td>\n",
       "      <td>0</td>\n",
       "      <td>21</td>\n",
       "      <td>10:27 AM</td>\n",
       "      <td>08:28 PM</td>\n",
       "      <td>07:10 AM</td>\n",
       "      <td>...</td>\n",
       "      <td>0</td>\n",
       "      <td>9</td>\n",
       "      <td>0</td>\n",
       "      <td>63</td>\n",
       "      <td>0.0</td>\n",
       "      <td>1022</td>\n",
       "      <td>-1</td>\n",
       "      <td>10</td>\n",
       "      <td>35</td>\n",
       "      <td>8</td>\n",
       "    </tr>\n",
       "    <tr>\n",
       "      <th>2018-12-11 09:00:00</th>\n",
       "      <td>4</td>\n",
       "      <td>-1</td>\n",
       "      <td>0.0</td>\n",
       "      <td>8.7</td>\n",
       "      <td>2</td>\n",
       "      <td>2</td>\n",
       "      <td>21</td>\n",
       "      <td>10:27 AM</td>\n",
       "      <td>08:28 PM</td>\n",
       "      <td>07:10 AM</td>\n",
       "      <td>...</td>\n",
       "      <td>4</td>\n",
       "      <td>6</td>\n",
       "      <td>2</td>\n",
       "      <td>56</td>\n",
       "      <td>0.0</td>\n",
       "      <td>1021</td>\n",
       "      <td>1</td>\n",
       "      <td>10</td>\n",
       "      <td>41</td>\n",
       "      <td>5</td>\n",
       "    </tr>\n",
       "    <tr>\n",
       "      <th>2018-12-11 12:00:00</th>\n",
       "      <td>4</td>\n",
       "      <td>-1</td>\n",
       "      <td>0.0</td>\n",
       "      <td>8.7</td>\n",
       "      <td>2</td>\n",
       "      <td>2</td>\n",
       "      <td>21</td>\n",
       "      <td>10:27 AM</td>\n",
       "      <td>08:28 PM</td>\n",
       "      <td>07:10 AM</td>\n",
       "      <td>...</td>\n",
       "      <td>4</td>\n",
       "      <td>7</td>\n",
       "      <td>6</td>\n",
       "      <td>55</td>\n",
       "      <td>0.0</td>\n",
       "      <td>1018</td>\n",
       "      <td>3</td>\n",
       "      <td>10</td>\n",
       "      <td>242</td>\n",
       "      <td>6</td>\n",
       "    </tr>\n",
       "  </tbody>\n",
       "</table>\n",
       "<p>5 rows × 24 columns</p>\n",
       "</div>"
      ],
      "text/plain": [
       "                     new+york,ny_maxtempC  new+york,ny_mintempC  \\\n",
       "date_time                                                         \n",
       "2018-12-11 00:00:00                     4                    -1   \n",
       "2018-12-11 03:00:00                     4                    -1   \n",
       "2018-12-11 06:00:00                     4                    -1   \n",
       "2018-12-11 09:00:00                     4                    -1   \n",
       "2018-12-11 12:00:00                     4                    -1   \n",
       "\n",
       "                     new+york,ny_totalSnow_cm  new+york,ny_sunHour  \\\n",
       "date_time                                                            \n",
       "2018-12-11 00:00:00                       0.0                  8.7   \n",
       "2018-12-11 03:00:00                       0.0                  8.7   \n",
       "2018-12-11 06:00:00                       0.0                  8.7   \n",
       "2018-12-11 09:00:00                       0.0                  8.7   \n",
       "2018-12-11 12:00:00                       0.0                  8.7   \n",
       "\n",
       "                     new+york,ny_uvIndex  new+york,ny_uvIndex.1  \\\n",
       "date_time                                                         \n",
       "2018-12-11 00:00:00                    2                      0   \n",
       "2018-12-11 03:00:00                    2                      0   \n",
       "2018-12-11 06:00:00                    2                      0   \n",
       "2018-12-11 09:00:00                    2                      2   \n",
       "2018-12-11 12:00:00                    2                      2   \n",
       "\n",
       "                     new+york,ny_moon_illumination new+york,ny_moonrise  \\\n",
       "date_time                                                                 \n",
       "2018-12-11 00:00:00                             21             10:27 AM   \n",
       "2018-12-11 03:00:00                             21             10:27 AM   \n",
       "2018-12-11 06:00:00                             21             10:27 AM   \n",
       "2018-12-11 09:00:00                             21             10:27 AM   \n",
       "2018-12-11 12:00:00                             21             10:27 AM   \n",
       "\n",
       "                    new+york,ny_moonset new+york,ny_sunrise  ...  \\\n",
       "date_time                                                    ...   \n",
       "2018-12-11 00:00:00            08:28 PM            07:10 AM  ...   \n",
       "2018-12-11 03:00:00            08:28 PM            07:10 AM  ...   \n",
       "2018-12-11 06:00:00            08:28 PM            07:10 AM  ...   \n",
       "2018-12-11 09:00:00            08:28 PM            07:10 AM  ...   \n",
       "2018-12-11 12:00:00            08:28 PM            07:10 AM  ...   \n",
       "\n",
       "                    new+york,ny_WindChillC  new+york,ny_WindGustKmph  \\\n",
       "date_time                                                              \n",
       "2018-12-11 00:00:00                      0                        12   \n",
       "2018-12-11 03:00:00                      1                         9   \n",
       "2018-12-11 06:00:00                      0                         9   \n",
       "2018-12-11 09:00:00                      4                         6   \n",
       "2018-12-11 12:00:00                      4                         7   \n",
       "\n",
       "                     new+york,ny_cloudcover  new+york,ny_humidity  \\\n",
       "date_time                                                           \n",
       "2018-12-11 00:00:00                       0                    56   \n",
       "2018-12-11 03:00:00                       0                    56   \n",
       "2018-12-11 06:00:00                       0                    63   \n",
       "2018-12-11 09:00:00                       2                    56   \n",
       "2018-12-11 12:00:00                       6                    55   \n",
       "\n",
       "                     new+york,ny_precipMM  new+york,ny_pressure  \\\n",
       "date_time                                                         \n",
       "2018-12-11 00:00:00                   0.0                  1023   \n",
       "2018-12-11 03:00:00                   0.0                  1022   \n",
       "2018-12-11 06:00:00                   0.0                  1022   \n",
       "2018-12-11 09:00:00                   0.0                  1021   \n",
       "2018-12-11 12:00:00                   0.0                  1018   \n",
       "\n",
       "                     new+york,ny_tempC  new+york,ny_visibility  \\\n",
       "date_time                                                        \n",
       "2018-12-11 00:00:00                  0                      10   \n",
       "2018-12-11 03:00:00                  0                      10   \n",
       "2018-12-11 06:00:00                 -1                      10   \n",
       "2018-12-11 09:00:00                  1                      10   \n",
       "2018-12-11 12:00:00                  3                      10   \n",
       "\n",
       "                     new+york,ny_winddirDegree  new+york,ny_windspeedKmph  \n",
       "date_time                                                                  \n",
       "2018-12-11 00:00:00                         20                         10  \n",
       "2018-12-11 03:00:00                         17                          8  \n",
       "2018-12-11 06:00:00                         35                          8  \n",
       "2018-12-11 09:00:00                         41                          5  \n",
       "2018-12-11 12:00:00                        242                          6  \n",
       "\n",
       "[5 rows x 24 columns]"
      ]
     },
     "execution_count": 18,
     "metadata": {},
     "output_type": "execute_result"
    }
   ],
   "source": [
    "df.head()"
   ]
  },
  {
   "cell_type": "code",
   "execution_count": 19,
   "id": "f2dd846f",
   "metadata": {},
   "outputs": [
    {
     "data": {
      "text/plain": [
       "date_time\n",
       "2018-12-11 00:00:00    4\n",
       "2018-12-11 03:00:00    4\n",
       "2018-12-11 06:00:00    4\n",
       "2018-12-11 09:00:00    4\n",
       "2018-12-11 12:00:00    4\n",
       "                      ..\n",
       "2019-03-11 09:00:00    6\n",
       "2019-03-11 12:00:00    6\n",
       "2019-03-11 15:00:00    6\n",
       "2019-03-11 18:00:00    6\n",
       "2019-03-11 21:00:00    6\n",
       "Name: new+york,ny_maxtempC, Length: 728, dtype: int64"
      ]
     },
     "execution_count": 19,
     "metadata": {},
     "output_type": "execute_result"
    }
   ],
   "source": [
    "df['new+york,ny_maxtempC']"
   ]
  },
  {
   "cell_type": "code",
   "execution_count": 20,
   "id": "998f0802",
   "metadata": {},
   "outputs": [
    {
     "data": {
      "text/plain": [
       "<Axes: xlabel='date_time'>"
      ]
     },
     "execution_count": 20,
     "metadata": {},
     "output_type": "execute_result"
    },
    {
     "data": {
      "image/png": "[encoded data removed]",
      "text/plain": [
       "<Figure size 640x480 with 1 Axes>"
      ]
     },
     "metadata": {},
     "output_type": "display_data"
    }
   ],
   "source": [
    "df['new+york,ny_maxtempC'].plot.line()"
   ]
  },
  {
   "cell_type": "code",
   "execution_count": 23,
   "id": "906cabe3",
   "metadata": {},
   "outputs": [
    {
     "data": {
      "text/plain": [
       "<Axes: xlabel='date_time'>"
      ]
     },
     "execution_count": 23,
     "metadata": {},
     "output_type": "execute_result"
    },
    {
     "data": {
      "image/png": "[encoded data removed]",
      "text/plain": [
       "<Figure size 640x480 with 1 Axes>"
      ]
     },
     "metadata": {},
     "output_type": "display_data"
    }
   ],
   "source": [
    "df[['new+york,ny_maxtempC',\n",
    "    'new+york,ny_mintempC']].plot.line()"
   ]
  },
  {
   "cell_type": "code",
   "execution_count": 24,
   "id": "f89d2b39",
   "metadata": {},
   "outputs": [
    {
     "data": {
      "text/plain": [
       "<Axes: title={'center': 'New York temps'}, xlabel='date_time'>"
      ]
     },
     "execution_count": 24,
     "metadata": {},
     "output_type": "execute_result"
    },
    {
     "data": {
      "image/png": "[encoded data removed]",
      "text/plain": [
       "<Figure size 640x480 with 1 Axes>"
      ]
     },
     "metadata": {},
     "output_type": "display_data"
    }
   ],
   "source": [
    "df[['new+york,ny_maxtempC',\n",
    "    'new+york,ny_mintempC']].plot.line(title='New York temps',\n",
    "                                      color=['red', 'blue'])"
   ]
  },
  {
   "cell_type": "code",
   "execution_count": 25,
   "id": "75f94dbe",
   "metadata": {},
   "outputs": [
    {
     "data": {
      "text/plain": [
       "<Axes: title={'center': 'New York temps'}, xlabel='date_time'>"
      ]
     },
     "execution_count": 25,
     "metadata": {},
     "output_type": "execute_result"
    },
    {
     "data": {
      "image/png": "[encoded data removed]",
      "text/plain": [
       "<Figure size 640x480 with 1 Axes>"
      ]
     },
     "metadata": {},
     "output_type": "display_data"
    }
   ],
   "source": [
    "df[['new+york,ny_maxtempC',\n",
    "    'new+york,ny_mintempC']].plot.line(title='New York temps',\n",
    "                                      color=['red', 'blue'],\n",
    "                                      ylim=(-20, 30))"
   ]
  },
  {
   "cell_type": "code",
   "execution_count": 26,
   "id": "f91ad1f7",
   "metadata": {},
   "outputs": [
    {
     "data": {
      "text/plain": [
       "<Axes: title={'center': 'New York temps'}, xlabel='date_time'>"
      ]
     },
     "execution_count": 26,
     "metadata": {},
     "output_type": "execute_result"
    },
    {
     "data": {
      "image/png": "[encoded data removed]",
      "text/plain": [
       "<Figure size 640x480 with 1 Axes>"
      ]
     },
     "metadata": {},
     "output_type": "display_data"
    }
   ],
   "source": [
    "df[['new+york,ny_maxtempC',\n",
    "    'new+york,ny_mintempC']].plot.bar(title='New York temps',\n",
    "                                      color=['red', 'blue'],\n",
    "                                      ylim=(-20, 30))"
   ]
  },
  {
   "cell_type": "code",
   "execution_count": null,
   "id": "36a95608",
   "metadata": {},
   "outputs": [],
   "source": []
  }
 ],
 "metadata": {
  "kernelspec": {
   "display_name": "Python 3 (ipykernel)",
   "language": "python",
   "name": "python3"
  },
  "language_info": {
   "codemirror_mode": {
    "name": "ipython",
    "version": 3
   },
   "file_extension": ".py",
   "mimetype": "text/x-python",
   "name": "python",
   "nbconvert_exporter": "python",
   "pygments_lexer": "ipython3",
   "version": "3.12.7"
  }
 },
 "nbformat": 4,
 "nbformat_minor": 5
}
