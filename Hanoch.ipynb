{
 "cells": [
  {
   "cell_type": "code",
   "execution_count": 1,
   "id": "79710ce1",
   "metadata": {},
   "outputs": [
    {
     "name": "stdout",
     "output_type": "stream",
     "text": [
      "shalomtohanoch\n"
     ]
    }
   ],
   "source": [
    "print ('shalom' + 'to'+ \"hanoch\")"
   ]
  },
  {
   "cell_type": "code",
   "execution_count": 2,
   "id": "12103f0c",
   "metadata": {},
   "outputs": [
    {
     "name": "stdout",
     "output_type": "stream",
     "text": [
      "shalom to hanoch\n"
     ]
    }
   ],
   "source": [
    "print ('shalom to hanoch')"
   ]
  },
  {
   "cell_type": "code",
   "execution_count": 6,
   "id": "1e756bbf",
   "metadata": {},
   "outputs": [
    {
     "name": "stdout",
     "output_type": "stream",
     "text": [
      "100\n"
     ]
    }
   ],
   "source": [
    "x = 100\n",
    "print(x)"
   ]
  },
  {
   "cell_type": "markdown",
   "id": "2c188d5a",
   "metadata": {},
   "source": [
    "name = 'hanoch'"
   ]
  },
  {
   "cell_type": "code",
   "execution_count": 7,
   "id": "c7bea5d2",
   "metadata": {},
   "outputs": [
    {
     "ename": "NameError",
     "evalue": "name 'name' is not defined",
     "output_type": "error",
     "traceback": [
      "\u001b[0;31m---------------------------------------------------------------------------\u001b[0m",
      "\u001b[0;31mNameError\u001b[0m                                 Traceback (most recent call last)",
      "Cell \u001b[0;32mIn[7], line 1\u001b[0m\n\u001b[0;32m----> 1\u001b[0m \u001b[38;5;28mprint\u001b[39m (\u001b[38;5;124m'\u001b[39m\u001b[38;5;124mhello,\u001b[39m\u001b[38;5;124m'\u001b[39m \u001b[38;5;241m+\u001b[39m \u001b[43mname\u001b[49m)\n",
      "\u001b[0;31mNameError\u001b[0m: name 'name' is not defined"
     ]
    }
   ],
   "source": [
    "print ('hello,' + name)"
   ]
  },
  {
   "cell_type": "code",
   "execution_count": 11,
   "id": "9c73b649",
   "metadata": {},
   "outputs": [
    {
     "name": "stdout",
     "output_type": "stream",
     "text": [
      "hello, Hanoch\n"
     ]
    }
   ],
   "source": [
    "name = 'Hanoch'\n",
    "print ('hello, ' + name)"
   ]
  },
  {
   "cell_type": "code",
   "execution_count": 12,
   "id": "458a2f7d",
   "metadata": {},
   "outputs": [
    {
     "data": {
      "text/plain": [
       "100"
      ]
     },
     "execution_count": 12,
     "metadata": {},
     "output_type": "execute_result"
    }
   ],
   "source": [
    "x"
   ]
  },
  {
   "cell_type": "code",
   "execution_count": null,
   "id": "5f9768de",
   "metadata": {},
   "outputs": [],
   "source": []
  },
  {
   "cell_type": "code",
   "execution_count": 13,
   "id": "c92355e5",
   "metadata": {},
   "outputs": [
    {
     "data": {
      "text/plain": [
       "105"
      ]
     },
     "execution_count": 13,
     "metadata": {},
     "output_type": "execute_result"
    }
   ],
   "source": [
    "x + 5"
   ]
  },
  {
   "cell_type": "code",
   "execution_count": 16,
   "id": "003ce11e",
   "metadata": {},
   "outputs": [
    {
     "data": {
      "text/plain": [
       "int"
      ]
     },
     "execution_count": 16,
     "metadata": {},
     "output_type": "execute_result"
    }
   ],
   "source": [
    "# 'what kind of value is in x?'\n",
    "type (x)"
   ]
  },
  {
   "cell_type": "code",
   "execution_count": 17,
   "id": "56d9b633",
   "metadata": {},
   "outputs": [
    {
     "data": {
      "text/plain": [
       "str"
      ]
     },
     "execution_count": 17,
     "metadata": {},
     "output_type": "execute_result"
    }
   ],
   "source": [
    "x= 'abcd'\n",
    "type (x)"
   ]
  },
  {
   "cell_type": "code",
   "execution_count": 19,
   "id": "6f4d2639",
   "metadata": {},
   "outputs": [
    {
     "data": {
      "text/plain": [
       "True"
      ]
     },
     "execution_count": 19,
     "metadata": {},
     "output_type": "execute_result"
    }
   ],
   "source": [
    "x=10\n",
    "y=10# are x and y the same?\n",
    "\n",
    "x==y"
   ]
  },
  {
   "cell_type": "code",
   "execution_count": 20,
   "id": "a62bc075",
   "metadata": {},
   "outputs": [
    {
     "data": {
      "text/plain": [
       "False"
      ]
     },
     "execution_count": 20,
     "metadata": {},
     "output_type": "execute_result"
    }
   ],
   "source": [
    "100<10"
   ]
  },
  {
   "cell_type": "code",
   "execution_count": 21,
   "id": "d33fd479",
   "metadata": {},
   "outputs": [
    {
     "name": "stdout",
     "output_type": "stream",
     "text": [
      "Enter your name:Hanoch\n"
     ]
    }
   ],
   "source": [
    "name = input('Enter your name:')"
   ]
  },
  {
   "cell_type": "code",
   "execution_count": 25,
   "id": "d6273300",
   "metadata": {},
   "outputs": [
    {
     "name": "stdout",
     "output_type": "stream",
     "text": [
      "Hello,Givatyiam!\n"
     ]
    }
   ],
   "source": [
    "print ('Hello,' +name+ \"!\")"
   ]
  },
  {
   "cell_type": "code",
   "execution_count": 26,
   "id": "14d75105",
   "metadata": {},
   "outputs": [
    {
     "name": "stdout",
     "output_type": "stream",
     "text": [
      "Enter your name:Hanoch\n"
     ]
    }
   ],
   "source": [
    "name = input('Enter your name:')"
   ]
  },
  {
   "cell_type": "code",
   "execution_count": 27,
   "id": "28724760",
   "metadata": {},
   "outputs": [
    {
     "name": "stdout",
     "output_type": "stream",
     "text": [
      "Enter your city:Givataym\n"
     ]
    }
   ],
   "source": [
    "city = input('Enter your city:')"
   ]
  },
  {
   "cell_type": "code",
   "execution_count": 29,
   "id": "0c3dca9b",
   "metadata": {},
   "outputs": [
    {
     "name": "stdout",
     "output_type": "stream",
     "text": [
      "namecity\n"
     ]
    }
   ],
   "source": [
    "print (name + city)"
   ]
  },
  {
   "cell_type": "code",
   "execution_count": 39,
   "id": "7b629aa2",
   "metadata": {},
   "outputs": [
    {
     "ename": "SyntaxError",
     "evalue": "unterminated string literal (detected at line 1) (1736058751.py, line 1)",
     "output_type": "error",
     "traceback": [
      "\u001b[0;36m  Cell \u001b[0;32mIn[39], line 1\u001b[0;36m\u001b[0m\n\u001b[0;31m    print (f\"hello\" + (name) + \"from = city + '!')\u001b[0m\n\u001b[0m                               ^\u001b[0m\n\u001b[0;31mSyntaxError\u001b[0m\u001b[0;31m:\u001b[0m unterminated string literal (detected at line 1)\n"
     ]
    }
   ],
   "source": [
    "print (f\"hello\" + (name) + \"from = city + '!')"
   ]
  },
  {
   "cell_type": "code",
   "execution_count": 40,
   "id": "125ce081",
   "metadata": {
    "scrolled": true
   },
   "outputs": [
    {
     "name": "stdout",
     "output_type": "stream",
     "text": [
      "(x) +(y) = (x+y)\n"
     ]
    }
   ],
   "source": [
    "x = 10\n",
    "y = 20\n",
    "print (f'(x) +(y) = (x+y)')"
   ]
  },
  {
   "cell_type": "code",
   "execution_count": 43,
   "id": "e34bef8a",
   "metadata": {},
   "outputs": [
    {
     "name": "stdout",
     "output_type": "stream",
     "text": [
      "Enter your name: Hanoch\n",
      "hello, boss!\n",
      "greatto see you again!\n"
     ]
    }
   ],
   "source": [
    "name = input ('Enter your name: ')\n",
    "\n",
    "if name == 'Hanoch':\n",
    "    print (\"hello, boss!\")\n",
    "    print('greatto see you again!')\n",
    "else:\n",
    "    print(f'hello, (name), whoever you are')\n"
   ]
  },
  {
   "cell_type": "code",
   "execution_count": 46,
   "id": "c5cc5063",
   "metadata": {},
   "outputs": [
    {
     "name": "stdout",
     "output_type": "stream",
     "text": [
      "Enter your city: tel aviv\n",
      "hello, (name), whoever you are\n"
     ]
    }
   ],
   "source": [
    "name = input ('Enter your city: ')\n",
    "\n",
    "if name == 'haifa':\n",
    "    print (\"I, love, haifa!\")\n",
    "    print('great placeto be in!')\n",
    "else:\n",
    "    print(f'hello, (name), whoever you are')"
   ]
  },
  {
   "cell_type": "code",
   "execution_count": 47,
   "id": "91d0acb6",
   "metadata": {},
   "outputs": [],
   "source": [
    "x=100"
   ]
  },
  {
   "cell_type": "code",
   "execution_count": 48,
   "id": "dd4d9364",
   "metadata": {},
   "outputs": [],
   "source": [
    "y=200\n"
   ]
  },
  {
   "cell_type": "code",
   "execution_count": 49,
   "id": "62f99688",
   "metadata": {},
   "outputs": [
    {
     "name": "stdout",
     "output_type": "stream",
     "text": [
      "300\n"
     ]
    }
   ],
   "source": [
    "print (x+y)"
   ]
  },
  {
   "cell_type": "code",
   "execution_count": 56,
   "id": "45c3e075",
   "metadata": {},
   "outputs": [
    {
     "ename": "SyntaxError",
     "evalue": "unterminated string literal (detected at line 5) (354161529.py, line 5)",
     "output_type": "error",
     "traceback": [
      "\u001b[0;36m  Cell \u001b[0;32mIn[56], line 5\u001b[0;36m\u001b[0m\n\u001b[0;31m    print(\"f'(word1) comes before (word2))\u001b[0m\n\u001b[0m          ^\u001b[0m\n\u001b[0;31mSyntaxError\u001b[0m\u001b[0;31m:\u001b[0m unterminated string literal (detected at line 5)\n"
     ]
    }
   ],
   "source": [
    "word1 = input('Enter first word: ')\n",
    "word2 = input('Enter second word: ')\n",
    "\n",
    "if word1 > word2:\n",
    "              print(\"f'(word1) comes before (word2))\n",
    "if word1 < word2:\n",
    "              print(\"f'(word1) comes after (word2))"
   ]
  },
  {
   "cell_type": "code",
   "execution_count": 57,
   "id": "5bdc2676",
   "metadata": {},
   "outputs": [
    {
     "name": "stdout",
     "output_type": "stream",
     "text": [
      "Bigger than 24\n"
     ]
    }
   ],
   "source": [
    "x = 25\n",
    "\n",
    "if x > 90:\n",
    "    print('Bigger than 90')\n",
    "elif x > 70:\n",
    "    print('Bigger than 70')\n",
    "elif x > 50:\n",
    "    print('Bigger than 50')\n",
    "elif x > 24:\n",
    "    print('Bigger than 24')\n",
    "elif x > -1:\n",
    "     print('Bigger than -1')\n",
    "else:\n",
    "    print('who cares?')"
   ]
  },
  {
   "cell_type": "code",
   "execution_count": 60,
   "id": "a37de9de",
   "metadata": {},
   "outputs": [
    {
     "ename": "IndentationError",
     "evalue": "unindent does not match any outer indentation level (<string>, line 6)",
     "output_type": "error",
     "traceback": [
      "\u001b[0;36m  File \u001b[0;32m<string>:6\u001b[0;36m\u001b[0m\n\u001b[0;31m    elif word1> word2:\u001b[0m\n\u001b[0m                      ^\u001b[0m\n\u001b[0;31mIndentationError\u001b[0m\u001b[0;31m:\u001b[0m unindent does not match any outer indentation level\n"
     ]
    }
   ],
   "source": [
    "word1 = input('Enter first word: ')\n",
    "word2 = input('Enter second word: ')\n",
    "\n",
    "if word1 < word2:\n",
    "              print(f'(word1) comes before (word2)')\n",
    "    elif word1> word2:\n",
    "              print(f'(word2) comes after (word1)')"
   ]
  },
  {
   "cell_type": "code",
   "execution_count": 61,
   "id": "de5a94a7",
   "metadata": {},
   "outputs": [
    {
     "data": {
      "text/plain": [
       "int"
      ]
     },
     "execution_count": 61,
     "metadata": {},
     "output_type": "execute_result"
    }
   ],
   "source": [
    "x = 123456\n",
    "type(x)"
   ]
  },
  {
   "cell_type": "code",
   "execution_count": 62,
   "id": "0c7a2354",
   "metadata": {},
   "outputs": [
    {
     "name": "stdout",
     "output_type": "stream",
     "text": [
      "1234567890\n"
     ]
    }
   ],
   "source": [
    "x  = 1_234_567_890\n",
    "print (x)\n"
   ]
  },
  {
   "cell_type": "code",
   "execution_count": 63,
   "id": "3c7f418e",
   "metadata": {},
   "outputs": [],
   "source": [
    "x= 10\n",
    "y= 3"
   ]
  },
  {
   "cell_type": "code",
   "execution_count": 64,
   "id": "ba0f5c28",
   "metadata": {},
   "outputs": [
    {
     "data": {
      "text/plain": [
       "13"
      ]
     },
     "execution_count": 64,
     "metadata": {},
     "output_type": "execute_result"
    }
   ],
   "source": [
    "x+y"
   ]
  },
  {
   "cell_type": "code",
   "execution_count": 65,
   "id": "f9818291",
   "metadata": {},
   "outputs": [
    {
     "data": {
      "text/plain": [
       "3.3333333333333335"
      ]
     },
     "execution_count": 65,
     "metadata": {},
     "output_type": "execute_result"
    }
   ],
   "source": [
    "x/y"
   ]
  },
  {
   "cell_type": "code",
   "execution_count": 67,
   "id": "25a1171d",
   "metadata": {},
   "outputs": [
    {
     "data": {
      "text/plain": [
       "1"
      ]
     },
     "execution_count": 67,
     "metadata": {},
     "output_type": "execute_result"
    }
   ],
   "source": [
    "x%y # modules -- reminder"
   ]
  },
  {
   "cell_type": "markdown",
   "id": "459496ab",
   "metadata": {},
   "source": [
    "10 ** 3"
   ]
  },
  {
   "cell_type": "code",
   "execution_count": 73,
   "id": "75983587",
   "metadata": {},
   "outputs": [
    {
     "data": {
      "text/plain": [
       "1000"
      ]
     },
     "execution_count": 73,
     "metadata": {},
     "output_type": "execute_result"
    }
   ],
   "source": [
    "x**y"
   ]
  },
  {
   "cell_type": "code",
   "execution_count": 74,
   "id": "087ac3a4",
   "metadata": {},
   "outputs": [
    {
     "data": {
      "text/plain": [
       "26"
      ]
     },
     "execution_count": 74,
     "metadata": {},
     "output_type": "execute_result"
    }
   ],
   "source": [
    "s  = 'abcdefghijklmnopqrstuvwxyz'\n",
    "len (s)"
   ]
  },
  {
   "cell_type": "code",
   "execution_count": 75,
   "id": "a8c8cc4f",
   "metadata": {},
   "outputs": [
    {
     "data": {
      "text/plain": [
       "'a'"
      ]
     },
     "execution_count": 75,
     "metadata": {},
     "output_type": "execute_result"
    }
   ],
   "source": [
    "s[0]"
   ]
  },
  {
   "cell_type": "code",
   "execution_count": 76,
   "id": "c63bc0bc",
   "metadata": {},
   "outputs": [
    {
     "data": {
      "text/plain": [
       "'b'"
      ]
     },
     "execution_count": 76,
     "metadata": {},
     "output_type": "execute_result"
    }
   ],
   "source": [
    "s[1]"
   ]
  },
  {
   "cell_type": "code",
   "execution_count": 77,
   "id": "7ec807c1",
   "metadata": {},
   "outputs": [
    {
     "data": {
      "text/plain": [
       "'x'"
      ]
     },
     "execution_count": 77,
     "metadata": {},
     "output_type": "execute_result"
    }
   ],
   "source": [
    "s[-3]"
   ]
  },
  {
   "cell_type": "code",
   "execution_count": 78,
   "id": "22cf935d",
   "metadata": {},
   "outputs": [
    {
     "data": {
      "text/plain": [
       "'klmnopqrst'"
      ]
     },
     "execution_count": 78,
     "metadata": {},
     "output_type": "execute_result"
    }
   ],
   "source": [
    "#s[start_index:end_index]\n",
    "s[10:20]"
   ]
  },
  {
   "cell_type": "code",
   "execution_count": 79,
   "id": "38b364c3",
   "metadata": {},
   "outputs": [
    {
     "data": {
      "text/plain": [
       "'klmnopqrstuvwxyz'"
      ]
     },
     "execution_count": 79,
     "metadata": {},
     "output_type": "execute_result"
    }
   ],
   "source": [
    "s[10:]"
   ]
  },
  {
   "cell_type": "code",
   "execution_count": null,
   "id": "5360b973",
   "metadata": {},
   "outputs": [],
   "source": []
  }
 ],
 "metadata": {
  "kernelspec": {
   "display_name": "Python 3 (ipykernel)",
   "language": "python",
   "name": "python3"
  },
  "language_info": {
   "codemirror_mode": {
    "name": "ipython",
    "version": 3
   },
   "file_extension": ".py",
   "mimetype": "text/x-python",
   "name": "python",
   "nbconvert_exporter": "python",
   "pygments_lexer": "ipython3",
   "version": "3.12.7"
  }
 },
 "nbformat": 4,
 "nbformat_minor": 5
}
