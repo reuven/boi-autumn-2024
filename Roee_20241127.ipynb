{
 "cells": [
  {
   "cell_type": "code",
   "execution_count": 1,
   "id": "5e54f5cb",
   "metadata": {},
   "outputs": [
    {
     "name": "stdout",
     "output_type": "stream",
     "text": [
      "a\n",
      "b\n",
      "c\n",
      "d\n"
     ]
    }
   ],
   "source": [
    "s= 'abcd'\n",
    "for x in s:\n",
    "    print (x)\n",
    "    "
   ]
  },
  {
   "cell_type": "code",
   "execution_count": 3,
   "id": "18ca8697",
   "metadata": {},
   "outputs": [
    {
     "name": "stdout",
     "output_type": "stream",
     "text": [
      "0 yea\n",
      "1 yea\n",
      "2 yea\n"
     ]
    }
   ],
   "source": [
    "for a in range(3):\n",
    "    print(f'{a} yea')"
   ]
  },
  {
   "cell_type": "code",
   "execution_count": 4,
   "id": "4d165107",
   "metadata": {},
   "outputs": [
    {
     "name": "stdout",
     "output_type": "stream",
     "text": [
      "3\n",
      "6\n",
      "9\n",
      "12\n",
      "15\n",
      "18\n",
      "21\n",
      "24\n"
     ]
    }
   ],
   "source": [
    "for i in range (3,27,3):\n",
    "    print(i)"
   ]
  },
  {
   "cell_type": "code",
   "execution_count": null,
   "id": "97c0ecde",
   "metadata": {},
   "outputs": [],
   "source": [
    "digits=0\n",
    "vowels=0\n",
    "others=0\n",
    "text = input('Enter youe text: ')\n",
    "\n",
    "for charecter in text:\n",
    "    if charecter.isdigit():\n",
    "        digits +=1\n",
    "    elif charecter in ''"
   ]
  }
 ],
 "metadata": {
  "kernelspec": {
   "display_name": "Python 3 (ipykernel)",
   "language": "python",
   "name": "python3"
  },
  "language_info": {
   "codemirror_mode": {
    "name": "ipython",
    "version": 3
   },
   "file_extension": ".py",
   "mimetype": "text/x-python",
   "name": "python",
   "nbconvert_exporter": "python",
   "pygments_lexer": "ipython3",
   "version": "3.12.7"
  }
 },
 "nbformat": 4,
 "nbformat_minor": 5
}
