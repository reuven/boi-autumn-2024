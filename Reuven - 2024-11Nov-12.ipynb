{
 "cells": [
  {
   "cell_type": "markdown",
   "id": "7c5b8e09",
   "metadata": {},
   "source": [
    "# Agenda\n",
    "\n",
    "1. Day 1 -- fundamentals\n",
    "    - What is a programming language? WHat is Python?\n",
    "    - Values and variables\n",
    "    - Comparisons\n",
    "    - `if`/`else`\n",
    "    - input + output\n",
    "    - Numbers (int, float)\n",
    "    - Strings (text)\n",
    "    \n",
    "2. More complexity in data and programs\n",
    "    - List, tuple\n",
    "    - Dictionary\n",
    "    - From strings to lists, and back\n",
    "    - Files (reading from)\n",
    "    - Modules (and packages)\n",
    "    - Functions (maybe)\n",
    "    \n",
    "3. Pandas \n",
    "    - Series (1D)\n",
    "    - Data frame (2D)\n",
    "    - dtypes and `NaN`\n",
    "    - Methods (functionality) \n",
    "    \n",
    "4. More advanced Pandas\n",
    "    - Reading from CSV, Excel\n",
    "    - Grouping, sorting, pivot tables\n",
    "    - Visualization"
   ]
  },
  {
   "cell_type": "code",
   "execution_count": 2,
   "id": "03f8674a",
   "metadata": {},
   "outputs": [
    {
     "name": "stdout",
     "output_type": "stream",
     "text": [
      "Hello out there!\n"
     ]
    }
   ],
   "source": [
    "print('Hello out there!')"
   ]
  },
  {
   "cell_type": "code",
   "execution_count": 3,
   "id": "beb1a483",
   "metadata": {},
   "outputs": [],
   "source": [
    "# python.lerner.co.il\n",
    "# boipw!!\n"
   ]
  },
  {
   "cell_type": "markdown",
   "id": "9e488b44",
   "metadata": {},
   "source": [
    "This is a cell. \n",
    "\n",
    "- Edit mode. When I type, Jupyter puts it into the cell. Click in the cell or press ENTER to get into edit mode.\n",
    "- Command mode. When I type, Jupyter gets a command from me. Click on the left or press ESC.\n",
    "\n",
    "Commands that I can give to Jupyter:\n",
    "- `x` -- cut the cell \n",
    "- `c` -- copy the cell\n",
    "- `v` -- paste the cell\n",
    "- `m` -- Markdown mode, for documentation\n",
    "- `y` -- code  mode, for Python\n",
    "- `a` -- new cell *above* the current one\n",
    "- `b` -- new cell *below* the current one\n",
    "\n",
    "shift + ENTER: Execute the cell"
   ]
  },
  {
   "cell_type": "code",
   "execution_count": 5,
   "id": "636a28e4",
   "metadata": {
    "scrolled": true
   },
   "outputs": [
    {
     "name": "stdout",
     "output_type": "stream",
     "text": [
      "hello again!\n",
      "hello again again!\n"
     ]
    }
   ],
   "source": [
    "print('hello again!')\n",
    "print('hello again again!')"
   ]
  },
  {
   "cell_type": "markdown",
   "id": "9e3e89ee",
   "metadata": {},
   "source": [
    "# `print`\n",
    "\n",
    "`print` is a function. You must use `()` to make `print` do something!\n",
    "\n",
    "We can put, inside of the `()`, any value we want:\n",
    "\n",
    "- Numbers\n",
    "- Text (inside of `''`, `\"\"`)\n",
    "- Expression"
   ]
  },
  {
   "cell_type": "code",
   "execution_count": 6,
   "id": "2fcc6eea",
   "metadata": {},
   "outputs": [
    {
     "name": "stdout",
     "output_type": "stream",
     "text": [
      "5\n"
     ]
    }
   ],
   "source": [
    "print(5)"
   ]
  },
  {
   "cell_type": "code",
   "execution_count": 7,
   "id": "c4da8644",
   "metadata": {},
   "outputs": [
    {
     "name": "stdout",
     "output_type": "stream",
     "text": [
      "5\n",
      "hello\n",
      "6\n"
     ]
    }
   ],
   "source": [
    "print(5)\n",
    "print('hello')\n",
    "print(6)"
   ]
  },
  {
   "cell_type": "code",
   "execution_count": 8,
   "id": "329a335e",
   "metadata": {},
   "outputs": [
    {
     "name": "stdout",
     "output_type": "stream",
     "text": [
      "15\n"
     ]
    }
   ],
   "source": [
    "print(10 + 5)"
   ]
  },
  {
   "cell_type": "code",
   "execution_count": 9,
   "id": "12b1708e",
   "metadata": {},
   "outputs": [
    {
     "name": "stdout",
     "output_type": "stream",
     "text": [
      "hellothere\n"
     ]
    }
   ],
   "source": [
    "print('hello' + 'there')"
   ]
  },
  {
   "cell_type": "code",
   "execution_count": 10,
   "id": "0344e3ba",
   "metadata": {},
   "outputs": [
    {
     "name": "stdout",
     "output_type": "stream",
     "text": [
      "hello there\n"
     ]
    }
   ],
   "source": [
    "print('hello ' + 'there')"
   ]
  },
  {
   "cell_type": "code",
   "execution_count": 11,
   "id": "4ff4f2cb",
   "metadata": {},
   "outputs": [
    {
     "ename": "TypeError",
     "evalue": "can only concatenate str (not \"int\") to str",
     "output_type": "error",
     "traceback": [
      "\u001b[0;31m---------------------------------------------------------------------------\u001b[0m",
      "\u001b[0;31mTypeError\u001b[0m                                 Traceback (most recent call last)",
      "Cell \u001b[0;32mIn[11], line 1\u001b[0m\n\u001b[0;32m----> 1\u001b[0m \u001b[38;5;28mprint\u001b[39m(\u001b[38;5;124;43m'\u001b[39;49m\u001b[38;5;124;43mMy favorite number is \u001b[39;49m\u001b[38;5;124;43m'\u001b[39;49m\u001b[43m \u001b[49m\u001b[38;5;241;43m+\u001b[39;49m\u001b[43m \u001b[49m\u001b[38;5;241;43m10\u001b[39;49m)\n",
      "\u001b[0;31mTypeError\u001b[0m: can only concatenate str (not \"int\") to str"
     ]
    }
   ],
   "source": [
    "print('My favorite number is ' + 10)"
   ]
  },
  {
   "cell_type": "code",
   "execution_count": 12,
   "id": "601c1ef6",
   "metadata": {},
   "outputs": [
    {
     "name": "stdout",
     "output_type": "stream",
     "text": [
      "1020\n"
     ]
    }
   ],
   "source": [
    "print('10' + '20')"
   ]
  },
  {
   "cell_type": "markdown",
   "id": "49e66e27",
   "metadata": {},
   "source": [
    "# Exercise: Start with Jupyter\n",
    "\n",
    "1. On the server, create a new notebook ( new -> Python 3)\n",
    "2. Change the notebook's name to reflect your name and the date.\n",
    "3. Print a greeting to yourself in Python, using `print`."
   ]
  },
  {
   "cell_type": "code",
   "execution_count": 14,
   "id": "988e9e09",
   "metadata": {},
   "outputs": [
    {
     "name": "stdout",
     "output_type": "stream",
     "text": [
      "Hello, Reuven\n"
     ]
    }
   ],
   "source": [
    "print('Hello, Reuven')"
   ]
  },
  {
   "cell_type": "code",
   "execution_count": 15,
   "id": "5593fc53",
   "metadata": {},
   "outputs": [
    {
     "name": "stdout",
     "output_type": "stream",
     "text": [
      "Hello Reuven\n"
     ]
    }
   ],
   "source": [
    "print('Hello' + ' Reuven')"
   ]
  },
  {
   "cell_type": "markdown",
   "id": "09c1c5da",
   "metadata": {},
   "source": [
    "# Variables and assignment\n",
    "\n",
    "We can assign to a variable with `=`.  We assign the value on the right into the variable on the left."
   ]
  },
  {
   "cell_type": "code",
   "execution_count": null,
   "id": "c7842ef3",
   "metadata": {},
   "outputs": [],
   "source": []
  }
 ],
 "metadata": {
  "kernelspec": {
   "display_name": "Python 3 (ipykernel)",
   "language": "python",
   "name": "python3"
  },
  "language_info": {
   "codemirror_mode": {
    "name": "ipython",
    "version": 3
   },
   "file_extension": ".py",
   "mimetype": "text/x-python",
   "name": "python",
   "nbconvert_exporter": "python",
   "pygments_lexer": "ipython3",
   "version": "3.12.7"
  }
 },
 "nbformat": 4,
 "nbformat_minor": 5
}
