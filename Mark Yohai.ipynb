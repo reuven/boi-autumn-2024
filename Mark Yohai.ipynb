{
 "cells": [
  {
   "cell_type": "code",
   "execution_count": 1,
   "id": "4b2db7af",
   "metadata": {},
   "outputs": [
    {
     "name": "stdout",
     "output_type": "stream",
     "text": [
      "hello Mark\n"
     ]
    }
   ],
   "source": [
    "print('hello Mark')"
   ]
  },
  {
   "cell_type": "code",
   "execution_count": 3,
   "id": "9f484e47",
   "metadata": {},
   "outputs": [
    {
     "name": "stdout",
     "output_type": "stream",
     "text": [
      "Enter your mame: Mark\n"
     ]
    }
   ],
   "source": [
    "name = input ('Enter your mame: ')"
   ]
  },
  {
   "cell_type": "code",
   "execution_count": 4,
   "id": "a530e150",
   "metadata": {},
   "outputs": [
    {
     "name": "stdout",
     "output_type": "stream",
     "text": [
      "Enter your city: Jerusalem\n"
     ]
    }
   ],
   "source": [
    "city = input ('Enter your city: ')"
   ]
  },
  {
   "cell_type": "code",
   "execution_count": 8,
   "id": "0fbc00c1",
   "metadata": {},
   "outputs": [
    {
     "name": "stdout",
     "output_type": "stream",
     "text": [
      "Mark from Jerusalem\n"
     ]
    }
   ],
   "source": [
    "print (name + ' from ' +city)"
   ]
  },
  {
   "cell_type": "code",
   "execution_count": 15,
   "id": "afaacb46",
   "metadata": {},
   "outputs": [
    {
     "name": "stdout",
     "output_type": "stream",
     "text": [
      "Enter word 1: Dor\n",
      "Enter word 2: Dor\n",
      "the words are identical\n"
     ]
    }
   ],
   "source": [
    "word1 = input('Enter word 1: ')\n",
    "word2 = input('Enter word 2: ')\n",
    "if word1 > word2:\n",
    "    print(f'{word2} comes first')\n",
    "elif word1==word2:\n",
    "    print('the words are identical')\n",
    "else:\n",
    "    print(f'{word1} comes first')"
   ]
  },
  {
   "cell_type": "code",
   "execution_count": 23,
   "id": "11b39ee4",
   "metadata": {},
   "outputs": [
    {
     "name": "stdout",
     "output_type": "stream",
     "text": [
      "Enter your mame: Dor\n",
      "Enter your city: ta\n",
      "Bad name and bad cisy\n"
     ]
    }
   ],
   "source": [
    "name = input ('Enter your mame: ')\n",
    "city = input ('Enter your city: ')\n",
    "if name=='Mark' and city=='Jerusalem':\n",
    "    print('You must be me')\n",
    "elif name=='Mark' and city!='Jerusalem':\n",
    "    print('Nice name bad city')\n",
    "elif name!='Mark' and city=='Jerusalem':\n",
    "    print('we live in the same city')\n",
    "else:\n",
    "    print('Bad name and bad cisy')"
   ]
  },
  {
   "cell_type": "code",
   "execution_count": 50,
   "id": "1d4fe01f",
   "metadata": {},
   "outputs": [
    {
     "name": "stdout",
     "output_type": "stream",
     "text": [
      "Enter your guess: 139\n",
      "Just right\n"
     ]
    }
   ],
   "source": [
    "secret = 139\n",
    "guess = input('Enter your guess: ')\n",
    "guess = int(guess)\n",
    "\n",
    "if guess==secret:\n",
    "    print('Just right')\n",
    "elif guess > secret:\n",
    "    print('too high')\n",
    "else:\n",
    "    print('too low')"
   ]
  },
  {
   "cell_type": "code",
   "execution_count": 33,
   "id": "518d2b21",
   "metadata": {},
   "outputs": [
    {
     "data": {
      "text/plain": [
       "True"
      ]
     },
     "execution_count": 33,
     "metadata": {},
     "output_type": "execute_result"
    }
   ],
   "source": [
    "round(0.1+0.2,10)==0.3"
   ]
  },
  {
   "cell_type": "code",
   "execution_count": 37,
   "id": "646d80cb",
   "metadata": {},
   "outputs": [
    {
     "data": {
      "text/plain": [
       "12.9911"
      ]
     },
     "execution_count": 37,
     "metadata": {},
     "output_type": "execute_result"
    }
   ],
   "source": [
    "round(12.991111,4)"
   ]
  },
  {
   "cell_type": "code",
   "execution_count": 40,
   "id": "d26bf4a6",
   "metadata": {},
   "outputs": [
    {
     "name": "stdout",
     "output_type": "stream",
     "text": [
      "Enter your word: david\n",
      "avidday\n"
     ]
    }
   ],
   "source": [
    "word =input('Enter your word: ')\n",
    "if word[0] in 'aieou':\n",
    "    print (word + 'way')\n",
    "else:\n",
    "    print (word[1:] + word[0] + 'ay')"
   ]
  },
  {
   "cell_type": "code",
   "execution_count": null,
   "id": "7d07fdb6",
   "metadata": {},
   "outputs": [],
   "source": [
    "secret = 139\n",
    "guess = input('Enter your guess: ').strip()\n",
    "if guess.isdigit():\n",
    "    guess = int(guess)\n",
    "\n",
    "    if guess==secret:\n",
    "        print('Just right')\n",
    "    elif guess > secret:\n",
    "        print('too high')\n",
    "    else:\n",
    "        print('too low')\n",
    "else:\n",
    "    print(f'{guess} is not numeric')"
   ]
  },
  {
   "cell_type": "code",
   "execution_count": 55,
   "id": "bb2992a1",
   "metadata": {},
   "outputs": [
    {
     "name": "stdout",
     "output_type": "stream",
     "text": [
      "Enter your text: oai123tr%\n",
      "digits = 3\n",
      "vowels = 3\n",
      "others = 3\n"
     ]
    }
   ],
   "source": [
    "vowels=0\n",
    "digits=0\n",
    "others=0\n",
    "text = input('Enter your text: ').strip()\n",
    "for one_character in text:\n",
    "    if one_character.isdigit():\n",
    "        digits+=1\n",
    "    elif one_character in 'aeiou':\n",
    "        vowels+=1\n",
    "    else: others+=1\n",
    "print(f'digits = {digits}')\n",
    "print(f'vowels = {vowels}')\n",
    "print(f'others = {others}')\n"
   ]
  },
  {
   "cell_type": "code",
   "execution_count": 56,
   "id": "d21b545e",
   "metadata": {},
   "outputs": [
    {
     "name": "stdout",
     "output_type": "stream",
     "text": [
      "Enter text: skdjhj123\n",
      "Enter text: skdjhekrg87\n",
      "Enter text: \n",
      "vowels: ['e']\n",
      "digits: ['1', '2', '3', '8', '7']\n",
      "others: ['s', 'k', 'd', 'j', 'h', 'j', 's', 'k', 'd', 'j', 'h', 'k', 'r', 'g']\n"
     ]
    }
   ],
   "source": [
    "# Initialize empty lists\n",
    "vowels = []\n",
    "digits = []\n",
    "others = []\n",
    "\n",
    "# Define the set of vowels for quick lookup\n",
    "vowel_set = {'a', 'e', 'i', 'o', 'u', 'A', 'E', 'I', 'O', 'U'}\n",
    "\n",
    "while True:\n",
    "    # Ask the user for input\n",
    "    text = input(\"Enter text: \")\n",
    "\n",
    "    # Exit if an empty string is entered\n",
    "    if text == \"\":\n",
    "        break\n",
    "\n",
    "    # Iterate over each character in the input text\n",
    "    for char in text:\n",
    "        if char in vowel_set: # Check if the character is a vowel\n",
    "            vowels.append(char)\n",
    "        elif char.isdigit(): # Check if the character is a digit\n",
    "            digits.append(char)\n",
    "        else: # Any other character\n",
    "            others.append(char)\n",
    "\n",
    "# Print the results\n",
    "print(\"vowels:\", vowels)\n",
    "print(\"digits:\", digits)\n",
    "print(\"others:\", others)"
   ]
  },
  {
   "cell_type": "code",
   "execution_count": null,
   "id": "ea0ed8a2",
   "metadata": {},
   "outputs": [],
   "source": [
    "menu = {'sandwich': 10, 'tea': 5,'coffee': 7,'salad': 8, 'soup': 6}\n",
    "\n",
    "total = 0\n",
    "\n",
    "while True:\n",
    "    \n",
    "    order = input(\"Order: \").strip()\n",
    "    \n",
    "       if order == \"\":\n",
    "        break\n",
    "    \n",
    "    \n",
    "    if order in menu:\n",
    "       \n",
    "        total += menu[order]\n",
    "       \n",
    "        print(f\"{order} is {menu[order]}, total is {total}\")\n",
    "    else:\n",
    "       \n",
    "        print(f\"Sorry, we're all out of {order} today!\")\n",
    "\n",
    "\n",
    "print(f\"Total is {total}\")"
   ]
  },
  {
   "cell_type": "code",
   "execution_count": null,
   "id": "b3c4cfac",
   "metadata": {},
   "outputs": [],
   "source": []
  },
  {
   "cell_type": "code",
   "execution_count": null,
   "id": "3d901c39",
   "metadata": {},
   "outputs": [],
   "source": []
  },
  {
   "cell_type": "code",
   "execution_count": null,
   "id": "6587ebb6",
   "metadata": {},
   "outputs": [],
   "source": [
    "# Define the menu dictionary with items and their prices\n",
    "menu = {\n",
    "    \"sandwich\": 10,\n",
    "    \"tea\": 5,\n",
    "    \"coffee\": 7,\n",
    "    \"salad\": 8,\n",
    "    \"soup\": 6\n",
    "}\n",
    "\n",
    "# Initialize the total to 0\n",
    "total = 0\n",
    "\n",
    "# Start an infinite loop to take orders\n",
    "while True:\n",
    "    # Ask the user what they want to order\n",
    "    order = input(\"Order: \").strip()\n",
    "    \n",
    "    # If the user presses ENTER (empty input), break the loop\n",
    "    if order == \"\":\n",
    "        break\n",
    "    \n",
    "    # Check if the order is in the menu\n",
    "    if order in menu:\n",
    "        # Add the price of the item to the total\n",
    "        total += menu[order]\n",
    "        # Print the item, its price, and the new total\n",
    "        print(f\"{order} is {menu[order]}, total is {total}\")\n",
    "    else:\n",
    "        # Inform the user that the item is not available\n",
    "        print(f\"Sorry, we're all out of {order} today!\")\n",
    "\n",
    "# Print the final total\n",
    "print(f\"Total is {total}\")"
   ]
  },
  {
   "cell_type": "code",
   "execution_count": 62,
   "id": "085c6d80",
   "metadata": {},
   "outputs": [
    {
     "name": "stdout",
     "output_type": "stream",
     "text": [
      "City: TA\n",
      "Rain: 7\n",
      "City: Jerusalem\n",
      "Rain: 4\n",
      "City: TA\n",
      "Rain: 10\n",
      "City: Haifa\n",
      "Rain: 45\n",
      "City: Haifa \n",
      "Rain: 250\n",
      "City: \n",
      "TA: 17\n",
      "Jerusalem: 4\n",
      "Haifa: 295\n"
     ]
    }
   ],
   "source": [
    "rainfall = {}\n",
    "\n",
    "while True:\n",
    "    city = input(\"City: \").strip()\n",
    "        \n",
    "    if city == \"\":\n",
    "        break\n",
    "    \n",
    "\n",
    "    rain = int(input(\"Rain: \").strip())\n",
    "      \n",
    "    \n",
    "    if city in rainfall:\n",
    "        \n",
    "        rainfall[city] += rain\n",
    "    else:\n",
    "        rainfall[city] = rain\n",
    "\n",
    "for city, total_rain in rainfall.items():\n",
    "    print(f\"{city}: {total_rain}\")"
   ]
  },
  {
   "cell_type": "code",
   "execution_count": 65,
   "id": "21c5ba1d",
   "metadata": {},
   "outputs": [
    {
     "name": "stdout",
     "output_type": "stream",
     "text": [
      "Enter the filename: wc.file.txt\n"
     ]
    },
    {
     "ename": "FileNotFoundError",
     "evalue": "[Errno 2] No such file or directory: 'wc.file.txt'",
     "output_type": "error",
     "traceback": [
      "\u001b[0;31m---------------------------------------------------------------------------\u001b[0m",
      "\u001b[0;31mFileNotFoundError\u001b[0m                         Traceback (most recent call last)",
      "Cell \u001b[0;32mIn[65], line 10\u001b[0m\n\u001b[1;32m      7\u001b[0m \u001b[38;5;28;01mif\u001b[39;00m filename \u001b[38;5;241m==\u001b[39m \u001b[38;5;124m\"\u001b[39m\u001b[38;5;124m\"\u001b[39m:\n\u001b[1;32m      8\u001b[0m     filename \u001b[38;5;241m=\u001b[39m \u001b[38;5;124m\"\u001b[39m\u001b[38;5;124mwc.file.txt\u001b[39m\u001b[38;5;124m\"\u001b[39m\n\u001b[0;32m---> 10\u001b[0m f\u001b[38;5;241m=\u001b[39m\u001b[38;5;28;43mopen\u001b[39;49m\u001b[43m(\u001b[49m\u001b[43mfilename\u001b[49m\u001b[43m)\u001b[49m\n\u001b[1;32m     11\u001b[0m \u001b[38;5;28;01mfor\u001b[39;00m line \u001b[38;5;129;01min\u001b[39;00m f:\n\u001b[1;32m     12\u001b[0m             num_lines \u001b[38;5;241m+\u001b[39m\u001b[38;5;241m=\u001b[39m \u001b[38;5;241m1\u001b[39m\n",
      "File \u001b[0;32m/usr/lib/python3/dist-packages/IPython/core/interactiveshell.py:310\u001b[0m, in \u001b[0;36m_modified_open\u001b[0;34m(file, *args, **kwargs)\u001b[0m\n\u001b[1;32m    303\u001b[0m \u001b[38;5;28;01mif\u001b[39;00m file \u001b[38;5;129;01min\u001b[39;00m {\u001b[38;5;241m0\u001b[39m, \u001b[38;5;241m1\u001b[39m, \u001b[38;5;241m2\u001b[39m}:\n\u001b[1;32m    304\u001b[0m     \u001b[38;5;28;01mraise\u001b[39;00m \u001b[38;5;167;01mValueError\u001b[39;00m(\n\u001b[1;32m    305\u001b[0m         \u001b[38;5;124mf\u001b[39m\u001b[38;5;124m\"\u001b[39m\u001b[38;5;124mIPython won\u001b[39m\u001b[38;5;124m'\u001b[39m\u001b[38;5;124mt let you open fd=\u001b[39m\u001b[38;5;132;01m{\u001b[39;00mfile\u001b[38;5;132;01m}\u001b[39;00m\u001b[38;5;124m by default \u001b[39m\u001b[38;5;124m\"\u001b[39m\n\u001b[1;32m    306\u001b[0m         \u001b[38;5;124m\"\u001b[39m\u001b[38;5;124mas it is likely to crash IPython. If you know what you are doing, \u001b[39m\u001b[38;5;124m\"\u001b[39m\n\u001b[1;32m    307\u001b[0m         \u001b[38;5;124m\"\u001b[39m\u001b[38;5;124myou can use builtins\u001b[39m\u001b[38;5;124m'\u001b[39m\u001b[38;5;124m open.\u001b[39m\u001b[38;5;124m\"\u001b[39m\n\u001b[1;32m    308\u001b[0m     )\n\u001b[0;32m--> 310\u001b[0m \u001b[38;5;28;01mreturn\u001b[39;00m \u001b[43mio_open\u001b[49m\u001b[43m(\u001b[49m\u001b[43mfile\u001b[49m\u001b[43m,\u001b[49m\u001b[43m \u001b[49m\u001b[38;5;241;43m*\u001b[39;49m\u001b[43margs\u001b[49m\u001b[43m,\u001b[49m\u001b[43m \u001b[49m\u001b[38;5;241;43m*\u001b[39;49m\u001b[38;5;241;43m*\u001b[39;49m\u001b[43mkwargs\u001b[49m\u001b[43m)\u001b[49m\n",
      "\u001b[0;31mFileNotFoundError\u001b[0m: [Errno 2] No such file or directory: 'wc.file.txt'"
     ]
    }
   ],
   "source": [
    "num_lines = 0\n",
    "num_chars = 0\n",
    "num_words = 0\n",
    "\n",
    "filename = input(\"Enter the filename: \").strip()\n",
    "\n",
    "if filename == \"\":\n",
    "    filename = \"wc.file.txt\"\n",
    "\n",
    "f=open(filename)\n",
    "for line in f:\n",
    "            num_lines += 1\n",
    "            num_chars += len(line)\n",
    "            num_words += len(line.split())\n",
    "print(f\"Lines: {num_lines}\")\n",
    "print(f\"Characters: {num_chars}\")\n",
    "print(f\"Words: {num_words}\")"
   ]
  },
  {
   "cell_type": "code",
   "execution_count": 72,
   "id": "73d96eb9",
   "metadata": {},
   "outputs": [
    {
     "name": "stdout",
     "output_type": "stream",
     "text": [
      "77\n"
     ]
    }
   ],
   "source": [
    "import random\n",
    "random_number = random.randint(1, 100)\n",
    "print(random_number)"
   ]
  },
  {
   "cell_type": "code",
   "execution_count": 73,
   "id": "32a86d5d",
   "metadata": {},
   "outputs": [
    {
     "data": {
      "text/plain": [
       "9"
      ]
     },
     "execution_count": 73,
     "metadata": {},
     "output_type": "execute_result"
    }
   ],
   "source": [
    "random.randint(1,10)"
   ]
  },
  {
   "cell_type": "code",
   "execution_count": 76,
   "id": "85dd1ee3",
   "metadata": {},
   "outputs": [
    {
     "data": {
      "text/plain": [
       "193"
      ]
     },
     "execution_count": 76,
     "metadata": {},
     "output_type": "execute_result"
    }
   ],
   "source": [
    "random.randint(1,100)"
   ]
  },
  {
   "cell_type": "code",
   "execution_count": 90,
   "id": "41585264",
   "metadata": {
    "scrolled": true
   },
   "outputs": [
    {
     "name": "stdout",
     "output_type": "stream",
     "text": [
      "guess: 3\n"
     ]
    },
    {
     "ename": "AttributeError",
     "evalue": "'int' object has no attribute 'isnumeric'",
     "output_type": "error",
     "traceback": [
      "\u001b[0;31m---------------------------------------------------------------------------\u001b[0m",
      "\u001b[0;31mAttributeError\u001b[0m                            Traceback (most recent call last)",
      "Cell \u001b[0;32mIn[90], line 8\u001b[0m\n\u001b[1;32m      5\u001b[0m \u001b[38;5;28;01mwhile\u001b[39;00m \u001b[38;5;28;01mTrue\u001b[39;00m:\n\u001b[1;32m      6\u001b[0m     s \u001b[38;5;241m=\u001b[39m \u001b[38;5;28minput\u001b[39m(\u001b[38;5;124m\"\u001b[39m\u001b[38;5;124mguess: \u001b[39m\u001b[38;5;124m\"\u001b[39m)\u001b[38;5;241m.\u001b[39mstrip()\n\u001b[0;32m----> 8\u001b[0m     \u001b[38;5;28;01mif\u001b[39;00m \u001b[38;5;129;01mnot\u001b[39;00m \u001b[43mguess\u001b[49m\u001b[38;5;241;43m.\u001b[39;49m\u001b[43misnumeric\u001b[49m():\n\u001b[1;32m      9\u001b[0m         \u001b[38;5;28mprint\u001b[39m(\u001b[38;5;124m\"\u001b[39m\u001b[38;5;132;01m{s}\u001b[39;00m\u001b[38;5;124m is not numeric; try again.\u001b[39m\u001b[38;5;124m\"\u001b[39m)\n\u001b[1;32m     12\u001b[0m \u001b[38;5;28;01mif\u001b[39;00m guess \u001b[38;5;241m==\u001b[39m target_number:\n",
      "\u001b[0;31mAttributeError\u001b[0m: 'int' object has no attribute 'isnumeric'"
     ]
    }
   ],
   "source": [
    "from random import randint\n",
    "\n",
    "target_number = randint(1, 10)\n",
    "\n",
    "while True:\n",
    "    s = input(\"guess: \").strip()\n",
    "    \n",
    "    if not guess.isnumeric():\n",
    "        print(\"{s} is not numeric; try again.\")\n",
    "    \n",
    "    \n",
    "if guess == target_number:\n",
    "    print(\"You got it!\")\n",
    "    break\n",
    "elif guess < target_number:\n",
    "    print(\"Too low. Try again.\")\n",
    "else:\n",
    "    print(\"Too high. Try again.\")"
   ]
  },
  {
   "cell_type": "code",
   "execution_count": 1,
   "id": "27a94171",
   "metadata": {},
   "outputs": [
    {
     "data": {
      "text/plain": [
       "90"
      ]
     },
     "execution_count": 1,
     "metadata": {},
     "output_type": "execute_result"
    }
   ],
   "source": [
    "import random\n",
    "random.randint(1,100)"
   ]
  },
  {
   "cell_type": "code",
   "execution_count": 2,
   "id": "9d2ebe8e",
   "metadata": {},
   "outputs": [],
   "source": [
    "import pandas as pd"
   ]
  },
  {
   "cell_type": "code",
   "execution_count": 3,
   "id": "3fb0e3ba",
   "metadata": {},
   "outputs": [],
   "source": [
    "from pandas import Series, DataFrame"
   ]
  },
  {
   "cell_type": "code",
   "execution_count": 4,
   "id": "84d81e80",
   "metadata": {},
   "outputs": [
    {
     "name": "stdout",
     "output_type": "stream",
     "text": [
      "Descriptive Statistics:\n",
      "count    10.00000\n",
      "mean     23.80000\n",
      "std       2.65832\n",
      "min      20.00000\n",
      "25%      22.00000\n",
      "50%      23.50000\n",
      "75%      25.75000\n",
      "max      28.00000\n",
      "dtype: float64\n",
      "\n",
      "Max temperature for the first 5 days: 25\n"
     ]
    }
   ],
   "source": [
    "import pandas as pd\n",
    "\n",
    "\n",
    "temperatures = pd.Series([22, 25, 20, 23, 24, 26, 27, 28, 21, 22])\n",
    "\n",
    "\n",
    "descriptive_stats = temperatures.describe()\n",
    "print(\"Descriptive Statistics:\")\n",
    "print(descriptive_stats)\n",
    "\n",
    "\n",
    "max_5 = temperatures[:5].max()\n",
    "print(\"\\nMax temperature for the first 5 days:\", max_5)"
   ]
  },
  {
   "cell_type": "code",
   "execution_count": 9,
   "id": "8efd4b88",
   "metadata": {},
   "outputs": [
    {
     "name": "stdout",
     "output_type": "stream",
     "text": [
      "High temperatures:\n",
      "01.12    22\n",
      "02.12    25\n",
      "03.12    20\n",
      "04.12    23\n",
      "05.12    24\n",
      "06.12    26\n",
      "07.12    27\n",
      "08.12    28\n",
      "09.12    21\n",
      "10.12    22\n",
      "dtype: int64\n",
      "\n",
      "Low temperatures:\n",
      "01.12    15\n",
      "02.12    17\n",
      "03.12    14\n",
      "04.12    16\n",
      "05.12    18\n",
      "06.12    19\n",
      "07.12    20\n",
      "08.12    21\n",
      "09.12    16\n",
      "10.12    17\n",
      "dtype: int64\n",
      "\n",
      "Differences between highs and lows:\n",
      "01.12    7\n",
      "02.12    8\n",
      "03.12    6\n",
      "04.12    7\n",
      "05.12    6\n",
      "06.12    7\n",
      "07.12    7\n",
      "08.12    7\n",
      "09.12    5\n",
      "10.12    5\n",
      "dtype: int64\n",
      "\n",
      "Differences for 01.12 - 05.12:\n",
      "01.12    7\n",
      "02.12    8\n",
      "03.12    6\n",
      "04.12    7\n",
      "05.12    6\n",
      "dtype: int64\n",
      "\n",
      "Descriptive statistics for the first 5 days in diffs:\n",
      "count    5.00000\n",
      "mean     6.80000\n",
      "std      0.83666\n",
      "min      6.00000\n",
      "25%      6.00000\n",
      "50%      7.00000\n",
      "75%      7.00000\n",
      "max      8.00000\n",
      "dtype: float64\n"
     ]
    }
   ],
   "source": [
    "import pandas as pd\n",
    "highs = pd.Series([22, 25, 20, 23, 24, 26, 27, 28, 21, 22],\n",
    "                  index=['01.12', '02.12', '03.12', '04.12', '05.12', '06.12', '07.12', '08.12', '09.12', '10.12'])\n",
    "lows = pd.Series([15, 17, 14, 16, 18, 19, 20, 21, 16, 17],\n",
    "                 index=['01.12', '02.12', '03.12', '04.12', '05.12', '06.12', '07.12', '08.12', '09.12', '10.12'])\n",
    "diffs = highs - lows\n",
    "diffs_example = diffs.loc['01.12':'05.12']\n",
    "describe_first_5_days = diffs[:5].describe()\n",
    "\n",
    "print(\"High temperatures:\")\n",
    "print(highs)\n",
    "print(\"\\nLow temperatures:\")\n",
    "print(lows)\n",
    "print(\"\\nDifferences between highs and lows:\")\n",
    "print(diffs)\n",
    "print(\"\\nDifferences for 01.12 - 05.12:\")\n",
    "print(diffs_example)\n",
    "print(\"\\nDescriptive statistics for the first 5 days in diffs:\")\n",
    "print(describe_first_5_days)\n"
   ]
  },
  {
   "cell_type": "code",
   "execution_count": 13,
   "id": "8eacc2ce",
   "metadata": {},
   "outputs": [
    {
     "name": "stdout",
     "output_type": "stream",
     "text": [
      "Family ages:\n",
      "Alice      30\n",
      "Bob        25\n",
      "Charlie    35\n",
      "David      40\n",
      "Eve        20\n",
      "dtype: int64\n",
      "\n",
      "Mean age: 30.0\n",
      "\n",
      "Family members whose ages are above the mean:\n",
      "Charlie    35\n",
      "David      40\n",
      "dtype: int64\n",
      "\n",
      "Standard deviation of ages: 7.905694150420948\n",
      "\n",
      "Family members whose ages are 1 standard deviation below the mean:\n",
      "Eve    20\n",
      "dtype: int64\n"
     ]
    }
   ],
   "source": [
    "import pandas as pd\n",
    "family_ages = pd.Series([30, 25, 35, 40, 20],\n",
    "    index= ['Alice','Bob','Charlie','David','Eve'])\n",
    "mean_age = family_ages.mean()\n",
    "above_mean = family_ages[family_ages > mean_age]\n",
    "std_dev = family_ages.std()\n",
    "one_std_below_mean = mean_age - std_dev\n",
    "below_one_std = family_ages[family_ages <= one_std_below_mean]\n",
    "print(\"Family ages:\")\n",
    "print(family_ages)\n",
    "print(\"\\nMean age:\", mean_age)\n",
    "print(\"\\nFamily members whose ages are above the mean:\")\n",
    "print(above_mean)\n",
    "print(\"\\nStandard deviation of ages:\", std_dev)\n",
    "print(\"\\nFamily members whose ages are 1 standard deviation below the mean:\")\n",
    "print(below_one_std)\n"
   ]
  },
  {
   "cell_type": "code",
   "execution_count": 15,
   "id": "d13d4b55",
   "metadata": {},
   "outputs": [
    {
     "name": "stdout",
     "output_type": "stream",
     "text": [
      "High temperatures in Celsius:\n",
      "01.12    22\n",
      "02.12    25\n",
      "03.12    20\n",
      "04.12    23\n",
      "05.12    24\n",
      "06.12    26\n",
      "07.12    27\n",
      "08.12    28\n",
      "09.12    21\n",
      "10.12    22\n",
      "dtype: int64\n",
      "\n",
      "High temperatures in Fahrenheit (floats):\n",
      "01.12    71.6\n",
      "02.12    77.0\n",
      "03.12    68.0\n",
      "04.12    73.4\n",
      "05.12    75.2\n",
      "06.12    78.8\n",
      "07.12    80.6\n",
      "08.12    82.4\n",
      "09.12    69.8\n",
      "10.12    71.6\n",
      "dtype: float64\n",
      "\n",
      "High temperatures in Fahrenheit (integers):\n",
      "01.12    71\n",
      "02.12    77\n",
      "03.12    68\n",
      "04.12    73\n",
      "05.12    75\n",
      "06.12    78\n",
      "07.12    80\n",
      "08.12    82\n",
      "09.12    69\n",
      "10.12    71\n",
      "dtype: int64\n",
      "\n",
      "Data type of the integer series: int64\n"
     ]
    }
   ],
   "source": [
    "import pandas as pd\n",
    "highs_celsius = pd.Series([22, 25, 20, 23, 24, 26, 27, 28, 21, 22],\n",
    "    index=['01.12', '02.12', '03.12', '04.12', '05.12', '06.12', '07.12', '08.12', '09.12', '10.12'])\n",
    "highs_fahrenheit = highs_celsius * 9/5 + 32\n",
    "highs_fahrenheit_int = highs_fahrenheit.astype(int)\n",
    "print(\"High temperatures in Celsius:\")\n",
    "print(highs_celsius)\n",
    "print(\"\\nHigh temperatures in Fahrenheit (floats):\")\n",
    "print(highs_fahrenheit)\n",
    "print(\"\\nHigh temperatures in Fahrenheit (integers):\")\n",
    "print(highs_fahrenheit_int)\n",
    "print(\"\\nData type of the integer series:\", highs_fahrenheit_int.dtype)\n"
   ]
  },
  {
   "cell_type": "code",
   "execution_count": 22,
   "id": "87d4829b",
   "metadata": {
    "scrolled": true
   },
   "outputs": [
    {
     "data": {
      "text/plain": [
       "07.12    27\n",
       "06.12    26\n",
       "02.12    25\n",
       "dtype: int64"
      ]
     },
     "execution_count": 22,
     "metadata": {},
     "output_type": "execute_result"
    }
   ],
   "source": [
    "import pandas as pd\n",
    "s = pd.Series([22, 25, 20, 23, 24, 26, 27, 20, 21, 22],\n",
    "    index=['01.12', '02.12', '03.12', '04.12', '05.12', '06.12', '07.12', '08.12', '09.12', '10.12'])\n",
    "s.sort_values(ascending=False).head(3)\n"
   ]
  },
  {
   "cell_type": "code",
   "execution_count": 23,
   "id": "0c0475bc",
   "metadata": {},
   "outputs": [
    {
     "data": {
      "text/plain": [
       "07.12    27\n",
       "06.12    26\n",
       "02.12    25\n",
       "dtype: int64"
      ]
     },
     "execution_count": 23,
     "metadata": {},
     "output_type": "execute_result"
    }
   ],
   "source": [
    "import pandas as pd\n",
    "s = pd.Series([22, 25, 20, 23, 24, 26, 27, 20, 21, 22],\n",
    "    index=['01.12', '02.12', '03.12', '04.12', '05.12', '06.12', '07.12', '08.12', '09.12', '10.12'])\n",
    "s.nlargest(3)"
   ]
  },
  {
   "cell_type": "code",
   "execution_count": 28,
   "id": "1bc8fede",
   "metadata": {},
   "outputs": [
    {
     "ename": "IndexingError",
     "evalue": "Too many indexers",
     "output_type": "error",
     "traceback": [
      "\u001b[0;31m---------------------------------------------------------------------------\u001b[0m",
      "\u001b[0;31mIndexingError\u001b[0m                             Traceback (most recent call last)",
      "Cell \u001b[0;32mIn[28], line 5\u001b[0m\n\u001b[1;32m      1\u001b[0m \u001b[38;5;28;01mimport\u001b[39;00m \u001b[38;5;21;01mpandas\u001b[39;00m \u001b[38;5;28;01mas\u001b[39;00m \u001b[38;5;21;01mpd\u001b[39;00m\n\u001b[1;32m      2\u001b[0m s \u001b[38;5;241m=\u001b[39m pd\u001b[38;5;241m.\u001b[39mSeries([\u001b[38;5;241m22\u001b[39m, \u001b[38;5;241m25\u001b[39m, \u001b[38;5;241m20\u001b[39m, \u001b[38;5;241m23\u001b[39m, \u001b[38;5;241m24\u001b[39m, \u001b[38;5;241m26\u001b[39m, \u001b[38;5;241m27\u001b[39m, \u001b[38;5;241m20\u001b[39m, \u001b[38;5;241m21\u001b[39m, \u001b[38;5;241m22\u001b[39m],\n\u001b[1;32m      3\u001b[0m     index\u001b[38;5;241m=\u001b[39m[\u001b[38;5;124m'\u001b[39m\u001b[38;5;124m01.12\u001b[39m\u001b[38;5;124m'\u001b[39m, \u001b[38;5;124m'\u001b[39m\u001b[38;5;124m02.12\u001b[39m\u001b[38;5;124m'\u001b[39m, \u001b[38;5;124m'\u001b[39m\u001b[38;5;124m03.12\u001b[39m\u001b[38;5;124m'\u001b[39m, \u001b[38;5;124m'\u001b[39m\u001b[38;5;124m04.12\u001b[39m\u001b[38;5;124m'\u001b[39m, \u001b[38;5;124m'\u001b[39m\u001b[38;5;124m05.12\u001b[39m\u001b[38;5;124m'\u001b[39m, \u001b[38;5;124m'\u001b[39m\u001b[38;5;124m06.12\u001b[39m\u001b[38;5;124m'\u001b[39m, \u001b[38;5;124m'\u001b[39m\u001b[38;5;124m07.12\u001b[39m\u001b[38;5;124m'\u001b[39m, \u001b[38;5;124m'\u001b[39m\u001b[38;5;124m08.12\u001b[39m\u001b[38;5;124m'\u001b[39m, \u001b[38;5;124m'\u001b[39m\u001b[38;5;124m09.12\u001b[39m\u001b[38;5;124m'\u001b[39m, \u001b[38;5;124m'\u001b[39m\u001b[38;5;124m10.12\u001b[39m\u001b[38;5;124m'\u001b[39m])\n\u001b[1;32m      4\u001b[0m (\n\u001b[0;32m----> 5\u001b[0m \u001b[43ms\u001b[49m\n\u001b[1;32m      6\u001b[0m \u001b[38;5;241;43m.\u001b[39;49m\u001b[43mloc\u001b[49m\u001b[43m[\u001b[49m\u001b[38;5;124;43m'\u001b[39;49m\u001b[38;5;124;43m04.12\u001b[39;49m\u001b[38;5;124;43m'\u001b[39;49m\u001b[43m,\u001b[49m\u001b[38;5;124;43m'\u001b[39;49m\u001b[38;5;124;43m08.12\u001b[39;49m\u001b[38;5;124;43m'\u001b[39;49m\u001b[43m]\u001b[49m\n\u001b[1;32m      7\u001b[0m \u001b[38;5;241m.\u001b[39mnsmallest(\u001b[38;5;241m3\u001b[39m)\n\u001b[1;32m      8\u001b[0m )\n",
      "File \u001b[0;32m/usr/lib/python3/dist-packages/pandas/core/indexing.py:1184\u001b[0m, in \u001b[0;36m_LocationIndexer.__getitem__\u001b[0;34m(self, key)\u001b[0m\n\u001b[1;32m   1182\u001b[0m     \u001b[38;5;28;01mif\u001b[39;00m \u001b[38;5;28mself\u001b[39m\u001b[38;5;241m.\u001b[39m_is_scalar_access(key):\n\u001b[1;32m   1183\u001b[0m         \u001b[38;5;28;01mreturn\u001b[39;00m \u001b[38;5;28mself\u001b[39m\u001b[38;5;241m.\u001b[39mobj\u001b[38;5;241m.\u001b[39m_get_value(\u001b[38;5;241m*\u001b[39mkey, takeable\u001b[38;5;241m=\u001b[39m\u001b[38;5;28mself\u001b[39m\u001b[38;5;241m.\u001b[39m_takeable)\n\u001b[0;32m-> 1184\u001b[0m     \u001b[38;5;28;01mreturn\u001b[39;00m \u001b[38;5;28;43mself\u001b[39;49m\u001b[38;5;241;43m.\u001b[39;49m\u001b[43m_getitem_tuple\u001b[49m\u001b[43m(\u001b[49m\u001b[43mkey\u001b[49m\u001b[43m)\u001b[49m\n\u001b[1;32m   1185\u001b[0m \u001b[38;5;28;01melse\u001b[39;00m:\n\u001b[1;32m   1186\u001b[0m     \u001b[38;5;66;03m# we by definition only have the 0th axis\u001b[39;00m\n\u001b[1;32m   1187\u001b[0m     axis \u001b[38;5;241m=\u001b[39m \u001b[38;5;28mself\u001b[39m\u001b[38;5;241m.\u001b[39maxis \u001b[38;5;129;01mor\u001b[39;00m \u001b[38;5;241m0\u001b[39m\n",
      "File \u001b[0;32m/usr/lib/python3/dist-packages/pandas/core/indexing.py:1371\u001b[0m, in \u001b[0;36m_LocIndexer._getitem_tuple\u001b[0;34m(self, tup)\u001b[0m\n\u001b[1;32m   1368\u001b[0m     \u001b[38;5;28;01mreturn\u001b[39;00m \u001b[38;5;28mself\u001b[39m\u001b[38;5;241m.\u001b[39m_getitem_lowerdim(tup)\n\u001b[1;32m   1370\u001b[0m \u001b[38;5;66;03m# no multi-index, so validate all of the indexers\u001b[39;00m\n\u001b[0;32m-> 1371\u001b[0m tup \u001b[38;5;241m=\u001b[39m \u001b[38;5;28;43mself\u001b[39;49m\u001b[38;5;241;43m.\u001b[39;49m\u001b[43m_validate_tuple_indexer\u001b[49m\u001b[43m(\u001b[49m\u001b[43mtup\u001b[49m\u001b[43m)\u001b[49m\n\u001b[1;32m   1373\u001b[0m \u001b[38;5;66;03m# ugly hack for GH #836\u001b[39;00m\n\u001b[1;32m   1374\u001b[0m \u001b[38;5;28;01mif\u001b[39;00m \u001b[38;5;28mself\u001b[39m\u001b[38;5;241m.\u001b[39m_multi_take_opportunity(tup):\n",
      "File \u001b[0;32m/usr/lib/python3/dist-packages/pandas/core/indexing.py:962\u001b[0m, in \u001b[0;36m_LocationIndexer._validate_tuple_indexer\u001b[0;34m(self, key)\u001b[0m\n\u001b[1;32m    957\u001b[0m \u001b[38;5;129m@final\u001b[39m\n\u001b[1;32m    958\u001b[0m \u001b[38;5;28;01mdef\u001b[39;00m \u001b[38;5;21m_validate_tuple_indexer\u001b[39m(\u001b[38;5;28mself\u001b[39m, key: \u001b[38;5;28mtuple\u001b[39m) \u001b[38;5;241m-\u001b[39m\u001b[38;5;241m>\u001b[39m \u001b[38;5;28mtuple\u001b[39m:\n\u001b[1;32m    959\u001b[0m \u001b[38;5;250m    \u001b[39m\u001b[38;5;124;03m\"\"\"\u001b[39;00m\n\u001b[1;32m    960\u001b[0m \u001b[38;5;124;03m    Check the key for valid keys across my indexer.\u001b[39;00m\n\u001b[1;32m    961\u001b[0m \u001b[38;5;124;03m    \"\"\"\u001b[39;00m\n\u001b[0;32m--> 962\u001b[0m     key \u001b[38;5;241m=\u001b[39m \u001b[38;5;28;43mself\u001b[39;49m\u001b[38;5;241;43m.\u001b[39;49m\u001b[43m_validate_key_length\u001b[49m\u001b[43m(\u001b[49m\u001b[43mkey\u001b[49m\u001b[43m)\u001b[49m\n\u001b[1;32m    963\u001b[0m     key \u001b[38;5;241m=\u001b[39m \u001b[38;5;28mself\u001b[39m\u001b[38;5;241m.\u001b[39m_expand_ellipsis(key)\n\u001b[1;32m    964\u001b[0m     \u001b[38;5;28;01mfor\u001b[39;00m i, k \u001b[38;5;129;01min\u001b[39;00m \u001b[38;5;28menumerate\u001b[39m(key):\n",
      "File \u001b[0;32m/usr/lib/python3/dist-packages/pandas/core/indexing.py:1001\u001b[0m, in \u001b[0;36m_LocationIndexer._validate_key_length\u001b[0;34m(self, key)\u001b[0m\n\u001b[1;32m    999\u001b[0m             \u001b[38;5;28;01mraise\u001b[39;00m IndexingError(_one_ellipsis_message)\n\u001b[1;32m   1000\u001b[0m         \u001b[38;5;28;01mreturn\u001b[39;00m \u001b[38;5;28mself\u001b[39m\u001b[38;5;241m.\u001b[39m_validate_key_length(key)\n\u001b[0;32m-> 1001\u001b[0m     \u001b[38;5;28;01mraise\u001b[39;00m IndexingError(\u001b[38;5;124m\"\u001b[39m\u001b[38;5;124mToo many indexers\u001b[39m\u001b[38;5;124m\"\u001b[39m)\n\u001b[1;32m   1002\u001b[0m \u001b[38;5;28;01mreturn\u001b[39;00m key\n",
      "\u001b[0;31mIndexingError\u001b[0m: Too many indexers"
     ]
    }
   ],
   "source": [
    "import pandas as pd\n",
    "s = pd.Series([22, 25, 20, 23, 24, 26, 27, 20, 21, 22],\n",
    "    index=['01.12', '02.12', '03.12', '04.12', '05.12', '06.12', '07.12', '08.12', '09.12', '10.12'])\n",
    "(\n",
    "s\n",
    ".loc['04.12','08.12']\n",
    ".nsmallest(3)\n",
    ")"
   ]
  },
  {
   "cell_type": "code",
   "execution_count": 29,
   "id": "2141c058",
   "metadata": {},
   "outputs": [
    {
     "name": "stdout",
     "output_type": "stream",
     "text": [
      "VendorID,tpep_pickup_datetime,tpep_dropoff_datetime,passenger_count,trip_distance,pickup_longitude,pickup_latitude,RateCodeID,store_and_fwd_flag,dropoff_longitude,dropoff_latitude,payment_type,fare_amount,extra,mta_tax,tip_amount,tolls_amount,improvement_surcharge,total_amount\r",
      "\r\n",
      "2,2015-06-02 11:19:29,2015-06-02 11:47:52,1,1.63,-73.954429626464844,40.764141082763672,1,N,-73.974754333496094,40.754093170166016,2,17,0,0.5,0,0,0.3,17.8\r",
      "\r\n",
      "2,2015-06-02 11:19:30,2015-06-02 11:27:56,1,.46,-73.971443176269531,40.758941650390625,1,N,-73.978538513183594,40.761909484863281,1,6.5,0,0.5,1,0,0.3,8.3\r",
      "\r\n",
      "2,2015-06-02 11:19:31,2015-06-02 11:30:30,1,.87,-73.978111267089844,40.738433837890625,1,N,-73.990272521972656,40.745437622070313,1,8,0,0.5,2.2,0,0.3,11\r",
      "\r\n",
      "2,2015-06-02 11:19:31,2015-06-02 11:39:02,1,2.13,-73.945892333984375,40.773529052734375,1,N,-73.971527099609375,40.760330200195312,1,13.5,0,0.5,2.86,0,0.3,17.16\r",
      "\r\n",
      "1,2015-06-02 11:19:32,2015-06-02 11:32:49,1,1.40,-73.979087829589844,40.776771545410156,1,N,-73.982162475585937,40.758998870849609,2,9.5,0,0.5,0,0,0.3,10.3\r",
      "\r\n",
      "1,2015-06-02 11:19:33,2015-06-02 11:28:48,1,1.40,-73.94464111328125,40.779464721679688,1,N,-73.96136474609375,40.771560668945313,1,8,0,0.5,1.75,0,0.3,10.55\r",
      "\r\n",
      "1,2015-06-02 11:19:34,2015-06-02 11:38:46,1,1.80,-73.992866516113281,40.748210906982422,1,N,-73.969772338867187,40.748458862304687,1,12.5,0,0.5,3,0,0.3,16.3\r",
      "\r\n",
      "1,2015-06-02 11:19:35,2015-06-02 12:36:46,4,11.90,-73.863075256347656,40.769252777099609,1,N,-73.986709594726563,40.761306762695313,1,52.5,0,0.5,15,5.54,0.3,73.84\r",
      "\r\n",
      "2,2015-06-02 11:19:36,2015-06-02 11:45:19,1,1.27,-73.991432189941406,40.749305725097656,1,N,-73.985061645507813,40.759525299072266,2,15,0,0.5,0,0,0.3,15.8\r",
      "\r\n"
     ]
    }
   ],
   "source": [
    "!head taxi.csv"
   ]
  },
  {
   "cell_type": "code",
   "execution_count": 30,
   "id": "9c6b0e98",
   "metadata": {},
   "outputs": [
    {
     "data": {
      "text/html": [
       "<div>\n",
       "<style scoped>\n",
       "    .dataframe tbody tr th:only-of-type {\n",
       "        vertical-align: middle;\n",
       "    }\n",
       "\n",
       "    .dataframe tbody tr th {\n",
       "        vertical-align: top;\n",
       "    }\n",
       "\n",
       "    .dataframe thead th {\n",
       "        text-align: right;\n",
       "    }\n",
       "</style>\n",
       "<table border=\"1\" class=\"dataframe\">\n",
       "  <thead>\n",
       "    <tr style=\"text-align: right;\">\n",
       "      <th></th>\n",
       "      <th>VendorID</th>\n",
       "      <th>tpep_pickup_datetime</th>\n",
       "      <th>tpep_dropoff_datetime</th>\n",
       "      <th>passenger_count</th>\n",
       "      <th>trip_distance</th>\n",
       "      <th>pickup_longitude</th>\n",
       "      <th>pickup_latitude</th>\n",
       "      <th>RateCodeID</th>\n",
       "      <th>store_and_fwd_flag</th>\n",
       "      <th>dropoff_longitude</th>\n",
       "      <th>dropoff_latitude</th>\n",
       "      <th>payment_type</th>\n",
       "      <th>fare_amount</th>\n",
       "      <th>extra</th>\n",
       "      <th>mta_tax</th>\n",
       "      <th>tip_amount</th>\n",
       "      <th>tolls_amount</th>\n",
       "      <th>improvement_surcharge</th>\n",
       "      <th>total_amount</th>\n",
       "    </tr>\n",
       "  </thead>\n",
       "  <tbody>\n",
       "    <tr>\n",
       "      <th>0</th>\n",
       "      <td>2</td>\n",
       "      <td>2015-06-02 11:19:29</td>\n",
       "      <td>2015-06-02 11:47:52</td>\n",
       "      <td>1</td>\n",
       "      <td>1.63</td>\n",
       "      <td>-73.954430</td>\n",
       "      <td>40.764141</td>\n",
       "      <td>1</td>\n",
       "      <td>N</td>\n",
       "      <td>-73.974754</td>\n",
       "      <td>40.754093</td>\n",
       "      <td>2</td>\n",
       "      <td>17.0</td>\n",
       "      <td>0.0</td>\n",
       "      <td>0.5</td>\n",
       "      <td>0.00</td>\n",
       "      <td>0.0</td>\n",
       "      <td>0.3</td>\n",
       "      <td>17.80</td>\n",
       "    </tr>\n",
       "    <tr>\n",
       "      <th>1</th>\n",
       "      <td>2</td>\n",
       "      <td>2015-06-02 11:19:30</td>\n",
       "      <td>2015-06-02 11:27:56</td>\n",
       "      <td>1</td>\n",
       "      <td>0.46</td>\n",
       "      <td>-73.971443</td>\n",
       "      <td>40.758942</td>\n",
       "      <td>1</td>\n",
       "      <td>N</td>\n",
       "      <td>-73.978539</td>\n",
       "      <td>40.761909</td>\n",
       "      <td>1</td>\n",
       "      <td>6.5</td>\n",
       "      <td>0.0</td>\n",
       "      <td>0.5</td>\n",
       "      <td>1.00</td>\n",
       "      <td>0.0</td>\n",
       "      <td>0.3</td>\n",
       "      <td>8.30</td>\n",
       "    </tr>\n",
       "    <tr>\n",
       "      <th>2</th>\n",
       "      <td>2</td>\n",
       "      <td>2015-06-02 11:19:31</td>\n",
       "      <td>2015-06-02 11:30:30</td>\n",
       "      <td>1</td>\n",
       "      <td>0.87</td>\n",
       "      <td>-73.978111</td>\n",
       "      <td>40.738434</td>\n",
       "      <td>1</td>\n",
       "      <td>N</td>\n",
       "      <td>-73.990273</td>\n",
       "      <td>40.745438</td>\n",
       "      <td>1</td>\n",
       "      <td>8.0</td>\n",
       "      <td>0.0</td>\n",
       "      <td>0.5</td>\n",
       "      <td>2.20</td>\n",
       "      <td>0.0</td>\n",
       "      <td>0.3</td>\n",
       "      <td>11.00</td>\n",
       "    </tr>\n",
       "    <tr>\n",
       "      <th>3</th>\n",
       "      <td>2</td>\n",
       "      <td>2015-06-02 11:19:31</td>\n",
       "      <td>2015-06-02 11:39:02</td>\n",
       "      <td>1</td>\n",
       "      <td>2.13</td>\n",
       "      <td>-73.945892</td>\n",
       "      <td>40.773529</td>\n",
       "      <td>1</td>\n",
       "      <td>N</td>\n",
       "      <td>-73.971527</td>\n",
       "      <td>40.760330</td>\n",
       "      <td>1</td>\n",
       "      <td>13.5</td>\n",
       "      <td>0.0</td>\n",
       "      <td>0.5</td>\n",
       "      <td>2.86</td>\n",
       "      <td>0.0</td>\n",
       "      <td>0.3</td>\n",
       "      <td>17.16</td>\n",
       "    </tr>\n",
       "    <tr>\n",
       "      <th>4</th>\n",
       "      <td>1</td>\n",
       "      <td>2015-06-02 11:19:32</td>\n",
       "      <td>2015-06-02 11:32:49</td>\n",
       "      <td>1</td>\n",
       "      <td>1.40</td>\n",
       "      <td>-73.979088</td>\n",
       "      <td>40.776772</td>\n",
       "      <td>1</td>\n",
       "      <td>N</td>\n",
       "      <td>-73.982162</td>\n",
       "      <td>40.758999</td>\n",
       "      <td>2</td>\n",
       "      <td>9.5</td>\n",
       "      <td>0.0</td>\n",
       "      <td>0.5</td>\n",
       "      <td>0.00</td>\n",
       "      <td>0.0</td>\n",
       "      <td>0.3</td>\n",
       "      <td>10.30</td>\n",
       "    </tr>\n",
       "    <tr>\n",
       "      <th>...</th>\n",
       "      <td>...</td>\n",
       "      <td>...</td>\n",
       "      <td>...</td>\n",
       "      <td>...</td>\n",
       "      <td>...</td>\n",
       "      <td>...</td>\n",
       "      <td>...</td>\n",
       "      <td>...</td>\n",
       "      <td>...</td>\n",
       "      <td>...</td>\n",
       "      <td>...</td>\n",
       "      <td>...</td>\n",
       "      <td>...</td>\n",
       "      <td>...</td>\n",
       "      <td>...</td>\n",
       "      <td>...</td>\n",
       "      <td>...</td>\n",
       "      <td>...</td>\n",
       "      <td>...</td>\n",
       "    </tr>\n",
       "    <tr>\n",
       "      <th>9994</th>\n",
       "      <td>1</td>\n",
       "      <td>2015-06-01 00:12:59</td>\n",
       "      <td>2015-06-01 00:24:18</td>\n",
       "      <td>1</td>\n",
       "      <td>2.70</td>\n",
       "      <td>-73.947792</td>\n",
       "      <td>40.814972</td>\n",
       "      <td>1</td>\n",
       "      <td>N</td>\n",
       "      <td>-73.973358</td>\n",
       "      <td>40.783638</td>\n",
       "      <td>2</td>\n",
       "      <td>11.0</td>\n",
       "      <td>0.5</td>\n",
       "      <td>0.5</td>\n",
       "      <td>0.00</td>\n",
       "      <td>0.0</td>\n",
       "      <td>0.3</td>\n",
       "      <td>12.30</td>\n",
       "    </tr>\n",
       "    <tr>\n",
       "      <th>9995</th>\n",
       "      <td>1</td>\n",
       "      <td>2015-06-01 00:12:59</td>\n",
       "      <td>2015-06-01 00:28:16</td>\n",
       "      <td>1</td>\n",
       "      <td>4.50</td>\n",
       "      <td>-74.004066</td>\n",
       "      <td>40.747818</td>\n",
       "      <td>1</td>\n",
       "      <td>N</td>\n",
       "      <td>-73.953758</td>\n",
       "      <td>40.779285</td>\n",
       "      <td>1</td>\n",
       "      <td>16.0</td>\n",
       "      <td>0.5</td>\n",
       "      <td>0.5</td>\n",
       "      <td>3.00</td>\n",
       "      <td>0.0</td>\n",
       "      <td>0.3</td>\n",
       "      <td>20.30</td>\n",
       "    </tr>\n",
       "    <tr>\n",
       "      <th>9996</th>\n",
       "      <td>2</td>\n",
       "      <td>2015-06-01 00:13:00</td>\n",
       "      <td>2015-06-01 00:37:25</td>\n",
       "      <td>1</td>\n",
       "      <td>5.59</td>\n",
       "      <td>-73.994377</td>\n",
       "      <td>40.766102</td>\n",
       "      <td>1</td>\n",
       "      <td>N</td>\n",
       "      <td>-73.903206</td>\n",
       "      <td>40.750546</td>\n",
       "      <td>2</td>\n",
       "      <td>21.0</td>\n",
       "      <td>0.5</td>\n",
       "      <td>0.5</td>\n",
       "      <td>0.00</td>\n",
       "      <td>0.0</td>\n",
       "      <td>0.3</td>\n",
       "      <td>22.30</td>\n",
       "    </tr>\n",
       "    <tr>\n",
       "      <th>9997</th>\n",
       "      <td>2</td>\n",
       "      <td>2015-06-01 00:13:02</td>\n",
       "      <td>2015-06-01 00:19:10</td>\n",
       "      <td>6</td>\n",
       "      <td>1.54</td>\n",
       "      <td>-73.978302</td>\n",
       "      <td>40.748531</td>\n",
       "      <td>1</td>\n",
       "      <td>N</td>\n",
       "      <td>-73.989166</td>\n",
       "      <td>40.762852</td>\n",
       "      <td>2</td>\n",
       "      <td>6.5</td>\n",
       "      <td>0.5</td>\n",
       "      <td>0.5</td>\n",
       "      <td>0.00</td>\n",
       "      <td>0.0</td>\n",
       "      <td>0.3</td>\n",
       "      <td>7.80</td>\n",
       "    </tr>\n",
       "    <tr>\n",
       "      <th>9998</th>\n",
       "      <td>1</td>\n",
       "      <td>2015-06-01 00:13:04</td>\n",
       "      <td>2015-06-01 00:36:33</td>\n",
       "      <td>1</td>\n",
       "      <td>5.80</td>\n",
       "      <td>-73.983215</td>\n",
       "      <td>40.726414</td>\n",
       "      <td>1</td>\n",
       "      <td>N</td>\n",
       "      <td>-73.924133</td>\n",
       "      <td>40.701645</td>\n",
       "      <td>1</td>\n",
       "      <td>21.0</td>\n",
       "      <td>0.5</td>\n",
       "      <td>0.5</td>\n",
       "      <td>4.45</td>\n",
       "      <td>0.0</td>\n",
       "      <td>0.3</td>\n",
       "      <td>26.75</td>\n",
       "    </tr>\n",
       "  </tbody>\n",
       "</table>\n",
       "<p>9999 rows × 19 columns</p>\n",
       "</div>"
      ],
      "text/plain": [
       "      VendorID tpep_pickup_datetime tpep_dropoff_datetime  passenger_count  \\\n",
       "0            2  2015-06-02 11:19:29   2015-06-02 11:47:52                1   \n",
       "1            2  2015-06-02 11:19:30   2015-06-02 11:27:56                1   \n",
       "2            2  2015-06-02 11:19:31   2015-06-02 11:30:30                1   \n",
       "3            2  2015-06-02 11:19:31   2015-06-02 11:39:02                1   \n",
       "4            1  2015-06-02 11:19:32   2015-06-02 11:32:49                1   \n",
       "...        ...                  ...                   ...              ...   \n",
       "9994         1  2015-06-01 00:12:59   2015-06-01 00:24:18                1   \n",
       "9995         1  2015-06-01 00:12:59   2015-06-01 00:28:16                1   \n",
       "9996         2  2015-06-01 00:13:00   2015-06-01 00:37:25                1   \n",
       "9997         2  2015-06-01 00:13:02   2015-06-01 00:19:10                6   \n",
       "9998         1  2015-06-01 00:13:04   2015-06-01 00:36:33                1   \n",
       "\n",
       "      trip_distance  pickup_longitude  pickup_latitude  RateCodeID  \\\n",
       "0              1.63        -73.954430        40.764141           1   \n",
       "1              0.46        -73.971443        40.758942           1   \n",
       "2              0.87        -73.978111        40.738434           1   \n",
       "3              2.13        -73.945892        40.773529           1   \n",
       "4              1.40        -73.979088        40.776772           1   \n",
       "...             ...               ...              ...         ...   \n",
       "9994           2.70        -73.947792        40.814972           1   \n",
       "9995           4.50        -74.004066        40.747818           1   \n",
       "9996           5.59        -73.994377        40.766102           1   \n",
       "9997           1.54        -73.978302        40.748531           1   \n",
       "9998           5.80        -73.983215        40.726414           1   \n",
       "\n",
       "     store_and_fwd_flag  dropoff_longitude  dropoff_latitude  payment_type  \\\n",
       "0                     N         -73.974754         40.754093             2   \n",
       "1                     N         -73.978539         40.761909             1   \n",
       "2                     N         -73.990273         40.745438             1   \n",
       "3                     N         -73.971527         40.760330             1   \n",
       "4                     N         -73.982162         40.758999             2   \n",
       "...                 ...                ...               ...           ...   \n",
       "9994                  N         -73.973358         40.783638             2   \n",
       "9995                  N         -73.953758         40.779285             1   \n",
       "9996                  N         -73.903206         40.750546             2   \n",
       "9997                  N         -73.989166         40.762852             2   \n",
       "9998                  N         -73.924133         40.701645             1   \n",
       "\n",
       "      fare_amount  extra  mta_tax  tip_amount  tolls_amount  \\\n",
       "0            17.0    0.0      0.5        0.00           0.0   \n",
       "1             6.5    0.0      0.5        1.00           0.0   \n",
       "2             8.0    0.0      0.5        2.20           0.0   \n",
       "3            13.5    0.0      0.5        2.86           0.0   \n",
       "4             9.5    0.0      0.5        0.00           0.0   \n",
       "...           ...    ...      ...         ...           ...   \n",
       "9994         11.0    0.5      0.5        0.00           0.0   \n",
       "9995         16.0    0.5      0.5        3.00           0.0   \n",
       "9996         21.0    0.5      0.5        0.00           0.0   \n",
       "9997          6.5    0.5      0.5        0.00           0.0   \n",
       "9998         21.0    0.5      0.5        4.45           0.0   \n",
       "\n",
       "      improvement_surcharge  total_amount  \n",
       "0                       0.3         17.80  \n",
       "1                       0.3          8.30  \n",
       "2                       0.3         11.00  \n",
       "3                       0.3         17.16  \n",
       "4                       0.3         10.30  \n",
       "...                     ...           ...  \n",
       "9994                    0.3         12.30  \n",
       "9995                    0.3         20.30  \n",
       "9996                    0.3         22.30  \n",
       "9997                    0.3          7.80  \n",
       "9998                    0.3         26.75  \n",
       "\n",
       "[9999 rows x 19 columns]"
      ]
     },
     "execution_count": 30,
     "metadata": {},
     "output_type": "execute_result"
    }
   ],
   "source": [
    "df = pd.read_csv('taxi.csv')\n",
    "df"
   ]
  },
  {
   "cell_type": "code",
   "execution_count": 33,
   "id": "10f4bdc5",
   "metadata": {},
   "outputs": [
    {
     "data": {
      "text/html": [
       "<div>\n",
       "<style scoped>\n",
       "    .dataframe tbody tr th:only-of-type {\n",
       "        vertical-align: middle;\n",
       "    }\n",
       "\n",
       "    .dataframe tbody tr th {\n",
       "        vertical-align: top;\n",
       "    }\n",
       "\n",
       "    .dataframe thead th {\n",
       "        text-align: right;\n",
       "    }\n",
       "</style>\n",
       "<table border=\"1\" class=\"dataframe\">\n",
       "  <thead>\n",
       "    <tr style=\"text-align: right;\">\n",
       "      <th></th>\n",
       "      <th>VendorID</th>\n",
       "      <th>passenger_count</th>\n",
       "      <th>trip_distance</th>\n",
       "      <th>pickup_longitude</th>\n",
       "      <th>pickup_latitude</th>\n",
       "      <th>RateCodeID</th>\n",
       "      <th>dropoff_longitude</th>\n",
       "      <th>dropoff_latitude</th>\n",
       "      <th>payment_type</th>\n",
       "      <th>fare_amount</th>\n",
       "      <th>extra</th>\n",
       "      <th>mta_tax</th>\n",
       "      <th>tip_amount</th>\n",
       "      <th>tolls_amount</th>\n",
       "      <th>improvement_surcharge</th>\n",
       "      <th>total_amount</th>\n",
       "    </tr>\n",
       "  </thead>\n",
       "  <tbody>\n",
       "    <tr>\n",
       "      <th>count</th>\n",
       "      <td>9999.000000</td>\n",
       "      <td>9999.000000</td>\n",
       "      <td>9999.000000</td>\n",
       "      <td>9999.000000</td>\n",
       "      <td>9999.000000</td>\n",
       "      <td>9999.000000</td>\n",
       "      <td>9999.000000</td>\n",
       "      <td>9999.000000</td>\n",
       "      <td>9999.000000</td>\n",
       "      <td>9999.000000</td>\n",
       "      <td>9999.000000</td>\n",
       "      <td>9999.000000</td>\n",
       "      <td>9999.000000</td>\n",
       "      <td>9999.000000</td>\n",
       "      <td>9999.000000</td>\n",
       "      <td>9999.000000</td>\n",
       "    </tr>\n",
       "    <tr>\n",
       "      <th>mean</th>\n",
       "      <td>1.516652</td>\n",
       "      <td>1.659466</td>\n",
       "      <td>3.158511</td>\n",
       "      <td>-73.014956</td>\n",
       "      <td>40.226521</td>\n",
       "      <td>1.045105</td>\n",
       "      <td>-73.054699</td>\n",
       "      <td>40.248644</td>\n",
       "      <td>1.407741</td>\n",
       "      <td>14.415892</td>\n",
       "      <td>0.118212</td>\n",
       "      <td>0.497450</td>\n",
       "      <td>1.818059</td>\n",
       "      <td>0.400433</td>\n",
       "      <td>0.299790</td>\n",
       "      <td>17.552472</td>\n",
       "    </tr>\n",
       "    <tr>\n",
       "      <th>std</th>\n",
       "      <td>0.499748</td>\n",
       "      <td>1.333306</td>\n",
       "      <td>4.037516</td>\n",
       "      <td>8.347871</td>\n",
       "      <td>4.599169</td>\n",
       "      <td>0.302132</td>\n",
       "      <td>8.186847</td>\n",
       "      <td>4.510520</td>\n",
       "      <td>0.501911</td>\n",
       "      <td>12.442624</td>\n",
       "      <td>0.214794</td>\n",
       "      <td>0.037667</td>\n",
       "      <td>2.634469</td>\n",
       "      <td>1.665170</td>\n",
       "      <td>0.010816</td>\n",
       "      <td>15.137990</td>\n",
       "    </tr>\n",
       "    <tr>\n",
       "      <th>min</th>\n",
       "      <td>1.000000</td>\n",
       "      <td>0.000000</td>\n",
       "      <td>0.000000</td>\n",
       "      <td>-74.186302</td>\n",
       "      <td>0.000000</td>\n",
       "      <td>1.000000</td>\n",
       "      <td>-74.277367</td>\n",
       "      <td>0.000000</td>\n",
       "      <td>1.000000</td>\n",
       "      <td>-7.000000</td>\n",
       "      <td>-0.500000</td>\n",
       "      <td>-0.500000</td>\n",
       "      <td>0.000000</td>\n",
       "      <td>0.000000</td>\n",
       "      <td>-0.300000</td>\n",
       "      <td>-7.800000</td>\n",
       "    </tr>\n",
       "    <tr>\n",
       "      <th>25%</th>\n",
       "      <td>1.000000</td>\n",
       "      <td>1.000000</td>\n",
       "      <td>1.000000</td>\n",
       "      <td>-73.990997</td>\n",
       "      <td>40.738556</td>\n",
       "      <td>1.000000</td>\n",
       "      <td>-73.990261</td>\n",
       "      <td>40.738478</td>\n",
       "      <td>1.000000</td>\n",
       "      <td>7.000000</td>\n",
       "      <td>0.000000</td>\n",
       "      <td>0.500000</td>\n",
       "      <td>0.000000</td>\n",
       "      <td>0.000000</td>\n",
       "      <td>0.300000</td>\n",
       "      <td>8.800000</td>\n",
       "    </tr>\n",
       "    <tr>\n",
       "      <th>50%</th>\n",
       "      <td>2.000000</td>\n",
       "      <td>1.000000</td>\n",
       "      <td>1.700000</td>\n",
       "      <td>-73.979774</td>\n",
       "      <td>40.755909</td>\n",
       "      <td>1.000000</td>\n",
       "      <td>-73.978256</td>\n",
       "      <td>40.756340</td>\n",
       "      <td>1.000000</td>\n",
       "      <td>10.500000</td>\n",
       "      <td>0.000000</td>\n",
       "      <td>0.500000</td>\n",
       "      <td>1.000000</td>\n",
       "      <td>0.000000</td>\n",
       "      <td>0.300000</td>\n",
       "      <td>12.800000</td>\n",
       "    </tr>\n",
       "    <tr>\n",
       "      <th>75%</th>\n",
       "      <td>2.000000</td>\n",
       "      <td>2.000000</td>\n",
       "      <td>3.300000</td>\n",
       "      <td>-73.963001</td>\n",
       "      <td>40.770012</td>\n",
       "      <td>1.000000</td>\n",
       "      <td>-73.961311</td>\n",
       "      <td>40.771044</td>\n",
       "      <td>2.000000</td>\n",
       "      <td>17.000000</td>\n",
       "      <td>0.000000</td>\n",
       "      <td>0.500000</td>\n",
       "      <td>2.460000</td>\n",
       "      <td>0.000000</td>\n",
       "      <td>0.300000</td>\n",
       "      <td>19.800000</td>\n",
       "    </tr>\n",
       "    <tr>\n",
       "      <th>max</th>\n",
       "      <td>2.000000</td>\n",
       "      <td>6.000000</td>\n",
       "      <td>64.600000</td>\n",
       "      <td>0.000000</td>\n",
       "      <td>41.064606</td>\n",
       "      <td>5.000000</td>\n",
       "      <td>0.000000</td>\n",
       "      <td>41.137344</td>\n",
       "      <td>4.000000</td>\n",
       "      <td>250.000000</td>\n",
       "      <td>1.000000</td>\n",
       "      <td>0.500000</td>\n",
       "      <td>42.050000</td>\n",
       "      <td>70.000000</td>\n",
       "      <td>0.300000</td>\n",
       "      <td>252.350000</td>\n",
       "    </tr>\n",
       "  </tbody>\n",
       "</table>\n",
       "</div>"
      ],
      "text/plain": [
       "          VendorID  passenger_count  trip_distance  pickup_longitude  \\\n",
       "count  9999.000000      9999.000000    9999.000000       9999.000000   \n",
       "mean      1.516652         1.659466       3.158511        -73.014956   \n",
       "std       0.499748         1.333306       4.037516          8.347871   \n",
       "min       1.000000         0.000000       0.000000        -74.186302   \n",
       "25%       1.000000         1.000000       1.000000        -73.990997   \n",
       "50%       2.000000         1.000000       1.700000        -73.979774   \n",
       "75%       2.000000         2.000000       3.300000        -73.963001   \n",
       "max       2.000000         6.000000      64.600000          0.000000   \n",
       "\n",
       "       pickup_latitude   RateCodeID  dropoff_longitude  dropoff_latitude  \\\n",
       "count      9999.000000  9999.000000        9999.000000       9999.000000   \n",
       "mean         40.226521     1.045105         -73.054699         40.248644   \n",
       "std           4.599169     0.302132           8.186847          4.510520   \n",
       "min           0.000000     1.000000         -74.277367          0.000000   \n",
       "25%          40.738556     1.000000         -73.990261         40.738478   \n",
       "50%          40.755909     1.000000         -73.978256         40.756340   \n",
       "75%          40.770012     1.000000         -73.961311         40.771044   \n",
       "max          41.064606     5.000000           0.000000         41.137344   \n",
       "\n",
       "       payment_type  fare_amount        extra      mta_tax   tip_amount  \\\n",
       "count   9999.000000  9999.000000  9999.000000  9999.000000  9999.000000   \n",
       "mean       1.407741    14.415892     0.118212     0.497450     1.818059   \n",
       "std        0.501911    12.442624     0.214794     0.037667     2.634469   \n",
       "min        1.000000    -7.000000    -0.500000    -0.500000     0.000000   \n",
       "25%        1.000000     7.000000     0.000000     0.500000     0.000000   \n",
       "50%        1.000000    10.500000     0.000000     0.500000     1.000000   \n",
       "75%        2.000000    17.000000     0.000000     0.500000     2.460000   \n",
       "max        4.000000   250.000000     1.000000     0.500000    42.050000   \n",
       "\n",
       "       tolls_amount  improvement_surcharge  total_amount  \n",
       "count   9999.000000            9999.000000   9999.000000  \n",
       "mean       0.400433               0.299790     17.552472  \n",
       "std        1.665170               0.010816     15.137990  \n",
       "min        0.000000              -0.300000     -7.800000  \n",
       "25%        0.000000               0.300000      8.800000  \n",
       "50%        0.000000               0.300000     12.800000  \n",
       "75%        0.000000               0.300000     19.800000  \n",
       "max       70.000000               0.300000    252.350000  "
      ]
     },
     "execution_count": 33,
     "metadata": {},
     "output_type": "execute_result"
    }
   ],
   "source": [
    "df.describe()"
   ]
  },
  {
   "cell_type": "code",
   "execution_count": null,
   "id": "67ff8ec5",
   "metadata": {},
   "outputs": [],
   "source": []
  }
 ],
 "metadata": {
  "kernelspec": {
   "display_name": "Python 3 (ipykernel)",
   "language": "python",
   "name": "python3"
  },
  "language_info": {
   "codemirror_mode": {
    "name": "ipython",
    "version": 3
   },
   "file_extension": ".py",
   "mimetype": "text/x-python",
   "name": "python",
   "nbconvert_exporter": "python",
   "pygments_lexer": "ipython3",
   "version": "3.12.7"
  }
 },
 "nbformat": 4,
 "nbformat_minor": 5
}
