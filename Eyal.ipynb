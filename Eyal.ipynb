{
 "cells": [
  {
   "cell_type": "code",
   "execution_count": 1,
   "id": "662faae0",
   "metadata": {},
   "outputs": [],
   "source": [
    "import random"
   ]
  },
  {
   "cell_type": "code",
   "execution_count": 2,
   "id": "8c076181",
   "metadata": {},
   "outputs": [
    {
     "data": {
      "text/plain": [
       "12"
      ]
     },
     "execution_count": 2,
     "metadata": {},
     "output_type": "execute_result"
    }
   ],
   "source": [
    "random.randint(0,50)"
   ]
  },
  {
   "cell_type": "code",
   "execution_count": 3,
   "id": "ac3c7495",
   "metadata": {},
   "outputs": [],
   "source": [
    "import pandas as pd"
   ]
  },
  {
   "cell_type": "code",
   "execution_count": 4,
   "id": "fc1d5526",
   "metadata": {},
   "outputs": [],
   "source": [
    "from pandas import Series, DataFrame"
   ]
  },
  {
   "cell_type": "code",
   "execution_count": 5,
   "id": "ccc283ff",
   "metadata": {},
   "outputs": [],
   "source": [
    "s = Series([1,2,3,4,5,6,7])"
   ]
  },
  {
   "cell_type": "code",
   "execution_count": 6,
   "id": "2982525d",
   "metadata": {},
   "outputs": [
    {
     "data": {
      "text/plain": [
       "0    1\n",
       "1    2\n",
       "2    3\n",
       "3    4\n",
       "4    5\n",
       "5    6\n",
       "6    7\n",
       "dtype: int64"
      ]
     },
     "execution_count": 6,
     "metadata": {},
     "output_type": "execute_result"
    }
   ],
   "source": [
    "s"
   ]
  },
  {
   "cell_type": "code",
   "execution_count": 7,
   "id": "4722d75a",
   "metadata": {},
   "outputs": [
    {
     "data": {
      "text/plain": [
       "2"
      ]
     },
     "execution_count": 7,
     "metadata": {},
     "output_type": "execute_result"
    }
   ],
   "source": [
    "s[1]"
   ]
  },
  {
   "cell_type": "code",
   "execution_count": 8,
   "id": "b4a62e83",
   "metadata": {},
   "outputs": [
    {
     "ename": "AttributeError",
     "evalue": "'Series' object has no attribute 'len'",
     "output_type": "error",
     "traceback": [
      "\u001b[0;31m---------------------------------------------------------------------------\u001b[0m",
      "\u001b[0;31mAttributeError\u001b[0m                            Traceback (most recent call last)",
      "\u001b[0;32m/tmp/ipykernel_1648/2847171261.py\u001b[0m in \u001b[0;36m?\u001b[0;34m()\u001b[0m\n\u001b[0;32m----> 1\u001b[0;31m \u001b[0ms\u001b[0m\u001b[0;34m.\u001b[0m\u001b[0mlen\u001b[0m\u001b[0;34m(\u001b[0m\u001b[0;34m)\u001b[0m\u001b[0;34m\u001b[0m\u001b[0;34m\u001b[0m\u001b[0m\n\u001b[0m",
      "\u001b[0;32m/usr/lib/python3/dist-packages/pandas/core/generic.py\u001b[0m in \u001b[0;36m?\u001b[0;34m(self, name)\u001b[0m\n\u001b[1;32m   6295\u001b[0m             \u001b[0;32mand\u001b[0m \u001b[0mname\u001b[0m \u001b[0;32mnot\u001b[0m \u001b[0;32min\u001b[0m \u001b[0mself\u001b[0m\u001b[0;34m.\u001b[0m\u001b[0m_accessors\u001b[0m\u001b[0;34m\u001b[0m\u001b[0;34m\u001b[0m\u001b[0m\n\u001b[1;32m   6296\u001b[0m             \u001b[0;32mand\u001b[0m \u001b[0mself\u001b[0m\u001b[0;34m.\u001b[0m\u001b[0m_info_axis\u001b[0m\u001b[0;34m.\u001b[0m\u001b[0m_can_hold_identifiers_and_holds_name\u001b[0m\u001b[0;34m(\u001b[0m\u001b[0mname\u001b[0m\u001b[0;34m)\u001b[0m\u001b[0;34m\u001b[0m\u001b[0;34m\u001b[0m\u001b[0m\n\u001b[1;32m   6297\u001b[0m         \u001b[0;34m)\u001b[0m\u001b[0;34m:\u001b[0m\u001b[0;34m\u001b[0m\u001b[0;34m\u001b[0m\u001b[0m\n\u001b[1;32m   6298\u001b[0m             \u001b[0;32mreturn\u001b[0m \u001b[0mself\u001b[0m\u001b[0;34m[\u001b[0m\u001b[0mname\u001b[0m\u001b[0;34m]\u001b[0m\u001b[0;34m\u001b[0m\u001b[0;34m\u001b[0m\u001b[0m\n\u001b[0;32m-> 6299\u001b[0;31m         \u001b[0;32mreturn\u001b[0m \u001b[0mobject\u001b[0m\u001b[0;34m.\u001b[0m\u001b[0m__getattribute__\u001b[0m\u001b[0;34m(\u001b[0m\u001b[0mself\u001b[0m\u001b[0;34m,\u001b[0m \u001b[0mname\u001b[0m\u001b[0;34m)\u001b[0m\u001b[0;34m\u001b[0m\u001b[0;34m\u001b[0m\u001b[0m\n\u001b[0m",
      "\u001b[0;31mAttributeError\u001b[0m: 'Series' object has no attribute 'len'"
     ]
    }
   ],
   "source": [
    "s.len()"
   ]
  },
  {
   "cell_type": "code",
   "execution_count": 9,
   "id": "c2657087",
   "metadata": {},
   "outputs": [
    {
     "data": {
      "text/plain": [
       "28"
      ]
     },
     "execution_count": 9,
     "metadata": {},
     "output_type": "execute_result"
    }
   ],
   "source": [
    "s.sum()"
   ]
  },
  {
   "cell_type": "code",
   "execution_count": 10,
   "id": "0d7330f9",
   "metadata": {},
   "outputs": [],
   "source": [
    "maxTemp = Series([20,30,24,34,18,23,24,28,31,25])"
   ]
  },
  {
   "cell_type": "code",
   "execution_count": 11,
   "id": "e6db08ac",
   "metadata": {},
   "outputs": [
    {
     "data": {
      "text/plain": [
       "count    10.000000\n",
       "mean     25.700000\n",
       "std       5.012207\n",
       "min      18.000000\n",
       "25%      23.250000\n",
       "50%      24.500000\n",
       "75%      29.500000\n",
       "max      34.000000\n",
       "dtype: float64"
      ]
     },
     "execution_count": 11,
     "metadata": {},
     "output_type": "execute_result"
    }
   ],
   "source": [
    "maxTemp.describe()"
   ]
  },
  {
   "cell_type": "code",
   "execution_count": 12,
   "id": "bff6109d",
   "metadata": {},
   "outputs": [],
   "source": [
    "maxTemp5 = maxTemp[0:4]"
   ]
  },
  {
   "cell_type": "code",
   "execution_count": 13,
   "id": "34a08e18",
   "metadata": {},
   "outputs": [
    {
     "data": {
      "text/plain": [
       "0    20\n",
       "1    30\n",
       "2    24\n",
       "3    34\n",
       "dtype: int64"
      ]
     },
     "execution_count": 13,
     "metadata": {},
     "output_type": "execute_result"
    }
   ],
   "source": [
    "maxTemp5"
   ]
  },
  {
   "cell_type": "code",
   "execution_count": 14,
   "id": "2363634e",
   "metadata": {},
   "outputs": [],
   "source": [
    "maxTemp5 = maxTemp[0:5]"
   ]
  },
  {
   "cell_type": "code",
   "execution_count": 15,
   "id": "73704b2e",
   "metadata": {},
   "outputs": [
    {
     "data": {
      "text/plain": [
       "0    20\n",
       "1    30\n",
       "2    24\n",
       "3    34\n",
       "4    18\n",
       "dtype: int64"
      ]
     },
     "execution_count": 15,
     "metadata": {},
     "output_type": "execute_result"
    }
   ],
   "source": [
    "maxTemp5"
   ]
  },
  {
   "cell_type": "code",
   "execution_count": 16,
   "id": "258ffe81",
   "metadata": {},
   "outputs": [
    {
     "data": {
      "text/plain": [
       "34"
      ]
     },
     "execution_count": 16,
     "metadata": {},
     "output_type": "execute_result"
    }
   ],
   "source": [
    "maxTemp5.max()"
   ]
  },
  {
   "cell_type": "code",
   "execution_count": 17,
   "id": "75d37489",
   "metadata": {},
   "outputs": [
    {
     "data": {
      "text/plain": [
       "34"
      ]
     },
     "execution_count": 17,
     "metadata": {},
     "output_type": "execute_result"
    }
   ],
   "source": [
    "maxTemp[0:5].max()"
   ]
  },
  {
   "cell_type": "code",
   "execution_count": 18,
   "id": "9a992cf0",
   "metadata": {},
   "outputs": [],
   "source": [
    "maxTemp = Series([20,30,24,34,18,23,24,28,31,25], index=['01','02','03','04','05','06','07','08','09','10'])"
   ]
  },
  {
   "cell_type": "code",
   "execution_count": 19,
   "id": "088ebb8f",
   "metadata": {},
   "outputs": [],
   "source": [
    "minTemp = Series([16,20,14,23,12,17,15,20,22,14], index=['01','02','03','04','05','06','07','08','09','10'])"
   ]
  },
  {
   "cell_type": "code",
   "execution_count": 20,
   "id": "304a82a9",
   "metadata": {},
   "outputs": [
    {
     "data": {
      "text/plain": [
       "01     4\n",
       "02    10\n",
       "03    10\n",
       "04    11\n",
       "05     6\n",
       "06     6\n",
       "07     9\n",
       "08     8\n",
       "09     9\n",
       "10    11\n",
       "dtype: int64"
      ]
     },
     "execution_count": 20,
     "metadata": {},
     "output_type": "execute_result"
    }
   ],
   "source": [
    "diffs=maxTemp-minTemp\n",
    "diffs"
   ]
  },
  {
   "cell_type": "code",
   "execution_count": 21,
   "id": "7c7c42d0",
   "metadata": {},
   "outputs": [
    {
     "data": {
      "text/plain": [
       "count     5.00000\n",
       "mean      8.20000\n",
       "std       3.03315\n",
       "min       4.00000\n",
       "25%       6.00000\n",
       "50%      10.00000\n",
       "75%      10.00000\n",
       "max      11.00000\n",
       "dtype: float64"
      ]
     },
     "execution_count": 21,
     "metadata": {},
     "output_type": "execute_result"
    }
   ],
   "source": [
    "diffs[:5].describe()"
   ]
  },
  {
   "cell_type": "code",
   "execution_count": 22,
   "id": "6d072d62",
   "metadata": {},
   "outputs": [
    {
     "data": {
      "text/plain": [
       "05     6\n",
       "06     6\n",
       "07     9\n",
       "08     8\n",
       "09     9\n",
       "10    11\n",
       "dtype: int64"
      ]
     },
     "execution_count": 22,
     "metadata": {},
     "output_type": "execute_result"
    }
   ],
   "source": [
    "diffs.loc['05':'10']"
   ]
  },
  {
   "cell_type": "code",
   "execution_count": 23,
   "id": "1ff97fa9",
   "metadata": {},
   "outputs": [
    {
     "data": {
      "text/plain": [
       "count     5.00000\n",
       "mean      8.20000\n",
       "std       3.03315\n",
       "min       4.00000\n",
       "25%       6.00000\n",
       "50%      10.00000\n",
       "75%      10.00000\n",
       "max      11.00000\n",
       "dtype: float64"
      ]
     },
     "execution_count": 23,
     "metadata": {},
     "output_type": "execute_result"
    }
   ],
   "source": [
    "diffs.iloc[:5].describe()"
   ]
  },
  {
   "cell_type": "code",
   "execution_count": 24,
   "id": "d550eccf",
   "metadata": {},
   "outputs": [
    {
     "data": {
      "text/plain": [
       "10"
      ]
     },
     "execution_count": 24,
     "metadata": {},
     "output_type": "execute_result"
    }
   ],
   "source": [
    "len(diffs)"
   ]
  },
  {
   "cell_type": "code",
   "execution_count": 25,
   "id": "dda5be4a",
   "metadata": {},
   "outputs": [
    {
     "data": {
      "text/plain": [
       "Eyal    10\n",
       "Ora     20\n",
       "Moti    14\n",
       "Erez    70\n",
       "Alon    40\n",
       "Lior    59\n",
       "dtype: int64"
      ]
     },
     "execution_count": 25,
     "metadata": {},
     "output_type": "execute_result"
    }
   ],
   "source": [
    "s2 = Series([10,20,14,70,40,59], index=['Eyal','Ora','Moti','Erez','Alon','Lior'])\n",
    "s2"
   ]
  },
  {
   "cell_type": "code",
   "execution_count": 28,
   "id": "717c1843",
   "metadata": {},
   "outputs": [
    {
     "data": {
      "text/plain": [
       "Eyal    10\n",
       "Ora     20\n",
       "Moti    14\n",
       "dtype: int64"
      ]
     },
     "execution_count": 28,
     "metadata": {},
     "output_type": "execute_result"
    }
   ],
   "source": [
    "s2.loc[s2<s2.mean()]"
   ]
  },
  {
   "cell_type": "code",
   "execution_count": 29,
   "id": "8f33fea9",
   "metadata": {},
   "outputs": [
    {
     "data": {
      "text/plain": [
       "count     6.000000\n",
       "mean     35.500000\n",
       "std      24.961971\n",
       "min      10.000000\n",
       "25%      15.500000\n",
       "50%      30.000000\n",
       "75%      54.250000\n",
       "max      70.000000\n",
       "dtype: float64"
      ]
     },
     "execution_count": 29,
     "metadata": {},
     "output_type": "execute_result"
    }
   ],
   "source": [
    "s2.describe()"
   ]
  },
  {
   "cell_type": "code",
   "execution_count": 32,
   "id": "eaaba6c1",
   "metadata": {
    "scrolled": true
   },
   "outputs": [
    {
     "data": {
      "text/plain": [
       "Eyal    10\n",
       "dtype: int64"
      ]
     },
     "execution_count": 32,
     "metadata": {},
     "output_type": "execute_result"
    }
   ],
   "source": [
    "s2.loc[s2<s2.mean()-s2.std()]"
   ]
  },
  {
   "cell_type": "code",
   "execution_count": 33,
   "id": "78e674d8",
   "metadata": {},
   "outputs": [],
   "source": [
    "maxTempC = Series([20,30,24,34,18,23,24,28,31,25])"
   ]
  },
  {
   "cell_type": "code",
   "execution_count": 34,
   "id": "d6fc8b8e",
   "metadata": {},
   "outputs": [
    {
     "data": {
      "text/plain": [
       "0    68.0\n",
       "1    86.0\n",
       "2    75.2\n",
       "3    93.2\n",
       "4    64.4\n",
       "5    73.4\n",
       "6    75.2\n",
       "7    82.4\n",
       "8    87.8\n",
       "9    77.0\n",
       "dtype: float64"
      ]
     },
     "execution_count": 34,
     "metadata": {},
     "output_type": "execute_result"
    }
   ],
   "source": [
    "maxTempF = (maxTempC * 1.8) +32\n",
    "maxTempF"
   ]
  },
  {
   "cell_type": "code",
   "execution_count": null,
   "id": "d831a5dc",
   "metadata": {},
   "outputs": [],
   "source": [
    "maxTempF.asT"
   ]
  },
  {
   "cell_type": "code",
   "execution_count": null,
   "id": "b72ceeda",
   "metadata": {},
   "outputs": [],
   "source": []
  },
  {
   "cell_type": "code",
   "execution_count": null,
   "id": "1ca31458",
   "metadata": {},
   "outputs": [],
   "source": []
  },
  {
   "cell_type": "code",
   "execution_count": null,
   "id": "aa2f618b",
   "metadata": {},
   "outputs": [],
   "source": []
  },
  {
   "cell_type": "code",
   "execution_count": null,
   "id": "d75eea36",
   "metadata": {},
   "outputs": [],
   "source": []
  },
  {
   "cell_type": "code",
   "execution_count": null,
   "id": "7ae40e09",
   "metadata": {},
   "outputs": [],
   "source": []
  },
  {
   "cell_type": "code",
   "execution_count": null,
   "id": "a93447ae",
   "metadata": {},
   "outputs": [],
   "source": []
  },
  {
   "cell_type": "code",
   "execution_count": null,
   "id": "0b6a8c5a",
   "metadata": {},
   "outputs": [],
   "source": []
  },
  {
   "cell_type": "code",
   "execution_count": null,
   "id": "e6915d8f",
   "metadata": {},
   "outputs": [],
   "source": []
  },
  {
   "cell_type": "code",
   "execution_count": null,
   "id": "3d7dfb4e",
   "metadata": {},
   "outputs": [],
   "source": []
  },
  {
   "cell_type": "code",
   "execution_count": null,
   "id": "2246dbc9",
   "metadata": {},
   "outputs": [],
   "source": []
  },
  {
   "cell_type": "code",
   "execution_count": null,
   "id": "8a03a32d",
   "metadata": {},
   "outputs": [],
   "source": []
  },
  {
   "cell_type": "code",
   "execution_count": null,
   "id": "0e9c8f2c",
   "metadata": {},
   "outputs": [],
   "source": []
  },
  {
   "cell_type": "code",
   "execution_count": null,
   "id": "3f1b42ce",
   "metadata": {},
   "outputs": [],
   "source": []
  },
  {
   "cell_type": "code",
   "execution_count": null,
   "id": "fc18ad43",
   "metadata": {},
   "outputs": [],
   "source": []
  },
  {
   "cell_type": "code",
   "execution_count": null,
   "id": "c75103ec",
   "metadata": {},
   "outputs": [],
   "source": []
  }
 ],
 "metadata": {
  "kernelspec": {
   "display_name": "Python 3 (ipykernel)",
   "language": "python",
   "name": "python3"
  },
  "language_info": {
   "codemirror_mode": {
    "name": "ipython",
    "version": 3
   },
   "file_extension": ".py",
   "mimetype": "text/x-python",
   "name": "python",
   "nbconvert_exporter": "python",
   "pygments_lexer": "ipython3",
   "version": "3.12.7"
  }
 },
 "nbformat": 4,
 "nbformat_minor": 5
}
