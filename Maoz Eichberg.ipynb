{
 "cells": [
  {
   "cell_type": "code",
   "execution_count": 1,
   "id": "59e2857d",
   "metadata": {},
   "outputs": [
    {
     "name": "stdout",
     "output_type": "stream",
     "text": [
      "shalom boker tov\n"
     ]
    }
   ],
   "source": [
    "print('shalom boker tov')"
   ]
  },
  {
   "cell_type": "code",
   "execution_count": 5,
   "id": "f294b8ab",
   "metadata": {},
   "outputs": [
    {
     "name": "stdout",
     "output_type": "stream",
     "text": [
      "hello maoz\n"
     ]
    }
   ],
   "source": [
    "print('hello ' + 'maoz')"
   ]
  },
  {
   "cell_type": "code",
   "execution_count": null,
   "id": "8e2da2ef",
   "metadata": {},
   "outputs": [],
   "source": []
  },
  {
   "cell_type": "code",
   "execution_count": null,
   "id": "d1a69e84",
   "metadata": {},
   "outputs": [],
   "source": []
  },
  {
   "cell_type": "code",
   "execution_count": 7,
   "id": "26d20b56",
   "metadata": {},
   "outputs": [
    {
     "name": "stdout",
     "output_type": "stream",
     "text": [
      "100\n"
     ]
    }
   ],
   "source": [
    "x = 100\n",
    "print(x)"
   ]
  },
  {
   "cell_type": "code",
   "execution_count": 8,
   "id": "137d2098",
   "metadata": {},
   "outputs": [
    {
     "data": {
      "text/plain": [
       "100"
      ]
     },
     "execution_count": 8,
     "metadata": {},
     "output_type": "execute_result"
    }
   ],
   "source": [
    "x"
   ]
  },
  {
   "cell_type": "code",
   "execution_count": null,
   "id": "d1857c5e",
   "metadata": {},
   "outputs": [],
   "source": [
    "x"
   ]
  },
  {
   "cell_type": "code",
   "execution_count": 20,
   "id": "90825331",
   "metadata": {},
   "outputs": [
    {
     "name": "stdout",
     "output_type": "stream",
     "text": [
      "enter your nameaaa\n",
      "have a good day sir\n"
     ]
    }
   ],
   "source": [
    "name = input('enter your name')\n",
    "\n",
    "if name == 'maoz':\n",
    "    print('you are looking good today')\n",
    "    print('hope you have a good day today')\n",
    "else:\n",
    "    print('have a good day sir')\n",
    "    "
   ]
  },
  {
   "cell_type": "code",
   "execution_count": 21,
   "id": "8c5ab94d",
   "metadata": {},
   "outputs": [
    {
     "name": "stdout",
     "output_type": "stream",
     "text": [
      "how are you aaa, feeling good today?\n"
     ]
    }
   ],
   "source": [
    "print(f'how are you {name}, feeling good today?')"
   ]
  },
  {
   "cell_type": "code",
   "execution_count": 24,
   "id": "7a045f64",
   "metadata": {},
   "outputs": [],
   "source": [
    "x=100\n",
    "\n",
    "if x>200:\n",
    "    print('wrong')\n",
    "elif x>150:\n",
    "    print('right')\n",
    "elif x>200:\n",
    "    print('correct')\n"
   ]
  },
  {
   "cell_type": "code",
   "execution_count": 32,
   "id": "59110afb",
   "metadata": {},
   "outputs": [
    {
     "name": "stdout",
     "output_type": "stream",
     "text": [
      "enter word1dor\n",
      "enter word2omer\n",
      "dor comes before omer\n"
     ]
    }
   ],
   "source": [
    "word1=input('enter word1')\n",
    "word2=input('enter word2')\n",
    "\n",
    "if word1 < word2:\n",
    "    print(f'{word1} comes before {word2}')\n",
    "else:\n",
    "    print(f'{word2} comes before {word1}')"
   ]
  },
  {
   "cell_type": "code",
   "execution_count": 40,
   "id": "caaa1d8a",
   "metadata": {},
   "outputs": [
    {
     "name": "stdout",
     "output_type": "stream",
     "text": [
      "enter your namelior\n",
      "enter your cityyavne\n",
      "bad name and bad city\n"
     ]
    }
   ],
   "source": [
    "name='maoz'\n",
    "city='ramat gan'\n",
    "\n",
    "name2=input('enter your name')\n",
    "city2=input('enter your city')\n",
    "\n",
    "if name==name2 and city==city2:\n",
    "    print('you must be me')\n",
    "elif name==name2 and city!=city2:\n",
    "    print('nice name, bad city')\n",
    "elif name!=name2 and city==city2:\n",
    "    print('we live in the same city')\n",
    "else:\n",
    "    print('bad name and bad city')\n",
    "          "
   ]
  },
  {
   "cell_type": "code",
   "execution_count": 43,
   "id": "1ccd7076",
   "metadata": {},
   "outputs": [],
   "source": [
    "secret=1981"
   ]
  },
  {
   "cell_type": "code",
   "execution_count": 56,
   "id": "488bf63f",
   "metadata": {},
   "outputs": [
    {
     "data": {
      "text/plain": [
       "1981"
      ]
     },
     "execution_count": 56,
     "metadata": {},
     "output_type": "execute_result"
    }
   ],
   "source": [
    "secret\n",
    "\n"
   ]
  },
  {
   "cell_type": "raw",
   "id": "8c7bd90e",
   "metadata": {},
   "source": [
    "\n",
    "guess=input('enter a guess')\n",
    "guess=int(guess)\n",
    "if guess > secret:\n",
    "    print('too high')\n",
    "elif guess < secret:\n",
    "    print('too low')\n",
    "else:\n",
    "    print('just right')"
   ]
  },
  {
   "cell_type": "code",
   "execution_count": 78,
   "id": "4b8280f8",
   "metadata": {},
   "outputs": [
    {
     "name": "stdout",
     "output_type": "stream",
     "text": [
      "enter a word: any\n",
      "good\n"
     ]
    }
   ],
   "source": [
    "word=input('enter a word: ')\n",
    "\n",
    "if word[0] == 'a' or word[0] =='e':\n",
    "    print('good')\n",
    "else:\n",
    "    print('bad')"
   ]
  },
  {
   "cell_type": "code",
   "execution_count": 98,
   "id": "31fdef19",
   "metadata": {},
   "outputs": [
    {
     "name": "stdout",
     "output_type": "stream",
     "text": [
      "please enter a guess: 200\n",
      "too high\n"
     ]
    }
   ],
   "source": [
    "secret=100\n",
    "\n",
    "guess=input('please enter a guess: ')\n",
    "\n",
    "if guess.isdigit():\n",
    "    guess=int(guess)\n",
    "    \n",
    "    if secret==guess:\n",
    "        print('you got it')\n",
    "    elif guess > secret:\n",
    "        print('too high')\n",
    "    else:\n",
    "        print('too low')\n",
    "else:\n",
    "    print('please enter numbers only')\n",
    "\n",
    "\n"
   ]
  },
  {
   "cell_type": "code",
   "execution_count": null,
   "id": "e6a6acba",
   "metadata": {},
   "outputs": [],
   "source": [
    "שיעור 2 !!!"
   ]
  },
  {
   "cell_type": "code",
   "execution_count": 102,
   "id": "29fa5de9",
   "metadata": {},
   "outputs": [
    {
     "name": "stdout",
     "output_type": "stream",
     "text": [
      "enter text:154dd99aa\n",
      "digits=5\n",
      "vowels=2\n",
      "others=2\n"
     ]
    }
   ],
   "source": [
    "digits=0\n",
    "vowels=0\n",
    "others=0\n",
    "\n",
    "text=input('enter text: '.strip())\n",
    "\n",
    "for one_character in text:\n",
    "    if one_character in 'aeiou':\n",
    "        vowels+=1\n",
    "    elif one_character.isdigit():\n",
    "        digits+=1\n",
    "    else:\n",
    "        others+=1\n",
    "print(f'digits={digits}')\n",
    "print(f'vowels={vowels}')\n",
    "print(f'others={others}')\n",
    "\n",
    "\n",
    "\n"
   ]
  },
  {
   "cell_type": "code",
   "execution_count": 106,
   "id": "20f604af",
   "metadata": {},
   "outputs": [
    {
     "ename": "IndentationError",
     "evalue": "unindent does not match any outer indentation level (<string>, line 11)",
     "output_type": "error",
     "traceback": [
      "\u001b[0;36m  File \u001b[0;32m<string>:11\u001b[0;36m\u001b[0m\n\u001b[0;31m    else:\u001b[0m\n\u001b[0m         ^\u001b[0m\n\u001b[0;31mIndentationError\u001b[0m\u001b[0;31m:\u001b[0m unindent does not match any outer indentation level\n"
     ]
    }
   ],
   "source": [
    "vowels=[]\n",
    "digits=[]\n",
    "others=[]\n",
    "\n",
    "while True \n",
    "    text=input(f'please enter text: ').strip\n",
    "\n",
    "    if text=='':\n",
    "        break\n",
    "    for one_character in text:\n",
    "    \n",
    "    \n",
    "\n",
    "\n",
    "        vowels.append(text)\n",
    " elif text.isdigit:\n",
    "        digits.append(text)\n",
    "    else:\n",
    "        others.append('ENTER')\n",
    "        \n",
    "        \n",
    "\n",
    "        \n"
   ]
  },
  {
   "cell_type": "code",
   "execution_count": 119,
   "id": "7c7572fb",
   "metadata": {},
   "outputs": [
    {
     "ename": "SyntaxError",
     "evalue": "expected ':' (360501405.py, line 3)",
     "output_type": "error",
     "traceback": [
      "\u001b[0;36m  Cell \u001b[0;32mIn[119], line 3\u001b[0;36m\u001b[0m\n\u001b[0;31m    for word in sentence\u001b[0m\n\u001b[0m                        ^\u001b[0m\n\u001b[0;31mSyntaxError\u001b[0m\u001b[0;31m:\u001b[0m expected ':'\n"
     ]
    }
   ],
   "source": [
    "sentence=input(f'please enter sentence: ').strip\n",
    "output=[]\n",
    "for word in sentence.split():\n",
    "    if word[0] in 'aeiou'\n",
    "        output.append(word+'way')\n",
    "        \n",
    "\n",
    "\n",
    "\n"
   ]
  },
  {
   "cell_type": "code",
   "execution_count": null,
   "id": "7fce462e",
   "metadata": {},
   "outputs": [
    {
     "name": "stdout",
     "output_type": "stream",
     "text": [
      "please enter order: tea\n",
      "tea is 5, total is now 5\n",
      "please enter order: cake\n",
      "cake is 8, total is now 13\n",
      "please enter order: orange\n",
      " we are out of orange today!\n",
      "please enter order: \n",
      " we are out of  today!\n"
     ]
    }
   ],
   "source": [
    "\n",
    "menu = {'sandwich':10,'tea':5,'apple':1,'cake':8}\n",
    "\n",
    "total=0\n",
    "\n",
    "while True:\n",
    "    order = input(f'please enter order: ').strip()\n",
    "  \n",
    "    if order =='  ':\n",
    "        break \n",
    "        \n",
    "    if order in menu:\n",
    "        price=menu[order]\n",
    "        total+=price\n",
    "        print(f'{order} is {price}, total is now {total}')\n",
    "    else:\n",
    "        print(f' we are out of {order} today!')\n",
    "print(f'total is {total}')\n",
    "    \n",
    "    \n",
    " \n",
    "    \n",
    "        \n",
    "    "
   ]
  },
  {
   "cell_type": "code",
   "execution_count": null,
   "id": "9c2ae14e",
   "metadata": {},
   "outputs": [],
   "source": [
    "rainful = {}\n",
    "while True:\n",
    "    city = input(f'please enter city: ').strip()\n",
    "    if city=='':\n",
    "        break\n",
    "    rain=input(f'please enter raim: ').strip()\n",
    "    rain-int(rain)\n",
    "    \n",
    "    if city in rainful:\n",
    "        \n",
    "   \n",
    "\n",
    "  \n"
   ]
  },
  {
   "cell_type": "code",
   "execution_count": null,
   "id": "21355162",
   "metadata": {},
   "outputs": [],
   "source": [
    "num_lines=0\n",
    "num_characters=0\n",
    "num_words=0\n",
    "\n",
    "file_name=input(f'please enter file name: ').strip()\n",
    "f=open(file_name)\n",
    "\n",
    "wc\n",
    "\n"
   ]
  },
  {
   "cell_type": "code",
   "execution_count": null,
   "id": "8464b7ed",
   "metadata": {},
   "outputs": [],
   "source": [
    "import random"
   ]
  },
  {
   "cell_type": "code",
   "execution_count": null,
   "id": "bd837b74",
   "metadata": {},
   "outputs": [],
   "source": [
    "random.randit(0,100)\n",
    "\n"
   ]
  },
  {
   "cell_type": "code",
   "execution_count": null,
   "id": "1e04cded",
   "metadata": {},
   "outputs": [],
   "source": [
    "import panda as pd\n"
   ]
  },
  {
   "cell_type": "code",
   "execution_count": 8,
   "id": "468524ad",
   "metadata": {},
   "outputs": [],
   "source": [
    "from pandas import Series, DataFrame"
   ]
  },
  {
   "cell_type": "code",
   "execution_count": 9,
   "id": "277542ea",
   "metadata": {},
   "outputs": [],
   "source": [
    "s=Series([10, 20, 30, 40, 50, 60, 70])"
   ]
  },
  {
   "cell_type": "code",
   "execution_count": 10,
   "id": "07c0c78e",
   "metadata": {},
   "outputs": [
    {
     "data": {
      "text/plain": [
       "0    10\n",
       "1    20\n",
       "2    30\n",
       "3    40\n",
       "4    50\n",
       "5    60\n",
       "6    70\n",
       "dtype: int64"
      ]
     },
     "execution_count": 10,
     "metadata": {},
     "output_type": "execute_result"
    }
   ],
   "source": [
    "s"
   ]
  },
  {
   "cell_type": "code",
   "execution_count": 7,
   "id": "abbf1cac",
   "metadata": {},
   "outputs": [
    {
     "ename": "NameError",
     "evalue": "name 'pd' is not defined",
     "output_type": "error",
     "traceback": [
      "\u001b[0;31m---------------------------------------------------------------------------\u001b[0m",
      "\u001b[0;31mNameError\u001b[0m                                 Traceback (most recent call last)",
      "Cell \u001b[0;32mIn[7], line 1\u001b[0m\n\u001b[0;32m----> 1\u001b[0m t\u001b[38;5;241m=\u001b[39m\u001b[43mpd\u001b[49m\u001b[38;5;241m.\u001b[39mSeries([\u001b[38;5;241m100\u001b[39m,\u001b[38;5;241m200\u001b[39m,\u001b[38;5;241m300\u001b[39m])\n",
      "\u001b[0;31mNameError\u001b[0m: name 'pd' is not defined"
     ]
    }
   ],
   "source": [
    "t=pd.Series([100,200,300])"
   ]
  },
  {
   "cell_type": "code",
   "execution_count": 11,
   "id": "4e5a3909",
   "metadata": {},
   "outputs": [
    {
     "data": {
      "text/plain": [
       "0    10\n",
       "1    20\n",
       "2    30\n",
       "3    40\n",
       "4    50\n",
       "5    60\n",
       "6    70\n",
       "dtype: int64"
      ]
     },
     "execution_count": 11,
     "metadata": {},
     "output_type": "execute_result"
    }
   ],
   "source": [
    "s"
   ]
  },
  {
   "cell_type": "code",
   "execution_count": 30,
   "id": "763712e8",
   "metadata": {},
   "outputs": [
    {
     "data": {
      "text/plain": [
       "01    28\n",
       "02    31\n",
       "03    33\n",
       "04    29\n",
       "05    30\n",
       "06    35\n",
       "07    34\n",
       "08    27\n",
       "09    26\n",
       "10    25\n",
       "dtype: int64"
      ]
     },
     "execution_count": 30,
     "metadata": {},
     "output_type": "execute_result"
    }
   ],
   "source": [
    "highs = Series([28,31,33,29,30,35,34,27,26,25],\n",
    "          index=('01 02 03 04 05 06 07 08 09 10').split())\n",
    "highs"
   ]
  },
  {
   "cell_type": "code",
   "execution_count": 19,
   "id": "ab9b01d2",
   "metadata": {},
   "outputs": [
    {
     "data": {
      "text/plain": [
       "11    13\n",
       "12    11\n",
       "13    12\n",
       "14    14\n",
       "15    15\n",
       "16    17\n",
       "17    19\n",
       "18    20\n",
       "19    21\n",
       "20    13\n",
       "dtype: int64"
      ]
     },
     "execution_count": 19,
     "metadata": {},
     "output_type": "execute_result"
    }
   ],
   "source": [
    "lows = Series([13,11,12,14,15,17,19,20,21,13],\n",
    "          index=[11,12,13,14,15,16,17,18,19,20])\n",
    "lows"
   ]
  },
  {
   "cell_type": "code",
   "execution_count": 22,
   "id": "1c66ee07",
   "metadata": {},
   "outputs": [
    {
     "data": {
      "text/plain": [
       "11    15\n",
       "12    20\n",
       "13    21\n",
       "14    15\n",
       "15    15\n",
       "16    18\n",
       "17    15\n",
       "18     7\n",
       "19     5\n",
       "20    12\n",
       "dtype: int64"
      ]
     },
     "execution_count": 22,
     "metadata": {},
     "output_type": "execute_result"
    }
   ],
   "source": [
    "highs-lows"
   ]
  },
  {
   "cell_type": "code",
   "execution_count": 24,
   "id": "52249b2f",
   "metadata": {},
   "outputs": [],
   "source": [
    "diffs=highs-lows\n"
   ]
  },
  {
   "cell_type": "code",
   "execution_count": 25,
   "id": "61b1f173",
   "metadata": {},
   "outputs": [
    {
     "data": {
      "text/plain": [
       "count    0.0\n",
       "mean     NaN\n",
       "std      NaN\n",
       "min      NaN\n",
       "25%      NaN\n",
       "50%      NaN\n",
       "75%      NaN\n",
       "max      NaN\n",
       "dtype: float64"
      ]
     },
     "execution_count": 25,
     "metadata": {},
     "output_type": "execute_result"
    }
   ],
   "source": [
    "diffs.loc['05':'09'].describe()"
   ]
  },
  {
   "cell_type": "code",
   "execution_count": 39,
   "id": "9077b730",
   "metadata": {},
   "outputs": [],
   "source": [
    "family = Series([15,39,43,46,75,80],\n",
    "              index='tali aviad maoz sharon helit izzy'.split())"
   ]
  },
  {
   "cell_type": "code",
   "execution_count": 35,
   "id": "2f13fcae",
   "metadata": {},
   "outputs": [
    {
     "data": {
      "text/plain": [
       "tali      38\n",
       "aviad     39\n",
       "maoz      43\n",
       "sharon    46\n",
       "helit     75\n",
       "izzy      80\n",
       "dtype: int64"
      ]
     },
     "execution_count": 35,
     "metadata": {},
     "output_type": "execute_result"
    }
   ],
   "source": [
    "family"
   ]
  },
  {
   "cell_type": "code",
   "execution_count": 36,
   "id": "2bd86934",
   "metadata": {},
   "outputs": [
    {
     "data": {
      "text/plain": [
       "maoz      43\n",
       "sharon    46\n",
       "helit     75\n",
       "izzy      80\n",
       "dtype: int64"
      ]
     },
     "execution_count": 36,
     "metadata": {},
     "output_type": "execute_result"
    }
   ],
   "source": [
    "family.loc[ family > s.mean()  ]"
   ]
  },
  {
   "cell_type": "code",
   "execution_count": 38,
   "id": "4175841a",
   "metadata": {},
   "outputs": [
    {
     "data": {
      "text/plain": [
       "tali      False\n",
       "aviad     False\n",
       "maoz      False\n",
       "sharon    False\n",
       "helit     False\n",
       "izzy      False\n",
       "dtype: bool"
      ]
     },
     "execution_count": 38,
     "metadata": {},
     "output_type": "execute_result"
    }
   ],
   "source": [
    "family < family.std()"
   ]
  },
  {
   "cell_type": "code",
   "execution_count": 40,
   "id": "e6b5fb67",
   "metadata": {},
   "outputs": [
    {
     "data": {
      "text/plain": [
       "tali      15\n",
       "aviad     39\n",
       "maoz      43\n",
       "sharon    46\n",
       "helit     75\n",
       "izzy      80\n",
       "dtype: int64"
      ]
     },
     "execution_count": 40,
     "metadata": {},
     "output_type": "execute_result"
    }
   ],
   "source": [
    "family"
   ]
  },
  {
   "cell_type": "code",
   "execution_count": 42,
   "id": "edac1d2d",
   "metadata": {},
   "outputs": [
    {
     "data": {
      "text/plain": [
       "tali       True\n",
       "aviad     False\n",
       "maoz      False\n",
       "sharon    False\n",
       "helit     False\n",
       "izzy      False\n",
       "dtype: bool"
      ]
     },
     "execution_count": 42,
     "metadata": {},
     "output_type": "execute_result"
    }
   ],
   "source": [
    "family < family.std()"
   ]
  },
  {
   "cell_type": "code",
   "execution_count": 44,
   "id": "9a893590",
   "metadata": {},
   "outputs": [
    {
     "data": {
      "text/plain": [
       "0    10\n",
       "1    20\n",
       "2    30\n",
       "3    40\n",
       "4    50\n",
       "dtype: int64"
      ]
     },
     "execution_count": 44,
     "metadata": {},
     "output_type": "execute_result"
    }
   ],
   "source": [
    "highs=Series([10,20,30,40,50])\n",
    "highs"
   ]
  },
  {
   "cell_type": "code",
   "execution_count": 45,
   "id": "2320b546",
   "metadata": {},
   "outputs": [
    {
     "data": {
      "text/plain": [
       "0   -22\n",
       "1   -12\n",
       "2    -2\n",
       "3     8\n",
       "4    18\n",
       "dtype: int64"
      ]
     },
     "execution_count": 45,
     "metadata": {},
     "output_type": "execute_result"
    }
   ],
   "source": [
    "F=Series(highs-32)\n",
    "F"
   ]
  },
  {
   "cell_type": "code",
   "execution_count": null,
   "id": "6c67bf5e",
   "metadata": {},
   "outputs": [],
   "source": []
  }
 ],
 "metadata": {
  "kernelspec": {
   "display_name": "Python 3 (ipykernel)",
   "language": "python",
   "name": "python3"
  },
  "language_info": {
   "codemirror_mode": {
    "name": "ipython",
    "version": 3
   },
   "file_extension": ".py",
   "mimetype": "text/x-python",
   "name": "python",
   "nbconvert_exporter": "python",
   "pygments_lexer": "ipython3",
   "version": "3.12.7"
  }
 },
 "nbformat": 4,
 "nbformat_minor": 5
}
