{
 "cells": [
  {
   "cell_type": "code",
   "execution_count": 1,
   "id": "bdd62ffd",
   "metadata": {},
   "outputs": [
    {
     "name": "stdout",
     "output_type": "stream",
     "text": [
      "Hello Merav\n"
     ]
    }
   ],
   "source": [
    "print('Hello Merav')"
   ]
  },
  {
   "cell_type": "code",
   "execution_count": 2,
   "id": "18f8385a",
   "metadata": {},
   "outputs": [
    {
     "name": "stdout",
     "output_type": "stream",
     "text": [
      "100\n"
     ]
    }
   ],
   "source": [
    "x=100\n",
    "print (x)"
   ]
  },
  {
   "cell_type": "code",
   "execution_count": 3,
   "id": "9fc3b31e",
   "metadata": {},
   "outputs": [
    {
     "name": "stdout",
     "output_type": "stream",
     "text": [
      "x\n"
     ]
    }
   ],
   "source": [
    "print ('x')"
   ]
  },
  {
   "cell_type": "code",
   "execution_count": 4,
   "id": "686e40e7",
   "metadata": {
    "scrolled": true
   },
   "outputs": [
    {
     "data": {
      "text/plain": [
       "105"
      ]
     },
     "execution_count": 4,
     "metadata": {},
     "output_type": "execute_result"
    }
   ],
   "source": [
    "x+5"
   ]
  },
  {
   "cell_type": "code",
   "execution_count": 6,
   "id": "63619ba3",
   "metadata": {},
   "outputs": [
    {
     "name": "stdout",
     "output_type": "stream",
     "text": [
      "Enter your name: Merav\n"
     ]
    }
   ],
   "source": [
    "name= input('Enter your name: ')"
   ]
  },
  {
   "cell_type": "code",
   "execution_count": 7,
   "id": "c060492f",
   "metadata": {},
   "outputs": [
    {
     "name": "stdout",
     "output_type": "stream",
     "text": [
      "Enter your city: Jerusalem\n"
     ]
    }
   ],
   "source": [
    "city = input ('Enter your city: ')"
   ]
  },
  {
   "cell_type": "code",
   "execution_count": 13,
   "id": "0a1603bc",
   "metadata": {},
   "outputs": [
    {
     "name": "stdout",
     "output_type": "stream",
     "text": [
      "Hello, Merav, from Jerusalem!\n"
     ]
    }
   ],
   "source": [
    "print ('Hello, ' + name + ', from ' + city+ '!')"
   ]
  },
  {
   "cell_type": "code",
   "execution_count": 14,
   "id": "6fb59a18",
   "metadata": {},
   "outputs": [
    {
     "name": "stdout",
     "output_type": "stream",
     "text": [
      "Hello, Merav, from Jerusalem!\n"
     ]
    }
   ],
   "source": [
    "print(f'Hello, {name}, from {city}!')"
   ]
  },
  {
   "cell_type": "code",
   "execution_count": null,
   "id": "bbd358c2",
   "metadata": {},
   "outputs": [],
   "source": [
    "name = input('Enter your name')"
   ]
  },
  {
   "cell_type": "code",
   "execution_count": 17,
   "id": "cb6bfff1",
   "metadata": {},
   "outputs": [
    {
     "name": "stdout",
     "output_type": "stream",
     "text": [
      "Enter your name: Merav\n",
      "Hello you, good morning\n"
     ]
    }
   ],
   "source": [
    "name = input ('Enter your name: ')\n",
    "\n",
    "if name == 'Merav':\n",
    "    print('Hello you, good morning')\n",
    "else:\n",
    "    print(f'Hello {name}, good morning')"
   ]
  },
  {
   "cell_type": "code",
   "execution_count": 29,
   "id": "7458f17a",
   "metadata": {},
   "outputs": [
    {
     "name": "stdout",
     "output_type": "stream",
     "text": [
      "Enter your name: Merav\n",
      "Enter your city: Jerusalem\n",
      "You must be me\n"
     ]
    }
   ],
   "source": [
    "name = input('Enter your name: ')\n",
    "city = input('Enter your city: ')\n",
    "\n",
    "if name == \"Merav\" and city == \"Jerusalem\":\n",
    "    print ('You must be me')\n",
    "elif name == \"Merav\" and city != \"jerusalem\":\n",
    "    print ('Nice name, bad city')\n",
    "elif name != \"Merav\" and city == \"Jerusalem\":\n",
    "    print ('We live in the same city')\n",
    "else:\n",
    "    print ('Bad name and bad city')\n",
    "    "
   ]
  },
  {
   "cell_type": "code",
   "execution_count": 39,
   "id": "55e8717c",
   "metadata": {},
   "outputs": [
    {
     "name": "stdout",
     "output_type": "stream",
     "text": [
      "enter a guess: 100\n",
      "just right\n"
     ]
    }
   ],
   "source": [
    "x=100\n",
    "secret=100\n",
    "guess = input ('enter a guess: ')\n",
    "guess = int (guess)\n",
    "\n",
    "if guess < secret:\n",
    "    print ('too low')\n",
    "elif guess > secret:\n",
    "    print ('too high')\n",
    "else:\n",
    "    print ('just right')"
   ]
  },
  {
   "cell_type": "code",
   "execution_count": 59,
   "id": "16a84abe",
   "metadata": {},
   "outputs": [
    {
     "name": "stdout",
     "output_type": "stream",
     "text": [
      "Enter a word:elephant\n",
      "elephantway\n"
     ]
    }
   ],
   "source": [
    "word = input('Enter a word:')\n",
    "\n",
    "if word[0] in 'aeiou':\n",
    "    print (word + 'way')\n",
    "else:\n",
    "    print (word[1:] + word[0] +'ay')"
   ]
  },
  {
   "cell_type": "code",
   "execution_count": null,
   "id": "9634ebc6",
   "metadata": {},
   "outputs": [],
   "source": []
  }
 ],
 "metadata": {
  "kernelspec": {
   "display_name": "Python 3 (ipykernel)",
   "language": "python",
   "name": "python3"
  },
  "language_info": {
   "codemirror_mode": {
    "name": "ipython",
    "version": 3
   },
   "file_extension": ".py",
   "mimetype": "text/x-python",
   "name": "python",
   "nbconvert_exporter": "python",
   "pygments_lexer": "ipython3",
   "version": "3.12.7"
  }
 },
 "nbformat": 4,
 "nbformat_minor": 5
}
