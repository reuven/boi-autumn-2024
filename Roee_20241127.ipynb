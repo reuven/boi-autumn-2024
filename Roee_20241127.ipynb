{
 "cells": [
  {
   "cell_type": "code",
   "execution_count": 1,
   "id": "5fc51340",
   "metadata": {},
   "outputs": [
    {
     "name": "stdout",
     "output_type": "stream",
     "text": [
      "a\n",
      "b\n",
      "c\n",
      "d\n"
     ]
    }
   ],
   "source": [
    "s= 'abcd'\n",
    "for x in s:\n",
    "    print (x)\n",
    "    "
   ]
  },
  {
   "cell_type": "code",
   "execution_count": 3,
   "id": "fed5d9e3",
   "metadata": {},
   "outputs": [
    {
     "name": "stdout",
     "output_type": "stream",
     "text": [
      "0 yea\n",
      "1 yea\n",
      "2 yea\n"
     ]
    }
   ],
   "source": [
    "for a in range(3):\n",
    "    print(f'{a} yea')"
   ]
  },
  {
   "cell_type": "code",
   "execution_count": 4,
   "id": "a94dc3f1",
   "metadata": {},
   "outputs": [
    {
     "name": "stdout",
     "output_type": "stream",
     "text": [
      "3\n",
      "6\n",
      "9\n",
      "12\n",
      "15\n",
      "18\n",
      "21\n",
      "24\n"
     ]
    }
   ],
   "source": [
    "for i in range (3,27,3):\n",
    "    print(i)"
   ]
  },
  {
   "cell_type": "code",
   "execution_count": 9,
   "id": "e5557e68",
   "metadata": {},
   "outputs": [
    {
     "name": "stdout",
     "output_type": "stream",
     "text": [
      "Enter youe text: hello roee 87654\n",
      "The number of digits is 5,\n",
      "The number of vowels is 5\n",
      "The number of others is 6\n"
     ]
    }
   ],
   "source": [
    "digits=0\n",
    "vowels=0\n",
    "others=0\n",
    "text = input('Enter youe text: ')\n",
    "\n",
    "for charecter in text:\n",
    "    if charecter.isdigit():\n",
    "        digits +=1\n",
    "    elif charecter in 'aeiou':\n",
    "        vowels+=1\n",
    "    else:\n",
    "        others+=1\n",
    "\n",
    "print (f'The number of digits is {digits}\\nThe number of vowels is {vowels}\\nThe number of others is {others}')\n",
    "       \n",
    "    "
   ]
  },
  {
   "cell_type": "code",
   "execution_count": 13,
   "id": "248bd639",
   "metadata": {},
   "outputs": [
    {
     "name": "stdout",
     "output_type": "stream",
     "text": [
      "Enter text: hello!\n",
      "Enter text: 145\n",
      "Enter text: \n",
      "vowels: ['e', 'o']\n",
      "digits: ['1', '4', '5']\n",
      "others: ['h', 'l', 'l', '!']\n"
     ]
    }
   ],
   "source": [
    "digits=[]\n",
    "vowels=[]\n",
    "others=[]\n",
    "\n",
    "while True:\n",
    "    text = input('Enter text: ').strip()    \n",
    "    if text=='':\n",
    "        break    \n",
    "    for charecter in text:\n",
    "        if charecter.isdigit():\n",
    "            digits.append(charecter)\n",
    "        elif charecter in 'aeiou':\n",
    "            vowels.append(charecter)\n",
    "        else:\n",
    "            others.append(charecter)\n",
    "    \n",
    "\n",
    "print (f'vowels: {vowels}')\n",
    "print (f'digits: {digits}')\n",
    "print (f'others: {others}')"
   ]
  },
  {
   "cell_type": "code",
   "execution_count": 1,
   "id": "145c203b",
   "metadata": {},
   "outputs": [
    {
     "name": "stdout",
     "output_type": "stream",
     "text": [
      "Enter text: sdfsdfsdfsdf sdf\n",
      "dfsdfsdfsdfsay dfsay\n"
     ]
    }
   ],
   "source": [
    "text = input('Enter text: ').strip() \n",
    "piglatin=[]\n",
    "\n",
    "words=text.split()\n",
    "\n",
    "for word in words:\n",
    "    if word[0] in 'aeiou':    # if the word starts with a vowel, add 'way'\n",
    "        piglatin.append(word + 'way')\n",
    "    else:\n",
    "        piglatin.append(word[1:] + word[0] + 'ay')   # otherwise, first letter to end, add 'ay'\n",
    "        \n",
    "print (' '.join(piglatin))"
   ]
  },
  {
   "cell_type": "code",
   "execution_count": 6,
   "id": "891a49f7",
   "metadata": {},
   "outputs": [
    {
     "name": "stdout",
     "output_type": "stream",
     "text": [
      "Enter your order: egg\n",
      "egg is 7, total is 7\n",
      "Enter your order: sandwich\n",
      "sandwich is 10, total is 17\n",
      "Enter your order: salad\n",
      "salad is 12, total is 29\n",
      "Enter your order: y\n",
      "Sorry, we re out of y today!\n",
      "Enter your order: \n",
      "total is 29\n"
     ]
    }
   ],
   "source": [
    "menu = {'sandwich':10, 'tea':5, 'egg':7, 'icecream':8, 'steak':20, 'salad':12}\n",
    "total=0\n",
    "\n",
    "while True:\n",
    "    order = input('Enter your order: ').strip()\n",
    "    if order=='':\n",
    "        break\n",
    "    if order in menu:\n",
    "        total+=menu[order]\n",
    "        print (f'{order} is {menu[order]}, total is {total}')\n",
    "    else:\n",
    "        print (f'Sorry, we re out of {order} today!')\n",
    "    \n",
    "print(f'total is {total}')"
   ]
  },
  {
   "cell_type": "code",
   "execution_count": 11,
   "id": "75d787cd",
   "metadata": {},
   "outputs": [
    {
     "name": "stdout",
     "output_type": "stream",
     "text": [
      "Enter city name: א\n",
      "Enter rainfall: 6\n",
      "Enter city name: ר\n",
      "Enter rainfall: 4\n",
      "Enter city name: א\n",
      "Enter rainfall: 6\n",
      "Enter city name: \n",
      "{'א': 12, 'ר': 4}\n"
     ]
    }
   ],
   "source": [
    "rainfall={}\n",
    "\n",
    "while True:\n",
    "    city = input('Enter city name: ').strip()\n",
    "    \n",
    "    if city=='':\n",
    "        break\n",
    "    \n",
    "    rain = int(input('Enter rainfall: '))\n",
    "    \n",
    "    if city in rainfall:\n",
    "        rainfall[city] += rain\n",
    "    else:\n",
    "        rainfall[city] = rain\n",
    "\n",
    "print(rainfall)\n",
    "    "
   ]
  },
  {
   "cell_type": "code",
   "execution_count": null,
   "id": "c6a93f66",
   "metadata": {},
   "outputs": [],
   "source": [
    "filename='wcfile.txt'\n",
    "f = open(filename)\n",
    "\n",
    "counts = {'lines':0, 'words':0, 'chars':0}\n",
    "\n",
    "\n",
    "for one_line in f:\n",
    "    counts['lines'] += 1\n",
    "    counts['chars'] += len(one_line)\n",
    "    counts['words'] += len(one_line.split())\n",
    "    \n",
    "for key, value in counts.items():\n",
    "    print(f'{key}: {value}')\n",
    " \n",
    "        \n",
    "\n",
    "    "
   ]
  },
  {
   "cell_type": "code",
   "execution_count": 33,
   "id": "3ae1dfa7",
   "metadata": {},
   "outputs": [
    {
     "name": "stdout",
     "output_type": "stream",
     "text": [
      "Enter your geuss: 5\n",
      "number is bigger\n",
      "Enter your geuss: 7\n",
      "number is bigger\n",
      "Enter your geuss: 9\n",
      "number is bigger\n",
      "Enter your geuss: 10\n",
      "well done!\n"
     ]
    }
   ],
   "source": [
    "import random\n",
    "\n",
    "number=random.randint(1,10)\n",
    "guess=0\n",
    "\n",
    "while True:\n",
    "    guess=input('Enter your geuss: ')\n",
    "    \n",
    "    if guess.isdigit():\n",
    "        guess=int(guess)\n",
    "        if guess == number:\n",
    "            print('well done!')\n",
    "            break\n",
    "        elif guess < number:\n",
    "            print ('number is bigger')\n",
    "        else:\n",
    "            print ('number is smaller')\n",
    "    else:\n",
    "        print('not valid! enter a number')\n",
    "        "
   ]
  },
  {
   "cell_type": "code",
   "execution_count": 35,
   "id": "5fe8db43",
   "metadata": {},
   "outputs": [
    {
     "name": "stdout",
     "output_type": "stream",
     "text": [
      "\u001b[1;31merror\u001b[0m: \u001b[1mexternally-managed-environment\u001b[0m\n",
      "\n",
      "\u001b[31m×\u001b[0m This environment is externally managed\n",
      "\u001b[31m╰─>\u001b[0m To install Python packages system-wide, try apt install\n",
      "\u001b[31m   \u001b[0m python3-xyz, where xyz is the package you are trying to\n",
      "\u001b[31m   \u001b[0m install.\n",
      "\u001b[31m   \u001b[0m \n",
      "\u001b[31m   \u001b[0m If you wish to install a non-Debian-packaged Python package,\n",
      "\u001b[31m   \u001b[0m create a virtual environment using python3 -m venv path/to/venv.\n",
      "\u001b[31m   \u001b[0m Then use path/to/venv/bin/python and path/to/venv/bin/pip. Make\n",
      "\u001b[31m   \u001b[0m sure you have python3-full installed.\n",
      "\u001b[31m   \u001b[0m \n",
      "\u001b[31m   \u001b[0m If you wish to install a non-Debian packaged Python application,\n",
      "\u001b[31m   \u001b[0m it may be easiest to use pipx install xyz, which will manage a\n",
      "\u001b[31m   \u001b[0m virtual environment for you. Make sure you have pipx installed.\n",
      "\u001b[31m   \u001b[0m \n",
      "\u001b[31m   \u001b[0m See /usr/share/doc/python3.12/README.venv for more information.\n",
      "\n",
      "\u001b[1;35mnote\u001b[0m: If you believe this is a mistake, please contact your Python installation or OS distribution provider. You can override this, at the risk of breaking your Python installation or OS, by passing --break-system-packages.\n",
      "\u001b[1;36mhint\u001b[0m: See PEP 668 for the detailed specification.\n",
      "Note: you may need to restart the kernel to use updated packages.\n"
     ]
    }
   ],
   "source": [
    "%pip install python3-rich"
   ]
  }
 ],
 "metadata": {
  "kernelspec": {
   "display_name": "Python 3 (ipykernel)",
   "language": "python",
   "name": "python3"
  },
  "language_info": {
   "codemirror_mode": {
    "name": "ipython",
    "version": 3
   },
   "file_extension": ".py",
   "mimetype": "text/x-python",
   "name": "python",
   "nbconvert_exporter": "python",
   "pygments_lexer": "ipython3",
   "version": "3.12.7"
  }
 },
 "nbformat": 4,
 "nbformat_minor": 5
}
