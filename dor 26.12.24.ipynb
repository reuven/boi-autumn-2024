{
 "cells": [
  {
   "cell_type": "code",
   "execution_count": 73,
   "id": "93beb940",
   "metadata": {},
   "outputs": [],
   "source": [
    "import pandas as pd\n",
    "from pandas import Series, DataFrame"
   ]
  },
  {
   "cell_type": "code",
   "execution_count": 36,
   "id": "576925d3",
   "metadata": {},
   "outputs": [
    {
     "name": "stdout",
     "output_type": "stream",
     "text": [
      "enter a string of integers and words10 5 325 word 2 panda\n"
     ]
    }
   ],
   "source": [
    "text=input('enter a string of integers and words').strip()\n",
    "s = Series(text.split())"
   ]
  },
  {
   "cell_type": "code",
   "execution_count": 38,
   "id": "4c6f4bab",
   "metadata": {},
   "outputs": [
    {
     "data": {
      "text/plain": [
       "4.5"
      ]
     },
     "execution_count": 38,
     "metadata": {},
     "output_type": "execute_result"
    }
   ],
   "source": [
    "s.loc[~s.str.isdigit()].str.len().mean()"
   ]
  },
  {
   "cell_type": "code",
   "execution_count": 46,
   "id": "0b77b648",
   "metadata": {},
   "outputs": [
    {
     "data": {
      "text/plain": [
       "85.5"
      ]
     },
     "execution_count": 46,
     "metadata": {},
     "output_type": "execute_result"
    }
   ],
   "source": [
    "(\n",
    "    s                        # start with series of words\n",
    "    .loc[s.str.isdigit()]    # keep only digit words\n",
    "    .astype(int)             # get a series of ints\n",
    "    .mean()\n",
    ")"
   ]
  },
  {
   "cell_type": "code",
   "execution_count": 47,
   "id": "e4490139",
   "metadata": {},
   "outputs": [
    {
     "data": {
      "text/plain": [
       "5    panda\n",
       "dtype: object"
      ]
     },
     "execution_count": 47,
     "metadata": {},
     "output_type": "execute_result"
    }
   ],
   "source": [
    "max_word_length = (\n",
    "    s                        # start with series of words\n",
    "    .loc[~s.str.isdigit()]   # keep only non-digit words\n",
    "    .str.len()               # get length of each word\n",
    "    .max()                  # calculate mean on the series of lengths\n",
    ")\n",
    "\n",
    "s.loc[s.str.len() == max_word_length]"
   ]
  },
  {
   "cell_type": "code",
   "execution_count": 74,
   "id": "040ac4cb",
   "metadata": {},
   "outputs": [
    {
     "data": {
      "text/plain": [
       "VendorID                          int64\n",
       "tpep_pickup_datetime     datetime64[ns]\n",
       "tpep_dropoff_datetime    datetime64[ns]\n",
       "passenger_count                   int64\n",
       "trip_distance                   float64\n",
       "pickup_longitude                float64\n",
       "pickup_latitude                 float64\n",
       "RateCodeID                        int64\n",
       "store_and_fwd_flag               object\n",
       "dropoff_longitude               float64\n",
       "dropoff_latitude                float64\n",
       "payment_type                      int64\n",
       "fare_amount                     float64\n",
       "extra                           float64\n",
       "mta_tax                         float64\n",
       "tip_amount                      float64\n",
       "tolls_amount                    float64\n",
       "improvement_surcharge           float64\n",
       "total_amount                    float64\n",
       "dtype: object"
      ]
     },
     "execution_count": 74,
     "metadata": {},
     "output_type": "execute_result"
    }
   ],
   "source": [
    "df = pd.read_csv('taxi.csv',\n",
    "                 parse_dates=['tpep_pickup_datetime',\n",
    "                             'tpep_dropoff_datetime'])\n",
    "df.dtypes"
   ]
  },
  {
   "cell_type": "code",
   "execution_count": 80,
   "id": "e77b2bbb",
   "metadata": {},
   "outputs": [
    {
     "data": {
      "text/plain": [
       "17.420879297732263"
      ]
     },
     "execution_count": 80,
     "metadata": {},
     "output_type": "execute_result"
    }
   ],
   "source": [
    "df.loc[df['tpep_pickup_datetime'].dt.hour<12, 'total_amount'].mean()"
   ]
  },
  {
   "cell_type": "code",
   "execution_count": 81,
   "id": "5db3a40b",
   "metadata": {},
   "outputs": [
    {
     "data": {
      "text/plain": [
       "2.6611988171064604"
      ]
     },
     "execution_count": 81,
     "metadata": {},
     "output_type": "execute_result"
    }
   ],
   "source": [
    "df.loc[df['tpep_pickup_datetime'].dt.day_of_week==1, 'trip_distance'].mean()"
   ]
  },
  {
   "cell_type": "code",
   "execution_count": null,
   "id": "6df41f2d",
   "metadata": {},
   "outputs": [],
   "source": []
  }
 ],
 "metadata": {
  "kernelspec": {
   "display_name": "Python 3 (ipykernel)",
   "language": "python",
   "name": "python3"
  },
  "language_info": {
   "codemirror_mode": {
    "name": "ipython",
    "version": 3
   },
   "file_extension": ".py",
   "mimetype": "text/x-python",
   "name": "python",
   "nbconvert_exporter": "python",
   "pygments_lexer": "ipython3",
   "version": "3.12.7"
  }
 },
 "nbformat": 4,
 "nbformat_minor": 5
}
