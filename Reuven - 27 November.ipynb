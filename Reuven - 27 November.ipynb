{
 "cells": [
  {
   "cell_type": "markdown",
   "id": "8ad5267d",
   "metadata": {},
   "source": [
    "# https://python.lerner.co.il\n",
    "\n",
    "Password: boipw!!"
   ]
  },
  {
   "cell_type": "markdown",
   "id": "624c5d66",
   "metadata": {},
   "source": [
    "# Agenda\n",
    "\n",
    "1. Loops\n",
    "2. List\n",
    "3. Dictionary\n",
    "4. Files\n",
    "5. Modules"
   ]
  },
  {
   "cell_type": "code",
   "execution_count": 1,
   "id": "a3405773",
   "metadata": {},
   "outputs": [
    {
     "name": "stdout",
     "output_type": "stream",
     "text": [
      "a\n",
      "b\n",
      "c\n",
      "d\n"
     ]
    }
   ],
   "source": [
    "s = 'abcd'\n",
    "\n",
    "print(s[0])\n",
    "print(s[1])\n",
    "print(s[2])\n",
    "print(s[3])"
   ]
  },
  {
   "cell_type": "markdown",
   "id": "d2813ba5",
   "metadata": {},
   "source": [
    "# Loops\n",
    "\n",
    "1. `for` loops\n",
    "2. `while` loops"
   ]
  },
  {
   "cell_type": "code",
   "execution_count": 2,
   "id": "3687f562",
   "metadata": {},
   "outputs": [
    {
     "name": "stdout",
     "output_type": "stream",
     "text": [
      "a\n",
      "b\n",
      "c\n",
      "d\n"
     ]
    }
   ],
   "source": [
    "s = 'abcd'\n",
    "\n",
    "for one_character in s:\n",
    "    print(one_character)"
   ]
  },
  {
   "cell_type": "code",
   "execution_count": 3,
   "id": "0e22658c",
   "metadata": {},
   "outputs": [
    {
     "name": "stdout",
     "output_type": "stream",
     "text": [
      "c\n",
      "d\n"
     ]
    }
   ],
   "source": [
    "s = 'abcd'\n",
    "\n",
    "for one_character in s[2:]:\n",
    "    print(one_character)"
   ]
  },
  {
   "cell_type": "code",
   "execution_count": 4,
   "id": "23d072f3",
   "metadata": {},
   "outputs": [
    {
     "ename": "TypeError",
     "evalue": "'int' object is not iterable",
     "output_type": "error",
     "traceback": [
      "\u001b[0;31m---------------------------------------------------------------------------\u001b[0m",
      "\u001b[0;31mTypeError\u001b[0m                                 Traceback (most recent call last)",
      "Cell \u001b[0;32mIn[4], line 1\u001b[0m\n\u001b[0;32m----> 1\u001b[0m \u001b[38;5;28;01mfor\u001b[39;00m counter \u001b[38;5;129;01min\u001b[39;00m \u001b[38;5;241m3\u001b[39m:\n\u001b[1;32m      2\u001b[0m     \u001b[38;5;28mprint\u001b[39m(\u001b[38;5;124m'\u001b[39m\u001b[38;5;124mHooray\u001b[39m\u001b[38;5;124m'\u001b[39m)\n",
      "\u001b[0;31mTypeError\u001b[0m: 'int' object is not iterable"
     ]
    }
   ],
   "source": [
    "for counter in 3:\n",
    "    print('Hooray')"
   ]
  },
  {
   "cell_type": "code",
   "execution_count": 5,
   "id": "d129c924",
   "metadata": {},
   "outputs": [
    {
     "name": "stdout",
     "output_type": "stream",
     "text": [
      "Hooray\n",
      "Hooray\n",
      "Hooray\n"
     ]
    }
   ],
   "source": [
    "for counter in range(3):    # use range(n) for n iterations\n",
    "    print('Hooray')"
   ]
  },
  {
   "cell_type": "code",
   "execution_count": 6,
   "id": "bea93e11",
   "metadata": {},
   "outputs": [
    {
     "name": "stdout",
     "output_type": "stream",
     "text": [
      "0 Hooray\n",
      "1 Hooray\n",
      "2 Hooray\n"
     ]
    }
   ],
   "source": [
    "for counter in range(3):    # range(3) gives me 0, 1, 2\n",
    "    print(f'{counter} Hooray')"
   ]
  },
  {
   "cell_type": "code",
   "execution_count": 7,
   "id": "6639e47c",
   "metadata": {},
   "outputs": [
    {
     "name": "stdout",
     "output_type": "stream",
     "text": [
      "0\n",
      "1\n",
      "2\n",
      "3\n",
      "4\n"
     ]
    }
   ],
   "source": [
    "# to end a loop early, use break\n",
    "# if we've achieved our goal early\n",
    "\n",
    "for counter in range(10):\n",
    "    if counter == 5:\n",
    "        break\n",
    "    print(counter)"
   ]
  },
  {
   "cell_type": "code",
   "execution_count": 10,
   "id": "469129b9",
   "metadata": {},
   "outputs": [
    {
     "name": "stdout",
     "output_type": "stream",
     "text": [
      "0\n",
      "1\n",
      "2\n",
      "3\n",
      "4\n",
      "6\n",
      "7\n",
      "8\n",
      "9\n"
     ]
    }
   ],
   "source": [
    "# to end the current iteration early, use continue\n",
    "# if there's no reason to continue with the current one\n",
    "\n",
    "for counter in range(10):\n",
    "    if counter == 5:\n",
    "        continue    # go onto the next iteration\n",
    "    print(counter)"
   ]
  },
  {
   "cell_type": "code",
   "execution_count": 11,
   "id": "340cd2cd",
   "metadata": {},
   "outputs": [
    {
     "name": "stdout",
     "output_type": "stream",
     "text": [
      "Looking for j.... found a\n",
      "Looking for j.... found b\n",
      "Looking for j.... found c\n",
      "Looking for j.... found d\n",
      "Looking for j.... found e\n",
      "Looking for j.... found f\n",
      "Looking for j.... found g\n",
      "Looking for j.... found h\n",
      "Looking for j.... found i\n",
      "Found j! Exiting\n"
     ]
    }
   ],
   "source": [
    "s = 'abcdefghijklmnopqrstuvwxyz'\n",
    "\n",
    "to_find = 'j'\n",
    "\n",
    "for one_character in s:\n",
    "    if one_character == to_find:\n",
    "        print(f'Found {to_find}! Exiting')\n",
    "        break\n",
    "    print(f'Looking for {to_find}.... found {one_character}')"
   ]
  },
  {
   "cell_type": "code",
   "execution_count": 12,
   "id": "c378906c",
   "metadata": {},
   "outputs": [
    {
     "name": "stdout",
     "output_type": "stream",
     "text": [
      "Found j! Exiting\n"
     ]
    }
   ],
   "source": [
    "s = 'abcdefghijklmnopqrstuvwxyz'\n",
    "\n",
    "to_find = 'j'\n",
    "\n",
    "for one_character in s:\n",
    "    if one_character != to_find:\n",
    "        continue\n",
    "    print(f'Found {to_find}! Exiting')\n"
   ]
  },
  {
   "cell_type": "code",
   "execution_count": 17,
   "id": "76e7097f",
   "metadata": {},
   "outputs": [],
   "source": [
    "# s = 'abcdefghijklmnopqrstuvwxyz'\n",
    "s = 'abcde'\n",
    "\n",
    "to_find = 'jklmn'\n",
    "\n",
    "for one_character in s:\n",
    "    if one_character in to_find: \n",
    "        print(f'{one_character} is in {to_find}! Exiting')\n",
    "        break\n"
   ]
  },
  {
   "cell_type": "code",
   "execution_count": 21,
   "id": "17b080f8",
   "metadata": {},
   "outputs": [
    {
     "name": "stdout",
     "output_type": "stream",
     "text": [
      "\tLooking at a\n",
      "\tLooking at 1\n",
      "\t\tFound a digit, adding to total\n",
      "\tLooking at b\n",
      "\tLooking at 2\n",
      "\t\tFound a digit, adding to total\n",
      "\tLooking at c\n",
      "\tLooking at 3\n",
      "\t\tFound a digit, adding to total\n",
      "\tLooking at 4\n",
      "\t\tFound a digit, adding to total\n",
      "10\n"
     ]
    }
   ],
   "source": [
    "# add the digits in s\n",
    "\n",
    "s = 'a1b2c34'\n",
    "total = 0\n",
    "\n",
    "for one_character in s:\n",
    "    print(f'\\tLooking at {one_character}')\n",
    "    if one_character.isdigit():\n",
    "        print(f'\\t\\tFound a digit, adding to total')\n",
    "        total += int(one_character)\n",
    "    \n",
    "print(total)    "
   ]
  },
  {
   "cell_type": "code",
   "execution_count": 22,
   "id": "93921b61",
   "metadata": {},
   "outputs": [
    {
     "name": "stdout",
     "output_type": "stream",
     "text": [
      "0\n",
      "1\n",
      "2\n",
      "3\n",
      "4\n"
     ]
    }
   ],
   "source": [
    "for one_item in range(5):   \n",
    "    print(one_item)"
   ]
  },
  {
   "cell_type": "markdown",
   "id": "e87e88ef",
   "metadata": {},
   "source": [
    "DRY -- don't repeat yourself"
   ]
  },
  {
   "cell_type": "code",
   "execution_count": 24,
   "id": "6d4f572c",
   "metadata": {},
   "outputs": [
    {
     "name": "stdout",
     "output_type": "stream",
     "text": [
      "k\n",
      "l\n",
      "m\n",
      "n\n",
      "o\n",
      "p\n",
      "q\n",
      "r\n",
      "s\n",
      "t\n"
     ]
    }
   ],
   "source": [
    "s = 'abcdefghijklmnopqrstuvwxyz'\n",
    "\n",
    "for one_letter in s[10:20]:\n",
    "    print(one_letter)"
   ]
  },
  {
   "cell_type": "code",
   "execution_count": 25,
   "id": "acced0d3",
   "metadata": {},
   "outputs": [
    {
     "name": "stdout",
     "output_type": "stream",
     "text": [
      "10\n",
      "11\n",
      "12\n",
      "13\n",
      "14\n",
      "15\n",
      "16\n",
      "17\n",
      "18\n",
      "19\n"
     ]
    }
   ],
   "source": [
    "for one_item in range(10, 20):\n",
    "    print(one_item)"
   ]
  },
  {
   "cell_type": "code",
   "execution_count": 26,
   "id": "2ba276d6",
   "metadata": {},
   "outputs": [
    {
     "name": "stdout",
     "output_type": "stream",
     "text": [
      "10\n",
      "13\n",
      "16\n",
      "19\n"
     ]
    }
   ],
   "source": [
    "for one_item in range(10, 20, 3):\n",
    "    print(one_item)"
   ]
  },
  {
   "cell_type": "markdown",
   "id": "883f8be5",
   "metadata": {},
   "source": [
    "# Exercise: Digits, vowels, and others\n",
    "\n",
    "1. Define `digits`, `vowels`, and `others` -- all to be 0\n",
    "2. Ask the user to enter some text.\n",
    "3. Go over the text, one character at a time:\n",
    "    - if it's a digit, add 1 to `digits`\n",
    "    - if it's a vowel (a, e, i, o, u), add 1 to `vowels`\n",
    "    - otherwise, add 1 to `others`\n",
    "4. Print the values of `digits`, `vowels`, and `others`"
   ]
  },
  {
   "cell_type": "markdown",
   "id": "4fd6ba7e",
   "metadata": {},
   "source": [
    "https://github.com/reuven/boi-autumn-2024|"
   ]
  },
  {
   "cell_type": "code",
   "execution_count": 27,
   "id": "ba7eeb03",
   "metadata": {},
   "outputs": [
    {
     "name": "stdout",
     "output_type": "stream",
     "text": [
      "Enter text: hello !! 123\n",
      "digits = 3\n",
      "vowels = 2\n",
      "others = 7\n"
     ]
    }
   ],
   "source": [
    "digits = 0\n",
    "vowels = 0\n",
    "others = 0\n",
    "\n",
    "text = input('Enter text: ').strip()\n",
    "\n",
    "for one_character in text:\n",
    "    if one_character in 'aeiou':    # if it's a vowel\n",
    "        vowels += 1                 #    add 1 to vowels\n",
    "    elif one_character.isdigit():   # if it's a digit\n",
    "        digits += 1                 #    add 1 to digits\n",
    "    else:\n",
    "        others += 1                 # otherwise, add 1 to others\n",
    "        \n",
    "print(f'digits = {digits}')        \n",
    "print(f'vowels = {vowels}')\n",
    "print(f'others = {others}')"
   ]
  },
  {
   "cell_type": "markdown",
   "id": "f27e3fc2",
   "metadata": {},
   "source": [
    "# `while`\n",
    "\n",
    "`while` works just like `if`, except that we run the loop body until the test is `False`."
   ]
  },
  {
   "cell_type": "code",
   "execution_count": 28,
   "id": "17e86144",
   "metadata": {},
   "outputs": [
    {
     "name": "stdout",
     "output_type": "stream",
     "text": [
      "5\n",
      "4\n",
      "3\n",
      "2\n",
      "1\n"
     ]
    }
   ],
   "source": [
    "x = 5\n",
    "\n",
    "while x > 0:\n",
    "    print(x)\n",
    "    x -= 1    # x = x - 1"
   ]
  },
  {
   "cell_type": "code",
   "execution_count": 29,
   "id": "b73e7360",
   "metadata": {},
   "outputs": [
    {
     "name": "stdout",
     "output_type": "stream",
     "text": [
      "Enter a number: 5\n",
      "\tCurrent total is 5\n",
      "Enter a number: 20\n",
      "\tCurrent total is 25\n",
      "Enter a number: asdvasdfad\n",
      "asdvasdfad is not a number; try again\n",
      "Enter a number: 30\n",
      "\tCurrent total is 55\n",
      "Enter a number: 1\n",
      "\tCurrent total is 56\n",
      "Enter a number: 1\n",
      "\tCurrent total is 57\n",
      "Enter a number: 1\n",
      "\tCurrent total is 58\n",
      "Enter a number: 1\n",
      "\tCurrent total is 59\n",
      "Enter a number: 80\n",
      "\tCurrent total is 139\n",
      "139\n"
     ]
    }
   ],
   "source": [
    "total = 0\n",
    "\n",
    "# ask the user to give us numbers until we reach 100\n",
    "\n",
    "while total < 100:\n",
    "    s = input('Enter a number: ').strip()\n",
    "\n",
    "    if not s.isdigit():\n",
    "        print(f'{s} is not a number; try again')\n",
    "        continue\n",
    "\n",
    "    total += int(s)\n",
    "    print(f'\\tCurrent total is {total}')\n",
    "    \n",
    "print(total)    \n",
    "    \n",
    "\n"
   ]
  },
  {
   "cell_type": "code",
   "execution_count": 30,
   "id": "d1b33ed8",
   "metadata": {},
   "outputs": [
    {
     "name": "stdout",
     "output_type": "stream",
     "text": [
      "Enter your name: Reuven\n",
      "Hello, Reuven!\n",
      "Enter your name: asdfafadfafd\n",
      "Hello, asdfafadfafd!\n",
      "Enter your name: \n"
     ]
    }
   ],
   "source": [
    "while True:   \n",
    "    name = input('Enter your name: ').strip()\n",
    "    \n",
    "    if name == '':\n",
    "        break\n",
    "        \n",
    "    print(f'Hello, {name}!')"
   ]
  },
  {
   "cell_type": "markdown",
   "id": "695315cb",
   "metadata": {},
   "source": [
    "# List\n",
    "\n",
    "We can store *anything* we want in a list. The items we enter stay in their original order. We can modify a list! (Lists are \"mutable.\")\n",
    "\n",
    "We define a list with `[]`, with commas (`,`) between elements."
   ]
  },
  {
   "cell_type": "code",
   "execution_count": 31,
   "id": "b7fc7fbf",
   "metadata": {},
   "outputs": [
    {
     "data": {
      "text/plain": [
       "7"
      ]
     },
     "execution_count": 31,
     "metadata": {},
     "output_type": "execute_result"
    }
   ],
   "source": [
    "mylist = [10, 20, 30, 40, 50, 60, 70]\n",
    "\n",
    "# get the length with len\n",
    "len(mylist)"
   ]
  },
  {
   "cell_type": "code",
   "execution_count": 32,
   "id": "148f838a",
   "metadata": {},
   "outputs": [
    {
     "data": {
      "text/plain": [
       "10"
      ]
     },
     "execution_count": 32,
     "metadata": {},
     "output_type": "execute_result"
    }
   ],
   "source": [
    "mylist[0]"
   ]
  },
  {
   "cell_type": "code",
   "execution_count": 33,
   "id": "172e5476",
   "metadata": {},
   "outputs": [
    {
     "data": {
      "text/plain": [
       "20"
      ]
     },
     "execution_count": 33,
     "metadata": {},
     "output_type": "execute_result"
    }
   ],
   "source": [
    "mylist[1]"
   ]
  },
  {
   "cell_type": "code",
   "execution_count": 34,
   "id": "10667669",
   "metadata": {},
   "outputs": [
    {
     "data": {
      "text/plain": [
       "70"
      ]
     },
     "execution_count": 34,
     "metadata": {},
     "output_type": "execute_result"
    }
   ],
   "source": [
    "mylist[-1]"
   ]
  },
  {
   "cell_type": "code",
   "execution_count": 35,
   "id": "404cb71b",
   "metadata": {},
   "outputs": [
    {
     "data": {
      "text/plain": [
       "[30, 40, 50]"
      ]
     },
     "execution_count": 35,
     "metadata": {},
     "output_type": "execute_result"
    }
   ],
   "source": [
    "mylist[2:5]"
   ]
  },
  {
   "cell_type": "code",
   "execution_count": 36,
   "id": "bb2fee17",
   "metadata": {},
   "outputs": [
    {
     "name": "stdout",
     "output_type": "stream",
     "text": [
      "10\n",
      "20\n",
      "30\n",
      "40\n",
      "50\n",
      "60\n",
      "70\n"
     ]
    }
   ],
   "source": [
    "for one_item in mylist:\n",
    "    print(one_item)"
   ]
  },
  {
   "cell_type": "code",
   "execution_count": 37,
   "id": "1a5010c9",
   "metadata": {},
   "outputs": [
    {
     "data": {
      "text/plain": [
       "True"
      ]
     },
     "execution_count": 37,
     "metadata": {},
     "output_type": "execute_result"
    }
   ],
   "source": [
    "40 in mylist"
   ]
  },
  {
   "cell_type": "code",
   "execution_count": 38,
   "id": "93aac537",
   "metadata": {},
   "outputs": [
    {
     "data": {
      "text/plain": [
       "[10, 20, 30, '!!!', 50, 60, 70]"
      ]
     },
     "execution_count": 38,
     "metadata": {},
     "output_type": "execute_result"
    }
   ],
   "source": [
    "# lists can change!\n",
    "# we can change an existing value\n",
    "\n",
    "mylist[3] = '!!!'\n",
    "mylist"
   ]
  },
  {
   "cell_type": "code",
   "execution_count": 39,
   "id": "8526ac94",
   "metadata": {},
   "outputs": [
    {
     "data": {
      "text/plain": [
       "[10, 20, 30, '!!!', 50, 60, 70, 80, 'hello']"
      ]
     },
     "execution_count": 39,
     "metadata": {},
     "output_type": "execute_result"
    }
   ],
   "source": [
    "# we can add new items to the list, using list.append\n",
    "mylist.append(80)\n",
    "mylist.append('hello')\n",
    "\n",
    "mylist"
   ]
  },
  {
   "cell_type": "code",
   "execution_count": 40,
   "id": "9fff7f28",
   "metadata": {},
   "outputs": [
    {
     "data": {
      "text/plain": [
       "'hello'"
      ]
     },
     "execution_count": 40,
     "metadata": {},
     "output_type": "execute_result"
    }
   ],
   "source": [
    "# we can remove with list.pop, whose default is to remove from the end\n",
    "mylist.pop()"
   ]
  },
  {
   "cell_type": "code",
   "execution_count": 41,
   "id": "534d3864",
   "metadata": {},
   "outputs": [
    {
     "data": {
      "text/plain": [
       "[10, 20, 30, '!!!', 50, 60, 70, 80]"
      ]
     },
     "execution_count": 41,
     "metadata": {},
     "output_type": "execute_result"
    }
   ],
   "source": [
    "mylist"
   ]
  },
  {
   "cell_type": "code",
   "execution_count": 42,
   "id": "9c78da00",
   "metadata": {},
   "outputs": [
    {
     "data": {
      "text/plain": [
       "80"
      ]
     },
     "execution_count": 42,
     "metadata": {},
     "output_type": "execute_result"
    }
   ],
   "source": [
    "mylist.pop()"
   ]
  },
  {
   "cell_type": "code",
   "execution_count": 43,
   "id": "cc18ceb2",
   "metadata": {},
   "outputs": [
    {
     "data": {
      "text/plain": [
       "[10, 20, 30, '!!!', 50, 60, 70]"
      ]
     },
     "execution_count": 43,
     "metadata": {},
     "output_type": "execute_result"
    }
   ],
   "source": [
    "mylist"
   ]
  },
  {
   "cell_type": "code",
   "execution_count": 44,
   "id": "cad7078c",
   "metadata": {},
   "outputs": [
    {
     "data": {
      "text/plain": [
       "'abcde'"
      ]
     },
     "execution_count": 44,
     "metadata": {},
     "output_type": "execute_result"
    }
   ],
   "source": [
    "x = 'abcde'\n",
    "y = x\n",
    "\n",
    "x = 'fghij'\n",
    "y"
   ]
  },
  {
   "cell_type": "code",
   "execution_count": null,
   "id": "85951e11",
   "metadata": {},
   "outputs": [],
   "source": [
    "x = [10, 20, 30]\n",
    "y = x\n",
    "\n"
   ]
  }
 ],
 "metadata": {
  "kernelspec": {
   "display_name": "Python 3 (ipykernel)",
   "language": "python",
   "name": "python3"
  },
  "language_info": {
   "codemirror_mode": {
    "name": "ipython",
    "version": 3
   },
   "file_extension": ".py",
   "mimetype": "text/x-python",
   "name": "python",
   "nbconvert_exporter": "python",
   "pygments_lexer": "ipython3",
   "version": "3.12.7"
  }
 },
 "nbformat": 4,
 "nbformat_minor": 5
}
