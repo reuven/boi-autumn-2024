{
 "cells": [
  {
   "cell_type": "code",
   "execution_count": null,
   "id": "57a3ce59",
   "metadata": {
    "scrolled": false
   },
   "outputs": [
    {
     "name": "stdout",
     "output_type": "stream",
     "text": [
      "\r\n",
      "---\r\n",
      "Observing changes to folder: /home/student/notebooks\r\n",
      "Pushing changes to repository: git@github.com:reuven/boi-autumn-2024.git/tree/main\r\n",
      "View notebooks at this nbviewer link: https://nbviewer.jupyter.org/github/git@github.com:reuven/boi-autumn-2024.git/tree/main/\r\n"
     ]
    }
   ],
   "source": [
    "!gitautopush --sleep 120 . "
   ]
  },
  {
   "cell_type": "code",
   "execution_count": null,
   "id": "089410ae",
   "metadata": {},
   "outputs": [],
   "source": []
  }
 ],
 "metadata": {
  "kernelspec": {
   "display_name": "Python 3 (ipykernel)",
   "language": "python",
   "name": "python3"
  },
  "language_info": {
   "codemirror_mode": {
    "name": "ipython",
    "version": 3
   },
   "file_extension": ".py",
   "mimetype": "text/x-python",
   "name": "python",
   "nbconvert_exporter": "python",
   "pygments_lexer": "ipython3",
   "version": "3.12.7"
  }
 },
 "nbformat": 4,
 "nbformat_minor": 5
}
