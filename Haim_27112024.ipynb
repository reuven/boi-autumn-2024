{
 "cells": [
  {
   "cell_type": "code",
   "execution_count": 4,
   "id": "ef344b09",
   "metadata": {},
   "outputs": [
    {
     "ename": "IndentationError",
     "evalue": "unexpected indent (2655079632.py, line 7)",
     "output_type": "error",
     "traceback": [
      "\u001b[0;36m  Cell \u001b[0;32mIn[4], line 7\u001b[0;36m\u001b[0m\n\u001b[0;31m    elif one_character.isdigit():\u001b[0m\n\u001b[0m    ^\u001b[0m\n\u001b[0;31mIndentationError\u001b[0m\u001b[0;31m:\u001b[0m unexpected indent\n"
     ]
    }
   ],
   "source": [
    "digits = 0\n",
    "vowels = 0\n",
    "others = 0\n",
    "put_text = input ('write your text or numbers:').strip()\n",
    "for one_character in put_text:\n",
    "    if one_character in 'aeiou': \n",
    "    vowels += 1\n",
    "        elif one_character.isdigit():\n",
    "            digits += 1\n",
    "    else\n",
    "    others += 1\n",
    "        total += int(one_character) # += אומר שאני מוסיף אחד\n",
    "\n",
    "print(f'digits = {digits}')        \n",
    "print(f'vowels = {vowels}')\n",
    "print(f'others = {others}')\n",
    "        "
   ]
  },
  {
   "cell_type": "code",
   "execution_count": null,
   "id": "52a13007",
   "metadata": {},
   "outputs": [],
   "source": [
    "digits = []\n",
    "vowels = []\n",
    "others = []\n",
    "while true \n",
    "    text = input('Enter your text: ').strip()\n",
    "    if text in 'aeiou':  \n",
    "        vowels += 1\n",
    "    if text == '':\n",
    "        \n",
    "    "
   ]
  },
  {
   "cell_type": "code",
   "execution_count": 10,
   "id": "2eb4eb40",
   "metadata": {},
   "outputs": [
    {
     "name": "stdout",
     "output_type": "stream",
     "text": [
      "Enter sentence: hello world\n"
     ]
    },
    {
     "ename": "NameError",
     "evalue": "name 's' is not defined",
     "output_type": "error",
     "traceback": [
      "\u001b[0;31m---------------------------------------------------------------------------\u001b[0m",
      "\u001b[0;31mNameError\u001b[0m                                 Traceback (most recent call last)",
      "Cell \u001b[0;32mIn[10], line 2\u001b[0m\n\u001b[1;32m      1\u001b[0m sentence \u001b[38;5;241m=\u001b[39m \u001b[38;5;28minput\u001b[39m(\u001b[38;5;124m'\u001b[39m\u001b[38;5;124mEnter sentence: \u001b[39m\u001b[38;5;124m'\u001b[39m)\u001b[38;5;241m.\u001b[39mstrip()\n\u001b[0;32m----> 2\u001b[0m \u001b[38;5;28;01mfor\u001b[39;00m one_item \u001b[38;5;129;01min\u001b[39;00m \u001b[43ms\u001b[49m\u001b[38;5;241m.\u001b[39msplit():\n\u001b[1;32m      3\u001b[0m     \u001b[38;5;28mprint\u001b[39m(one_item)\n\u001b[1;32m      4\u001b[0m  \u001b[38;5;66;03m#if word[0] in 'aeiou':    # if the word starts with a vowel, add 'way'\u001b[39;00m\n\u001b[1;32m      5\u001b[0m   \u001b[38;5;66;03m#  print(word + 'way')\u001b[39;00m\n\u001b[1;32m      6\u001b[0m \u001b[38;5;66;03m#else:\u001b[39;00m\n\u001b[1;32m      7\u001b[0m  \u001b[38;5;66;03m#   print(word[1:] + word[0] + 'ay')   # otherwise, first letter to end, add 'ay'\u001b[39;00m\n",
      "\u001b[0;31mNameError\u001b[0m: name 's' is not defined"
     ]
    }
   ],
   "source": [
    "sentence = input('Enter sentence: ').strip()\n",
    "for word in s.split():\n",
    "    print(one_item)\n",
    " #if word[0] in 'aeiou':    # if the word starts with a vowel, add 'way'\n",
    "  #  print(word + 'way')\n",
    "#else:\n",
    " #   print(word[1:] + word[0] + 'ay')   # otherwise, first letter to end, add 'ay'"
   ]
  },
  {
   "cell_type": "code",
   "execution_count": null,
   "id": "8996b1db",
   "metadata": {},
   "outputs": [],
   "source": []
  }
 ],
 "metadata": {
  "kernelspec": {
   "display_name": "Python 3 (ipykernel)",
   "language": "python",
   "name": "python3"
  },
  "language_info": {
   "codemirror_mode": {
    "name": "ipython",
    "version": 3
   },
   "file_extension": ".py",
   "mimetype": "text/x-python",
   "name": "python",
   "nbconvert_exporter": "python",
   "pygments_lexer": "ipython3",
   "version": "3.12.7"
  }
 },
 "nbformat": 4,
 "nbformat_minor": 5
}
