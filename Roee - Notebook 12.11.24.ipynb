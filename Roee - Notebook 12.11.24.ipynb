{
 "cells": [
  {
   "cell_type": "code",
   "execution_count": 3,
   "id": "56daf12d",
   "metadata": {},
   "outputs": [
    {
     "name": "stdout",
     "output_type": "stream",
     "text": [
      "Enter you name: Roee\n",
      "Enter your city: Jerusalem\n",
      "hello Roee from Jerusalem!\n"
     ]
    }
   ],
   "source": [
    "name = input('Enter you name: ')\n",
    "city = input('Enter your city: ')\n",
    "\n",
    "print ('Hello ' + name + ' from ' + city +'!')"
   ]
  },
  {
   "cell_type": "code",
   "execution_count": 6,
   "id": "065f234c",
   "metadata": {},
   "outputs": [
    {
     "name": "stdout",
     "output_type": "stream",
     "text": [
      "Hello Roee from Jerusalem !\n"
     ]
    }
   ],
   "source": [
    "print (f'Hello {name} from {city} !')"
   ]
  },
  {
   "cell_type": "code",
   "execution_count": 8,
   "id": "cffe35af",
   "metadata": {},
   "outputs": [
    {
     "name": "stdout",
     "output_type": "stream",
     "text": [
      "Enter you name: Eyal\n",
      "Hello Eyal, nice to have you here\n"
     ]
    }
   ],
   "source": [
    "name = input('Enter you name: ')\n",
    "\n",
    "if name == 'Roee':\n",
    "    print (f'Hello {name} the champ')\n",
    "else:\n",
    "    print (f'Hello {name}, nice to have you here')\n",
    "    "
   ]
  },
  {
   "cell_type": "code",
   "execution_count": 11,
   "id": "5c1f4ea5",
   "metadata": {},
   "outputs": [
    {
     "name": "stdout",
     "output_type": "stream",
     "text": [
      "Enter the first word: donky\n",
      "Enter the second word: donky\n",
      "donky equals donky\n"
     ]
    }
   ],
   "source": [
    "word1 = input('Enter the first word: ')\n",
    "word2 = input('Enter the second word: ')\n",
    "\n",
    "if word1 < word2:\n",
    "    print(f'{word1} comes before {word2}')\n",
    "elif word1 > word2:\n",
    "    print(f'{word2} comes before {word1}')\n",
    "else:\n",
    "    print(f'{word1} equals {word2}')"
   ]
  },
  {
   "cell_type": "code",
   "execution_count": 13,
   "id": "fa9b0473",
   "metadata": {},
   "outputs": [
    {
     "name": "stdout",
     "output_type": "stream",
     "text": [
      "Enter you name: jhon\n",
      "Enter your city: Jerusalem\n",
      "We live in the same city\n"
     ]
    }
   ],
   "source": [
    "name = input('Enter you name: ')\n",
    "city = input('Enter your city: ')\n",
    "\n",
    "myname='Roee'\n",
    "mycity='Jerusalem'\n",
    "\n",
    "if name == myname and city == mycity:\n",
    "    print('you must be me')\n",
    "elif name == myname and city != mycity:\n",
    "    print(\"Nice name, bad city\")\n",
    "elif name != myname and city == mycity:\n",
    "    print(\"We live in the same city\")\n",
    "else:\n",
    "    print(\"bad name bad city\")"
   ]
  },
  {
   "cell_type": "code",
   "execution_count": 16,
   "id": "88ecc516",
   "metadata": {},
   "outputs": [
    {
     "name": "stdout",
     "output_type": "stream",
     "text": [
      "Enter your guess7\n",
      "just right\n"
     ]
    }
   ],
   "source": [
    "secret=7\n",
    "\n",
    "guess= int(input('Enter your guess'))\n",
    "\n",
    "if guess<secret:\n",
    "    print ('too low')\n",
    "elif guess==secret:\n",
    "    print ('just right')\n",
    "else:\n",
    "    print ('too high')"
   ]
  }
 ],
 "metadata": {
  "kernelspec": {
   "display_name": "Python 3 (ipykernel)",
   "language": "python",
   "name": "python3"
  },
  "language_info": {
   "codemirror_mode": {
    "name": "ipython",
    "version": 3
   },
   "file_extension": ".py",
   "mimetype": "text/x-python",
   "name": "python",
   "nbconvert_exporter": "python",
   "pygments_lexer": "ipython3",
   "version": "3.12.7"
  }
 },
 "nbformat": 4,
 "nbformat_minor": 5
}
