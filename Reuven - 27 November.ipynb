{
 "cells": [
  {
   "cell_type": "markdown",
   "id": "8286efd5",
   "metadata": {},
   "source": [
    "# https://python.lerner.co.il\n",
    "\n",
    "Password: boipw!!"
   ]
  },
  {
   "cell_type": "markdown",
   "id": "4e9c4b38",
   "metadata": {},
   "source": [
    "# Agenda\n",
    "\n",
    "1. Loops\n",
    "2. List\n",
    "3. Dictionary\n",
    "4. Files\n",
    "5. Modules"
   ]
  },
  {
   "cell_type": "code",
   "execution_count": 1,
   "id": "d1b1db09",
   "metadata": {},
   "outputs": [
    {
     "name": "stdout",
     "output_type": "stream",
     "text": [
      "a\n",
      "b\n",
      "c\n",
      "d\n"
     ]
    }
   ],
   "source": [
    "s = 'abcd'\n",
    "\n",
    "print(s[0])\n",
    "print(s[1])\n",
    "print(s[2])\n",
    "print(s[3])"
   ]
  },
  {
   "cell_type": "markdown",
   "id": "d7d1f89e",
   "metadata": {},
   "source": [
    "# Loops\n",
    "\n",
    "1. `for` loops\n",
    "2. `while` loops"
   ]
  },
  {
   "cell_type": "code",
   "execution_count": 2,
   "id": "f4112bf8",
   "metadata": {},
   "outputs": [
    {
     "name": "stdout",
     "output_type": "stream",
     "text": [
      "a\n",
      "b\n",
      "c\n",
      "d\n"
     ]
    }
   ],
   "source": [
    "s = 'abcd'\n",
    "\n",
    "for one_character in s:\n",
    "    print(one_character)"
   ]
  },
  {
   "cell_type": "code",
   "execution_count": 3,
   "id": "1424198d",
   "metadata": {},
   "outputs": [
    {
     "name": "stdout",
     "output_type": "stream",
     "text": [
      "c\n",
      "d\n"
     ]
    }
   ],
   "source": [
    "s = 'abcd'\n",
    "\n",
    "for one_character in s[2:]:\n",
    "    print(one_character)"
   ]
  },
  {
   "cell_type": "code",
   "execution_count": 4,
   "id": "da36f03c",
   "metadata": {},
   "outputs": [
    {
     "ename": "TypeError",
     "evalue": "'int' object is not iterable",
     "output_type": "error",
     "traceback": [
      "\u001b[0;31m---------------------------------------------------------------------------\u001b[0m",
      "\u001b[0;31mTypeError\u001b[0m                                 Traceback (most recent call last)",
      "Cell \u001b[0;32mIn[4], line 1\u001b[0m\n\u001b[0;32m----> 1\u001b[0m \u001b[38;5;28;01mfor\u001b[39;00m counter \u001b[38;5;129;01min\u001b[39;00m \u001b[38;5;241m3\u001b[39m:\n\u001b[1;32m      2\u001b[0m     \u001b[38;5;28mprint\u001b[39m(\u001b[38;5;124m'\u001b[39m\u001b[38;5;124mHooray\u001b[39m\u001b[38;5;124m'\u001b[39m)\n",
      "\u001b[0;31mTypeError\u001b[0m: 'int' object is not iterable"
     ]
    }
   ],
   "source": [
    "for counter in 3:\n",
    "    print('Hooray')"
   ]
  },
  {
   "cell_type": "code",
   "execution_count": 5,
   "id": "849b543e",
   "metadata": {},
   "outputs": [
    {
     "name": "stdout",
     "output_type": "stream",
     "text": [
      "Hooray\n",
      "Hooray\n",
      "Hooray\n"
     ]
    }
   ],
   "source": [
    "for counter in range(3):    # use range(n) for n iterations\n",
    "    print('Hooray')"
   ]
  },
  {
   "cell_type": "code",
   "execution_count": 6,
   "id": "aabb0717",
   "metadata": {},
   "outputs": [
    {
     "name": "stdout",
     "output_type": "stream",
     "text": [
      "0 Hooray\n",
      "1 Hooray\n",
      "2 Hooray\n"
     ]
    }
   ],
   "source": [
    "for counter in range(3):    # range(3) gives me 0, 1, 2\n",
    "    print(f'{counter} Hooray')"
   ]
  },
  {
   "cell_type": "code",
   "execution_count": 7,
   "id": "7d19ce27",
   "metadata": {},
   "outputs": [
    {
     "name": "stdout",
     "output_type": "stream",
     "text": [
      "0\n",
      "1\n",
      "2\n",
      "3\n",
      "4\n"
     ]
    }
   ],
   "source": [
    "# to end a loop early, use break\n",
    "# if we've achieved our goal early\n",
    "\n",
    "for counter in range(10):\n",
    "    if counter == 5:\n",
    "        break\n",
    "    print(counter)"
   ]
  },
  {
   "cell_type": "code",
   "execution_count": 10,
   "id": "c7fb14d4",
   "metadata": {},
   "outputs": [
    {
     "name": "stdout",
     "output_type": "stream",
     "text": [
      "0\n",
      "1\n",
      "2\n",
      "3\n",
      "4\n",
      "6\n",
      "7\n",
      "8\n",
      "9\n"
     ]
    }
   ],
   "source": [
    "# to end the current iteration early, use continue\n",
    "# if there's no reason to continue with the current one\n",
    "\n",
    "for counter in range(10):\n",
    "    if counter == 5:\n",
    "        continue    # go onto the next iteration\n",
    "    print(counter)"
   ]
  },
  {
   "cell_type": "code",
   "execution_count": 11,
   "id": "46edbc2d",
   "metadata": {},
   "outputs": [
    {
     "name": "stdout",
     "output_type": "stream",
     "text": [
      "Looking for j.... found a\n",
      "Looking for j.... found b\n",
      "Looking for j.... found c\n",
      "Looking for j.... found d\n",
      "Looking for j.... found e\n",
      "Looking for j.... found f\n",
      "Looking for j.... found g\n",
      "Looking for j.... found h\n",
      "Looking for j.... found i\n",
      "Found j! Exiting\n"
     ]
    }
   ],
   "source": [
    "s = 'abcdefghijklmnopqrstuvwxyz'\n",
    "\n",
    "to_find = 'j'\n",
    "\n",
    "for one_character in s:\n",
    "    if one_character == to_find:\n",
    "        print(f'Found {to_find}! Exiting')\n",
    "        break\n",
    "    print(f'Looking for {to_find}.... found {one_character}')"
   ]
  },
  {
   "cell_type": "code",
   "execution_count": 12,
   "id": "145c3700",
   "metadata": {},
   "outputs": [
    {
     "name": "stdout",
     "output_type": "stream",
     "text": [
      "Found j! Exiting\n"
     ]
    }
   ],
   "source": [
    "s = 'abcdefghijklmnopqrstuvwxyz'\n",
    "\n",
    "to_find = 'j'\n",
    "\n",
    "for one_character in s:\n",
    "    if one_character != to_find:\n",
    "        continue\n",
    "    print(f'Found {to_find}! Exiting')\n"
   ]
  },
  {
   "cell_type": "code",
   "execution_count": 17,
   "id": "5b103da9",
   "metadata": {},
   "outputs": [],
   "source": [
    "# s = 'abcdefghijklmnopqrstuvwxyz'\n",
    "s = 'abcde'\n",
    "\n",
    "to_find = 'jklmn'\n",
    "\n",
    "for one_character in s:\n",
    "    if one_character in to_find: \n",
    "        print(f'{one_character} is in {to_find}! Exiting')\n",
    "        break\n"
   ]
  },
  {
   "cell_type": "code",
   "execution_count": 21,
   "id": "1f4b961f",
   "metadata": {},
   "outputs": [
    {
     "name": "stdout",
     "output_type": "stream",
     "text": [
      "\tLooking at a\n",
      "\tLooking at 1\n",
      "\t\tFound a digit, adding to total\n",
      "\tLooking at b\n",
      "\tLooking at 2\n",
      "\t\tFound a digit, adding to total\n",
      "\tLooking at c\n",
      "\tLooking at 3\n",
      "\t\tFound a digit, adding to total\n",
      "\tLooking at 4\n",
      "\t\tFound a digit, adding to total\n",
      "10\n"
     ]
    }
   ],
   "source": [
    "# add the digits in s\n",
    "\n",
    "s = 'a1b2c34'\n",
    "total = 0\n",
    "\n",
    "for one_character in s:\n",
    "    print(f'\\tLooking at {one_character}')\n",
    "    if one_character.isdigit():\n",
    "        print(f'\\t\\tFound a digit, adding to total')\n",
    "        total += int(one_character)\n",
    "    \n",
    "print(total)    "
   ]
  },
  {
   "cell_type": "code",
   "execution_count": 22,
   "id": "d0d90557",
   "metadata": {},
   "outputs": [
    {
     "name": "stdout",
     "output_type": "stream",
     "text": [
      "0\n",
      "1\n",
      "2\n",
      "3\n",
      "4\n"
     ]
    }
   ],
   "source": [
    "for one_item in range(5):   \n",
    "    print(one_item)"
   ]
  },
  {
   "cell_type": "markdown",
   "id": "ee55bdd4",
   "metadata": {},
   "source": [
    "DRY -- don't repeat yourself"
   ]
  },
  {
   "cell_type": "code",
   "execution_count": 24,
   "id": "a82d0a72",
   "metadata": {},
   "outputs": [
    {
     "name": "stdout",
     "output_type": "stream",
     "text": [
      "k\n",
      "l\n",
      "m\n",
      "n\n",
      "o\n",
      "p\n",
      "q\n",
      "r\n",
      "s\n",
      "t\n"
     ]
    }
   ],
   "source": [
    "s = 'abcdefghijklmnopqrstuvwxyz'\n",
    "\n",
    "for one_letter in s[10:20]:\n",
    "    print(one_letter)"
   ]
  },
  {
   "cell_type": "code",
   "execution_count": 25,
   "id": "f397a5fb",
   "metadata": {},
   "outputs": [
    {
     "name": "stdout",
     "output_type": "stream",
     "text": [
      "10\n",
      "11\n",
      "12\n",
      "13\n",
      "14\n",
      "15\n",
      "16\n",
      "17\n",
      "18\n",
      "19\n"
     ]
    }
   ],
   "source": [
    "for one_item in range(10, 20):\n",
    "    print(one_item)"
   ]
  },
  {
   "cell_type": "code",
   "execution_count": 26,
   "id": "0c3cd437",
   "metadata": {},
   "outputs": [
    {
     "name": "stdout",
     "output_type": "stream",
     "text": [
      "10\n",
      "13\n",
      "16\n",
      "19\n"
     ]
    }
   ],
   "source": [
    "for one_item in range(10, 20, 3):\n",
    "    print(one_item)"
   ]
  },
  {
   "cell_type": "markdown",
   "id": "2292dd5c",
   "metadata": {},
   "source": [
    "# Exercise: Digits, vowels, and others\n",
    "\n",
    "1. Define `digits`, `vowels`, and `others` -- all to be 0\n",
    "2. Ask the user to enter some text.\n",
    "3. Go over the text, one character at a time:\n",
    "    - if it's a digit, add 1 to `digits`\n",
    "    - if it's a vowel (a, e, i, o, u), add 1 to `vowels`\n",
    "    - otherwise, add 1 to `others`\n",
    "4. Print the values of `digits`, `vowels`, and `others`"
   ]
  },
  {
   "cell_type": "markdown",
   "id": "7d01ee45",
   "metadata": {},
   "source": [
    "https://github.com/reuven/boi-autumn-2024|"
   ]
  },
  {
   "cell_type": "code",
   "execution_count": 27,
   "id": "e95f487a",
   "metadata": {},
   "outputs": [
    {
     "name": "stdout",
     "output_type": "stream",
     "text": [
      "Enter text: hello !! 123\n",
      "digits = 3\n",
      "vowels = 2\n",
      "others = 7\n"
     ]
    }
   ],
   "source": [
    "digits = 0\n",
    "vowels = 0\n",
    "others = 0\n",
    "\n",
    "text = input('Enter text: ').strip()\n",
    "\n",
    "for one_character in text:\n",
    "    if one_character in 'aeiou':    # if it's a vowel\n",
    "        vowels += 1                 #    add 1 to vowels\n",
    "    elif one_character.isdigit():   # if it's a digit\n",
    "        digits += 1                 #    add 1 to digits\n",
    "    else:\n",
    "        others += 1                 # otherwise, add 1 to others\n",
    "        \n",
    "print(f'digits = {digits}')        \n",
    "print(f'vowels = {vowels}')\n",
    "print(f'others = {others}')"
   ]
  },
  {
   "cell_type": "markdown",
   "id": "dbb7e7d6",
   "metadata": {},
   "source": [
    "# `while`\n",
    "\n",
    "`while` works just like `if`, except that we run the loop body until the test is `False`."
   ]
  },
  {
   "cell_type": "code",
   "execution_count": 28,
   "id": "05dc7c82",
   "metadata": {},
   "outputs": [
    {
     "name": "stdout",
     "output_type": "stream",
     "text": [
      "5\n",
      "4\n",
      "3\n",
      "2\n",
      "1\n"
     ]
    }
   ],
   "source": [
    "x = 5\n",
    "\n",
    "while x > 0:\n",
    "    print(x)\n",
    "    x -= 1    # x = x - 1"
   ]
  },
  {
   "cell_type": "code",
   "execution_count": 29,
   "id": "07732f31",
   "metadata": {},
   "outputs": [
    {
     "name": "stdout",
     "output_type": "stream",
     "text": [
      "Enter a number: 5\n",
      "\tCurrent total is 5\n",
      "Enter a number: 20\n",
      "\tCurrent total is 25\n",
      "Enter a number: asdvasdfad\n",
      "asdvasdfad is not a number; try again\n",
      "Enter a number: 30\n",
      "\tCurrent total is 55\n",
      "Enter a number: 1\n",
      "\tCurrent total is 56\n",
      "Enter a number: 1\n",
      "\tCurrent total is 57\n",
      "Enter a number: 1\n",
      "\tCurrent total is 58\n",
      "Enter a number: 1\n",
      "\tCurrent total is 59\n",
      "Enter a number: 80\n",
      "\tCurrent total is 139\n",
      "139\n"
     ]
    }
   ],
   "source": [
    "total = 0\n",
    "\n",
    "# ask the user to give us numbers until we reach 100\n",
    "\n",
    "while total < 100:\n",
    "    s = input('Enter a number: ').strip()\n",
    "\n",
    "    if not s.isdigit():\n",
    "        print(f'{s} is not a number; try again')\n",
    "        continue\n",
    "\n",
    "    total += int(s)\n",
    "    print(f'\\tCurrent total is {total}')\n",
    "    \n",
    "print(total)    \n",
    "    \n",
    "\n"
   ]
  },
  {
   "cell_type": "code",
   "execution_count": 30,
   "id": "11825d8b",
   "metadata": {},
   "outputs": [
    {
     "name": "stdout",
     "output_type": "stream",
     "text": [
      "Enter your name: Reuven\n",
      "Hello, Reuven!\n",
      "Enter your name: asdfafadfafd\n",
      "Hello, asdfafadfafd!\n",
      "Enter your name: \n"
     ]
    }
   ],
   "source": [
    "while True:   \n",
    "    name = input('Enter your name: ').strip()\n",
    "    \n",
    "    if name == '':\n",
    "        break\n",
    "        \n",
    "    print(f'Hello, {name}!')"
   ]
  },
  {
   "cell_type": "markdown",
   "id": "8066065f",
   "metadata": {},
   "source": [
    "# List\n",
    "\n",
    "We can store *anything* we want in a list. The items we enter stay in their original order. We can modify a list! (Lists are \"mutable.\")\n",
    "\n",
    "We define a list with `[]`, with commas (`,`) between elements."
   ]
  },
  {
   "cell_type": "code",
   "execution_count": 31,
   "id": "8dfca90d",
   "metadata": {},
   "outputs": [
    {
     "data": {
      "text/plain": [
       "7"
      ]
     },
     "execution_count": 31,
     "metadata": {},
     "output_type": "execute_result"
    }
   ],
   "source": [
    "mylist = [10, 20, 30, 40, 50, 60, 70]\n",
    "\n",
    "# get the length with len\n",
    "len(mylist)"
   ]
  },
  {
   "cell_type": "code",
   "execution_count": 32,
   "id": "59502ed9",
   "metadata": {},
   "outputs": [
    {
     "data": {
      "text/plain": [
       "10"
      ]
     },
     "execution_count": 32,
     "metadata": {},
     "output_type": "execute_result"
    }
   ],
   "source": [
    "mylist[0]"
   ]
  },
  {
   "cell_type": "code",
   "execution_count": 33,
   "id": "d064afbf",
   "metadata": {},
   "outputs": [
    {
     "data": {
      "text/plain": [
       "20"
      ]
     },
     "execution_count": 33,
     "metadata": {},
     "output_type": "execute_result"
    }
   ],
   "source": [
    "mylist[1]"
   ]
  },
  {
   "cell_type": "code",
   "execution_count": 34,
   "id": "e8337de8",
   "metadata": {},
   "outputs": [
    {
     "data": {
      "text/plain": [
       "70"
      ]
     },
     "execution_count": 34,
     "metadata": {},
     "output_type": "execute_result"
    }
   ],
   "source": [
    "mylist[-1]"
   ]
  },
  {
   "cell_type": "code",
   "execution_count": 35,
   "id": "1d373ada",
   "metadata": {},
   "outputs": [
    {
     "data": {
      "text/plain": [
       "[30, 40, 50]"
      ]
     },
     "execution_count": 35,
     "metadata": {},
     "output_type": "execute_result"
    }
   ],
   "source": [
    "mylist[2:5]"
   ]
  },
  {
   "cell_type": "code",
   "execution_count": 36,
   "id": "1408f3ba",
   "metadata": {},
   "outputs": [
    {
     "name": "stdout",
     "output_type": "stream",
     "text": [
      "10\n",
      "20\n",
      "30\n",
      "40\n",
      "50\n",
      "60\n",
      "70\n"
     ]
    }
   ],
   "source": [
    "for one_item in mylist:\n",
    "    print(one_item)"
   ]
  },
  {
   "cell_type": "code",
   "execution_count": 37,
   "id": "4c0cbd98",
   "metadata": {},
   "outputs": [
    {
     "data": {
      "text/plain": [
       "True"
      ]
     },
     "execution_count": 37,
     "metadata": {},
     "output_type": "execute_result"
    }
   ],
   "source": [
    "40 in mylist"
   ]
  },
  {
   "cell_type": "code",
   "execution_count": 38,
   "id": "92b32540",
   "metadata": {},
   "outputs": [
    {
     "data": {
      "text/plain": [
       "[10, 20, 30, '!!!', 50, 60, 70]"
      ]
     },
     "execution_count": 38,
     "metadata": {},
     "output_type": "execute_result"
    }
   ],
   "source": [
    "# lists can change!\n",
    "# we can change an existing value\n",
    "\n",
    "mylist[3] = '!!!'\n",
    "mylist"
   ]
  },
  {
   "cell_type": "code",
   "execution_count": 39,
   "id": "1c590e53",
   "metadata": {},
   "outputs": [
    {
     "data": {
      "text/plain": [
       "[10, 20, 30, '!!!', 50, 60, 70, 80, 'hello']"
      ]
     },
     "execution_count": 39,
     "metadata": {},
     "output_type": "execute_result"
    }
   ],
   "source": [
    "# we can add new items to the list, using list.append\n",
    "mylist.append(80)\n",
    "mylist.append('hello')\n",
    "\n",
    "mylist"
   ]
  },
  {
   "cell_type": "code",
   "execution_count": 40,
   "id": "614370ba",
   "metadata": {},
   "outputs": [
    {
     "data": {
      "text/plain": [
       "'hello'"
      ]
     },
     "execution_count": 40,
     "metadata": {},
     "output_type": "execute_result"
    }
   ],
   "source": [
    "# we can remove with list.pop, whose default is to remove from the end\n",
    "mylist.pop()"
   ]
  },
  {
   "cell_type": "code",
   "execution_count": 41,
   "id": "c648991d",
   "metadata": {},
   "outputs": [
    {
     "data": {
      "text/plain": [
       "[10, 20, 30, '!!!', 50, 60, 70, 80]"
      ]
     },
     "execution_count": 41,
     "metadata": {},
     "output_type": "execute_result"
    }
   ],
   "source": [
    "mylist"
   ]
  },
  {
   "cell_type": "code",
   "execution_count": 42,
   "id": "fb74d297",
   "metadata": {},
   "outputs": [
    {
     "data": {
      "text/plain": [
       "80"
      ]
     },
     "execution_count": 42,
     "metadata": {},
     "output_type": "execute_result"
    }
   ],
   "source": [
    "mylist.pop()"
   ]
  },
  {
   "cell_type": "code",
   "execution_count": 43,
   "id": "f3321259",
   "metadata": {},
   "outputs": [
    {
     "data": {
      "text/plain": [
       "[10, 20, 30, '!!!', 50, 60, 70]"
      ]
     },
     "execution_count": 43,
     "metadata": {},
     "output_type": "execute_result"
    }
   ],
   "source": [
    "mylist"
   ]
  },
  {
   "cell_type": "code",
   "execution_count": 44,
   "id": "c6362533",
   "metadata": {},
   "outputs": [
    {
     "data": {
      "text/plain": [
       "'abcde'"
      ]
     },
     "execution_count": 44,
     "metadata": {},
     "output_type": "execute_result"
    }
   ],
   "source": [
    "x = 'abcde'\n",
    "y = x\n",
    "\n",
    "x = 'fghij'\n",
    "y"
   ]
  },
  {
   "cell_type": "code",
   "execution_count": 45,
   "id": "64ead199",
   "metadata": {},
   "outputs": [
    {
     "data": {
      "text/plain": [
       "[10, 9999, 30]"
      ]
     },
     "execution_count": 45,
     "metadata": {},
     "output_type": "execute_result"
    }
   ],
   "source": [
    "x = [10, 20, 30]\n",
    "y = x\n",
    "\n",
    "x[1] = 9999\n",
    "x"
   ]
  },
  {
   "cell_type": "code",
   "execution_count": 46,
   "id": "0e1694da",
   "metadata": {},
   "outputs": [
    {
     "data": {
      "text/plain": [
       "[10, 9999, 30]"
      ]
     },
     "execution_count": 46,
     "metadata": {},
     "output_type": "execute_result"
    }
   ],
   "source": [
    "y"
   ]
  },
  {
   "cell_type": "code",
   "execution_count": 47,
   "id": "2ea9b164",
   "metadata": {},
   "outputs": [
    {
     "name": "stdout",
     "output_type": "stream",
     "text": [
      "ABC\n",
      "DEFGH\n",
      "IJ\n"
     ]
    }
   ],
   "source": [
    "x = ['abc', 'defgh', 'ij']\n",
    "\n",
    "for one_item in x:\n",
    "    print(one_item.upper())"
   ]
  },
  {
   "cell_type": "code",
   "execution_count": 48,
   "id": "dd9bee71",
   "metadata": {},
   "outputs": [
    {
     "data": {
      "text/plain": [
       "list"
      ]
     },
     "execution_count": 48,
     "metadata": {},
     "output_type": "execute_result"
    }
   ],
   "source": [
    "type(x)"
   ]
  },
  {
   "cell_type": "code",
   "execution_count": 49,
   "id": "a8f2b027",
   "metadata": {},
   "outputs": [
    {
     "name": "stdout",
     "output_type": "stream",
     "text": [
      "[15, 17]\n",
      "[10, 20]\n"
     ]
    }
   ],
   "source": [
    "odds = []\n",
    "evens = []\n",
    "\n",
    "numbers = [10, 15, 17, 20]\n",
    "\n",
    "for one_number in numbers:\n",
    "    if one_number % 2 == 1:\n",
    "        odds.append(one_number)\n",
    "    else:\n",
    "        evens.append(one_number)\n",
    "        \n",
    "print(odds)        \n",
    "print(evens)\n"
   ]
  },
  {
   "cell_type": "code",
   "execution_count": 50,
   "id": "d0ba174b",
   "metadata": {},
   "outputs": [
    {
     "data": {
      "text/plain": [
       "True"
      ]
     },
     "execution_count": 50,
     "metadata": {},
     "output_type": "execute_result"
    }
   ],
   "source": [
    "mylist = ['hello', 'out', 'there']\n",
    "\n",
    "'hello' in mylist"
   ]
  },
  {
   "cell_type": "code",
   "execution_count": 51,
   "id": "a15aa22c",
   "metadata": {},
   "outputs": [
    {
     "data": {
      "text/plain": [
       "False"
      ]
     },
     "execution_count": 51,
     "metadata": {},
     "output_type": "execute_result"
    }
   ],
   "source": [
    "'h' in mylist"
   ]
  },
  {
   "cell_type": "code",
   "execution_count": 52,
   "id": "d1d10797",
   "metadata": {},
   "outputs": [
    {
     "data": {
      "text/plain": [
       "True"
      ]
     },
     "execution_count": 52,
     "metadata": {},
     "output_type": "execute_result"
    }
   ],
   "source": [
    "'h' in mylist[0]"
   ]
  },
  {
   "cell_type": "code",
   "execution_count": 53,
   "id": "507667b2",
   "metadata": {},
   "outputs": [
    {
     "name": "stdout",
     "output_type": "stream",
     "text": [
      "Found \"h\" in hello\n",
      "Found \"h\" in there\n"
     ]
    }
   ],
   "source": [
    "for one_item in mylist:\n",
    "    if 'h' in one_item:\n",
    "        print(f'Found \"h\" in {one_item}')"
   ]
  },
  {
   "cell_type": "markdown",
   "id": "b2373fc2",
   "metadata": {},
   "source": [
    "# Exercise: Vowels, digits, and others... list edition\n",
    "\n",
    "1. Define three empty lists (`vowels`, `digits`, `others`).\n",
    "2. Ask the user to enter text, again and again\n",
    "    - If we get an empty string (presses ENTER alone), exit\n",
    "3. Iterate over the text we got from the user, one character at a time\n",
    "    - If we got a vowel, add it to `vowels`\n",
    "    - If we got a digit, add it to `digits`\n",
    "    - Otherwise, add to `others`\n",
    "    \n",
    "Example:\n",
    "\n",
    "    Enter text: hello!\n",
    "    Enter text: 123\n",
    "    Enter text: [ENTER]\n",
    "    vowels: ['e', 'o']\n",
    "    digits: ['1', '2', '3']\n",
    "    others: ['h', 'l', 'l', '!']"
   ]
  },
  {
   "cell_type": "code",
   "execution_count": 54,
   "id": "9a2230ae",
   "metadata": {},
   "outputs": [
    {
     "name": "stdout",
     "output_type": "stream",
     "text": [
      "Enter text: hello out there\n",
      "Enter text: this is 12345\n",
      "Enter text: I'm done\n",
      "Enter text: \n",
      "['e', 'o', 'o', 'u', 'e', 'e', 'i', 'i', 'o', 'e']\n",
      "['1', '2', '3', '4', '5']\n",
      "['h', 'l', 'l', ' ', 't', ' ', 't', 'h', 'r', 't', 'h', 's', ' ', 's', ' ', 'I', \"'\", 'm', ' ', 'd', 'n']\n"
     ]
    }
   ],
   "source": [
    "vowels = []\n",
    "digits = []\n",
    "others = []\n",
    "\n",
    "while True:\n",
    "    text = input('Enter text: ').strip()\n",
    "    \n",
    "    if text == '':\n",
    "        break\n",
    "        \n",
    "    for one_character in text:\n",
    "        if one_character in 'aeiou':\n",
    "            vowels.append(one_character)\n",
    "        elif one_character.isdigit():\n",
    "            digits.append(one_character)\n",
    "        else:\n",
    "            others.append(one_character)\n",
    "            \n",
    "print(vowels)\n",
    "print(digits)\n",
    "print(others)"
   ]
  },
  {
   "cell_type": "code",
   "execution_count": 55,
   "id": "c1ab7692",
   "metadata": {},
   "outputs": [
    {
     "data": {
      "text/plain": [
       "123"
      ]
     },
     "execution_count": 55,
     "metadata": {},
     "output_type": "execute_result"
    }
   ],
   "source": [
    "s = '123'\n",
    "int(s)"
   ]
  },
  {
   "cell_type": "code",
   "execution_count": 56,
   "id": "afa6b63d",
   "metadata": {
    "scrolled": true
   },
   "outputs": [
    {
     "data": {
      "text/plain": [
       "123.0"
      ]
     },
     "execution_count": 56,
     "metadata": {},
     "output_type": "execute_result"
    }
   ],
   "source": [
    "float(s)"
   ]
  },
  {
   "cell_type": "code",
   "execution_count": 58,
   "id": "51005f1b",
   "metadata": {},
   "outputs": [
    {
     "data": {
      "text/plain": [
       "['1', '2', '3']"
      ]
     },
     "execution_count": 58,
     "metadata": {},
     "output_type": "execute_result"
    }
   ],
   "source": [
    "list(s)   # we get a list of one-character strings"
   ]
  },
  {
   "cell_type": "code",
   "execution_count": 59,
   "id": "8a7eb146",
   "metadata": {},
   "outputs": [
    {
     "data": {
      "text/plain": [
       "['t',\n",
       " 'h',\n",
       " 'i',\n",
       " 's',\n",
       " ' ',\n",
       " 'i',\n",
       " 's',\n",
       " ' ',\n",
       " 'a',\n",
       " ' ',\n",
       " 'b',\n",
       " 'u',\n",
       " 'n',\n",
       " 'c',\n",
       " 'h',\n",
       " ' ',\n",
       " 'o',\n",
       " 'f',\n",
       " ' ',\n",
       " 'w',\n",
       " 'o',\n",
       " 'r',\n",
       " 'd',\n",
       " 's']"
      ]
     },
     "execution_count": 59,
     "metadata": {},
     "output_type": "execute_result"
    }
   ],
   "source": [
    "s = 'this is a bunch of words'\n",
    "list(s)"
   ]
  },
  {
   "cell_type": "code",
   "execution_count": 61,
   "id": "8d5ae0de",
   "metadata": {},
   "outputs": [
    {
     "data": {
      "text/plain": [
       "['this', 'is', 'a', 'bunch', 'of', 'words']"
      ]
     },
     "execution_count": 61,
     "metadata": {},
     "output_type": "execute_result"
    }
   ],
   "source": [
    "# default of split is to work on whitespace\n",
    "\n",
    "s.split()   # a string method that returns a list of strings"
   ]
  },
  {
   "cell_type": "code",
   "execution_count": 62,
   "id": "1ffce53d",
   "metadata": {},
   "outputs": [
    {
     "name": "stdout",
     "output_type": "stream",
     "text": [
      "this\n",
      "is\n",
      "a\n",
      "bunch\n",
      "of\n",
      "words\n"
     ]
    }
   ],
   "source": [
    "for one_item in s.split():\n",
    "    print(one_item)"
   ]
  },
  {
   "cell_type": "code",
   "execution_count": 63,
   "id": "7850d7a2",
   "metadata": {},
   "outputs": [
    {
     "data": {
      "text/plain": [
       "['this', 'is', 'a', 'bunch', 'of', 'words']"
      ]
     },
     "execution_count": 63,
     "metadata": {},
     "output_type": "execute_result"
    }
   ],
   "source": [
    "# what if I have a list of strings, and I want a new string?\n",
    "\n",
    "words = s.split()\n",
    "words"
   ]
  },
  {
   "cell_type": "code",
   "execution_count": 64,
   "id": "14e6ec8f",
   "metadata": {},
   "outputs": [
    {
     "data": {
      "text/plain": [
       "'this is a bunch of words'"
      ]
     },
     "execution_count": 64,
     "metadata": {},
     "output_type": "execute_result"
    }
   ],
   "source": [
    "# we run str.join on the string we want between things\n",
    "\n",
    "' '.join(words)"
   ]
  },
  {
   "cell_type": "code",
   "execution_count": 65,
   "id": "4d87bee4",
   "metadata": {},
   "outputs": [
    {
     "data": {
      "text/plain": [
       "'this***is***a***bunch***of***words'"
      ]
     },
     "execution_count": 65,
     "metadata": {},
     "output_type": "execute_result"
    }
   ],
   "source": [
    "'***'.join(words)"
   ]
  },
  {
   "cell_type": "code",
   "execution_count": 66,
   "id": "2c901b8e",
   "metadata": {},
   "outputs": [
    {
     "data": {
      "text/plain": [
       "'thisisabunchofwords'"
      ]
     },
     "execution_count": 66,
     "metadata": {},
     "output_type": "execute_result"
    }
   ],
   "source": [
    "''.join(words)"
   ]
  },
  {
   "cell_type": "markdown",
   "id": "99631144",
   "metadata": {},
   "source": [
    "# Exercise: Pig Latin sentence\n",
    "\n",
    "1. Last time, we translated one word into Pig Latin.\n",
    "2. This time, we'll get a sentence (just lowercase, no symbols/punctuation).\n",
    "3. Translate each word into Pig Latin, and print on the screen.\n",
    "\n",
    "Example:\n",
    "\n",
    "    Enter text: this is a test\n",
    "    histay isway away esttay"
   ]
  },
  {
   "cell_type": "code",
   "execution_count": 67,
   "id": "4f3125d2",
   "metadata": {},
   "outputs": [
    {
     "name": "stdout",
     "output_type": "stream",
     "text": [
      "Enter word: octopus\n",
      "octopusway\n"
     ]
    }
   ],
   "source": [
    "word = input('Enter word: ').strip()\n",
    "\n",
    "if word[0] in 'aeiou':    # if the word starts with a vowel, add 'way'\n",
    "    print(word + 'way')\n",
    "else:\n",
    "    print(word[1:] + word[0] + 'ay')   # otherwise, first letter to end, add 'ay'"
   ]
  },
  {
   "cell_type": "code",
   "execution_count": 68,
   "id": "eeded84f",
   "metadata": {},
   "outputs": [
    {
     "name": "stdout",
     "output_type": "stream",
     "text": [
      "t\n",
      "h\n",
      "i\n",
      "s\n",
      " \n",
      "i\n",
      "s\n",
      " \n",
      "a\n",
      " \n",
      "s\n",
      "e\n",
      "n\n",
      "t\n",
      "e\n",
      "n\n",
      "c\n",
      "e\n"
     ]
    }
   ],
   "source": [
    "s = 'this is a sentence'\n",
    "\n",
    "for one_word in s:\n",
    "    print(one_word)"
   ]
  },
  {
   "cell_type": "code",
   "execution_count": 69,
   "id": "defcc3be",
   "metadata": {},
   "outputs": [
    {
     "name": "stdout",
     "output_type": "stream",
     "text": [
      "Enter sentence: this is a test\n",
      "histay\n",
      "isway\n",
      "away\n",
      "esttay\n"
     ]
    }
   ],
   "source": [
    "sentence = input('Enter sentence: ').strip()\n",
    "\n",
    "for word in sentence.split():\n",
    "    if word[0] in 'aeiou':   \n",
    "        print(word + 'way')\n",
    "    else:\n",
    "        print(word[1:] + word[0] + 'ay') "
   ]
  },
  {
   "cell_type": "code",
   "execution_count": 71,
   "id": "3e66d1b1",
   "metadata": {},
   "outputs": [
    {
     "name": "stdout",
     "output_type": "stream",
     "text": [
      "Enter sentence: this is a test\n",
      "histay isway away esttay\n"
     ]
    }
   ],
   "source": [
    "# one line output\n",
    "\n",
    "sentence = input('Enter sentence: ').strip()\n",
    "output = []\n",
    "\n",
    "for word in sentence.split():\n",
    "    if word[0] in 'aeiou':   \n",
    "        output.append(word + 'way')\n",
    "    else:\n",
    "        output.append(word[1:] + word[0] + 'ay') \n",
    "        \n",
    "print(' '.join(output))"
   ]
  },
  {
   "cell_type": "markdown",
   "id": "7a6cacc2",
   "metadata": {},
   "source": [
    "# Tuple \n",
    "\n"
   ]
  },
  {
   "cell_type": "code",
   "execution_count": 72,
   "id": "a76950bd",
   "metadata": {},
   "outputs": [
    {
     "data": {
      "text/plain": [
       "list"
      ]
     },
     "execution_count": 72,
     "metadata": {},
     "output_type": "execute_result"
    }
   ],
   "source": [
    "mylist = [10, 20, 30, 40, 50]   \n",
    "type(mylist)"
   ]
  },
  {
   "cell_type": "code",
   "execution_count": 73,
   "id": "f4c0c18c",
   "metadata": {},
   "outputs": [
    {
     "data": {
      "text/plain": [
       "tuple"
      ]
     },
     "execution_count": 73,
     "metadata": {},
     "output_type": "execute_result"
    }
   ],
   "source": [
    "t = (10, 20, 30, 40, 50)\n",
    "type(t)"
   ]
  },
  {
   "cell_type": "code",
   "execution_count": 74,
   "id": "219d6be2",
   "metadata": {},
   "outputs": [
    {
     "data": {
      "text/plain": [
       "10"
      ]
     },
     "execution_count": 74,
     "metadata": {},
     "output_type": "execute_result"
    }
   ],
   "source": [
    "t[0]"
   ]
  },
  {
   "cell_type": "code",
   "execution_count": 75,
   "id": "bce819b2",
   "metadata": {},
   "outputs": [
    {
     "data": {
      "text/plain": [
       "50"
      ]
     },
     "execution_count": 75,
     "metadata": {},
     "output_type": "execute_result"
    }
   ],
   "source": [
    "t[-1]"
   ]
  },
  {
   "cell_type": "code",
   "execution_count": 76,
   "id": "b6faa22c",
   "metadata": {},
   "outputs": [
    {
     "data": {
      "text/plain": [
       "True"
      ]
     },
     "execution_count": 76,
     "metadata": {},
     "output_type": "execute_result"
    }
   ],
   "source": [
    "30 in t"
   ]
  },
  {
   "cell_type": "code",
   "execution_count": 77,
   "id": "a160004d",
   "metadata": {},
   "outputs": [
    {
     "name": "stdout",
     "output_type": "stream",
     "text": [
      "10\n",
      "20\n",
      "30\n",
      "40\n",
      "50\n"
     ]
    }
   ],
   "source": [
    "for one_item in t:\n",
    "    print(one_item)"
   ]
  },
  {
   "cell_type": "code",
   "execution_count": 78,
   "id": "034b5792",
   "metadata": {},
   "outputs": [
    {
     "ename": "TypeError",
     "evalue": "'tuple' object does not support item assignment",
     "output_type": "error",
     "traceback": [
      "\u001b[0;31m---------------------------------------------------------------------------\u001b[0m",
      "\u001b[0;31mTypeError\u001b[0m                                 Traceback (most recent call last)",
      "Cell \u001b[0;32mIn[78], line 1\u001b[0m\n\u001b[0;32m----> 1\u001b[0m \u001b[43mt\u001b[49m\u001b[43m[\u001b[49m\u001b[38;5;241;43m0\u001b[39;49m\u001b[43m]\u001b[49m \u001b[38;5;241m=\u001b[39m \u001b[38;5;124m'\u001b[39m\u001b[38;5;124m!\u001b[39m\u001b[38;5;124m'\u001b[39m\n",
      "\u001b[0;31mTypeError\u001b[0m: 'tuple' object does not support item assignment"
     ]
    }
   ],
   "source": [
    "t[0] = '!'"
   ]
  },
  {
   "cell_type": "markdown",
   "id": "c69da708",
   "metadata": {},
   "source": [
    "Python parentheses primer: https://lerner.co.il/2018/06/08/python-parentheses-primer/"
   ]
  },
  {
   "cell_type": "markdown",
   "id": "27dbc9b1",
   "metadata": {},
   "source": [
    "# Dictionary\n",
    "\n",
    "Also: Hash table, hashmap, hash, map, associate array, key-value store, name-value store\n",
    "\n",
    "- Key (sort of like the index)\n",
    "- Value\n",
    "\n",
    "Some things to know:\n",
    "- Keys can be any immutable type (e.g., int or str)\n",
    "- Keys in a dict are unique\n",
    "- Values can be anything at all\n",
    "- Every key has a value, every value has a key\n",
    "\n",
    "Define a dict with `{}`\n",
    "- We put every key-value pair with `:` between them\n",
    "- We put `,` between every pair"
   ]
  },
  {
   "cell_type": "code",
   "execution_count": 79,
   "id": "7e918cf9",
   "metadata": {},
   "outputs": [],
   "source": [
    "d = {'a':10, 'b':20, 'c':30}"
   ]
  },
  {
   "cell_type": "code",
   "execution_count": 80,
   "id": "763f26d3",
   "metadata": {},
   "outputs": [
    {
     "data": {
      "text/plain": [
       "3"
      ]
     },
     "execution_count": 80,
     "metadata": {},
     "output_type": "execute_result"
    }
   ],
   "source": [
    "len(d)"
   ]
  },
  {
   "cell_type": "code",
   "execution_count": 82,
   "id": "035b3dde",
   "metadata": {},
   "outputs": [
    {
     "data": {
      "text/plain": [
       "10"
      ]
     },
     "execution_count": 82,
     "metadata": {},
     "output_type": "execute_result"
    }
   ],
   "source": [
    "d['a']"
   ]
  },
  {
   "cell_type": "code",
   "execution_count": 83,
   "id": "a2038b09",
   "metadata": {
    "scrolled": true
   },
   "outputs": [
    {
     "ename": "KeyError",
     "evalue": "1",
     "output_type": "error",
     "traceback": [
      "\u001b[0;31m---------------------------------------------------------------------------\u001b[0m",
      "\u001b[0;31mKeyError\u001b[0m                                  Traceback (most recent call last)",
      "Cell \u001b[0;32mIn[83], line 1\u001b[0m\n\u001b[0;32m----> 1\u001b[0m \u001b[43md\u001b[49m\u001b[43m[\u001b[49m\u001b[38;5;241;43m1\u001b[39;49m\u001b[43m]\u001b[49m\n",
      "\u001b[0;31mKeyError\u001b[0m: 1"
     ]
    }
   ],
   "source": [
    "d[1]"
   ]
  },
  {
   "cell_type": "code",
   "execution_count": null,
   "id": "b7166da2",
   "metadata": {},
   "outputs": [],
   "source": []
  },
  {
   "cell_type": "markdown",
   "id": "7944da7e",
   "metadata": {},
   "source": [
    "# Dict examples\n",
    "\n",
    "1. ID numbers and people\n",
    "2. Filenames and file info\n",
    "3. IP address and computer info\n",
    "4. Month numbers and names"
   ]
  },
  {
   "cell_type": "code",
   "execution_count": 84,
   "id": "bd6dfeb6",
   "metadata": {},
   "outputs": [
    {
     "data": {
      "text/plain": [
       "{'a': 10, 'b': 20, 'c': 30}"
      ]
     },
     "execution_count": 84,
     "metadata": {},
     "output_type": "execute_result"
    }
   ],
   "source": [
    "d"
   ]
  },
  {
   "cell_type": "code",
   "execution_count": 85,
   "id": "c11ddbda",
   "metadata": {},
   "outputs": [
    {
     "data": {
      "text/plain": [
       "10"
      ]
     },
     "execution_count": 85,
     "metadata": {},
     "output_type": "execute_result"
    }
   ],
   "source": [
    "d['a']"
   ]
  },
  {
   "cell_type": "code",
   "execution_count": 86,
   "id": "1c0546fe",
   "metadata": {},
   "outputs": [
    {
     "data": {
      "text/plain": [
       "20"
      ]
     },
     "execution_count": 86,
     "metadata": {},
     "output_type": "execute_result"
    }
   ],
   "source": [
    "d['b']"
   ]
  },
  {
   "cell_type": "code",
   "execution_count": 87,
   "id": "9729a42a",
   "metadata": {},
   "outputs": [
    {
     "data": {
      "text/plain": [
       "30"
      ]
     },
     "execution_count": 87,
     "metadata": {},
     "output_type": "execute_result"
    }
   ],
   "source": [
    "d['c']"
   ]
  },
  {
   "cell_type": "code",
   "execution_count": 88,
   "id": "b45e66dd",
   "metadata": {},
   "outputs": [
    {
     "ename": "KeyError",
     "evalue": "'x'",
     "output_type": "error",
     "traceback": [
      "\u001b[0;31m---------------------------------------------------------------------------\u001b[0m",
      "\u001b[0;31mKeyError\u001b[0m                                  Traceback (most recent call last)",
      "Cell \u001b[0;32mIn[88], line 1\u001b[0m\n\u001b[0;32m----> 1\u001b[0m \u001b[43md\u001b[49m\u001b[43m[\u001b[49m\u001b[38;5;124;43m'\u001b[39;49m\u001b[38;5;124;43mx\u001b[39;49m\u001b[38;5;124;43m'\u001b[39;49m\u001b[43m]\u001b[49m\n",
      "\u001b[0;31mKeyError\u001b[0m: 'x'"
     ]
    }
   ],
   "source": [
    "d['x']"
   ]
  },
  {
   "cell_type": "code",
   "execution_count": 89,
   "id": "fa69ed7a",
   "metadata": {},
   "outputs": [
    {
     "data": {
      "text/plain": [
       "False"
      ]
     },
     "execution_count": 89,
     "metadata": {},
     "output_type": "execute_result"
    }
   ],
   "source": [
    "'x' in d   # only checks in the keys!"
   ]
  },
  {
   "cell_type": "code",
   "execution_count": 90,
   "id": "b442eccd",
   "metadata": {},
   "outputs": [
    {
     "data": {
      "text/plain": [
       "{'a': 10, 'b': 20, 'c': 30}"
      ]
     },
     "execution_count": 90,
     "metadata": {},
     "output_type": "execute_result"
    }
   ],
   "source": [
    "d"
   ]
  },
  {
   "cell_type": "code",
   "execution_count": 91,
   "id": "9e0bdbe8",
   "metadata": {},
   "outputs": [
    {
     "data": {
      "text/plain": [
       "False"
      ]
     },
     "execution_count": 91,
     "metadata": {},
     "output_type": "execute_result"
    }
   ],
   "source": [
    "10 in d     "
   ]
  },
  {
   "cell_type": "markdown",
   "id": "cef2ab97",
   "metadata": {},
   "source": [
    "# Exercise: Restaurant\n",
    "\n",
    "1. Define a dict, `menu`, where the keys are the menu items (strings) and the values will be integers.\n",
    "2. Define `total` to be 0.\n",
    "3. Ask the user, repeatedly, what they want to order\n",
    "    - If they press `ENTER`, stop asking and print the total\n",
    "4. If they enter something:\n",
    "    - If the string is a key in our `menu` dict, print the item, its price, and the new total (after adding to it)\n",
    "    - If the string is *NOT* in the `menu` dict, tell the user\n",
    "5. Print `total`\n",
    "\n",
    "Example:\n",
    "\n",
    "    Order: sandwich\n",
    "    sandwich is 10, total is 10\n",
    "    Order: tea\n",
    "    tea is 5, total is 15\n",
    "    Order: elephant\n",
    "    Sorry, we're all out of elephant today!\n",
    "    Order: [ENTER]\n",
    "    total is 15"
   ]
  },
  {
   "cell_type": "code",
   "execution_count": 92,
   "id": "1560b86d",
   "metadata": {},
   "outputs": [
    {
     "name": "stdout",
     "output_type": "stream",
     "text": [
      "Enter order: sandwich\n",
      "sandwich is 10, total is now 10\n",
      "Enter order: tea\n",
      "tea is 5, total is now 15\n",
      "Enter order: asdfafafdfs\n",
      "We are out of asdfafafdfs today!\n",
      "Enter order: \n",
      "Total is 15\n"
     ]
    }
   ],
   "source": [
    "menu = {'sandwich':10, \n",
    "        'tea':5,\n",
    "       'apple':1,\n",
    "       'cake':8}\n",
    "total = 0\n",
    "\n",
    "while True:\n",
    "    order = input('Enter order: ').strip()\n",
    "    \n",
    "    if order == '':\n",
    "        break\n",
    "        \n",
    "    if order in menu:\n",
    "        price = menu[order]\n",
    "        total += price\n",
    "        print(f'{order} is {price}, total is now {total}')\n",
    "    else:\n",
    "        print(f'We are out of {order} today!')\n",
    "        \n",
    "print(f'Total is {total}')"
   ]
  },
  {
   "cell_type": "code",
   "execution_count": null,
   "id": "7f1c40b5",
   "metadata": {},
   "outputs": [],
   "source": [
    "menu = {'sandwich':10, \n",
    "        'tea':5,\n",
    "       'apple':1,\n",
    "       'cake':8}\n",
    "total = 0\n",
    "\n",
    "while True:\n",
    "    order = input('Enter order: ').strip()\n",
    "    \n",
    "    if order == '':\n",
    "        break\n",
    "        \n",
    "    if order in menu:\n",
    "        total += menu[order]\n",
    "        print(f'{order} is {menu[order]}, total is now {total}')\n",
    "    else:\n",
    "        print(f'We are out of {order} today!')\n",
    "        \n",
    "print(f'Total is {total}')"
   ]
  },
  {
   "cell_type": "markdown",
   "id": "f86224d7",
   "metadata": {},
   "source": [
    "# Next up\n",
    "\n",
    "- Modifying and using dicts\n",
    "- Iterating on dicts\n",
    "- Files (reading from files, mostly)\n",
    "- Modules"
   ]
  },
  {
   "cell_type": "code",
   "execution_count": 93,
   "id": "9169dbee",
   "metadata": {},
   "outputs": [
    {
     "ename": "IndentationError",
     "evalue": "expected an indented block after 'if' statement on line 1 (1057541763.py, line 2)",
     "output_type": "error",
     "traceback": [
      "\u001b[0;36m  Cell \u001b[0;32mIn[93], line 2\u001b[0;36m\u001b[0m\n\u001b[0;31m    asdfafafa\u001b[0m\n\u001b[0m    ^\u001b[0m\n\u001b[0;31mIndentationError\u001b[0m\u001b[0;31m:\u001b[0m expected an indented block after 'if' statement on line 1\n"
     ]
    }
   ],
   "source": [
    "if True:\n",
    "asdfafafa"
   ]
  },
  {
   "cell_type": "code",
   "execution_count": 94,
   "id": "60c4f9ca",
   "metadata": {},
   "outputs": [],
   "source": [
    "d = {'a':10, 'b':20, 'c':30}\n",
    "\n",
    "# change #1: update/change a value\n",
    "d['b'] = 2000"
   ]
  },
  {
   "cell_type": "code",
   "execution_count": 95,
   "id": "bf7bc3e5",
   "metadata": {},
   "outputs": [
    {
     "data": {
      "text/plain": [
       "{'a': 10, 'b': 2000, 'c': 30}"
      ]
     },
     "execution_count": 95,
     "metadata": {},
     "output_type": "execute_result"
    }
   ],
   "source": [
    "d"
   ]
  },
  {
   "cell_type": "code",
   "execution_count": 96,
   "id": "d627c3aa",
   "metadata": {},
   "outputs": [],
   "source": [
    "# change #2: add a new key-value pair\n",
    "\n",
    "d['x'] = 9876"
   ]
  },
  {
   "cell_type": "code",
   "execution_count": 97,
   "id": "10d4fd9d",
   "metadata": {},
   "outputs": [
    {
     "data": {
      "text/plain": [
       "{'a': 10, 'b': 2000, 'c': 30, 'x': 9876}"
      ]
     },
     "execution_count": 97,
     "metadata": {},
     "output_type": "execute_result"
    }
   ],
   "source": [
    "d"
   ]
  },
  {
   "cell_type": "code",
   "execution_count": 98,
   "id": "bd0e868c",
   "metadata": {},
   "outputs": [
    {
     "data": {
      "text/plain": [
       "9876"
      ]
     },
     "execution_count": 98,
     "metadata": {},
     "output_type": "execute_result"
    }
   ],
   "source": [
    "# change #3: remove a key-value pair\n",
    "\n",
    "d.pop('x')   # returns the value, removes the pair"
   ]
  },
  {
   "cell_type": "code",
   "execution_count": 99,
   "id": "e81e073c",
   "metadata": {},
   "outputs": [
    {
     "data": {
      "text/plain": [
       "{'a': 10, 'b': 2000, 'c': 30}"
      ]
     },
     "execution_count": 99,
     "metadata": {},
     "output_type": "execute_result"
    }
   ],
   "source": [
    "d"
   ]
  },
  {
   "cell_type": "code",
   "execution_count": 101,
   "id": "bd2bfae4",
   "metadata": {},
   "outputs": [
    {
     "name": "stdout",
     "output_type": "stream",
     "text": [
      "Enter text: this is a test\n"
     ]
    }
   ],
   "source": [
    "# count characters \n",
    "\n",
    "counts = {}\n",
    "\n",
    "s = input('Enter text: ').strip()\n",
    "\n",
    "for one_character in s:\n",
    "    if one_character in counts:\n",
    "        counts[one_character] += 1    # other times -- update the value\n",
    "    else:\n",
    "        counts[one_character] = 1      # first time -- add the key-value pair\n",
    "    \n",
    "    "
   ]
  },
  {
   "cell_type": "code",
   "execution_count": 102,
   "id": "0adbefab",
   "metadata": {},
   "outputs": [
    {
     "data": {
      "text/plain": [
       "{'t': 3, 'h': 1, 'i': 2, 's': 3, ' ': 3, 'a': 1, 'e': 1}"
      ]
     },
     "execution_count": 102,
     "metadata": {},
     "output_type": "execute_result"
    }
   ],
   "source": [
    "counts"
   ]
  },
  {
   "cell_type": "markdown",
   "id": "8fab1a39",
   "metadata": {},
   "source": [
    "# Exercise: Rainfall\n",
    "\n",
    "1. Define `rainfall`, an empty dict. We'll fill the dict with strings (city names) as keys, and integers (rainfall) as values.\n",
    "2. Ask the user repeatedly for the name of a city.\n",
    "    - If we get an empty name, we stop\n",
    "3. Ask the user how much rain fell in that city\n",
    "    - Assume we'll get integers here\n",
    "4. If this is the first time we see this city, add the key-value to the dict\n",
    "5. If we've seen this city before, add the rainfall amount to what was there\n",
    "6. Print the dict in the end\n",
    "\n",
    "Example:\n",
    "\n",
    "    City: Jerusalem\n",
    "    Rain: 5\n",
    "    City: Tel Aviv\n",
    "    Rain: 4\n",
    "    City: Jerusalem\n",
    "    Rain: 3\n",
    "    City: [ENTER]\n",
    "    {'Jerusalem': 8, 'Tel Aviv': 4}"
   ]
  },
  {
   "cell_type": "code",
   "execution_count": 103,
   "id": "9351e0dc",
   "metadata": {},
   "outputs": [
    {
     "name": "stdout",
     "output_type": "stream",
     "text": [
      "Enter city: Jerusalem\n",
      "Rain: 5\n",
      "Enter city: Tel Aviv\n",
      "Rain: 4\n",
      "Enter city: Jerusalem\n",
      "Rain: 3\n",
      "Enter city: \n",
      "{'Jerusalem': 8, 'Tel Aviv': 4}\n"
     ]
    }
   ],
   "source": [
    "rainfall = {}\n",
    "\n",
    "while True:\n",
    "    city_name = input('Enter city: ').strip()\n",
    "    \n",
    "    if city_name == '':\n",
    "        break\n",
    "        \n",
    "    mm_rain = input('Rain: ').strip()\n",
    "    mm_rain = int(mm_rain)\n",
    "    \n",
    "    if city_name in rainfall:\n",
    "        rainfall[city_name] += mm_rain\n",
    "    else:\n",
    "        rainfall[city_name] = mm_rain\n",
    "        \n",
    "print(rainfall)        "
   ]
  },
  {
   "cell_type": "code",
   "execution_count": 104,
   "id": "bff076b4",
   "metadata": {},
   "outputs": [
    {
     "name": "stdout",
     "output_type": "stream",
     "text": [
      "Jerusalem\n",
      "Tel Aviv\n"
     ]
    }
   ],
   "source": [
    "# if we iterate over a dict, we get the keys\n",
    "\n",
    "for one_item in rainfall:\n",
    "    print(one_item)"
   ]
  },
  {
   "cell_type": "code",
   "execution_count": 105,
   "id": "f05dc3dd",
   "metadata": {},
   "outputs": [
    {
     "name": "stdout",
     "output_type": "stream",
     "text": [
      "Jerusalem: 8\n",
      "Tel Aviv: 4\n"
     ]
    }
   ],
   "source": [
    "for one_item in rainfall:\n",
    "    print(f'{one_item}: {rainfall[one_item]}')"
   ]
  },
  {
   "cell_type": "code",
   "execution_count": 106,
   "id": "b45cdd1e",
   "metadata": {},
   "outputs": [
    {
     "name": "stdout",
     "output_type": "stream",
     "text": [
      "Jerusalem: 8\n",
      "Tel Aviv: 4\n"
     ]
    }
   ],
   "source": [
    "# we can run on the result from dict.items\n",
    "# we'll get both the key and the value in each iteration\n",
    "\n",
    "for key, value in rainfall.items():\n",
    "    print(f'{key}: {value}')"
   ]
  },
  {
   "cell_type": "code",
   "execution_count": 107,
   "id": "455bceab",
   "metadata": {},
   "outputs": [
    {
     "name": "stdout",
     "output_type": "stream",
     "text": [
      "Jerusalem:\t8\n",
      "Tel Aviv:\t4\n"
     ]
    }
   ],
   "source": [
    "for key, value in rainfall.items():\n",
    "    print(f'{key}:\\t{value}')"
   ]
  },
  {
   "cell_type": "code",
   "execution_count": 108,
   "id": "05ebef6c",
   "metadata": {},
   "outputs": [
    {
     "ename": "TypeError",
     "evalue": "can only concatenate str (not \"int\") to str",
     "output_type": "error",
     "traceback": [
      "\u001b[0;31m---------------------------------------------------------------------------\u001b[0m",
      "\u001b[0;31mTypeError\u001b[0m                                 Traceback (most recent call last)",
      "Cell \u001b[0;32mIn[108], line 1\u001b[0m\n\u001b[0;32m----> 1\u001b[0m \u001b[38;5;124;43m'\u001b[39;49m\u001b[38;5;124;43ma\u001b[39;49m\u001b[38;5;124;43m'\u001b[39;49m\u001b[43m \u001b[49m\u001b[38;5;241;43m+\u001b[39;49m\u001b[43m \u001b[49m\u001b[38;5;241;43m5\u001b[39;49m\n",
      "\u001b[0;31mTypeError\u001b[0m: can only concatenate str (not \"int\") to str"
     ]
    }
   ],
   "source": [
    "'a' + 5"
   ]
  },
  {
   "cell_type": "code",
   "execution_count": 109,
   "id": "1e5735f4",
   "metadata": {},
   "outputs": [
    {
     "data": {
      "text/plain": [
       "'aaaaa'"
      ]
     },
     "execution_count": 109,
     "metadata": {},
     "output_type": "execute_result"
    }
   ],
   "source": [
    "'a' * 5"
   ]
  },
  {
   "cell_type": "code",
   "execution_count": 110,
   "id": "0c7d4cdd",
   "metadata": {},
   "outputs": [
    {
     "name": "stdout",
     "output_type": "stream",
     "text": [
      "Jerusalem:\txxxxxxxx\n",
      "Tel Aviv:\txxxx\n"
     ]
    }
   ],
   "source": [
    "for key, value in rainfall.items():\n",
    "    print(f'{key}:\\t{value * 'x'}')"
   ]
  },
  {
   "cell_type": "code",
   "execution_count": null,
   "id": "83b6df60",
   "metadata": {},
   "outputs": [],
   "source": []
  }
 ],
 "metadata": {
  "kernelspec": {
   "display_name": "Python 3 (ipykernel)",
   "language": "python",
   "name": "python3"
  },
  "language_info": {
   "codemirror_mode": {
    "name": "ipython",
    "version": 3
   },
   "file_extension": ".py",
   "mimetype": "text/x-python",
   "name": "python",
   "nbconvert_exporter": "python",
   "pygments_lexer": "ipython3",
   "version": "3.12.7"
  }
 },
 "nbformat": 4,
 "nbformat_minor": 5
}
