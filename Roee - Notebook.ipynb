{
 "cells": [
  {
   "cell_type": "code",
   "execution_count": 3,
   "id": "a0d50a67",
   "metadata": {},
   "outputs": [
    {
     "name": "stdout",
     "output_type": "stream",
     "text": [
      "Enter you name: Roee\n",
      "Enter your city: Jerusalem\n",
      "hello Roee from Jerusalem!\n"
     ]
    }
   ],
   "source": [
    "name = input('Enter you name: ')\n",
    "city = input('Enter your city: ')\n",
    "\n",
    "print ('Hello ' + name + ' from ' + city +'!')"
   ]
  },
  {
   "cell_type": "code",
   "execution_count": null,
   "id": "7bc23243",
   "metadata": {},
   "outputs": [],
   "source": [
    "print (f)"
   ]
  }
 ],
 "metadata": {
  "kernelspec": {
   "display_name": "Python 3 (ipykernel)",
   "language": "python",
   "name": "python3"
  },
  "language_info": {
   "codemirror_mode": {
    "name": "ipython",
    "version": 3
   },
   "file_extension": ".py",
   "mimetype": "text/x-python",
   "name": "python",
   "nbconvert_exporter": "python",
   "pygments_lexer": "ipython3",
   "version": "3.12.7"
  }
 },
 "nbformat": 4,
 "nbformat_minor": 5
}
