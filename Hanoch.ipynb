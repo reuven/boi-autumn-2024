{
 "cells": [
  {
   "cell_type": "code",
   "execution_count": 1,
   "id": "b3b2e52e",
   "metadata": {},
   "outputs": [
    {
     "name": "stdout",
     "output_type": "stream",
     "text": [
      "shalomtohanoch\n"
     ]
    }
   ],
   "source": [
    "print ('shalom' + 'to'+ \"hanoch\")"
   ]
  },
  {
   "cell_type": "code",
   "execution_count": 2,
   "id": "b73f3506",
   "metadata": {},
   "outputs": [
    {
     "name": "stdout",
     "output_type": "stream",
     "text": [
      "shalom to hanoch\n"
     ]
    }
   ],
   "source": [
    "print ('shalom to hanoch')"
   ]
  },
  {
   "cell_type": "code",
   "execution_count": 6,
   "id": "1c433675",
   "metadata": {},
   "outputs": [
    {
     "name": "stdout",
     "output_type": "stream",
     "text": [
      "100\n"
     ]
    }
   ],
   "source": [
    "x = 100\n",
    "print(x)"
   ]
  },
  {
   "cell_type": "markdown",
   "id": "cd5d37f2",
   "metadata": {},
   "source": [
    "name = 'hanoch'"
   ]
  },
  {
   "cell_type": "code",
   "execution_count": 7,
   "id": "4a84db73",
   "metadata": {},
   "outputs": [
    {
     "ename": "NameError",
     "evalue": "name 'name' is not defined",
     "output_type": "error",
     "traceback": [
      "\u001b[0;31m---------------------------------------------------------------------------\u001b[0m",
      "\u001b[0;31mNameError\u001b[0m                                 Traceback (most recent call last)",
      "Cell \u001b[0;32mIn[7], line 1\u001b[0m\n\u001b[0;32m----> 1\u001b[0m \u001b[38;5;28mprint\u001b[39m (\u001b[38;5;124m'\u001b[39m\u001b[38;5;124mhello,\u001b[39m\u001b[38;5;124m'\u001b[39m \u001b[38;5;241m+\u001b[39m \u001b[43mname\u001b[49m)\n",
      "\u001b[0;31mNameError\u001b[0m: name 'name' is not defined"
     ]
    }
   ],
   "source": [
    "print ('hello,' + name)"
   ]
  },
  {
   "cell_type": "code",
   "execution_count": 11,
   "id": "f20fe4a6",
   "metadata": {},
   "outputs": [
    {
     "name": "stdout",
     "output_type": "stream",
     "text": [
      "hello, Hanoch\n"
     ]
    }
   ],
   "source": [
    "name = 'Hanoch'\n",
    "print ('hello, ' + name)"
   ]
  },
  {
   "cell_type": "code",
   "execution_count": 12,
   "id": "a5631b52",
   "metadata": {},
   "outputs": [
    {
     "data": {
      "text/plain": [
       "100"
      ]
     },
     "execution_count": 12,
     "metadata": {},
     "output_type": "execute_result"
    }
   ],
   "source": [
    "x"
   ]
  },
  {
   "cell_type": "code",
   "execution_count": null,
   "id": "0e09f50e",
   "metadata": {},
   "outputs": [],
   "source": []
  },
  {
   "cell_type": "code",
   "execution_count": 13,
   "id": "e69fa552",
   "metadata": {},
   "outputs": [
    {
     "data": {
      "text/plain": [
       "105"
      ]
     },
     "execution_count": 13,
     "metadata": {},
     "output_type": "execute_result"
    }
   ],
   "source": [
    "x + 5"
   ]
  },
  {
   "cell_type": "code",
   "execution_count": 16,
   "id": "7da25e80",
   "metadata": {},
   "outputs": [
    {
     "data": {
      "text/plain": [
       "int"
      ]
     },
     "execution_count": 16,
     "metadata": {},
     "output_type": "execute_result"
    }
   ],
   "source": [
    "# 'what kind of value is in x?'\n",
    "type (x)"
   ]
  },
  {
   "cell_type": "code",
   "execution_count": 17,
   "id": "7aa1d8e2",
   "metadata": {},
   "outputs": [
    {
     "data": {
      "text/plain": [
       "str"
      ]
     },
     "execution_count": 17,
     "metadata": {},
     "output_type": "execute_result"
    }
   ],
   "source": [
    "x= 'abcd'\n",
    "type (x)"
   ]
  },
  {
   "cell_type": "code",
   "execution_count": 19,
   "id": "82eedad3",
   "metadata": {},
   "outputs": [
    {
     "data": {
      "text/plain": [
       "True"
      ]
     },
     "execution_count": 19,
     "metadata": {},
     "output_type": "execute_result"
    }
   ],
   "source": [
    "x=10\n",
    "y=10# are x and y the same?\n",
    "\n",
    "x==y"
   ]
  },
  {
   "cell_type": "code",
   "execution_count": 20,
   "id": "71541a21",
   "metadata": {},
   "outputs": [
    {
     "data": {
      "text/plain": [
       "False"
      ]
     },
     "execution_count": 20,
     "metadata": {},
     "output_type": "execute_result"
    }
   ],
   "source": [
    "100<10"
   ]
  },
  {
   "cell_type": "code",
   "execution_count": 21,
   "id": "8bca793f",
   "metadata": {},
   "outputs": [
    {
     "name": "stdout",
     "output_type": "stream",
     "text": [
      "Enter your name:Hanoch\n"
     ]
    }
   ],
   "source": [
    "name = input('Enter your name:')"
   ]
  },
  {
   "cell_type": "code",
   "execution_count": 25,
   "id": "bd7ba933",
   "metadata": {},
   "outputs": [
    {
     "name": "stdout",
     "output_type": "stream",
     "text": [
      "Hello,Givatyiam!\n"
     ]
    }
   ],
   "source": [
    "print ('Hello,' +name+ \"!\")"
   ]
  },
  {
   "cell_type": "code",
   "execution_count": 26,
   "id": "f750bbdd",
   "metadata": {},
   "outputs": [
    {
     "name": "stdout",
     "output_type": "stream",
     "text": [
      "Enter your name:Hanoch\n"
     ]
    }
   ],
   "source": [
    "name = input('Enter your name:')"
   ]
  },
  {
   "cell_type": "code",
   "execution_count": 27,
   "id": "9621df39",
   "metadata": {},
   "outputs": [
    {
     "name": "stdout",
     "output_type": "stream",
     "text": [
      "Enter your city:Givataym\n"
     ]
    }
   ],
   "source": [
    "city = input('Enter your city:')"
   ]
  },
  {
   "cell_type": "code",
   "execution_count": 29,
   "id": "5a64eb80",
   "metadata": {},
   "outputs": [
    {
     "name": "stdout",
     "output_type": "stream",
     "text": [
      "namecity\n"
     ]
    }
   ],
   "source": [
    "print (name + city)"
   ]
  },
  {
   "cell_type": "code",
   "execution_count": 39,
   "id": "2c4fd14b",
   "metadata": {},
   "outputs": [
    {
     "ename": "SyntaxError",
     "evalue": "unterminated string literal (detected at line 1) (1736058751.py, line 1)",
     "output_type": "error",
     "traceback": [
      "\u001b[0;36m  Cell \u001b[0;32mIn[39], line 1\u001b[0;36m\u001b[0m\n\u001b[0;31m    print (f\"hello\" + (name) + \"from = city + '!')\u001b[0m\n\u001b[0m                               ^\u001b[0m\n\u001b[0;31mSyntaxError\u001b[0m\u001b[0;31m:\u001b[0m unterminated string literal (detected at line 1)\n"
     ]
    }
   ],
   "source": [
    "print (f\"hello\" + (name) + \"from = city + '!')"
   ]
  },
  {
   "cell_type": "code",
   "execution_count": 40,
   "id": "6b6c8d93",
   "metadata": {
    "scrolled": true
   },
   "outputs": [
    {
     "name": "stdout",
     "output_type": "stream",
     "text": [
      "(x) +(y) = (x+y)\n"
     ]
    }
   ],
   "source": [
    "x = 10\n",
    "y = 20\n",
    "print (f'(x) +(y) = (x+y)')"
   ]
  },
  {
   "cell_type": "code",
   "execution_count": 43,
   "id": "679fc318",
   "metadata": {},
   "outputs": [
    {
     "name": "stdout",
     "output_type": "stream",
     "text": [
      "Enter your name: Hanoch\n",
      "hello, boss!\n",
      "greatto see you again!\n"
     ]
    }
   ],
   "source": [
    "name = input ('Enter your name: ')\n",
    "\n",
    "if name == 'Hanoch':\n",
    "    print (\"hello, boss!\")\n",
    "    print('greatto see you again!')\n",
    "else:\n",
    "    print(f'hello, (name), whoever you are')\n"
   ]
  },
  {
   "cell_type": "code",
   "execution_count": 46,
   "id": "3d44bcad",
   "metadata": {},
   "outputs": [
    {
     "name": "stdout",
     "output_type": "stream",
     "text": [
      "Enter your city: tel aviv\n",
      "hello, (name), whoever you are\n"
     ]
    }
   ],
   "source": [
    "name = input ('Enter your city: ')\n",
    "\n",
    "if name == 'haifa':\n",
    "    print (\"I, love, haifa!\")\n",
    "    print('great placeto be in!')\n",
    "else:\n",
    "    print(f'hello, (name), whoever you are')"
   ]
  },
  {
   "cell_type": "code",
   "execution_count": 47,
   "id": "b3e56527",
   "metadata": {},
   "outputs": [],
   "source": [
    "x=100"
   ]
  },
  {
   "cell_type": "code",
   "execution_count": 48,
   "id": "1e11508c",
   "metadata": {},
   "outputs": [],
   "source": [
    "y=200\n"
   ]
  },
  {
   "cell_type": "code",
   "execution_count": 49,
   "id": "73f6a7b3",
   "metadata": {},
   "outputs": [
    {
     "name": "stdout",
     "output_type": "stream",
     "text": [
      "300\n"
     ]
    }
   ],
   "source": [
    "print (x+y)"
   ]
  },
  {
   "cell_type": "code",
   "execution_count": 56,
   "id": "a0363505",
   "metadata": {},
   "outputs": [
    {
     "ename": "SyntaxError",
     "evalue": "unterminated string literal (detected at line 5) (354161529.py, line 5)",
     "output_type": "error",
     "traceback": [
      "\u001b[0;36m  Cell \u001b[0;32mIn[56], line 5\u001b[0;36m\u001b[0m\n\u001b[0;31m    print(\"f'(word1) comes before (word2))\u001b[0m\n\u001b[0m          ^\u001b[0m\n\u001b[0;31mSyntaxError\u001b[0m\u001b[0;31m:\u001b[0m unterminated string literal (detected at line 5)\n"
     ]
    }
   ],
   "source": [
    "word1 = input('Enter first word: ')\n",
    "word2 = input('Enter second word: ')\n",
    "\n",
    "if word1 > word2:\n",
    "              print(\"f'(word1) comes before (word2))\n",
    "if word1 < word2:\n",
    "              print(\"f'(word1) comes after (word2))"
   ]
  },
  {
   "cell_type": "code",
   "execution_count": 57,
   "id": "bd82d45a",
   "metadata": {},
   "outputs": [
    {
     "name": "stdout",
     "output_type": "stream",
     "text": [
      "Bigger than 24\n"
     ]
    }
   ],
   "source": [
    "x = 25\n",
    "\n",
    "if x > 90:\n",
    "    print('Bigger than 90')\n",
    "elif x > 70:\n",
    "    print('Bigger than 70')\n",
    "elif x > 50:\n",
    "    print('Bigger than 50')\n",
    "elif x > 24:\n",
    "    print('Bigger than 24')\n",
    "elif x > -1:\n",
    "     print('Bigger than -1')\n",
    "else:\n",
    "    print('who cares?')"
   ]
  },
  {
   "cell_type": "code",
   "execution_count": 60,
   "id": "b2e2dfc2",
   "metadata": {},
   "outputs": [
    {
     "ename": "IndentationError",
     "evalue": "unindent does not match any outer indentation level (<string>, line 6)",
     "output_type": "error",
     "traceback": [
      "\u001b[0;36m  File \u001b[0;32m<string>:6\u001b[0;36m\u001b[0m\n\u001b[0;31m    elif word1> word2:\u001b[0m\n\u001b[0m                      ^\u001b[0m\n\u001b[0;31mIndentationError\u001b[0m\u001b[0;31m:\u001b[0m unindent does not match any outer indentation level\n"
     ]
    }
   ],
   "source": [
    "word1 = input('Enter first word: ')\n",
    "word2 = input('Enter second word: ')\n",
    "\n",
    "if word1 < word2:\n",
    "              print(f'(word1) comes before (word2)')\n",
    "    elif word1> word2:\n",
    "              print(f'(word2) comes after (word1)')"
   ]
  },
  {
   "cell_type": "code",
   "execution_count": null,
   "id": "f89fa391",
   "metadata": {},
   "outputs": [],
   "source": [
    "x = 123456\n",
    "type(x)"
   ]
  }
 ],
 "metadata": {
  "kernelspec": {
   "display_name": "Python 3 (ipykernel)",
   "language": "python",
   "name": "python3"
  },
  "language_info": {
   "codemirror_mode": {
    "name": "ipython",
    "version": 3
   },
   "file_extension": ".py",
   "mimetype": "text/x-python",
   "name": "python",
   "nbconvert_exporter": "python",
   "pygments_lexer": "ipython3",
   "version": "3.12.7"
  }
 },
 "nbformat": 4,
 "nbformat_minor": 5
}
