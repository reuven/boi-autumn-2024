{
 "cells": [
  {
   "cell_type": "markdown",
   "id": "7e9818e0",
   "metadata": {},
   "source": [
    "# https://python.lerner.co.il\n",
    "\n",
    "Password: boipw!!"
   ]
  },
  {
   "cell_type": "markdown",
   "id": "16969002",
   "metadata": {},
   "source": [
    "# Agenda\n",
    "\n",
    "1. Loops\n",
    "2. List\n",
    "3. Dictionary\n",
    "4. Files\n",
    "5. Modules"
   ]
  },
  {
   "cell_type": "code",
   "execution_count": 1,
   "id": "9275b58e",
   "metadata": {},
   "outputs": [
    {
     "name": "stdout",
     "output_type": "stream",
     "text": [
      "a\n",
      "b\n",
      "c\n",
      "d\n"
     ]
    }
   ],
   "source": [
    "s = 'abcd'\n",
    "\n",
    "print(s[0])\n",
    "print(s[1])\n",
    "print(s[2])\n",
    "print(s[3])"
   ]
  },
  {
   "cell_type": "markdown",
   "id": "a9917f89",
   "metadata": {},
   "source": [
    "# Loops\n",
    "\n",
    "1. `for` loops\n",
    "2. `while` loops"
   ]
  },
  {
   "cell_type": "code",
   "execution_count": 2,
   "id": "aa4b08bd",
   "metadata": {},
   "outputs": [
    {
     "name": "stdout",
     "output_type": "stream",
     "text": [
      "a\n",
      "b\n",
      "c\n",
      "d\n"
     ]
    }
   ],
   "source": [
    "s = 'abcd'\n",
    "\n",
    "for one_character in s:\n",
    "    print(one_character)"
   ]
  },
  {
   "cell_type": "code",
   "execution_count": 3,
   "id": "76bea715",
   "metadata": {},
   "outputs": [
    {
     "name": "stdout",
     "output_type": "stream",
     "text": [
      "c\n",
      "d\n"
     ]
    }
   ],
   "source": [
    "s = 'abcd'\n",
    "\n",
    "for one_character in s[2:]:\n",
    "    print(one_character)"
   ]
  },
  {
   "cell_type": "code",
   "execution_count": 4,
   "id": "fe0e74ff",
   "metadata": {},
   "outputs": [
    {
     "ename": "TypeError",
     "evalue": "'int' object is not iterable",
     "output_type": "error",
     "traceback": [
      "\u001b[0;31m---------------------------------------------------------------------------\u001b[0m",
      "\u001b[0;31mTypeError\u001b[0m                                 Traceback (most recent call last)",
      "Cell \u001b[0;32mIn[4], line 1\u001b[0m\n\u001b[0;32m----> 1\u001b[0m \u001b[38;5;28;01mfor\u001b[39;00m counter \u001b[38;5;129;01min\u001b[39;00m \u001b[38;5;241m3\u001b[39m:\n\u001b[1;32m      2\u001b[0m     \u001b[38;5;28mprint\u001b[39m(\u001b[38;5;124m'\u001b[39m\u001b[38;5;124mHooray\u001b[39m\u001b[38;5;124m'\u001b[39m)\n",
      "\u001b[0;31mTypeError\u001b[0m: 'int' object is not iterable"
     ]
    }
   ],
   "source": [
    "for counter in 3:\n",
    "    print('Hooray')"
   ]
  },
  {
   "cell_type": "code",
   "execution_count": 5,
   "id": "692b0450",
   "metadata": {},
   "outputs": [
    {
     "name": "stdout",
     "output_type": "stream",
     "text": [
      "Hooray\n",
      "Hooray\n",
      "Hooray\n"
     ]
    }
   ],
   "source": [
    "for counter in range(3):    # use range(n) for n iterations\n",
    "    print('Hooray')"
   ]
  },
  {
   "cell_type": "code",
   "execution_count": 6,
   "id": "5adbe284",
   "metadata": {},
   "outputs": [
    {
     "name": "stdout",
     "output_type": "stream",
     "text": [
      "0 Hooray\n",
      "1 Hooray\n",
      "2 Hooray\n"
     ]
    }
   ],
   "source": [
    "for counter in range(3):    # range(3) gives me 0, 1, 2\n",
    "    print(f'{counter} Hooray')"
   ]
  },
  {
   "cell_type": "code",
   "execution_count": 7,
   "id": "8e7211d6",
   "metadata": {},
   "outputs": [
    {
     "name": "stdout",
     "output_type": "stream",
     "text": [
      "0\n",
      "1\n",
      "2\n",
      "3\n",
      "4\n"
     ]
    }
   ],
   "source": [
    "# to end a loop early, use break\n",
    "# if we've achieved our goal early\n",
    "\n",
    "for counter in range(10):\n",
    "    if counter == 5:\n",
    "        break\n",
    "    print(counter)"
   ]
  },
  {
   "cell_type": "code",
   "execution_count": 10,
   "id": "7cb6977c",
   "metadata": {},
   "outputs": [
    {
     "name": "stdout",
     "output_type": "stream",
     "text": [
      "0\n",
      "1\n",
      "2\n",
      "3\n",
      "4\n",
      "6\n",
      "7\n",
      "8\n",
      "9\n"
     ]
    }
   ],
   "source": [
    "# to end the current iteration early, use continue\n",
    "# if there's no reason to continue with the current one\n",
    "\n",
    "for counter in range(10):\n",
    "    if counter == 5:\n",
    "        continue    # go onto the next iteration\n",
    "    print(counter)"
   ]
  },
  {
   "cell_type": "code",
   "execution_count": 11,
   "id": "e60305a0",
   "metadata": {},
   "outputs": [
    {
     "name": "stdout",
     "output_type": "stream",
     "text": [
      "Looking for j.... found a\n",
      "Looking for j.... found b\n",
      "Looking for j.... found c\n",
      "Looking for j.... found d\n",
      "Looking for j.... found e\n",
      "Looking for j.... found f\n",
      "Looking for j.... found g\n",
      "Looking for j.... found h\n",
      "Looking for j.... found i\n",
      "Found j! Exiting\n"
     ]
    }
   ],
   "source": [
    "s = 'abcdefghijklmnopqrstuvwxyz'\n",
    "\n",
    "to_find = 'j'\n",
    "\n",
    "for one_character in s:\n",
    "    if one_character == to_find:\n",
    "        print(f'Found {to_find}! Exiting')\n",
    "        break\n",
    "    print(f'Looking for {to_find}.... found {one_character}')"
   ]
  },
  {
   "cell_type": "code",
   "execution_count": 12,
   "id": "86d945b2",
   "metadata": {},
   "outputs": [
    {
     "name": "stdout",
     "output_type": "stream",
     "text": [
      "Found j! Exiting\n"
     ]
    }
   ],
   "source": [
    "s = 'abcdefghijklmnopqrstuvwxyz'\n",
    "\n",
    "to_find = 'j'\n",
    "\n",
    "for one_character in s:\n",
    "    if one_character != to_find:\n",
    "        continue\n",
    "    print(f'Found {to_find}! Exiting')\n"
   ]
  },
  {
   "cell_type": "code",
   "execution_count": 17,
   "id": "9304208f",
   "metadata": {},
   "outputs": [],
   "source": [
    "# s = 'abcdefghijklmnopqrstuvwxyz'\n",
    "s = 'abcde'\n",
    "\n",
    "to_find = 'jklmn'\n",
    "\n",
    "for one_character in s:\n",
    "    if one_character in to_find: \n",
    "        print(f'{one_character} is in {to_find}! Exiting')\n",
    "        break\n"
   ]
  },
  {
   "cell_type": "code",
   "execution_count": 21,
   "id": "64c34f3e",
   "metadata": {},
   "outputs": [
    {
     "name": "stdout",
     "output_type": "stream",
     "text": [
      "\tLooking at a\n",
      "\tLooking at 1\n",
      "\t\tFound a digit, adding to total\n",
      "\tLooking at b\n",
      "\tLooking at 2\n",
      "\t\tFound a digit, adding to total\n",
      "\tLooking at c\n",
      "\tLooking at 3\n",
      "\t\tFound a digit, adding to total\n",
      "\tLooking at 4\n",
      "\t\tFound a digit, adding to total\n",
      "10\n"
     ]
    }
   ],
   "source": [
    "# add the digits in s\n",
    "\n",
    "s = 'a1b2c34'\n",
    "total = 0\n",
    "\n",
    "for one_character in s:\n",
    "    print(f'\\tLooking at {one_character}')\n",
    "    if one_character.isdigit():\n",
    "        print(f'\\t\\tFound a digit, adding to total')\n",
    "        total += int(one_character)\n",
    "    \n",
    "print(total)    "
   ]
  },
  {
   "cell_type": "code",
   "execution_count": 22,
   "id": "112d5ea3",
   "metadata": {},
   "outputs": [
    {
     "name": "stdout",
     "output_type": "stream",
     "text": [
      "0\n",
      "1\n",
      "2\n",
      "3\n",
      "4\n"
     ]
    }
   ],
   "source": [
    "for one_item in range(5):   \n",
    "    print(one_item)"
   ]
  },
  {
   "cell_type": "markdown",
   "id": "a834ecce",
   "metadata": {},
   "source": [
    "DRY -- don't repeat yourself"
   ]
  },
  {
   "cell_type": "code",
   "execution_count": 24,
   "id": "e5539a2f",
   "metadata": {},
   "outputs": [
    {
     "name": "stdout",
     "output_type": "stream",
     "text": [
      "k\n",
      "l\n",
      "m\n",
      "n\n",
      "o\n",
      "p\n",
      "q\n",
      "r\n",
      "s\n",
      "t\n"
     ]
    }
   ],
   "source": [
    "s = 'abcdefghijklmnopqrstuvwxyz'\n",
    "\n",
    "for one_letter in s[10:20]:\n",
    "    print(one_letter)"
   ]
  },
  {
   "cell_type": "code",
   "execution_count": 25,
   "id": "3b854326",
   "metadata": {},
   "outputs": [
    {
     "name": "stdout",
     "output_type": "stream",
     "text": [
      "10\n",
      "11\n",
      "12\n",
      "13\n",
      "14\n",
      "15\n",
      "16\n",
      "17\n",
      "18\n",
      "19\n"
     ]
    }
   ],
   "source": [
    "for one_item in range(10, 20):\n",
    "    print(one_item)"
   ]
  },
  {
   "cell_type": "code",
   "execution_count": 26,
   "id": "d9cb593c",
   "metadata": {},
   "outputs": [
    {
     "name": "stdout",
     "output_type": "stream",
     "text": [
      "10\n",
      "13\n",
      "16\n",
      "19\n"
     ]
    }
   ],
   "source": [
    "for one_item in range(10, 20, 3):\n",
    "    print(one_item)"
   ]
  },
  {
   "cell_type": "markdown",
   "id": "eca74dae",
   "metadata": {},
   "source": [
    "# Exercise: Digits, vowels, and others\n",
    "\n",
    "1. Define `digits`, `vowels`, and `others` -- all to be 0\n",
    "2. Ask the user to enter some text.\n",
    "3. Go over the text, one character at a time:\n",
    "    - if it's a digit, add 1 to `digits`\n",
    "    - if it's a vowel (a, e, i, o, u), add 1 to `vowels`\n",
    "    - otherwise, add 1 to `others`\n",
    "4. Print the values of `digits`, `vowels`, and `others`"
   ]
  },
  {
   "cell_type": "markdown",
   "id": "77a6aa50",
   "metadata": {},
   "source": [
    "https://github.com/reuven/boi-autumn-2024|"
   ]
  },
  {
   "cell_type": "code",
   "execution_count": 27,
   "id": "9643d4a5",
   "metadata": {},
   "outputs": [
    {
     "name": "stdout",
     "output_type": "stream",
     "text": [
      "Enter text: hello !! 123\n",
      "digits = 3\n",
      "vowels = 2\n",
      "others = 7\n"
     ]
    }
   ],
   "source": [
    "digits = 0\n",
    "vowels = 0\n",
    "others = 0\n",
    "\n",
    "text = input('Enter text: ').strip()\n",
    "\n",
    "for one_character in text:\n",
    "    if one_character in 'aeiou':    # if it's a vowel\n",
    "        vowels += 1                 #    add 1 to vowels\n",
    "    elif one_character.isdigit():   # if it's a digit\n",
    "        digits += 1                 #    add 1 to digits\n",
    "    else:\n",
    "        others += 1                 # otherwise, add 1 to others\n",
    "        \n",
    "print(f'digits = {digits}')        \n",
    "print(f'vowels = {vowels}')\n",
    "print(f'others = {others}')"
   ]
  },
  {
   "cell_type": "markdown",
   "id": "a52b3de0",
   "metadata": {},
   "source": [
    "# `while`\n",
    "\n",
    "`while` works just like `if`, except that we run the loop body until the test is `False`."
   ]
  },
  {
   "cell_type": "code",
   "execution_count": 28,
   "id": "11a70083",
   "metadata": {},
   "outputs": [
    {
     "name": "stdout",
     "output_type": "stream",
     "text": [
      "5\n",
      "4\n",
      "3\n",
      "2\n",
      "1\n"
     ]
    }
   ],
   "source": [
    "x = 5\n",
    "\n",
    "while x > 0:\n",
    "    print(x)\n",
    "    x -= 1    # x = x - 1"
   ]
  },
  {
   "cell_type": "code",
   "execution_count": 29,
   "id": "1985e1df",
   "metadata": {},
   "outputs": [
    {
     "name": "stdout",
     "output_type": "stream",
     "text": [
      "Enter a number: 5\n",
      "\tCurrent total is 5\n",
      "Enter a number: 20\n",
      "\tCurrent total is 25\n",
      "Enter a number: asdvasdfad\n",
      "asdvasdfad is not a number; try again\n",
      "Enter a number: 30\n",
      "\tCurrent total is 55\n",
      "Enter a number: 1\n",
      "\tCurrent total is 56\n",
      "Enter a number: 1\n",
      "\tCurrent total is 57\n",
      "Enter a number: 1\n",
      "\tCurrent total is 58\n",
      "Enter a number: 1\n",
      "\tCurrent total is 59\n",
      "Enter a number: 80\n",
      "\tCurrent total is 139\n",
      "139\n"
     ]
    }
   ],
   "source": [
    "total = 0\n",
    "\n",
    "# ask the user to give us numbers until we reach 100\n",
    "\n",
    "while total < 100:\n",
    "    s = input('Enter a number: ').strip()\n",
    "\n",
    "    if not s.isdigit():\n",
    "        print(f'{s} is not a number; try again')\n",
    "        continue\n",
    "\n",
    "    total += int(s)\n",
    "    print(f'\\tCurrent total is {total}')\n",
    "    \n",
    "print(total)    \n",
    "    \n",
    "\n"
   ]
  },
  {
   "cell_type": "code",
   "execution_count": 30,
   "id": "1678df44",
   "metadata": {},
   "outputs": [
    {
     "name": "stdout",
     "output_type": "stream",
     "text": [
      "Enter your name: Reuven\n",
      "Hello, Reuven!\n",
      "Enter your name: asdfafadfafd\n",
      "Hello, asdfafadfafd!\n",
      "Enter your name: \n"
     ]
    }
   ],
   "source": [
    "while True:   \n",
    "    name = input('Enter your name: ').strip()\n",
    "    \n",
    "    if name == '':\n",
    "        break\n",
    "        \n",
    "    print(f'Hello, {name}!')"
   ]
  },
  {
   "cell_type": "markdown",
   "id": "56cf2da3",
   "metadata": {},
   "source": [
    "# List\n",
    "\n",
    "We can store *anything* we want in a list. The items we enter stay in their original order. We can modify a list! (Lists are \"mutable.\")\n",
    "\n",
    "We define a list with `[]`, with commas (`,`) between elements."
   ]
  },
  {
   "cell_type": "code",
   "execution_count": 31,
   "id": "a531dc98",
   "metadata": {},
   "outputs": [
    {
     "data": {
      "text/plain": [
       "7"
      ]
     },
     "execution_count": 31,
     "metadata": {},
     "output_type": "execute_result"
    }
   ],
   "source": [
    "mylist = [10, 20, 30, 40, 50, 60, 70]\n",
    "\n",
    "# get the length with len\n",
    "len(mylist)"
   ]
  },
  {
   "cell_type": "code",
   "execution_count": 32,
   "id": "b3fd8b17",
   "metadata": {},
   "outputs": [
    {
     "data": {
      "text/plain": [
       "10"
      ]
     },
     "execution_count": 32,
     "metadata": {},
     "output_type": "execute_result"
    }
   ],
   "source": [
    "mylist[0]"
   ]
  },
  {
   "cell_type": "code",
   "execution_count": 33,
   "id": "189e7f63",
   "metadata": {},
   "outputs": [
    {
     "data": {
      "text/plain": [
       "20"
      ]
     },
     "execution_count": 33,
     "metadata": {},
     "output_type": "execute_result"
    }
   ],
   "source": [
    "mylist[1]"
   ]
  },
  {
   "cell_type": "code",
   "execution_count": 34,
   "id": "b821a07c",
   "metadata": {},
   "outputs": [
    {
     "data": {
      "text/plain": [
       "70"
      ]
     },
     "execution_count": 34,
     "metadata": {},
     "output_type": "execute_result"
    }
   ],
   "source": [
    "mylist[-1]"
   ]
  },
  {
   "cell_type": "code",
   "execution_count": 35,
   "id": "1716f777",
   "metadata": {},
   "outputs": [
    {
     "data": {
      "text/plain": [
       "[30, 40, 50]"
      ]
     },
     "execution_count": 35,
     "metadata": {},
     "output_type": "execute_result"
    }
   ],
   "source": [
    "mylist[2:5]"
   ]
  },
  {
   "cell_type": "code",
   "execution_count": 36,
   "id": "9a52e108",
   "metadata": {},
   "outputs": [
    {
     "name": "stdout",
     "output_type": "stream",
     "text": [
      "10\n",
      "20\n",
      "30\n",
      "40\n",
      "50\n",
      "60\n",
      "70\n"
     ]
    }
   ],
   "source": [
    "for one_item in mylist:\n",
    "    print(one_item)"
   ]
  },
  {
   "cell_type": "code",
   "execution_count": 37,
   "id": "515cb93e",
   "metadata": {},
   "outputs": [
    {
     "data": {
      "text/plain": [
       "True"
      ]
     },
     "execution_count": 37,
     "metadata": {},
     "output_type": "execute_result"
    }
   ],
   "source": [
    "40 in mylist"
   ]
  },
  {
   "cell_type": "code",
   "execution_count": 38,
   "id": "1ea14ee6",
   "metadata": {},
   "outputs": [
    {
     "data": {
      "text/plain": [
       "[10, 20, 30, '!!!', 50, 60, 70]"
      ]
     },
     "execution_count": 38,
     "metadata": {},
     "output_type": "execute_result"
    }
   ],
   "source": [
    "# lists can change!\n",
    "# we can change an existing value\n",
    "\n",
    "mylist[3] = '!!!'\n",
    "mylist"
   ]
  },
  {
   "cell_type": "code",
   "execution_count": 39,
   "id": "cc888a2c",
   "metadata": {},
   "outputs": [
    {
     "data": {
      "text/plain": [
       "[10, 20, 30, '!!!', 50, 60, 70, 80, 'hello']"
      ]
     },
     "execution_count": 39,
     "metadata": {},
     "output_type": "execute_result"
    }
   ],
   "source": [
    "# we can add new items to the list, using list.append\n",
    "mylist.append(80)\n",
    "mylist.append('hello')\n",
    "\n",
    "mylist"
   ]
  },
  {
   "cell_type": "code",
   "execution_count": 40,
   "id": "fa467729",
   "metadata": {},
   "outputs": [
    {
     "data": {
      "text/plain": [
       "'hello'"
      ]
     },
     "execution_count": 40,
     "metadata": {},
     "output_type": "execute_result"
    }
   ],
   "source": [
    "# we can remove with list.pop, whose default is to remove from the end\n",
    "mylist.pop()"
   ]
  },
  {
   "cell_type": "code",
   "execution_count": 41,
   "id": "63f1034a",
   "metadata": {},
   "outputs": [
    {
     "data": {
      "text/plain": [
       "[10, 20, 30, '!!!', 50, 60, 70, 80]"
      ]
     },
     "execution_count": 41,
     "metadata": {},
     "output_type": "execute_result"
    }
   ],
   "source": [
    "mylist"
   ]
  },
  {
   "cell_type": "code",
   "execution_count": 42,
   "id": "975ff7fe",
   "metadata": {},
   "outputs": [
    {
     "data": {
      "text/plain": [
       "80"
      ]
     },
     "execution_count": 42,
     "metadata": {},
     "output_type": "execute_result"
    }
   ],
   "source": [
    "mylist.pop()"
   ]
  },
  {
   "cell_type": "code",
   "execution_count": 43,
   "id": "3dd15a08",
   "metadata": {},
   "outputs": [
    {
     "data": {
      "text/plain": [
       "[10, 20, 30, '!!!', 50, 60, 70]"
      ]
     },
     "execution_count": 43,
     "metadata": {},
     "output_type": "execute_result"
    }
   ],
   "source": [
    "mylist"
   ]
  },
  {
   "cell_type": "code",
   "execution_count": 44,
   "id": "6230151c",
   "metadata": {},
   "outputs": [
    {
     "data": {
      "text/plain": [
       "'abcde'"
      ]
     },
     "execution_count": 44,
     "metadata": {},
     "output_type": "execute_result"
    }
   ],
   "source": [
    "x = 'abcde'\n",
    "y = x\n",
    "\n",
    "x = 'fghij'\n",
    "y"
   ]
  },
  {
   "cell_type": "code",
   "execution_count": 45,
   "id": "a3722a97",
   "metadata": {},
   "outputs": [
    {
     "data": {
      "text/plain": [
       "[10, 9999, 30]"
      ]
     },
     "execution_count": 45,
     "metadata": {},
     "output_type": "execute_result"
    }
   ],
   "source": [
    "x = [10, 20, 30]\n",
    "y = x\n",
    "\n",
    "x[1] = 9999\n",
    "x"
   ]
  },
  {
   "cell_type": "code",
   "execution_count": 46,
   "id": "c002caf3",
   "metadata": {},
   "outputs": [
    {
     "data": {
      "text/plain": [
       "[10, 9999, 30]"
      ]
     },
     "execution_count": 46,
     "metadata": {},
     "output_type": "execute_result"
    }
   ],
   "source": [
    "y"
   ]
  },
  {
   "cell_type": "code",
   "execution_count": 47,
   "id": "bae19e3a",
   "metadata": {},
   "outputs": [
    {
     "name": "stdout",
     "output_type": "stream",
     "text": [
      "ABC\n",
      "DEFGH\n",
      "IJ\n"
     ]
    }
   ],
   "source": [
    "x = ['abc', 'defgh', 'ij']\n",
    "\n",
    "for one_item in x:\n",
    "    print(one_item.upper())"
   ]
  },
  {
   "cell_type": "code",
   "execution_count": 48,
   "id": "553102bb",
   "metadata": {},
   "outputs": [
    {
     "data": {
      "text/plain": [
       "list"
      ]
     },
     "execution_count": 48,
     "metadata": {},
     "output_type": "execute_result"
    }
   ],
   "source": [
    "type(x)"
   ]
  },
  {
   "cell_type": "code",
   "execution_count": 49,
   "id": "887f3a54",
   "metadata": {},
   "outputs": [
    {
     "name": "stdout",
     "output_type": "stream",
     "text": [
      "[15, 17]\n",
      "[10, 20]\n"
     ]
    }
   ],
   "source": [
    "odds = []\n",
    "evens = []\n",
    "\n",
    "numbers = [10, 15, 17, 20]\n",
    "\n",
    "for one_number in numbers:\n",
    "    if one_number % 2 == 1:\n",
    "        odds.append(one_number)\n",
    "    else:\n",
    "        evens.append(one_number)\n",
    "        \n",
    "print(odds)        \n",
    "print(evens)\n"
   ]
  },
  {
   "cell_type": "code",
   "execution_count": 50,
   "id": "7fb0fc09",
   "metadata": {},
   "outputs": [
    {
     "data": {
      "text/plain": [
       "True"
      ]
     },
     "execution_count": 50,
     "metadata": {},
     "output_type": "execute_result"
    }
   ],
   "source": [
    "mylist = ['hello', 'out', 'there']\n",
    "\n",
    "'hello' in mylist"
   ]
  },
  {
   "cell_type": "code",
   "execution_count": 51,
   "id": "d6de31ae",
   "metadata": {},
   "outputs": [
    {
     "data": {
      "text/plain": [
       "False"
      ]
     },
     "execution_count": 51,
     "metadata": {},
     "output_type": "execute_result"
    }
   ],
   "source": [
    "'h' in mylist"
   ]
  },
  {
   "cell_type": "code",
   "execution_count": 52,
   "id": "3825e0dc",
   "metadata": {},
   "outputs": [
    {
     "data": {
      "text/plain": [
       "True"
      ]
     },
     "execution_count": 52,
     "metadata": {},
     "output_type": "execute_result"
    }
   ],
   "source": [
    "'h' in mylist[0]"
   ]
  },
  {
   "cell_type": "code",
   "execution_count": 53,
   "id": "de77cade",
   "metadata": {},
   "outputs": [
    {
     "name": "stdout",
     "output_type": "stream",
     "text": [
      "Found \"h\" in hello\n",
      "Found \"h\" in there\n"
     ]
    }
   ],
   "source": [
    "for one_item in mylist:\n",
    "    if 'h' in one_item:\n",
    "        print(f'Found \"h\" in {one_item}')"
   ]
  },
  {
   "cell_type": "markdown",
   "id": "167ebc96",
   "metadata": {},
   "source": [
    "# Exercise: Vowels, digits, and others... list edition\n",
    "\n",
    "1. Define three empty lists (`vowels`, `digits`, `others`).\n",
    "2. Ask the user to enter text, again and again\n",
    "    - If we get an empty string (presses ENTER alone), exit\n",
    "3. Iterate over the text we got from the user, one character at a time\n",
    "    - If we got a vowel, add it to `vowels`\n",
    "    - If we got a digit, add it to `digits`\n",
    "    - Otherwise, add to `others`\n",
    "    \n",
    "Example:\n",
    "\n",
    "    Enter text: hello!\n",
    "    Enter text: 123\n",
    "    Enter text: [ENTER]\n",
    "    vowels: ['e', 'o']\n",
    "    digits: ['1', '2', '3']\n",
    "    others: ['h', 'l', 'l', '!']"
   ]
  },
  {
   "cell_type": "code",
   "execution_count": 54,
   "id": "649e8367",
   "metadata": {},
   "outputs": [
    {
     "name": "stdout",
     "output_type": "stream",
     "text": [
      "Enter text: hello out there\n",
      "Enter text: this is 12345\n",
      "Enter text: I'm done\n",
      "Enter text: \n",
      "['e', 'o', 'o', 'u', 'e', 'e', 'i', 'i', 'o', 'e']\n",
      "['1', '2', '3', '4', '5']\n",
      "['h', 'l', 'l', ' ', 't', ' ', 't', 'h', 'r', 't', 'h', 's', ' ', 's', ' ', 'I', \"'\", 'm', ' ', 'd', 'n']\n"
     ]
    }
   ],
   "source": [
    "vowels = []\n",
    "digits = []\n",
    "others = []\n",
    "\n",
    "while True:\n",
    "    text = input('Enter text: ').strip()\n",
    "    \n",
    "    if text == '':\n",
    "        break\n",
    "        \n",
    "    for one_character in text:\n",
    "        if one_character in 'aeiou':\n",
    "            vowels.append(one_character)\n",
    "        elif one_character.isdigit():\n",
    "            digits.append(one_character)\n",
    "        else:\n",
    "            others.append(one_character)\n",
    "            \n",
    "print(vowels)\n",
    "print(digits)\n",
    "print(others)"
   ]
  },
  {
   "cell_type": "code",
   "execution_count": 55,
   "id": "1016a007",
   "metadata": {},
   "outputs": [
    {
     "data": {
      "text/plain": [
       "123"
      ]
     },
     "execution_count": 55,
     "metadata": {},
     "output_type": "execute_result"
    }
   ],
   "source": [
    "s = '123'\n",
    "int(s)"
   ]
  },
  {
   "cell_type": "code",
   "execution_count": 56,
   "id": "c527112e",
   "metadata": {
    "scrolled": true
   },
   "outputs": [
    {
     "data": {
      "text/plain": [
       "123.0"
      ]
     },
     "execution_count": 56,
     "metadata": {},
     "output_type": "execute_result"
    }
   ],
   "source": [
    "float(s)"
   ]
  },
  {
   "cell_type": "code",
   "execution_count": 58,
   "id": "04ed6b26",
   "metadata": {},
   "outputs": [
    {
     "data": {
      "text/plain": [
       "['1', '2', '3']"
      ]
     },
     "execution_count": 58,
     "metadata": {},
     "output_type": "execute_result"
    }
   ],
   "source": [
    "list(s)   # we get a list of one-character strings"
   ]
  },
  {
   "cell_type": "code",
   "execution_count": 59,
   "id": "8f3e12ba",
   "metadata": {},
   "outputs": [
    {
     "data": {
      "text/plain": [
       "['t',\n",
       " 'h',\n",
       " 'i',\n",
       " 's',\n",
       " ' ',\n",
       " 'i',\n",
       " 's',\n",
       " ' ',\n",
       " 'a',\n",
       " ' ',\n",
       " 'b',\n",
       " 'u',\n",
       " 'n',\n",
       " 'c',\n",
       " 'h',\n",
       " ' ',\n",
       " 'o',\n",
       " 'f',\n",
       " ' ',\n",
       " 'w',\n",
       " 'o',\n",
       " 'r',\n",
       " 'd',\n",
       " 's']"
      ]
     },
     "execution_count": 59,
     "metadata": {},
     "output_type": "execute_result"
    }
   ],
   "source": [
    "s = 'this is a bunch of words'\n",
    "list(s)"
   ]
  },
  {
   "cell_type": "code",
   "execution_count": 61,
   "id": "7050397e",
   "metadata": {},
   "outputs": [
    {
     "data": {
      "text/plain": [
       "['this', 'is', 'a', 'bunch', 'of', 'words']"
      ]
     },
     "execution_count": 61,
     "metadata": {},
     "output_type": "execute_result"
    }
   ],
   "source": [
    "# default of split is to work on whitespace\n",
    "\n",
    "s.split()   # a string method that returns a list of strings"
   ]
  },
  {
   "cell_type": "code",
   "execution_count": 62,
   "id": "bf57af77",
   "metadata": {},
   "outputs": [
    {
     "name": "stdout",
     "output_type": "stream",
     "text": [
      "this\n",
      "is\n",
      "a\n",
      "bunch\n",
      "of\n",
      "words\n"
     ]
    }
   ],
   "source": [
    "for one_item in s.split():\n",
    "    print(one_item)"
   ]
  },
  {
   "cell_type": "code",
   "execution_count": 63,
   "id": "5e5a2ffa",
   "metadata": {},
   "outputs": [
    {
     "data": {
      "text/plain": [
       "['this', 'is', 'a', 'bunch', 'of', 'words']"
      ]
     },
     "execution_count": 63,
     "metadata": {},
     "output_type": "execute_result"
    }
   ],
   "source": [
    "# what if I have a list of strings, and I want a new string?\n",
    "\n",
    "words = s.split()\n",
    "words"
   ]
  },
  {
   "cell_type": "code",
   "execution_count": 64,
   "id": "b50958d8",
   "metadata": {},
   "outputs": [
    {
     "data": {
      "text/plain": [
       "'this is a bunch of words'"
      ]
     },
     "execution_count": 64,
     "metadata": {},
     "output_type": "execute_result"
    }
   ],
   "source": [
    "# we run str.join on the string we want between things\n",
    "\n",
    "' '.join(words)"
   ]
  },
  {
   "cell_type": "code",
   "execution_count": 65,
   "id": "d18a9d30",
   "metadata": {},
   "outputs": [
    {
     "data": {
      "text/plain": [
       "'this***is***a***bunch***of***words'"
      ]
     },
     "execution_count": 65,
     "metadata": {},
     "output_type": "execute_result"
    }
   ],
   "source": [
    "'***'.join(words)"
   ]
  },
  {
   "cell_type": "code",
   "execution_count": 66,
   "id": "7117d061",
   "metadata": {},
   "outputs": [
    {
     "data": {
      "text/plain": [
       "'thisisabunchofwords'"
      ]
     },
     "execution_count": 66,
     "metadata": {},
     "output_type": "execute_result"
    }
   ],
   "source": [
    "''.join(words)"
   ]
  },
  {
   "cell_type": "markdown",
   "id": "e00ca03d",
   "metadata": {},
   "source": [
    "# Exercise: Pig Latin sentence\n",
    "\n",
    "1. Last time, we translated one word into Pig Latin.\n",
    "2. This time, we'll get a sentence (just lowercase, no symbols/punctuation).\n",
    "3. Translate each word into Pig Latin, and print on the screen.\n",
    "\n",
    "Example:\n",
    "\n",
    "    Enter text: this is a test\n",
    "    histay isway away esttay"
   ]
  },
  {
   "cell_type": "code",
   "execution_count": 67,
   "id": "9dc8eaee",
   "metadata": {},
   "outputs": [
    {
     "name": "stdout",
     "output_type": "stream",
     "text": [
      "Enter word: octopus\n",
      "octopusway\n"
     ]
    }
   ],
   "source": [
    "word = input('Enter word: ').strip()\n",
    "\n",
    "if word[0] in 'aeiou':    # if the word starts with a vowel, add 'way'\n",
    "    print(word + 'way')\n",
    "else:\n",
    "    print(word[1:] + word[0] + 'ay')   # otherwise, first letter to end, add 'ay'"
   ]
  },
  {
   "cell_type": "code",
   "execution_count": 68,
   "id": "f9c8fdea",
   "metadata": {},
   "outputs": [
    {
     "name": "stdout",
     "output_type": "stream",
     "text": [
      "t\n",
      "h\n",
      "i\n",
      "s\n",
      " \n",
      "i\n",
      "s\n",
      " \n",
      "a\n",
      " \n",
      "s\n",
      "e\n",
      "n\n",
      "t\n",
      "e\n",
      "n\n",
      "c\n",
      "e\n"
     ]
    }
   ],
   "source": [
    "s = 'this is a sentence'\n",
    "\n",
    "for one_word in s:\n",
    "    print(one_word)"
   ]
  },
  {
   "cell_type": "code",
   "execution_count": null,
   "id": "d608d110",
   "metadata": {},
   "outputs": [],
   "source": [
    "sentence = input('Enter sentence: ').strip()\n",
    "\n",
    "sentence.s\n",
    "\n",
    "if word[0] in 'aeiou':   \n",
    "    print(word + 'way')\n",
    "else:\n",
    "    print(word[1:] + word[0] + 'ay') "
   ]
  }
 ],
 "metadata": {
  "kernelspec": {
   "display_name": "Python 3 (ipykernel)",
   "language": "python",
   "name": "python3"
  },
  "language_info": {
   "codemirror_mode": {
    "name": "ipython",
    "version": 3
   },
   "file_extension": ".py",
   "mimetype": "text/x-python",
   "name": "python",
   "nbconvert_exporter": "python",
   "pygments_lexer": "ipython3",
   "version": "3.12.7"
  }
 },
 "nbformat": 4,
 "nbformat_minor": 5
}
