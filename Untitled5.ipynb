{
 "cells": [
  {
   "cell_type": "markdown",
   "id": "208a429d",
   "metadata": {},
   "source": [
    "# https://python.lerner.co.il\n",
    "\n",
    "Password: boipw!!"
   ]
  },
  {
   "cell_type": "markdown",
   "id": "bb16b0ed",
   "metadata": {},
   "source": [
    "# Agenda\n",
    "\n",
    "1. Loops\n",
    "2. List\n",
    "3. Dictionary\n",
    "4. Files\n",
    "5. Modules"
   ]
  },
  {
   "cell_type": "code",
   "execution_count": 1,
   "id": "3d63d7dd",
   "metadata": {},
   "outputs": [
    {
     "name": "stdout",
     "output_type": "stream",
     "text": [
      "a\n",
      "b\n",
      "c\n",
      "d\n"
     ]
    }
   ],
   "source": [
    "s = 'abcd'\n",
    "\n",
    "print(s[0])\n",
    "print(s[1])\n",
    "print(s[2])\n",
    "print(s[3])"
   ]
  },
  {
   "cell_type": "markdown",
   "id": "2b927a74",
   "metadata": {},
   "source": [
    "# Loops\n",
    "\n",
    "1. `for` loops\n",
    "2. `while` loops"
   ]
  },
  {
   "cell_type": "code",
   "execution_count": 2,
   "id": "25aa3db3",
   "metadata": {},
   "outputs": [
    {
     "name": "stdout",
     "output_type": "stream",
     "text": [
      "a\n",
      "b\n",
      "c\n",
      "d\n"
     ]
    }
   ],
   "source": [
    "s = 'abcd'\n",
    "\n",
    "for one_character in s:\n",
    "    print(one_character)"
   ]
  },
  {
   "cell_type": "code",
   "execution_count": 3,
   "id": "cc896481",
   "metadata": {},
   "outputs": [
    {
     "name": "stdout",
     "output_type": "stream",
     "text": [
      "c\n",
      "d\n"
     ]
    }
   ],
   "source": [
    "s = 'abcd'\n",
    "\n",
    "for one_character in s[2:]:\n",
    "    print(one_character)"
   ]
  },
  {
   "cell_type": "code",
   "execution_count": 4,
   "id": "e7b1ec9d",
   "metadata": {},
   "outputs": [
    {
     "ename": "TypeError",
     "evalue": "'int' object is not iterable",
     "output_type": "error",
     "traceback": [
      "\u001b[0;31m---------------------------------------------------------------------------\u001b[0m",
      "\u001b[0;31mTypeError\u001b[0m                                 Traceback (most recent call last)",
      "Cell \u001b[0;32mIn[4], line 1\u001b[0m\n\u001b[0;32m----> 1\u001b[0m \u001b[38;5;28;01mfor\u001b[39;00m counter \u001b[38;5;129;01min\u001b[39;00m \u001b[38;5;241m3\u001b[39m:\n\u001b[1;32m      2\u001b[0m     \u001b[38;5;28mprint\u001b[39m(\u001b[38;5;124m'\u001b[39m\u001b[38;5;124mHooray\u001b[39m\u001b[38;5;124m'\u001b[39m)\n",
      "\u001b[0;31mTypeError\u001b[0m: 'int' object is not iterable"
     ]
    }
   ],
   "source": [
    "for counter in 3:\n",
    "    print('Hooray')"
   ]
  },
  {
   "cell_type": "code",
   "execution_count": 5,
   "id": "3c9cd43d",
   "metadata": {},
   "outputs": [
    {
     "name": "stdout",
     "output_type": "stream",
     "text": [
      "Hooray\n",
      "Hooray\n",
      "Hooray\n"
     ]
    }
   ],
   "source": [
    "for counter in range(3):    # use range(n) for n iterations\n",
    "    print('Hooray')"
   ]
  },
  {
   "cell_type": "code",
   "execution_count": 6,
   "id": "cc07617f",
   "metadata": {},
   "outputs": [
    {
     "name": "stdout",
     "output_type": "stream",
     "text": [
      "0 Hooray\n",
      "1 Hooray\n",
      "2 Hooray\n"
     ]
    }
   ],
   "source": [
    "for counter in range(3):    # range(3) gives me 0, 1, 2\n",
    "    print(f'{counter} Hooray')"
   ]
  },
  {
   "cell_type": "code",
   "execution_count": 7,
   "id": "db07541e",
   "metadata": {},
   "outputs": [
    {
     "name": "stdout",
     "output_type": "stream",
     "text": [
      "0\n",
      "1\n",
      "2\n",
      "3\n",
      "4\n"
     ]
    }
   ],
   "source": [
    "# to end a loop early, use break\n",
    "# if we've achieved our goal early\n",
    "\n",
    "for counter in range(10):\n",
    "    if counter == 5:\n",
    "        break\n",
    "    print(counter)"
   ]
  },
  {
   "cell_type": "code",
   "execution_count": 10,
   "id": "913e3a8c",
   "metadata": {},
   "outputs": [
    {
     "name": "stdout",
     "output_type": "stream",
     "text": [
      "0\n",
      "1\n",
      "2\n",
      "3\n",
      "4\n",
      "6\n",
      "7\n",
      "8\n",
      "9\n"
     ]
    }
   ],
   "source": [
    "# to end the current iteration early, use continue\n",
    "# if there's no reason to continue with the current one\n",
    "\n",
    "for counter in range(10):\n",
    "    if counter == 5:\n",
    "        continue    # go onto the next iteration\n",
    "    print(counter)"
   ]
  },
  {
   "cell_type": "code",
   "execution_count": 11,
   "id": "2f257a43",
   "metadata": {},
   "outputs": [
    {
     "name": "stdout",
     "output_type": "stream",
     "text": [
      "Looking for j.... found a\n",
      "Looking for j.... found b\n",
      "Looking for j.... found c\n",
      "Looking for j.... found d\n",
      "Looking for j.... found e\n",
      "Looking for j.... found f\n",
      "Looking for j.... found g\n",
      "Looking for j.... found h\n",
      "Looking for j.... found i\n",
      "Found j! Exiting\n"
     ]
    }
   ],
   "source": [
    "s = 'abcdefghijklmnopqrstuvwxyz'\n",
    "\n",
    "to_find = 'j'\n",
    "\n",
    "for one_character in s:\n",
    "    if one_character == to_find:\n",
    "        print(f'Found {to_find}! Exiting')\n",
    "        break\n",
    "    print(f'Looking for {to_find}.... found {one_character}')"
   ]
  },
  {
   "cell_type": "code",
   "execution_count": 12,
   "id": "189f4fce",
   "metadata": {},
   "outputs": [
    {
     "name": "stdout",
     "output_type": "stream",
     "text": [
      "Found j! Exiting\n"
     ]
    }
   ],
   "source": [
    "s = 'abcdefghijklmnopqrstuvwxyz'\n",
    "\n",
    "to_find = 'j'\n",
    "\n",
    "for one_character in s:\n",
    "    if one_character != to_find:\n",
    "        continue\n",
    "    print(f'Found {to_find}! Exiting')\n"
   ]
  },
  {
   "cell_type": "code",
   "execution_count": null,
   "id": "0a46a937",
   "metadata": {},
   "outputs": [],
   "source": []
  }
 ],
 "metadata": {
  "kernelspec": {
   "display_name": "Python 3 (ipykernel)",
   "language": "python",
   "name": "python3"
  },
  "language_info": {
   "codemirror_mode": {
    "name": "ipython",
    "version": 3
   },
   "file_extension": ".py",
   "mimetype": "text/x-python",
   "name": "python",
   "nbconvert_exporter": "python",
   "pygments_lexer": "ipython3",
   "version": "3.12.7"
  }
 },
 "nbformat": 4,
 "nbformat_minor": 5
}
