{
 "cells": [
  {
   "cell_type": "code",
   "execution_count": 73,
   "id": "39fd51ea",
   "metadata": {},
   "outputs": [],
   "source": [
    "import pandas as pd\n",
    "from pandas import Series, DataFrame"
   ]
  },
  {
   "cell_type": "code",
   "execution_count": 36,
   "id": "bdbbf1ce",
   "metadata": {},
   "outputs": [
    {
     "name": "stdout",
     "output_type": "stream",
     "text": [
      "enter a string of integers and words10 5 325 word 2 panda\n"
     ]
    }
   ],
   "source": [
    "text=input('enter a string of integers and words').strip()\n",
    "s = Series(text.split())"
   ]
  },
  {
   "cell_type": "code",
   "execution_count": 38,
   "id": "1c216811",
   "metadata": {},
   "outputs": [
    {
     "data": {
      "text/plain": [
       "4.5"
      ]
     },
     "execution_count": 38,
     "metadata": {},
     "output_type": "execute_result"
    }
   ],
   "source": [
    "s.loc[~s.str.isdigit()].str.len().mean()"
   ]
  },
  {
   "cell_type": "code",
   "execution_count": 46,
   "id": "0d4a3cf0",
   "metadata": {},
   "outputs": [
    {
     "data": {
      "text/plain": [
       "85.5"
      ]
     },
     "execution_count": 46,
     "metadata": {},
     "output_type": "execute_result"
    }
   ],
   "source": [
    "(\n",
    "    s                        # start with series of words\n",
    "    .loc[s.str.isdigit()]    # keep only digit words\n",
    "    .astype(int)             # get a series of ints\n",
    "    .mean()\n",
    ")"
   ]
  },
  {
   "cell_type": "code",
   "execution_count": 47,
   "id": "de79b88c",
   "metadata": {},
   "outputs": [
    {
     "data": {
      "text/plain": [
       "5    panda\n",
       "dtype: object"
      ]
     },
     "execution_count": 47,
     "metadata": {},
     "output_type": "execute_result"
    }
   ],
   "source": [
    "max_word_length = (\n",
    "    s                        # start with series of words\n",
    "    .loc[~s.str.isdigit()]   # keep only non-digit words\n",
    "    .str.len()               # get length of each word\n",
    "    .max()                  # calculate mean on the series of lengths\n",
    ")\n",
    "\n",
    "s.loc[s.str.len() == max_word_length]"
   ]
  },
  {
   "cell_type": "code",
   "execution_count": 74,
   "id": "02876a3e",
   "metadata": {},
   "outputs": [
    {
     "data": {
      "text/plain": [
       "VendorID                          int64\n",
       "tpep_pickup_datetime     datetime64[ns]\n",
       "tpep_dropoff_datetime    datetime64[ns]\n",
       "passenger_count                   int64\n",
       "trip_distance                   float64\n",
       "pickup_longitude                float64\n",
       "pickup_latitude                 float64\n",
       "RateCodeID                        int64\n",
       "store_and_fwd_flag               object\n",
       "dropoff_longitude               float64\n",
       "dropoff_latitude                float64\n",
       "payment_type                      int64\n",
       "fare_amount                     float64\n",
       "extra                           float64\n",
       "mta_tax                         float64\n",
       "tip_amount                      float64\n",
       "tolls_amount                    float64\n",
       "improvement_surcharge           float64\n",
       "total_amount                    float64\n",
       "dtype: object"
      ]
     },
     "execution_count": 74,
     "metadata": {},
     "output_type": "execute_result"
    }
   ],
   "source": [
    "df = pd.read_csv('taxi.csv',\n",
    "                 parse_dates=['tpep_pickup_datetime',\n",
    "                             'tpep_dropoff_datetime'])\n",
    "df.dtypes"
   ]
  },
  {
   "cell_type": "code",
   "execution_count": 80,
   "id": "e94fb5e6",
   "metadata": {},
   "outputs": [
    {
     "data": {
      "text/plain": [
       "17.420879297732263"
      ]
     },
     "execution_count": 80,
     "metadata": {},
     "output_type": "execute_result"
    }
   ],
   "source": [
    "df.loc[df['tpep_pickup_datetime'].dt.hour<12, 'total_amount'].mean()"
   ]
  },
  {
   "cell_type": "code",
   "execution_count": 81,
   "id": "20675e3a",
   "metadata": {},
   "outputs": [
    {
     "data": {
      "text/plain": [
       "2.6611988171064604"
      ]
     },
     "execution_count": 81,
     "metadata": {},
     "output_type": "execute_result"
    }
   ],
   "source": [
    "df.loc[df['tpep_pickup_datetime'].dt.day_of_week==1, 'trip_distance'].mean()"
   ]
  },
  {
   "cell_type": "code",
   "execution_count": 84,
   "id": "b7ac9c4c",
   "metadata": {},
   "outputs": [],
   "source": [
    "df['trip_time']=df['tpep_dropoff_datetime']-df['tpep_pickup_datetime']"
   ]
  },
  {
   "cell_type": "code",
   "execution_count": 110,
   "id": "94ed5d9b",
   "metadata": {
    "scrolled": false
   },
   "outputs": [
    {
     "data": {
      "text/plain": [
       "13.187692307692313"
      ]
     },
     "execution_count": 110,
     "metadata": {},
     "output_type": "execute_result"
    }
   ],
   "source": [
    "df.loc[df['trip_time']==df['trip_time'].min() , 'total_amount'].mean()"
   ]
  },
  {
   "cell_type": "code",
   "execution_count": 113,
   "id": "6932a424",
   "metadata": {
    "scrolled": true
   },
   "outputs": [
    {
     "data": {
      "text/plain": [
       "11.16"
      ]
     },
     "execution_count": 113,
     "metadata": {},
     "output_type": "execute_result"
    }
   ],
   "source": [
    "df.loc[df['trip_time']==df['trip_time'].max() , 'total_amount'].mean()"
   ]
  },
  {
   "cell_type": "code",
   "execution_count": 116,
   "id": "d2609e0e",
   "metadata": {},
   "outputs": [
    {
     "data": {
      "text/plain": [
       "47.14"
      ]
     },
     "execution_count": 116,
     "metadata": {},
     "output_type": "execute_result"
    }
   ],
   "source": [
    "df.loc[df['trip_time']>'4 hours','total_amount'].mean()"
   ]
  },
  {
   "cell_type": "code",
   "execution_count": 117,
   "id": "9b1467dc",
   "metadata": {},
   "outputs": [
    {
     "data": {
      "text/plain": [
       "31.93892857142858"
      ]
     },
     "execution_count": 117,
     "metadata": {},
     "output_type": "execute_result"
    }
   ],
   "source": [
    "df.loc[df['trip_time']< '1 minute','total_amount'].mean()"
   ]
  },
  {
   "cell_type": "code",
   "execution_count": null,
   "id": "09e3dd14",
   "metadata": {},
   "outputs": [],
   "source": []
  }
 ],
 "metadata": {
  "kernelspec": {
   "display_name": "Python 3 (ipykernel)",
   "language": "python",
   "name": "python3"
  },
  "language_info": {
   "codemirror_mode": {
    "name": "ipython",
    "version": 3
   },
   "file_extension": ".py",
   "mimetype": "text/x-python",
   "name": "python",
   "nbconvert_exporter": "python",
   "pygments_lexer": "ipython3",
   "version": "3.12.7"
  }
 },
 "nbformat": 4,
 "nbformat_minor": 5
}
