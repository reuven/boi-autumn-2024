{
 "cells": [
  {
   "cell_type": "code",
   "execution_count": 1,
   "id": "4a51787f",
   "metadata": {},
   "outputs": [
    {
     "data": {
      "text/plain": [
       "62"
      ]
     },
     "execution_count": 1,
     "metadata": {},
     "output_type": "execute_result"
    }
   ],
   "source": [
    "import random\n",
    "\n",
    "random.randint(0,100)\n",
    "\n"
   ]
  },
  {
   "cell_type": "code",
   "execution_count": 4,
   "id": "b0dfdd78",
   "metadata": {},
   "outputs": [
    {
     "data": {
      "text/plain": [
       "0    10\n",
       "1    20\n",
       "2    30\n",
       "3    40\n",
       "4    50\n",
       "5    70\n",
       "dtype: int64"
      ]
     },
     "execution_count": 4,
     "metadata": {},
     "output_type": "execute_result"
    }
   ],
   "source": [
    "import pandas as pd\n",
    "from pandas import Series, DataFrame\n",
    "\n",
    "s= Series([10,20,30,40,50,70])\n",
    "s\n"
   ]
  },
  {
   "cell_type": "code",
   "execution_count": 6,
   "id": "e8591788",
   "metadata": {},
   "outputs": [
    {
     "data": {
      "text/plain": [
       "220"
      ]
     },
     "execution_count": 6,
     "metadata": {},
     "output_type": "execute_result"
    }
   ],
   "source": [
    "s.sum()\n",
    "\n"
   ]
  },
  {
   "cell_type": "code",
   "execution_count": 30,
   "id": "d44798e8",
   "metadata": {},
   "outputs": [
    {
     "name": "stdout",
     "output_type": "stream",
     "text": [
      "count    10.000000\n",
      "mean     30.300000\n",
      "std       2.830391\n",
      "min      26.000000\n",
      "25%      28.250000\n",
      "50%      30.500000\n",
      "75%      32.000000\n",
      "max      35.000000\n",
      "dtype: float64\n",
      "Maximum temp in first 5 days: maxTemp[0:5].max()\n"
     ]
    }
   ],
   "source": [
    "maxTemp = Series([30,29,28,32,33,35,26,27,31,32])\n",
    "\n",
    "print(maxTemp.describe())\n",
    "print(f'Maximum temp in first 5 days: maxTemp[0:5].max()')"
   ]
  },
  {
   "cell_type": "code",
   "execution_count": 41,
   "id": "cbefc722",
   "metadata": {},
   "outputs": [
    {
     "name": "stdout",
     "output_type": "stream",
     "text": [
      "Over the mean:\n",
      "Roee     47\n",
      "Einat    46\n",
      "Shosy    67\n",
      "dtype: int64\n",
      "\n",
      "1 sd below mean:\n",
      "Eyal    5\n",
      "dtype: int64\n"
     ]
    }
   ],
   "source": [
    "age = Series([47,46,19,16,12,5,67],index=('Roee Einat talia Raz Noga Eyal Shosy').split())\n",
    "print (f'Over the mean:\\n{age.loc[age>age.mean()]}\\n')\n",
    "print (f'1 sd below mean:\\n{age.loc[age<(age.mean()-age.std())]}')"
   ]
  }
 ],
 "metadata": {
  "kernelspec": {
   "display_name": "Python 3 (ipykernel)",
   "language": "python",
   "name": "python3"
  },
  "language_info": {
   "codemirror_mode": {
    "name": "ipython",
    "version": 3
   },
   "file_extension": ".py",
   "mimetype": "text/x-python",
   "name": "python",
   "nbconvert_exporter": "python",
   "pygments_lexer": "ipython3",
   "version": "3.12.7"
  }
 },
 "nbformat": 4,
 "nbformat_minor": 5
}
