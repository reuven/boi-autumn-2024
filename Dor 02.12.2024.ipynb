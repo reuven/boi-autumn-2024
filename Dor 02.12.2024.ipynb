{
 "cells": [
  {
   "cell_type": "code",
   "execution_count": 1,
   "id": "be0d6074",
   "metadata": {},
   "outputs": [],
   "source": [
    "import random"
   ]
  },
  {
   "cell_type": "code",
   "execution_count": 2,
   "id": "75493c10",
   "metadata": {},
   "outputs": [],
   "source": [
    "import pandas as pd\n",
    "from pandas import Series, DataFrame"
   ]
  },
  {
   "cell_type": "code",
   "execution_count": 3,
   "id": "89723275",
   "metadata": {},
   "outputs": [],
   "source": [
    "s=Series([10,20,30,40,50,60,70])"
   ]
  },
  {
   "cell_type": "code",
   "execution_count": 4,
   "id": "23637318",
   "metadata": {},
   "outputs": [
    {
     "data": {
      "text/plain": [
       "0    10\n",
       "1    20\n",
       "2    30\n",
       "3    40\n",
       "4    50\n",
       "5    60\n",
       "6    70\n",
       "dtype: int64"
      ]
     },
     "execution_count": 4,
     "metadata": {},
     "output_type": "execute_result"
    }
   ],
   "source": [
    "s"
   ]
  },
  {
   "cell_type": "code",
   "execution_count": 5,
   "id": "b743ce31",
   "metadata": {},
   "outputs": [
    {
     "data": {
      "text/plain": [
       "<bound method NDFrame.describe of 0    10\n",
       "1    20\n",
       "2    30\n",
       "3    40\n",
       "4    50\n",
       "5    60\n",
       "6    70\n",
       "dtype: int64>"
      ]
     },
     "execution_count": 5,
     "metadata": {},
     "output_type": "execute_result"
    }
   ],
   "source": [
    "s.describe"
   ]
  },
  {
   "cell_type": "code",
   "execution_count": 13,
   "id": "ec9862d8",
   "metadata": {},
   "outputs": [
    {
     "data": {
      "text/plain": [
       "count    10.000000\n",
       "mean     21.600000\n",
       "std       2.875181\n",
       "min      17.000000\n",
       "25%      19.250000\n",
       "50%      22.000000\n",
       "75%      23.500000\n",
       "max      26.000000\n",
       "dtype: float64"
      ]
     },
     "execution_count": 13,
     "metadata": {},
     "output_type": "execute_result"
    }
   ],
   "source": [
    "a=Series([19, 22, 24, 25, 22, 20, 19, 17, 22, 26])\n",
    "a.describe()"
   ]
  },
  {
   "cell_type": "code",
   "execution_count": 14,
   "id": "4a0a1dab",
   "metadata": {
    "scrolled": true
   },
   "outputs": [
    {
     "data": {
      "text/plain": [
       "0    19\n",
       "1    22\n",
       "2    24\n",
       "3    25\n",
       "4    22\n",
       "dtype: int64"
      ]
     },
     "execution_count": 14,
     "metadata": {},
     "output_type": "execute_result"
    }
   ],
   "source": [
    "a[0:5]"
   ]
  },
  {
   "cell_type": "code",
   "execution_count": 15,
   "id": "498153be",
   "metadata": {},
   "outputs": [
    {
     "data": {
      "text/plain": [
       "0    361\n",
       "1    484\n",
       "2    576\n",
       "3    625\n",
       "4    484\n",
       "5    400\n",
       "6    361\n",
       "7    289\n",
       "8    484\n",
       "9    676\n",
       "dtype: int64"
      ]
     },
     "execution_count": 15,
     "metadata": {},
     "output_type": "execute_result"
    }
   ],
   "source": [
    "a*a"
   ]
  },
  {
   "cell_type": "code",
   "execution_count": 16,
   "id": "d48adf87",
   "metadata": {},
   "outputs": [
    {
     "data": {
      "text/plain": [
       "0     190.0\n",
       "1     440.0\n",
       "2     720.0\n",
       "3    1000.0\n",
       "4    1100.0\n",
       "5    1200.0\n",
       "6    1330.0\n",
       "7       NaN\n",
       "8       NaN\n",
       "9       NaN\n",
       "dtype: float64"
      ]
     },
     "execution_count": 16,
     "metadata": {},
     "output_type": "execute_result"
    }
   ],
   "source": [
    "a*s"
   ]
  },
  {
   "cell_type": "code",
   "execution_count": 17,
   "id": "661e61f3",
   "metadata": {},
   "outputs": [
    {
     "ename": "SyntaxError",
     "evalue": "unterminated string literal (detected at line 1) (1826959753.py, line 1)",
     "output_type": "error",
     "traceback": [
      "\u001b[0;36m  Cell \u001b[0;32mIn[17], line 1\u001b[0;36m\u001b[0m\n\u001b[0;31m    a*a'\u001b[0m\n\u001b[0m       ^\u001b[0m\n\u001b[0;31mSyntaxError\u001b[0m\u001b[0;31m:\u001b[0m unterminated string literal (detected at line 1)\n"
     ]
    }
   ],
   "source": [
    "a*a'"
   ]
  },
  {
   "cell_type": "code",
   "execution_count": 18,
   "id": "4d3b2490",
   "metadata": {},
   "outputs": [
    {
     "data": {
      "text/plain": [
       "0    361\n",
       "1    484\n",
       "2    576\n",
       "3    625\n",
       "4    484\n",
       "5    400\n",
       "6    361\n",
       "7    289\n",
       "8    484\n",
       "9    676\n",
       "dtype: int64"
      ]
     },
     "execution_count": 18,
     "metadata": {},
     "output_type": "execute_result"
    }
   ],
   "source": [
    "a*a.T"
   ]
  },
  {
   "cell_type": "code",
   "execution_count": 23,
   "id": "e9a68f70",
   "metadata": {},
   "outputs": [],
   "source": [
    "a=Series([1,2,3])"
   ]
  },
  {
   "cell_type": "code",
   "execution_count": 22,
   "id": "c93d5fb8",
   "metadata": {},
   "outputs": [
    {
     "data": {
      "text/plain": [
       "0    1\n",
       "1    4\n",
       "2    9\n",
       "dtype: int64"
      ]
     },
     "execution_count": 22,
     "metadata": {},
     "output_type": "execute_result"
    }
   ],
   "source": [
    "s*s.T"
   ]
  },
  {
   "cell_type": "code",
   "execution_count": 24,
   "id": "3508865e",
   "metadata": {},
   "outputs": [
    {
     "data": {
      "text/plain": [
       "14"
      ]
     },
     "execution_count": 24,
     "metadata": {},
     "output_type": "execute_result"
    }
   ],
   "source": [
    "s.dot(a)"
   ]
  },
  {
   "cell_type": "code",
   "execution_count": 39,
   "id": "9c9b96c1",
   "metadata": {},
   "outputs": [],
   "source": [
    "highs=Series([24, 22, 23, 23, 21, 19, 17, 22, 26, 24], index=[3,4,5,6,7,8,9,10,11,12])"
   ]
  },
  {
   "cell_type": "code",
   "execution_count": 27,
   "id": "c9265ad7",
   "metadata": {},
   "outputs": [
    {
     "data": {
      "text/plain": [
       "03    24\n",
       "04    22\n",
       "05    23\n",
       "06    23\n",
       "07    21\n",
       "08    19\n",
       "09    17\n",
       "10    22\n",
       "11    26\n",
       "12    24\n",
       "dtype: int64"
      ]
     },
     "execution_count": 27,
     "metadata": {},
     "output_type": "execute_result"
    }
   ],
   "source": [
    "highs"
   ]
  },
  {
   "cell_type": "code",
   "execution_count": 38,
   "id": "7e2939e2",
   "metadata": {},
   "outputs": [],
   "source": [
    "lows=Series([16, 14, 14, 15, 13, 12, 10, 14, 15, 16], index=['03','04','05','06','07','08','09','10','11','12'])"
   ]
  },
  {
   "cell_type": "code",
   "execution_count": 40,
   "id": "9915e4bc",
   "metadata": {},
   "outputs": [],
   "source": [
    "diff=highs-lows"
   ]
  },
  {
   "cell_type": "code",
   "execution_count": 30,
   "id": "5deaf8a3",
   "metadata": {},
   "outputs": [
    {
     "data": {
      "text/plain": [
       "03     8\n",
       "04     8\n",
       "05     9\n",
       "06     8\n",
       "07     8\n",
       "08     7\n",
       "09     7\n",
       "10     8\n",
       "11    11\n",
       "12     8\n",
       "dtype: int64"
      ]
     },
     "execution_count": 30,
     "metadata": {},
     "output_type": "execute_result"
    }
   ],
   "source": [
    "diff"
   ]
  },
  {
   "cell_type": "code",
   "execution_count": 41,
   "id": "ca89ac90",
   "metadata": {},
   "outputs": [
    {
     "data": {
      "text/plain": [
       "5     9\n",
       "6     8\n",
       "7     8\n",
       "8     7\n",
       "9     7\n",
       "10    8\n",
       "dtype: int64"
      ]
     },
     "execution_count": 41,
     "metadata": {},
     "output_type": "execute_result"
    }
   ],
   "source": [
    "diff.loc[5:10]"
   ]
  },
  {
   "cell_type": "code",
   "execution_count": 45,
   "id": "74cc48d7",
   "metadata": {},
   "outputs": [
    {
     "data": {
      "text/plain": [
       "05    9\n",
       "06    8\n",
       "07    8\n",
       "08    7\n",
       "09    7\n",
       "10    8\n",
       "dtype: int64"
      ]
     },
     "execution_count": 45,
     "metadata": {},
     "output_type": "execute_result"
    }
   ],
   "source": [
    "lows=Series([16, 14, 14, 15, 13, 12, 10, 14, 15, 16], index=['03','04','05','06','07','08','09','10','11','12'])\n",
    "highs=Series([24, 22, 23, 23, 21, 19, 17, 22, 26, 24], index=['03','04','05','06','07','08','09','10','11','12'])\n",
    "diff=highs-lows\n",
    "diff.loc['05':'10']"
   ]
  },
  {
   "cell_type": "code",
   "execution_count": 46,
   "id": "a2449898",
   "metadata": {},
   "outputs": [
    {
     "data": {
      "text/plain": [
       "count    5.000000\n",
       "mean     8.200000\n",
       "std      0.447214\n",
       "min      8.000000\n",
       "25%      8.000000\n",
       "50%      8.000000\n",
       "75%      8.000000\n",
       "max      9.000000\n",
       "dtype: float64"
      ]
     },
     "execution_count": 46,
     "metadata": {},
     "output_type": "execute_result"
    }
   ],
   "source": [
    "diff.loc['03':'07'].describe()"
   ]
  },
  {
   "cell_type": "code",
   "execution_count": 47,
   "id": "8bb0b0ea",
   "metadata": {},
   "outputs": [
    {
     "data": {
      "text/plain": [
       "Mark      44\n",
       "Roey      51\n",
       "Hanoch    44\n",
       "dtype: int64"
      ]
     },
     "execution_count": 47,
     "metadata": {},
     "output_type": "execute_result"
    }
   ],
   "source": [
    "b=Series([36, 44, 51, 35, 44], index=['Dor', 'Mark', 'Roey', 'Haim', 'Hanoch'])\n",
    "b.loc[b>b.mean()]"
   ]
  },
  {
   "cell_type": "code",
   "execution_count": 51,
   "id": "4bb38062",
   "metadata": {},
   "outputs": [
    {
     "data": {
      "text/plain": [
       "1"
      ]
     },
     "execution_count": 51,
     "metadata": {},
     "output_type": "execute_result"
    }
   ],
   "source": [
    "b.loc[b<b.mean()-b.std()].count()"
   ]
  },
  {
   "cell_type": "code",
   "execution_count": 49,
   "id": "fa1f1de8",
   "metadata": {},
   "outputs": [
    {
     "data": {
      "text/plain": [
       "6.59545297913646"
      ]
     },
     "execution_count": 49,
     "metadata": {},
     "output_type": "execute_result"
    }
   ],
   "source": [
    "b.std()"
   ]
  },
  {
   "cell_type": "code",
   "execution_count": 50,
   "id": "080ceaa1",
   "metadata": {},
   "outputs": [
    {
     "data": {
      "text/plain": [
       "42.0"
      ]
     },
     "execution_count": 50,
     "metadata": {},
     "output_type": "execute_result"
    }
   ],
   "source": [
    "b.mean()"
   ]
  },
  {
   "cell_type": "code",
   "execution_count": 56,
   "id": "bf43c405",
   "metadata": {},
   "outputs": [
    {
     "data": {
      "text/plain": [
       "03    75\n",
       "04    71\n",
       "05    73\n",
       "06    73\n",
       "07    69\n",
       "08    66\n",
       "09    62\n",
       "10    71\n",
       "11    78\n",
       "12    75\n",
       "dtype: int64"
      ]
     },
     "execution_count": 56,
     "metadata": {},
     "output_type": "execute_result"
    }
   ],
   "source": [
    "highs=Series([24, 22, 23, 23, 21, 19, 17, 22, 26, 24], index=['03','04','05','06','07','08','09','10','11','12'])\n",
    "highsf=highs*9/5+32\n",
    "highsf.astype('int64')\n"
   ]
  },
  {
   "cell_type": "code",
   "execution_count": 57,
   "id": "3a6e8f0d",
   "metadata": {
    "scrolled": true
   },
   "outputs": [
    {
     "data": {
      "text/plain": [
       "03    75.2\n",
       "04    71.6\n",
       "05    73.4\n",
       "06    73.4\n",
       "07    69.8\n",
       "08    66.2\n",
       "09    62.6\n",
       "10    71.6\n",
       "11    78.8\n",
       "12    75.2\n",
       "dtype: float64"
      ]
     },
     "execution_count": 57,
     "metadata": {},
     "output_type": "execute_result"
    }
   ],
   "source": [
    "highsf"
   ]
  },
  {
   "cell_type": "code",
   "execution_count": 77,
   "id": "5e3140cc",
   "metadata": {},
   "outputs": [
    {
     "name": "stdout",
     "output_type": "stream",
     "text": [
      "21.857142857142858\n",
      "3.1320159337914952\n",
      "21.857142857142858\n",
      "2.557280301351915\n",
      "23.1\n",
      "3.2472210341220142\n"
     ]
    }
   ],
   "source": [
    "import numpy as np\n",
    "highs=Series([24, 22, 23, 23, 21, 19, 17, 22, 26, 24], index=['03','04','05','06','07','08','09','10','11','12'])\n",
    "highs['04':'06']=np.nan\n",
    "print(highs.mean())\n",
    "print(highs.std())\n",
    "print(highs.fillna(highs.mean()).mean())\n",
    "print(highs.fillna(highs.mean()).std())\n",
    "print(highs.fillna(highs.max()).mean())\n",
    "print(highs.fillna(highs.max()).std())"
   ]
  },
  {
   "cell_type": "code",
   "execution_count": 74,
   "id": "cd483bb4",
   "metadata": {},
   "outputs": [
    {
     "data": {
      "text/plain": [
       "21.857142857142858"
      ]
     },
     "execution_count": 74,
     "metadata": {},
     "output_type": "execute_result"
    }
   ],
   "source": [
    "highs.fillna(highs.mean()).mean()"
   ]
  },
  {
   "cell_type": "code",
   "execution_count": 75,
   "id": "f74ba604",
   "metadata": {},
   "outputs": [
    {
     "data": {
      "text/plain": [
       "23.1"
      ]
     },
     "execution_count": 75,
     "metadata": {},
     "output_type": "execute_result"
    }
   ],
   "source": [
    "highs.fillna(highs.max()).mean()"
   ]
  },
  {
   "cell_type": "code",
   "execution_count": 99,
   "id": "3270e304",
   "metadata": {},
   "outputs": [
    {
     "name": "stdout",
     "output_type": "stream",
     "text": [
      "11    26\n",
      "03    24\n",
      "12    24\n",
      "dtype: int64\n",
      "11    26\n",
      "03    24\n",
      "12    24\n",
      "dtype: int64\n",
      "08    19\n",
      "07    21\n",
      "04    22\n",
      "dtype: int64\n"
     ]
    }
   ],
   "source": [
    "highs=Series([24, 22, 23, 23, 21, 19, 17, 22, 26, 24], index=['03','04','05','06','07','08','09','10','11','12'])\n",
    "print(highs.sort_values(ascending=False)[0:3])\n",
    "print(highs.nlargest(3))\n",
    "print(highs.loc['04':'08'].sort_values(ascending=True)[0:3])"
   ]
  },
  {
   "cell_type": "code",
   "execution_count": 100,
   "id": "73fada0e",
   "metadata": {},
   "outputs": [
    {
     "name": "stdout",
     "output_type": "stream",
     "text": [
      "VendorID,tpep_pickup_datetime,tpep_dropoff_datetime,passenger_count,trip_distance,pickup_longitude,pickup_latitude,RateCodeID,store_and_fwd_flag,dropoff_longitude,dropoff_latitude,payment_type,fare_amount,extra,mta_tax,tip_amount,tolls_amount,improvement_surcharge,total_amount\r",
      "\r\n",
      "2,2015-06-02 11:19:29,2015-06-02 11:47:52,1,1.63,-73.954429626464844,40.764141082763672,1,N,-73.974754333496094,40.754093170166016,2,17,0,0.5,0,0,0.3,17.8\r",
      "\r\n",
      "2,2015-06-02 11:19:30,2015-06-02 11:27:56,1,.46,-73.971443176269531,40.758941650390625,1,N,-73.978538513183594,40.761909484863281,1,6.5,0,0.5,1,0,0.3,8.3\r",
      "\r\n",
      "2,2015-06-02 11:19:31,2015-06-02 11:30:30,1,.87,-73.978111267089844,40.738433837890625,1,N,-73.990272521972656,40.745437622070313,1,8,0,0.5,2.2,0,0.3,11\r",
      "\r\n",
      "2,2015-06-02 11:19:31,2015-06-02 11:39:02,1,2.13,-73.945892333984375,40.773529052734375,1,N,-73.971527099609375,40.760330200195312,1,13.5,0,0.5,2.86,0,0.3,17.16\r",
      "\r\n",
      "1,2015-06-02 11:19:32,2015-06-02 11:32:49,1,1.40,-73.979087829589844,40.776771545410156,1,N,-73.982162475585937,40.758998870849609,2,9.5,0,0.5,0,0,0.3,10.3\r",
      "\r\n",
      "1,2015-06-02 11:19:33,2015-06-02 11:28:48,1,1.40,-73.94464111328125,40.779464721679688,1,N,-73.96136474609375,40.771560668945313,1,8,0,0.5,1.75,0,0.3,10.55\r",
      "\r\n",
      "1,2015-06-02 11:19:34,2015-06-02 11:38:46,1,1.80,-73.992866516113281,40.748210906982422,1,N,-73.969772338867187,40.748458862304687,1,12.5,0,0.5,3,0,0.3,16.3\r",
      "\r\n",
      "1,2015-06-02 11:19:35,2015-06-02 12:36:46,4,11.90,-73.863075256347656,40.769252777099609,1,N,-73.986709594726563,40.761306762695313,1,52.5,0,0.5,15,5.54,0.3,73.84\r",
      "\r\n",
      "2,2015-06-02 11:19:36,2015-06-02 11:45:19,1,1.27,-73.991432189941406,40.749305725097656,1,N,-73.985061645507813,40.759525299072266,2,15,0,0.5,0,0,0.3,15.8\r",
      "\r\n"
     ]
    }
   ],
   "source": [
    "!head taxi.csv"
   ]
  },
  {
   "cell_type": "code",
   "execution_count": 131,
   "id": "2ee083af",
   "metadata": {},
   "outputs": [
    {
     "data": {
      "text/html": [
       "<div>\n",
       "<style scoped>\n",
       "    .dataframe tbody tr th:only-of-type {\n",
       "        vertical-align: middle;\n",
       "    }\n",
       "\n",
       "    .dataframe tbody tr th {\n",
       "        vertical-align: top;\n",
       "    }\n",
       "\n",
       "    .dataframe thead th {\n",
       "        text-align: right;\n",
       "    }\n",
       "</style>\n",
       "<table border=\"1\" class=\"dataframe\">\n",
       "  <thead>\n",
       "    <tr style=\"text-align: right;\">\n",
       "      <th></th>\n",
       "      <th>VendorID</th>\n",
       "      <th>passenger_count</th>\n",
       "      <th>trip_distance</th>\n",
       "      <th>pickup_longitude</th>\n",
       "      <th>pickup_latitude</th>\n",
       "      <th>RateCodeID</th>\n",
       "      <th>dropoff_longitude</th>\n",
       "      <th>dropoff_latitude</th>\n",
       "      <th>payment_type</th>\n",
       "      <th>fare_amount</th>\n",
       "      <th>extra</th>\n",
       "      <th>mta_tax</th>\n",
       "      <th>tip_amount</th>\n",
       "      <th>tolls_amount</th>\n",
       "      <th>improvement_surcharge</th>\n",
       "      <th>total_amount</th>\n",
       "    </tr>\n",
       "  </thead>\n",
       "  <tbody>\n",
       "    <tr>\n",
       "      <th>count</th>\n",
       "      <td>9999.000000</td>\n",
       "      <td>9999.000000</td>\n",
       "      <td>9999.000000</td>\n",
       "      <td>9999.000000</td>\n",
       "      <td>9999.000000</td>\n",
       "      <td>9999.000000</td>\n",
       "      <td>9999.000000</td>\n",
       "      <td>9999.000000</td>\n",
       "      <td>9999.000000</td>\n",
       "      <td>9999.000000</td>\n",
       "      <td>9999.000000</td>\n",
       "      <td>9999.000000</td>\n",
       "      <td>9999.000000</td>\n",
       "      <td>9999.000000</td>\n",
       "      <td>9999.000000</td>\n",
       "      <td>9999.000000</td>\n",
       "    </tr>\n",
       "    <tr>\n",
       "      <th>mean</th>\n",
       "      <td>1.516652</td>\n",
       "      <td>1.659466</td>\n",
       "      <td>3.158511</td>\n",
       "      <td>-73.014956</td>\n",
       "      <td>40.226521</td>\n",
       "      <td>1.045105</td>\n",
       "      <td>-73.054699</td>\n",
       "      <td>40.248644</td>\n",
       "      <td>1.407741</td>\n",
       "      <td>14.415892</td>\n",
       "      <td>0.118212</td>\n",
       "      <td>0.497450</td>\n",
       "      <td>1.818059</td>\n",
       "      <td>0.400433</td>\n",
       "      <td>0.299790</td>\n",
       "      <td>17.552472</td>\n",
       "    </tr>\n",
       "    <tr>\n",
       "      <th>std</th>\n",
       "      <td>0.499748</td>\n",
       "      <td>1.333306</td>\n",
       "      <td>4.037516</td>\n",
       "      <td>8.347871</td>\n",
       "      <td>4.599169</td>\n",
       "      <td>0.302132</td>\n",
       "      <td>8.186847</td>\n",
       "      <td>4.510520</td>\n",
       "      <td>0.501911</td>\n",
       "      <td>12.442624</td>\n",
       "      <td>0.214794</td>\n",
       "      <td>0.037667</td>\n",
       "      <td>2.634469</td>\n",
       "      <td>1.665170</td>\n",
       "      <td>0.010816</td>\n",
       "      <td>15.137990</td>\n",
       "    </tr>\n",
       "    <tr>\n",
       "      <th>min</th>\n",
       "      <td>1.000000</td>\n",
       "      <td>0.000000</td>\n",
       "      <td>0.000000</td>\n",
       "      <td>-74.186302</td>\n",
       "      <td>0.000000</td>\n",
       "      <td>1.000000</td>\n",
       "      <td>-74.277367</td>\n",
       "      <td>0.000000</td>\n",
       "      <td>1.000000</td>\n",
       "      <td>-7.000000</td>\n",
       "      <td>-0.500000</td>\n",
       "      <td>-0.500000</td>\n",
       "      <td>0.000000</td>\n",
       "      <td>0.000000</td>\n",
       "      <td>-0.300000</td>\n",
       "      <td>-7.800000</td>\n",
       "    </tr>\n",
       "    <tr>\n",
       "      <th>25%</th>\n",
       "      <td>1.000000</td>\n",
       "      <td>1.000000</td>\n",
       "      <td>1.000000</td>\n",
       "      <td>-73.990997</td>\n",
       "      <td>40.738556</td>\n",
       "      <td>1.000000</td>\n",
       "      <td>-73.990261</td>\n",
       "      <td>40.738478</td>\n",
       "      <td>1.000000</td>\n",
       "      <td>7.000000</td>\n",
       "      <td>0.000000</td>\n",
       "      <td>0.500000</td>\n",
       "      <td>0.000000</td>\n",
       "      <td>0.000000</td>\n",
       "      <td>0.300000</td>\n",
       "      <td>8.800000</td>\n",
       "    </tr>\n",
       "    <tr>\n",
       "      <th>50%</th>\n",
       "      <td>2.000000</td>\n",
       "      <td>1.000000</td>\n",
       "      <td>1.700000</td>\n",
       "      <td>-73.979774</td>\n",
       "      <td>40.755909</td>\n",
       "      <td>1.000000</td>\n",
       "      <td>-73.978256</td>\n",
       "      <td>40.756340</td>\n",
       "      <td>1.000000</td>\n",
       "      <td>10.500000</td>\n",
       "      <td>0.000000</td>\n",
       "      <td>0.500000</td>\n",
       "      <td>1.000000</td>\n",
       "      <td>0.000000</td>\n",
       "      <td>0.300000</td>\n",
       "      <td>12.800000</td>\n",
       "    </tr>\n",
       "    <tr>\n",
       "      <th>75%</th>\n",
       "      <td>2.000000</td>\n",
       "      <td>2.000000</td>\n",
       "      <td>3.300000</td>\n",
       "      <td>-73.963001</td>\n",
       "      <td>40.770012</td>\n",
       "      <td>1.000000</td>\n",
       "      <td>-73.961311</td>\n",
       "      <td>40.771044</td>\n",
       "      <td>2.000000</td>\n",
       "      <td>17.000000</td>\n",
       "      <td>0.000000</td>\n",
       "      <td>0.500000</td>\n",
       "      <td>2.460000</td>\n",
       "      <td>0.000000</td>\n",
       "      <td>0.300000</td>\n",
       "      <td>19.800000</td>\n",
       "    </tr>\n",
       "    <tr>\n",
       "      <th>max</th>\n",
       "      <td>2.000000</td>\n",
       "      <td>6.000000</td>\n",
       "      <td>64.600000</td>\n",
       "      <td>0.000000</td>\n",
       "      <td>41.064606</td>\n",
       "      <td>5.000000</td>\n",
       "      <td>0.000000</td>\n",
       "      <td>41.137344</td>\n",
       "      <td>4.000000</td>\n",
       "      <td>250.000000</td>\n",
       "      <td>1.000000</td>\n",
       "      <td>0.500000</td>\n",
       "      <td>42.050000</td>\n",
       "      <td>70.000000</td>\n",
       "      <td>0.300000</td>\n",
       "      <td>252.350000</td>\n",
       "    </tr>\n",
       "  </tbody>\n",
       "</table>\n",
       "</div>"
      ],
      "text/plain": [
       "          VendorID  passenger_count  trip_distance  pickup_longitude  \\\n",
       "count  9999.000000      9999.000000    9999.000000       9999.000000   \n",
       "mean      1.516652         1.659466       3.158511        -73.014956   \n",
       "std       0.499748         1.333306       4.037516          8.347871   \n",
       "min       1.000000         0.000000       0.000000        -74.186302   \n",
       "25%       1.000000         1.000000       1.000000        -73.990997   \n",
       "50%       2.000000         1.000000       1.700000        -73.979774   \n",
       "75%       2.000000         2.000000       3.300000        -73.963001   \n",
       "max       2.000000         6.000000      64.600000          0.000000   \n",
       "\n",
       "       pickup_latitude   RateCodeID  dropoff_longitude  dropoff_latitude  \\\n",
       "count      9999.000000  9999.000000        9999.000000       9999.000000   \n",
       "mean         40.226521     1.045105         -73.054699         40.248644   \n",
       "std           4.599169     0.302132           8.186847          4.510520   \n",
       "min           0.000000     1.000000         -74.277367          0.000000   \n",
       "25%          40.738556     1.000000         -73.990261         40.738478   \n",
       "50%          40.755909     1.000000         -73.978256         40.756340   \n",
       "75%          40.770012     1.000000         -73.961311         40.771044   \n",
       "max          41.064606     5.000000           0.000000         41.137344   \n",
       "\n",
       "       payment_type  fare_amount        extra      mta_tax   tip_amount  \\\n",
       "count   9999.000000  9999.000000  9999.000000  9999.000000  9999.000000   \n",
       "mean       1.407741    14.415892     0.118212     0.497450     1.818059   \n",
       "std        0.501911    12.442624     0.214794     0.037667     2.634469   \n",
       "min        1.000000    -7.000000    -0.500000    -0.500000     0.000000   \n",
       "25%        1.000000     7.000000     0.000000     0.500000     0.000000   \n",
       "50%        1.000000    10.500000     0.000000     0.500000     1.000000   \n",
       "75%        2.000000    17.000000     0.000000     0.500000     2.460000   \n",
       "max        4.000000   250.000000     1.000000     0.500000    42.050000   \n",
       "\n",
       "       tolls_amount  improvement_surcharge  total_amount  \n",
       "count   9999.000000            9999.000000   9999.000000  \n",
       "mean       0.400433               0.299790     17.552472  \n",
       "std        1.665170               0.010816     15.137990  \n",
       "min        0.000000              -0.300000     -7.800000  \n",
       "25%        0.000000               0.300000      8.800000  \n",
       "50%        0.000000               0.300000     12.800000  \n",
       "75%        0.000000               0.300000     19.800000  \n",
       "max       70.000000               0.300000    252.350000  "
      ]
     },
     "execution_count": 131,
     "metadata": {},
     "output_type": "execute_result"
    }
   ],
   "source": [
    "df=pd.read_csv('taxi.csv')\n",
    "df.describe()"
   ]
  },
  {
   "cell_type": "code",
   "execution_count": 135,
   "id": "9561dfc1",
   "metadata": {},
   "outputs": [
    {
     "data": {
      "text/html": [
       "<div>\n",
       "<style scoped>\n",
       "    .dataframe tbody tr th:only-of-type {\n",
       "        vertical-align: middle;\n",
       "    }\n",
       "\n",
       "    .dataframe tbody tr th {\n",
       "        vertical-align: top;\n",
       "    }\n",
       "\n",
       "    .dataframe thead th {\n",
       "        text-align: right;\n",
       "    }\n",
       "</style>\n",
       "<table border=\"1\" class=\"dataframe\">\n",
       "  <thead>\n",
       "    <tr style=\"text-align: right;\">\n",
       "      <th></th>\n",
       "      <th>passenger_count</th>\n",
       "      <th>trip_distance</th>\n",
       "      <th>total_amount</th>\n",
       "    </tr>\n",
       "  </thead>\n",
       "  <tbody>\n",
       "    <tr>\n",
       "      <th>count</th>\n",
       "      <td>9999.000000</td>\n",
       "      <td>9999.000000</td>\n",
       "      <td>9999.000000</td>\n",
       "    </tr>\n",
       "    <tr>\n",
       "      <th>mean</th>\n",
       "      <td>1.659466</td>\n",
       "      <td>3.158511</td>\n",
       "      <td>17.552472</td>\n",
       "    </tr>\n",
       "    <tr>\n",
       "      <th>std</th>\n",
       "      <td>1.333306</td>\n",
       "      <td>4.037516</td>\n",
       "      <td>15.137990</td>\n",
       "    </tr>\n",
       "    <tr>\n",
       "      <th>min</th>\n",
       "      <td>0.000000</td>\n",
       "      <td>0.000000</td>\n",
       "      <td>-7.800000</td>\n",
       "    </tr>\n",
       "    <tr>\n",
       "      <th>25%</th>\n",
       "      <td>1.000000</td>\n",
       "      <td>1.000000</td>\n",
       "      <td>8.800000</td>\n",
       "    </tr>\n",
       "    <tr>\n",
       "      <th>50%</th>\n",
       "      <td>1.000000</td>\n",
       "      <td>1.700000</td>\n",
       "      <td>12.800000</td>\n",
       "    </tr>\n",
       "    <tr>\n",
       "      <th>75%</th>\n",
       "      <td>2.000000</td>\n",
       "      <td>3.300000</td>\n",
       "      <td>19.800000</td>\n",
       "    </tr>\n",
       "    <tr>\n",
       "      <th>max</th>\n",
       "      <td>6.000000</td>\n",
       "      <td>64.600000</td>\n",
       "      <td>252.350000</td>\n",
       "    </tr>\n",
       "  </tbody>\n",
       "</table>\n",
       "</div>"
      ],
      "text/plain": [
       "       passenger_count  trip_distance  total_amount\n",
       "count      9999.000000    9999.000000   9999.000000\n",
       "mean          1.659466       3.158511     17.552472\n",
       "std           1.333306       4.037516     15.137990\n",
       "min           0.000000       0.000000     -7.800000\n",
       "25%           1.000000       1.000000      8.800000\n",
       "50%           1.000000       1.700000     12.800000\n",
       "75%           2.000000       3.300000     19.800000\n",
       "max           6.000000      64.600000    252.350000"
      ]
     },
     "execution_count": 135,
     "metadata": {},
     "output_type": "execute_result"
    }
   ],
   "source": [
    "df[['passenger_count', 'trip_distance', 'total_amount']].describe()"
   ]
  },
  {
   "cell_type": "code",
   "execution_count": 153,
   "id": "81a4f35e",
   "metadata": {},
   "outputs": [
    {
     "name": "stdout",
     "output_type": "stream",
     "text": [
      "passenger_count\n",
      "1                  7207\n",
      "Name: count, dtype: int64\n",
      "   passenger_count\n",
      "0                1\n"
     ]
    }
   ],
   "source": [
    "print(df[['passenger_count']].value_counts().nlargest(1))"
   ]
  },
  {
   "cell_type": "code",
   "execution_count": 158,
   "id": "cceb596c",
   "metadata": {},
   "outputs": [
    {
     "data": {
      "text/plain": [
       "31.581940298507465"
      ]
     },
     "execution_count": 158,
     "metadata": {},
     "output_type": "execute_result"
    }
   ],
   "source": [
    "df.loc[df['trip_distance']==0, 'total_amount'].mean()"
   ]
  },
  {
   "cell_type": "code",
   "execution_count": 160,
   "id": "37bc9ce6",
   "metadata": {},
   "outputs": [
    {
     "ename": "SyntaxError",
     "evalue": "invalid syntax (1200603187.py, line 1)",
     "output_type": "error",
     "traceback": [
      "\u001b[0;36m  Cell \u001b[0;32mIn[160], line 1\u001b[0;36m\u001b[0m\n\u001b[0;31m    df.loc['total_amount'<==0].count()\u001b[0m\n\u001b[0m                           ^\u001b[0m\n\u001b[0;31mSyntaxError\u001b[0m\u001b[0;31m:\u001b[0m invalid syntax\n"
     ]
    }
   ],
   "source": [
    "df.loc['total_amount'<=0].count()"
   ]
  },
  {
   "cell_type": "code",
   "execution_count": null,
   "id": "ec7825d1",
   "metadata": {},
   "outputs": [],
   "source": []
  }
 ],
 "metadata": {
  "kernelspec": {
   "display_name": "Python 3 (ipykernel)",
   "language": "python",
   "name": "python3"
  },
  "language_info": {
   "codemirror_mode": {
    "name": "ipython",
    "version": 3
   },
   "file_extension": ".py",
   "mimetype": "text/x-python",
   "name": "python",
   "nbconvert_exporter": "python",
   "pygments_lexer": "ipython3",
   "version": "3.12.7"
  }
 },
 "nbformat": 4,
 "nbformat_minor": 5
}
