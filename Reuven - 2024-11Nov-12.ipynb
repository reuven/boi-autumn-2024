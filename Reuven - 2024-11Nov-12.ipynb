{
 "cells": [
  {
   "cell_type": "markdown",
   "id": "eb6f7d65",
   "metadata": {},
   "source": [
    "# Agenda\n",
    "\n",
    "1. Day 1 -- fundamentals\n",
    "    - What is a programming language? WHat is Python?\n",
    "    - Values and variables\n",
    "    - Comparisons\n",
    "    - `if`/`else`\n",
    "    - input + output\n",
    "    - Numbers (int, float)\n",
    "    - Strings (text)\n",
    "    \n",
    "2. More complexity in data and programs\n",
    "    - List, tuple\n",
    "    - Dictionary\n",
    "    - From strings to lists, and back\n",
    "    - Files (reading from)\n",
    "    - Modules (and packages)\n",
    "    - Functions (maybe)\n",
    "    \n",
    "3. Pandas \n",
    "    - Series (1D)\n",
    "    - Data frame (2D)\n",
    "    - dtypes and `NaN`\n",
    "    - Methods (functionality) \n",
    "    \n",
    "4. More advanced Pandas\n",
    "    - Reading from CSV, Excel\n",
    "    - Grouping, sorting, pivot tables\n",
    "    - Visualization"
   ]
  },
  {
   "cell_type": "code",
   "execution_count": 2,
   "id": "687f818c",
   "metadata": {},
   "outputs": [
    {
     "name": "stdout",
     "output_type": "stream",
     "text": [
      "Hello out there!\n"
     ]
    }
   ],
   "source": [
    "print('Hello out there!')"
   ]
  },
  {
   "cell_type": "code",
   "execution_count": 3,
   "id": "26c6f455",
   "metadata": {},
   "outputs": [],
   "source": [
    "# python.lerner.co.il\n",
    "# boipw!!\n"
   ]
  },
  {
   "cell_type": "markdown",
   "id": "d08555fa",
   "metadata": {},
   "source": [
    "This is a cell. \n",
    "\n",
    "- Edit mode. When I type, Jupyter puts it into the cell. Click in the cell or press ENTER to get into edit mode.\n",
    "- Command mode. When I type, Jupyter gets a command from me. Click on the left or press ESC.\n",
    "\n",
    "Commands that I can give to Jupyter:\n",
    "- `x` -- cut the cell \n",
    "- `c` -- copy the cell\n",
    "- `v` -- paste the cell\n",
    "- `m` -- Markdown mode, for documentation\n",
    "- `y` -- code  mode, for Python\n",
    "- `a` -- new cell *above* the current one\n",
    "- `b` -- new cell *below* the current one\n",
    "\n",
    "shift + ENTER: Execute the cell"
   ]
  },
  {
   "cell_type": "code",
   "execution_count": 5,
   "id": "77c529fc",
   "metadata": {
    "scrolled": true
   },
   "outputs": [
    {
     "name": "stdout",
     "output_type": "stream",
     "text": [
      "hello again!\n",
      "hello again again!\n"
     ]
    }
   ],
   "source": [
    "print('hello again!')\n",
    "print('hello again again!')"
   ]
  },
  {
   "cell_type": "markdown",
   "id": "5324d475",
   "metadata": {},
   "source": [
    "# `print`\n",
    "\n",
    "`print` is a function. You must use `()` to make `print` do something!\n",
    "\n",
    "We can put, inside of the `()`, any value we want:\n",
    "\n",
    "- Numbers\n",
    "- Text (inside of `''`, `\"\"`)\n",
    "- Expression"
   ]
  },
  {
   "cell_type": "code",
   "execution_count": 6,
   "id": "1510a618",
   "metadata": {},
   "outputs": [
    {
     "name": "stdout",
     "output_type": "stream",
     "text": [
      "5\n"
     ]
    }
   ],
   "source": [
    "print(5)"
   ]
  },
  {
   "cell_type": "code",
   "execution_count": 7,
   "id": "bac2ac30",
   "metadata": {},
   "outputs": [
    {
     "name": "stdout",
     "output_type": "stream",
     "text": [
      "5\n",
      "hello\n",
      "6\n"
     ]
    }
   ],
   "source": [
    "print(5)\n",
    "print('hello')\n",
    "print(6)"
   ]
  },
  {
   "cell_type": "code",
   "execution_count": 8,
   "id": "e688de40",
   "metadata": {},
   "outputs": [
    {
     "name": "stdout",
     "output_type": "stream",
     "text": [
      "15\n"
     ]
    }
   ],
   "source": [
    "print(10 + 5)"
   ]
  },
  {
   "cell_type": "code",
   "execution_count": 9,
   "id": "1ef59be7",
   "metadata": {},
   "outputs": [
    {
     "name": "stdout",
     "output_type": "stream",
     "text": [
      "hellothere\n"
     ]
    }
   ],
   "source": [
    "print('hello' + 'there')"
   ]
  },
  {
   "cell_type": "code",
   "execution_count": 10,
   "id": "e2663d6d",
   "metadata": {},
   "outputs": [
    {
     "name": "stdout",
     "output_type": "stream",
     "text": [
      "hello there\n"
     ]
    }
   ],
   "source": [
    "print('hello ' + 'there')"
   ]
  },
  {
   "cell_type": "code",
   "execution_count": 11,
   "id": "5f43372b",
   "metadata": {},
   "outputs": [
    {
     "ename": "TypeError",
     "evalue": "can only concatenate str (not \"int\") to str",
     "output_type": "error",
     "traceback": [
      "\u001b[0;31m---------------------------------------------------------------------------\u001b[0m",
      "\u001b[0;31mTypeError\u001b[0m                                 Traceback (most recent call last)",
      "Cell \u001b[0;32mIn[11], line 1\u001b[0m\n\u001b[0;32m----> 1\u001b[0m \u001b[38;5;28mprint\u001b[39m(\u001b[38;5;124;43m'\u001b[39;49m\u001b[38;5;124;43mMy favorite number is \u001b[39;49m\u001b[38;5;124;43m'\u001b[39;49m\u001b[43m \u001b[49m\u001b[38;5;241;43m+\u001b[39;49m\u001b[43m \u001b[49m\u001b[38;5;241;43m10\u001b[39;49m)\n",
      "\u001b[0;31mTypeError\u001b[0m: can only concatenate str (not \"int\") to str"
     ]
    }
   ],
   "source": [
    "print('My favorite number is ' + 10)"
   ]
  },
  {
   "cell_type": "code",
   "execution_count": 12,
   "id": "17c2fc69",
   "metadata": {},
   "outputs": [
    {
     "name": "stdout",
     "output_type": "stream",
     "text": [
      "1020\n"
     ]
    }
   ],
   "source": [
    "print('10' + '20')"
   ]
  },
  {
   "cell_type": "markdown",
   "id": "22f069e1",
   "metadata": {},
   "source": [
    "# Exercise: Start with Jupyter\n",
    "\n",
    "1. On the server, create a new notebook ( new -> Python 3)\n",
    "2. Change the notebook's name to reflect your name and the date.\n",
    "3. Print a greeting to yourself in Python, using `print`."
   ]
  },
  {
   "cell_type": "code",
   "execution_count": 14,
   "id": "9e717ffe",
   "metadata": {},
   "outputs": [
    {
     "name": "stdout",
     "output_type": "stream",
     "text": [
      "Hello, Reuven\n"
     ]
    }
   ],
   "source": [
    "print('Hello, Reuven')"
   ]
  },
  {
   "cell_type": "code",
   "execution_count": 15,
   "id": "47293497",
   "metadata": {
    "scrolled": true
   },
   "outputs": [
    {
     "name": "stdout",
     "output_type": "stream",
     "text": [
      "Hello Reuven\n"
     ]
    }
   ],
   "source": [
    "# This is a comment\n",
    "\n",
    "print('Hello' + ' Reuven')   # this is also a comment"
   ]
  },
  {
   "cell_type": "code",
   "execution_count": 17,
   "id": "caa9ce03",
   "metadata": {},
   "outputs": [
    {
     "name": "stdout",
     "output_type": "stream",
     "text": [
      "a\n",
      "b\n",
      "c\n",
      "d\n"
     ]
    }
   ],
   "source": [
    "print('a')\n",
    "print('b')\n",
    "print('c')\n",
    "print('d')"
   ]
  },
  {
   "cell_type": "markdown",
   "id": "9863e59a",
   "metadata": {},
   "source": [
    "# Variables and assignment\n",
    "\n",
    "We can assign to a variable with `=`.  We assign the value on the right into the variable on the left.\n",
    "\n",
    "What can we name a variable?\n",
    "\n",
    "- Any combination of letters, digits, and `_`\n",
    "- We normally only use lowercase letters \n",
    "- You cannot put a digit at the start of a variable name\n",
    "- Don't use `_` on the ends (left or right) of your variable name\n",
    "\n",
    "Use good names for your variables!"
   ]
  },
  {
   "cell_type": "code",
   "execution_count": 20,
   "id": "586a7c64",
   "metadata": {},
   "outputs": [
    {
     "name": "stdout",
     "output_type": "stream",
     "text": [
      "100\n"
     ]
    }
   ],
   "source": [
    "x = 100\n",
    "\n",
    "print(x)"
   ]
  },
  {
   "cell_type": "code",
   "execution_count": 21,
   "id": "bc845f5c",
   "metadata": {},
   "outputs": [
    {
     "name": "stdout",
     "output_type": "stream",
     "text": [
      "Hello, Reuven\n"
     ]
    }
   ],
   "source": [
    "name = 'Reuven'\n",
    "\n",
    "print('Hello, ' + name)"
   ]
  },
  {
   "cell_type": "code",
   "execution_count": 22,
   "id": "c8200d4a",
   "metadata": {},
   "outputs": [
    {
     "name": "stdout",
     "output_type": "stream",
     "text": [
      "Hello, name\n"
     ]
    }
   ],
   "source": [
    "print('Hello, ' + 'name')"
   ]
  },
  {
   "cell_type": "code",
   "execution_count": 23,
   "id": "ea2578d3",
   "metadata": {},
   "outputs": [
    {
     "name": "stdout",
     "output_type": "stream",
     "text": [
      "100\n"
     ]
    }
   ],
   "source": [
    "x = 100\n",
    "print(x)"
   ]
  },
  {
   "cell_type": "code",
   "execution_count": 24,
   "id": "1960bfbd",
   "metadata": {},
   "outputs": [
    {
     "data": {
      "text/plain": [
       "100"
      ]
     },
     "execution_count": 24,
     "metadata": {},
     "output_type": "execute_result"
    }
   ],
   "source": [
    "# Only in Jupyter\n",
    "# if the final line is an expression or  a value, we see it right away\n",
    "\n",
    "x"
   ]
  },
  {
   "cell_type": "code",
   "execution_count": 25,
   "id": "db651a9f",
   "metadata": {},
   "outputs": [
    {
     "data": {
      "text/plain": [
       "105"
      ]
     },
     "execution_count": 25,
     "metadata": {},
     "output_type": "execute_result"
    }
   ],
   "source": [
    "x + 5"
   ]
  },
  {
   "cell_type": "code",
   "execution_count": 26,
   "id": "d5ce056d",
   "metadata": {},
   "outputs": [
    {
     "data": {
      "text/plain": [
       "60"
      ]
     },
     "execution_count": 26,
     "metadata": {},
     "output_type": "execute_result"
    }
   ],
   "source": [
    "10 + 10\n",
    "20 + 20\n",
    "30 + 30"
   ]
  },
  {
   "cell_type": "code",
   "execution_count": 27,
   "id": "2b38b145",
   "metadata": {},
   "outputs": [
    {
     "data": {
      "text/plain": [
       "100"
      ]
     },
     "execution_count": 27,
     "metadata": {},
     "output_type": "execute_result"
    }
   ],
   "source": [
    "x"
   ]
  },
  {
   "cell_type": "code",
   "execution_count": 28,
   "id": "dd815fa7",
   "metadata": {},
   "outputs": [
    {
     "data": {
      "text/plain": [
       "int"
      ]
     },
     "execution_count": 28,
     "metadata": {},
     "output_type": "execute_result"
    }
   ],
   "source": [
    "# what kind of value is in x?\n",
    "\n",
    "type(x)"
   ]
  },
  {
   "cell_type": "code",
   "execution_count": null,
   "id": "0a4e5d1c",
   "metadata": {},
   "outputs": [],
   "source": []
  },
  {
   "cell_type": "code",
   "execution_count": 31,
   "id": "68c73139",
   "metadata": {
    "scrolled": true
   },
   "outputs": [
    {
     "data": {
      "text/plain": [
       "str"
      ]
     },
     "execution_count": 31,
     "metadata": {},
     "output_type": "execute_result"
    }
   ],
   "source": [
    "x = 'abcd'\n",
    "type(x)"
   ]
  },
  {
   "cell_type": "code",
   "execution_count": 31,
   "id": "0f4563d3",
   "metadata": {
    "scrolled": true
   },
   "outputs": [
    {
     "data": {
      "text/plain": [
       "str"
      ]
     },
     "execution_count": 31,
     "metadata": {},
     "output_type": "execute_result"
    }
   ],
   "source": [
    "x = 'abcd'\n",
    "type(x)"
   ]
  },
  {
   "cell_type": "code",
   "execution_count": 32,
   "id": "094ef71e",
   "metadata": {},
   "outputs": [
    {
     "data": {
      "text/plain": [
       "True"
      ]
     },
     "execution_count": 32,
     "metadata": {},
     "output_type": "execute_result"
    }
   ],
   "source": [
    "x = 10\n",
    "y = 10\n",
    "\n",
    "\n",
    "# are x and y the same?\n",
    "x == y"
   ]
  },
  {
   "cell_type": "markdown",
   "id": "3c77c72d",
   "metadata": {},
   "source": [
    "# Comparison operators\n",
    "\n",
    "- `=` -- assignment, a command to assign\n",
    "- `==` -- comparisons, asks a question\n",
    "\n",
    "Every comparison operator returns `True` or `False`. They are:\n",
    "\n",
    "- `==` -- are the two things equal?\n",
    "- `!=` -- are the two things *NOT* equal?\n",
    "- `>` -- is the left bigger than the right?\n",
    "- `>=` -- is the left bigger than or equal to the right?\n",
    "- `<` -- is the left smaller than the right?\n",
    "- `<=` -- is the left smaller than or equal to the right?"
   ]
  },
  {
   "cell_type": "code",
   "execution_count": 33,
   "id": "d70da221",
   "metadata": {},
   "outputs": [
    {
     "data": {
      "text/plain": [
       "True"
      ]
     },
     "execution_count": 33,
     "metadata": {},
     "output_type": "execute_result"
    }
   ],
   "source": [
    "100 < 200"
   ]
  },
  {
   "cell_type": "code",
   "execution_count": 34,
   "id": "0e9d22f7",
   "metadata": {},
   "outputs": [
    {
     "data": {
      "text/plain": [
       "False"
      ]
     },
     "execution_count": 34,
     "metadata": {},
     "output_type": "execute_result"
    }
   ],
   "source": [
    "100 < 10"
   ]
  },
  {
   "cell_type": "code",
   "execution_count": 35,
   "id": "a9d84d0b",
   "metadata": {},
   "outputs": [
    {
     "data": {
      "text/plain": [
       "False"
      ]
     },
     "execution_count": 35,
     "metadata": {},
     "output_type": "execute_result"
    }
   ],
   "source": [
    "100 < 20"
   ]
  },
  {
   "cell_type": "code",
   "execution_count": 36,
   "id": "fa5ecb48",
   "metadata": {},
   "outputs": [
    {
     "data": {
      "text/plain": [
       "True"
      ]
     },
     "execution_count": 36,
     "metadata": {},
     "output_type": "execute_result"
    }
   ],
   "source": [
    "'apple' < 'banana'"
   ]
  },
  {
   "cell_type": "code",
   "execution_count": 37,
   "id": "3eca1900",
   "metadata": {},
   "outputs": [
    {
     "data": {
      "text/plain": [
       "False"
      ]
     },
     "execution_count": 37,
     "metadata": {},
     "output_type": "execute_result"
    }
   ],
   "source": [
    "'apple' < 'Banana'"
   ]
  },
  {
   "cell_type": "code",
   "execution_count": 38,
   "id": "1ec92644",
   "metadata": {},
   "outputs": [
    {
     "data": {
      "text/plain": [
       "True"
      ]
     },
     "execution_count": 38,
     "metadata": {},
     "output_type": "execute_result"
    }
   ],
   "source": [
    "'100' < '20'"
   ]
  },
  {
   "cell_type": "code",
   "execution_count": 39,
   "id": "1bd77a19",
   "metadata": {},
   "outputs": [
    {
     "data": {
      "text/plain": [
       "True"
      ]
     },
     "execution_count": 39,
     "metadata": {},
     "output_type": "execute_result"
    }
   ],
   "source": [
    "'100' < 'apple'"
   ]
  },
  {
   "cell_type": "code",
   "execution_count": 40,
   "id": "90765bff",
   "metadata": {},
   "outputs": [
    {
     "ename": "SyntaxError",
     "evalue": "cannot assign to literal here. Maybe you meant '==' instead of '='? (4129678310.py, line 3)",
     "output_type": "error",
     "traceback": [
      "\u001b[0;36m  Cell \u001b[0;32mIn[40], line 3\u001b[0;36m\u001b[0m\n\u001b[0;31m    'apple' = 'banana'\u001b[0m\n\u001b[0m    ^\u001b[0m\n\u001b[0;31mSyntaxError\u001b[0m\u001b[0;31m:\u001b[0m cannot assign to literal here. Maybe you meant '==' instead of '='?\n"
     ]
    }
   ],
   "source": [
    "# assignment! \n",
    "\n",
    "'apple' = 'banana'"
   ]
  },
  {
   "cell_type": "code",
   "execution_count": 41,
   "id": "f4ee0593",
   "metadata": {},
   "outputs": [],
   "source": [
    "apple = 'banana'"
   ]
  },
  {
   "cell_type": "code",
   "execution_count": 42,
   "id": "6d9fddf0",
   "metadata": {},
   "outputs": [
    {
     "data": {
      "text/plain": [
       "False"
      ]
     },
     "execution_count": 42,
     "metadata": {},
     "output_type": "execute_result"
    }
   ],
   "source": [
    "apple == 'apple'"
   ]
  },
  {
   "cell_type": "markdown",
   "id": "c81d2a95",
   "metadata": {},
   "source": [
    "# Getting input from the user\n",
    "\n",
    "Use the `input` function to get input from the user.  Whatever the user types is returned by `input` as a string. \n",
    "\n",
    "Usually, we'll put `input` on the right side of assignment."
   ]
  },
  {
   "cell_type": "code",
   "execution_count": 48,
   "id": "6e666739",
   "metadata": {},
   "outputs": [
    {
     "name": "stdout",
     "output_type": "stream",
     "text": [
      "Enter your name: Reuven\n"
     ]
    }
   ],
   "source": [
    "name = input('Enter your name: ')"
   ]
  },
  {
   "cell_type": "code",
   "execution_count": 49,
   "id": "5347e57e",
   "metadata": {},
   "outputs": [
    {
     "name": "stdout",
     "output_type": "stream",
     "text": [
      "Hello, Reuven!\n"
     ]
    }
   ],
   "source": [
    "print('Hello, ' + name + \"!\")"
   ]
  },
  {
   "cell_type": "markdown",
   "id": "51c0586c",
   "metadata": {},
   "source": [
    "# Exercise:\n",
    "\n",
    "1. Ask the user for their name and city, assigning to *two* variables.\n",
    "2. Print a greeting to the user, using both."
   ]
  },
  {
   "cell_type": "code",
   "execution_count": 50,
   "id": "bcf72ced",
   "metadata": {},
   "outputs": [
    {
     "name": "stdout",
     "output_type": "stream",
     "text": [
      "Enter your name: Reuven\n",
      "Enter your city: Modi'in\n",
      "Hello, Reuven, from Modi'in!\n"
     ]
    }
   ],
   "source": [
    "name = input('Enter your name: ')\n",
    "city = input('Enter your city: ')\n",
    "\n",
    "print('Hello, ' + name + ', from ' + city + '!')"
   ]
  },
  {
   "cell_type": "code",
   "execution_count": 51,
   "id": "3fe04d5e",
   "metadata": {},
   "outputs": [
    {
     "name": "stdout",
     "output_type": "stream",
     "text": [
      "Hello, Reuven, from Modi'in!\n"
     ]
    }
   ],
   "source": [
    "# f-string (format string)\n",
    "# - before the opening quote, put an f\n",
    "# - {} in the string with a value/expression is replaced\n",
    "# - the {} are turned into strings\n",
    "\n",
    "print(f'Hello, {name}, from {city}!')"
   ]
  },
  {
   "cell_type": "code",
   "execution_count": 52,
   "id": "44f46985",
   "metadata": {},
   "outputs": [
    {
     "name": "stdout",
     "output_type": "stream",
     "text": [
      "10 + 20 = 30\n"
     ]
    }
   ],
   "source": [
    "x = 10\n",
    "y = 20\n",
    "\n",
    "print(f'{x} + {y} = {x+y}')"
   ]
  },
  {
   "cell_type": "markdown",
   "id": "962f4415",
   "metadata": {},
   "source": [
    "# `if` and `else`\n",
    "\n",
    "1. To the right of `if`, we need an expression that returns `True` or `False`\n",
    "2. At the end of the line, we have `:`\n",
    "3. Indented block of at least one line\n",
    "4. Optional `else:` (without a comparison) and a block"
   ]
  },
  {
   "cell_type": "code",
   "execution_count": 56,
   "id": "34d56cf0",
   "metadata": {},
   "outputs": [
    {
     "name": "stdout",
     "output_type": "stream",
     "text": [
      "Enter your name: Reuven\n",
      "Hello, boss!\n",
      "Great to see you again!\n",
      "Continuing...\n"
     ]
    }
   ],
   "source": [
    "name = input('Enter your name: ')\n",
    "\n",
    "if name == 'Reuven':\n",
    "    print(\"Hello, boss!\")\n",
    "    print('Great to see you again!')\n",
    "else:\n",
    "    print(f'Hello, {name}, whoever you are')    \n",
    "    \n",
    "print('Continuing...')"
   ]
  },
  {
   "cell_type": "markdown",
   "id": "f05a8abd",
   "metadata": {},
   "source": [
    "# Exercise: Greeting based on name\n",
    "\n",
    "1. Ask the user for their name\n",
    "2. If it's your name, print one thing\n",
    "3. If it's another name, print another thing"
   ]
  },
  {
   "cell_type": "code",
   "execution_count": null,
   "id": "731b9da9",
   "metadata": {},
   "outputs": [],
   "source": [
    "# github.com/reuven/\n",
    "# repositories\n",
    "\n",
    "# github.com/reuven/boi-autumn-2024"
   ]
  },
  {
   "cell_type": "code",
   "execution_count": 57,
   "id": "c256817e",
   "metadata": {},
   "outputs": [
    {
     "name": "stdout",
     "output_type": "stream",
     "text": [
      "Enter your name: Reuven\n",
      "Hello, you amazing person!\n"
     ]
    }
   ],
   "source": [
    "name = input('Enter your name: ')\n",
    "\n",
    "if name == 'Reuven':\n",
    "    print('Hello, you amazing person!')\n",
    "else:\n",
    "    print(f'Hello, {name}')"
   ]
  },
  {
   "cell_type": "code",
   "execution_count": 61,
   "id": "c59d3e5c",
   "metadata": {},
   "outputs": [
    {
     "name": "stdout",
     "output_type": "stream",
     "text": [
      "Enter first word: gold\n",
      "Enter second word: gold\n",
      "gold comes before gold\n"
     ]
    }
   ],
   "source": [
    "word1 = input('Enter first word: ')\n",
    "word2 = input('Enter second word: ')\n",
    "\n",
    "if word1 < word2:\n",
    "    print(f'{word1} comes before {word2}')\n",
    "else:\n",
    "    print(f'{word2} comes before {word1}')"
   ]
  },
  {
   "cell_type": "markdown",
   "id": "84a22df0",
   "metadata": {},
   "source": [
    "# More complex conditions\n",
    "\n",
    "We can use not just `if` and `else`, but also `elif` -- which has its own condition. I can have as many `elif` clauses as I want. The first that returns `True` runs. If none is `True`, then `else` runs."
   ]
  },
  {
   "cell_type": "code",
   "execution_count": 62,
   "id": "e7d7bd28",
   "metadata": {},
   "outputs": [
    {
     "name": "stdout",
     "output_type": "stream",
     "text": [
      "Bigger than 10\n"
     ]
    }
   ],
   "source": [
    "x = 50\n",
    "\n",
    "if x > 10:\n",
    "    print('Bigger than 10')\n",
    "elif x > 30:\n",
    "    print('Bigger than 30')\n",
    "elif x > 50:\n",
    "    print('Bigger than 50')\n",
    "elif x > 70:\n",
    "    print('Bigger than 70')\n",
    "elif x > 90:\n",
    "    print('Bigger than 90')\n",
    "else:\n",
    "    print('Who knows?')"
   ]
  },
  {
   "cell_type": "code",
   "execution_count": 66,
   "id": "4eb8ffa5",
   "metadata": {},
   "outputs": [
    {
     "name": "stdout",
     "output_type": "stream",
     "text": [
      "Who knows?\n"
     ]
    }
   ],
   "source": [
    "x = 5\n",
    "\n",
    "if x > 90:\n",
    "    print('Bigger than 90')\n",
    "elif x > 70:\n",
    "    print('Bigger than 70')\n",
    "elif x > 50:\n",
    "    print('Bigger than 50')\n",
    "elif x > 30:\n",
    "    print('Bigger than 30')\n",
    "elif x > 10:\n",
    "    print('Bigger than 10')\n",
    "else:\n",
    "    print('Who knows?')"
   ]
  },
  {
   "cell_type": "markdown",
   "id": "0b5f6bec",
   "metadata": {},
   "source": [
    "# Exercise: Which comes first?\n",
    "\n",
    "1. Ask the user to enter two words.\n",
    "2. Print which word comes first alphabetically.\n",
    "3. If the user entered the same word twice, say so."
   ]
  },
  {
   "cell_type": "code",
   "execution_count": 68,
   "id": "c1496e20",
   "metadata": {},
   "outputs": [
    {
     "name": "stdout",
     "output_type": "stream",
     "text": [
      "Enter first word: taxi\n",
      "Enter second word: cab\n",
      "cab comes before taxi\n"
     ]
    }
   ],
   "source": [
    "word1 = input('Enter first word: ')\n",
    "word2 = input('Enter second word: ')\n",
    "\n",
    "if word1 < word2:\n",
    "    print(f'{word1} comes before {word2}')\n",
    "elif word1 > word2:\n",
    "    print(f'{word2} comes before {word1}')\n",
    "else:\n",
    "    print(f'{word1} and {word2} are the same')"
   ]
  },
  {
   "cell_type": "code",
   "execution_count": 69,
   "id": "ac78f32c",
   "metadata": {},
   "outputs": [
    {
     "data": {
      "text/plain": [
       "True"
      ]
     },
     "execution_count": 69,
     "metadata": {},
     "output_type": "execute_result"
    }
   ],
   "source": [
    "# \"and\" returns True if both sides (left and right) are True -- otherwise, False\n",
    "\n",
    "x = 10\n",
    "y = 20\n",
    "\n",
    "#  True   and      True\n",
    "x == 10   and     y == 20"
   ]
  },
  {
   "cell_type": "code",
   "execution_count": 70,
   "id": "c717ad1b",
   "metadata": {},
   "outputs": [
    {
     "name": "stdout",
     "output_type": "stream",
     "text": [
      "yes, both are what we want!\n"
     ]
    }
   ],
   "source": [
    "if x == 10 and y == 20:\n",
    "    print('yes, both are what we want!')"
   ]
  },
  {
   "cell_type": "code",
   "execution_count": 71,
   "id": "12d9bff6",
   "metadata": {},
   "outputs": [
    {
     "data": {
      "text/plain": [
       "False"
      ]
     },
     "execution_count": 71,
     "metadata": {},
     "output_type": "execute_result"
    }
   ],
   "source": [
    "#  True   and      False\n",
    "x == 10   and     y == 50"
   ]
  },
  {
   "cell_type": "code",
   "execution_count": 72,
   "id": "7f3e3647",
   "metadata": {},
   "outputs": [],
   "source": [
    "if x == 10 and y == 50:\n",
    "    print('yes, both are what we want!')"
   ]
  },
  {
   "cell_type": "code",
   "execution_count": 73,
   "id": "115c7420",
   "metadata": {},
   "outputs": [
    {
     "name": "stdout",
     "output_type": "stream",
     "text": [
      "At least one is what you want\n"
     ]
    }
   ],
   "source": [
    "# \"or\" returns True if the left *OR* the right is True, False otherwise\n",
    "\n",
    "if x == 10 or y == 50:\n",
    "    print('At least one is what you want')"
   ]
  },
  {
   "cell_type": "code",
   "execution_count": 74,
   "id": "8411ad50",
   "metadata": {},
   "outputs": [],
   "source": [
    "# \"not\" looks right, and flips the logic from True->False or False->True"
   ]
  },
  {
   "cell_type": "markdown",
   "id": "e2652200",
   "metadata": {},
   "source": [
    "# Exercise: Name and city\n",
    "\n",
    "1. Ask the user to enter (in two questions) their name and city, and assign to two variables.\n",
    "2. If the name + city are the same as you, print \"You must be me\"\n",
    "3. If the name is the same but the city isn't, print \"Nice name, bad city\"\n",
    "3. If the city is the same but the name isn't, print \"We live in the same city\"\n",
    "4. If neither is the same, then say \"Bad name and bad city\""
   ]
  },
  {
   "cell_type": "code",
   "execution_count": 75,
   "id": "6fb02410",
   "metadata": {},
   "outputs": [],
   "source": [
    "# not equal is the != operator"
   ]
  },
  {
   "cell_type": "code",
   "execution_count": 80,
   "id": "04391c44",
   "metadata": {},
   "outputs": [
    {
     "name": "stdout",
     "output_type": "stream",
     "text": [
      "Enter your name: Reuven\n",
      "Enter your city: b\n"
     ]
    },
    {
     "ename": "NameError",
     "evalue": "name 'Reuven' is not defined",
     "output_type": "error",
     "traceback": [
      "\u001b[0;31m---------------------------------------------------------------------------\u001b[0m",
      "\u001b[0;31mNameError\u001b[0m                                 Traceback (most recent call last)",
      "Cell \u001b[0;32mIn[80], line 7\u001b[0m\n\u001b[1;32m      4\u001b[0m name \u001b[38;5;241m=\u001b[39m \u001b[38;5;28minput\u001b[39m(\u001b[38;5;124m'\u001b[39m\u001b[38;5;124mEnter your name: \u001b[39m\u001b[38;5;124m'\u001b[39m)\n\u001b[1;32m      5\u001b[0m city \u001b[38;5;241m=\u001b[39m \u001b[38;5;28minput\u001b[39m(\u001b[38;5;124m'\u001b[39m\u001b[38;5;124mEnter your city: \u001b[39m\u001b[38;5;124m'\u001b[39m)\n\u001b[0;32m----> 7\u001b[0m \u001b[38;5;28;01mif\u001b[39;00m name \u001b[38;5;241m==\u001b[39m my_name \u001b[38;5;129;01mand\u001b[39;00m city \u001b[38;5;241m==\u001b[39m \u001b[43mReuven\u001b[49m:\n\u001b[1;32m      8\u001b[0m     \u001b[38;5;28mprint\u001b[39m(\u001b[38;5;124mf\u001b[39m\u001b[38;5;124m'\u001b[39m\u001b[38;5;124mYou must be me!\u001b[39m\u001b[38;5;124m'\u001b[39m)\n\u001b[1;32m      9\u001b[0m \u001b[38;5;28;01melif\u001b[39;00m name \u001b[38;5;241m==\u001b[39m my_name:\n",
      "\u001b[0;31mNameError\u001b[0m: name 'Reuven' is not defined"
     ]
    }
   ],
   "source": [
    "my_name = 'Reuven'\n",
    "my_city = 'Modiin'\n",
    "\n",
    "name = input('Enter your name: ')\n",
    "city = input('Enter your city: ')\n",
    "\n",
    "if name == my_name and city == my_city:\n",
    "    print(f'You must be me!')\n",
    "elif name == my_name:\n",
    "    print(f'Great name, bad city')\n",
    "elif city == my_city:\n",
    "    print(f'Great city, bad name')\n",
    "else:\n",
    "    print(f'Bad everything!')"
   ]
  },
  {
   "cell_type": "markdown",
   "id": "7bab5416",
   "metadata": {},
   "source": [
    "# Next up\n",
    "\n",
    "- Numbers\n",
    "- Strings"
   ]
  },
  {
   "cell_type": "code",
   "execution_count": null,
   "id": "ebd73652",
   "metadata": {},
   "outputs": [],
   "source": [
    "github.com/reuven   "
   ]
  },
  {
   "cell_type": "markdown",
   "id": "3b57a25b",
   "metadata": {},
   "source": [
    "# Numbers\n",
    "\n",
    "There are two types of numbers in Python:\n",
    "\n",
    "- `int` -- integer, whole numbers\n",
    "- `float` -- numbers with a decimal point\n",
    "\n"
   ]
  },
  {
   "cell_type": "code",
   "execution_count": 81,
   "id": "799d4cc1",
   "metadata": {},
   "outputs": [
    {
     "data": {
      "text/plain": [
       "int"
      ]
     },
     "execution_count": 81,
     "metadata": {},
     "output_type": "execute_result"
    }
   ],
   "source": [
    "x = 123456\n",
    "\n",
    "type(x)"
   ]
  },
  {
   "cell_type": "code",
   "execution_count": 82,
   "id": "f6ef5b2b",
   "metadata": {},
   "outputs": [
    {
     "name": "stdout",
     "output_type": "stream",
     "text": [
      "1234567890\n"
     ]
    }
   ],
   "source": [
    "x = 1_234_567_890\n",
    "\n",
    "print(x)"
   ]
  },
  {
   "cell_type": "code",
   "execution_count": 83,
   "id": "071fad12",
   "metadata": {},
   "outputs": [
    {
     "name": "stdout",
     "output_type": "stream",
     "text": [
      "1234567893\n"
     ]
    }
   ],
   "source": [
    "print(x+3)"
   ]
  },
  {
   "cell_type": "code",
   "execution_count": 84,
   "id": "26617ffe",
   "metadata": {},
   "outputs": [
    {
     "name": "stdout",
     "output_type": "stream",
     "text": [
      "1234567890\n"
     ]
    }
   ],
   "source": [
    "print(x)"
   ]
  },
  {
   "cell_type": "code",
   "execution_count": 85,
   "id": "2c94e7f7",
   "metadata": {},
   "outputs": [
    {
     "name": "stdout",
     "output_type": "stream",
     "text": [
      "1234567890\n"
     ]
    }
   ],
   "source": [
    "print(f'{x}')"
   ]
  },
  {
   "cell_type": "code",
   "execution_count": 91,
   "id": "891e0de4",
   "metadata": {},
   "outputs": [
    {
     "name": "stdout",
     "output_type": "stream",
     "text": [
      "Number is _____1234567890\n"
     ]
    }
   ],
   "source": [
    "print(f'Number is {x:_>15}')"
   ]
  },
  {
   "cell_type": "code",
   "execution_count": 92,
   "id": "fbefb4f2",
   "metadata": {},
   "outputs": [
    {
     "name": "stdout",
     "output_type": "stream",
     "text": [
      "Number is 1,234,567,890\n"
     ]
    }
   ],
   "source": [
    "print(f'Number is {x:,}')"
   ]
  },
  {
   "cell_type": "markdown",
   "id": "3a119101",
   "metadata": {},
   "source": [
    "Go to https://fstring.help/ for full info about f-strings and \"format specs\" after the `:`"
   ]
  },
  {
   "cell_type": "code",
   "execution_count": 93,
   "id": "2e334172",
   "metadata": {},
   "outputs": [],
   "source": [
    "x = 10\n",
    "y = 3"
   ]
  },
  {
   "cell_type": "code",
   "execution_count": 94,
   "id": "f7ae908d",
   "metadata": {},
   "outputs": [
    {
     "data": {
      "text/plain": [
       "13"
      ]
     },
     "execution_count": 94,
     "metadata": {},
     "output_type": "execute_result"
    }
   ],
   "source": [
    "# operators\n",
    "\n",
    "x + y"
   ]
  },
  {
   "cell_type": "code",
   "execution_count": 95,
   "id": "b5aaf7aa",
   "metadata": {},
   "outputs": [
    {
     "data": {
      "text/plain": [
       "7"
      ]
     },
     "execution_count": 95,
     "metadata": {},
     "output_type": "execute_result"
    }
   ],
   "source": [
    "x - y"
   ]
  },
  {
   "cell_type": "code",
   "execution_count": 96,
   "id": "a0b7917e",
   "metadata": {},
   "outputs": [
    {
     "data": {
      "text/plain": [
       "30"
      ]
     },
     "execution_count": 96,
     "metadata": {},
     "output_type": "execute_result"
    }
   ],
   "source": [
    "x * y   # multiplication"
   ]
  },
  {
   "cell_type": "code",
   "execution_count": 97,
   "id": "617fd0bb",
   "metadata": {},
   "outputs": [
    {
     "data": {
      "text/plain": [
       "3.3333333333333335"
      ]
     },
     "execution_count": 97,
     "metadata": {},
     "output_type": "execute_result"
    }
   ],
   "source": [
    "x / y     # truediv -- always returns a float"
   ]
  },
  {
   "cell_type": "code",
   "execution_count": 98,
   "id": "198988b7",
   "metadata": {},
   "outputs": [
    {
     "data": {
      "text/plain": [
       "3"
      ]
     },
     "execution_count": 98,
     "metadata": {},
     "output_type": "execute_result"
    }
   ],
   "source": [
    "x // y     # floordiv -- always returns an int"
   ]
  },
  {
   "cell_type": "code",
   "execution_count": 101,
   "id": "942332fe",
   "metadata": {},
   "outputs": [
    {
     "data": {
      "text/plain": [
       "1"
      ]
     },
     "execution_count": 101,
     "metadata": {},
     "output_type": "execute_result"
    }
   ],
   "source": [
    "x = 10\n",
    "y = 3\n",
    "\n",
    "x % y    # modulus -- remainder"
   ]
  },
  {
   "cell_type": "code",
   "execution_count": 100,
   "id": "ebb735bd",
   "metadata": {},
   "outputs": [
    {
     "data": {
      "text/plain": [
       "1000"
      ]
     },
     "execution_count": 100,
     "metadata": {},
     "output_type": "execute_result"
    }
   ],
   "source": [
    "x ** y   # exponentiation"
   ]
  },
  {
   "cell_type": "code",
   "execution_count": 102,
   "id": "9560b2fd",
   "metadata": {},
   "outputs": [
    {
     "ename": "ZeroDivisionError",
     "evalue": "division by zero",
     "output_type": "error",
     "traceback": [
      "\u001b[0;31m---------------------------------------------------------------------------\u001b[0m",
      "\u001b[0;31mZeroDivisionError\u001b[0m                         Traceback (most recent call last)",
      "Cell \u001b[0;32mIn[102], line 1\u001b[0m\n\u001b[0;32m----> 1\u001b[0m \u001b[43mx\u001b[49m\u001b[43m \u001b[49m\u001b[38;5;241;43m/\u001b[39;49m\u001b[43m \u001b[49m\u001b[38;5;241;43m0\u001b[39;49m\n",
      "\u001b[0;31mZeroDivisionError\u001b[0m: division by zero"
     ]
    }
   ],
   "source": [
    "x / 0"
   ]
  },
  {
   "cell_type": "code",
   "execution_count": null,
   "id": "3c98bb27",
   "metadata": {},
   "outputs": [],
   "source": [
    "# CalRel  -- calendar releases\n",
    "\n"
   ]
  },
  {
   "cell_type": "code",
   "execution_count": 103,
   "id": "ba818424",
   "metadata": {},
   "outputs": [
    {
     "data": {
      "text/plain": [
       "11"
      ]
     },
     "execution_count": 103,
     "metadata": {},
     "output_type": "execute_result"
    }
   ],
   "source": [
    "x = 10\n",
    "\n",
    "# add 1 to x\n",
    "\n",
    "x = x + 1\n",
    "x"
   ]
  },
  {
   "cell_type": "code",
   "execution_count": 104,
   "id": "3e05debf",
   "metadata": {},
   "outputs": [],
   "source": [
    "# short form of this\n",
    "\n",
    "x += 1    # same as x = x + 1"
   ]
  },
  {
   "cell_type": "code",
   "execution_count": 105,
   "id": "214516a0",
   "metadata": {},
   "outputs": [
    {
     "ename": "TypeError",
     "evalue": "can only concatenate str (not \"int\") to str",
     "output_type": "error",
     "traceback": [
      "\u001b[0;31m---------------------------------------------------------------------------\u001b[0m",
      "\u001b[0;31mTypeError\u001b[0m                                 Traceback (most recent call last)",
      "Cell \u001b[0;32mIn[105], line 4\u001b[0m\n\u001b[1;32m      1\u001b[0m x \u001b[38;5;241m=\u001b[39m \u001b[38;5;124m'\u001b[39m\u001b[38;5;124m10\u001b[39m\u001b[38;5;124m'\u001b[39m\n\u001b[1;32m      2\u001b[0m y \u001b[38;5;241m=\u001b[39m \u001b[38;5;241m20\u001b[39m\n\u001b[0;32m----> 4\u001b[0m \u001b[43mx\u001b[49m\u001b[43m \u001b[49m\u001b[38;5;241;43m+\u001b[39;49m\u001b[43m \u001b[49m\u001b[43my\u001b[49m\n",
      "\u001b[0;31mTypeError\u001b[0m: can only concatenate str (not \"int\") to str"
     ]
    }
   ],
   "source": [
    "x = '10'\n",
    "y = 20\n",
    "\n",
    "x + y"
   ]
  },
  {
   "cell_type": "code",
   "execution_count": 107,
   "id": "05c64209",
   "metadata": {},
   "outputs": [
    {
     "data": {
      "text/plain": [
       "30"
      ]
     },
     "execution_count": 107,
     "metadata": {},
     "output_type": "execute_result"
    }
   ],
   "source": [
    "# I want to get an int based on x\n",
    "\n",
    "int(x) + y"
   ]
  },
  {
   "cell_type": "code",
   "execution_count": 108,
   "id": "99d3593b",
   "metadata": {},
   "outputs": [
    {
     "data": {
      "text/plain": [
       "'1020'"
      ]
     },
     "execution_count": 108,
     "metadata": {},
     "output_type": "execute_result"
    }
   ],
   "source": [
    "x + str(y)"
   ]
  },
  {
   "cell_type": "code",
   "execution_count": 109,
   "id": "506e4cdf",
   "metadata": {},
   "outputs": [
    {
     "data": {
      "text/plain": [
       "10"
      ]
     },
     "execution_count": 109,
     "metadata": {},
     "output_type": "execute_result"
    }
   ],
   "source": [
    "x = int(x)\n",
    "x"
   ]
  },
  {
   "cell_type": "code",
   "execution_count": 110,
   "id": "4adfc7d5",
   "metadata": {},
   "outputs": [
    {
     "data": {
      "text/plain": [
       "int"
      ]
     },
     "execution_count": 110,
     "metadata": {},
     "output_type": "execute_result"
    }
   ],
   "source": [
    "type(x)"
   ]
  },
  {
   "cell_type": "code",
   "execution_count": 111,
   "id": "c6ba1a67",
   "metadata": {},
   "outputs": [
    {
     "data": {
      "text/plain": [
       "30"
      ]
     },
     "execution_count": 111,
     "metadata": {},
     "output_type": "execute_result"
    }
   ],
   "source": [
    "x + y"
   ]
  },
  {
   "cell_type": "markdown",
   "id": "5011de0c",
   "metadata": {},
   "source": [
    "# Exercise: Guessing game\n",
    "\n",
    "1. Choose a secret integer, and assign to `secret`.\n",
    "2. Ask the user to enter a guess, and assign to `guess`.\n",
    "3. Depending on the user's input, tell them that they are too low, too high, or just right."
   ]
  },
  {
   "cell_type": "code",
   "execution_count": 116,
   "id": "c55a3cb0",
   "metadata": {},
   "outputs": [
    {
     "name": "stdout",
     "output_type": "stream",
     "text": [
      "Enter your guess: hello\n"
     ]
    },
    {
     "ename": "ValueError",
     "evalue": "invalid literal for int() with base 10: 'hello'",
     "output_type": "error",
     "traceback": [
      "\u001b[0;31m---------------------------------------------------------------------------\u001b[0m",
      "\u001b[0;31mValueError\u001b[0m                                Traceback (most recent call last)",
      "Cell \u001b[0;32mIn[116], line 4\u001b[0m\n\u001b[1;32m      1\u001b[0m secret \u001b[38;5;241m=\u001b[39m \u001b[38;5;241m72\u001b[39m\n\u001b[1;32m      3\u001b[0m guess \u001b[38;5;241m=\u001b[39m \u001b[38;5;28minput\u001b[39m(\u001b[38;5;124m'\u001b[39m\u001b[38;5;124mEnter your guess: \u001b[39m\u001b[38;5;124m'\u001b[39m)\n\u001b[0;32m----> 4\u001b[0m guess \u001b[38;5;241m=\u001b[39m \u001b[38;5;28;43mint\u001b[39;49m\u001b[43m(\u001b[49m\u001b[43mguess\u001b[49m\u001b[43m)\u001b[49m\n\u001b[1;32m      6\u001b[0m \u001b[38;5;28;01mif\u001b[39;00m guess \u001b[38;5;241m==\u001b[39m secret:\n\u001b[1;32m      7\u001b[0m     \u001b[38;5;28mprint\u001b[39m(\u001b[38;5;124m'\u001b[39m\u001b[38;5;124mYou got it!\u001b[39m\u001b[38;5;124m'\u001b[39m)\n",
      "\u001b[0;31mValueError\u001b[0m: invalid literal for int() with base 10: 'hello'"
     ]
    }
   ],
   "source": [
    "secret = 72\n",
    "\n",
    "guess = input('Enter your guess: ')\n",
    "guess = int(guess)\n",
    "\n",
    "if guess == secret:\n",
    "    print('You got it!')\n",
    "elif guess > secret:\n",
    "    print('Too high!')\n",
    "else:\n",
    "    print('Too low!')"
   ]
  },
  {
   "cell_type": "code",
   "execution_count": 117,
   "id": "a87dfb4c",
   "metadata": {},
   "outputs": [
    {
     "data": {
      "text/plain": [
       "int"
      ]
     },
     "execution_count": 117,
     "metadata": {},
     "output_type": "execute_result"
    }
   ],
   "source": [
    "x = 10\n",
    "type(x)"
   ]
  },
  {
   "cell_type": "code",
   "execution_count": 118,
   "id": "f722d170",
   "metadata": {},
   "outputs": [
    {
     "data": {
      "text/plain": [
       "float"
      ]
     },
     "execution_count": 118,
     "metadata": {},
     "output_type": "execute_result"
    }
   ],
   "source": [
    "x = 10.0\n",
    "type(x)"
   ]
  },
  {
   "cell_type": "code",
   "execution_count": 119,
   "id": "41456363",
   "metadata": {},
   "outputs": [
    {
     "data": {
      "text/plain": [
       "30.5"
      ]
     },
     "execution_count": 119,
     "metadata": {},
     "output_type": "execute_result"
    }
   ],
   "source": [
    "x = 10\n",
    "y = 20.5\n",
    "\n",
    "x + y"
   ]
  },
  {
   "cell_type": "code",
   "execution_count": 120,
   "id": "aa955ebf",
   "metadata": {},
   "outputs": [
    {
     "data": {
      "text/plain": [
       "0.30000000000000004"
      ]
     },
     "execution_count": 120,
     "metadata": {},
     "output_type": "execute_result"
    }
   ],
   "source": [
    "0.1 + 0.2"
   ]
  },
  {
   "cell_type": "code",
   "execution_count": 121,
   "id": "1c27d247",
   "metadata": {},
   "outputs": [
    {
     "data": {
      "text/plain": [
       "False"
      ]
     },
     "execution_count": 121,
     "metadata": {},
     "output_type": "execute_result"
    }
   ],
   "source": [
    "0.1 + 0.2 == 0.3"
   ]
  },
  {
   "cell_type": "code",
   "execution_count": 122,
   "id": "bd36a421",
   "metadata": {},
   "outputs": [
    {
     "data": {
      "text/plain": [
       "0.3"
      ]
     },
     "execution_count": 122,
     "metadata": {},
     "output_type": "execute_result"
    }
   ],
   "source": [
    "round(0.1+0.2, 4)"
   ]
  },
  {
   "cell_type": "code",
   "execution_count": 123,
   "id": "9ee02e71",
   "metadata": {},
   "outputs": [
    {
     "data": {
      "text/plain": [
       "123"
      ]
     },
     "execution_count": 123,
     "metadata": {},
     "output_type": "execute_result"
    }
   ],
   "source": [
    "int('123')"
   ]
  },
  {
   "cell_type": "code",
   "execution_count": 124,
   "id": "84638412",
   "metadata": {},
   "outputs": [
    {
     "data": {
      "text/plain": [
       "123.0"
      ]
     },
     "execution_count": 124,
     "metadata": {},
     "output_type": "execute_result"
    }
   ],
   "source": [
    "float('123')"
   ]
  },
  {
   "cell_type": "code",
   "execution_count": 125,
   "id": "45092e89",
   "metadata": {},
   "outputs": [
    {
     "data": {
      "text/plain": [
       "12"
      ]
     },
     "execution_count": 125,
     "metadata": {},
     "output_type": "execute_result"
    }
   ],
   "source": [
    "int(12.34)"
   ]
  },
  {
   "cell_type": "code",
   "execution_count": 126,
   "id": "f609dd12",
   "metadata": {},
   "outputs": [
    {
     "data": {
      "text/plain": [
       "12"
      ]
     },
     "execution_count": 126,
     "metadata": {},
     "output_type": "execute_result"
    }
   ],
   "source": [
    "int(12.99)"
   ]
  },
  {
   "cell_type": "code",
   "execution_count": 127,
   "id": "e5081974",
   "metadata": {},
   "outputs": [
    {
     "data": {
      "text/plain": [
       "True"
      ]
     },
     "execution_count": 127,
     "metadata": {},
     "output_type": "execute_result"
    }
   ],
   "source": [
    "123.0 == 123"
   ]
  },
  {
   "cell_type": "code",
   "execution_count": 128,
   "id": "61dc6417",
   "metadata": {},
   "outputs": [
    {
     "data": {
      "text/plain": [
       "(68-44j)"
      ]
     },
     "execution_count": 128,
     "metadata": {},
     "output_type": "execute_result"
    }
   ],
   "source": [
    "x = 12+34j\n",
    "y = 56-78j\n",
    "\n",
    "x+y"
   ]
  },
  {
   "cell_type": "code",
   "execution_count": 129,
   "id": "79371c9a",
   "metadata": {},
   "outputs": [
    {
     "data": {
      "text/plain": [
       "100"
      ]
     },
     "execution_count": 129,
     "metadata": {},
     "output_type": "execute_result"
    }
   ],
   "source": [
    "x = 100\n",
    "y = x\n",
    "\n",
    "x = 200\n",
    "y"
   ]
  },
  {
   "cell_type": "markdown",
   "id": "0c637757",
   "metadata": {},
   "source": [
    "# Strings\n",
    "\n",
    "All text in Python is in strings. "
   ]
  },
  {
   "cell_type": "code",
   "execution_count": 130,
   "id": "8aa1492f",
   "metadata": {},
   "outputs": [
    {
     "data": {
      "text/plain": [
       "26"
      ]
     },
     "execution_count": 130,
     "metadata": {},
     "output_type": "execute_result"
    }
   ],
   "source": [
    "# single quote\n",
    "# double quotes\n",
    "\n",
    "s = 'abcdefghijklmnopqrstuvwxyz'\n",
    "\n",
    "len(s)    # returns the number of characters in a string"
   ]
  },
  {
   "cell_type": "code",
   "execution_count": 131,
   "id": "5b5ae9c0",
   "metadata": {},
   "outputs": [
    {
     "data": {
      "text/plain": [
       "'a'"
      ]
     },
     "execution_count": 131,
     "metadata": {},
     "output_type": "execute_result"
    }
   ],
   "source": [
    "# retrieve with [index]\n",
    "# indexes start with 0!\n",
    "\n",
    "s[0]"
   ]
  },
  {
   "cell_type": "code",
   "execution_count": 132,
   "id": "482fa150",
   "metadata": {},
   "outputs": [
    {
     "data": {
      "text/plain": [
       "'b'"
      ]
     },
     "execution_count": 132,
     "metadata": {},
     "output_type": "execute_result"
    }
   ],
   "source": [
    "s[1]"
   ]
  },
  {
   "cell_type": "code",
   "execution_count": 133,
   "id": "6e3f2815",
   "metadata": {},
   "outputs": [
    {
     "data": {
      "text/plain": [
       "'c'"
      ]
     },
     "execution_count": 133,
     "metadata": {},
     "output_type": "execute_result"
    }
   ],
   "source": [
    "s[2]"
   ]
  },
  {
   "cell_type": "code",
   "execution_count": 134,
   "id": "67754a66",
   "metadata": {},
   "outputs": [
    {
     "data": {
      "text/plain": [
       "'z'"
      ]
     },
     "execution_count": 134,
     "metadata": {},
     "output_type": "execute_result"
    }
   ],
   "source": [
    "s[25]"
   ]
  },
  {
   "cell_type": "code",
   "execution_count": 135,
   "id": "011fb263",
   "metadata": {},
   "outputs": [
    {
     "data": {
      "text/plain": [
       "'u'"
      ]
     },
     "execution_count": 135,
     "metadata": {},
     "output_type": "execute_result"
    }
   ],
   "source": [
    "i = 20\n",
    "s[i]"
   ]
  },
  {
   "cell_type": "code",
   "execution_count": 136,
   "id": "a07aea2a",
   "metadata": {},
   "outputs": [
    {
     "ename": "IndexError",
     "evalue": "string index out of range",
     "output_type": "error",
     "traceback": [
      "\u001b[0;31m---------------------------------------------------------------------------\u001b[0m",
      "\u001b[0;31mIndexError\u001b[0m                                Traceback (most recent call last)",
      "Cell \u001b[0;32mIn[136], line 1\u001b[0m\n\u001b[0;32m----> 1\u001b[0m \u001b[43ms\u001b[49m\u001b[43m[\u001b[49m\u001b[38;5;241;43m100\u001b[39;49m\u001b[43m]\u001b[49m\n",
      "\u001b[0;31mIndexError\u001b[0m: string index out of range"
     ]
    }
   ],
   "source": [
    "s[100]"
   ]
  },
  {
   "cell_type": "code",
   "execution_count": 137,
   "id": "d2f471ce",
   "metadata": {},
   "outputs": [
    {
     "data": {
      "text/plain": [
       "'z'"
      ]
     },
     "execution_count": 137,
     "metadata": {},
     "output_type": "execute_result"
    }
   ],
   "source": [
    "i = 25\n",
    "s[i]"
   ]
  },
  {
   "cell_type": "code",
   "execution_count": 139,
   "id": "b3e8f639",
   "metadata": {},
   "outputs": [
    {
     "data": {
      "text/plain": [
       "'z'"
      ]
     },
     "execution_count": 139,
     "metadata": {},
     "output_type": "execute_result"
    }
   ],
   "source": [
    "s[ len(s)-1 ]"
   ]
  },
  {
   "cell_type": "code",
   "execution_count": 140,
   "id": "159f7297",
   "metadata": {},
   "outputs": [
    {
     "data": {
      "text/plain": [
       "'z'"
      ]
     },
     "execution_count": 140,
     "metadata": {},
     "output_type": "execute_result"
    }
   ],
   "source": [
    "# much easier to do this\n",
    "s[-1]"
   ]
  },
  {
   "cell_type": "code",
   "execution_count": 141,
   "id": "918c25cc",
   "metadata": {},
   "outputs": [
    {
     "data": {
      "text/plain": [
       "'y'"
      ]
     },
     "execution_count": 141,
     "metadata": {},
     "output_type": "execute_result"
    }
   ],
   "source": [
    "s[-2]"
   ]
  },
  {
   "cell_type": "code",
   "execution_count": 142,
   "id": "6486ad40",
   "metadata": {},
   "outputs": [
    {
     "data": {
      "text/plain": [
       "'x'"
      ]
     },
     "execution_count": 142,
     "metadata": {},
     "output_type": "execute_result"
    }
   ],
   "source": [
    "s[-3]"
   ]
  },
  {
   "cell_type": "code",
   "execution_count": 143,
   "id": "d5bad6f2",
   "metadata": {},
   "outputs": [
    {
     "data": {
      "text/plain": [
       "'ש'"
      ]
     },
     "execution_count": 143,
     "metadata": {},
     "output_type": "execute_result"
    }
   ],
   "source": [
    "s = 'שלום'\n",
    "s[0]"
   ]
  },
  {
   "cell_type": "code",
   "execution_count": 144,
   "id": "051f62d2",
   "metadata": {},
   "outputs": [
    {
     "data": {
      "text/plain": [
       "'ם'"
      ]
     },
     "execution_count": 144,
     "metadata": {},
     "output_type": "execute_result"
    }
   ],
   "source": [
    "s[-1]"
   ]
  },
  {
   "cell_type": "code",
   "execution_count": 145,
   "id": "a7d4019b",
   "metadata": {},
   "outputs": [
    {
     "data": {
      "text/plain": [
       "'שלום'"
      ]
     },
     "execution_count": 145,
     "metadata": {},
     "output_type": "execute_result"
    }
   ],
   "source": [
    "s"
   ]
  },
  {
   "cell_type": "code",
   "execution_count": 147,
   "id": "d4cb35db",
   "metadata": {},
   "outputs": [
    {
     "data": {
      "text/plain": [
       "26"
      ]
     },
     "execution_count": 147,
     "metadata": {},
     "output_type": "execute_result"
    }
   ],
   "source": [
    "s = 'abcdefghijklmnopqrstuvwxyz'\n",
    "len(s)"
   ]
  },
  {
   "cell_type": "code",
   "execution_count": 148,
   "id": "4adc53c9",
   "metadata": {},
   "outputs": [
    {
     "data": {
      "text/plain": [
       "'klmnopqrst'"
      ]
     },
     "execution_count": 148,
     "metadata": {},
     "output_type": "execute_result"
    }
   ],
   "source": [
    "# slice -- part of a string\n",
    "# s[start_index:end_index]\n",
    "\n",
    "s[10:20]   # from index 10, until (not including) index 20"
   ]
  },
  {
   "cell_type": "code",
   "execution_count": 149,
   "id": "fe7420c8",
   "metadata": {},
   "outputs": [
    {
     "data": {
      "text/plain": [
       "'fghij'"
      ]
     },
     "execution_count": 149,
     "metadata": {},
     "output_type": "execute_result"
    }
   ],
   "source": [
    "s[5:10]   # from index 5, until (not including) index 10"
   ]
  },
  {
   "cell_type": "code",
   "execution_count": 150,
   "id": "634dcd51",
   "metadata": {},
   "outputs": [
    {
     "data": {
      "text/plain": [
       "'abcdefghij'"
      ]
     },
     "execution_count": 150,
     "metadata": {},
     "output_type": "execute_result"
    }
   ],
   "source": [
    "s[:10]    # from the start, up to (not including) 10"
   ]
  },
  {
   "cell_type": "code",
   "execution_count": 151,
   "id": "987c2f8e",
   "metadata": {},
   "outputs": [
    {
     "data": {
      "text/plain": [
       "'uvwxyz'"
      ]
     },
     "execution_count": 151,
     "metadata": {},
     "output_type": "execute_result"
    }
   ],
   "source": [
    "s[20:]    # from index 20, through the end"
   ]
  },
  {
   "cell_type": "code",
   "execution_count": 152,
   "id": "a33239f9",
   "metadata": {},
   "outputs": [
    {
     "data": {
      "text/plain": [
       "True"
      ]
     },
     "execution_count": 152,
     "metadata": {},
     "output_type": "execute_result"
    }
   ],
   "source": [
    "# search in our string\n",
    "# use the \"in\" operator, where we say SMALL in BIG\n",
    "\n",
    "'j' in s"
   ]
  },
  {
   "cell_type": "code",
   "execution_count": 153,
   "id": "6e9e1769",
   "metadata": {},
   "outputs": [
    {
     "data": {
      "text/plain": [
       "False"
      ]
     },
     "execution_count": 153,
     "metadata": {},
     "output_type": "execute_result"
    }
   ],
   "source": [
    "'!' in s"
   ]
  },
  {
   "cell_type": "code",
   "execution_count": 154,
   "id": "10781631",
   "metadata": {},
   "outputs": [
    {
     "data": {
      "text/plain": [
       "True"
      ]
     },
     "execution_count": 154,
     "metadata": {},
     "output_type": "execute_result"
    }
   ],
   "source": [
    "'cdef' in s"
   ]
  },
  {
   "cell_type": "code",
   "execution_count": 155,
   "id": "149cbe3b",
   "metadata": {},
   "outputs": [
    {
     "data": {
      "text/plain": [
       "False"
      ]
     },
     "execution_count": 155,
     "metadata": {},
     "output_type": "execute_result"
    }
   ],
   "source": [
    "'cf' in s"
   ]
  },
  {
   "cell_type": "markdown",
   "id": "a6eda695",
   "metadata": {},
   "source": [
    "# Ways to create strings\n",
    "\n",
    "- Single quote (`''`)\n",
    "- Double quotes (`\"\"`)\n",
    "- f-string (`f''`)\n",
    "- raw string (`r''`), doubles all backslashes\n",
    "- triple quoted string (`''' '''`) \n"
   ]
  },
  {
   "cell_type": "code",
   "execution_count": 157,
   "id": "584fb19c",
   "metadata": {},
   "outputs": [],
   "source": [
    "s = 'He\\'s very nice'"
   ]
  },
  {
   "cell_type": "code",
   "execution_count": 158,
   "id": "f1b8ddf6",
   "metadata": {},
   "outputs": [
    {
     "data": {
      "text/plain": [
       "\"He's very nice\""
      ]
     },
     "execution_count": 158,
     "metadata": {},
     "output_type": "execute_result"
    }
   ],
   "source": [
    "s"
   ]
  },
  {
   "cell_type": "code",
   "execution_count": 160,
   "id": "ce3afe1c",
   "metadata": {},
   "outputs": [],
   "source": [
    "s = \"She said, \\\"Hello\\\"\""
   ]
  },
  {
   "cell_type": "code",
   "execution_count": 161,
   "id": "a9a625bb",
   "metadata": {},
   "outputs": [
    {
     "data": {
      "text/plain": [
       "'She said, \"Hello\"'"
      ]
     },
     "execution_count": 161,
     "metadata": {},
     "output_type": "execute_result"
    }
   ],
   "source": [
    "s"
   ]
  },
  {
   "cell_type": "code",
   "execution_count": 162,
   "id": "d45498ce",
   "metadata": {},
   "outputs": [
    {
     "data": {
      "text/plain": [
       "'He said, \"She\\'s very nice\"'"
      ]
     },
     "execution_count": 162,
     "metadata": {},
     "output_type": "execute_result"
    }
   ],
   "source": [
    "s = 'He said, \"She\\'s very nice\"'\n",
    "s"
   ]
  },
  {
   "cell_type": "code",
   "execution_count": 163,
   "id": "0440754c",
   "metadata": {},
   "outputs": [
    {
     "name": "stdout",
     "output_type": "stream",
     "text": [
      "He said, \"She's very nice\"\n"
     ]
    }
   ],
   "source": [
    "print(s)"
   ]
  },
  {
   "cell_type": "code",
   "execution_count": 165,
   "id": "5f7f2a8e",
   "metadata": {},
   "outputs": [
    {
     "name": "stdout",
     "output_type": "stream",
     "text": [
      "This is a very long text.\n",
      "\n",
      "It has two lines.\n"
     ]
    }
   ],
   "source": [
    "# \\n == newline\n",
    "\n",
    "s = 'This is a very long text.\\n\\nIt has two lines.'\n",
    "\n",
    "print(s)"
   ]
  },
  {
   "cell_type": "code",
   "execution_count": 166,
   "id": "cdcead67",
   "metadata": {},
   "outputs": [
    {
     "data": {
      "text/plain": [
       "7"
      ]
     },
     "execution_count": 166,
     "metadata": {},
     "output_type": "execute_result"
    }
   ],
   "source": [
    "s = 'abc\\ndef'\n",
    "\n",
    "len(s)"
   ]
  },
  {
   "cell_type": "code",
   "execution_count": 169,
   "id": "8a93af6a",
   "metadata": {},
   "outputs": [
    {
     "name": "stdout",
     "output_type": "stream",
     "text": [
      "\n",
      "\n"
     ]
    }
   ],
   "source": [
    "print(s[3])"
   ]
  },
  {
   "cell_type": "code",
   "execution_count": 170,
   "id": "be0a78a5",
   "metadata": {},
   "outputs": [
    {
     "name": "stderr",
     "output_type": "stream",
     "text": [
      "<>:1: SyntaxWarning: invalid escape sequence '\\d'\n",
      "<>:1: SyntaxWarning: invalid escape sequence '\\d'\n",
      "/tmp/ipykernel_54189/835140660.py:1: SyntaxWarning: invalid escape sequence '\\d'\n",
      "  filename = 'c:\\abc\\def\\ghi.txt'\n"
     ]
    }
   ],
   "source": [
    "filename = 'c:\\abc\\def\\ghi.txt'"
   ]
  },
  {
   "cell_type": "code",
   "execution_count": 171,
   "id": "2afdee02",
   "metadata": {},
   "outputs": [
    {
     "name": "stdout",
     "output_type": "stream",
     "text": [
      "c:\u0007bc\\def\\ghi.txt\n"
     ]
    }
   ],
   "source": [
    "print(filename)"
   ]
  },
  {
   "cell_type": "code",
   "execution_count": 172,
   "id": "f2ebc28b",
   "metadata": {},
   "outputs": [
    {
     "name": "stdout",
     "output_type": "stream",
     "text": [
      "c:\\abc\\def\\ghi.txt\n"
     ]
    }
   ],
   "source": [
    "# option 1 to fix this: double the backslashes\n",
    "filename = 'c:\\\\abc\\\\def\\\\ghi.txt'\n",
    "print(filename)"
   ]
  },
  {
   "cell_type": "code",
   "execution_count": 173,
   "id": "63d2925a",
   "metadata": {},
   "outputs": [
    {
     "data": {
      "text/plain": [
       "'c:\\\\abc\\\\def\\\\ghi.txt'"
      ]
     },
     "execution_count": 173,
     "metadata": {},
     "output_type": "execute_result"
    }
   ],
   "source": [
    "filename"
   ]
  },
  {
   "cell_type": "code",
   "execution_count": 174,
   "id": "8559cd98",
   "metadata": {},
   "outputs": [
    {
     "name": "stdout",
     "output_type": "stream",
     "text": [
      "c:\\abc\\def\\ghi.txt\n"
     ]
    }
   ],
   "source": [
    "# option 2: raw string -- r before the start of the string\n",
    "filename = r'c:\\abc\\def\\ghi.txt'\n",
    "\n",
    "print(filename)"
   ]
  },
  {
   "cell_type": "code",
   "execution_count": 175,
   "id": "d90eff76",
   "metadata": {},
   "outputs": [
    {
     "data": {
      "text/plain": [
       "'this is a very long string\\n\\nso long it requires several lines\\n\\nWow, I am so excited!'"
      ]
     },
     "execution_count": 175,
     "metadata": {},
     "output_type": "execute_result"
    }
   ],
   "source": [
    "# triple-quoted string\n",
    "# allows us to include newlines (multiple lines) in our string\n",
    "# defined with ''' '''  or \"\"\" \"\"\"\n",
    "\n",
    "s = '''this is a very long string\n",
    "\n",
    "so long it requires several lines\n",
    "\n",
    "Wow, I am so excited!'''\n",
    "\n",
    "s"
   ]
  },
  {
   "cell_type": "code",
   "execution_count": 176,
   "id": "bbc64ac9",
   "metadata": {},
   "outputs": [],
   "source": [
    "# RegexpCrashCourse.com "
   ]
  },
  {
   "cell_type": "markdown",
   "id": "0df69812",
   "metadata": {},
   "source": [
    "# Exercise: Pig Latin\n",
    "\n",
    "Rules:\n",
    "\n",
    "- If the first letter is a vowel (a, e, i, o, u) add `way`\n",
    "- In other cases, move the first letter to the end, and add `ay`\n",
    "\n",
    "Examples:\n",
    "\n",
    "- `table` -> `abletay`\n",
    "- `elephant` -> `elephantway`\n",
    "- `papaya` -> `apayapay`\n",
    "- `octopus` -> `octopusway`\n",
    "\n",
    "1. Ask the user for a word (all lowercase)\n",
    "2. Print the translation into Pig Latin\n",
    "\n"
   ]
  },
  {
   "cell_type": "code",
   "execution_count": 178,
   "id": "0f30f1f1",
   "metadata": {},
   "outputs": [
    {
     "name": "stdout",
     "output_type": "stream",
     "text": [
      "Enter a word: elephant\n",
      "elephantway\n"
     ]
    }
   ],
   "source": [
    "word = input('Enter a word: ')\n",
    "\n",
    "# if word[0] == 'a' or word[0] == 'e' or word[0] == 'i' or word[0] == 'o' or word[0] == 'u':\n",
    "#     print(word + 'way')\n",
    "    \n",
    "if word[0] in 'aeiou':\n",
    "    print(word + 'way')\n",
    "else:\n",
    "    print(word[1:] + word[0] + 'ay')"
   ]
  },
  {
   "cell_type": "markdown",
   "id": "bf4dc2c9",
   "metadata": {},
   "source": [
    "# Methods\n",
    "\n",
    "Methods are functi"
   ]
  }
 ],
 "metadata": {
  "kernelspec": {
   "display_name": "Python 3 (ipykernel)",
   "language": "python",
   "name": "python3"
  },
  "language_info": {
   "codemirror_mode": {
    "name": "ipython",
    "version": 3
   },
   "file_extension": ".py",
   "mimetype": "text/x-python",
   "name": "python",
   "nbconvert_exporter": "python",
   "pygments_lexer": "ipython3",
   "version": "3.12.7"
  }
 },
 "nbformat": 4,
 "nbformat_minor": 5
}
