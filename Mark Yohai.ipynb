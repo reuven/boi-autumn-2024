{
 "cells": [
  {
   "cell_type": "code",
   "execution_count": 1,
   "id": "4b2db7af",
   "metadata": {},
   "outputs": [
    {
     "name": "stdout",
     "output_type": "stream",
     "text": [
      "hello Mark\n"
     ]
    }
   ],
   "source": [
    "print('hello Mark')"
   ]
  },
  {
   "cell_type": "code",
   "execution_count": 3,
   "id": "9f484e47",
   "metadata": {},
   "outputs": [
    {
     "name": "stdout",
     "output_type": "stream",
     "text": [
      "Enter your mame: Mark\n"
     ]
    }
   ],
   "source": [
    "name = input ('Enter your mame: ')"
   ]
  },
  {
   "cell_type": "code",
   "execution_count": 4,
   "id": "a530e150",
   "metadata": {},
   "outputs": [
    {
     "name": "stdout",
     "output_type": "stream",
     "text": [
      "Enter your city: Jerusalem\n"
     ]
    }
   ],
   "source": [
    "city = input ('Enter your city: ')"
   ]
  },
  {
   "cell_type": "code",
   "execution_count": 8,
   "id": "0fbc00c1",
   "metadata": {},
   "outputs": [
    {
     "name": "stdout",
     "output_type": "stream",
     "text": [
      "Mark from Jerusalem\n"
     ]
    }
   ],
   "source": [
    "print (name + ' from ' +city)"
   ]
  },
  {
   "cell_type": "code",
   "execution_count": 15,
   "id": "afaacb46",
   "metadata": {},
   "outputs": [
    {
     "name": "stdout",
     "output_type": "stream",
     "text": [
      "Enter word 1: Dor\n",
      "Enter word 2: Dor\n",
      "the words are identical\n"
     ]
    }
   ],
   "source": [
    "word1 = input('Enter word 1: ')\n",
    "word2 = input('Enter word 2: ')\n",
    "if word1 > word2:\n",
    "    print(f'{word2} comes first')\n",
    "elif word1==word2:\n",
    "    print('the words are identical')\n",
    "else:\n",
    "    print(f'{word1} comes first')"
   ]
  },
  {
   "cell_type": "code",
   "execution_count": 23,
   "id": "11b39ee4",
   "metadata": {},
   "outputs": [
    {
     "name": "stdout",
     "output_type": "stream",
     "text": [
      "Enter your mame: Dor\n",
      "Enter your city: ta\n",
      "Bad name and bad cisy\n"
     ]
    }
   ],
   "source": [
    "name = input ('Enter your mame: ')\n",
    "city = input ('Enter your city: ')\n",
    "if name=='Mark' and city=='Jerusalem':\n",
    "    print('You must be me')\n",
    "elif name=='Mark' and city!='Jerusalem':\n",
    "    print('Nice name bad city')\n",
    "elif name!='Mark' and city=='Jerusalem':\n",
    "    print('we live in the same city')\n",
    "else:\n",
    "    print('Bad name and bad cisy')"
   ]
  },
  {
   "cell_type": "code",
   "execution_count": 25,
   "id": "1d4fe01f",
   "metadata": {},
   "outputs": [
    {
     "name": "stdout",
     "output_type": "stream",
     "text": [
      "Enter your guess: 140\n"
     ]
    },
    {
     "ename": "TypeError",
     "evalue": "'>' not supported between instances of 'str' and 'int'",
     "output_type": "error",
     "traceback": [
      "\u001b[0;31m---------------------------------------------------------------------------\u001b[0m",
      "\u001b[0;31mTypeError\u001b[0m                                 Traceback (most recent call last)",
      "Cell \u001b[0;32mIn[25], line 5\u001b[0m\n\u001b[1;32m      3\u001b[0m \u001b[38;5;28;01mif\u001b[39;00m guess\u001b[38;5;241m==\u001b[39msecret:\n\u001b[1;32m      4\u001b[0m     \u001b[38;5;28mprint\u001b[39m(\u001b[38;5;124m'\u001b[39m\u001b[38;5;124mJust right\u001b[39m\u001b[38;5;124m'\u001b[39m)\n\u001b[0;32m----> 5\u001b[0m \u001b[38;5;28;01melif\u001b[39;00m \u001b[43mguess\u001b[49m\u001b[43m \u001b[49m\u001b[38;5;241;43m>\u001b[39;49m\u001b[43m \u001b[49m\u001b[43msecret\u001b[49m:\n\u001b[1;32m      6\u001b[0m     \u001b[38;5;28mprint\u001b[39m(\u001b[38;5;124m'\u001b[39m\u001b[38;5;124mtoo high\u001b[39m\u001b[38;5;124m'\u001b[39m)\n\u001b[1;32m      7\u001b[0m \u001b[38;5;28;01melse\u001b[39;00m:\n",
      "\u001b[0;31mTypeError\u001b[0m: '>' not supported between instances of 'str' and 'int'"
     ]
    }
   ],
   "source": [
    "secret = 139\n",
    "guess = input('Enter your guess: ')\n",
    "if guess==secret:\n",
    "    print('Just right')\n",
    "elif guess > secret:\n",
    "    print('too high')\n",
    "else:\n",
    "    print('too low')"
   ]
  },
  {
   "cell_type": "code",
   "execution_count": null,
   "id": "3ec8fe7e",
   "metadata": {},
   "outputs": [],
   "source": []
  }
 ],
 "metadata": {
  "kernelspec": {
   "display_name": "Python 3 (ipykernel)",
   "language": "python",
   "name": "python3"
  },
  "language_info": {
   "codemirror_mode": {
    "name": "ipython",
    "version": 3
   },
   "file_extension": ".py",
   "mimetype": "text/x-python",
   "name": "python",
   "nbconvert_exporter": "python",
   "pygments_lexer": "ipython3",
   "version": "3.12.7"
  }
 },
 "nbformat": 4,
 "nbformat_minor": 5
}
