{
 "cells": [
  {
   "cell_type": "code",
   "execution_count": 4,
   "id": "5331b312",
   "metadata": {},
   "outputs": [
    {
     "ename": "TypeError",
     "evalue": "unsupported operand type(s) for &: 'int' and 'str'",
     "output_type": "error",
     "traceback": [
      "\u001b[0;31m---------------------------------------------------------------------------\u001b[0m",
      "\u001b[0;31mTypeError\u001b[0m                                 Traceback (most recent call last)",
      "Cell \u001b[0;32mIn[4], line 1\u001b[0m\n\u001b[0;32m----> 1\u001b[0m \u001b[38;5;28mprint\u001b[39m(\u001b[38;5;241;43m5\u001b[39;49m\u001b[38;5;241;43m&\u001b[39;49m\u001b[38;5;124;43m'\u001b[39;49m\u001b[38;5;124;43mhello\u001b[39;49m\u001b[38;5;124;43m'\u001b[39;49m)\n",
      "\u001b[0;31mTypeError\u001b[0m: unsupported operand type(s) for &: 'int' and 'str'"
     ]
    }
   ],
   "source": [
    "print(5&'hello')"
   ]
  },
  {
   "cell_type": "code",
   "execution_count": 5,
   "id": "d5bd7658",
   "metadata": {
    "scrolled": true
   },
   "outputs": [
    {
     "ename": "TypeError",
     "evalue": "unsupported operand type(s) for +: 'int' and 'str'",
     "output_type": "error",
     "traceback": [
      "\u001b[0;31m---------------------------------------------------------------------------\u001b[0m",
      "\u001b[0;31mTypeError\u001b[0m                                 Traceback (most recent call last)",
      "Cell \u001b[0;32mIn[5], line 1\u001b[0m\n\u001b[0;32m----> 1\u001b[0m \u001b[38;5;28mprint\u001b[39m (\u001b[38;5;241;43m5\u001b[39;49m\u001b[38;5;241;43m+\u001b[39;49m\u001b[38;5;241;43m10\u001b[39;49m\u001b[43m \u001b[49m\u001b[38;5;241;43m+\u001b[39;49m\u001b[43m \u001b[49m\u001b[38;5;124;43m'\u001b[39;49m\u001b[38;5;124;43m hello\u001b[39;49m\u001b[38;5;124;43m'\u001b[39;49m)\n",
      "\u001b[0;31mTypeError\u001b[0m: unsupported operand type(s) for +: 'int' and 'str'"
     ]
    }
   ],
   "source": [
    "print (5+10 + ' hello')"
   ]
  },
  {
   "cell_type": "code",
   "execution_count": 6,
   "id": "a68f1213",
   "metadata": {
    "scrolled": true
   },
   "outputs": [
    {
     "name": "stdout",
     "output_type": "stream",
     "text": [
      "Hello Python\n"
     ]
    }
   ],
   "source": [
    "print('Hello Python')"
   ]
  },
  {
   "cell_type": "raw",
   "id": "718248e9",
   "metadata": {},
   "source": [
    "print('please assign your name to variable x and a city to variable y')\n",
    "x='Dor'\n",
    "y='Jerusalem'\n",
    "print('Hello ' + x + ', Welcome to ' + y)"
   ]
  },
  {
   "cell_type": "code",
   "execution_count": 8,
   "id": "98d9145e",
   "metadata": {},
   "outputs": [
    {
     "name": "stdout",
     "output_type": "stream",
     "text": [
      "Enter your Name: Dor\n",
      "Enter your Name: Jerusalem\n",
      "Hello Dor, Welcome to Jerusalem\n"
     ]
    }
   ],
   "source": [
    "x=input('Enter your Name: ')\n",
    "y=input('Enter your Name: ')\n",
    "print('Hello ' + x + ', Welcome to ' + y)"
   ]
  },
  {
   "cell_type": "code",
   "execution_count": 9,
   "id": "c9e8fe38",
   "metadata": {},
   "outputs": [
    {
     "name": "stdout",
     "output_type": "stream",
     "text": [
      "Hello Dor, Welcome to Jerusalem\n"
     ]
    }
   ],
   "source": [
    "print(f'Hello {x}, Welcome to {y}')"
   ]
  },
  {
   "cell_type": "code",
   "execution_count": 10,
   "id": "a747f073",
   "metadata": {},
   "outputs": [
    {
     "name": "stdout",
     "output_type": "stream",
     "text": [
      "Hi, what is your name?Dor\n"
     ]
    }
   ],
   "source": [
    "name=input('Hi, what is your name?')"
   ]
  },
  {
   "cell_type": "code",
   "execution_count": 11,
   "id": "dc0971c2",
   "metadata": {},
   "outputs": [
    {
     "ename": "SyntaxError",
     "evalue": "invalid syntax (3920517076.py, line 4)",
     "output_type": "error",
     "traceback": [
      "\u001b[0;36m  Cell \u001b[0;32mIn[11], line 4\u001b[0;36m\u001b[0m\n\u001b[0;31m    Else:\u001b[0m\n\u001b[0m         ^\u001b[0m\n\u001b[0;31mSyntaxError\u001b[0m\u001b[0;31m:\u001b[0m invalid syntax\n"
     ]
    }
   ],
   "source": [
    "name=input('Hi, what is your name?')\n",
    "if name=='Dor':\n",
    "    print ('You are the best!')\n",
    "Else:\n",
    "    print(f'Nice to meet you {name}')"
   ]
  },
  {
   "cell_type": "code",
   "execution_count": null,
   "id": "19948f8b",
   "metadata": {},
   "outputs": [],
   "source": [
    "name=input('Hi, what is your name?')\n",
    "if name=='Dor':\n",
    "    print ('You are the best!')\n",
    "Else:\n",
    "    print(f'Nice to meet you {name}')\n",
    "end if"
   ]
  },
  {
   "cell_type": "code",
   "execution_count": 12,
   "id": "ddfb459f",
   "metadata": {},
   "outputs": [
    {
     "ename": "SyntaxError",
     "evalue": "invalid syntax (3920517076.py, line 4)",
     "output_type": "error",
     "traceback": [
      "\u001b[0;36m  Cell \u001b[0;32mIn[12], line 4\u001b[0;36m\u001b[0m\n\u001b[0;31m    Else:\u001b[0m\n\u001b[0m         ^\u001b[0m\n\u001b[0;31mSyntaxError\u001b[0m\u001b[0;31m:\u001b[0m invalid syntax\n"
     ]
    }
   ],
   "source": [
    "name=input('Hi, what is your name?')\n",
    "if name=='Dor':\n",
    "    print ('You are the best!')\n",
    "Else:\n",
    "    print(f'Nice to meet you {name}')"
   ]
  },
  {
   "cell_type": "code",
   "execution_count": 13,
   "id": "dfcef78c",
   "metadata": {},
   "outputs": [
    {
     "name": "stdout",
     "output_type": "stream",
     "text": [
      "Hi, what is your name?Dor\n",
      "You are the best!\n"
     ]
    }
   ],
   "source": [
    "name=input('Hi, what is your name?')\n",
    "if name=='Dor':\n",
    "    print ('You are the best!')\n",
    "else:\n",
    "    print(f'Nice to meet you {name}')"
   ]
  },
  {
   "cell_type": "code",
   "execution_count": 14,
   "id": "e2f8d010",
   "metadata": {},
   "outputs": [
    {
     "name": "stdout",
     "output_type": "stream",
     "text": [
      "Hi, what is your name?Kevin\n",
      "Nice to meet you Kevin\n"
     ]
    }
   ],
   "source": [
    "name=input('Hi, what is your name?')\n",
    "if name=='Dor':\n",
    "    print ('You are the best!')\n",
    "else:\n",
    "    print(f'Nice to meet you {name}')"
   ]
  },
  {
   "cell_type": "code",
   "execution_count": 17,
   "id": "d7abfd63",
   "metadata": {},
   "outputs": [
    {
     "name": "stdout",
     "output_type": "stream",
     "text": [
      "please enter a word:\n",
      "please enter another word:\n",
      "you chose the same word, you sneaky bastard\n"
     ]
    }
   ],
   "source": [
    "word1=input('please enter a word:')\n",
    "word2=input('please enter another word:')\n",
    "if word1>word2:\n",
    "    print(f'{word1} comes before {word2}')\n",
    "elif word2>word1:\n",
    "    print(f'{word2} comes before {word1}')\n",
    "else:\n",
    "    print('you chose the same word, you sneaky bastard')"
   ]
  },
  {
   "cell_type": "code",
   "execution_count": 21,
   "id": "ee422671",
   "metadata": {},
   "outputs": [
    {
     "name": "stdout",
     "output_type": "stream",
     "text": [
      "please enter your name:Eli\n",
      "Hello Eli, where do you live?Jerusalem\n",
      "Okay, nice to meet you\n"
     ]
    }
   ],
   "source": [
    "name=input('please enter your name:')\n",
    "city=input(f'Hello {name}, where do you live?')\n",
    "if name=='Dor' and city=='Modiin':\n",
    "    print(\"Hi, I'm Also Dor and I also Live in Modiin\")\n",
    "elif name=='Dor':\n",
    "    print(\"Hi, I'm Also Dor\")\n",
    "elif city==\"Modiin\":\n",
    "    print ('Wow, I also live in Modiin')\n",
    "else:\n",
    "    print ('Okay, nice to meet you')"
   ]
  },
  {
   "cell_type": "code",
   "execution_count": 22,
   "id": "97436788",
   "metadata": {},
   "outputs": [
    {
     "name": "stdout",
     "output_type": "stream",
     "text": [
      "guess the number44\n"
     ]
    },
    {
     "ename": "TypeError",
     "evalue": "'>' not supported between instances of 'str' and 'int'",
     "output_type": "error",
     "traceback": [
      "\u001b[0;31m---------------------------------------------------------------------------\u001b[0m",
      "\u001b[0;31mTypeError\u001b[0m                                 Traceback (most recent call last)",
      "Cell \u001b[0;32mIn[22], line 3\u001b[0m\n\u001b[1;32m      1\u001b[0m secret\u001b[38;5;241m=\u001b[39m\u001b[38;5;241m52\u001b[39m\n\u001b[1;32m      2\u001b[0m guess\u001b[38;5;241m=\u001b[39m\u001b[38;5;28minput\u001b[39m(\u001b[38;5;124m'\u001b[39m\u001b[38;5;124mguess the number\u001b[39m\u001b[38;5;124m'\u001b[39m)\n\u001b[0;32m----> 3\u001b[0m \u001b[38;5;28;01mif\u001b[39;00m \u001b[43mguess\u001b[49m\u001b[38;5;241;43m>\u001b[39;49m\u001b[43msecret\u001b[49m:\n\u001b[1;32m      4\u001b[0m     \u001b[38;5;28mprint\u001b[39m(\u001b[38;5;124mf\u001b[39m\u001b[38;5;124m'\u001b[39m\u001b[38;5;124mthe number is lower\u001b[39m\u001b[38;5;124m'\u001b[39m)\n\u001b[1;32m      5\u001b[0m \u001b[38;5;28;01melif\u001b[39;00m guess\u001b[38;5;241m<\u001b[39msecret:\n",
      "\u001b[0;31mTypeError\u001b[0m: '>' not supported between instances of 'str' and 'int'"
     ]
    }
   ],
   "source": [
    "secret=52\n",
    "guess=input('guess the number')\n",
    "if guess>secret:\n",
    "    print(f'the number is lower')\n",
    "elif guess<secret:\n",
    "    print(f'the number is higher')\n",
    "else:\n",
    "    print(\"you Guessed it!\")\n",
    "    "
   ]
  },
  {
   "cell_type": "code",
   "execution_count": 23,
   "id": "c593a4c6",
   "metadata": {},
   "outputs": [
    {
     "name": "stdout",
     "output_type": "stream",
     "text": [
      "guess the number44\n",
      "the number is higher\n"
     ]
    }
   ],
   "source": [
    "secret=52\n",
    "guess=input('guess the number')\n",
    "if int(guess)>secret:\n",
    "    print(f'the number is lower')\n",
    "elif int(guess)<secret:\n",
    "    print(f'the number is higher')\n",
    "else:\n",
    "    print(\"you Guessed it!\")"
   ]
  },
  {
   "cell_type": "code",
   "execution_count": 24,
   "id": "fbd784a7",
   "metadata": {},
   "outputs": [
    {
     "name": "stdout",
     "output_type": "stream",
     "text": [
      "guess the number55\n",
      "the number is lower\n"
     ]
    }
   ],
   "source": [
    "secret=52\n",
    "guess=input('guess the number')\n",
    "if int(guess)>secret:\n",
    "    print(f'the number is lower')\n",
    "elif int(guess)<secret:\n",
    "    print(f'the number is higher')\n",
    "else:\n",
    "    print(\"you Guessed it!\")"
   ]
  },
  {
   "cell_type": "code",
   "execution_count": 25,
   "id": "a5f36f75",
   "metadata": {},
   "outputs": [
    {
     "name": "stdout",
     "output_type": "stream",
     "text": [
      "guess the number52\n",
      "you Guessed it!\n"
     ]
    }
   ],
   "source": [
    "secret=52\n",
    "guess=input('guess the number')\n",
    "if int(guess)>secret:\n",
    "    print(f'the number is lower')\n",
    "elif int(guess)<secret:\n",
    "    print(f'the number is higher')\n",
    "else:\n",
    "    print(\"you Guessed it!\")"
   ]
  },
  {
   "cell_type": "code",
   "execution_count": 27,
   "id": "310012e8",
   "metadata": {},
   "outputs": [
    {
     "data": {
      "text/plain": [
       "True"
      ]
     },
     "execution_count": 27,
     "metadata": {},
     "output_type": "execute_result"
    }
   ],
   "source": [
    "'dor'==\"dor\""
   ]
  },
  {
   "cell_type": "code",
   "execution_count": null,
   "id": "17909fcb",
   "metadata": {},
   "outputs": [],
   "source": [
    "word1=input('input a word')\n",
    "if word1[0]=='a' or 'e' or 'i' or 'o' or 'u':\n",
    "    print ('way'+word)\n",
    "else:\n",
    "    print(word1[1:]+word1[0]+'ay')"
   ]
  },
  {
   "cell_type": "code",
   "execution_count": null,
   "id": "803ec9ce",
   "metadata": {},
   "outputs": [],
   "source": []
  }
 ],
 "metadata": {
  "kernelspec": {
   "display_name": "Python 3 (ipykernel)",
   "language": "python",
   "name": "python3"
  },
  "language_info": {
   "codemirror_mode": {
    "name": "ipython",
    "version": 3
   },
   "file_extension": ".py",
   "mimetype": "text/x-python",
   "name": "python",
   "nbconvert_exporter": "python",
   "pygments_lexer": "ipython3",
   "version": "3.12.7"
  }
 },
 "nbformat": 4,
 "nbformat_minor": 5
}
