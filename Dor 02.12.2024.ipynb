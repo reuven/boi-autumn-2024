{
 "cells": [
  {
   "cell_type": "code",
   "execution_count": 1,
   "id": "34da9934",
   "metadata": {},
   "outputs": [],
   "source": [
    "import random"
   ]
  },
  {
   "cell_type": "code",
   "execution_count": 2,
   "id": "b4be8bc8",
   "metadata": {},
   "outputs": [],
   "source": [
    "import pandas as pd\n",
    "from pandas import Series, DataFrame"
   ]
  },
  {
   "cell_type": "code",
   "execution_count": 3,
   "id": "eef60f92",
   "metadata": {},
   "outputs": [],
   "source": [
    "s=Series([10,20,30,40,50,60,70])"
   ]
  },
  {
   "cell_type": "code",
   "execution_count": 4,
   "id": "6e49ab22",
   "metadata": {},
   "outputs": [
    {
     "data": {
      "text/plain": [
       "0    10\n",
       "1    20\n",
       "2    30\n",
       "3    40\n",
       "4    50\n",
       "5    60\n",
       "6    70\n",
       "dtype: int64"
      ]
     },
     "execution_count": 4,
     "metadata": {},
     "output_type": "execute_result"
    }
   ],
   "source": [
    "s"
   ]
  },
  {
   "cell_type": "code",
   "execution_count": 5,
   "id": "09c14444",
   "metadata": {},
   "outputs": [
    {
     "data": {
      "text/plain": [
       "<bound method NDFrame.describe of 0    10\n",
       "1    20\n",
       "2    30\n",
       "3    40\n",
       "4    50\n",
       "5    60\n",
       "6    70\n",
       "dtype: int64>"
      ]
     },
     "execution_count": 5,
     "metadata": {},
     "output_type": "execute_result"
    }
   ],
   "source": [
    "s.describe"
   ]
  },
  {
   "cell_type": "code",
   "execution_count": 13,
   "id": "dd69fca3",
   "metadata": {},
   "outputs": [
    {
     "data": {
      "text/plain": [
       "count    10.000000\n",
       "mean     21.600000\n",
       "std       2.875181\n",
       "min      17.000000\n",
       "25%      19.250000\n",
       "50%      22.000000\n",
       "75%      23.500000\n",
       "max      26.000000\n",
       "dtype: float64"
      ]
     },
     "execution_count": 13,
     "metadata": {},
     "output_type": "execute_result"
    }
   ],
   "source": [
    "a=Series([19, 22, 24, 25, 22, 20, 19, 17, 22, 26])\n",
    "a.describe()"
   ]
  },
  {
   "cell_type": "code",
   "execution_count": 14,
   "id": "c115cd75",
   "metadata": {
    "scrolled": true
   },
   "outputs": [
    {
     "data": {
      "text/plain": [
       "0    19\n",
       "1    22\n",
       "2    24\n",
       "3    25\n",
       "4    22\n",
       "dtype: int64"
      ]
     },
     "execution_count": 14,
     "metadata": {},
     "output_type": "execute_result"
    }
   ],
   "source": [
    "a[0:5]"
   ]
  },
  {
   "cell_type": "code",
   "execution_count": 15,
   "id": "ea65c4bc",
   "metadata": {},
   "outputs": [
    {
     "data": {
      "text/plain": [
       "0    361\n",
       "1    484\n",
       "2    576\n",
       "3    625\n",
       "4    484\n",
       "5    400\n",
       "6    361\n",
       "7    289\n",
       "8    484\n",
       "9    676\n",
       "dtype: int64"
      ]
     },
     "execution_count": 15,
     "metadata": {},
     "output_type": "execute_result"
    }
   ],
   "source": [
    "a*a"
   ]
  },
  {
   "cell_type": "code",
   "execution_count": 16,
   "id": "a8f54f3c",
   "metadata": {},
   "outputs": [
    {
     "data": {
      "text/plain": [
       "0     190.0\n",
       "1     440.0\n",
       "2     720.0\n",
       "3    1000.0\n",
       "4    1100.0\n",
       "5    1200.0\n",
       "6    1330.0\n",
       "7       NaN\n",
       "8       NaN\n",
       "9       NaN\n",
       "dtype: float64"
      ]
     },
     "execution_count": 16,
     "metadata": {},
     "output_type": "execute_result"
    }
   ],
   "source": [
    "a*s"
   ]
  },
  {
   "cell_type": "code",
   "execution_count": 17,
   "id": "99f9fced",
   "metadata": {},
   "outputs": [
    {
     "ename": "SyntaxError",
     "evalue": "unterminated string literal (detected at line 1) (1826959753.py, line 1)",
     "output_type": "error",
     "traceback": [
      "\u001b[0;36m  Cell \u001b[0;32mIn[17], line 1\u001b[0;36m\u001b[0m\n\u001b[0;31m    a*a'\u001b[0m\n\u001b[0m       ^\u001b[0m\n\u001b[0;31mSyntaxError\u001b[0m\u001b[0;31m:\u001b[0m unterminated string literal (detected at line 1)\n"
     ]
    }
   ],
   "source": [
    "a*a'"
   ]
  },
  {
   "cell_type": "code",
   "execution_count": 18,
   "id": "2af5ad47",
   "metadata": {},
   "outputs": [
    {
     "data": {
      "text/plain": [
       "0    361\n",
       "1    484\n",
       "2    576\n",
       "3    625\n",
       "4    484\n",
       "5    400\n",
       "6    361\n",
       "7    289\n",
       "8    484\n",
       "9    676\n",
       "dtype: int64"
      ]
     },
     "execution_count": 18,
     "metadata": {},
     "output_type": "execute_result"
    }
   ],
   "source": [
    "a*a.T"
   ]
  },
  {
   "cell_type": "code",
   "execution_count": 23,
   "id": "96f41b7a",
   "metadata": {},
   "outputs": [],
   "source": [
    "a=Series([1,2,3])"
   ]
  },
  {
   "cell_type": "code",
   "execution_count": 22,
   "id": "c3642abe",
   "metadata": {},
   "outputs": [
    {
     "data": {
      "text/plain": [
       "0    1\n",
       "1    4\n",
       "2    9\n",
       "dtype: int64"
      ]
     },
     "execution_count": 22,
     "metadata": {},
     "output_type": "execute_result"
    }
   ],
   "source": [
    "s*s.T"
   ]
  },
  {
   "cell_type": "code",
   "execution_count": 24,
   "id": "be5b457d",
   "metadata": {},
   "outputs": [
    {
     "data": {
      "text/plain": [
       "14"
      ]
     },
     "execution_count": 24,
     "metadata": {},
     "output_type": "execute_result"
    }
   ],
   "source": [
    "s.dot(a)"
   ]
  },
  {
   "cell_type": "code",
   "execution_count": 39,
   "id": "7d438ecf",
   "metadata": {},
   "outputs": [],
   "source": [
    "highs=Series([24, 22, 23, 23, 21, 19, 17, 22, 26, 24], index=[3,4,5,6,7,8,9,10,11,12])"
   ]
  },
  {
   "cell_type": "code",
   "execution_count": 27,
   "id": "dfcab5eb",
   "metadata": {},
   "outputs": [
    {
     "data": {
      "text/plain": [
       "03    24\n",
       "04    22\n",
       "05    23\n",
       "06    23\n",
       "07    21\n",
       "08    19\n",
       "09    17\n",
       "10    22\n",
       "11    26\n",
       "12    24\n",
       "dtype: int64"
      ]
     },
     "execution_count": 27,
     "metadata": {},
     "output_type": "execute_result"
    }
   ],
   "source": [
    "highs"
   ]
  },
  {
   "cell_type": "code",
   "execution_count": 38,
   "id": "9973230b",
   "metadata": {},
   "outputs": [],
   "source": [
    "lows=Series([16, 14, 14, 15, 13, 12, 10, 14, 15, 16], index=['03','04','05','06','07','08','09','10','11','12'])"
   ]
  },
  {
   "cell_type": "code",
   "execution_count": 40,
   "id": "adc3db7a",
   "metadata": {},
   "outputs": [],
   "source": [
    "diff=highs-lows"
   ]
  },
  {
   "cell_type": "code",
   "execution_count": 30,
   "id": "e9cd246a",
   "metadata": {},
   "outputs": [
    {
     "data": {
      "text/plain": [
       "03     8\n",
       "04     8\n",
       "05     9\n",
       "06     8\n",
       "07     8\n",
       "08     7\n",
       "09     7\n",
       "10     8\n",
       "11    11\n",
       "12     8\n",
       "dtype: int64"
      ]
     },
     "execution_count": 30,
     "metadata": {},
     "output_type": "execute_result"
    }
   ],
   "source": [
    "diff"
   ]
  },
  {
   "cell_type": "code",
   "execution_count": 41,
   "id": "002fd3ff",
   "metadata": {},
   "outputs": [
    {
     "data": {
      "text/plain": [
       "5     9\n",
       "6     8\n",
       "7     8\n",
       "8     7\n",
       "9     7\n",
       "10    8\n",
       "dtype: int64"
      ]
     },
     "execution_count": 41,
     "metadata": {},
     "output_type": "execute_result"
    }
   ],
   "source": [
    "diff.loc[5:10]"
   ]
  },
  {
   "cell_type": "code",
   "execution_count": 45,
   "id": "7e71996f",
   "metadata": {},
   "outputs": [
    {
     "data": {
      "text/plain": [
       "05    9\n",
       "06    8\n",
       "07    8\n",
       "08    7\n",
       "09    7\n",
       "10    8\n",
       "dtype: int64"
      ]
     },
     "execution_count": 45,
     "metadata": {},
     "output_type": "execute_result"
    }
   ],
   "source": [
    "lows=Series([16, 14, 14, 15, 13, 12, 10, 14, 15, 16], index=['03','04','05','06','07','08','09','10','11','12'])\n",
    "highs=Series([24, 22, 23, 23, 21, 19, 17, 22, 26, 24], index=['03','04','05','06','07','08','09','10','11','12'])\n",
    "diff=highs-lows\n",
    "diff.loc['05':'10']"
   ]
  },
  {
   "cell_type": "code",
   "execution_count": 46,
   "id": "167e8bf9",
   "metadata": {},
   "outputs": [
    {
     "data": {
      "text/plain": [
       "count    5.000000\n",
       "mean     8.200000\n",
       "std      0.447214\n",
       "min      8.000000\n",
       "25%      8.000000\n",
       "50%      8.000000\n",
       "75%      8.000000\n",
       "max      9.000000\n",
       "dtype: float64"
      ]
     },
     "execution_count": 46,
     "metadata": {},
     "output_type": "execute_result"
    }
   ],
   "source": [
    "diff.loc['03':'07'].describe()"
   ]
  },
  {
   "cell_type": "code",
   "execution_count": 47,
   "id": "c5063755",
   "metadata": {},
   "outputs": [
    {
     "data": {
      "text/plain": [
       "Mark      44\n",
       "Roey      51\n",
       "Hanoch    44\n",
       "dtype: int64"
      ]
     },
     "execution_count": 47,
     "metadata": {},
     "output_type": "execute_result"
    }
   ],
   "source": [
    "b=Series([36, 44, 51, 35, 44], index=['Dor', 'Mark', 'Roey', 'Haim', 'Hanoch'])\n",
    "b.loc[b>b.mean()]"
   ]
  },
  {
   "cell_type": "code",
   "execution_count": 48,
   "id": "3b4f9a96",
   "metadata": {},
   "outputs": [
    {
     "data": {
      "text/plain": [
       "Haim    35\n",
       "dtype: int64"
      ]
     },
     "execution_count": 48,
     "metadata": {},
     "output_type": "execute_result"
    }
   ],
   "source": [
    "b.loc[b<b.mean()-b.std()]"
   ]
  },
  {
   "cell_type": "code",
   "execution_count": 49,
   "id": "15152e12",
   "metadata": {},
   "outputs": [
    {
     "data": {
      "text/plain": [
       "6.59545297913646"
      ]
     },
     "execution_count": 49,
     "metadata": {},
     "output_type": "execute_result"
    }
   ],
   "source": [
    "b.std()"
   ]
  },
  {
   "cell_type": "code",
   "execution_count": 50,
   "id": "4e488ced",
   "metadata": {},
   "outputs": [
    {
     "data": {
      "text/plain": [
       "42.0"
      ]
     },
     "execution_count": 50,
     "metadata": {},
     "output_type": "execute_result"
    }
   ],
   "source": [
    "b.mean()"
   ]
  },
  {
   "cell_type": "code",
   "execution_count": null,
   "id": "ebac2e6d",
   "metadata": {},
   "outputs": [],
   "source": []
  }
 ],
 "metadata": {
  "kernelspec": {
   "display_name": "Python 3 (ipykernel)",
   "language": "python",
   "name": "python3"
  },
  "language_info": {
   "codemirror_mode": {
    "name": "ipython",
    "version": 3
   },
   "file_extension": ".py",
   "mimetype": "text/x-python",
   "name": "python",
   "nbconvert_exporter": "python",
   "pygments_lexer": "ipython3",
   "version": "3.12.7"
  }
 },
 "nbformat": 4,
 "nbformat_minor": 5
}
