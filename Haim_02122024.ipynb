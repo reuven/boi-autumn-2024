{
 "cells": [
  {
   "cell_type": "code",
   "execution_count": 2,
   "id": "e392128a",
   "metadata": {},
   "outputs": [],
   "source": [
    "import random"
   ]
  },
  {
   "cell_type": "code",
   "execution_count": 5,
   "id": "0bbb23af",
   "metadata": {},
   "outputs": [
    {
     "data": {
      "text/plain": [
       "93"
      ]
     },
     "execution_count": 5,
     "metadata": {},
     "output_type": "execute_result"
    }
   ],
   "source": [
    "random.randint (0,100)"
   ]
  },
  {
   "cell_type": "code",
   "execution_count": 7,
   "id": "8b6462d4",
   "metadata": {},
   "outputs": [],
   "source": [
    "import pandas as pd"
   ]
  },
  {
   "cell_type": "code",
   "execution_count": 10,
   "id": "e202e226",
   "metadata": {},
   "outputs": [],
   "source": [
    "from pandas import Series, DataFrame\n",
    "# datafranme זה כמו גליונות אקסל.\n",
    "#\n",
    "#זה כמו אקסל בתוך פייתון\n"
   ]
  },
  {
   "cell_type": "code",
   "execution_count": 15,
   "id": "7af647d8",
   "metadata": {},
   "outputs": [],
   "source": [
    "s = Series([10, 20, 30, 40, 50, 60, 70])"
   ]
  },
  {
   "cell_type": "code",
   "execution_count": 16,
   "id": "412fffc6",
   "metadata": {},
   "outputs": [
    {
     "data": {
      "text/plain": [
       "0    10\n",
       "1    20\n",
       "2    30\n",
       "3    40\n",
       "4    50\n",
       "5    60\n",
       "6    70\n",
       "dtype: int64"
      ]
     },
     "execution_count": 16,
     "metadata": {},
     "output_type": "execute_result"
    }
   ],
   "source": [
    "s"
   ]
  },
  {
   "cell_type": "code",
   "execution_count": 17,
   "id": "c9dac8e6",
   "metadata": {},
   "outputs": [
    {
     "data": {
      "text/plain": [
       "10"
      ]
     },
     "execution_count": 17,
     "metadata": {},
     "output_type": "execute_result"
    }
   ],
   "source": [
    "s[0]"
   ]
  },
  {
   "cell_type": "code",
   "execution_count": 19,
   "id": "a1b6edd7",
   "metadata": {},
   "outputs": [
    {
     "data": {
      "text/plain": [
       "2    30\n",
       "3    40\n",
       "4    50\n",
       "dtype: int64"
      ]
     },
     "execution_count": 19,
     "metadata": {},
     "output_type": "execute_result"
    }
   ],
   "source": [
    "s [2:5]"
   ]
  },
  {
   "cell_type": "code",
   "execution_count": 20,
   "id": "e07f9ead",
   "metadata": {},
   "outputs": [
    {
     "data": {
      "text/plain": [
       "70"
      ]
     },
     "execution_count": 20,
     "metadata": {},
     "output_type": "execute_result"
    }
   ],
   "source": [
    "#int64 - כל הערכים \n",
    "s.max()"
   ]
  },
  {
   "cell_type": "code",
   "execution_count": 23,
   "id": "abe0c4f8",
   "metadata": {},
   "outputs": [
    {
     "data": {
      "text/plain": [
       "40.0"
      ]
     },
     "execution_count": 23,
     "metadata": {},
     "output_type": "execute_result"
    }
   ],
   "source": [
    "s.mean ()"
   ]
  },
  {
   "cell_type": "code",
   "execution_count": 24,
   "id": "10f87de9",
   "metadata": {},
   "outputs": [
    {
     "data": {
      "text/plain": [
       "count     7.000000\n",
       "mean     40.000000\n",
       "std      21.602469\n",
       "min      10.000000\n",
       "25%      25.000000\n",
       "50%      40.000000\n",
       "75%      55.000000\n",
       "max      70.000000\n",
       "dtype: float64"
      ]
     },
     "execution_count": 24,
     "metadata": {},
     "output_type": "execute_result"
    }
   ],
   "source": [
    "s.describe()"
   ]
  },
  {
   "cell_type": "code",
   "execution_count": 29,
   "id": "e5e28ad7",
   "metadata": {},
   "outputs": [],
   "source": [
    "w = Series ([42.3, 25, 34, 45, 19, 28.5, 39, 40, 10, 15])"
   ]
  },
  {
   "cell_type": "code",
   "execution_count": 33,
   "id": "6413933f",
   "metadata": {},
   "outputs": [
    {
     "data": {
      "text/plain": [
       "0    42.3\n",
       "1    25.0\n",
       "2    34.0\n",
       "dtype: float64"
      ]
     },
     "execution_count": 33,
     "metadata": {},
     "output_type": "execute_result"
    }
   ],
   "source": [
    "w[0:3]"
   ]
  },
  {
   "cell_type": "code",
   "execution_count": 36,
   "id": "e013fa07",
   "metadata": {},
   "outputs": [
    {
     "data": {
      "text/plain": [
       "0    42.3\n",
       "dtype: float64"
      ]
     },
     "execution_count": 36,
     "metadata": {},
     "output_type": "execute_result"
    }
   ],
   "source": [
    "w[0:1]"
   ]
  },
  {
   "cell_type": "code",
   "execution_count": 38,
   "id": "7b1c26c7",
   "metadata": {},
   "outputs": [
    {
     "data": {
      "text/plain": [
       "count    10.000000\n",
       "mean     29.780000\n",
       "std      12.229545\n",
       "min      10.000000\n",
       "25%      20.500000\n",
       "50%      31.250000\n",
       "75%      39.750000\n",
       "max      45.000000\n",
       "dtype: float64"
      ]
     },
     "execution_count": 38,
     "metadata": {},
     "output_type": "execute_result"
    }
   ],
   "source": [
    "w.describe()"
   ]
  },
  {
   "cell_type": "code",
   "execution_count": 41,
   "id": "824e2d2b",
   "metadata": {},
   "outputs": [
    {
     "data": {
      "text/plain": [
       "0    42.3\n",
       "1    25.0\n",
       "2    34.0\n",
       "3    45.0\n",
       "4    19.0\n",
       "dtype: float64"
      ]
     },
     "execution_count": 41,
     "metadata": {},
     "output_type": "execute_result"
    }
   ],
   "source": [
    "w[:5]"
   ]
  },
  {
   "cell_type": "code",
   "execution_count": 42,
   "id": "b7564d31",
   "metadata": {},
   "outputs": [
    {
     "data": {
      "text/plain": [
       "45.0"
      ]
     },
     "execution_count": 42,
     "metadata": {},
     "output_type": "execute_result"
    }
   ],
   "source": [
    "w[:5].max()"
   ]
  },
  {
   "cell_type": "code",
   "execution_count": 43,
   "id": "b724f5dd",
   "metadata": {},
   "outputs": [],
   "source": [
    "s = Series ([12,20,30,40,50])"
   ]
  },
  {
   "cell_type": "code",
   "execution_count": 44,
   "id": "893a5a1a",
   "metadata": {},
   "outputs": [
    {
     "data": {
      "text/plain": [
       "0    12\n",
       "1    20\n",
       "2    30\n",
       "3    40\n",
       "4    50\n",
       "dtype: int64"
      ]
     },
     "execution_count": 44,
     "metadata": {},
     "output_type": "execute_result"
    }
   ],
   "source": [
    "s"
   ]
  },
  {
   "cell_type": "code",
   "execution_count": 56,
   "id": "4940c4c0",
   "metadata": {},
   "outputs": [
    {
     "data": {
      "text/plain": [
       "[13, 15, 17, 20, 24, 26, 20, 24, 15, 17]"
      ]
     },
     "execution_count": 56,
     "metadata": {},
     "output_type": "execute_result"
    }
   ],
   "source": [
    "highs = ([13,15,17,20,24,26,20,24,15,17])\n",
    "highs"
   ]
  },
  {
   "cell_type": "code",
   "execution_count": 60,
   "id": "1a970893",
   "metadata": {},
   "outputs": [
    {
     "ename": "NameError",
     "evalue": "name 'Index' is not defined",
     "output_type": "error",
     "traceback": [
      "\u001b[0;31m---------------------------------------------------------------------------\u001b[0m",
      "\u001b[0;31mNameError\u001b[0m                                 Traceback (most recent call last)",
      "Cell \u001b[0;32mIn[60], line 1\u001b[0m\n\u001b[0;32m----> 1\u001b[0m \u001b[38;5;28mlist\u001b[39m \u001b[38;5;241m=\u001b[39m \u001b[43mIndex\u001b[49m([\u001b[38;5;124m'\u001b[39m\u001b[38;5;124mabcsdefgh\u001b[39m\u001b[38;5;124m'\u001b[39m])\n\u001b[1;32m      2\u001b[0m highs\n",
      "\u001b[0;31mNameError\u001b[0m: name 'Index' is not defined"
     ]
    }
   ],
   "source": [
    "list = Index(['abcsdefgh'])\n",
    "highs"
   ]
  },
  {
   "cell_type": "code",
   "execution_count": null,
   "id": "fd12baaf",
   "metadata": {},
   "outputs": [],
   "source": [
    "index=list('bcdba'))"
   ]
  }
 ],
 "metadata": {
  "kernelspec": {
   "display_name": "Python 3 (ipykernel)",
   "language": "python",
   "name": "python3"
  },
  "language_info": {
   "codemirror_mode": {
    "name": "ipython",
    "version": 3
   },
   "file_extension": ".py",
   "mimetype": "text/x-python",
   "name": "python",
   "nbconvert_exporter": "python",
   "pygments_lexer": "ipython3",
   "version": "3.12.7"
  }
 },
 "nbformat": 4,
 "nbformat_minor": 5
}
