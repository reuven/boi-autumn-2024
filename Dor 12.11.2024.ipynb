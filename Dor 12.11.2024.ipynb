{
 "cells": [
  {
   "cell_type": "code",
   "execution_count": 4,
   "id": "28ebb11f",
   "metadata": {},
   "outputs": [
    {
     "ename": "TypeError",
     "evalue": "unsupported operand type(s) for &: 'int' and 'str'",
     "output_type": "error",
     "traceback": [
      "\u001b[0;31m---------------------------------------------------------------------------\u001b[0m",
      "\u001b[0;31mTypeError\u001b[0m                                 Traceback (most recent call last)",
      "Cell \u001b[0;32mIn[4], line 1\u001b[0m\n\u001b[0;32m----> 1\u001b[0m \u001b[38;5;28mprint\u001b[39m(\u001b[38;5;241;43m5\u001b[39;49m\u001b[38;5;241;43m&\u001b[39;49m\u001b[38;5;124;43m'\u001b[39;49m\u001b[38;5;124;43mhello\u001b[39;49m\u001b[38;5;124;43m'\u001b[39;49m)\n",
      "\u001b[0;31mTypeError\u001b[0m: unsupported operand type(s) for &: 'int' and 'str'"
     ]
    }
   ],
   "source": [
    "print(5&'hello')"
   ]
  },
  {
   "cell_type": "code",
   "execution_count": 5,
   "id": "67db169d",
   "metadata": {
    "scrolled": true
   },
   "outputs": [
    {
     "ename": "TypeError",
     "evalue": "unsupported operand type(s) for +: 'int' and 'str'",
     "output_type": "error",
     "traceback": [
      "\u001b[0;31m---------------------------------------------------------------------------\u001b[0m",
      "\u001b[0;31mTypeError\u001b[0m                                 Traceback (most recent call last)",
      "Cell \u001b[0;32mIn[5], line 1\u001b[0m\n\u001b[0;32m----> 1\u001b[0m \u001b[38;5;28mprint\u001b[39m (\u001b[38;5;241;43m5\u001b[39;49m\u001b[38;5;241;43m+\u001b[39;49m\u001b[38;5;241;43m10\u001b[39;49m\u001b[43m \u001b[49m\u001b[38;5;241;43m+\u001b[39;49m\u001b[43m \u001b[49m\u001b[38;5;124;43m'\u001b[39;49m\u001b[38;5;124;43m hello\u001b[39;49m\u001b[38;5;124;43m'\u001b[39;49m)\n",
      "\u001b[0;31mTypeError\u001b[0m: unsupported operand type(s) for +: 'int' and 'str'"
     ]
    }
   ],
   "source": [
    "print (5+10 + ' hello')"
   ]
  },
  {
   "cell_type": "code",
   "execution_count": 6,
   "id": "62c7761b",
   "metadata": {
    "scrolled": true
   },
   "outputs": [
    {
     "name": "stdout",
     "output_type": "stream",
     "text": [
      "Hello Python\n"
     ]
    }
   ],
   "source": [
    "print('Hello Python')"
   ]
  },
  {
   "cell_type": "raw",
   "id": "c40936b9",
   "metadata": {},
   "source": [
    "print('please assign your name to variable x and a city to variable y')\n",
    "x='Dor'\n",
    "y='Jerusalem'\n",
    "print('Hello ' + x + ', Welcome to ' + y)"
   ]
  },
  {
   "cell_type": "code",
   "execution_count": 8,
   "id": "4ce4d742",
   "metadata": {},
   "outputs": [
    {
     "name": "stdout",
     "output_type": "stream",
     "text": [
      "Enter your Name: Dor\n",
      "Enter your Name: Jerusalem\n",
      "Hello Dor, Welcome to Jerusalem\n"
     ]
    }
   ],
   "source": [
    "x=input('Enter your Name: ')\n",
    "y=input('Enter your Name: ')\n",
    "print('Hello ' + x + ', Welcome to ' + y)"
   ]
  },
  {
   "cell_type": "code",
   "execution_count": 9,
   "id": "e0b318f4",
   "metadata": {},
   "outputs": [
    {
     "name": "stdout",
     "output_type": "stream",
     "text": [
      "Hello Dor, Welcome to Jerusalem\n"
     ]
    }
   ],
   "source": [
    "print(f'Hello {x}, Welcome to {y}')"
   ]
  },
  {
   "cell_type": "code",
   "execution_count": 10,
   "id": "a0588e79",
   "metadata": {},
   "outputs": [
    {
     "name": "stdout",
     "output_type": "stream",
     "text": [
      "Hi, what is your name?Dor\n"
     ]
    }
   ],
   "source": [
    "name=input('Hi, what is your name?')"
   ]
  },
  {
   "cell_type": "code",
   "execution_count": 11,
   "id": "49053097",
   "metadata": {},
   "outputs": [
    {
     "ename": "SyntaxError",
     "evalue": "invalid syntax (3920517076.py, line 4)",
     "output_type": "error",
     "traceback": [
      "\u001b[0;36m  Cell \u001b[0;32mIn[11], line 4\u001b[0;36m\u001b[0m\n\u001b[0;31m    Else:\u001b[0m\n\u001b[0m         ^\u001b[0m\n\u001b[0;31mSyntaxError\u001b[0m\u001b[0;31m:\u001b[0m invalid syntax\n"
     ]
    }
   ],
   "source": [
    "name=input('Hi, what is your name?')\n",
    "if name=='Dor':\n",
    "    print ('You are the best!')\n",
    "Else:\n",
    "    print(f'Nice to meet you {name}')"
   ]
  },
  {
   "cell_type": "code",
   "execution_count": null,
   "id": "8d083c5b",
   "metadata": {},
   "outputs": [],
   "source": [
    "name=input('Hi, what is your name?')\n",
    "if name=='Dor':\n",
    "    print ('You are the best!')\n",
    "Else:\n",
    "    print(f'Nice to meet you {name}')\n",
    "end if"
   ]
  },
  {
   "cell_type": "code",
   "execution_count": 12,
   "id": "e628e11d",
   "metadata": {},
   "outputs": [
    {
     "ename": "SyntaxError",
     "evalue": "invalid syntax (3920517076.py, line 4)",
     "output_type": "error",
     "traceback": [
      "\u001b[0;36m  Cell \u001b[0;32mIn[12], line 4\u001b[0;36m\u001b[0m\n\u001b[0;31m    Else:\u001b[0m\n\u001b[0m         ^\u001b[0m\n\u001b[0;31mSyntaxError\u001b[0m\u001b[0;31m:\u001b[0m invalid syntax\n"
     ]
    }
   ],
   "source": [
    "name=input('Hi, what is your name?')\n",
    "if name=='Dor':\n",
    "    print ('You are the best!')\n",
    "Else:\n",
    "    print(f'Nice to meet you {name}')"
   ]
  },
  {
   "cell_type": "code",
   "execution_count": 13,
   "id": "a498b244",
   "metadata": {},
   "outputs": [
    {
     "name": "stdout",
     "output_type": "stream",
     "text": [
      "Hi, what is your name?Dor\n",
      "You are the best!\n"
     ]
    }
   ],
   "source": [
    "name=input('Hi, what is your name?')\n",
    "if name=='Dor':\n",
    "    print ('You are the best!')\n",
    "else:\n",
    "    print(f'Nice to meet you {name}')"
   ]
  },
  {
   "cell_type": "code",
   "execution_count": 14,
   "id": "4999e65b",
   "metadata": {},
   "outputs": [
    {
     "name": "stdout",
     "output_type": "stream",
     "text": [
      "Hi, what is your name?Kevin\n",
      "Nice to meet you Kevin\n"
     ]
    }
   ],
   "source": [
    "name=input('Hi, what is your name?')\n",
    "if name=='Dor':\n",
    "    print ('You are the best!')\n",
    "else:\n",
    "    print(f'Nice to meet you {name}')"
   ]
  },
  {
   "cell_type": "code",
   "execution_count": 17,
   "id": "4bc8621f",
   "metadata": {},
   "outputs": [
    {
     "name": "stdout",
     "output_type": "stream",
     "text": [
      "please enter a word:\n",
      "please enter another word:\n",
      "you chose the same word, you sneaky bastard\n"
     ]
    }
   ],
   "source": [
    "word1=input('please enter a word:')\n",
    "word2=input('please enter another word:')\n",
    "if word1>word2:\n",
    "    print(f'{word1} comes before {word2}')\n",
    "elif word2>word1:\n",
    "    print(f'{word2} comes before {word1}')\n",
    "else:\n",
    "    print('you chose the same word, you sneaky bastard')"
   ]
  },
  {
   "cell_type": "code",
   "execution_count": 21,
   "id": "093f6266",
   "metadata": {},
   "outputs": [
    {
     "name": "stdout",
     "output_type": "stream",
     "text": [
      "please enter your name:Eli\n",
      "Hello Eli, where do you live?Jerusalem\n",
      "Okay, nice to meet you\n"
     ]
    }
   ],
   "source": [
    "name=input('please enter your name:')\n",
    "city=input(f'Hello {name}, where do you live?')\n",
    "if name=='Dor' and city=='Modiin':\n",
    "    print(\"Hi, I'm Also Dor and I also Live in Modiin\")\n",
    "elif name=='Dor':\n",
    "    print(\"Hi, I'm Also Dor\")\n",
    "elif city==\"Modiin\":\n",
    "    print ('Wow, I also live in Modiin')\n",
    "else:\n",
    "    print ('Okay, nice to meet you')"
   ]
  },
  {
   "cell_type": "code",
   "execution_count": 22,
   "id": "20ba5b49",
   "metadata": {},
   "outputs": [
    {
     "name": "stdout",
     "output_type": "stream",
     "text": [
      "guess the number44\n"
     ]
    },
    {
     "ename": "TypeError",
     "evalue": "'>' not supported between instances of 'str' and 'int'",
     "output_type": "error",
     "traceback": [
      "\u001b[0;31m---------------------------------------------------------------------------\u001b[0m",
      "\u001b[0;31mTypeError\u001b[0m                                 Traceback (most recent call last)",
      "Cell \u001b[0;32mIn[22], line 3\u001b[0m\n\u001b[1;32m      1\u001b[0m secret\u001b[38;5;241m=\u001b[39m\u001b[38;5;241m52\u001b[39m\n\u001b[1;32m      2\u001b[0m guess\u001b[38;5;241m=\u001b[39m\u001b[38;5;28minput\u001b[39m(\u001b[38;5;124m'\u001b[39m\u001b[38;5;124mguess the number\u001b[39m\u001b[38;5;124m'\u001b[39m)\n\u001b[0;32m----> 3\u001b[0m \u001b[38;5;28;01mif\u001b[39;00m \u001b[43mguess\u001b[49m\u001b[38;5;241;43m>\u001b[39;49m\u001b[43msecret\u001b[49m:\n\u001b[1;32m      4\u001b[0m     \u001b[38;5;28mprint\u001b[39m(\u001b[38;5;124mf\u001b[39m\u001b[38;5;124m'\u001b[39m\u001b[38;5;124mthe number is lower\u001b[39m\u001b[38;5;124m'\u001b[39m)\n\u001b[1;32m      5\u001b[0m \u001b[38;5;28;01melif\u001b[39;00m guess\u001b[38;5;241m<\u001b[39msecret:\n",
      "\u001b[0;31mTypeError\u001b[0m: '>' not supported between instances of 'str' and 'int'"
     ]
    }
   ],
   "source": [
    "secret=52\n",
    "guess=input('guess the number')\n",
    "if guess>secret:\n",
    "    print(f'the number is lower')\n",
    "elif guess<secret:\n",
    "    print(f'the number is higher')\n",
    "else:\n",
    "    print(\"you Guessed it!\")\n",
    "    "
   ]
  },
  {
   "cell_type": "code",
   "execution_count": 23,
   "id": "01c0f924",
   "metadata": {},
   "outputs": [
    {
     "name": "stdout",
     "output_type": "stream",
     "text": [
      "guess the number44\n",
      "the number is higher\n"
     ]
    }
   ],
   "source": [
    "secret=52\n",
    "guess=input('guess the number')\n",
    "if int(guess)>secret:\n",
    "    print(f'the number is lower')\n",
    "elif int(guess)<secret:\n",
    "    print(f'the number is higher')\n",
    "else:\n",
    "    print(\"you Guessed it!\")"
   ]
  },
  {
   "cell_type": "code",
   "execution_count": 24,
   "id": "01410305",
   "metadata": {},
   "outputs": [
    {
     "name": "stdout",
     "output_type": "stream",
     "text": [
      "guess the number55\n",
      "the number is lower\n"
     ]
    }
   ],
   "source": [
    "secret=52\n",
    "guess=input('guess the number')\n",
    "if int(guess)>secret:\n",
    "    print(f'the number is lower')\n",
    "elif int(guess)<secret:\n",
    "    print(f'the number is higher')\n",
    "else:\n",
    "    print(\"you Guessed it!\")"
   ]
  },
  {
   "cell_type": "code",
   "execution_count": 25,
   "id": "4eab862a",
   "metadata": {},
   "outputs": [
    {
     "name": "stdout",
     "output_type": "stream",
     "text": [
      "guess the number52\n",
      "you Guessed it!\n"
     ]
    }
   ],
   "source": [
    "secret=52\n",
    "guess=input('guess the number')\n",
    "if int(guess)>secret:\n",
    "    print(f'the number is lower')\n",
    "elif int(guess)<secret:\n",
    "    print(f'the number is higher')\n",
    "else:\n",
    "    print(\"you Guessed it!\")"
   ]
  },
  {
   "cell_type": "code",
   "execution_count": 27,
   "id": "cb1c6fe7",
   "metadata": {
    "scrolled": true
   },
   "outputs": [
    {
     "data": {
      "text/plain": [
       "True"
      ]
     },
     "execution_count": 27,
     "metadata": {},
     "output_type": "execute_result"
    }
   ],
   "source": [
    "'dor'==\"dor\""
   ]
  },
  {
   "cell_type": "code",
   "execution_count": 54,
   "id": "69d7c1f5",
   "metadata": {},
   "outputs": [
    {
     "name": "stdout",
     "output_type": "stream",
     "text": [
      "input a word: apple\n",
      "wayapple\n"
     ]
    }
   ],
   "source": [
    "word1=input('input a word: ')\n",
    "if word1[0]=='a' or 'e' or 'i' or 'o' or 'u':\n",
    "    print (f'way{word1}')\n",
    "else:\n",
    "    print(f'{word1[1:]}{word1[0]}ay')"
   ]
  },
  {
   "cell_type": "code",
   "execution_count": 55,
   "id": "3ed5a1a6",
   "metadata": {},
   "outputs": [
    {
     "name": "stdout",
     "output_type": "stream",
     "text": [
      "input a word: table\n",
      "abletay\n"
     ]
    }
   ],
   "source": [
    "word1=input('input a word: ')\n",
    "if word1[0]=='a' or word1[0]=='e' or word1[0]=='i' or word1[0]=='o' or word1[0]=='u':\n",
    "    print (f'way{word1}')\n",
    "else:\n",
    "    print(f'{word1[1:]}{word1[0]}ay')"
   ]
  },
  {
   "cell_type": "code",
   "execution_count": 57,
   "id": "147a7a4b",
   "metadata": {},
   "outputs": [
    {
     "name": "stdout",
     "output_type": "stream",
     "text": [
      "input a word: table\n",
      "abletay\n"
     ]
    }
   ],
   "source": [
    "word1=input('input a word: ')\n",
    "if word1[0] in 'aeiou':\n",
    "    print (f'way{word1}')\n",
    "else:\n",
    "    print(f'{word1[1:]}{word1[0]}ay')"
   ]
  },
  {
   "cell_type": "code",
   "execution_count": null,
   "id": "18274a1d",
   "metadata": {},
   "outputs": [],
   "source": [
    "secret=52\n",
    "guess=input('guess the number')\n",
    "if guess.isdigit():\n",
    "    guess=int(guess)\n",
    "    if guess>secret:\n",
    "        print(f'the number is lower')\n",
    "    elif guess<secret:\n",
    "        print(f'the number is higher')\n",
    "    else:\n",
    "        print(\"you Guessed it!\")\n",
    "else:\n",
    "    print(f'{guess} is not numeric')"
   ]
  },
  {
   "cell_type": "markdown",
   "id": "9877e351",
   "metadata": {},
   "source": [
    "word=input('choose a word: ')\n",
    "i=input('choose an index: ')\n",
    "if i.isdigit():\n",
    "    i=int(i)\n",
    "    if i<=0 or i>len(word):\n",
    "        print('the number is too high or too low')\n",
    "    else: print({word[i-1]})\n",
    "else:\n",
    "    print(f'your index {i} is not numeric')"
   ]
  },
  {
   "cell_type": "code",
   "execution_count": 3,
   "id": "c8e5ebb9",
   "metadata": {},
   "outputs": [
    {
     "name": "stdout",
     "output_type": "stream",
     "text": [
      "a\n",
      "b\n",
      "c\n",
      "d\n"
     ]
    }
   ],
   "source": [
    "s='abcd'\n",
    "for one_character in s:\n",
    "    print (one_character)\n",
    "    "
   ]
  },
  {
   "cell_type": "code",
   "execution_count": null,
   "id": "f58d9b3c",
   "metadata": {},
   "outputs": [],
   "source": []
  },
  {
   "cell_type": "code",
   "execution_count": 2,
   "id": "54ee7a33",
   "metadata": {},
   "outputs": [
    {
     "data": {
      "text/plain": [
       "'b'"
      ]
     },
     "execution_count": 2,
     "metadata": {},
     "output_type": "execute_result"
    }
   ],
   "source": [
    "s[1]"
   ]
  },
  {
   "cell_type": "code",
   "execution_count": 4,
   "id": "03d9faca",
   "metadata": {},
   "outputs": [
    {
     "name": "stdout",
     "output_type": "stream",
     "text": [
      "a\n",
      "b\n",
      "c\n",
      "d\n"
     ]
    }
   ],
   "source": [
    "s='abcd'\n",
    "for each_character in s:\n",
    "    print (each_character)"
   ]
  },
  {
   "cell_type": "code",
   "execution_count": 5,
   "id": "873b8cf5",
   "metadata": {},
   "outputs": [
    {
     "name": "stdout",
     "output_type": "stream",
     "text": [
      "Hooray\n",
      "Hooray\n",
      "Hooray\n"
     ]
    }
   ],
   "source": [
    "for counter in range(3):\n",
    "    print('Hooray')"
   ]
  },
  {
   "cell_type": "code",
   "execution_count": 6,
   "id": "3feecdfd",
   "metadata": {},
   "outputs": [
    {
     "ename": "SyntaxError",
     "evalue": "invalid syntax (1297266206.py, line 1)",
     "output_type": "error",
     "traceback": [
      "\u001b[0;36m  Cell \u001b[0;32mIn[6], line 1\u001b[0;36m\u001b[0m\n\u001b[0;31m    for counter=1:3:\u001b[0m\n\u001b[0m               ^\u001b[0m\n\u001b[0;31mSyntaxError\u001b[0m\u001b[0;31m:\u001b[0m invalid syntax\n"
     ]
    }
   ],
   "source": [
    "for counter=1:3:\n",
    "    print('Hooray')"
   ]
  },
  {
   "cell_type": "code",
   "execution_count": 18,
   "id": "f0063d03",
   "metadata": {},
   "outputs": [
    {
     "name": "stdout",
     "output_type": "stream",
     "text": [
      "enter a text: this text has 23 characters\n",
      "6 vowels in your text\n",
      "2 digits in your text\n",
      "19 other characters in your text\n"
     ]
    }
   ],
   "source": [
    "vowel ='aoiue'\n",
    "vowels=0\n",
    "digits=0\n",
    "other=0\n",
    "text1=input('enter a text: ')\n",
    "for one_character in text1:\n",
    "    if one_character.isdigit():\n",
    "        digits+=1                #similar to digits=digits+1\n",
    "    elif one_character in vowel:\n",
    "        vowels+=+1\n",
    "    else: other+=1\n",
    "print(f'{vowels} vowels in your text')\n",
    "print(f'{digits} digits in your text')\n",
    "print(f'{other} other characters in your text')"
   ]
  },
  {
   "cell_type": "code",
   "execution_count": 22,
   "id": "00491c08",
   "metadata": {},
   "outputs": [
    {
     "name": "stdout",
     "output_type": "stream",
     "text": [
      "enter a text: example text 44\n",
      "['e', 'a', 'e', 'e']\n",
      "['4', '4']\n",
      "['x', 'm', 'p', 'l', ' ', 't', 'x', 't', ' ']\n"
     ]
    }
   ],
   "source": [
    "vowel='aoiue'\n",
    "vowels=[]\n",
    "digits=[]\n",
    "others=[]\n",
    "text1=input('enter a text: ')\n",
    "for one_character in text1:\n",
    "    if one_character.isdigit():\n",
    "        digits.append (one_character)\n",
    "    elif one_character in vowel:\n",
    "        vowels.append(one_character)\n",
    "    else: others.append(one_character)\n",
    "print(vowels)\n",
    "print(digits)\n",
    "print(others)\n"
   ]
  },
  {
   "cell_type": "code",
   "execution_count": 36,
   "id": "4c657edd",
   "metadata": {},
   "outputs": [
    {
     "name": "stdout",
     "output_type": "stream",
     "text": [
      "What city you would like to log?tlv\n",
      "how much rain did fall?2\n",
      "What city you would like to log?tlv\n",
      "how much rain did fall?4\n",
      "What city you would like to log?\n",
      "{'tlv': 6}\n"
     ]
    }
   ],
   "source": [
    "rainfall={}\n",
    "\n",
    "while True:\n",
    "    city=input('What city you would like to log?').strip()\n",
    "    if city==\"\":\n",
    "        break\n",
    "    rain=int(input('how much rain did fall?').strip())\n",
    "    if city in rainfall:\n",
    "        rainfall[city]+=rain\n",
    "    else:\n",
    "        rainfall[city]=rain\n",
    "\n",
    "print(rainfall)"
   ]
  },
  {
   "cell_type": "code",
   "execution_count": 62,
   "id": "e1761192",
   "metadata": {},
   "outputs": [
    {
     "name": "stdout",
     "output_type": "stream",
     "text": [
      "please input file name:wcfile.txt\n",
      "number of lines in the file is 11\n",
      "number of words in this file is 28\n",
      "number of characters in this file is 165\n"
     ]
    }
   ],
   "source": [
    "lines=0\n",
    "chars=0\n",
    "words=0\n",
    "filename=open(input('please input file name:').strip())\n",
    "for one_line in filename:\n",
    "    lines+=1\n",
    "    chars+=len(one_line)\n",
    "    words+=len(one_line.split())\n",
    "\n",
    "print(f'number of lines in the file is {lines}')\n",
    "print(f'number of words in this file is {words}')\n",
    "print(f'number of characters in this file is {chars}')"
   ]
  },
  {
   "cell_type": "code",
   "execution_count": null,
   "id": "eb6f1860",
   "metadata": {
    "scrolled": false
   },
   "outputs": [],
   "source": []
  }
 ],
 "metadata": {
  "kernelspec": {
   "display_name": "Python 3 (ipykernel)",
   "language": "python",
   "name": "python3"
  },
  "language_info": {
   "codemirror_mode": {
    "name": "ipython",
    "version": 3
   },
   "file_extension": ".py",
   "mimetype": "text/x-python",
   "name": "python",
   "nbconvert_exporter": "python",
   "pygments_lexer": "ipython3",
   "version": "3.12.7"
  }
 },
 "nbformat": 4,
 "nbformat_minor": 5
}
