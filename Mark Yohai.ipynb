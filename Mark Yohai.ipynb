{
 "cells": [
  {
   "cell_type": "code",
   "execution_count": 1,
   "id": "4b2db7af",
   "metadata": {},
   "outputs": [
    {
     "name": "stdout",
     "output_type": "stream",
     "text": [
      "hello Mark\n"
     ]
    }
   ],
   "source": [
    "print('hello Mark')"
   ]
  },
  {
   "cell_type": "code",
   "execution_count": 3,
   "id": "9f484e47",
   "metadata": {},
   "outputs": [
    {
     "name": "stdout",
     "output_type": "stream",
     "text": [
      "Enter your mame: Mark\n"
     ]
    }
   ],
   "source": [
    "name = input ('Enter your mame: ')"
   ]
  },
  {
   "cell_type": "code",
   "execution_count": 4,
   "id": "a530e150",
   "metadata": {},
   "outputs": [
    {
     "name": "stdout",
     "output_type": "stream",
     "text": [
      "Enter your city: Jerusalem\n"
     ]
    }
   ],
   "source": [
    "city = input ('Enter your city: ')"
   ]
  },
  {
   "cell_type": "code",
   "execution_count": 8,
   "id": "0fbc00c1",
   "metadata": {},
   "outputs": [
    {
     "name": "stdout",
     "output_type": "stream",
     "text": [
      "Mark from Jerusalem\n"
     ]
    }
   ],
   "source": [
    "print (name + ' from ' +city)"
   ]
  },
  {
   "cell_type": "code",
   "execution_count": 15,
   "id": "afaacb46",
   "metadata": {},
   "outputs": [
    {
     "name": "stdout",
     "output_type": "stream",
     "text": [
      "Enter word 1: Dor\n",
      "Enter word 2: Dor\n",
      "the words are identical\n"
     ]
    }
   ],
   "source": [
    "word1 = input('Enter word 1: ')\n",
    "word2 = input('Enter word 2: ')\n",
    "if word1 > word2:\n",
    "    print(f'{word2} comes first')\n",
    "elif word1==word2:\n",
    "    print('the words are identical')\n",
    "else:\n",
    "    print(f'{word1} comes first')"
   ]
  },
  {
   "cell_type": "code",
   "execution_count": 23,
   "id": "11b39ee4",
   "metadata": {},
   "outputs": [
    {
     "name": "stdout",
     "output_type": "stream",
     "text": [
      "Enter your mame: Dor\n",
      "Enter your city: ta\n",
      "Bad name and bad cisy\n"
     ]
    }
   ],
   "source": [
    "name = input ('Enter your mame: ')\n",
    "city = input ('Enter your city: ')\n",
    "if name=='Mark' and city=='Jerusalem':\n",
    "    print('You must be me')\n",
    "elif name=='Mark' and city!='Jerusalem':\n",
    "    print('Nice name bad city')\n",
    "elif name!='Mark' and city=='Jerusalem':\n",
    "    print('we live in the same city')\n",
    "else:\n",
    "    print('Bad name and bad cisy')"
   ]
  },
  {
   "cell_type": "code",
   "execution_count": 50,
   "id": "1d4fe01f",
   "metadata": {},
   "outputs": [
    {
     "name": "stdout",
     "output_type": "stream",
     "text": [
      "Enter your guess: 139\n",
      "Just right\n"
     ]
    }
   ],
   "source": [
    "secret = 139\n",
    "guess = input('Enter your guess: ')\n",
    "guess = int(guess)\n",
    "\n",
    "if guess==secret:\n",
    "    print('Just right')\n",
    "elif guess > secret:\n",
    "    print('too high')\n",
    "else:\n",
    "    print('too low')"
   ]
  },
  {
   "cell_type": "code",
   "execution_count": 33,
   "id": "518d2b21",
   "metadata": {},
   "outputs": [
    {
     "data": {
      "text/plain": [
       "True"
      ]
     },
     "execution_count": 33,
     "metadata": {},
     "output_type": "execute_result"
    }
   ],
   "source": [
    "round(0.1+0.2,10)==0.3"
   ]
  },
  {
   "cell_type": "code",
   "execution_count": 37,
   "id": "646d80cb",
   "metadata": {},
   "outputs": [
    {
     "data": {
      "text/plain": [
       "12.9911"
      ]
     },
     "execution_count": 37,
     "metadata": {},
     "output_type": "execute_result"
    }
   ],
   "source": [
    "round(12.991111,4)"
   ]
  },
  {
   "cell_type": "code",
   "execution_count": 40,
   "id": "d26bf4a6",
   "metadata": {},
   "outputs": [
    {
     "name": "stdout",
     "output_type": "stream",
     "text": [
      "Enter your word: david\n",
      "avidday\n"
     ]
    }
   ],
   "source": [
    "word =input('Enter your word: ')\n",
    "if word[0] in 'aieou':\n",
    "    print (word + 'way')\n",
    "else:\n",
    "    print (word[1:] + word[0] + 'ay')"
   ]
  },
  {
   "cell_type": "code",
   "execution_count": null,
   "id": "7d07fdb6",
   "metadata": {},
   "outputs": [],
   "source": [
    "secret = 139\n",
    "guess = input('Enter your guess: ').strip()\n",
    "if guess.isdigit():\n",
    "    guess = int(guess)\n",
    "\n",
    "    if guess==secret:\n",
    "        print('Just right')\n",
    "    elif guess > secret:\n",
    "        print('too high')\n",
    "    else:\n",
    "        print('too low')\n",
    "else:\n",
    "    print(f'{guess} is not numeric')"
   ]
  },
  {
   "cell_type": "code",
   "execution_count": 55,
   "id": "bb2992a1",
   "metadata": {},
   "outputs": [
    {
     "name": "stdout",
     "output_type": "stream",
     "text": [
      "Enter your text: oai123tr%\n",
      "digits = 3\n",
      "vowels = 3\n",
      "others = 3\n"
     ]
    }
   ],
   "source": [
    "vowels=0\n",
    "digits=0\n",
    "others=0\n",
    "text = input('Enter your text: ').strip()\n",
    "for one_character in text:\n",
    "    if one_character.isdigit():\n",
    "        digits+=1\n",
    "    elif one_character in 'aeiou':\n",
    "        vowels+=1\n",
    "    else: others+=1\n",
    "print(f'digits = {digits}')\n",
    "print(f'vowels = {vowels}')\n",
    "print(f'others = {others}')\n"
   ]
  },
  {
   "cell_type": "code",
   "execution_count": 56,
   "id": "f223b846",
   "metadata": {},
   "outputs": [
    {
     "name": "stdout",
     "output_type": "stream",
     "text": [
      "Enter text: skdjhj123\n",
      "Enter text: skdjhekrg87\n",
      "Enter text: \n",
      "vowels: ['e']\n",
      "digits: ['1', '2', '3', '8', '7']\n",
      "others: ['s', 'k', 'd', 'j', 'h', 'j', 's', 'k', 'd', 'j', 'h', 'k', 'r', 'g']\n"
     ]
    }
   ],
   "source": [
    "# Initialize empty lists\n",
    "vowels = []\n",
    "digits = []\n",
    "others = []\n",
    "\n",
    "# Define the set of vowels for quick lookup\n",
    "vowel_set = {'a', 'e', 'i', 'o', 'u', 'A', 'E', 'I', 'O', 'U'}\n",
    "\n",
    "while True:\n",
    "    # Ask the user for input\n",
    "    text = input(\"Enter text: \")\n",
    "\n",
    "    # Exit if an empty string is entered\n",
    "    if text == \"\":\n",
    "        break\n",
    "\n",
    "    # Iterate over each character in the input text\n",
    "    for char in text:\n",
    "        if char in vowel_set: # Check if the character is a vowel\n",
    "            vowels.append(char)\n",
    "        elif char.isdigit(): # Check if the character is a digit\n",
    "            digits.append(char)\n",
    "        else: # Any other character\n",
    "            others.append(char)\n",
    "\n",
    "# Print the results\n",
    "print(\"vowels:\", vowels)\n",
    "print(\"digits:\", digits)\n",
    "print(\"others:\", others)"
   ]
  },
  {
   "cell_type": "code",
   "execution_count": null,
   "id": "67042fad",
   "metadata": {},
   "outputs": [],
   "source": [
    "menu = {'sandwich': 10, 'tea': 5,'coffee': 7,'salad': 8, 'soup': 6}\n",
    "\n",
    "total = 0\n",
    "\n",
    "while True:\n",
    "    \n",
    "    order = input(\"Order: \").strip()\n",
    "    \n",
    "       if order == \"\":\n",
    "        break\n",
    "    \n",
    "    \n",
    "    if order in menu:\n",
    "       \n",
    "        total += menu[order]\n",
    "       \n",
    "        print(f\"{order} is {menu[order]}, total is {total}\")\n",
    "    else:\n",
    "       \n",
    "        print(f\"Sorry, we're all out of {order} today!\")\n",
    "\n",
    "\n",
    "print(f\"Total is {total}\")"
   ]
  },
  {
   "cell_type": "code",
   "execution_count": null,
   "id": "efac2117",
   "metadata": {},
   "outputs": [],
   "source": []
  },
  {
   "cell_type": "code",
   "execution_count": null,
   "id": "5ac6b1b0",
   "metadata": {},
   "outputs": [],
   "source": []
  },
  {
   "cell_type": "code",
   "execution_count": null,
   "id": "2b9eea70",
   "metadata": {},
   "outputs": [],
   "source": [
    "# Define the menu dictionary with items and their prices\n",
    "menu = {\n",
    "    \"sandwich\": 10,\n",
    "    \"tea\": 5,\n",
    "    \"coffee\": 7,\n",
    "    \"salad\": 8,\n",
    "    \"soup\": 6\n",
    "}\n",
    "\n",
    "# Initialize the total to 0\n",
    "total = 0\n",
    "\n",
    "# Start an infinite loop to take orders\n",
    "while True:\n",
    "    # Ask the user what they want to order\n",
    "    order = input(\"Order: \").strip()\n",
    "    \n",
    "    # If the user presses ENTER (empty input), break the loop\n",
    "    if order == \"\":\n",
    "        break\n",
    "    \n",
    "    # Check if the order is in the menu\n",
    "    if order in menu:\n",
    "        # Add the price of the item to the total\n",
    "        total += menu[order]\n",
    "        # Print the item, its price, and the new total\n",
    "        print(f\"{order} is {menu[order]}, total is {total}\")\n",
    "    else:\n",
    "        # Inform the user that the item is not available\n",
    "        print(f\"Sorry, we're all out of {order} today!\")\n",
    "\n",
    "# Print the final total\n",
    "print(f\"Total is {total}\")"
   ]
  },
  {
   "cell_type": "code",
   "execution_count": 62,
   "id": "39c1e87e",
   "metadata": {},
   "outputs": [
    {
     "name": "stdout",
     "output_type": "stream",
     "text": [
      "City: TA\n",
      "Rain: 7\n",
      "City: Jerusalem\n",
      "Rain: 4\n",
      "City: TA\n",
      "Rain: 10\n",
      "City: Haifa\n",
      "Rain: 45\n",
      "City: Haifa \n",
      "Rain: 250\n",
      "City: \n",
      "TA: 17\n",
      "Jerusalem: 4\n",
      "Haifa: 295\n"
     ]
    }
   ],
   "source": [
    "rainfall = {}\n",
    "\n",
    "while True:\n",
    "    city = input(\"City: \").strip()\n",
    "        \n",
    "    if city == \"\":\n",
    "        break\n",
    "    \n",
    "\n",
    "    rain = int(input(\"Rain: \").strip())\n",
    "      \n",
    "    \n",
    "    if city in rainfall:\n",
    "        \n",
    "        rainfall[city] += rain\n",
    "    else:\n",
    "        rainfall[city] = rain\n",
    "\n",
    "for city, total_rain in rainfall.items():\n",
    "    print(f\"{city}: {total_rain}\")"
   ]
  },
  {
   "cell_type": "code",
   "execution_count": 65,
   "id": "c0a1b570",
   "metadata": {},
   "outputs": [
    {
     "name": "stdout",
     "output_type": "stream",
     "text": [
      "Enter the filename: wc.file.txt\n"
     ]
    },
    {
     "ename": "FileNotFoundError",
     "evalue": "[Errno 2] No such file or directory: 'wc.file.txt'",
     "output_type": "error",
     "traceback": [
      "\u001b[0;31m---------------------------------------------------------------------------\u001b[0m",
      "\u001b[0;31mFileNotFoundError\u001b[0m                         Traceback (most recent call last)",
      "Cell \u001b[0;32mIn[65], line 10\u001b[0m\n\u001b[1;32m      7\u001b[0m \u001b[38;5;28;01mif\u001b[39;00m filename \u001b[38;5;241m==\u001b[39m \u001b[38;5;124m\"\u001b[39m\u001b[38;5;124m\"\u001b[39m:\n\u001b[1;32m      8\u001b[0m     filename \u001b[38;5;241m=\u001b[39m \u001b[38;5;124m\"\u001b[39m\u001b[38;5;124mwc.file.txt\u001b[39m\u001b[38;5;124m\"\u001b[39m\n\u001b[0;32m---> 10\u001b[0m f\u001b[38;5;241m=\u001b[39m\u001b[38;5;28;43mopen\u001b[39;49m\u001b[43m(\u001b[49m\u001b[43mfilename\u001b[49m\u001b[43m)\u001b[49m\n\u001b[1;32m     11\u001b[0m \u001b[38;5;28;01mfor\u001b[39;00m line \u001b[38;5;129;01min\u001b[39;00m f:\n\u001b[1;32m     12\u001b[0m             num_lines \u001b[38;5;241m+\u001b[39m\u001b[38;5;241m=\u001b[39m \u001b[38;5;241m1\u001b[39m\n",
      "File \u001b[0;32m/usr/lib/python3/dist-packages/IPython/core/interactiveshell.py:310\u001b[0m, in \u001b[0;36m_modified_open\u001b[0;34m(file, *args, **kwargs)\u001b[0m\n\u001b[1;32m    303\u001b[0m \u001b[38;5;28;01mif\u001b[39;00m file \u001b[38;5;129;01min\u001b[39;00m {\u001b[38;5;241m0\u001b[39m, \u001b[38;5;241m1\u001b[39m, \u001b[38;5;241m2\u001b[39m}:\n\u001b[1;32m    304\u001b[0m     \u001b[38;5;28;01mraise\u001b[39;00m \u001b[38;5;167;01mValueError\u001b[39;00m(\n\u001b[1;32m    305\u001b[0m         \u001b[38;5;124mf\u001b[39m\u001b[38;5;124m\"\u001b[39m\u001b[38;5;124mIPython won\u001b[39m\u001b[38;5;124m'\u001b[39m\u001b[38;5;124mt let you open fd=\u001b[39m\u001b[38;5;132;01m{\u001b[39;00mfile\u001b[38;5;132;01m}\u001b[39;00m\u001b[38;5;124m by default \u001b[39m\u001b[38;5;124m\"\u001b[39m\n\u001b[1;32m    306\u001b[0m         \u001b[38;5;124m\"\u001b[39m\u001b[38;5;124mas it is likely to crash IPython. If you know what you are doing, \u001b[39m\u001b[38;5;124m\"\u001b[39m\n\u001b[1;32m    307\u001b[0m         \u001b[38;5;124m\"\u001b[39m\u001b[38;5;124myou can use builtins\u001b[39m\u001b[38;5;124m'\u001b[39m\u001b[38;5;124m open.\u001b[39m\u001b[38;5;124m\"\u001b[39m\n\u001b[1;32m    308\u001b[0m     )\n\u001b[0;32m--> 310\u001b[0m \u001b[38;5;28;01mreturn\u001b[39;00m \u001b[43mio_open\u001b[49m\u001b[43m(\u001b[49m\u001b[43mfile\u001b[49m\u001b[43m,\u001b[49m\u001b[43m \u001b[49m\u001b[38;5;241;43m*\u001b[39;49m\u001b[43margs\u001b[49m\u001b[43m,\u001b[49m\u001b[43m \u001b[49m\u001b[38;5;241;43m*\u001b[39;49m\u001b[38;5;241;43m*\u001b[39;49m\u001b[43mkwargs\u001b[49m\u001b[43m)\u001b[49m\n",
      "\u001b[0;31mFileNotFoundError\u001b[0m: [Errno 2] No such file or directory: 'wc.file.txt'"
     ]
    }
   ],
   "source": [
    "num_lines = 0\n",
    "num_chars = 0\n",
    "num_words = 0\n",
    "\n",
    "filename = input(\"Enter the filename: \").strip()\n",
    "\n",
    "if filename == \"\":\n",
    "    filename = \"wc.file.txt\"\n",
    "\n",
    "f=open(filename)\n",
    "for line in f:\n",
    "            num_lines += 1\n",
    "            num_chars += len(line)\n",
    "            num_words += len(line.split())\n",
    "print(f\"Lines: {num_lines}\")\n",
    "print(f\"Characters: {num_chars}\")\n",
    "print(f\"Words: {num_words}\")"
   ]
  },
  {
   "cell_type": "code",
   "execution_count": null,
   "id": "5d4d5955",
   "metadata": {},
   "outputs": [],
   "source": []
  }
 ],
 "metadata": {
  "kernelspec": {
   "display_name": "Python 3 (ipykernel)",
   "language": "python",
   "name": "python3"
  },
  "language_info": {
   "codemirror_mode": {
    "name": "ipython",
    "version": 3
   },
   "file_extension": ".py",
   "mimetype": "text/x-python",
   "name": "python",
   "nbconvert_exporter": "python",
   "pygments_lexer": "ipython3",
   "version": "3.12.7"
  }
 },
 "nbformat": 4,
 "nbformat_minor": 5
}
