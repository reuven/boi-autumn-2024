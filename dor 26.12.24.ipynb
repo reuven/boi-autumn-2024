{
 "cells": [
  {
   "cell_type": "code",
   "execution_count": 33,
   "id": "35b4584e",
   "metadata": {},
   "outputs": [],
   "source": [
    "import pandas as pd\n",
    "from pandas import Series, DataFrame"
   ]
  },
  {
   "cell_type": "code",
   "execution_count": 36,
   "id": "42d48135",
   "metadata": {},
   "outputs": [
    {
     "name": "stdout",
     "output_type": "stream",
     "text": [
      "enter a string of integers and words10 5 325 word 2 panda\n"
     ]
    }
   ],
   "source": [
    "text=input('enter a string of integers and words').strip()\n",
    "s = Series(text.split())"
   ]
  },
  {
   "cell_type": "code",
   "execution_count": 38,
   "id": "04f94f46",
   "metadata": {},
   "outputs": [
    {
     "data": {
      "text/plain": [
       "4.5"
      ]
     },
     "execution_count": 38,
     "metadata": {},
     "output_type": "execute_result"
    }
   ],
   "source": [
    "s.loc[~s.str.isdigit()].str.len().mean()"
   ]
  },
  {
   "cell_type": "code",
   "execution_count": 46,
   "id": "b2c12823",
   "metadata": {},
   "outputs": [
    {
     "data": {
      "text/plain": [
       "85.5"
      ]
     },
     "execution_count": 46,
     "metadata": {},
     "output_type": "execute_result"
    }
   ],
   "source": [
    "(\n",
    "    s                        # start with series of words\n",
    "    .loc[s.str.isdigit()]    # keep only digit words\n",
    "    .astype(int)             # get a series of ints\n",
    "    .mean()\n",
    ")"
   ]
  },
  {
   "cell_type": "code",
   "execution_count": 47,
   "id": "79beef98",
   "metadata": {},
   "outputs": [
    {
     "data": {
      "text/plain": [
       "5    panda\n",
       "dtype: object"
      ]
     },
     "execution_count": 47,
     "metadata": {},
     "output_type": "execute_result"
    }
   ],
   "source": [
    "max_word_length = (\n",
    "    s                        # start with series of words\n",
    "    .loc[~s.str.isdigit()]   # keep only non-digit words\n",
    "    .str.len()               # get length of each word\n",
    "    .max()                  # calculate mean on the series of lengths\n",
    ")\n",
    "\n",
    "s.loc[s.str.len() == max_word_length]"
   ]
  },
  {
   "cell_type": "code",
   "execution_count": null,
   "id": "ae19ec5d",
   "metadata": {},
   "outputs": [],
   "source": []
  }
 ],
 "metadata": {
  "kernelspec": {
   "display_name": "Python 3 (ipykernel)",
   "language": "python",
   "name": "python3"
  },
  "language_info": {
   "codemirror_mode": {
    "name": "ipython",
    "version": 3
   },
   "file_extension": ".py",
   "mimetype": "text/x-python",
   "name": "python",
   "nbconvert_exporter": "python",
   "pygments_lexer": "ipython3",
   "version": "3.12.7"
  }
 },
 "nbformat": 4,
 "nbformat_minor": 5
}
