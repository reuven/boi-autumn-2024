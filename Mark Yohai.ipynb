{
 "cells": [
  {
   "cell_type": "code",
   "execution_count": 1,
   "id": "b7ac1e37",
   "metadata": {},
   "outputs": [
    {
     "name": "stdout",
     "output_type": "stream",
     "text": [
      "hello Mark\n"
     ]
    }
   ],
   "source": [
    "print('hello Mark')"
   ]
  },
  {
   "cell_type": "code",
   "execution_count": 3,
   "id": "18e9c616",
   "metadata": {},
   "outputs": [
    {
     "name": "stdout",
     "output_type": "stream",
     "text": [
      "Enter your mame: Mark\n"
     ]
    }
   ],
   "source": [
    "name = input ('Enter your mame: ')"
   ]
  },
  {
   "cell_type": "code",
   "execution_count": 4,
   "id": "0a1a1545",
   "metadata": {},
   "outputs": [
    {
     "name": "stdout",
     "output_type": "stream",
     "text": [
      "Enter your city: Jerusalem\n"
     ]
    }
   ],
   "source": [
    "city = input ('Enter your city: ')"
   ]
  },
  {
   "cell_type": "code",
   "execution_count": 8,
   "id": "fd8d8e66",
   "metadata": {},
   "outputs": [
    {
     "name": "stdout",
     "output_type": "stream",
     "text": [
      "Mark from Jerusalem\n"
     ]
    }
   ],
   "source": [
    "print (name + ' from ' +city)"
   ]
  },
  {
   "cell_type": "code",
   "execution_count": 15,
   "id": "cb4997b2",
   "metadata": {},
   "outputs": [
    {
     "name": "stdout",
     "output_type": "stream",
     "text": [
      "Enter word 1: Dor\n",
      "Enter word 2: Dor\n",
      "the words are identical\n"
     ]
    }
   ],
   "source": [
    "word1 = input('Enter word 1: ')\n",
    "word2 = input('Enter word 2: ')\n",
    "if word1 > word2:\n",
    "    print(f'{word2} comes first')\n",
    "elif word1==word2:\n",
    "    print('the words are identical')\n",
    "else:\n",
    "    print(f'{word1} comes first')"
   ]
  },
  {
   "cell_type": "code",
   "execution_count": null,
   "id": "64f05148",
   "metadata": {},
   "outputs": [],
   "source": [
    "name = input ('Enter your mame: ')\n",
    "city = input ('Enter your city: ')\n",
    "if name==Mark and city==Jerusalem\n",
    "    print(f'{word2} comes first')\n",
    "elif word1==word2:\n",
    "    print('the words are identical')\n",
    "else:\n",
    "    print(f'{word1} comes first')"
   ]
  }
 ],
 "metadata": {
  "kernelspec": {
   "display_name": "Python 3 (ipykernel)",
   "language": "python",
   "name": "python3"
  },
  "language_info": {
   "codemirror_mode": {
    "name": "ipython",
    "version": 3
   },
   "file_extension": ".py",
   "mimetype": "text/x-python",
   "name": "python",
   "nbconvert_exporter": "python",
   "pygments_lexer": "ipython3",
   "version": "3.12.7"
  }
 },
 "nbformat": 4,
 "nbformat_minor": 5
}
