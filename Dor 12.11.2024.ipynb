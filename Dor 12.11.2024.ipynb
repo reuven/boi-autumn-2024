{
 "cells": [
  {
   "cell_type": "code",
   "execution_count": 4,
   "id": "cc4f32e0",
   "metadata": {},
   "outputs": [
    {
     "ename": "TypeError",
     "evalue": "unsupported operand type(s) for &: 'int' and 'str'",
     "output_type": "error",
     "traceback": [
      "\u001b[0;31m---------------------------------------------------------------------------\u001b[0m",
      "\u001b[0;31mTypeError\u001b[0m                                 Traceback (most recent call last)",
      "Cell \u001b[0;32mIn[4], line 1\u001b[0m\n\u001b[0;32m----> 1\u001b[0m \u001b[38;5;28mprint\u001b[39m(\u001b[38;5;241;43m5\u001b[39;49m\u001b[38;5;241;43m&\u001b[39;49m\u001b[38;5;124;43m'\u001b[39;49m\u001b[38;5;124;43mhello\u001b[39;49m\u001b[38;5;124;43m'\u001b[39;49m)\n",
      "\u001b[0;31mTypeError\u001b[0m: unsupported operand type(s) for &: 'int' and 'str'"
     ]
    }
   ],
   "source": [
    "print(5&'hello')"
   ]
  },
  {
   "cell_type": "code",
   "execution_count": 5,
   "id": "e4e143c0",
   "metadata": {
    "scrolled": true
   },
   "outputs": [
    {
     "ename": "TypeError",
     "evalue": "unsupported operand type(s) for +: 'int' and 'str'",
     "output_type": "error",
     "traceback": [
      "\u001b[0;31m---------------------------------------------------------------------------\u001b[0m",
      "\u001b[0;31mTypeError\u001b[0m                                 Traceback (most recent call last)",
      "Cell \u001b[0;32mIn[5], line 1\u001b[0m\n\u001b[0;32m----> 1\u001b[0m \u001b[38;5;28mprint\u001b[39m (\u001b[38;5;241;43m5\u001b[39;49m\u001b[38;5;241;43m+\u001b[39;49m\u001b[38;5;241;43m10\u001b[39;49m\u001b[43m \u001b[49m\u001b[38;5;241;43m+\u001b[39;49m\u001b[43m \u001b[49m\u001b[38;5;124;43m'\u001b[39;49m\u001b[38;5;124;43m hello\u001b[39;49m\u001b[38;5;124;43m'\u001b[39;49m)\n",
      "\u001b[0;31mTypeError\u001b[0m: unsupported operand type(s) for +: 'int' and 'str'"
     ]
    }
   ],
   "source": [
    "print (5+10 + ' hello')"
   ]
  },
  {
   "cell_type": "code",
   "execution_count": 6,
   "id": "47aeadcf",
   "metadata": {
    "scrolled": true
   },
   "outputs": [
    {
     "name": "stdout",
     "output_type": "stream",
     "text": [
      "Hello Python\n"
     ]
    }
   ],
   "source": [
    "print('Hello Python')"
   ]
  },
  {
   "cell_type": "raw",
   "id": "589c166d",
   "metadata": {},
   "source": [
    "print('please assign your name to variable x and a city to variable y')\n",
    "x='Dor'\n",
    "y='Jerusalem'\n",
    "print('Hello ' + x + ', Welcome to ' + y)"
   ]
  },
  {
   "cell_type": "code",
   "execution_count": 8,
   "id": "cb5f23e1",
   "metadata": {},
   "outputs": [
    {
     "name": "stdout",
     "output_type": "stream",
     "text": [
      "Enter your Name: Dor\n",
      "Enter your Name: Jerusalem\n",
      "Hello Dor, Welcome to Jerusalem\n"
     ]
    }
   ],
   "source": [
    "x=input('Enter your Name: ')\n",
    "y=input('Enter your Name: ')\n",
    "print('Hello ' + x + ', Welcome to ' + y)"
   ]
  },
  {
   "cell_type": "code",
   "execution_count": 9,
   "id": "9dd95b7b",
   "metadata": {},
   "outputs": [
    {
     "name": "stdout",
     "output_type": "stream",
     "text": [
      "Hello Dor, Welcome to Jerusalem\n"
     ]
    }
   ],
   "source": [
    "print(f'Hello {x}, Welcome to {y}')"
   ]
  },
  {
   "cell_type": "code",
   "execution_count": 10,
   "id": "b91ca94b",
   "metadata": {},
   "outputs": [
    {
     "name": "stdout",
     "output_type": "stream",
     "text": [
      "Hi, what is your name?Dor\n"
     ]
    }
   ],
   "source": [
    "name=input('Hi, what is your name?')"
   ]
  },
  {
   "cell_type": "code",
   "execution_count": 11,
   "id": "adf86571",
   "metadata": {},
   "outputs": [
    {
     "ename": "SyntaxError",
     "evalue": "invalid syntax (3920517076.py, line 4)",
     "output_type": "error",
     "traceback": [
      "\u001b[0;36m  Cell \u001b[0;32mIn[11], line 4\u001b[0;36m\u001b[0m\n\u001b[0;31m    Else:\u001b[0m\n\u001b[0m         ^\u001b[0m\n\u001b[0;31mSyntaxError\u001b[0m\u001b[0;31m:\u001b[0m invalid syntax\n"
     ]
    }
   ],
   "source": [
    "name=input('Hi, what is your name?')\n",
    "if name=='Dor':\n",
    "    print ('You are the best!')\n",
    "Else:\n",
    "    print(f'Nice to meet you {name}')"
   ]
  },
  {
   "cell_type": "code",
   "execution_count": null,
   "id": "e40fed01",
   "metadata": {},
   "outputs": [],
   "source": [
    "name=input('Hi, what is your name?')\n",
    "if name=='Dor':\n",
    "    print ('You are the best!')\n",
    "Else:\n",
    "    print(f'Nice to meet you {name}')\n",
    "end if"
   ]
  },
  {
   "cell_type": "code",
   "execution_count": 12,
   "id": "565758b1",
   "metadata": {},
   "outputs": [
    {
     "ename": "SyntaxError",
     "evalue": "invalid syntax (3920517076.py, line 4)",
     "output_type": "error",
     "traceback": [
      "\u001b[0;36m  Cell \u001b[0;32mIn[12], line 4\u001b[0;36m\u001b[0m\n\u001b[0;31m    Else:\u001b[0m\n\u001b[0m         ^\u001b[0m\n\u001b[0;31mSyntaxError\u001b[0m\u001b[0;31m:\u001b[0m invalid syntax\n"
     ]
    }
   ],
   "source": [
    "name=input('Hi, what is your name?')\n",
    "if name=='Dor':\n",
    "    print ('You are the best!')\n",
    "Else:\n",
    "    print(f'Nice to meet you {name}')"
   ]
  },
  {
   "cell_type": "code",
   "execution_count": 13,
   "id": "fa539bf7",
   "metadata": {},
   "outputs": [
    {
     "name": "stdout",
     "output_type": "stream",
     "text": [
      "Hi, what is your name?Dor\n",
      "You are the best!\n"
     ]
    }
   ],
   "source": [
    "name=input('Hi, what is your name?')\n",
    "if name=='Dor':\n",
    "    print ('You are the best!')\n",
    "else:\n",
    "    print(f'Nice to meet you {name}')"
   ]
  },
  {
   "cell_type": "code",
   "execution_count": 14,
   "id": "6ee1baa5",
   "metadata": {},
   "outputs": [
    {
     "name": "stdout",
     "output_type": "stream",
     "text": [
      "Hi, what is your name?Kevin\n",
      "Nice to meet you Kevin\n"
     ]
    }
   ],
   "source": [
    "name=input('Hi, what is your name?')\n",
    "if name=='Dor':\n",
    "    print ('You are the best!')\n",
    "else:\n",
    "    print(f'Nice to meet you {name}')"
   ]
  },
  {
   "cell_type": "code",
   "execution_count": 17,
   "id": "e96b6463",
   "metadata": {},
   "outputs": [
    {
     "name": "stdout",
     "output_type": "stream",
     "text": [
      "please enter a word:\n",
      "please enter another word:\n",
      "you chose the same word, you sneaky bastard\n"
     ]
    }
   ],
   "source": [
    "word1=input('please enter a word:')\n",
    "word2=input('please enter another word:')\n",
    "if word1>word2:\n",
    "    print(f'{word1} comes before {word2}')\n",
    "elif word2>word1:\n",
    "    print(f'{word2} comes before {word1}')\n",
    "else:\n",
    "    print('you chose the same word, you sneaky bastard')"
   ]
  },
  {
   "cell_type": "code",
   "execution_count": 21,
   "id": "1ece534a",
   "metadata": {},
   "outputs": [
    {
     "name": "stdout",
     "output_type": "stream",
     "text": [
      "please enter your name:Eli\n",
      "Hello Eli, where do you live?Jerusalem\n",
      "Okay, nice to meet you\n"
     ]
    }
   ],
   "source": [
    "name=input('please enter your name:')\n",
    "city=input(f'Hello {name}, where do you live?')\n",
    "if name=='Dor' and city=='Modiin':\n",
    "    print(\"Hi, I'm Also Dor and I also Live in Modiin\")\n",
    "elif name=='Dor':\n",
    "    print(\"Hi, I'm Also Dor\")\n",
    "elif city==\"Modiin\":\n",
    "    print ('Wow, I also live in Modiin')\n",
    "else:\n",
    "    print ('Okay, nice to meet you')"
   ]
  },
  {
   "cell_type": "code",
   "execution_count": null,
   "id": "d069486f",
   "metadata": {},
   "outputs": [],
   "source": []
  }
 ],
 "metadata": {
  "kernelspec": {
   "display_name": "Python 3 (ipykernel)",
   "language": "python",
   "name": "python3"
  },
  "language_info": {
   "codemirror_mode": {
    "name": "ipython",
    "version": 3
   },
   "file_extension": ".py",
   "mimetype": "text/x-python",
   "name": "python",
   "nbconvert_exporter": "python",
   "pygments_lexer": "ipython3",
   "version": "3.12.7"
  }
 },
 "nbformat": 4,
 "nbformat_minor": 5
}
