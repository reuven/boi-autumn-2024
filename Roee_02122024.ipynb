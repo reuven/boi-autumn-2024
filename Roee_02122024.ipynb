{
 "cells": [
  {
   "cell_type": "code",
   "execution_count": 1,
   "id": "62aec591",
   "metadata": {},
   "outputs": [
    {
     "data": {
      "text/plain": [
       "62"
      ]
     },
     "execution_count": 1,
     "metadata": {},
     "output_type": "execute_result"
    }
   ],
   "source": [
    "import random\n",
    "\n",
    "random.randint(0,100)\n",
    "\n"
   ]
  },
  {
   "cell_type": "code",
   "execution_count": 4,
   "id": "4eb98c8f",
   "metadata": {},
   "outputs": [
    {
     "data": {
      "text/plain": [
       "0    10\n",
       "1    20\n",
       "2    30\n",
       "3    40\n",
       "4    50\n",
       "5    70\n",
       "dtype: int64"
      ]
     },
     "execution_count": 4,
     "metadata": {},
     "output_type": "execute_result"
    }
   ],
   "source": [
    "import pandas as pd\n",
    "from pandas import Series, DataFrame\n",
    "\n",
    "s= Series([10,20,30,40,50,70])\n",
    "s\n"
   ]
  },
  {
   "cell_type": "code",
   "execution_count": 6,
   "id": "de757ff8",
   "metadata": {},
   "outputs": [
    {
     "data": {
      "text/plain": [
       "220"
      ]
     },
     "execution_count": 6,
     "metadata": {},
     "output_type": "execute_result"
    }
   ],
   "source": [
    "s.sum()\n",
    "\n"
   ]
  },
  {
   "cell_type": "code",
   "execution_count": 30,
   "id": "010197e4",
   "metadata": {},
   "outputs": [
    {
     "name": "stdout",
     "output_type": "stream",
     "text": [
      "count    10.000000\n",
      "mean     30.300000\n",
      "std       2.830391\n",
      "min      26.000000\n",
      "25%      28.250000\n",
      "50%      30.500000\n",
      "75%      32.000000\n",
      "max      35.000000\n",
      "dtype: float64\n",
      "Maximum temp in first 5 days: maxTemp[0:5].max()\n"
     ]
    }
   ],
   "source": [
    "maxTemp = Series([30,29,28,32,33,35,26,27,31,32])\n",
    "\n",
    "print(maxTemp.describe())\n",
    "print(f'Maximum temp in first 5 days: maxTemp[0:5].max()')"
   ]
  },
  {
   "cell_type": "code",
   "execution_count": 41,
   "id": "dcbc6708",
   "metadata": {},
   "outputs": [
    {
     "name": "stdout",
     "output_type": "stream",
     "text": [
      "Over the mean:\n",
      "Roee     47\n",
      "Einat    46\n",
      "Shosy    67\n",
      "dtype: int64\n",
      "\n",
      "1 sd below mean:\n",
      "Eyal    5\n",
      "dtype: int64\n"
     ]
    }
   ],
   "source": [
    "age = Series([47,46,19,16,12,5,67],index=('Roee Einat talia Raz Noga Eyal Shosy').split())\n",
    "print (f'Over the mean:\\n{age.loc[age>age.mean()]}\\n')\n",
    "print (f'1 sd below mean:\\n{age.loc[age<(age.mean()-age.std())]}')"
   ]
  },
  {
   "cell_type": "code",
   "execution_count": 47,
   "id": "07b76c65",
   "metadata": {},
   "outputs": [
    {
     "data": {
      "text/plain": [
       "02    64\n",
       "03    64\n",
       "04    66\n",
       "05    68\n",
       "06    66\n",
       "07    68\n",
       "08    66\n",
       "09    68\n",
       "10    69\n",
       "11    66\n",
       "dtype: int8"
      ]
     },
     "execution_count": 47,
     "metadata": {},
     "output_type": "execute_result"
    }
   ],
   "source": [
    "highs = Series([18, 18, 19, 20, 19, 20, 19, 20, 21, 19],\n",
    "              index='02 03 04 05 06 07 08 09 10 11'.split())\n",
    "lows = Series([6, 8, 8, 9, 8, 9, 8, 9, 8, 7],\n",
    "              index='02 03 04 05 06 07 08 09 10 11'.split())\n",
    "\n",
    "highs = highs*1.8 + 32\n",
    "\n",
    "highs = highs.astype('int8')\n",
    "highs"
   ]
  },
  {
   "cell_type": "code",
   "execution_count": 63,
   "id": "0e700552",
   "metadata": {},
   "outputs": [
    {
     "name": "stdout",
     "output_type": "stream",
     "text": [
      "19.3\n",
      "0.9486832980505138\n",
      "21.0\n",
      "02    18.0\n",
      "03    18.0\n",
      "04    21.0\n",
      "05    21.0\n",
      "06    21.0\n",
      "07    20.0\n",
      "08    19.0\n",
      "09    20.0\n",
      "10    21.0\n",
      "11    19.0\n",
      "dtype: float64\n",
      "19.8\n",
      "1.2292725943057181\n"
     ]
    }
   ],
   "source": [
    "import numpy as np\n",
    "highs = Series([18, 18, 19, 20, 19, 20, 19, 20, 21, 19],\n",
    "              index='02 03 04 05 06 07 08 09 10 11'.split())\n",
    "print (highs.mean())\n",
    "print (highs.std())\n",
    "\n",
    "highs['04':'06'] = np.nan\n",
    "print(highs.max())\n",
    "\n",
    "highs=highs.fillna(highs.max())\n",
    "\n",
    "\n",
    "print(highs)\n",
    "\n",
    "print (highs.mean())\n",
    "print (highs.std())\n"
   ]
  },
  {
   "cell_type": "code",
   "execution_count": 67,
   "id": "e5ca79e0",
   "metadata": {},
   "outputs": [
    {
     "data": {
      "text/plain": [
       "07    22\n",
       "06    21\n",
       "10    21\n",
       "dtype: int64"
      ]
     },
     "execution_count": 67,
     "metadata": {},
     "output_type": "execute_result"
    }
   ],
   "source": [
    "highs = Series([18, 17, 19, 20, 21, 22, 19, 20, 21, 18],\n",
    "              index='02 03 04 05 06 07 08 09 10 11'.split())\n",
    "\n",
    "highs.sort_values(ascending=False).head(3)"
   ]
  },
  {
   "cell_type": "code",
   "execution_count": 68,
   "id": "160d6743",
   "metadata": {},
   "outputs": [
    {
     "data": {
      "text/plain": [
       "07    22\n",
       "06    21\n",
       "10    21\n",
       "dtype: int64"
      ]
     },
     "execution_count": 68,
     "metadata": {},
     "output_type": "execute_result"
    }
   ],
   "source": [
    "highs.nlargest(3)\n"
   ]
  },
  {
   "cell_type": "code",
   "execution_count": 69,
   "id": "776c00b2",
   "metadata": {},
   "outputs": [
    {
     "data": {
      "text/plain": [
       "04    19\n",
       "08    19\n",
       "05    20\n",
       "dtype: int64"
      ]
     },
     "execution_count": 69,
     "metadata": {},
     "output_type": "execute_result"
    }
   ],
   "source": [
    "highs.loc['04':'08'].nsmallest(3)"
   ]
  },
  {
   "cell_type": "code",
   "execution_count": 81,
   "id": "39b7a46f",
   "metadata": {
    "scrolled": true
   },
   "outputs": [
    {
     "data": {
      "text/html": [
       "<div>\n",
       "<style scoped>\n",
       "    .dataframe tbody tr th:only-of-type {\n",
       "        vertical-align: middle;\n",
       "    }\n",
       "\n",
       "    .dataframe tbody tr th {\n",
       "        vertical-align: top;\n",
       "    }\n",
       "\n",
       "    .dataframe thead th {\n",
       "        text-align: right;\n",
       "    }\n",
       "</style>\n",
       "<table border=\"1\" class=\"dataframe\">\n",
       "  <thead>\n",
       "    <tr style=\"text-align: right;\">\n",
       "      <th></th>\n",
       "      <th>passenger_count</th>\n",
       "      <th>trip_distance</th>\n",
       "      <th>total_amount</th>\n",
       "    </tr>\n",
       "  </thead>\n",
       "  <tbody>\n",
       "    <tr>\n",
       "      <th>count</th>\n",
       "      <td>9999.000000</td>\n",
       "      <td>9999.000000</td>\n",
       "      <td>9999.000000</td>\n",
       "    </tr>\n",
       "    <tr>\n",
       "      <th>mean</th>\n",
       "      <td>1.659466</td>\n",
       "      <td>3.158511</td>\n",
       "      <td>17.552472</td>\n",
       "    </tr>\n",
       "    <tr>\n",
       "      <th>std</th>\n",
       "      <td>1.333306</td>\n",
       "      <td>4.037516</td>\n",
       "      <td>15.137990</td>\n",
       "    </tr>\n",
       "    <tr>\n",
       "      <th>min</th>\n",
       "      <td>0.000000</td>\n",
       "      <td>0.000000</td>\n",
       "      <td>-7.800000</td>\n",
       "    </tr>\n",
       "    <tr>\n",
       "      <th>25%</th>\n",
       "      <td>1.000000</td>\n",
       "      <td>1.000000</td>\n",
       "      <td>8.800000</td>\n",
       "    </tr>\n",
       "    <tr>\n",
       "      <th>50%</th>\n",
       "      <td>1.000000</td>\n",
       "      <td>1.700000</td>\n",
       "      <td>12.800000</td>\n",
       "    </tr>\n",
       "    <tr>\n",
       "      <th>75%</th>\n",
       "      <td>2.000000</td>\n",
       "      <td>3.300000</td>\n",
       "      <td>19.800000</td>\n",
       "    </tr>\n",
       "    <tr>\n",
       "      <th>max</th>\n",
       "      <td>6.000000</td>\n",
       "      <td>64.600000</td>\n",
       "      <td>252.350000</td>\n",
       "    </tr>\n",
       "  </tbody>\n",
       "</table>\n",
       "</div>"
      ],
      "text/plain": [
       "       passenger_count  trip_distance  total_amount\n",
       "count      9999.000000    9999.000000   9999.000000\n",
       "mean          1.659466       3.158511     17.552472\n",
       "std           1.333306       4.037516     15.137990\n",
       "min           0.000000       0.000000     -7.800000\n",
       "25%           1.000000       1.000000      8.800000\n",
       "50%           1.000000       1.700000     12.800000\n",
       "75%           2.000000       3.300000     19.800000\n",
       "max           6.000000      64.600000    252.350000"
      ]
     },
     "execution_count": 81,
     "metadata": {},
     "output_type": "execute_result"
    }
   ],
   "source": [
    "df = pd.read_csv('taxi.csv')\n",
    "df[['passenger_count', 'trip_distance', 'total_amount']].describe()\n"
   ]
  },
  {
   "cell_type": "code",
   "execution_count": 87,
   "id": "4cbba088",
   "metadata": {},
   "outputs": [
    {
     "data": {
      "text/plain": [
       "passenger_count\n",
       "1    7207\n",
       "Name: count, dtype: int64"
      ]
     },
     "execution_count": 87,
     "metadata": {},
     "output_type": "execute_result"
    }
   ],
   "source": [
    "df['passenger_count'].value_counts().nlargest(1)"
   ]
  },
  {
   "cell_type": "code",
   "execution_count": 93,
   "id": "3be75f9e",
   "metadata": {},
   "outputs": [
    {
     "data": {
      "text/html": [
       "<div>\n",
       "<style scoped>\n",
       "    .dataframe tbody tr th:only-of-type {\n",
       "        vertical-align: middle;\n",
       "    }\n",
       "\n",
       "    .dataframe tbody tr th {\n",
       "        vertical-align: top;\n",
       "    }\n",
       "\n",
       "    .dataframe thead th {\n",
       "        text-align: right;\n",
       "    }\n",
       "</style>\n",
       "<table border=\"1\" class=\"dataframe\">\n",
       "  <thead>\n",
       "    <tr style=\"text-align: right;\">\n",
       "      <th></th>\n",
       "      <th>VendorID</th>\n",
       "      <th>tpep_pickup_datetime</th>\n",
       "      <th>tpep_dropoff_datetime</th>\n",
       "      <th>passenger_count</th>\n",
       "      <th>trip_distance</th>\n",
       "      <th>pickup_longitude</th>\n",
       "      <th>pickup_latitude</th>\n",
       "      <th>RateCodeID</th>\n",
       "      <th>store_and_fwd_flag</th>\n",
       "      <th>dropoff_longitude</th>\n",
       "      <th>dropoff_latitude</th>\n",
       "      <th>payment_type</th>\n",
       "      <th>fare_amount</th>\n",
       "      <th>extra</th>\n",
       "      <th>mta_tax</th>\n",
       "      <th>tip_amount</th>\n",
       "      <th>tolls_amount</th>\n",
       "      <th>improvement_surcharge</th>\n",
       "      <th>total_amount</th>\n",
       "    </tr>\n",
       "  </thead>\n",
       "  <tbody>\n",
       "    <tr>\n",
       "      <th>149</th>\n",
       "      <td>1</td>\n",
       "      <td>2015-06-02 11:21:25</td>\n",
       "      <td>2015-06-02 11:21:50</td>\n",
       "      <td>1</td>\n",
       "      <td>0.0</td>\n",
       "      <td>-73.978493</td>\n",
       "      <td>40.748562</td>\n",
       "      <td>1</td>\n",
       "      <td>N</td>\n",
       "      <td>-73.978493</td>\n",
       "      <td>40.748604</td>\n",
       "      <td>1</td>\n",
       "      <td>2.5</td>\n",
       "      <td>0.0</td>\n",
       "      <td>0.5</td>\n",
       "      <td>1.00</td>\n",
       "      <td>0.00</td>\n",
       "      <td>0.3</td>\n",
       "      <td>4.30</td>\n",
       "    </tr>\n",
       "    <tr>\n",
       "      <th>246</th>\n",
       "      <td>1</td>\n",
       "      <td>2015-06-02 11:19:46</td>\n",
       "      <td>2015-06-02 12:26:33</td>\n",
       "      <td>1</td>\n",
       "      <td>0.0</td>\n",
       "      <td>-73.983200</td>\n",
       "      <td>40.766949</td>\n",
       "      <td>1</td>\n",
       "      <td>N</td>\n",
       "      <td>-73.990410</td>\n",
       "      <td>40.766872</td>\n",
       "      <td>2</td>\n",
       "      <td>2.5</td>\n",
       "      <td>0.0</td>\n",
       "      <td>0.5</td>\n",
       "      <td>0.00</td>\n",
       "      <td>0.00</td>\n",
       "      <td>0.3</td>\n",
       "      <td>3.30</td>\n",
       "    </tr>\n",
       "    <tr>\n",
       "      <th>297</th>\n",
       "      <td>2</td>\n",
       "      <td>2015-06-02 11:20:23</td>\n",
       "      <td>2015-06-02 11:20:23</td>\n",
       "      <td>2</td>\n",
       "      <td>0.0</td>\n",
       "      <td>-73.937851</td>\n",
       "      <td>40.758236</td>\n",
       "      <td>1</td>\n",
       "      <td>N</td>\n",
       "      <td>0.000000</td>\n",
       "      <td>0.000000</td>\n",
       "      <td>2</td>\n",
       "      <td>1.5</td>\n",
       "      <td>0.0</td>\n",
       "      <td>0.5</td>\n",
       "      <td>0.00</td>\n",
       "      <td>0.00</td>\n",
       "      <td>0.3</td>\n",
       "      <td>2.30</td>\n",
       "    </tr>\n",
       "    <tr>\n",
       "      <th>657</th>\n",
       "      <td>1</td>\n",
       "      <td>2015-06-02 11:24:33</td>\n",
       "      <td>2015-06-02 11:24:50</td>\n",
       "      <td>1</td>\n",
       "      <td>0.0</td>\n",
       "      <td>-73.996460</td>\n",
       "      <td>40.732124</td>\n",
       "      <td>5</td>\n",
       "      <td>N</td>\n",
       "      <td>-73.996429</td>\n",
       "      <td>40.732147</td>\n",
       "      <td>1</td>\n",
       "      <td>12.0</td>\n",
       "      <td>0.0</td>\n",
       "      <td>0.0</td>\n",
       "      <td>3.05</td>\n",
       "      <td>0.00</td>\n",
       "      <td>0.3</td>\n",
       "      <td>15.35</td>\n",
       "    </tr>\n",
       "    <tr>\n",
       "      <th>660</th>\n",
       "      <td>2</td>\n",
       "      <td>2015-06-02 11:24:35</td>\n",
       "      <td>2015-06-02 11:24:40</td>\n",
       "      <td>1</td>\n",
       "      <td>0.0</td>\n",
       "      <td>0.000000</td>\n",
       "      <td>0.000000</td>\n",
       "      <td>1</td>\n",
       "      <td>N</td>\n",
       "      <td>-73.749077</td>\n",
       "      <td>40.707611</td>\n",
       "      <td>2</td>\n",
       "      <td>2.5</td>\n",
       "      <td>0.0</td>\n",
       "      <td>0.5</td>\n",
       "      <td>0.00</td>\n",
       "      <td>0.00</td>\n",
       "      <td>0.3</td>\n",
       "      <td>3.30</td>\n",
       "    </tr>\n",
       "    <tr>\n",
       "      <th>...</th>\n",
       "      <td>...</td>\n",
       "      <td>...</td>\n",
       "      <td>...</td>\n",
       "      <td>...</td>\n",
       "      <td>...</td>\n",
       "      <td>...</td>\n",
       "      <td>...</td>\n",
       "      <td>...</td>\n",
       "      <td>...</td>\n",
       "      <td>...</td>\n",
       "      <td>...</td>\n",
       "      <td>...</td>\n",
       "      <td>...</td>\n",
       "      <td>...</td>\n",
       "      <td>...</td>\n",
       "      <td>...</td>\n",
       "      <td>...</td>\n",
       "      <td>...</td>\n",
       "      <td>...</td>\n",
       "    </tr>\n",
       "    <tr>\n",
       "      <th>9016</th>\n",
       "      <td>1</td>\n",
       "      <td>2015-06-01 00:07:43</td>\n",
       "      <td>2015-06-01 00:07:43</td>\n",
       "      <td>1</td>\n",
       "      <td>0.0</td>\n",
       "      <td>-74.007530</td>\n",
       "      <td>40.740753</td>\n",
       "      <td>1</td>\n",
       "      <td>N</td>\n",
       "      <td>0.000000</td>\n",
       "      <td>0.000000</td>\n",
       "      <td>2</td>\n",
       "      <td>5.0</td>\n",
       "      <td>0.5</td>\n",
       "      <td>0.5</td>\n",
       "      <td>0.00</td>\n",
       "      <td>0.00</td>\n",
       "      <td>0.3</td>\n",
       "      <td>6.30</td>\n",
       "    </tr>\n",
       "    <tr>\n",
       "      <th>9087</th>\n",
       "      <td>1</td>\n",
       "      <td>2015-06-01 00:07:39</td>\n",
       "      <td>2015-06-01 00:07:49</td>\n",
       "      <td>2</td>\n",
       "      <td>0.0</td>\n",
       "      <td>-73.971931</td>\n",
       "      <td>40.791393</td>\n",
       "      <td>2</td>\n",
       "      <td>N</td>\n",
       "      <td>-73.971939</td>\n",
       "      <td>40.791382</td>\n",
       "      <td>1</td>\n",
       "      <td>52.0</td>\n",
       "      <td>0.0</td>\n",
       "      <td>0.5</td>\n",
       "      <td>11.65</td>\n",
       "      <td>5.54</td>\n",
       "      <td>0.3</td>\n",
       "      <td>69.99</td>\n",
       "    </tr>\n",
       "    <tr>\n",
       "      <th>9093</th>\n",
       "      <td>2</td>\n",
       "      <td>2015-06-01 00:07:46</td>\n",
       "      <td>2015-06-01 00:07:51</td>\n",
       "      <td>1</td>\n",
       "      <td>0.0</td>\n",
       "      <td>0.000000</td>\n",
       "      <td>0.000000</td>\n",
       "      <td>2</td>\n",
       "      <td>N</td>\n",
       "      <td>0.000000</td>\n",
       "      <td>0.000000</td>\n",
       "      <td>1</td>\n",
       "      <td>52.0</td>\n",
       "      <td>0.0</td>\n",
       "      <td>0.5</td>\n",
       "      <td>13.20</td>\n",
       "      <td>0.00</td>\n",
       "      <td>0.3</td>\n",
       "      <td>66.00</td>\n",
       "    </tr>\n",
       "    <tr>\n",
       "      <th>9740</th>\n",
       "      <td>1</td>\n",
       "      <td>2015-06-01 00:12:13</td>\n",
       "      <td>2015-06-01 00:13:47</td>\n",
       "      <td>1</td>\n",
       "      <td>0.0</td>\n",
       "      <td>-74.005714</td>\n",
       "      <td>40.740582</td>\n",
       "      <td>1</td>\n",
       "      <td>N</td>\n",
       "      <td>-74.005417</td>\n",
       "      <td>40.740803</td>\n",
       "      <td>3</td>\n",
       "      <td>3.0</td>\n",
       "      <td>0.5</td>\n",
       "      <td>0.5</td>\n",
       "      <td>0.00</td>\n",
       "      <td>0.00</td>\n",
       "      <td>0.3</td>\n",
       "      <td>4.30</td>\n",
       "    </tr>\n",
       "    <tr>\n",
       "      <th>9761</th>\n",
       "      <td>1</td>\n",
       "      <td>2015-06-01 00:12:46</td>\n",
       "      <td>2015-06-01 00:12:46</td>\n",
       "      <td>1</td>\n",
       "      <td>0.0</td>\n",
       "      <td>-73.999535</td>\n",
       "      <td>40.738533</td>\n",
       "      <td>1</td>\n",
       "      <td>N</td>\n",
       "      <td>0.000000</td>\n",
       "      <td>0.000000</td>\n",
       "      <td>2</td>\n",
       "      <td>4.5</td>\n",
       "      <td>0.5</td>\n",
       "      <td>0.5</td>\n",
       "      <td>0.00</td>\n",
       "      <td>0.00</td>\n",
       "      <td>0.3</td>\n",
       "      <td>5.80</td>\n",
       "    </tr>\n",
       "  </tbody>\n",
       "</table>\n",
       "<p>67 rows × 19 columns</p>\n",
       "</div>"
      ],
      "text/plain": [
       "      VendorID tpep_pickup_datetime tpep_dropoff_datetime  passenger_count  \\\n",
       "149          1  2015-06-02 11:21:25   2015-06-02 11:21:50                1   \n",
       "246          1  2015-06-02 11:19:46   2015-06-02 12:26:33                1   \n",
       "297          2  2015-06-02 11:20:23   2015-06-02 11:20:23                2   \n",
       "657          1  2015-06-02 11:24:33   2015-06-02 11:24:50                1   \n",
       "660          2  2015-06-02 11:24:35   2015-06-02 11:24:40                1   \n",
       "...        ...                  ...                   ...              ...   \n",
       "9016         1  2015-06-01 00:07:43   2015-06-01 00:07:43                1   \n",
       "9087         1  2015-06-01 00:07:39   2015-06-01 00:07:49                2   \n",
       "9093         2  2015-06-01 00:07:46   2015-06-01 00:07:51                1   \n",
       "9740         1  2015-06-01 00:12:13   2015-06-01 00:13:47                1   \n",
       "9761         1  2015-06-01 00:12:46   2015-06-01 00:12:46                1   \n",
       "\n",
       "      trip_distance  pickup_longitude  pickup_latitude  RateCodeID  \\\n",
       "149             0.0        -73.978493        40.748562           1   \n",
       "246             0.0        -73.983200        40.766949           1   \n",
       "297             0.0        -73.937851        40.758236           1   \n",
       "657             0.0        -73.996460        40.732124           5   \n",
       "660             0.0          0.000000         0.000000           1   \n",
       "...             ...               ...              ...         ...   \n",
       "9016            0.0        -74.007530        40.740753           1   \n",
       "9087            0.0        -73.971931        40.791393           2   \n",
       "9093            0.0          0.000000         0.000000           2   \n",
       "9740            0.0        -74.005714        40.740582           1   \n",
       "9761            0.0        -73.999535        40.738533           1   \n",
       "\n",
       "     store_and_fwd_flag  dropoff_longitude  dropoff_latitude  payment_type  \\\n",
       "149                   N         -73.978493         40.748604             1   \n",
       "246                   N         -73.990410         40.766872             2   \n",
       "297                   N           0.000000          0.000000             2   \n",
       "657                   N         -73.996429         40.732147             1   \n",
       "660                   N         -73.749077         40.707611             2   \n",
       "...                 ...                ...               ...           ...   \n",
       "9016                  N           0.000000          0.000000             2   \n",
       "9087                  N         -73.971939         40.791382             1   \n",
       "9093                  N           0.000000          0.000000             1   \n",
       "9740                  N         -74.005417         40.740803             3   \n",
       "9761                  N           0.000000          0.000000             2   \n",
       "\n",
       "      fare_amount  extra  mta_tax  tip_amount  tolls_amount  \\\n",
       "149           2.5    0.0      0.5        1.00          0.00   \n",
       "246           2.5    0.0      0.5        0.00          0.00   \n",
       "297           1.5    0.0      0.5        0.00          0.00   \n",
       "657          12.0    0.0      0.0        3.05          0.00   \n",
       "660           2.5    0.0      0.5        0.00          0.00   \n",
       "...           ...    ...      ...         ...           ...   \n",
       "9016          5.0    0.5      0.5        0.00          0.00   \n",
       "9087         52.0    0.0      0.5       11.65          5.54   \n",
       "9093         52.0    0.0      0.5       13.20          0.00   \n",
       "9740          3.0    0.5      0.5        0.00          0.00   \n",
       "9761          4.5    0.5      0.5        0.00          0.00   \n",
       "\n",
       "      improvement_surcharge  total_amount  \n",
       "149                     0.3          4.30  \n",
       "246                     0.3          3.30  \n",
       "297                     0.3          2.30  \n",
       "657                     0.3         15.35  \n",
       "660                     0.3          3.30  \n",
       "...                     ...           ...  \n",
       "9016                    0.3          6.30  \n",
       "9087                    0.3         69.99  \n",
       "9093                    0.3         66.00  \n",
       "9740                    0.3          4.30  \n",
       "9761                    0.3          5.80  \n",
       "\n",
       "[67 rows x 19 columns]"
      ]
     },
     "execution_count": 93,
     "metadata": {},
     "output_type": "execute_result"
    }
   ],
   "source": [
    "df.loc[df['trip_distance'] == 0]"
   ]
  },
  {
   "cell_type": "code",
   "execution_count": 92,
   "id": "a622ee90",
   "metadata": {},
   "outputs": [
    {
     "data": {
      "text/plain": [
       "17.552472247224728"
      ]
     },
     "execution_count": 92,
     "metadata": {},
     "output_type": "execute_result"
    }
   ],
   "source": [
    "df['total_amount'].mean()"
   ]
  }
 ],
 "metadata": {
  "kernelspec": {
   "display_name": "Python 3 (ipykernel)",
   "language": "python",
   "name": "python3"
  },
  "language_info": {
   "codemirror_mode": {
    "name": "ipython",
    "version": 3
   },
   "file_extension": ".py",
   "mimetype": "text/x-python",
   "name": "python",
   "nbconvert_exporter": "python",
   "pygments_lexer": "ipython3",
   "version": "3.12.7"
  }
 },
 "nbformat": 4,
 "nbformat_minor": 5
}
