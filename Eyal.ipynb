{
 "cells": [
  {
   "cell_type": "code",
   "execution_count": 1,
   "id": "662faae0",
   "metadata": {},
   "outputs": [],
   "source": [
    "import random"
   ]
  },
  {
   "cell_type": "code",
   "execution_count": 2,
   "id": "8eb6a38f",
   "metadata": {},
   "outputs": [
    {
     "data": {
      "text/plain": [
       "12"
      ]
     },
     "execution_count": 2,
     "metadata": {},
     "output_type": "execute_result"
    }
   ],
   "source": [
    "random.randint(0,50)"
   ]
  },
  {
   "cell_type": "code",
   "execution_count": 3,
   "id": "c2cea4bf",
   "metadata": {},
   "outputs": [],
   "source": [
    "import pandas as pd"
   ]
  },
  {
   "cell_type": "code",
   "execution_count": 4,
   "id": "46dd7a38",
   "metadata": {},
   "outputs": [],
   "source": [
    "from pandas import Series, DataFrame"
   ]
  },
  {
   "cell_type": "code",
   "execution_count": 5,
   "id": "00e207b2",
   "metadata": {},
   "outputs": [],
   "source": [
    "s = Series([1,2,3,4,5,6,7])"
   ]
  },
  {
   "cell_type": "code",
   "execution_count": 6,
   "id": "c01016ce",
   "metadata": {},
   "outputs": [
    {
     "data": {
      "text/plain": [
       "0    1\n",
       "1    2\n",
       "2    3\n",
       "3    4\n",
       "4    5\n",
       "5    6\n",
       "6    7\n",
       "dtype: int64"
      ]
     },
     "execution_count": 6,
     "metadata": {},
     "output_type": "execute_result"
    }
   ],
   "source": [
    "s"
   ]
  },
  {
   "cell_type": "code",
   "execution_count": 7,
   "id": "531f017b",
   "metadata": {},
   "outputs": [
    {
     "data": {
      "text/plain": [
       "2"
      ]
     },
     "execution_count": 7,
     "metadata": {},
     "output_type": "execute_result"
    }
   ],
   "source": [
    "s[1]"
   ]
  },
  {
   "cell_type": "code",
   "execution_count": 8,
   "id": "19dadb95",
   "metadata": {},
   "outputs": [
    {
     "ename": "AttributeError",
     "evalue": "'Series' object has no attribute 'len'",
     "output_type": "error",
     "traceback": [
      "\u001b[0;31m---------------------------------------------------------------------------\u001b[0m",
      "\u001b[0;31mAttributeError\u001b[0m                            Traceback (most recent call last)",
      "\u001b[0;32m/tmp/ipykernel_1648/2847171261.py\u001b[0m in \u001b[0;36m?\u001b[0;34m()\u001b[0m\n\u001b[0;32m----> 1\u001b[0;31m \u001b[0ms\u001b[0m\u001b[0;34m.\u001b[0m\u001b[0mlen\u001b[0m\u001b[0;34m(\u001b[0m\u001b[0;34m)\u001b[0m\u001b[0;34m\u001b[0m\u001b[0;34m\u001b[0m\u001b[0m\n\u001b[0m",
      "\u001b[0;32m/usr/lib/python3/dist-packages/pandas/core/generic.py\u001b[0m in \u001b[0;36m?\u001b[0;34m(self, name)\u001b[0m\n\u001b[1;32m   6295\u001b[0m             \u001b[0;32mand\u001b[0m \u001b[0mname\u001b[0m \u001b[0;32mnot\u001b[0m \u001b[0;32min\u001b[0m \u001b[0mself\u001b[0m\u001b[0;34m.\u001b[0m\u001b[0m_accessors\u001b[0m\u001b[0;34m\u001b[0m\u001b[0;34m\u001b[0m\u001b[0m\n\u001b[1;32m   6296\u001b[0m             \u001b[0;32mand\u001b[0m \u001b[0mself\u001b[0m\u001b[0;34m.\u001b[0m\u001b[0m_info_axis\u001b[0m\u001b[0;34m.\u001b[0m\u001b[0m_can_hold_identifiers_and_holds_name\u001b[0m\u001b[0;34m(\u001b[0m\u001b[0mname\u001b[0m\u001b[0;34m)\u001b[0m\u001b[0;34m\u001b[0m\u001b[0;34m\u001b[0m\u001b[0m\n\u001b[1;32m   6297\u001b[0m         \u001b[0;34m)\u001b[0m\u001b[0;34m:\u001b[0m\u001b[0;34m\u001b[0m\u001b[0;34m\u001b[0m\u001b[0m\n\u001b[1;32m   6298\u001b[0m             \u001b[0;32mreturn\u001b[0m \u001b[0mself\u001b[0m\u001b[0;34m[\u001b[0m\u001b[0mname\u001b[0m\u001b[0;34m]\u001b[0m\u001b[0;34m\u001b[0m\u001b[0;34m\u001b[0m\u001b[0m\n\u001b[0;32m-> 6299\u001b[0;31m         \u001b[0;32mreturn\u001b[0m \u001b[0mobject\u001b[0m\u001b[0;34m.\u001b[0m\u001b[0m__getattribute__\u001b[0m\u001b[0;34m(\u001b[0m\u001b[0mself\u001b[0m\u001b[0;34m,\u001b[0m \u001b[0mname\u001b[0m\u001b[0;34m)\u001b[0m\u001b[0;34m\u001b[0m\u001b[0;34m\u001b[0m\u001b[0m\n\u001b[0m",
      "\u001b[0;31mAttributeError\u001b[0m: 'Series' object has no attribute 'len'"
     ]
    }
   ],
   "source": [
    "s.len()"
   ]
  },
  {
   "cell_type": "code",
   "execution_count": 9,
   "id": "989f05b7",
   "metadata": {},
   "outputs": [
    {
     "data": {
      "text/plain": [
       "28"
      ]
     },
     "execution_count": 9,
     "metadata": {},
     "output_type": "execute_result"
    }
   ],
   "source": [
    "s.sum()"
   ]
  },
  {
   "cell_type": "code",
   "execution_count": 10,
   "id": "2921658e",
   "metadata": {},
   "outputs": [],
   "source": [
    "maxTemp = Series([20,30,24,34,18,23,24,28,31,25])"
   ]
  },
  {
   "cell_type": "code",
   "execution_count": 11,
   "id": "74622b0e",
   "metadata": {},
   "outputs": [
    {
     "data": {
      "text/plain": [
       "count    10.000000\n",
       "mean     25.700000\n",
       "std       5.012207\n",
       "min      18.000000\n",
       "25%      23.250000\n",
       "50%      24.500000\n",
       "75%      29.500000\n",
       "max      34.000000\n",
       "dtype: float64"
      ]
     },
     "execution_count": 11,
     "metadata": {},
     "output_type": "execute_result"
    }
   ],
   "source": [
    "maxTemp.describe()"
   ]
  },
  {
   "cell_type": "code",
   "execution_count": 12,
   "id": "10f15c01",
   "metadata": {},
   "outputs": [],
   "source": [
    "maxTemp5 = maxTemp[0:4]"
   ]
  },
  {
   "cell_type": "code",
   "execution_count": 13,
   "id": "9034508b",
   "metadata": {},
   "outputs": [
    {
     "data": {
      "text/plain": [
       "0    20\n",
       "1    30\n",
       "2    24\n",
       "3    34\n",
       "dtype: int64"
      ]
     },
     "execution_count": 13,
     "metadata": {},
     "output_type": "execute_result"
    }
   ],
   "source": [
    "maxTemp5"
   ]
  },
  {
   "cell_type": "code",
   "execution_count": 14,
   "id": "4b6d7aad",
   "metadata": {},
   "outputs": [],
   "source": [
    "maxTemp5 = maxTemp[0:5]"
   ]
  },
  {
   "cell_type": "code",
   "execution_count": 15,
   "id": "9d68be63",
   "metadata": {},
   "outputs": [
    {
     "data": {
      "text/plain": [
       "0    20\n",
       "1    30\n",
       "2    24\n",
       "3    34\n",
       "4    18\n",
       "dtype: int64"
      ]
     },
     "execution_count": 15,
     "metadata": {},
     "output_type": "execute_result"
    }
   ],
   "source": [
    "maxTemp5"
   ]
  },
  {
   "cell_type": "code",
   "execution_count": 16,
   "id": "58933f4e",
   "metadata": {},
   "outputs": [
    {
     "data": {
      "text/plain": [
       "34"
      ]
     },
     "execution_count": 16,
     "metadata": {},
     "output_type": "execute_result"
    }
   ],
   "source": [
    "maxTemp5.max()"
   ]
  },
  {
   "cell_type": "code",
   "execution_count": 17,
   "id": "d829994d",
   "metadata": {},
   "outputs": [
    {
     "data": {
      "text/plain": [
       "34"
      ]
     },
     "execution_count": 17,
     "metadata": {},
     "output_type": "execute_result"
    }
   ],
   "source": [
    "maxTemp[0:5].max()"
   ]
  },
  {
   "cell_type": "code",
   "execution_count": 18,
   "id": "56b14058",
   "metadata": {},
   "outputs": [],
   "source": [
    "maxTemp = Series([20,30,24,34,18,23,24,28,31,25], index=['01','02','03','04','05','06','07','08','09','10'])"
   ]
  },
  {
   "cell_type": "code",
   "execution_count": 19,
   "id": "d16c70c2",
   "metadata": {},
   "outputs": [],
   "source": [
    "minTemp = Series([16,20,14,23,12,17,15,20,22,14], index=['01','02','03','04','05','06','07','08','09','10'])"
   ]
  },
  {
   "cell_type": "code",
   "execution_count": 20,
   "id": "08eb8e81",
   "metadata": {},
   "outputs": [
    {
     "data": {
      "text/plain": [
       "01     4\n",
       "02    10\n",
       "03    10\n",
       "04    11\n",
       "05     6\n",
       "06     6\n",
       "07     9\n",
       "08     8\n",
       "09     9\n",
       "10    11\n",
       "dtype: int64"
      ]
     },
     "execution_count": 20,
     "metadata": {},
     "output_type": "execute_result"
    }
   ],
   "source": [
    "diffs=maxTemp-minTemp\n",
    "diffs"
   ]
  },
  {
   "cell_type": "code",
   "execution_count": 21,
   "id": "ff9a591d",
   "metadata": {},
   "outputs": [
    {
     "data": {
      "text/plain": [
       "count     5.00000\n",
       "mean      8.20000\n",
       "std       3.03315\n",
       "min       4.00000\n",
       "25%       6.00000\n",
       "50%      10.00000\n",
       "75%      10.00000\n",
       "max      11.00000\n",
       "dtype: float64"
      ]
     },
     "execution_count": 21,
     "metadata": {},
     "output_type": "execute_result"
    }
   ],
   "source": [
    "diffs[:5].describe()"
   ]
  },
  {
   "cell_type": "code",
   "execution_count": 22,
   "id": "9b754134",
   "metadata": {},
   "outputs": [
    {
     "data": {
      "text/plain": [
       "05     6\n",
       "06     6\n",
       "07     9\n",
       "08     8\n",
       "09     9\n",
       "10    11\n",
       "dtype: int64"
      ]
     },
     "execution_count": 22,
     "metadata": {},
     "output_type": "execute_result"
    }
   ],
   "source": [
    "diffs.loc['05':'10']"
   ]
  },
  {
   "cell_type": "code",
   "execution_count": 23,
   "id": "58dce7ed",
   "metadata": {},
   "outputs": [
    {
     "data": {
      "text/plain": [
       "count     5.00000\n",
       "mean      8.20000\n",
       "std       3.03315\n",
       "min       4.00000\n",
       "25%       6.00000\n",
       "50%      10.00000\n",
       "75%      10.00000\n",
       "max      11.00000\n",
       "dtype: float64"
      ]
     },
     "execution_count": 23,
     "metadata": {},
     "output_type": "execute_result"
    }
   ],
   "source": [
    "diffs.iloc[:5].describe()"
   ]
  },
  {
   "cell_type": "code",
   "execution_count": 24,
   "id": "8ad68d72",
   "metadata": {},
   "outputs": [
    {
     "data": {
      "text/plain": [
       "10"
      ]
     },
     "execution_count": 24,
     "metadata": {},
     "output_type": "execute_result"
    }
   ],
   "source": [
    "len(diffs)"
   ]
  },
  {
   "cell_type": "code",
   "execution_count": 25,
   "id": "77f9ab56",
   "metadata": {},
   "outputs": [
    {
     "data": {
      "text/plain": [
       "Eyal    10\n",
       "Ora     20\n",
       "Moti    14\n",
       "Erez    70\n",
       "Alon    40\n",
       "Lior    59\n",
       "dtype: int64"
      ]
     },
     "execution_count": 25,
     "metadata": {},
     "output_type": "execute_result"
    }
   ],
   "source": [
    "s2 = Series([10,20,14,70,40,59], index=['Eyal','Ora','Moti','Erez','Alon','Lior'])\n",
    "s2"
   ]
  },
  {
   "cell_type": "code",
   "execution_count": 28,
   "id": "93088c1d",
   "metadata": {},
   "outputs": [
    {
     "data": {
      "text/plain": [
       "Eyal    10\n",
       "Ora     20\n",
       "Moti    14\n",
       "dtype: int64"
      ]
     },
     "execution_count": 28,
     "metadata": {},
     "output_type": "execute_result"
    }
   ],
   "source": [
    "s2.loc[s2<s2.mean()]"
   ]
  },
  {
   "cell_type": "code",
   "execution_count": 29,
   "id": "c8f63363",
   "metadata": {},
   "outputs": [
    {
     "data": {
      "text/plain": [
       "count     6.000000\n",
       "mean     35.500000\n",
       "std      24.961971\n",
       "min      10.000000\n",
       "25%      15.500000\n",
       "50%      30.000000\n",
       "75%      54.250000\n",
       "max      70.000000\n",
       "dtype: float64"
      ]
     },
     "execution_count": 29,
     "metadata": {},
     "output_type": "execute_result"
    }
   ],
   "source": [
    "s2.describe()"
   ]
  },
  {
   "cell_type": "code",
   "execution_count": 32,
   "id": "adb799f1",
   "metadata": {
    "scrolled": true
   },
   "outputs": [
    {
     "data": {
      "text/plain": [
       "Eyal    10\n",
       "dtype: int64"
      ]
     },
     "execution_count": 32,
     "metadata": {},
     "output_type": "execute_result"
    }
   ],
   "source": [
    "s2.loc[s2<s2.mean()-s2.std()]"
   ]
  },
  {
   "cell_type": "code",
   "execution_count": 33,
   "id": "bd934d63",
   "metadata": {},
   "outputs": [],
   "source": [
    "maxTempC = Series([20,30,24,34,18,23,24,28,31,25])"
   ]
  },
  {
   "cell_type": "code",
   "execution_count": 34,
   "id": "442994d4",
   "metadata": {},
   "outputs": [
    {
     "data": {
      "text/plain": [
       "0    68.0\n",
       "1    86.0\n",
       "2    75.2\n",
       "3    93.2\n",
       "4    64.4\n",
       "5    73.4\n",
       "6    75.2\n",
       "7    82.4\n",
       "8    87.8\n",
       "9    77.0\n",
       "dtype: float64"
      ]
     },
     "execution_count": 34,
     "metadata": {},
     "output_type": "execute_result"
    }
   ],
   "source": [
    "maxTempF = (maxTempC * 1.8) +32\n",
    "maxTempF"
   ]
  },
  {
   "cell_type": "code",
   "execution_count": 35,
   "id": "480be4e0",
   "metadata": {},
   "outputs": [
    {
     "data": {
      "text/plain": [
       "0    68\n",
       "1    86\n",
       "2    75\n",
       "3    93\n",
       "4    64\n",
       "5    73\n",
       "6    75\n",
       "7    82\n",
       "8    87\n",
       "9    77\n",
       "dtype: int8"
      ]
     },
     "execution_count": 35,
     "metadata": {},
     "output_type": "execute_result"
    }
   ],
   "source": [
    "maxTempF.astype('int8')"
   ]
  },
  {
   "cell_type": "code",
   "execution_count": 36,
   "id": "6097b5e6",
   "metadata": {},
   "outputs": [],
   "source": [
    "import numpy as np"
   ]
  },
  {
   "cell_type": "code",
   "execution_count": 37,
   "id": "9c88cd93",
   "metadata": {},
   "outputs": [
    {
     "data": {
      "text/plain": [
       "0    20\n",
       "1    30\n",
       "2    24\n",
       "3    34\n",
       "4    18\n",
       "5    23\n",
       "6    24\n",
       "7    28\n",
       "8    31\n",
       "9    25\n",
       "dtype: int64"
      ]
     },
     "execution_count": 37,
     "metadata": {},
     "output_type": "execute_result"
    }
   ],
   "source": [
    "maxTempC"
   ]
  },
  {
   "cell_type": "code",
   "execution_count": 38,
   "id": "7801abbc",
   "metadata": {},
   "outputs": [],
   "source": [
    "maxTempC.loc[:4]=np.nan"
   ]
  },
  {
   "cell_type": "code",
   "execution_count": 39,
   "id": "30ead667",
   "metadata": {},
   "outputs": [
    {
     "data": {
      "text/plain": [
       "0     NaN\n",
       "1     NaN\n",
       "2     NaN\n",
       "3     NaN\n",
       "4     NaN\n",
       "5    23.0\n",
       "6    24.0\n",
       "7    28.0\n",
       "8    31.0\n",
       "9    25.0\n",
       "dtype: float64"
      ]
     },
     "execution_count": 39,
     "metadata": {},
     "output_type": "execute_result"
    }
   ],
   "source": [
    "maxTempC"
   ]
  },
  {
   "cell_type": "code",
   "execution_count": 42,
   "id": "ef56f04e",
   "metadata": {},
   "outputs": [
    {
     "data": {
      "text/plain": [
       "0     NaN\n",
       "1     NaN\n",
       "2     NaN\n",
       "3    34.0\n",
       "4    18.0\n",
       "5    23.0\n",
       "6    24.0\n",
       "7    28.0\n",
       "8    31.0\n",
       "9    25.0\n",
       "dtype: float64"
      ]
     },
     "execution_count": 42,
     "metadata": {},
     "output_type": "execute_result"
    }
   ],
   "source": [
    "maxTempC = Series([20,30,24,34,18,23,24,28,31,25])\n",
    "maxTempC.loc[:2]=np.nan\n",
    "maxTempC"
   ]
  },
  {
   "cell_type": "code",
   "execution_count": 43,
   "id": "9e164e9f",
   "metadata": {},
   "outputs": [
    {
     "data": {
      "text/plain": [
       "0     NaN\n",
       "1     NaN\n",
       "2     NaN\n",
       "3    34.0\n",
       "4    18.0\n",
       "5    23.0\n",
       "6    24.0\n",
       "7    28.0\n",
       "8    31.0\n",
       "9    25.0\n",
       "dtype: float64"
      ]
     },
     "execution_count": 43,
     "metadata": {},
     "output_type": "execute_result"
    }
   ],
   "source": [
    "maxTempC"
   ]
  },
  {
   "cell_type": "code",
   "execution_count": 44,
   "id": "df0d8201",
   "metadata": {},
   "outputs": [
    {
     "data": {
      "text/plain": [
       "0    26.142857\n",
       "1    26.142857\n",
       "2    26.142857\n",
       "3    34.000000\n",
       "4    18.000000\n",
       "5    23.000000\n",
       "6    24.000000\n",
       "7    28.000000\n",
       "8    31.000000\n",
       "9    25.000000\n",
       "dtype: float64"
      ]
     },
     "execution_count": 44,
     "metadata": {},
     "output_type": "execute_result"
    }
   ],
   "source": [
    "maxTempC.fillna(maxTempC.mean())"
   ]
  },
  {
   "cell_type": "code",
   "execution_count": 45,
   "id": "9b331eaa",
   "metadata": {},
   "outputs": [
    {
     "data": {
      "text/plain": [
       "0     NaN\n",
       "1     NaN\n",
       "2     NaN\n",
       "3    34.0\n",
       "4    18.0\n",
       "5    23.0\n",
       "6    24.0\n",
       "7    28.0\n",
       "8    31.0\n",
       "9    25.0\n",
       "dtype: float64"
      ]
     },
     "execution_count": 45,
     "metadata": {},
     "output_type": "execute_result"
    }
   ],
   "source": [
    "maxTempC.loc[:2]=np.nan\n",
    "maxTempC"
   ]
  },
  {
   "cell_type": "code",
   "execution_count": 46,
   "id": "2791cfeb",
   "metadata": {},
   "outputs": [
    {
     "data": {
      "text/plain": [
       "count     7.000000\n",
       "mean     26.142857\n",
       "std       5.336309\n",
       "min      18.000000\n",
       "25%      23.500000\n",
       "50%      25.000000\n",
       "75%      29.500000\n",
       "max      34.000000\n",
       "dtype: float64"
      ]
     },
     "execution_count": 46,
     "metadata": {},
     "output_type": "execute_result"
    }
   ],
   "source": [
    "maxTempC.fillna(maxTempC.mean())\n",
    "maxTempC.describe()"
   ]
  },
  {
   "cell_type": "code",
   "execution_count": 47,
   "id": "3e112290",
   "metadata": {},
   "outputs": [
    {
     "data": {
      "text/plain": [
       "0     NaN\n",
       "1     NaN\n",
       "2     NaN\n",
       "3    34.0\n",
       "4    18.0\n",
       "5    23.0\n",
       "6    24.0\n",
       "7    28.0\n",
       "8    31.0\n",
       "9    25.0\n",
       "dtype: float64"
      ]
     },
     "execution_count": 47,
     "metadata": {},
     "output_type": "execute_result"
    }
   ],
   "source": [
    "maxTempC.loc[:2]=np.nan\n",
    "maxTempC"
   ]
  },
  {
   "cell_type": "code",
   "execution_count": 51,
   "id": "3532626d",
   "metadata": {},
   "outputs": [
    {
     "data": {
      "text/plain": [
       "count    10.000000\n",
       "mean     28.500000\n",
       "std       5.778312\n",
       "min      18.000000\n",
       "25%      24.250000\n",
       "50%      29.500000\n",
       "75%      34.000000\n",
       "max      34.000000\n",
       "dtype: float64"
      ]
     },
     "execution_count": 51,
     "metadata": {},
     "output_type": "execute_result"
    }
   ],
   "source": [
    "maxTempC.fillna(maxTempC.max()).describe()"
   ]
  },
  {
   "cell_type": "code",
   "execution_count": 49,
   "id": "971cdc39",
   "metadata": {},
   "outputs": [
    {
     "data": {
      "text/plain": [
       "0     NaN\n",
       "1     NaN\n",
       "2     NaN\n",
       "3    34.0\n",
       "4    18.0\n",
       "5    23.0\n",
       "6    24.0\n",
       "7    28.0\n",
       "8    31.0\n",
       "9    25.0\n",
       "dtype: float64"
      ]
     },
     "execution_count": 49,
     "metadata": {},
     "output_type": "execute_result"
    }
   ],
   "source": [
    "maxTempC"
   ]
  },
  {
   "cell_type": "code",
   "execution_count": 52,
   "id": "b6b081b4",
   "metadata": {},
   "outputs": [],
   "source": [
    "maxTemp = Series([20,30,24,34,18,23,24,28,31,25], index=['01','02','03','04','05','06','07','08','09','10'])"
   ]
  },
  {
   "cell_type": "code",
   "execution_count": 53,
   "id": "1d30f8d2",
   "metadata": {},
   "outputs": [
    {
     "data": {
      "text/plain": [
       "01    20\n",
       "02    30\n",
       "03    24\n",
       "04    34\n",
       "05    18\n",
       "06    23\n",
       "07    24\n",
       "08    28\n",
       "09    31\n",
       "10    25\n",
       "dtype: int64"
      ]
     },
     "execution_count": 53,
     "metadata": {},
     "output_type": "execute_result"
    }
   ],
   "source": [
    "maxTemp"
   ]
  },
  {
   "cell_type": "code",
   "execution_count": 55,
   "id": "c305b7f3",
   "metadata": {},
   "outputs": [
    {
     "data": {
      "text/plain": [
       "04    34\n",
       "09    31\n",
       "02    30\n",
       "dtype: int64"
      ]
     },
     "execution_count": 55,
     "metadata": {},
     "output_type": "execute_result"
    }
   ],
   "source": [
    "maxTemp.sort_values(ascending=False).iloc[:3]"
   ]
  },
  {
   "cell_type": "code",
   "execution_count": 56,
   "id": "2a702475",
   "metadata": {},
   "outputs": [
    {
     "data": {
      "text/plain": [
       "04    34\n",
       "09    31\n",
       "02    30\n",
       "dtype: int64"
      ]
     },
     "execution_count": 56,
     "metadata": {},
     "output_type": "execute_result"
    }
   ],
   "source": [
    "maxTemp.nlargest(3)"
   ]
  },
  {
   "cell_type": "code",
   "execution_count": 57,
   "id": "2f7439be",
   "metadata": {},
   "outputs": [
    {
     "data": {
      "text/plain": [
       "05    18\n",
       "06    23\n",
       "07    24\n",
       "dtype: int64"
      ]
     },
     "execution_count": 57,
     "metadata": {},
     "output_type": "execute_result"
    }
   ],
   "source": [
    "maxTemp.loc['04':'08'].nsmallest(3)"
   ]
  },
  {
   "cell_type": "code",
   "execution_count": 58,
   "id": "11c1bf05",
   "metadata": {},
   "outputs": [
    {
     "data": {
      "text/plain": [
       "01    20\n",
       "02    30\n",
       "03    24\n",
       "04    34\n",
       "05    18\n",
       "06    23\n",
       "07    24\n",
       "08    28\n",
       "09    31\n",
       "10    25\n",
       "dtype: int64"
      ]
     },
     "execution_count": 58,
     "metadata": {},
     "output_type": "execute_result"
    }
   ],
   "source": [
    "maxTemp"
   ]
  },
  {
   "cell_type": "code",
   "execution_count": 59,
   "id": "371d0dec",
   "metadata": {},
   "outputs": [],
   "source": [
    "maxTemp = Series([20,30,24,18,34,23,24,28,31,25], index=['01','02','03','04','05','06','07','08','09','10'])"
   ]
  },
  {
   "cell_type": "code",
   "execution_count": 60,
   "id": "e343e2e5",
   "metadata": {},
   "outputs": [
    {
     "data": {
      "text/plain": [
       "04    18\n",
       "06    23\n",
       "07    24\n",
       "dtype: int64"
      ]
     },
     "execution_count": 60,
     "metadata": {},
     "output_type": "execute_result"
    }
   ],
   "source": [
    "maxTemp.loc['04':'08'].nsmallest(3)"
   ]
  },
  {
   "cell_type": "code",
   "execution_count": 61,
   "id": "c9fbde72",
   "metadata": {},
   "outputs": [],
   "source": [
    "from pandas import Series, DataFrame"
   ]
  },
  {
   "cell_type": "code",
   "execution_count": 63,
   "id": "5372d5b3",
   "metadata": {},
   "outputs": [
    {
     "data": {
      "text/plain": [
       "0      this\n",
       "1        is\n",
       "2         a\n",
       "3     bunch\n",
       "4        of\n",
       "5     words\n",
       "6       for\n",
       "7        my\n",
       "8    course\n",
       "dtype: object"
      ]
     },
     "execution_count": 63,
     "metadata": {},
     "output_type": "execute_result"
    }
   ],
   "source": [
    "s = Series('this is a 2 bunch of words for my 3 course'.split())\n",
    "s"
   ]
  },
  {
   "cell_type": "code",
   "execution_count": 68,
   "id": "13fce11c",
   "metadata": {},
   "outputs": [
    {
     "name": "stdout",
     "output_type": "stream",
     "text": [
      "insert string pleasethis is a 2 bunch of words for my 3 course\n"
     ]
    },
    {
     "data": {
      "text/plain": [
       "0       this\n",
       "1         is\n",
       "2          a\n",
       "3          2\n",
       "4      bunch\n",
       "5         of\n",
       "6      words\n",
       "7        for\n",
       "8         my\n",
       "9          3\n",
       "10    course\n",
       "dtype: object"
      ]
     },
     "execution_count": 68,
     "metadata": {},
     "output_type": "execute_result"
    }
   ],
   "source": [
    "s = input(\"insert string please\")\n",
    "s1 = Series(s.split())\n",
    "s1"
   ]
  },
  {
   "cell_type": "code",
   "execution_count": 69,
   "id": "a551b970",
   "metadata": {},
   "outputs": [
    {
     "data": {
      "text/plain": [
       "2.909090909090909"
      ]
     },
     "execution_count": 69,
     "metadata": {},
     "output_type": "execute_result"
    }
   ],
   "source": [
    "s1.str.len().mean()"
   ]
  },
  {
   "cell_type": "code",
   "execution_count": 81,
   "id": "f9de4efb",
   "metadata": {},
   "outputs": [
    {
     "data": {
      "text/plain": [
       "0      True\n",
       "1      True\n",
       "2      True\n",
       "3     False\n",
       "4      True\n",
       "5      True\n",
       "6      True\n",
       "7      True\n",
       "8      True\n",
       "9     False\n",
       "10     True\n",
       "dtype: bool"
      ]
     },
     "execution_count": 81,
     "metadata": {},
     "output_type": "execute_result"
    }
   ],
   "source": [
    "s1.str.isdigit() == False"
   ]
  },
  {
   "cell_type": "code",
   "execution_count": 84,
   "id": "b789a908",
   "metadata": {},
   "outputs": [
    {
     "data": {
      "text/plain": [
       "3.3333333333333335"
      ]
     },
     "execution_count": 84,
     "metadata": {},
     "output_type": "execute_result"
    }
   ],
   "source": [
    "s1.loc[~s1.str.isdigit()].str.len().mean()"
   ]
  },
  {
   "cell_type": "code",
   "execution_count": null,
   "id": "6cc56eee",
   "metadata": {},
   "outputs": [],
   "source": []
  },
  {
   "cell_type": "code",
   "execution_count": null,
   "id": "3e2af2ba",
   "metadata": {},
   "outputs": [],
   "source": []
  },
  {
   "cell_type": "code",
   "execution_count": null,
   "id": "b1bbf692",
   "metadata": {},
   "outputs": [],
   "source": []
  },
  {
   "cell_type": "code",
   "execution_count": null,
   "id": "7822245b",
   "metadata": {},
   "outputs": [],
   "source": []
  },
  {
   "cell_type": "code",
   "execution_count": null,
   "id": "79ea06d8",
   "metadata": {},
   "outputs": [],
   "source": []
  }
 ],
 "metadata": {
  "kernelspec": {
   "display_name": "Python 3 (ipykernel)",
   "language": "python",
   "name": "python3"
  },
  "language_info": {
   "codemirror_mode": {
    "name": "ipython",
    "version": 3
   },
   "file_extension": ".py",
   "mimetype": "text/x-python",
   "name": "python",
   "nbconvert_exporter": "python",
   "pygments_lexer": "ipython3",
   "version": "3.12.7"
  }
 },
 "nbformat": 4,
 "nbformat_minor": 5
}
