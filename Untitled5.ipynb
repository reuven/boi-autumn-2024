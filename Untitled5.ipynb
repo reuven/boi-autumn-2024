{
 "cells": [
  {
   "cell_type": "markdown",
   "id": "3e6ce15d",
   "metadata": {},
   "source": [
    "# https://python.lerner.co.il\n",
    "\n",
    "Password: boipw!!"
   ]
  },
  {
   "cell_type": "markdown",
   "id": "3e5ab761",
   "metadata": {},
   "source": [
    "# Agenda\n",
    "\n",
    "1. Loops\n",
    "2. List\n",
    "3. Dictionary\n",
    "4. Files\n",
    "5. Modules"
   ]
  },
  {
   "cell_type": "code",
   "execution_count": 1,
   "id": "cd71d9eb",
   "metadata": {},
   "outputs": [
    {
     "name": "stdout",
     "output_type": "stream",
     "text": [
      "a\n",
      "b\n",
      "c\n",
      "d\n"
     ]
    }
   ],
   "source": [
    "s = 'abcd'\n",
    "\n",
    "print(s[0])\n",
    "print(s[1])\n",
    "print(s[2])\n",
    "print(s[3])"
   ]
  },
  {
   "cell_type": "markdown",
   "id": "b51a25c9",
   "metadata": {},
   "source": [
    "# Loops\n",
    "\n",
    "1. `for` loops\n",
    "2. `while` loops"
   ]
  },
  {
   "cell_type": "code",
   "execution_count": 2,
   "id": "d546227c",
   "metadata": {},
   "outputs": [
    {
     "name": "stdout",
     "output_type": "stream",
     "text": [
      "a\n",
      "b\n",
      "c\n",
      "d\n"
     ]
    }
   ],
   "source": [
    "s = 'abcd'\n",
    "\n",
    "for one_character in s:\n",
    "    print(one_character)"
   ]
  },
  {
   "cell_type": "code",
   "execution_count": 3,
   "id": "eba9ab85",
   "metadata": {},
   "outputs": [
    {
     "name": "stdout",
     "output_type": "stream",
     "text": [
      "c\n",
      "d\n"
     ]
    }
   ],
   "source": [
    "s = 'abcd'\n",
    "\n",
    "for one_character in s[2:]:\n",
    "    print(one_character)"
   ]
  },
  {
   "cell_type": "code",
   "execution_count": 4,
   "id": "a14f56c3",
   "metadata": {},
   "outputs": [
    {
     "ename": "TypeError",
     "evalue": "'int' object is not iterable",
     "output_type": "error",
     "traceback": [
      "\u001b[0;31m---------------------------------------------------------------------------\u001b[0m",
      "\u001b[0;31mTypeError\u001b[0m                                 Traceback (most recent call last)",
      "Cell \u001b[0;32mIn[4], line 1\u001b[0m\n\u001b[0;32m----> 1\u001b[0m \u001b[38;5;28;01mfor\u001b[39;00m counter \u001b[38;5;129;01min\u001b[39;00m \u001b[38;5;241m3\u001b[39m:\n\u001b[1;32m      2\u001b[0m     \u001b[38;5;28mprint\u001b[39m(\u001b[38;5;124m'\u001b[39m\u001b[38;5;124mHooray\u001b[39m\u001b[38;5;124m'\u001b[39m)\n",
      "\u001b[0;31mTypeError\u001b[0m: 'int' object is not iterable"
     ]
    }
   ],
   "source": [
    "for counter in 3:\n",
    "    print('Hooray')"
   ]
  },
  {
   "cell_type": "code",
   "execution_count": 5,
   "id": "86900666",
   "metadata": {},
   "outputs": [
    {
     "name": "stdout",
     "output_type": "stream",
     "text": [
      "Hooray\n",
      "Hooray\n",
      "Hooray\n"
     ]
    }
   ],
   "source": [
    "for counter in range(3):    # use range(n) for n iterations\n",
    "    print('Hooray')"
   ]
  },
  {
   "cell_type": "code",
   "execution_count": 6,
   "id": "659d2c7a",
   "metadata": {},
   "outputs": [
    {
     "name": "stdout",
     "output_type": "stream",
     "text": [
      "0 Hooray\n",
      "1 Hooray\n",
      "2 Hooray\n"
     ]
    }
   ],
   "source": [
    "for counter in range(3):    # range(3) gives me 0, 1, 2\n",
    "    print(f'{counter} Hooray')"
   ]
  },
  {
   "cell_type": "code",
   "execution_count": null,
   "id": "b847ecad",
   "metadata": {},
   "outputs": [],
   "source": []
  }
 ],
 "metadata": {
  "kernelspec": {
   "display_name": "Python 3 (ipykernel)",
   "language": "python",
   "name": "python3"
  },
  "language_info": {
   "codemirror_mode": {
    "name": "ipython",
    "version": 3
   },
   "file_extension": ".py",
   "mimetype": "text/x-python",
   "name": "python",
   "nbconvert_exporter": "python",
   "pygments_lexer": "ipython3",
   "version": "3.12.7"
  }
 },
 "nbformat": 4,
 "nbformat_minor": 5
}
