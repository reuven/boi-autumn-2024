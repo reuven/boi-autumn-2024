{
 "cells": [
  {
   "cell_type": "code",
   "execution_count": 1,
   "id": "59e2857d",
   "metadata": {},
   "outputs": [
    {
     "name": "stdout",
     "output_type": "stream",
     "text": [
      "shalom boker tov\n"
     ]
    }
   ],
   "source": [
    "print('shalom boker tov')"
   ]
  },
  {
   "cell_type": "code",
   "execution_count": 5,
   "id": "f294b8ab",
   "metadata": {},
   "outputs": [
    {
     "name": "stdout",
     "output_type": "stream",
     "text": [
      "hello maoz\n"
     ]
    }
   ],
   "source": [
    "print('hello ' + 'maoz')"
   ]
  },
  {
   "cell_type": "code",
   "execution_count": null,
   "id": "8e2da2ef",
   "metadata": {},
   "outputs": [],
   "source": []
  },
  {
   "cell_type": "code",
   "execution_count": null,
   "id": "d1a69e84",
   "metadata": {},
   "outputs": [],
   "source": []
  },
  {
   "cell_type": "code",
   "execution_count": 7,
   "id": "26d20b56",
   "metadata": {},
   "outputs": [
    {
     "name": "stdout",
     "output_type": "stream",
     "text": [
      "100\n"
     ]
    }
   ],
   "source": [
    "x = 100\n",
    "print(x)"
   ]
  },
  {
   "cell_type": "code",
   "execution_count": 8,
   "id": "137d2098",
   "metadata": {},
   "outputs": [
    {
     "data": {
      "text/plain": [
       "100"
      ]
     },
     "execution_count": 8,
     "metadata": {},
     "output_type": "execute_result"
    }
   ],
   "source": [
    "x"
   ]
  },
  {
   "cell_type": "code",
   "execution_count": null,
   "id": "d1857c5e",
   "metadata": {},
   "outputs": [],
   "source": [
    "x"
   ]
  },
  {
   "cell_type": "code",
   "execution_count": 20,
   "id": "90825331",
   "metadata": {},
   "outputs": [
    {
     "name": "stdout",
     "output_type": "stream",
     "text": [
      "enter your nameaaa\n",
      "have a good day sir\n"
     ]
    }
   ],
   "source": [
    "name = input('enter your name')\n",
    "\n",
    "if name == 'maoz':\n",
    "    print('you are looking good today')\n",
    "    print('hope you have a good day today')\n",
    "else:\n",
    "    print('have a good day sir')\n",
    "    "
   ]
  },
  {
   "cell_type": "code",
   "execution_count": 21,
   "id": "8c5ab94d",
   "metadata": {},
   "outputs": [
    {
     "name": "stdout",
     "output_type": "stream",
     "text": [
      "how are you aaa, feeling good today?\n"
     ]
    }
   ],
   "source": [
    "print(f'how are you {name}, feeling good today?')"
   ]
  },
  {
   "cell_type": "code",
   "execution_count": 24,
   "id": "81e3337d",
   "metadata": {},
   "outputs": [],
   "source": [
    "x=100\n",
    "\n",
    "if x>200:\n",
    "    print('wrong')\n",
    "elif x>150:\n",
    "    print('right')\n",
    "elif x>200:\n",
    "    print('correct')\n"
   ]
  },
  {
   "cell_type": "code",
   "execution_count": 32,
   "id": "8f2a7028",
   "metadata": {},
   "outputs": [
    {
     "name": "stdout",
     "output_type": "stream",
     "text": [
      "enter word1dor\n",
      "enter word2omer\n",
      "dor comes before omer\n"
     ]
    }
   ],
   "source": [
    "word1=input('enter word1')\n",
    "word2=input('enter word2')\n",
    "\n",
    "if word1 < word2:\n",
    "    print(f'{word1} comes before {word2}')\n",
    "else:\n",
    "    print(f'{word2} comes before {word1}')"
   ]
  },
  {
   "cell_type": "code",
   "execution_count": 40,
   "id": "74d9b244",
   "metadata": {},
   "outputs": [
    {
     "name": "stdout",
     "output_type": "stream",
     "text": [
      "enter your namelior\n",
      "enter your cityyavne\n",
      "bad name and bad city\n"
     ]
    }
   ],
   "source": [
    "name='maoz'\n",
    "city='ramat gan'\n",
    "\n",
    "name2=input('enter your name')\n",
    "city2=input('enter your city')\n",
    "\n",
    "if name==name2 and city==city2:\n",
    "    print('you must be me')\n",
    "elif name==name2 and city!=city2:\n",
    "    print('nice name, bad city')\n",
    "elif name!=name2 and city==city2:\n",
    "    print('we live in the same city')\n",
    "else:\n",
    "    print('bad name and bad city')\n",
    "          "
   ]
  },
  {
   "cell_type": "code",
   "execution_count": 43,
   "id": "2905ce99",
   "metadata": {},
   "outputs": [],
   "source": [
    "secret=1981"
   ]
  },
  {
   "cell_type": "code",
   "execution_count": 56,
   "id": "115d7593",
   "metadata": {},
   "outputs": [
    {
     "data": {
      "text/plain": [
       "1981"
      ]
     },
     "execution_count": 56,
     "metadata": {},
     "output_type": "execute_result"
    }
   ],
   "source": [
    "secret\n",
    "\n"
   ]
  },
  {
   "cell_type": "raw",
   "id": "d8755b43",
   "metadata": {},
   "source": [
    "\n",
    "guess=input('enter a guess')\n",
    "guess=int(guess)\n",
    "if guess > secret:\n",
    "    print('too high')\n",
    "elif guess < secret:\n",
    "    print('too low')\n",
    "else:\n",
    "    print('just right')"
   ]
  },
  {
   "cell_type": "code",
   "execution_count": 78,
   "id": "9c8b4206",
   "metadata": {},
   "outputs": [
    {
     "name": "stdout",
     "output_type": "stream",
     "text": [
      "enter a word: any\n",
      "good\n"
     ]
    }
   ],
   "source": [
    "word=input('enter a word: ')\n",
    "\n",
    "if word[0] == 'a' or word[0] =='e':\n",
    "    print('good')\n",
    "else:\n",
    "    print('bad')"
   ]
  },
  {
   "cell_type": "code",
   "execution_count": null,
   "id": "96c93fa4",
   "metadata": {},
   "outputs": [],
   "source": [
    "secret=1981\n",
    "secret=int(secret)\n",
    "guess=input('enter a guess: ')\n",
    "\n",
    "if secret."
   ]
  }
 ],
 "metadata": {
  "kernelspec": {
   "display_name": "Python 3 (ipykernel)",
   "language": "python",
   "name": "python3"
  },
  "language_info": {
   "codemirror_mode": {
    "name": "ipython",
    "version": 3
   },
   "file_extension": ".py",
   "mimetype": "text/x-python",
   "name": "python",
   "nbconvert_exporter": "python",
   "pygments_lexer": "ipython3",
   "version": "3.12.7"
  }
 },
 "nbformat": 4,
 "nbformat_minor": 5
}
