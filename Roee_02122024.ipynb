{
 "cells": [
  {
   "cell_type": "code",
   "execution_count": 1,
   "id": "fade0bfb",
   "metadata": {},
   "outputs": [
    {
     "data": {
      "text/plain": [
       "62"
      ]
     },
     "execution_count": 1,
     "metadata": {},
     "output_type": "execute_result"
    }
   ],
   "source": [
    "import random\n",
    "\n",
    "random.randint(0,100)\n",
    "\n"
   ]
  },
  {
   "cell_type": "code",
   "execution_count": 4,
   "id": "4f3d17e5",
   "metadata": {},
   "outputs": [
    {
     "data": {
      "text/plain": [
       "0    10\n",
       "1    20\n",
       "2    30\n",
       "3    40\n",
       "4    50\n",
       "5    70\n",
       "dtype: int64"
      ]
     },
     "execution_count": 4,
     "metadata": {},
     "output_type": "execute_result"
    }
   ],
   "source": [
    "import pandas as pd\n",
    "from pandas import Series, DataFrame\n",
    "\n",
    "s= Series([10,20,30,40,50,70])\n",
    "s\n"
   ]
  },
  {
   "cell_type": "code",
   "execution_count": 6,
   "id": "2cf759a4",
   "metadata": {},
   "outputs": [
    {
     "data": {
      "text/plain": [
       "220"
      ]
     },
     "execution_count": 6,
     "metadata": {},
     "output_type": "execute_result"
    }
   ],
   "source": [
    "s.sum()\n",
    "\n"
   ]
  },
  {
   "cell_type": "code",
   "execution_count": 21,
   "id": "e3ce9dfa",
   "metadata": {},
   "outputs": [
    {
     "name": "stdout",
     "output_type": "stream",
     "text": [
      "count    10.000000\n",
      "mean     30.300000\n",
      "std       2.830391\n",
      "min      26.000000\n",
      "25%      28.250000\n",
      "50%      30.500000\n",
      "75%      32.000000\n",
      "max      35.000000\n",
      "dtype: float64\n",
      "Maximum temp in first 5 days: maxTemp[0:5].max()\n"
     ]
    }
   ],
   "source": [
    "maxTemp = Series([30,29,28,32,33,35,26,27,31,32])\n",
    "\n",
    "print(maxTemp.describe())\n",
    "print(f'Maximum temp in first 5 days: maxTemp[0:5].max()')"
   ]
  },
  {
   "cell_type": "code",
   "execution_count": 29,
   "id": "eb26d530",
   "metadata": {},
   "outputs": [
    {
     "name": "stdout",
     "output_type": "stream",
     "text": [
      "05     8\n",
      "06    13\n",
      "07    12\n",
      "08    11\n",
      "09     9\n",
      "10     9\n",
      "11     9\n",
      "12    11\n",
      "dtype: int64\n",
      "count     5.000000\n",
      "mean     11.200000\n",
      "std       2.167948\n",
      "min       8.000000\n",
      "25%      10.000000\n",
      "50%      12.000000\n",
      "75%      13.000000\n",
      "max      13.000000\n",
      "dtype: float64\n"
     ]
    }
   ],
   "source": [
    "highs = Series([30,29,28,32,33,35,26,27,31,32],index=('03','04','05','06','07','08','09','10','11','12'))\n",
    "lows = Series([17,19,20,19,21,24,17,18,22,21],index=('03','04','05','06','07','08','09','10','11','12'))\n",
    "diff = highs - lows\n",
    "\n",
    "print (diff.loc['05':'12'])\n",
    "print(diff.iloc[:5].describe())\n"
   ]
  },
  {
   "cell_type": "code",
   "execution_count": null,
   "id": "262cdbcd",
   "metadata": {},
   "outputs": [],
   "source": []
  }
 ],
 "metadata": {
  "kernelspec": {
   "display_name": "Python 3 (ipykernel)",
   "language": "python",
   "name": "python3"
  },
  "language_info": {
   "codemirror_mode": {
    "name": "ipython",
    "version": 3
   },
   "file_extension": ".py",
   "mimetype": "text/x-python",
   "name": "python",
   "nbconvert_exporter": "python",
   "pygments_lexer": "ipython3",
   "version": "3.12.7"
  }
 },
 "nbformat": 4,
 "nbformat_minor": 5
}
