{
 "cells": [
  {
   "cell_type": "code",
   "execution_count": 1,
   "id": "c4fa2aab",
   "metadata": {},
   "outputs": [],
   "source": [
    "import random"
   ]
  },
  {
   "cell_type": "code",
   "execution_count": 2,
   "id": "48e97085",
   "metadata": {},
   "outputs": [],
   "source": [
    "import pandas as pd\n",
    "from pandas import Series, DataFrame"
   ]
  },
  {
   "cell_type": "code",
   "execution_count": 3,
   "id": "633f038f",
   "metadata": {},
   "outputs": [],
   "source": [
    "s=Series([10,20,30,40,50,60,70])"
   ]
  },
  {
   "cell_type": "code",
   "execution_count": 4,
   "id": "8be74a21",
   "metadata": {},
   "outputs": [
    {
     "data": {
      "text/plain": [
       "0    10\n",
       "1    20\n",
       "2    30\n",
       "3    40\n",
       "4    50\n",
       "5    60\n",
       "6    70\n",
       "dtype: int64"
      ]
     },
     "execution_count": 4,
     "metadata": {},
     "output_type": "execute_result"
    }
   ],
   "source": [
    "s"
   ]
  },
  {
   "cell_type": "code",
   "execution_count": 5,
   "id": "a69e44d2",
   "metadata": {},
   "outputs": [
    {
     "data": {
      "text/plain": [
       "<bound method NDFrame.describe of 0    10\n",
       "1    20\n",
       "2    30\n",
       "3    40\n",
       "4    50\n",
       "5    60\n",
       "6    70\n",
       "dtype: int64>"
      ]
     },
     "execution_count": 5,
     "metadata": {},
     "output_type": "execute_result"
    }
   ],
   "source": [
    "s.describe"
   ]
  },
  {
   "cell_type": "code",
   "execution_count": 13,
   "id": "688c910a",
   "metadata": {},
   "outputs": [
    {
     "data": {
      "text/plain": [
       "count    10.000000\n",
       "mean     21.600000\n",
       "std       2.875181\n",
       "min      17.000000\n",
       "25%      19.250000\n",
       "50%      22.000000\n",
       "75%      23.500000\n",
       "max      26.000000\n",
       "dtype: float64"
      ]
     },
     "execution_count": 13,
     "metadata": {},
     "output_type": "execute_result"
    }
   ],
   "source": [
    "a=Series([19, 22, 24, 25, 22, 20, 19, 17, 22, 26])\n",
    "a.describe()"
   ]
  },
  {
   "cell_type": "code",
   "execution_count": 14,
   "id": "9a44ee71",
   "metadata": {
    "scrolled": true
   },
   "outputs": [
    {
     "data": {
      "text/plain": [
       "0    19\n",
       "1    22\n",
       "2    24\n",
       "3    25\n",
       "4    22\n",
       "dtype: int64"
      ]
     },
     "execution_count": 14,
     "metadata": {},
     "output_type": "execute_result"
    }
   ],
   "source": [
    "a[0:5]"
   ]
  },
  {
   "cell_type": "code",
   "execution_count": 15,
   "id": "652f575b",
   "metadata": {},
   "outputs": [
    {
     "data": {
      "text/plain": [
       "0    361\n",
       "1    484\n",
       "2    576\n",
       "3    625\n",
       "4    484\n",
       "5    400\n",
       "6    361\n",
       "7    289\n",
       "8    484\n",
       "9    676\n",
       "dtype: int64"
      ]
     },
     "execution_count": 15,
     "metadata": {},
     "output_type": "execute_result"
    }
   ],
   "source": [
    "a*a"
   ]
  },
  {
   "cell_type": "code",
   "execution_count": 16,
   "id": "2fc7d675",
   "metadata": {},
   "outputs": [
    {
     "data": {
      "text/plain": [
       "0     190.0\n",
       "1     440.0\n",
       "2     720.0\n",
       "3    1000.0\n",
       "4    1100.0\n",
       "5    1200.0\n",
       "6    1330.0\n",
       "7       NaN\n",
       "8       NaN\n",
       "9       NaN\n",
       "dtype: float64"
      ]
     },
     "execution_count": 16,
     "metadata": {},
     "output_type": "execute_result"
    }
   ],
   "source": [
    "a*s"
   ]
  },
  {
   "cell_type": "code",
   "execution_count": 17,
   "id": "2f750b9b",
   "metadata": {},
   "outputs": [
    {
     "ename": "SyntaxError",
     "evalue": "unterminated string literal (detected at line 1) (1826959753.py, line 1)",
     "output_type": "error",
     "traceback": [
      "\u001b[0;36m  Cell \u001b[0;32mIn[17], line 1\u001b[0;36m\u001b[0m\n\u001b[0;31m    a*a'\u001b[0m\n\u001b[0m       ^\u001b[0m\n\u001b[0;31mSyntaxError\u001b[0m\u001b[0;31m:\u001b[0m unterminated string literal (detected at line 1)\n"
     ]
    }
   ],
   "source": [
    "a*a'"
   ]
  },
  {
   "cell_type": "code",
   "execution_count": 18,
   "id": "9b24ea8c",
   "metadata": {},
   "outputs": [
    {
     "data": {
      "text/plain": [
       "0    361\n",
       "1    484\n",
       "2    576\n",
       "3    625\n",
       "4    484\n",
       "5    400\n",
       "6    361\n",
       "7    289\n",
       "8    484\n",
       "9    676\n",
       "dtype: int64"
      ]
     },
     "execution_count": 18,
     "metadata": {},
     "output_type": "execute_result"
    }
   ],
   "source": [
    "a*a.T"
   ]
  },
  {
   "cell_type": "code",
   "execution_count": 23,
   "id": "e9cb8f5e",
   "metadata": {},
   "outputs": [],
   "source": [
    "a=Series([1,2,3])"
   ]
  },
  {
   "cell_type": "code",
   "execution_count": 22,
   "id": "bde05333",
   "metadata": {},
   "outputs": [
    {
     "data": {
      "text/plain": [
       "0    1\n",
       "1    4\n",
       "2    9\n",
       "dtype: int64"
      ]
     },
     "execution_count": 22,
     "metadata": {},
     "output_type": "execute_result"
    }
   ],
   "source": [
    "s*s.T"
   ]
  },
  {
   "cell_type": "code",
   "execution_count": 24,
   "id": "6da21686",
   "metadata": {},
   "outputs": [
    {
     "data": {
      "text/plain": [
       "14"
      ]
     },
     "execution_count": 24,
     "metadata": {},
     "output_type": "execute_result"
    }
   ],
   "source": [
    "s.dot(a)"
   ]
  },
  {
   "cell_type": "code",
   "execution_count": 39,
   "id": "ee9f6d0e",
   "metadata": {},
   "outputs": [],
   "source": [
    "highs=Series([24, 22, 23, 23, 21, 19, 17, 22, 26, 24], index=[3,4,5,6,7,8,9,10,11,12])"
   ]
  },
  {
   "cell_type": "code",
   "execution_count": 27,
   "id": "ebcce614",
   "metadata": {},
   "outputs": [
    {
     "data": {
      "text/plain": [
       "03    24\n",
       "04    22\n",
       "05    23\n",
       "06    23\n",
       "07    21\n",
       "08    19\n",
       "09    17\n",
       "10    22\n",
       "11    26\n",
       "12    24\n",
       "dtype: int64"
      ]
     },
     "execution_count": 27,
     "metadata": {},
     "output_type": "execute_result"
    }
   ],
   "source": [
    "highs"
   ]
  },
  {
   "cell_type": "code",
   "execution_count": 38,
   "id": "85a6d4ad",
   "metadata": {},
   "outputs": [],
   "source": [
    "lows=Series([16, 14, 14, 15, 13, 12, 10, 14, 15, 16], index=['03','04','05','06','07','08','09','10','11','12'])"
   ]
  },
  {
   "cell_type": "code",
   "execution_count": 40,
   "id": "274034ba",
   "metadata": {},
   "outputs": [],
   "source": [
    "diff=highs-lows"
   ]
  },
  {
   "cell_type": "code",
   "execution_count": 30,
   "id": "ce337076",
   "metadata": {},
   "outputs": [
    {
     "data": {
      "text/plain": [
       "03     8\n",
       "04     8\n",
       "05     9\n",
       "06     8\n",
       "07     8\n",
       "08     7\n",
       "09     7\n",
       "10     8\n",
       "11    11\n",
       "12     8\n",
       "dtype: int64"
      ]
     },
     "execution_count": 30,
     "metadata": {},
     "output_type": "execute_result"
    }
   ],
   "source": [
    "diff"
   ]
  },
  {
   "cell_type": "code",
   "execution_count": 41,
   "id": "175f9aa7",
   "metadata": {},
   "outputs": [
    {
     "data": {
      "text/plain": [
       "5     9\n",
       "6     8\n",
       "7     8\n",
       "8     7\n",
       "9     7\n",
       "10    8\n",
       "dtype: int64"
      ]
     },
     "execution_count": 41,
     "metadata": {},
     "output_type": "execute_result"
    }
   ],
   "source": [
    "diff.loc[5:10]"
   ]
  },
  {
   "cell_type": "code",
   "execution_count": 45,
   "id": "c498c0ac",
   "metadata": {},
   "outputs": [
    {
     "data": {
      "text/plain": [
       "05    9\n",
       "06    8\n",
       "07    8\n",
       "08    7\n",
       "09    7\n",
       "10    8\n",
       "dtype: int64"
      ]
     },
     "execution_count": 45,
     "metadata": {},
     "output_type": "execute_result"
    }
   ],
   "source": [
    "lows=Series([16, 14, 14, 15, 13, 12, 10, 14, 15, 16], index=['03','04','05','06','07','08','09','10','11','12'])\n",
    "highs=Series([24, 22, 23, 23, 21, 19, 17, 22, 26, 24], index=['03','04','05','06','07','08','09','10','11','12'])\n",
    "diff=highs-lows\n",
    "diff.loc['05':'10']"
   ]
  },
  {
   "cell_type": "code",
   "execution_count": 46,
   "id": "7d792d2c",
   "metadata": {},
   "outputs": [
    {
     "data": {
      "text/plain": [
       "count    5.000000\n",
       "mean     8.200000\n",
       "std      0.447214\n",
       "min      8.000000\n",
       "25%      8.000000\n",
       "50%      8.000000\n",
       "75%      8.000000\n",
       "max      9.000000\n",
       "dtype: float64"
      ]
     },
     "execution_count": 46,
     "metadata": {},
     "output_type": "execute_result"
    }
   ],
   "source": [
    "diff.loc['03':'07'].describe()"
   ]
  },
  {
   "cell_type": "code",
   "execution_count": 47,
   "id": "1109fae9",
   "metadata": {},
   "outputs": [
    {
     "data": {
      "text/plain": [
       "Mark      44\n",
       "Roey      51\n",
       "Hanoch    44\n",
       "dtype: int64"
      ]
     },
     "execution_count": 47,
     "metadata": {},
     "output_type": "execute_result"
    }
   ],
   "source": [
    "b=Series([36, 44, 51, 35, 44], index=['Dor', 'Mark', 'Roey', 'Haim', 'Hanoch'])\n",
    "b.loc[b>b.mean()]"
   ]
  },
  {
   "cell_type": "code",
   "execution_count": 51,
   "id": "fb79a7dc",
   "metadata": {},
   "outputs": [
    {
     "data": {
      "text/plain": [
       "1"
      ]
     },
     "execution_count": 51,
     "metadata": {},
     "output_type": "execute_result"
    }
   ],
   "source": [
    "b.loc[b<b.mean()-b.std()].count()"
   ]
  },
  {
   "cell_type": "code",
   "execution_count": 49,
   "id": "b66d2ed0",
   "metadata": {},
   "outputs": [
    {
     "data": {
      "text/plain": [
       "6.59545297913646"
      ]
     },
     "execution_count": 49,
     "metadata": {},
     "output_type": "execute_result"
    }
   ],
   "source": [
    "b.std()"
   ]
  },
  {
   "cell_type": "code",
   "execution_count": 50,
   "id": "4eeea8a5",
   "metadata": {},
   "outputs": [
    {
     "data": {
      "text/plain": [
       "42.0"
      ]
     },
     "execution_count": 50,
     "metadata": {},
     "output_type": "execute_result"
    }
   ],
   "source": [
    "b.mean()"
   ]
  },
  {
   "cell_type": "code",
   "execution_count": 56,
   "id": "9fe2b09b",
   "metadata": {},
   "outputs": [
    {
     "data": {
      "text/plain": [
       "03    75\n",
       "04    71\n",
       "05    73\n",
       "06    73\n",
       "07    69\n",
       "08    66\n",
       "09    62\n",
       "10    71\n",
       "11    78\n",
       "12    75\n",
       "dtype: int64"
      ]
     },
     "execution_count": 56,
     "metadata": {},
     "output_type": "execute_result"
    }
   ],
   "source": [
    "highs=Series([24, 22, 23, 23, 21, 19, 17, 22, 26, 24], index=['03','04','05','06','07','08','09','10','11','12'])\n",
    "highsf=highs*9/5+32\n",
    "highsf.astype('int64')\n"
   ]
  },
  {
   "cell_type": "code",
   "execution_count": 57,
   "id": "79354bac",
   "metadata": {
    "scrolled": true
   },
   "outputs": [
    {
     "data": {
      "text/plain": [
       "03    75.2\n",
       "04    71.6\n",
       "05    73.4\n",
       "06    73.4\n",
       "07    69.8\n",
       "08    66.2\n",
       "09    62.6\n",
       "10    71.6\n",
       "11    78.8\n",
       "12    75.2\n",
       "dtype: float64"
      ]
     },
     "execution_count": 57,
     "metadata": {},
     "output_type": "execute_result"
    }
   ],
   "source": [
    "highsf"
   ]
  },
  {
   "cell_type": "code",
   "execution_count": 71,
   "id": "b5c4a125",
   "metadata": {},
   "outputs": [
    {
     "data": {
      "text/plain": [
       "21.857142857142858"
      ]
     },
     "execution_count": 71,
     "metadata": {},
     "output_type": "execute_result"
    }
   ],
   "source": [
    "import numpy as np\n",
    "highs=Series([24, 22, 23, 23, 21, 19, 17, 22, 26, 24], index=['03','04','05','06','07','08','09','10','11','12'])\n",
    "highs['04':'06']=np.nan\n",
    "highs.fillna(highs.max()),\n",
    "highs.mean()"
   ]
  },
  {
   "cell_type": "code",
   "execution_count": null,
   "id": "f008b092",
   "metadata": {},
   "outputs": [],
   "source": []
  }
 ],
 "metadata": {
  "kernelspec": {
   "display_name": "Python 3 (ipykernel)",
   "language": "python",
   "name": "python3"
  },
  "language_info": {
   "codemirror_mode": {
    "name": "ipython",
    "version": 3
   },
   "file_extension": ".py",
   "mimetype": "text/x-python",
   "name": "python",
   "nbconvert_exporter": "python",
   "pygments_lexer": "ipython3",
   "version": "3.12.7"
  }
 },
 "nbformat": 4,
 "nbformat_minor": 5
}
