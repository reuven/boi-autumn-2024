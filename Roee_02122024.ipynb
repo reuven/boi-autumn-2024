{
 "cells": [
  {
   "cell_type": "code",
   "execution_count": 1,
   "id": "51fa3f9a",
   "metadata": {},
   "outputs": [
    {
     "data": {
      "text/plain": [
       "62"
      ]
     },
     "execution_count": 1,
     "metadata": {},
     "output_type": "execute_result"
    }
   ],
   "source": [
    "import random\n",
    "\n",
    "random.randint(0,100)\n",
    "\n"
   ]
  },
  {
   "cell_type": "code",
   "execution_count": 4,
   "id": "f8176a02",
   "metadata": {},
   "outputs": [
    {
     "data": {
      "text/plain": [
       "0    10\n",
       "1    20\n",
       "2    30\n",
       "3    40\n",
       "4    50\n",
       "5    70\n",
       "dtype: int64"
      ]
     },
     "execution_count": 4,
     "metadata": {},
     "output_type": "execute_result"
    }
   ],
   "source": [
    "import pandas as pd\n",
    "from pandas import Series, DataFrame\n",
    "\n",
    "s= Series([10,20,30,40,50,70])\n",
    "s\n"
   ]
  },
  {
   "cell_type": "code",
   "execution_count": 6,
   "id": "667c5e34",
   "metadata": {},
   "outputs": [
    {
     "data": {
      "text/plain": [
       "220"
      ]
     },
     "execution_count": 6,
     "metadata": {},
     "output_type": "execute_result"
    }
   ],
   "source": [
    "s.sum()\n",
    "\n"
   ]
  },
  {
   "cell_type": "code",
   "execution_count": 30,
   "id": "4ab4f2af",
   "metadata": {},
   "outputs": [
    {
     "name": "stdout",
     "output_type": "stream",
     "text": [
      "count    10.000000\n",
      "mean     30.300000\n",
      "std       2.830391\n",
      "min      26.000000\n",
      "25%      28.250000\n",
      "50%      30.500000\n",
      "75%      32.000000\n",
      "max      35.000000\n",
      "dtype: float64\n",
      "Maximum temp in first 5 days: maxTemp[0:5].max()\n"
     ]
    }
   ],
   "source": [
    "maxTemp = Series([30,29,28,32,33,35,26,27,31,32])\n",
    "\n",
    "print(maxTemp.describe())\n",
    "print(f'Maximum temp in first 5 days: maxTemp[0:5].max()')"
   ]
  },
  {
   "cell_type": "code",
   "execution_count": 41,
   "id": "5617259c",
   "metadata": {},
   "outputs": [
    {
     "name": "stdout",
     "output_type": "stream",
     "text": [
      "Over the mean:\n",
      "Roee     47\n",
      "Einat    46\n",
      "Shosy    67\n",
      "dtype: int64\n",
      "\n",
      "1 sd below mean:\n",
      "Eyal    5\n",
      "dtype: int64\n"
     ]
    }
   ],
   "source": [
    "age = Series([47,46,19,16,12,5,67],index=('Roee Einat talia Raz Noga Eyal Shosy').split())\n",
    "print (f'Over the mean:\\n{age.loc[age>age.mean()]}\\n')\n",
    "print (f'1 sd below mean:\\n{age.loc[age<(age.mean()-age.std())]}')"
   ]
  },
  {
   "cell_type": "code",
   "execution_count": 47,
   "id": "8e631f8d",
   "metadata": {},
   "outputs": [
    {
     "data": {
      "text/plain": [
       "02    64\n",
       "03    64\n",
       "04    66\n",
       "05    68\n",
       "06    66\n",
       "07    68\n",
       "08    66\n",
       "09    68\n",
       "10    69\n",
       "11    66\n",
       "dtype: int8"
      ]
     },
     "execution_count": 47,
     "metadata": {},
     "output_type": "execute_result"
    }
   ],
   "source": [
    "highs = Series([18, 18, 19, 20, 19, 20, 19, 20, 21, 19],\n",
    "              index='02 03 04 05 06 07 08 09 10 11'.split())\n",
    "lows = Series([6, 8, 8, 9, 8, 9, 8, 9, 8, 7],\n",
    "              index='02 03 04 05 06 07 08 09 10 11'.split())\n",
    "\n",
    "highs = highs*1.8 + 32\n",
    "\n",
    "highs = highs.astype('int8')\n",
    "highs"
   ]
  },
  {
   "cell_type": "code",
   "execution_count": 54,
   "id": "989eb782",
   "metadata": {},
   "outputs": [
    {
     "name": "stdout",
     "output_type": "stream",
     "text": [
      "19.3\n",
      "0.9486832980505138\n",
      "19.285714285714285\n",
      "1.1126972805283735\n"
     ]
    }
   ],
   "source": [
    "import numpy as np\n",
    "highs = Series([18, 18, 19, 20, 19, 20, 19, 20, 21, 19],\n",
    "              index='02 03 04 05 06 07 08 09 10 11'.split())\n",
    "print (highs.mean())\n",
    "print (highs.std())\n",
    "\n",
    "highs['04':'06'] = np.nan\n",
    "\n",
    "highs.fillna(highs.max())\n",
    "highs\n",
    "print (highs.mean())\n",
    "print (highs.std())\n"
   ]
  }
 ],
 "metadata": {
  "kernelspec": {
   "display_name": "Python 3 (ipykernel)",
   "language": "python",
   "name": "python3"
  },
  "language_info": {
   "codemirror_mode": {
    "name": "ipython",
    "version": 3
   },
   "file_extension": ".py",
   "mimetype": "text/x-python",
   "name": "python",
   "nbconvert_exporter": "python",
   "pygments_lexer": "ipython3",
   "version": "3.12.7"
  }
 },
 "nbformat": 4,
 "nbformat_minor": 5
}
