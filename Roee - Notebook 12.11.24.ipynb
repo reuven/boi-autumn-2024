{
 "cells": [
  {
   "cell_type": "code",
   "execution_count": 3,
   "id": "b5c0f603",
   "metadata": {},
   "outputs": [
    {
     "name": "stdout",
     "output_type": "stream",
     "text": [
      "Enter you name: Roee\n",
      "Enter your city: Jerusalem\n",
      "hello Roee from Jerusalem!\n"
     ]
    }
   ],
   "source": [
    "name = input('Enter you name: ')\n",
    "city = input('Enter your city: ')\n",
    "\n",
    "print ('Hello ' + name + ' from ' + city +'!')"
   ]
  },
  {
   "cell_type": "code",
   "execution_count": 6,
   "id": "e99230b6",
   "metadata": {},
   "outputs": [
    {
     "name": "stdout",
     "output_type": "stream",
     "text": [
      "Hello Roee from Jerusalem !\n"
     ]
    }
   ],
   "source": [
    "print (f'Hello {name} from {city} !')"
   ]
  },
  {
   "cell_type": "code",
   "execution_count": 8,
   "id": "03fa4f83",
   "metadata": {},
   "outputs": [
    {
     "name": "stdout",
     "output_type": "stream",
     "text": [
      "Enter you name: Eyal\n",
      "Hello Eyal, nice to have you here\n"
     ]
    }
   ],
   "source": [
    "name = input('Enter you name: ')\n",
    "\n",
    "if name == 'Roee':\n",
    "    print (f'Hello {name} the champ')\n",
    "else:\n",
    "    print (f'Hello {name}, nice to have you here')\n",
    "    "
   ]
  },
  {
   "cell_type": "code",
   "execution_count": 11,
   "id": "639c34b0",
   "metadata": {},
   "outputs": [
    {
     "name": "stdout",
     "output_type": "stream",
     "text": [
      "Enter the first word: donky\n",
      "Enter the second word: donky\n",
      "donky equals donky\n"
     ]
    }
   ],
   "source": [
    "word1 = input('Enter the first word: ')\n",
    "word2 = input('Enter the second word: ')\n",
    "\n",
    "if word1 < word2:\n",
    "    print(f'{word1} comes before {word2}')\n",
    "elif word1 > word2:\n",
    "    print(f'{word2} comes before {word1}')\n",
    "else:\n",
    "    print(f'{word1} equals {word2}')"
   ]
  }
 ],
 "metadata": {
  "kernelspec": {
   "display_name": "Python 3 (ipykernel)",
   "language": "python",
   "name": "python3"
  },
  "language_info": {
   "codemirror_mode": {
    "name": "ipython",
    "version": 3
   },
   "file_extension": ".py",
   "mimetype": "text/x-python",
   "name": "python",
   "nbconvert_exporter": "python",
   "pygments_lexer": "ipython3",
   "version": "3.12.7"
  }
 },
 "nbformat": 4,
 "nbformat_minor": 5
}
