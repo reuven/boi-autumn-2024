{
 "cells": [
  {
   "cell_type": "code",
   "execution_count": 4,
   "id": "137148b1",
   "metadata": {},
   "outputs": [
    {
     "ename": "IndentationError",
     "evalue": "unexpected indent (2655079632.py, line 7)",
     "output_type": "error",
     "traceback": [
      "\u001b[0;36m  Cell \u001b[0;32mIn[4], line 7\u001b[0;36m\u001b[0m\n\u001b[0;31m    elif one_character.isdigit():\u001b[0m\n\u001b[0m    ^\u001b[0m\n\u001b[0;31mIndentationError\u001b[0m\u001b[0;31m:\u001b[0m unexpected indent\n"
     ]
    }
   ],
   "source": [
    "digits = 0\n",
    "vowels = 0\n",
    "others = 0\n",
    "put_text = input ('write your text or numbers:').strip()\n",
    "for one_character in put_text:\n",
    "    if one_character in 'aeiou': \n",
    "    vowels += 1\n",
    "        elif one_character.isdigit():\n",
    "            digits += 1\n",
    "    else\n",
    "    others += 1\n",
    "        total += int(one_character) # += אומר שאני מוסיף אחד\n",
    "\n",
    "print(f'digits = {digits}')        \n",
    "print(f'vowels = {vowels}')\n",
    "print(f'others = {others}')\n",
    "        "
   ]
  },
  {
   "cell_type": "code",
   "execution_count": null,
   "id": "ad34e01b",
   "metadata": {},
   "outputs": [],
   "source": [
    "digits = []\n",
    "vowels = []\n",
    "others = []\n",
    "while true \n",
    "    text = input('Enter your text: ').strip()\n",
    "    if text in 'aeiou':  \n",
    "        vowels += 1\n",
    "    if text == '':\n",
    "        \n",
    "    "
   ]
  },
  {
   "cell_type": "code",
   "execution_count": null,
   "id": "8bc61faf",
   "metadata": {},
   "outputs": [],
   "source": [
    "word = input('Enter word: ').strip()\n",
    "\n",
    "if word[0] in 'aeiou':    # if the word starts with a vowel, add 'way'\n",
    "    print(word + 'way')\n",
    "else:\n",
    "    print(word[1:] + word[0] + 'ay')   # otherwise, first letter to end, add 'ay'"
   ]
  }
 ],
 "metadata": {
  "kernelspec": {
   "display_name": "Python 3 (ipykernel)",
   "language": "python",
   "name": "python3"
  },
  "language_info": {
   "codemirror_mode": {
    "name": "ipython",
    "version": 3
   },
   "file_extension": ".py",
   "mimetype": "text/x-python",
   "name": "python",
   "nbconvert_exporter": "python",
   "pygments_lexer": "ipython3",
   "version": "3.12.7"
  }
 },
 "nbformat": 4,
 "nbformat_minor": 5
}
